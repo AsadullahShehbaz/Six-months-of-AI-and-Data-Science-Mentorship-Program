{
 "cells": [
  {
   "cell_type": "markdown",
   "id": "935267fb",
   "metadata": {},
   "source": [
    "# Day 14 Google PlayStore EDA "
   ]
  },
  {
   "cell_type": "markdown",
   "id": "fa8d72bc",
   "metadata": {},
   "source": [
    "1.Import libraries\\\n",
    "2.Import Dataset\\\n",
    "3.Check the data by info()\\\n",
    "4.Lets have a look of data\\\n",
    "5.Take Sample from big data\\\n",
    "6.Generate Summary Statistics of data\\\n",
    "7.Analyze numeric variable and encode them to numeric\\\n",
    "> 1.Size\\\n",
    "> 2.Price\\\n",
    "> 3.Installs"
   ]
  },
  {
   "cell_type": "markdown",
   "id": "ac6f406f",
   "metadata": {},
   "source": [
    "## 1.Import Libraries"
   ]
  },
  {
   "cell_type": "code",
   "execution_count": null,
   "id": "efd5a791",
   "metadata": {},
   "outputs": [],
   "source": [
    "import pandas as pd\n",
    "import numpy as np\n",
    "import seaborn as sns\n",
    "import matplotlib.pyplot as plt"
   ]
  },
  {
   "cell_type": "code",
   "execution_count": null,
   "id": "a082184d",
   "metadata": {},
   "outputs": [],
   "source": [
    "df = pd.read_csv('./data/googleplaystore.csv')"
   ]
  },
  {
   "cell_type": "markdown",
   "id": "35e6d9a7",
   "metadata": {},
   "source": [
    "## Auto EDA Using ydata_profiling"
   ]
  },
  {
   "cell_type": "code",
   "execution_count": null,
   "id": "74577043",
   "metadata": {},
   "outputs": [],
   "source": [
    "# Run Auto EDA using ydata-profiling\n",
    "# import ydata_profiling as yd\n",
    "# profile = yd.ProfileReport(df)\n",
    "# profile.to_file(output_file= \"./data/Auto_EDA.html\")"
   ]
  },
  {
   "cell_type": "markdown",
   "id": "58d1571f",
   "metadata": {},
   "source": [
    "# 2.Check the data "
   ]
  },
  {
   "cell_type": "code",
   "execution_count": null,
   "id": "3b24c2bb",
   "metadata": {},
   "outputs": [],
   "source": [
    "df.info()"
   ]
  },
  {
   "cell_type": "markdown",
   "id": "9ddd6f0d",
   "metadata": {},
   "source": [
    "# 3.Lets have a look at the first 5 rows of the dataset\n"
   ]
  },
  {
   "cell_type": "code",
   "execution_count": null,
   "id": "23465fc4",
   "metadata": {},
   "outputs": [],
   "source": [
    "df.head()"
   ]
  },
  {
   "cell_type": "markdown",
   "id": "98e7b713",
   "metadata": {},
   "source": [
    "# 4.Take sample from big dataset"
   ]
  },
  {
   "cell_type": "code",
   "execution_count": null,
   "id": "f07ea42a",
   "metadata": {},
   "outputs": [],
   "source": [
    "df.sample(4)"
   ]
  },
  {
   "cell_type": "markdown",
   "id": "103ac707",
   "metadata": {},
   "source": [
    "# 5.Check summary statistics of the dataset\n"
   ]
  },
  {
   "cell_type": "code",
   "execution_count": null,
   "id": "7c933021",
   "metadata": {},
   "outputs": [],
   "source": [
    "df.describe().T"
   ]
  },
  {
   "cell_type": "markdown",
   "id": "b10e49b4",
   "metadata": {},
   "source": [
    "# 6.Analyze numeric variable and encode them to numerical variables\n",
    "```\n",
    "1.Size\n",
    "2.Price\n",
    "3.Installs\n",
    "4.Reviews\n",
    "```\n"
   ]
  },
  {
   "cell_type": "markdown",
   "id": "0e2def7b",
   "metadata": {},
   "source": [
    "### 1.Encoding Reviews Column"
   ]
  },
  {
   "cell_type": "code",
   "execution_count": null,
   "id": "846d82dd",
   "metadata": {},
   "outputs": [],
   "source": [
    "# 1.Change datatype of 'Reviews' column to int64\n",
    "# df['Reviews'] = df['Reviews'].str.replace(',','').astype('int64')"
   ]
  },
  {
   "cell_type": "markdown",
   "id": "70650483",
   "metadata": {},
   "source": [
    "### 2.Encoding Size Column"
   ]
  },
  {
   "cell_type": "code",
   "execution_count": null,
   "id": "fd4f6e4e",
   "metadata": {},
   "outputs": [],
   "source": [
    "# print(f\"1 KB in MB = {1/1024} MB\")\n",
    "# print(df['Size'].value_counts())\n",
    "df['Size'] = df['Size'].replace('Varies with device', np.nan)\n",
    "# Convert KBs to MB\n",
    "df['Size'] = df['Size'].apply(lambda x: float(x.replace('k', ''))/1024 if    'k' in str(x) \n",
    "                         else float(x.replace('M', '')) if 'M' in str(x) \n",
    "                         else float(x))"
   ]
  },
  {
   "cell_type": "markdown",
   "id": "bd986db3",
   "metadata": {},
   "source": [
    "### 3.Encoding Price Column "
   ]
  },
  {
   "cell_type": "code",
   "execution_count": null,
   "id": "59b89b2a",
   "metadata": {},
   "outputs": [],
   "source": [
    "# df['Price'].value_counts()\n",
    "df['Price'] = df['Price'].apply(lambda x:x.replace(\"$\",\"\"))\n",
    "df['Price'] = pd.to_numeric(df['Price'])"
   ]
  },
  {
   "cell_type": "markdown",
   "id": "8bdaf436",
   "metadata": {},
   "source": [
    "### 4.Encoding Installs Column"
   ]
  },
  {
   "cell_type": "markdown",
   "id": "8edd4b8e",
   "metadata": {},
   "source": [
    "```\n",
    " First Method : To Numeric\n",
    "```"
   ]
  },
  {
   "cell_type": "code",
   "execution_count": null,
   "id": "b44f0fe7",
   "metadata": {},
   "outputs": [],
   "source": [
    "# df['Installs'].value_counts()\n",
    "df['Installs'] = df['Installs'].str.replace(\",\",\"\")\n",
    "df['Installs'] = df['Installs'].str.replace('+', '').astype(float)"
   ]
  },
  {
   "cell_type": "markdown",
   "id": "d78297e8",
   "metadata": {},
   "source": [
    "```\n",
    "Second Method : Binning (Make groups from install column)\n",
    "```"
   ]
  },
  {
   "cell_type": "code",
   "execution_count": null,
   "id": "2fe02036",
   "metadata": {},
   "outputs": [
    {
     "data": {
      "text/plain": [
       "Installs\n",
       "1.000000e+06    1579\n",
       "1.000000e+07    1252\n",
       "1.000000e+05    1169\n",
       "1.000000e+04    1054\n",
       "1.000000e+03     908\n",
       "5.000000e+06     752\n",
       "1.000000e+02     719\n",
       "5.000000e+05     539\n",
       "5.000000e+04     479\n",
       "5.000000e+03     477\n",
       "1.000000e+08     409\n",
       "1.000000e+01     386\n",
       "5.000000e+02     330\n",
       "5.000000e+07     289\n",
       "5.000000e+01     205\n",
       "5.000000e+00      82\n",
       "5.000000e+08      72\n",
       "1.000000e+00      67\n",
       "1.000000e+09      58\n",
       "0.000000e+00      15\n",
       "Name: count, dtype: int64"
      ]
     },
     "execution_count": 111,
     "metadata": {},
     "output_type": "execute_result"
    }
   ],
   "source": [
    "bins = [0,1,500,5000,500000,1000000]\n",
    "labels = [\"None\",\"Low\",\"Medium\",\"High\",\"Very High\"]\n",
    "df['Installs_group'] = pd.cut(df['Installs'],bins=bins,labels=labels)"
   ]
  },
  {
   "cell_type": "code",
   "execution_count": 115,
   "id": "f373f10e",
   "metadata": {},
   "outputs": [
    {
     "data": {
      "text/html": [
       "<div>\n",
       "<style scoped>\n",
       "    .dataframe tbody tr th:only-of-type {\n",
       "        vertical-align: middle;\n",
       "    }\n",
       "\n",
       "    .dataframe tbody tr th {\n",
       "        vertical-align: top;\n",
       "    }\n",
       "\n",
       "    .dataframe thead th {\n",
       "        text-align: right;\n",
       "    }\n",
       "</style>\n",
       "<table border=\"1\" class=\"dataframe\">\n",
       "  <thead>\n",
       "    <tr style=\"text-align: right;\">\n",
       "      <th></th>\n",
       "      <th>Rating</th>\n",
       "      <th>Reviews</th>\n",
       "      <th>Size</th>\n",
       "      <th>Installs</th>\n",
       "      <th>Price</th>\n",
       "    </tr>\n",
       "  </thead>\n",
       "  <tbody>\n",
       "    <tr>\n",
       "      <th>count</th>\n",
       "      <td>9367.000000</td>\n",
       "      <td>1.084100e+04</td>\n",
       "      <td>9146.000000</td>\n",
       "      <td>1.084100e+04</td>\n",
       "      <td>10841.000000</td>\n",
       "    </tr>\n",
       "    <tr>\n",
       "      <th>mean</th>\n",
       "      <td>4.191513</td>\n",
       "      <td>4.441119e+05</td>\n",
       "      <td>21.514141</td>\n",
       "      <td>1.546291e+07</td>\n",
       "      <td>1.027273</td>\n",
       "    </tr>\n",
       "    <tr>\n",
       "      <th>std</th>\n",
       "      <td>0.515735</td>\n",
       "      <td>2.927629e+06</td>\n",
       "      <td>22.588679</td>\n",
       "      <td>8.502557e+07</td>\n",
       "      <td>15.948971</td>\n",
       "    </tr>\n",
       "    <tr>\n",
       "      <th>min</th>\n",
       "      <td>1.000000</td>\n",
       "      <td>0.000000e+00</td>\n",
       "      <td>0.008301</td>\n",
       "      <td>0.000000e+00</td>\n",
       "      <td>0.000000</td>\n",
       "    </tr>\n",
       "    <tr>\n",
       "      <th>25%</th>\n",
       "      <td>4.000000</td>\n",
       "      <td>3.800000e+01</td>\n",
       "      <td>4.900000</td>\n",
       "      <td>1.000000e+03</td>\n",
       "      <td>0.000000</td>\n",
       "    </tr>\n",
       "    <tr>\n",
       "      <th>50%</th>\n",
       "      <td>4.300000</td>\n",
       "      <td>2.094000e+03</td>\n",
       "      <td>13.000000</td>\n",
       "      <td>1.000000e+05</td>\n",
       "      <td>0.000000</td>\n",
       "    </tr>\n",
       "    <tr>\n",
       "      <th>75%</th>\n",
       "      <td>4.500000</td>\n",
       "      <td>5.476800e+04</td>\n",
       "      <td>30.000000</td>\n",
       "      <td>5.000000e+06</td>\n",
       "      <td>0.000000</td>\n",
       "    </tr>\n",
       "    <tr>\n",
       "      <th>max</th>\n",
       "      <td>5.000000</td>\n",
       "      <td>7.815831e+07</td>\n",
       "      <td>100.000000</td>\n",
       "      <td>1.000000e+09</td>\n",
       "      <td>400.000000</td>\n",
       "    </tr>\n",
       "  </tbody>\n",
       "</table>\n",
       "</div>"
      ],
      "text/plain": [
       "            Rating       Reviews         Size      Installs         Price\n",
       "count  9367.000000  1.084100e+04  9146.000000  1.084100e+04  10841.000000\n",
       "mean      4.191513  4.441119e+05    21.514141  1.546291e+07      1.027273\n",
       "std       0.515735  2.927629e+06    22.588679  8.502557e+07     15.948971\n",
       "min       1.000000  0.000000e+00     0.008301  0.000000e+00      0.000000\n",
       "25%       4.000000  3.800000e+01     4.900000  1.000000e+03      0.000000\n",
       "50%       4.300000  2.094000e+03    13.000000  1.000000e+05      0.000000\n",
       "75%       4.500000  5.476800e+04    30.000000  5.000000e+06      0.000000\n",
       "max       5.000000  7.815831e+07   100.000000  1.000000e+09    400.000000"
      ]
     },
     "execution_count": 115,
     "metadata": {},
     "output_type": "execute_result"
    }
   ],
   "source": [
    "df.describe()"
   ]
  }
 ],
 "metadata": {
  "kernelspec": {
   "display_name": "pythoneda",
   "language": "python",
   "name": "python3"
  },
  "language_info": {
   "codemirror_mode": {
    "name": "ipython",
    "version": 3
   },
   "file_extension": ".py",
   "mimetype": "text/x-python",
   "name": "python",
   "nbconvert_exporter": "python",
   "pygments_lexer": "ipython3",
   "version": "3.13.2"
  }
 },
 "nbformat": 4,
 "nbformat_minor": 5
}
