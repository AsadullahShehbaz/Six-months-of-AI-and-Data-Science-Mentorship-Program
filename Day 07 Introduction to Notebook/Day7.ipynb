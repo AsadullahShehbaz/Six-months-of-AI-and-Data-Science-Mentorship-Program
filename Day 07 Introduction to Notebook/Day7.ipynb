{
 "cells": [
  {
   "cell_type": "markdown",
   "id": "7cc6610b",
   "metadata": {},
   "source": [
    "# File Handling and Notebook "
   ]
  },
  {
   "cell_type": "code",
   "execution_count": 1,
   "id": "948565b2",
   "metadata": {},
   "outputs": [],
   "source": [
    "import pandas as pd\n",
    "import seaborn as sns \n",
    "df = sns.load_dataset('titanic')"
   ]
  },
  {
   "cell_type": "markdown",
   "id": "826e4b1e",
   "metadata": {},
   "source": [
    "## Most objects in Python, such as lists, dicts, NumPy arrays, and most user-defined types (classes), are mutable. \n",
    "## This means that the object or values that they contain can be modified"
   ]
  },
  {
   "cell_type": "code",
   "execution_count": 15,
   "id": "97d06afc",
   "metadata": {},
   "outputs": [
    {
     "data": {
      "text/plain": [
       "13"
      ]
     },
     "execution_count": 15,
     "metadata": {},
     "output_type": "execute_result"
    }
   ],
   "source": [
    "list = [1,3,4,7,22,11,12,20,13,65,66,69]\n",
    "list[:-3]\n",
    "\n",
    "sum = lambda i:i+5\n",
    "sum(8)"
   ]
  }
 ],
 "metadata": {
  "kernelspec": {
   "display_name": "pythoneda",
   "language": "python",
   "name": "python3"
  },
  "language_info": {
   "codemirror_mode": {
    "name": "ipython",
    "version": 3
   },
   "file_extension": ".py",
   "mimetype": "text/x-python",
   "name": "python",
   "nbconvert_exporter": "python",
   "pygments_lexer": "ipython3",
   "version": "3.13.2"
  }
 },
 "nbformat": 4,
 "nbformat_minor": 5
}
