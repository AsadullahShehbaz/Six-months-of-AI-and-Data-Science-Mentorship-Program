{
 "cells": [
  {
   "cell_type": "markdown",
   "id": "7e3292b3",
   "metadata": {},
   "source": [
    "# Automatic EDA (ydata-profiling )"
   ]
  },
  {
   "cell_type": "code",
   "execution_count": null,
   "id": "bea80592",
   "metadata": {},
   "outputs": [],
   "source": [
    "# import libraries\n",
    "import pandas as pd\n",
    "import seaborn as sns\n",
    "import ydata_profiling as yp\n"
   ]
  },
  {
   "cell_type": "code",
   "execution_count": 2,
   "id": "f6bfdc32",
   "metadata": {},
   "outputs": [],
   "source": [
    "# load the dataset\n",
    "df = sns.load_dataset(\"titanic\")"
   ]
  },
  {
   "cell_type": "code",
   "execution_count": null,
   "id": "f6f15fc2",
   "metadata": {},
   "outputs": [],
   "source": [
    "# ydata profiling report\n",
    "profile =yp.ProfileReport(df)\n",
    "profile.to_file(output_file=\"./outputs/ydata_titanic_report.html\")"
   ]
  },
  {
   "cell_type": "markdown",
   "id": "29cc9d2a",
   "metadata": {},
   "source": [
    "# Do it for Pak Population Dataset"
   ]
  },
  {
   "cell_type": "code",
   "execution_count": 7,
   "id": "9fb995a7",
   "metadata": {},
   "outputs": [
    {
     "name": "stderr",
     "output_type": "stream",
     "text": [
      "100%|██████████| 21/21 [00:00<00:00, 44.00it/s]0<00:00, 35.12it/s, Describe variable: ANNUAL GROWTH RATE (URBAN)]\n",
      "Summarize dataset: 100%|██████████| 319/319 [01:27<00:00,  3.64it/s, Completed]                                                     \n",
      "Generate report structure: 100%|██████████| 1/1 [00:17<00:00, 17.91s/it]\n",
      "Render HTML: 100%|██████████| 1/1 [00:26<00:00, 26.44s/it]\n",
      "Export report to file: 100%|██████████| 1/1 [00:00<00:00,  5.18it/s]\n"
     ]
    }
   ],
   "source": [
    "# Do it for Pak Population Dataset\n",
    "df_pak = pd.read_csv(\"../Day 12 EDA/pakistan.csv\")\n",
    "profile = yp.ProfileReport(df_pak)\n",
    "profile.to_file(output_file= \"../Day 12 EDA/Auto_EDA_Pak.html\")"
   ]
  }
 ],
 "metadata": {
  "kernelspec": {
   "display_name": "ydata_profiling",
   "language": "python",
   "name": "python3"
  },
  "language_info": {
   "codemirror_mode": {
    "name": "ipython",
    "version": 3
   },
   "file_extension": ".py",
   "mimetype": "text/x-python",
   "name": "python",
   "nbconvert_exporter": "python",
   "pygments_lexer": "ipython3",
   "version": "3.10.0"
  }
 },
 "nbformat": 4,
 "nbformat_minor": 5
}
