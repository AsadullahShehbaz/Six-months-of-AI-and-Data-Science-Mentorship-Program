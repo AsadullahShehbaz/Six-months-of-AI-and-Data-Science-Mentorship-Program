{
 "cells": [
  {
   "cell_type": "markdown",
   "id": "559218d7",
   "metadata": {},
   "source": [
    "# **Pandas (Day-1)**"
   ]
  },
  {
   "cell_type": "code",
   "execution_count": 22,
   "id": "131e58aa",
   "metadata": {},
   "outputs": [],
   "source": [
    "import pandas as pd\n",
    "import numpy as np\n",
    "import seaborn as sns\n",
    "import matplotlib.pyplot as plt"
   ]
  },
  {
   "cell_type": "code",
   "execution_count": null,
   "id": "291f0687",
   "metadata": {},
   "outputs": [],
   "source": [
    "pd.__version__"
   ]
  },
  {
   "cell_type": "code",
   "execution_count": null,
   "id": "471f61ea",
   "metadata": {},
   "outputs": [],
   "source": [
    "df= pd.read_csv(\"./Pakistan/pakistan.csv\")"
   ]
  },
  {
   "cell_type": "code",
   "execution_count": null,
   "id": "f68bf6b4",
   "metadata": {},
   "outputs": [],
   "source": [
    "df.head()"
   ]
  },
  {
   "cell_type": "code",
   "execution_count": null,
   "id": "41951037",
   "metadata": {},
   "outputs": [],
   "source": [
    "df.columns"
   ]
  },
  {
   "cell_type": "code",
   "execution_count": null,
   "id": "fccb2fe6",
   "metadata": {},
   "outputs": [],
   "source": [
    "sns.barplot(data=df,x=\"PROVINCE\",y=\"POPULATION 1998 (RURAL)\",hue=\"ALL SEXES (RURAL)\",color=\"green\")"
   ]
  },
  {
   "cell_type": "code",
   "execution_count": null,
   "id": "d60f27f1",
   "metadata": {},
   "outputs": [],
   "source": [
    "528*21"
   ]
  }
 ],
 "metadata": {
  "kernelspec": {
   "display_name": "pythoneda",
   "language": "python",
   "name": "python3"
  },
  "language_info": {
   "codemirror_mode": {
    "name": "ipython",
    "version": 3
   },
   "file_extension": ".py",
   "mimetype": "text/x-python",
   "name": "python",
   "nbconvert_exporter": "python",
   "pygments_lexer": "ipython3",
   "version": "3.13.2"
  }
 },
 "nbformat": 4,
 "nbformat_minor": 5
}
