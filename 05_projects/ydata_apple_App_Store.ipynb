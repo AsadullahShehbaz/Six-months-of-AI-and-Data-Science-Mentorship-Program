{
 "cells": [
  {
   "cell_type": "code",
   "execution_count": 1,
   "id": "1453add9",
   "metadata": {},
   "outputs": [
    {
     "name": "stderr",
     "output_type": "stream",
     "text": [
      "d:\\Users\\Asadullah Core\\Apps\\AS\\envs\\ydata_profiling\\lib\\site-packages\\tqdm\\auto.py:21: TqdmWarning: IProgress not found. Please update jupyter and ipywidgets. See https://ipywidgets.readthedocs.io/en/stable/user_install.html\n",
      "  from .autonotebook import tqdm as notebook_tqdm\n"
     ]
    },
    {
     "data": {
      "text/html": [
       "\n",
       "            <div>\n",
       "                <ins><a href=\"https://ydata.ai/register\">Upgrade to ydata-sdk</a></ins>\n",
       "                <p>\n",
       "                    Improve your data and profiling with ydata-sdk, featuring data quality scoring, redundancy detection, outlier identification, text validation, and synthetic data generation.\n",
       "                </p>\n",
       "            </div>\n",
       "            "
      ],
      "text/plain": [
       "<IPython.core.display.HTML object>"
      ]
     },
     "metadata": {},
     "output_type": "display_data"
    }
   ],
   "source": [
    "import pandas as pd\n",
    "import ydata_profiling as yp\n",
    "df1 = pd.read_csv('../data/appleAppData.csv')"
   ]
  },
  {
   "cell_type": "code",
   "execution_count": 2,
   "id": "16c14f44",
   "metadata": {},
   "outputs": [
    {
     "name": "stderr",
     "output_type": "stream",
     "text": [
      "100%|██████████| 21/21 [05:55<00:00, 16.91s/it]2<00:39,  7.91s/it, Describe variable: Current_Version_Reviews]\n",
      "Summarize dataset: 100%|██████████| 80/80 [07:35<00:00,  5.69s/it, Completed]                                               \n",
      "Generate report structure: 100%|██████████| 1/1 [00:39<00:00, 39.09s/it]\n",
      "Render HTML: 100%|██████████| 1/1 [00:09<00:00,  9.54s/it]\n",
      "Export report to file: 100%|██████████| 1/1 [00:00<00:00, 12.51it/s]\n"
     ]
    }
   ],
   "source": [
    "profile = yp.ProfileReport(df1)\n",
    "profile.to_file(output_file= \"../outputs/ydata_apple_store.html\")"
   ]
  }
 ],
 "metadata": {
  "kernelspec": {
   "display_name": "ydata_profiling",
   "language": "python",
   "name": "python3"
  },
  "language_info": {
   "codemirror_mode": {
    "name": "ipython",
    "version": 3
   },
   "file_extension": ".py",
   "mimetype": "text/x-python",
   "name": "python",
   "nbconvert_exporter": "python",
   "pygments_lexer": "ipython3",
   "version": "3.10.0"
  }
 },
 "nbformat": 4,
 "nbformat_minor": 5
}
