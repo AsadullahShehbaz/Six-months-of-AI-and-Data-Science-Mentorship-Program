{
 "cells": [
  {
   "cell_type": "markdown",
   "id": "15c39d66",
   "metadata": {},
   "source": [
    "# **Numpy Introduction**\n",
    "Date : 10 May 2025 <br>Day : Saturday"
   ]
  },
  {
   "cell_type": "markdown",
   "id": "dfc9f4be",
   "metadata": {},
   "source": [
    "## 🧠 **What is a NumPy Array?**\n",
    "A NumPy array is a powerful data structure provided by the NumPy (Numerical Python) library, used in Python for numerical and scientific computing. It is known as ndarray (n-dimensional array).\n",
    "\n",
    "## ✅ **Key Features:**\n",
    "- **Multidimensional:** It can be 1D (like a list), 2D (like a matrix), or higher dimensions.\n",
    "\n",
    "- **Homogeneous:** All elements in a NumPy array are of the same data type.\n",
    "\n",
    "- **Faster:** More efficient than Python lists due to optimized memory storage and operations."
   ]
  },
  {
   "cell_type": "markdown",
   "id": "f17fe413",
   "metadata": {},
   "source": [
    "## Import Library"
   ]
  },
  {
   "cell_type": "code",
   "execution_count": 2,
   "id": "553ffef5",
   "metadata": {},
   "outputs": [],
   "source": [
    "import numpy as np "
   ]
  },
  {
   "cell_type": "markdown",
   "id": "943b780a",
   "metadata": {},
   "source": [
    "## 1. One Dimentional Array"
   ]
  },
  {
   "cell_type": "code",
   "execution_count": 5,
   "id": "66e6e199",
   "metadata": {},
   "outputs": [
    {
     "name": "stdout",
     "output_type": "stream",
     "text": [
      "[0 1 2 3 4 5]\n"
     ]
    }
   ],
   "source": [
    "a= np.arange(6)\n",
    "print(a)"
   ]
  },
  {
   "cell_type": "code",
   "execution_count": 22,
   "id": "28a2854c",
   "metadata": {},
   "outputs": [
    {
     "name": "stdout",
     "output_type": "stream",
     "text": [
      "['Name' 'Competition' 'Codes' 'Rank' 'Discussions']\n"
     ]
    },
    {
     "data": {
      "text/plain": [
       "(5,)"
      ]
     },
     "execution_count": 22,
     "metadata": {},
     "output_type": "execute_result"
    }
   ],
   "source": [
    "array = np.array(['Name','Competition','Codes','Rank','Discussions'])\n",
    "print(array)\n",
    "array.shape"
   ]
  },
  {
   "cell_type": "markdown",
   "id": "55b3f7b2",
   "metadata": {},
   "source": [
    "## 2. Two Dimentional Array"
   ]
  },
  {
   "cell_type": "code",
   "execution_count": 15,
   "id": "18317b99",
   "metadata": {},
   "outputs": [
    {
     "name": "stdout",
     "output_type": "stream",
     "text": [
      "[[0 1 2 3 4 5]]\n"
     ]
    },
    {
     "data": {
      "text/plain": [
       "(1, 6)"
      ]
     },
     "execution_count": 15,
     "metadata": {},
     "output_type": "execute_result"
    }
   ],
   "source": [
    "a2 = a[np.newaxis, :]\n",
    "print(a2)\n",
    "a2.shape"
   ]
  },
  {
   "cell_type": "code",
   "execution_count": 21,
   "id": "6d0f45c7",
   "metadata": {},
   "outputs": [
    {
     "name": "stdout",
     "output_type": "stream",
     "text": [
      "[['Name' 'Rank' 'Subscribers']\n",
      " ['Ahmed' '3+' '50K']\n",
      " ['Abdullah' '1+' '500K']]\n"
     ]
    },
    {
     "data": {
      "text/plain": [
       "(3, 3)"
      ]
     },
     "execution_count": 21,
     "metadata": {},
     "output_type": "execute_result"
    }
   ],
   "source": [
    "table = np.array([('Name','Rank','Subscribers'),('Ahmed','3+','50K'),('Abdullah','1+','500K')])\n",
    "print(table)\n",
    "table.shape\n"
   ]
  },
  {
   "cell_type": "markdown",
   "id": "0d710a7d",
   "metadata": {},
   "source": [
    "## 3. Three Dimentional Array "
   ]
  },
  {
   "cell_type": "code",
   "execution_count": 17,
   "id": "8dc1cdd7",
   "metadata": {},
   "outputs": [
    {
     "name": "stdout",
     "output_type": "stream",
     "text": [
      "[[[0 1 2 3 4 5]]]\n"
     ]
    },
    {
     "data": {
      "text/plain": [
       "(1, 1, 6)"
      ]
     },
     "execution_count": 17,
     "metadata": {},
     "output_type": "execute_result"
    }
   ],
   "source": [
    "a3 = a2[np.newaxis,:]\n",
    "print(a3)\n",
    "a3.shape"
   ]
  },
  {
   "cell_type": "markdown",
   "id": "8bdccafa",
   "metadata": {},
   "source": [
    "## Data Type of Array "
   ]
  },
  {
   "cell_type": "code",
   "execution_count": 33,
   "id": "b936c030",
   "metadata": {},
   "outputs": [
    {
     "name": "stdout",
     "output_type": "stream",
     "text": [
      "Data of Array : int64\n",
      "Type of Array : <class 'numpy.ndarray'>\n"
     ]
    }
   ],
   "source": [
    "print(f\"Data of Array : {a.dtype}\")\n",
    "print(f\"Type of Array : {type(a)}\")"
   ]
  },
  {
   "cell_type": "markdown",
   "id": "e259c80d",
   "metadata": {},
   "source": [
    "## Array Attributes "
   ]
  },
  {
   "cell_type": "code",
   "execution_count": 39,
   "id": "0b870cf8",
   "metadata": {},
   "outputs": [
    {
     "name": "stdout",
     "output_type": "stream",
     "text": [
      "Array Shape : (6,)\n",
      "Array Dimension : 1\n",
      "Array Type : <class 'numpy.ndarray'>\n",
      "Array Data Type : int64\n",
      "Array Item Size : 8\n",
      "Array Size : 6\n",
      "Array Length : 6\n",
      "Array Data Size : 48\n"
     ]
    }
   ],
   "source": [
    "# check the numpy array attributes\n",
    "print(f\"Array Shape : {a.shape}\")\n",
    "print(f\"Array Dimension : {a.ndim}\")    \n",
    "print(f\"Array Type : {type(a)}\")\n",
    "print(f\"Array Data Type : {a.dtype}\")\n",
    "print(f\"Array Item Size : {a.itemsize}\")\n",
    "print(f\"Array Size : {a.size}\")\n",
    "print(f\"Array Length : {len(a)}\")\n",
    "print(f\"Array Data Size : {a.nbytes}\")"
   ]
  },
  {
   "cell_type": "markdown",
   "id": "2719494d",
   "metadata": {},
   "source": [
    "## Initialize Arrays\n"
   ]
  },
  {
   "cell_type": "code",
   "execution_count": 23,
   "id": "86ed4bf3",
   "metadata": {},
   "outputs": [
    {
     "data": {
      "text/plain": [
       "array([[0., 0., 0.],\n",
       "       [0., 0., 0.]])"
      ]
     },
     "execution_count": 23,
     "metadata": {},
     "output_type": "execute_result"
    }
   ],
   "source": [
    "# zeros matrix (numpy array having zeros)\n",
    "np.zeros((2,3)) "
   ]
  },
  {
   "cell_type": "code",
   "execution_count": 24,
   "id": "b4ada036",
   "metadata": {},
   "outputs": [
    {
     "data": {
      "text/plain": [
       "array([[1., 1., 1.],\n",
       "       [1., 1., 1.]])"
      ]
     },
     "execution_count": 24,
     "metadata": {},
     "output_type": "execute_result"
    }
   ],
   "source": [
    "# ones matrix (numpy array having ones)\n",
    "np.ones((2,3))"
   ]
  },
  {
   "cell_type": "code",
   "execution_count": 26,
   "id": "dbe280ea",
   "metadata": {},
   "outputs": [
    {
     "data": {
      "text/plain": [
       "array([[5, 5, 5],\n",
       "       [5, 5, 5]])"
      ]
     },
     "execution_count": 26,
     "metadata": {},
     "output_type": "execute_result"
    }
   ],
   "source": [
    "# full array (fill all indices with the same value)\n",
    "np.full((2,3),5)"
   ]
  },
  {
   "cell_type": "code",
   "execution_count": 29,
   "id": "906252b1",
   "metadata": {},
   "outputs": [
    {
     "data": {
      "text/plain": [
       "array([[1., 0., 0.],\n",
       "       [0., 1., 0.],\n",
       "       [0., 0., 1.]])"
      ]
     },
     "execution_count": 29,
     "metadata": {},
     "output_type": "execute_result"
    }
   ],
   "source": [
    "# identity matrix (numpy array having identity matrix)\n",
    "np.eye(3)"
   ]
  }
 ],
 "metadata": {
  "kernelspec": {
   "display_name": "pythoneda",
   "language": "python",
   "name": "python3"
  },
  "language_info": {
   "codemirror_mode": {
    "name": "ipython",
    "version": 3
   },
   "file_extension": ".py",
   "mimetype": "text/x-python",
   "name": "python",
   "nbconvert_exporter": "python",
   "pygments_lexer": "ipython3",
   "version": "3.13.2"
  }
 },
 "nbformat": 4,
 "nbformat_minor": 5
}
