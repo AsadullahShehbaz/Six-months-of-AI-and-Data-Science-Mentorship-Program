{
 "cells": [
  {
   "cell_type": "markdown",
   "id": "74dfd5ea",
   "metadata": {},
   "source": [
    "# **Handling Outliers (4 Techniques)**\n",
    "**4 May 2025 \n",
    "11:45PM (Sunday)**\n",
    "\n",
    "- ### **Removing the outlier:** This is the most common method where all detected outliers are removed from the dataset.\n",
    "- ### **Transforming and binning values:** Outliers can be transformed to bring them within a range. Techniques like log transformation or square root transformation can be used.\n",
    "- ### **Imputation:** Outliers can also be replaced with mean, median, or mode values.\n",
    "- ### **Separate treatment:** In some use-cases, it’s beneficial to treat outliers separately rather than removing or imputing them.\n",
    "- ### **Robus Statistical Methods:** Some of the statistical methods to analyze and model the data are less sensitive to outliers and provide more accurate results in the data."
   ]
  },
  {
   "cell_type": "code",
   "execution_count": 3,
   "id": "94dbf062",
   "metadata": {},
   "outputs": [],
   "source": [
    "# import libraries\n",
    "import pandas as pd\n",
    "import numpy as np\n",
    "from scipy import stats"
   ]
  },
  {
   "cell_type": "markdown",
   "id": "f214b464",
   "metadata": {},
   "source": [
    "# **1.The Z-Score Method**"
   ]
  },
  {
   "cell_type": "code",
   "execution_count": 23,
   "id": "20117561",
   "metadata": {},
   "outputs": [
    {
     "name": "stdout",
     "output_type": "stream",
     "text": [
      "Outliers are at indices: [6]\n",
      "Outlier values are: [20]\n",
      "Cleaned data: [10 12  9 13  8 11]\n"
     ]
    }
   ],
   "source": [
    "# 1. sample data \n",
    "data = np.array([10, 12, 9, 13, 8, 11, 20])  # Convert list to numpy array\n",
    "\n",
    "# 2. calculate z-score \n",
    "zscore = np.abs(stats.zscore(data))\n",
    "\n",
    "# 3. set threshold\n",
    "threshold = 2\n",
    "\n",
    "# Find indices of outliers\n",
    "outlier_indices = np.where(zscore > threshold)[0]\n",
    "\n",
    "# Extract outliers using indices\n",
    "outliers = data[outlier_indices]\n",
    "\n",
    "# Extract cleaned data (non-outliers)\n",
    "data_cleaned = data[zscore < threshold]\n",
    "\n",
    "print(f\"Outliers are at indices: {outlier_indices}\")\n",
    "print(f\"Outlier values are: {outliers}\")\n",
    "print(f\"Cleaned data: {data_cleaned}\")\n"
   ]
  },
  {
   "cell_type": "markdown",
   "id": "000d434b",
   "metadata": {},
   "source": [
    "**Explanation:**\n",
    "- Convert data to a NumPy array so that boolean or integer array indexing works.\n",
    "\n",
    "- Use np.where(zscore > threshold) to get the indices of the outliers.\n",
    "\n",
    "- Use these indices to extract outliers from data.\n",
    "\n",
    "- Use boolean indexing zscore < threshold to get the cleaned data without outliers.\n",
    "\n",
    "- This will correctly identify and print the outliers and the cleaned dataset.\n",
    "---\n",
    "# **2.IQR (Interquartile Range)**"
   ]
  },
  {
   "cell_type": "code",
   "execution_count": 26,
   "id": "d16cc83f",
   "metadata": {},
   "outputs": [
    {
     "name": "stdout",
     "output_type": "stream",
     "text": [
      "Outliers: []\n"
     ]
    }
   ],
   "source": [
    "# Sample data\n",
    "data = [10, 15, 20, 25, 30, 35, 40, 45, 50, 100]\n",
    "\n",
    "# Calculate the IQR\n",
    "q1, q3 = np.percentile(data, [25, 75])\n",
    "iqr = q3 - q1\n",
    "\n",
    "# Set a threshold for identifying outliers\n",
    "threshold = 3.5# Find outliers\n",
    "outliers = [x for x in data if (q1 - threshold * iqr) > x > (q3 + threshold * iqr)]\n",
    "\n",
    "print(\"Outliers:\", outliers)"
   ]
  },
  {
   "cell_type": "markdown",
   "id": "a28d888f",
   "metadata": {},
   "source": [
    "---\n",
    "# **3.Clustering (K-means)**"
   ]
  },
  {
   "cell_type": "code",
   "execution_count": null,
   "id": "9d50aef4",
   "metadata": {},
   "outputs": [
    {
     "name": "stdout",
     "output_type": "stream",
     "text": [
      "Outliers: [[30, 30], [31, 31], [32, 32]]\n"
     ]
    }
   ],
   "source": [
    "# Install library (run this in your terminal or notebook cell)\n",
    "# !pip install scikit-learn\n",
    "\n",
    "# Import library\n",
    "from sklearn.cluster import model\n",
    "\n",
    "# Sample data\n",
    "data = [[2, 2], [3, 3], [3, 4], [30, 30], [31, 31], [32, 32]]\n",
    "\n",
    "# Create a K-means model with two clusters (normal and outlier)\n",
    "model = model(n_clusters=2, random_state=42)\n",
    "model.fit(data)\n",
    "\n",
    "# Predict cluster labels\n",
    "labels = model.predict(data)\n",
    "\n",
    "# Extract outliers\n",
    "outlier = [data[i] for i , labels in enumerate(labels) if labels==1]\n",
    "\n",
    "print(\"Outliers:\", outliers)\n"
   ]
  },
  {
   "cell_type": "markdown",
   "id": "094aaeb9",
   "metadata": {},
   "source": [
    "---\n",
    "# **4.ML Algorithms (Isolation Forest)**\n",
    "- ### The Isolation Forest is an algorithm specifically designed for anomaly detection. \n",
    "- ### It works by creating isolation trees, where outliers are isolated in shorter trees compared to normal data points."
   ]
  },
  {
   "cell_type": "code",
   "execution_count": 29,
   "id": "bc1fa007",
   "metadata": {},
   "outputs": [
    {
     "name": "stdout",
     "output_type": "stream",
     "text": [
      "Outliers: [[2]]\n"
     ]
    }
   ],
   "source": [
    "from sklearn.ensemble import IsolationForest\n",
    "\n",
    "# Sample data\n",
    "data = [[2], [3], [4], [30], [31], [32]]\n",
    "\n",
    "# Create an Isolation Forest model\n",
    "model = IsolationForest(contamination=0.2)\n",
    "\n",
    "# Fit the model\n",
    "model.fit(data)\n",
    "\n",
    "# Predict outliers\n",
    "outliers = [data[i] for i , pred in enumerate(model.predict(data)) if pred==-1] \n",
    "print(\"Outliers:\", outliers)"
   ]
  }
 ],
 "metadata": {
  "kernelspec": {
   "display_name": "pythoneda",
   "language": "python",
   "name": "python3"
  },
  "language_info": {
   "codemirror_mode": {
    "name": "ipython",
    "version": 3
   },
   "file_extension": ".py",
   "mimetype": "text/x-python",
   "name": "python",
   "nbconvert_exporter": "python",
   "pygments_lexer": "ipython3",
   "version": "3.13.2"
  }
 },
 "nbformat": 4,
 "nbformat_minor": 5
}
