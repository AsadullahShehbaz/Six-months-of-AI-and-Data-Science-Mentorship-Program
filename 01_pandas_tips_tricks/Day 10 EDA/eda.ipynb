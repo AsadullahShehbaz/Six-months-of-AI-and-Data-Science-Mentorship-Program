{
 "cells": [
  {
   "cell_type": "markdown",
   "id": "24abfaa9",
   "metadata": {},
   "source": [
    "# Day 10 EDA"
   ]
  },
  {
   "cell_type": "code",
   "execution_count": null,
   "id": "3f53a4b4",
   "metadata": {},
   "outputs": [],
   "source": [
    "import pandas as pd\n",
    "import numpy as np\n",
    "import seaborn as sns\n",
    "import matplotlib.pyplot as plt\n"
   ]
  },
  {
   "cell_type": "code",
   "execution_count": null,
   "id": "838b50c9",
   "metadata": {},
   "outputs": [],
   "source": [
    "df = sns.load_dataset(\"titanic\")\n",
    "df.info()"
   ]
  },
  {
   "cell_type": "markdown",
   "id": "fe7e3f9a",
   "metadata": {},
   "source": [
    "# 1.Explore Data "
   ]
  },
  {
   "cell_type": "code",
   "execution_count": null,
   "id": "0bf69d0c",
   "metadata": {},
   "outputs": [],
   "source": [
    "df.describe()"
   ]
  },
  {
   "cell_type": "code",
   "execution_count": null,
   "id": "ed00d423",
   "metadata": {},
   "outputs": [],
   "source": [
    "df.isnull().sum() / len(df) * 100"
   ]
  },
  {
   "cell_type": "code",
   "execution_count": null,
   "id": "a7d21e7b",
   "metadata": {},
   "outputs": [],
   "source": [
    "sns.heatmap(df.isnull(),cbar=False)"
   ]
  },
  {
   "cell_type": "code",
   "execution_count": null,
   "id": "e3576ccd",
   "metadata": {},
   "outputs": [],
   "source": [
    "df['sex'].nunique()\n",
    "df['sex'].unique()"
   ]
  },
  {
   "cell_type": "code",
   "execution_count": null,
   "id": "c3aefacc",
   "metadata": {},
   "outputs": [],
   "source": [
    "df.nunique()"
   ]
  },
  {
   "cell_type": "code",
   "execution_count": null,
   "id": "eb4a1d28",
   "metadata": {},
   "outputs": [],
   "source": [
    "df['embark_town'].value_counts()"
   ]
  },
  {
   "cell_type": "code",
   "execution_count": null,
   "id": "99ec87b4",
   "metadata": {},
   "outputs": [],
   "source": [
    "df.groupby(['survived','sex'])['fare'].mean()"
   ]
  },
  {
   "cell_type": "code",
   "execution_count": null,
   "id": "6a496a5a",
   "metadata": {},
   "outputs": [],
   "source": [
    "df.groupby('pclass')['fare'].mean()"
   ]
  },
  {
   "cell_type": "markdown",
   "id": "0f517a73",
   "metadata": {},
   "source": [
    "# Value Counts"
   ]
  },
  {
   "cell_type": "code",
   "execution_count": null,
   "id": "791cb741",
   "metadata": {},
   "outputs": [],
   "source": [
    "df.groupby(['who','sex'])['sex'].value_counts()"
   ]
  },
  {
   "cell_type": "markdown",
   "id": "b3abd00c",
   "metadata": {},
   "source": [
    "# Correlation"
   ]
  },
  {
   "cell_type": "code",
   "execution_count": null,
   "id": "69f031fe",
   "metadata": {},
   "outputs": [],
   "source": [
    "corr=df[['fare','age','sibsp','parch']].corr()"
   ]
  },
  {
   "cell_type": "code",
   "execution_count": null,
   "id": "1746255d",
   "metadata": {},
   "outputs": [],
   "source": [
    "sns.heatmap(corr,annot=True,cmap='Greens')"
   ]
  },
  {
   "cell_type": "markdown",
   "id": "b5c82a71",
   "metadata": {},
   "source": [
    "# 2.Imputing Missing Values\n"
   ]
  },
  {
   "cell_type": "code",
   "execution_count": null,
   "id": "36844052",
   "metadata": {},
   "outputs": [],
   "source": [
    "# drop the column having 70 % missing values\n",
    "df.drop(columns='deck',axis=1,inplace=True)"
   ]
  },
  {
   "cell_type": "code",
   "execution_count": null,
   "id": "a82e3ece",
   "metadata": {},
   "outputs": [],
   "source": [
    "# filling missing values\n",
    "df['age'].fillna(df['age'].mean(),inplace=True)"
   ]
  },
  {
   "cell_type": "code",
   "execution_count": null,
   "id": "6434d823",
   "metadata": {},
   "outputs": [],
   "source": [
    "# fill values with mode \n",
    "df.embark_town.fillna(df.embark_town.mode()[0],inplace=True)\n",
    "df.embarked.fillna(df.embarked.mode()[0],inplace=True)"
   ]
  },
  {
   "cell_type": "code",
   "execution_count": null,
   "id": "6f04f3fe",
   "metadata": {},
   "outputs": [],
   "source": [
    "sns.heatmap(df.isnull())"
   ]
  },
  {
   "cell_type": "markdown",
   "id": "d17efe95",
   "metadata": {},
   "source": [
    "# Binning (Feature Engineering)"
   ]
  },
  {
   "cell_type": "code",
   "execution_count": null,
   "id": "2b8641ad",
   "metadata": {},
   "outputs": [],
   "source": [
    "sns.histplot(data=df,x='age', kde=True, bins=10,hue='who', alpha=1)\n",
    "plt.title('Age Distribution')\n",
    "plt.xlabel('Age')\n",
    "plt.ylabel('Frequency')\n",
    "plt.show()"
   ]
  },
  {
   "cell_type": "code",
   "execution_count": null,
   "id": "a8c876d9",
   "metadata": {},
   "outputs": [],
   "source": [
    "# Group numerical data into categories for better analysis\n",
    "bins = [0,2,5,10,18,30,45,88]\n",
    "labels = ['Baby','Kid','Child','Teenager','young','mature','old']\n",
    "df['ageName'] = pd.cut(df['age'],bins=bins,labels = labels)"
   ]
  },
  {
   "cell_type": "code",
   "execution_count": null,
   "id": "70b664dc",
   "metadata": {},
   "outputs": [],
   "source": [
    "df.ageName.value_counts() # checking values of new column created "
   ]
  },
  {
   "cell_type": "markdown",
   "id": "64ad8eb4",
   "metadata": {},
   "source": [
    "## Rename Column "
   ]
  },
  {
   "cell_type": "code",
   "execution_count": null,
   "id": "1a36a7a2",
   "metadata": {},
   "outputs": [],
   "source": [
    "df.rename(columns={'ageName' : 'age_group'},inplace=True)"
   ]
  },
  {
   "cell_type": "code",
   "execution_count": null,
   "id": "60c12a2d",
   "metadata": {},
   "outputs": [],
   "source": [
    "df.groupby('age_group')['survived'].value_counts() "
   ]
  },
  {
   "cell_type": "markdown",
   "id": "2829aa8e",
   "metadata": {},
   "source": [
    "# Data Filteration"
   ]
  },
  {
   "cell_type": "code",
   "execution_count": null,
   "id": "9a789199",
   "metadata": {},
   "outputs": [],
   "source": [
    "# based on columns \n",
    "df.columns"
   ]
  },
  {
   "cell_type": "code",
   "execution_count": null,
   "id": "38358f16",
   "metadata": {},
   "outputs": [],
   "source": [
    "# create new dataframe with only 4 columns\n",
    "df_01 = df[['survived','age_group','fare','class']]"
   ]
  },
  {
   "cell_type": "code",
   "execution_count": null,
   "id": "20cdb6da",
   "metadata": {},
   "outputs": [],
   "source": [
    "df_01.head()"
   ]
  },
  {
   "cell_type": "code",
   "execution_count": null,
   "metadata": {},
   "outputs": [],
   "source": [
    "# total passengers on the base of class column \n",
    "df['class'].value_counts()"
   ]
  },
  {
   "cell_type": "code",
   "execution_count": null,
   "id": "a11358c7",
   "metadata": {},
   "outputs": [],
   "source": [
    "# create new df - filter data based on rows criteria\n",
    "df_first =df_01[df_01['class']=='First']"
   ]
  },
  {
   "cell_type": "code",
   "execution_count": null,
   "id": "68f2bba7",
   "metadata": {},
   "outputs": [],
   "source": [
    "# create new df - select only row with paid (fare > 200 Pounds)\n",
    "df_200 = df_01[df_01['fare']>100]"
   ]
  },
  {
   "cell_type": "code",
   "execution_count": null,
   "id": "b95fec3a",
   "metadata": {},
   "outputs": [],
   "source": [
    "#df_200.info()\n",
    "df_200['class'].value_counts()"
   ]
  },
  {
   "cell_type": "code",
   "execution_count": null,
   "id": "f39bdffb",
   "metadata": {},
   "outputs": [],
   "source": [
    "df_01[(df_01['fare']>70) & (df_01['class']=='First')].sort_values(by='fare')"
   ]
  },
  {
   "cell_type": "markdown",
   "id": "a88405df",
   "metadata": {},
   "source": [
    "# Self - Practise "
   ]
  },
  {
   "cell_type": "code",
   "execution_count": null,
   "id": "c06d7c81",
   "metadata": {},
   "outputs": [],
   "source": [
    "# 1.top 5 passengers with highest fare in 2nd class\n",
    "df_01[(df_01['class']=='First') & (df_01['fare'] > 50 )].sort_values(by='fare',ascending=False).head(5)"
   ]
  },
  {
   "cell_type": "code",
   "execution_count": null,
   "id": "378e986b",
   "metadata": {},
   "outputs": [],
   "source": [
    "# 2.how many passengers in 3rd class (fare>20)\n",
    "df_01[(df_01['class']=='Third') & (df_01['fare']>20)].shape[0]"
   ]
  },
  {
   "cell_type": "code",
   "execution_count": null,
   "id": "08e51ba2",
   "metadata": {},
   "outputs": [],
   "source": [
    "# 3. What was average fare of every class passengers\n",
    "df_01.groupby(\"class\")[\"fare\"].mean()"
   ]
  },
  {
   "cell_type": "code",
   "execution_count": null,
   "id": "d9157073",
   "metadata": {},
   "outputs": [],
   "source": [
    "# 4 Which passengers in the 'First' class have a fare less than 50 and are female?\n",
    "df_01[(df_01[\"class\"]=='First') & (df_01[\"sex\"]==\"female\") & (df_01[\"fare\"]<50)].shape[0]"
   ]
  },
  {
   "cell_type": "code",
   "execution_count": null,
   "id": "d92b4a65",
   "metadata": {},
   "outputs": [],
   "source": [
    "# 5 What are the top 3 oldest passengers in the 'Third' class? \n",
    "df_01[(df_01[\"class\"]==\"Third\")].sort_values(by=\"age_group\",ascending=False).head(3)"
   ]
  },
  {
   "cell_type": "code",
   "execution_count": null,
   "id": "61ef6588",
   "metadata": {},
   "outputs": [],
   "source": [
    "# 6 how many female passengers survived in 'First' class with fare > 250\n",
    "df[(df['survived']==1)& (df['sex']=='female')&(df['class']=='First')&(df['fare']>250)]"
   ]
  },
  {
   "cell_type": "code",
   "execution_count": null,
   "id": "ba1774ff",
   "metadata": {},
   "outputs": [],
   "source": [
    "# 7 Sort the dataset by age in descending order. Who are the top 5 oldest passengers\n",
    "df.sort_values(by='age',ascending=False)[['embarked','age','fare']].head()"
   ]
  },
  {
   "cell_type": "code",
   "execution_count": null,
   "id": "cd887b87",
   "metadata": {},
   "outputs": [],
   "source": [
    "# 8.Create a new column - categorises the fare into 4 categories\n",
    "bins = [0,50,100,150,250]\n",
    "labels = ['low','normal','high','very high']\n",
    "df['fareName'] = pd.cut(df['fare'],bins=bins,labels=labels)\n",
    "df['fareName'].value_counts() # checking values of new column created"
   ]
  }
 ],
 "metadata": {
  "kernelspec": {
   "display_name": "pythoneda",
   "language": "python",
   "name": "python3"
  },
  "language_info": {
   "codemirror_mode": {
    "name": "ipython",
    "version": 3
   },
   "file_extension": ".py",
   "mimetype": "text/x-python",
   "name": "python",
   "nbconvert_exporter": "python",
   "pygments_lexer": "ipython3",
   "version": "3.13.2"
  }
 },
 "nbformat": 4,
 "nbformat_minor": 5
}
