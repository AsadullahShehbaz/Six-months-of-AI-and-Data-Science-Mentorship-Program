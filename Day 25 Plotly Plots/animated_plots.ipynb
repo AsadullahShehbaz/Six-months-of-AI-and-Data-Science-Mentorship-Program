{
 "cells": [
  {
   "cell_type": "markdown",
   "id": "a27cfb13",
   "metadata": {},
   "source": [
    "# Sunburst Plot to show Heirarchy"
   ]
  },
  {
   "cell_type": "code",
   "execution_count": 1,
   "id": "2622d2c4",
   "metadata": {},
   "outputs": [
    {
     "data": {
      "application/vnd.plotly.v1+json": {
       "config": {
        "plotlyServerURL": "https://plot.ly"
       },
       "data": [
        {
         "branchvalues": "total",
         "customdata": [
          [
           "female"
          ],
          [
           "female"
          ],
          [
           "female"
          ],
          [
           "female"
          ],
          [
           "female"
          ],
          [
           "female"
          ],
          [
           "female"
          ],
          [
           "female"
          ],
          [
           "female"
          ],
          [
           "female"
          ],
          [
           "female"
          ],
          [
           "female"
          ],
          [
           "female"
          ],
          [
           "female"
          ],
          [
           "female"
          ],
          [
           "female"
          ],
          [
           "female"
          ],
          [
           "female"
          ],
          [
           "female"
          ],
          [
           "female"
          ],
          [
           "female"
          ],
          [
           "female"
          ],
          [
           "female"
          ],
          [
           "female"
          ],
          [
           "female"
          ],
          [
           "female"
          ],
          [
           "female"
          ],
          [
           "female"
          ],
          [
           "female"
          ],
          [
           "female"
          ],
          [
           "female"
          ],
          [
           "female"
          ],
          [
           "female"
          ],
          [
           "female"
          ],
          [
           "female"
          ],
          [
           "female"
          ],
          [
           "female"
          ],
          [
           "female"
          ],
          [
           "female"
          ],
          [
           "female"
          ],
          [
           "male"
          ],
          [
           "male"
          ],
          [
           "male"
          ],
          [
           "male"
          ],
          [
           "male"
          ],
          [
           "male"
          ],
          [
           "male"
          ],
          [
           "male"
          ],
          [
           "male"
          ],
          [
           "male"
          ],
          [
           "male"
          ],
          [
           "male"
          ],
          [
           "male"
          ],
          [
           "male"
          ],
          [
           "male"
          ],
          [
           "male"
          ],
          [
           "male"
          ],
          [
           "male"
          ],
          [
           "male"
          ],
          [
           "male"
          ],
          [
           "male"
          ],
          [
           "male"
          ],
          [
           "male"
          ],
          [
           "male"
          ],
          [
           "male"
          ],
          [
           "male"
          ],
          [
           "male"
          ],
          [
           "male"
          ],
          [
           "male"
          ],
          [
           "male"
          ],
          [
           "male"
          ],
          [
           "male"
          ],
          [
           "male"
          ],
          [
           "male"
          ],
          [
           "male"
          ],
          [
           "male"
          ],
          [
           "male"
          ]
         ],
         "domain": {
          "x": [
           0,
           1
          ],
          "y": [
           0,
           1
          ]
         },
         "hovertemplate": "labels=%{label}<br>survived=%{value}<br>parent=%{parent}<br>id=%{id}<br>sex=%{customdata[0]}<extra></extra>",
         "ids": [
          "female/Third/woman/yes",
          "female/Second/woman/no/True",
          "female/First/child/no/False",
          "female/First/child/yes/False",
          "female/First/woman/no/False",
          "female/First/woman/yes",
          "female/Second/child/yes",
          "female/Third/child/yes",
          "female/Third/child/no",
          "female/Second/woman/yes",
          "female/Third/woman/no",
          "female/Second/woman/no",
          "female/First/woman/no",
          "female/First/child/no",
          "female/First/child/yes",
          "female/First/woman",
          "female/Third/woman",
          "female/Second/child",
          "female/Third/child",
          "female/Second/woman",
          "female/First/child",
          "female/First",
          "female/Third",
          "female/Second",
          "female/First/woman/no/True",
          "female/Third/woman/no/True",
          "female",
          "female/Second/woman/yes/True",
          "female/Third/child/no/True",
          "female/First/woman/yes/False",
          "female/Third/woman/no/False",
          "female/Third/woman/yes/True",
          "female/Second/woman/yes/False",
          "female/Second/woman/no/False",
          "female/First/woman/yes/True",
          "female/Third/child/yes/False",
          "female/Third/child/yes/True",
          "female/Second/child/yes/False",
          "female/Third/woman/yes/False",
          "female/Third/child/no/False",
          "male/Third/man",
          "male/First/man",
          "male/Third/child",
          "male/Third/child/yes/False",
          "male/Second/man",
          "male/Second/child",
          "male/First/man/no/True",
          "male/First/child",
          "male/Third",
          "male/Third/man/no/True",
          "male/First",
          "male/Second",
          "male/First/child/yes",
          "male/Third/child/no/False",
          "male/Second/child/yes",
          "male/Third/child/yes",
          "male/First/man/yes/False",
          "male/Second/child/yes/False",
          "male/Third/man/yes/False",
          "male/First/child/yes/False",
          "male/Second/man/yes/False",
          "male/Third/child/no/True",
          "male/Third/man/no",
          "male/Third/man/yes/True",
          "male",
          "male/First/man/no",
          "male/Third/child/no",
          "male/First/man/no/False",
          "male/First/man/yes/True",
          "male/Second/man/yes",
          "male/Second/man/no/True",
          "male/Second/man/no",
          "male/First/man/yes",
          "male/Third/man/yes",
          "male/Second/man/no/False",
          "male/Second/man/yes/True",
          "male/Third/man/no/False"
         ],
         "labels": [
          "yes",
          "True",
          "False",
          "False",
          "False",
          "yes",
          "yes",
          "yes",
          "no",
          "yes",
          "no",
          "no",
          "no",
          "no",
          "yes",
          "woman",
          "woman",
          "child",
          "child",
          "woman",
          "child",
          "First",
          "Third",
          "Second",
          "True",
          "True",
          "female",
          "True",
          "True",
          "False",
          "False",
          "True",
          "False",
          "False",
          "True",
          "False",
          "True",
          "False",
          "False",
          "False",
          "man",
          "man",
          "child",
          "False",
          "man",
          "child",
          "True",
          "child",
          "Third",
          "True",
          "First",
          "Second",
          "yes",
          "False",
          "yes",
          "yes",
          "False",
          "False",
          "False",
          "False",
          "False",
          "True",
          "no",
          "True",
          "male",
          "no",
          "no",
          "False",
          "True",
          "yes",
          "True",
          "no",
          "yes",
          "yes",
          "False",
          "True",
          "False"
         ],
         "marker": {
          "colors": [
           "#636efa",
           "#636efa",
           "#636efa",
           "#636efa",
           "#636efa",
           "#636efa",
           "#636efa",
           "#636efa",
           "#636efa",
           "#636efa",
           "#636efa",
           "#636efa",
           "#636efa",
           "#636efa",
           "#636efa",
           "#636efa",
           "#636efa",
           "#636efa",
           "#636efa",
           "#636efa",
           "#636efa",
           "#636efa",
           "#636efa",
           "#636efa",
           "#636efa",
           "#636efa",
           "#636efa",
           "#636efa",
           "#636efa",
           "#636efa",
           "#636efa",
           "#636efa",
           "#636efa",
           "#636efa",
           "#636efa",
           "#636efa",
           "#636efa",
           "#636efa",
           "#636efa",
           "#636efa",
           "#EF553B",
           "#EF553B",
           "#EF553B",
           "#EF553B",
           "#EF553B",
           "#EF553B",
           "#EF553B",
           "#EF553B",
           "#EF553B",
           "#EF553B",
           "#EF553B",
           "#EF553B",
           "#EF553B",
           "#EF553B",
           "#EF553B",
           "#EF553B",
           "#EF553B",
           "#EF553B",
           "#EF553B",
           "#EF553B",
           "#EF553B",
           "#EF553B",
           "#EF553B",
           "#EF553B",
           "#EF553B",
           "#EF553B",
           "#EF553B",
           "#EF553B",
           "#EF553B",
           "#EF553B",
           "#EF553B",
           "#EF553B",
           "#EF553B",
           "#EF553B",
           "#EF553B",
           "#EF553B",
           "#EF553B"
          ]
         },
         "name": "",
         "parents": [
          "female/Third/woman",
          "female/Second/woman/no",
          "female/First/child/no",
          "female/First/child/yes",
          "female/First/woman/no",
          "female/First/woman",
          "female/Second/child",
          "female/Third/child",
          "female/Third/child",
          "female/Second/woman",
          "female/Third/woman",
          "female/Second/woman",
          "female/First/woman",
          "female/First/child",
          "female/First/child",
          "female/First",
          "female/Third",
          "female/Second",
          "female/Third",
          "female/Second",
          "female/First",
          "female",
          "female",
          "female",
          "female/First/woman/no",
          "female/Third/woman/no",
          "",
          "female/Second/woman/yes",
          "female/Third/child/no",
          "female/First/woman/yes",
          "female/Third/woman/no",
          "female/Third/woman/yes",
          "female/Second/woman/yes",
          "female/Second/woman/no",
          "female/First/woman/yes",
          "female/Third/child/yes",
          "female/Third/child/yes",
          "female/Second/child/yes",
          "female/Third/woman/yes",
          "female/Third/child/no",
          "male/Third",
          "male/First",
          "male/Third",
          "male/Third/child/yes",
          "male/Second",
          "male/Second",
          "male/First/man/no",
          "male/First",
          "male",
          "male/Third/man/no",
          "male",
          "male",
          "male/First/child",
          "male/Third/child/no",
          "male/Second/child",
          "male/Third/child",
          "male/First/man/yes",
          "male/Second/child/yes",
          "male/Third/man/yes",
          "male/First/child/yes",
          "male/Second/man/yes",
          "male/Third/child/no",
          "male/Third/man",
          "male/Third/man/yes",
          "",
          "male/First/man",
          "male/Third/child",
          "male/First/man/no",
          "male/First/man/yes",
          "male/Second/man",
          "male/Second/man/no",
          "male/Second/man",
          "male/First/man",
          "male/Third/man",
          "male/Second/man/no",
          "male/Second/man/yes",
          "male/Third/man/no"
         ],
         "type": "sunburst",
         "values": {
          "bdata": "AAAAAAAATEAAAAAAAAAAAAAAAAAAAAAAAAAAAAAAAEAAAAAAAAAAAAAAAAAAQFZAAAAAAAAAJEAAAAAAAAAwQAAAAAAAAAAAAAAAAAAATkAAAAAAAAAAAAAAAAAAAAAAAAAAAAAAAAAAAAAAAAAAAAAAAAAAAABAAAAAAABAVkAAAAAAAABMQAAAAAAAACRAAAAAAAAAMEAAAAAAAABOQAAAAAAAAABAAAAAAADAVkAAAAAAAABSQAAAAAAAgFFAAAAAAAAAAAAAAAAAAAAAAAAAAAAAIG1AAAAAAAAAPUAAAAAAAAAAAAAAAAAAAExAAAAAAAAAAAAAAAAAAIBAQAAAAAAAAD9AAAAAAAAAAAAAAAAAAIBAQAAAAAAAAChAAAAAAAAAEEAAAAAAAAAkQAAAAAAAADdAAAAAAAAAAAAAAAAAAABDQAAAAAAAAEVAAAAAAAAAIkAAAAAAAAAiQAAAAAAAACBAAAAAAAAAIkAAAAAAAAAAAAAAAAAAAAhAAAAAAACAR0AAAAAAAAAAAAAAAAAAgEZAAAAAAAAAMUAAAAAAAAAIQAAAAAAAAAAAAAAAAAAAIkAAAAAAAAAiQAAAAAAAADFAAAAAAAAAIkAAAAAAAAAYQAAAAAAAAAhAAAAAAAAA8D8AAAAAAAAAAAAAAAAAAAAAAAAAAAAAQEAAAAAAAEBbQAAAAAAAAAAAAAAAAAAAAAAAAAAAAAAAAAAAAAAAADlAAAAAAAAAIEAAAAAAAAAAAAAAAAAAAAAAAAAAAAAARUAAAAAAAABDQAAAAAAAAAAAAAAAAAAAHEAAAAAAAAAAAA==",
          "dtype": "f8"
         }
        }
       ],
       "layout": {
        "legend": {
         "tracegroupgap": 0
        },
        "margin": {
         "t": 60
        },
        "template": {
         "data": {
          "bar": [
           {
            "error_x": {
             "color": "#2a3f5f"
            },
            "error_y": {
             "color": "#2a3f5f"
            },
            "marker": {
             "line": {
              "color": "#E5ECF6",
              "width": 0.5
             },
             "pattern": {
              "fillmode": "overlay",
              "size": 10,
              "solidity": 0.2
             }
            },
            "type": "bar"
           }
          ],
          "barpolar": [
           {
            "marker": {
             "line": {
              "color": "#E5ECF6",
              "width": 0.5
             },
             "pattern": {
              "fillmode": "overlay",
              "size": 10,
              "solidity": 0.2
             }
            },
            "type": "barpolar"
           }
          ],
          "carpet": [
           {
            "aaxis": {
             "endlinecolor": "#2a3f5f",
             "gridcolor": "white",
             "linecolor": "white",
             "minorgridcolor": "white",
             "startlinecolor": "#2a3f5f"
            },
            "baxis": {
             "endlinecolor": "#2a3f5f",
             "gridcolor": "white",
             "linecolor": "white",
             "minorgridcolor": "white",
             "startlinecolor": "#2a3f5f"
            },
            "type": "carpet"
           }
          ],
          "choropleth": [
           {
            "colorbar": {
             "outlinewidth": 0,
             "ticks": ""
            },
            "type": "choropleth"
           }
          ],
          "contour": [
           {
            "colorbar": {
             "outlinewidth": 0,
             "ticks": ""
            },
            "colorscale": [
             [
              0,
              "#0d0887"
             ],
             [
              0.1111111111111111,
              "#46039f"
             ],
             [
              0.2222222222222222,
              "#7201a8"
             ],
             [
              0.3333333333333333,
              "#9c179e"
             ],
             [
              0.4444444444444444,
              "#bd3786"
             ],
             [
              0.5555555555555556,
              "#d8576b"
             ],
             [
              0.6666666666666666,
              "#ed7953"
             ],
             [
              0.7777777777777778,
              "#fb9f3a"
             ],
             [
              0.8888888888888888,
              "#fdca26"
             ],
             [
              1,
              "#f0f921"
             ]
            ],
            "type": "contour"
           }
          ],
          "contourcarpet": [
           {
            "colorbar": {
             "outlinewidth": 0,
             "ticks": ""
            },
            "type": "contourcarpet"
           }
          ],
          "heatmap": [
           {
            "colorbar": {
             "outlinewidth": 0,
             "ticks": ""
            },
            "colorscale": [
             [
              0,
              "#0d0887"
             ],
             [
              0.1111111111111111,
              "#46039f"
             ],
             [
              0.2222222222222222,
              "#7201a8"
             ],
             [
              0.3333333333333333,
              "#9c179e"
             ],
             [
              0.4444444444444444,
              "#bd3786"
             ],
             [
              0.5555555555555556,
              "#d8576b"
             ],
             [
              0.6666666666666666,
              "#ed7953"
             ],
             [
              0.7777777777777778,
              "#fb9f3a"
             ],
             [
              0.8888888888888888,
              "#fdca26"
             ],
             [
              1,
              "#f0f921"
             ]
            ],
            "type": "heatmap"
           }
          ],
          "histogram": [
           {
            "marker": {
             "pattern": {
              "fillmode": "overlay",
              "size": 10,
              "solidity": 0.2
             }
            },
            "type": "histogram"
           }
          ],
          "histogram2d": [
           {
            "colorbar": {
             "outlinewidth": 0,
             "ticks": ""
            },
            "colorscale": [
             [
              0,
              "#0d0887"
             ],
             [
              0.1111111111111111,
              "#46039f"
             ],
             [
              0.2222222222222222,
              "#7201a8"
             ],
             [
              0.3333333333333333,
              "#9c179e"
             ],
             [
              0.4444444444444444,
              "#bd3786"
             ],
             [
              0.5555555555555556,
              "#d8576b"
             ],
             [
              0.6666666666666666,
              "#ed7953"
             ],
             [
              0.7777777777777778,
              "#fb9f3a"
             ],
             [
              0.8888888888888888,
              "#fdca26"
             ],
             [
              1,
              "#f0f921"
             ]
            ],
            "type": "histogram2d"
           }
          ],
          "histogram2dcontour": [
           {
            "colorbar": {
             "outlinewidth": 0,
             "ticks": ""
            },
            "colorscale": [
             [
              0,
              "#0d0887"
             ],
             [
              0.1111111111111111,
              "#46039f"
             ],
             [
              0.2222222222222222,
              "#7201a8"
             ],
             [
              0.3333333333333333,
              "#9c179e"
             ],
             [
              0.4444444444444444,
              "#bd3786"
             ],
             [
              0.5555555555555556,
              "#d8576b"
             ],
             [
              0.6666666666666666,
              "#ed7953"
             ],
             [
              0.7777777777777778,
              "#fb9f3a"
             ],
             [
              0.8888888888888888,
              "#fdca26"
             ],
             [
              1,
              "#f0f921"
             ]
            ],
            "type": "histogram2dcontour"
           }
          ],
          "mesh3d": [
           {
            "colorbar": {
             "outlinewidth": 0,
             "ticks": ""
            },
            "type": "mesh3d"
           }
          ],
          "parcoords": [
           {
            "line": {
             "colorbar": {
              "outlinewidth": 0,
              "ticks": ""
             }
            },
            "type": "parcoords"
           }
          ],
          "pie": [
           {
            "automargin": true,
            "type": "pie"
           }
          ],
          "scatter": [
           {
            "fillpattern": {
             "fillmode": "overlay",
             "size": 10,
             "solidity": 0.2
            },
            "type": "scatter"
           }
          ],
          "scatter3d": [
           {
            "line": {
             "colorbar": {
              "outlinewidth": 0,
              "ticks": ""
             }
            },
            "marker": {
             "colorbar": {
              "outlinewidth": 0,
              "ticks": ""
             }
            },
            "type": "scatter3d"
           }
          ],
          "scattercarpet": [
           {
            "marker": {
             "colorbar": {
              "outlinewidth": 0,
              "ticks": ""
             }
            },
            "type": "scattercarpet"
           }
          ],
          "scattergeo": [
           {
            "marker": {
             "colorbar": {
              "outlinewidth": 0,
              "ticks": ""
             }
            },
            "type": "scattergeo"
           }
          ],
          "scattergl": [
           {
            "marker": {
             "colorbar": {
              "outlinewidth": 0,
              "ticks": ""
             }
            },
            "type": "scattergl"
           }
          ],
          "scattermap": [
           {
            "marker": {
             "colorbar": {
              "outlinewidth": 0,
              "ticks": ""
             }
            },
            "type": "scattermap"
           }
          ],
          "scattermapbox": [
           {
            "marker": {
             "colorbar": {
              "outlinewidth": 0,
              "ticks": ""
             }
            },
            "type": "scattermapbox"
           }
          ],
          "scatterpolar": [
           {
            "marker": {
             "colorbar": {
              "outlinewidth": 0,
              "ticks": ""
             }
            },
            "type": "scatterpolar"
           }
          ],
          "scatterpolargl": [
           {
            "marker": {
             "colorbar": {
              "outlinewidth": 0,
              "ticks": ""
             }
            },
            "type": "scatterpolargl"
           }
          ],
          "scatterternary": [
           {
            "marker": {
             "colorbar": {
              "outlinewidth": 0,
              "ticks": ""
             }
            },
            "type": "scatterternary"
           }
          ],
          "surface": [
           {
            "colorbar": {
             "outlinewidth": 0,
             "ticks": ""
            },
            "colorscale": [
             [
              0,
              "#0d0887"
             ],
             [
              0.1111111111111111,
              "#46039f"
             ],
             [
              0.2222222222222222,
              "#7201a8"
             ],
             [
              0.3333333333333333,
              "#9c179e"
             ],
             [
              0.4444444444444444,
              "#bd3786"
             ],
             [
              0.5555555555555556,
              "#d8576b"
             ],
             [
              0.6666666666666666,
              "#ed7953"
             ],
             [
              0.7777777777777778,
              "#fb9f3a"
             ],
             [
              0.8888888888888888,
              "#fdca26"
             ],
             [
              1,
              "#f0f921"
             ]
            ],
            "type": "surface"
           }
          ],
          "table": [
           {
            "cells": {
             "fill": {
              "color": "#EBF0F8"
             },
             "line": {
              "color": "white"
             }
            },
            "header": {
             "fill": {
              "color": "#C8D4E3"
             },
             "line": {
              "color": "white"
             }
            },
            "type": "table"
           }
          ]
         },
         "layout": {
          "annotationdefaults": {
           "arrowcolor": "#2a3f5f",
           "arrowhead": 0,
           "arrowwidth": 1
          },
          "autotypenumbers": "strict",
          "coloraxis": {
           "colorbar": {
            "outlinewidth": 0,
            "ticks": ""
           }
          },
          "colorscale": {
           "diverging": [
            [
             0,
             "#8e0152"
            ],
            [
             0.1,
             "#c51b7d"
            ],
            [
             0.2,
             "#de77ae"
            ],
            [
             0.3,
             "#f1b6da"
            ],
            [
             0.4,
             "#fde0ef"
            ],
            [
             0.5,
             "#f7f7f7"
            ],
            [
             0.6,
             "#e6f5d0"
            ],
            [
             0.7,
             "#b8e186"
            ],
            [
             0.8,
             "#7fbc41"
            ],
            [
             0.9,
             "#4d9221"
            ],
            [
             1,
             "#276419"
            ]
           ],
           "sequential": [
            [
             0,
             "#0d0887"
            ],
            [
             0.1111111111111111,
             "#46039f"
            ],
            [
             0.2222222222222222,
             "#7201a8"
            ],
            [
             0.3333333333333333,
             "#9c179e"
            ],
            [
             0.4444444444444444,
             "#bd3786"
            ],
            [
             0.5555555555555556,
             "#d8576b"
            ],
            [
             0.6666666666666666,
             "#ed7953"
            ],
            [
             0.7777777777777778,
             "#fb9f3a"
            ],
            [
             0.8888888888888888,
             "#fdca26"
            ],
            [
             1,
             "#f0f921"
            ]
           ],
           "sequentialminus": [
            [
             0,
             "#0d0887"
            ],
            [
             0.1111111111111111,
             "#46039f"
            ],
            [
             0.2222222222222222,
             "#7201a8"
            ],
            [
             0.3333333333333333,
             "#9c179e"
            ],
            [
             0.4444444444444444,
             "#bd3786"
            ],
            [
             0.5555555555555556,
             "#d8576b"
            ],
            [
             0.6666666666666666,
             "#ed7953"
            ],
            [
             0.7777777777777778,
             "#fb9f3a"
            ],
            [
             0.8888888888888888,
             "#fdca26"
            ],
            [
             1,
             "#f0f921"
            ]
           ]
          },
          "colorway": [
           "#636efa",
           "#EF553B",
           "#00cc96",
           "#ab63fa",
           "#FFA15A",
           "#19d3f3",
           "#FF6692",
           "#B6E880",
           "#FF97FF",
           "#FECB52"
          ],
          "font": {
           "color": "#2a3f5f"
          },
          "geo": {
           "bgcolor": "white",
           "lakecolor": "white",
           "landcolor": "#E5ECF6",
           "showlakes": true,
           "showland": true,
           "subunitcolor": "white"
          },
          "hoverlabel": {
           "align": "left"
          },
          "hovermode": "closest",
          "mapbox": {
           "style": "light"
          },
          "paper_bgcolor": "white",
          "plot_bgcolor": "#E5ECF6",
          "polar": {
           "angularaxis": {
            "gridcolor": "white",
            "linecolor": "white",
            "ticks": ""
           },
           "bgcolor": "#E5ECF6",
           "radialaxis": {
            "gridcolor": "white",
            "linecolor": "white",
            "ticks": ""
           }
          },
          "scene": {
           "xaxis": {
            "backgroundcolor": "#E5ECF6",
            "gridcolor": "white",
            "gridwidth": 2,
            "linecolor": "white",
            "showbackground": true,
            "ticks": "",
            "zerolinecolor": "white"
           },
           "yaxis": {
            "backgroundcolor": "#E5ECF6",
            "gridcolor": "white",
            "gridwidth": 2,
            "linecolor": "white",
            "showbackground": true,
            "ticks": "",
            "zerolinecolor": "white"
           },
           "zaxis": {
            "backgroundcolor": "#E5ECF6",
            "gridcolor": "white",
            "gridwidth": 2,
            "linecolor": "white",
            "showbackground": true,
            "ticks": "",
            "zerolinecolor": "white"
           }
          },
          "shapedefaults": {
           "line": {
            "color": "#2a3f5f"
           }
          },
          "ternary": {
           "aaxis": {
            "gridcolor": "white",
            "linecolor": "white",
            "ticks": ""
           },
           "baxis": {
            "gridcolor": "white",
            "linecolor": "white",
            "ticks": ""
           },
           "bgcolor": "#E5ECF6",
           "caxis": {
            "gridcolor": "white",
            "linecolor": "white",
            "ticks": ""
           }
          },
          "title": {
           "x": 0.05
          },
          "xaxis": {
           "automargin": true,
           "gridcolor": "white",
           "linecolor": "white",
           "ticks": "",
           "title": {
            "standoff": 15
           },
           "zerolinecolor": "white",
           "zerolinewidth": 2
          },
          "yaxis": {
           "automargin": true,
           "gridcolor": "white",
           "linecolor": "white",
           "ticks": "",
           "title": {
            "standoff": 15
           },
           "zerolinecolor": "white",
           "zerolinewidth": 2
          }
         }
        }
       }
      }
     },
     "metadata": {},
     "output_type": "display_data"
    }
   ],
   "source": [
    "import plotly.express as px\n",
    "import seaborn as sns\n",
    "\n",
    "df = sns.load_dataset('titanic')\n",
    "px.sunburst(df,path=['sex','class','who','alive','alone'],values='survived',color='sex')"
   ]
  },
  {
   "cell_type": "code",
   "execution_count": 20,
   "id": "38cb8cca",
   "metadata": {},
   "outputs": [
    {
     "data": {
      "text/html": [
       "<div>\n",
       "<style scoped>\n",
       "    .dataframe tbody tr th:only-of-type {\n",
       "        vertical-align: middle;\n",
       "    }\n",
       "\n",
       "    .dataframe tbody tr th {\n",
       "        vertical-align: top;\n",
       "    }\n",
       "\n",
       "    .dataframe thead th {\n",
       "        text-align: right;\n",
       "    }\n",
       "</style>\n",
       "<table border=\"1\" class=\"dataframe\">\n",
       "  <thead>\n",
       "    <tr style=\"text-align: right;\">\n",
       "      <th></th>\n",
       "      <th>total_bill</th>\n",
       "      <th>tip</th>\n",
       "      <th>sex</th>\n",
       "      <th>smoker</th>\n",
       "      <th>day</th>\n",
       "      <th>time</th>\n",
       "      <th>size</th>\n",
       "    </tr>\n",
       "  </thead>\n",
       "  <tbody>\n",
       "    <tr>\n",
       "      <th>0</th>\n",
       "      <td>16.99</td>\n",
       "      <td>1.01</td>\n",
       "      <td>Female</td>\n",
       "      <td>No</td>\n",
       "      <td>Sun</td>\n",
       "      <td>Dinner</td>\n",
       "      <td>2</td>\n",
       "    </tr>\n",
       "    <tr>\n",
       "      <th>1</th>\n",
       "      <td>10.34</td>\n",
       "      <td>1.66</td>\n",
       "      <td>Male</td>\n",
       "      <td>No</td>\n",
       "      <td>Sun</td>\n",
       "      <td>Dinner</td>\n",
       "      <td>3</td>\n",
       "    </tr>\n",
       "    <tr>\n",
       "      <th>2</th>\n",
       "      <td>21.01</td>\n",
       "      <td>3.50</td>\n",
       "      <td>Male</td>\n",
       "      <td>No</td>\n",
       "      <td>Sun</td>\n",
       "      <td>Dinner</td>\n",
       "      <td>3</td>\n",
       "    </tr>\n",
       "    <tr>\n",
       "      <th>3</th>\n",
       "      <td>23.68</td>\n",
       "      <td>3.31</td>\n",
       "      <td>Male</td>\n",
       "      <td>No</td>\n",
       "      <td>Sun</td>\n",
       "      <td>Dinner</td>\n",
       "      <td>2</td>\n",
       "    </tr>\n",
       "    <tr>\n",
       "      <th>4</th>\n",
       "      <td>24.59</td>\n",
       "      <td>3.61</td>\n",
       "      <td>Female</td>\n",
       "      <td>No</td>\n",
       "      <td>Sun</td>\n",
       "      <td>Dinner</td>\n",
       "      <td>4</td>\n",
       "    </tr>\n",
       "    <tr>\n",
       "      <th>5</th>\n",
       "      <td>25.29</td>\n",
       "      <td>4.71</td>\n",
       "      <td>Male</td>\n",
       "      <td>No</td>\n",
       "      <td>Sun</td>\n",
       "      <td>Dinner</td>\n",
       "      <td>4</td>\n",
       "    </tr>\n",
       "    <tr>\n",
       "      <th>6</th>\n",
       "      <td>8.77</td>\n",
       "      <td>2.00</td>\n",
       "      <td>Male</td>\n",
       "      <td>No</td>\n",
       "      <td>Sun</td>\n",
       "      <td>Dinner</td>\n",
       "      <td>2</td>\n",
       "    </tr>\n",
       "    <tr>\n",
       "      <th>7</th>\n",
       "      <td>26.88</td>\n",
       "      <td>3.12</td>\n",
       "      <td>Male</td>\n",
       "      <td>No</td>\n",
       "      <td>Sun</td>\n",
       "      <td>Dinner</td>\n",
       "      <td>4</td>\n",
       "    </tr>\n",
       "    <tr>\n",
       "      <th>8</th>\n",
       "      <td>15.04</td>\n",
       "      <td>1.96</td>\n",
       "      <td>Male</td>\n",
       "      <td>No</td>\n",
       "      <td>Sun</td>\n",
       "      <td>Dinner</td>\n",
       "      <td>2</td>\n",
       "    </tr>\n",
       "    <tr>\n",
       "      <th>9</th>\n",
       "      <td>14.78</td>\n",
       "      <td>3.23</td>\n",
       "      <td>Male</td>\n",
       "      <td>No</td>\n",
       "      <td>Sun</td>\n",
       "      <td>Dinner</td>\n",
       "      <td>2</td>\n",
       "    </tr>\n",
       "    <tr>\n",
       "      <th>10</th>\n",
       "      <td>10.27</td>\n",
       "      <td>1.71</td>\n",
       "      <td>Male</td>\n",
       "      <td>No</td>\n",
       "      <td>Sun</td>\n",
       "      <td>Dinner</td>\n",
       "      <td>2</td>\n",
       "    </tr>\n",
       "    <tr>\n",
       "      <th>11</th>\n",
       "      <td>35.26</td>\n",
       "      <td>5.00</td>\n",
       "      <td>Female</td>\n",
       "      <td>No</td>\n",
       "      <td>Sun</td>\n",
       "      <td>Dinner</td>\n",
       "      <td>4</td>\n",
       "    </tr>\n",
       "    <tr>\n",
       "      <th>12</th>\n",
       "      <td>15.42</td>\n",
       "      <td>1.57</td>\n",
       "      <td>Male</td>\n",
       "      <td>No</td>\n",
       "      <td>Sun</td>\n",
       "      <td>Dinner</td>\n",
       "      <td>2</td>\n",
       "    </tr>\n",
       "    <tr>\n",
       "      <th>13</th>\n",
       "      <td>18.43</td>\n",
       "      <td>3.00</td>\n",
       "      <td>Male</td>\n",
       "      <td>No</td>\n",
       "      <td>Sun</td>\n",
       "      <td>Dinner</td>\n",
       "      <td>4</td>\n",
       "    </tr>\n",
       "    <tr>\n",
       "      <th>14</th>\n",
       "      <td>14.83</td>\n",
       "      <td>3.02</td>\n",
       "      <td>Female</td>\n",
       "      <td>No</td>\n",
       "      <td>Sun</td>\n",
       "      <td>Dinner</td>\n",
       "      <td>2</td>\n",
       "    </tr>\n",
       "    <tr>\n",
       "      <th>15</th>\n",
       "      <td>21.58</td>\n",
       "      <td>3.92</td>\n",
       "      <td>Male</td>\n",
       "      <td>No</td>\n",
       "      <td>Sun</td>\n",
       "      <td>Dinner</td>\n",
       "      <td>2</td>\n",
       "    </tr>\n",
       "    <tr>\n",
       "      <th>16</th>\n",
       "      <td>10.33</td>\n",
       "      <td>1.67</td>\n",
       "      <td>Female</td>\n",
       "      <td>No</td>\n",
       "      <td>Sun</td>\n",
       "      <td>Dinner</td>\n",
       "      <td>3</td>\n",
       "    </tr>\n",
       "    <tr>\n",
       "      <th>17</th>\n",
       "      <td>16.29</td>\n",
       "      <td>3.71</td>\n",
       "      <td>Male</td>\n",
       "      <td>No</td>\n",
       "      <td>Sun</td>\n",
       "      <td>Dinner</td>\n",
       "      <td>3</td>\n",
       "    </tr>\n",
       "    <tr>\n",
       "      <th>18</th>\n",
       "      <td>16.97</td>\n",
       "      <td>3.50</td>\n",
       "      <td>Female</td>\n",
       "      <td>No</td>\n",
       "      <td>Sun</td>\n",
       "      <td>Dinner</td>\n",
       "      <td>3</td>\n",
       "    </tr>\n",
       "    <tr>\n",
       "      <th>19</th>\n",
       "      <td>20.65</td>\n",
       "      <td>3.35</td>\n",
       "      <td>Male</td>\n",
       "      <td>No</td>\n",
       "      <td>Sat</td>\n",
       "      <td>Dinner</td>\n",
       "      <td>3</td>\n",
       "    </tr>\n",
       "  </tbody>\n",
       "</table>\n",
       "</div>"
      ],
      "text/plain": [
       "    total_bill   tip     sex smoker  day    time  size\n",
       "0        16.99  1.01  Female     No  Sun  Dinner     2\n",
       "1        10.34  1.66    Male     No  Sun  Dinner     3\n",
       "2        21.01  3.50    Male     No  Sun  Dinner     3\n",
       "3        23.68  3.31    Male     No  Sun  Dinner     2\n",
       "4        24.59  3.61  Female     No  Sun  Dinner     4\n",
       "5        25.29  4.71    Male     No  Sun  Dinner     4\n",
       "6         8.77  2.00    Male     No  Sun  Dinner     2\n",
       "7        26.88  3.12    Male     No  Sun  Dinner     4\n",
       "8        15.04  1.96    Male     No  Sun  Dinner     2\n",
       "9        14.78  3.23    Male     No  Sun  Dinner     2\n",
       "10       10.27  1.71    Male     No  Sun  Dinner     2\n",
       "11       35.26  5.00  Female     No  Sun  Dinner     4\n",
       "12       15.42  1.57    Male     No  Sun  Dinner     2\n",
       "13       18.43  3.00    Male     No  Sun  Dinner     4\n",
       "14       14.83  3.02  Female     No  Sun  Dinner     2\n",
       "15       21.58  3.92    Male     No  Sun  Dinner     2\n",
       "16       10.33  1.67  Female     No  Sun  Dinner     3\n",
       "17       16.29  3.71    Male     No  Sun  Dinner     3\n",
       "18       16.97  3.50  Female     No  Sun  Dinner     3\n",
       "19       20.65  3.35    Male     No  Sat  Dinner     3"
      ]
     },
     "execution_count": 20,
     "metadata": {},
     "output_type": "execute_result"
    }
   ],
   "source": [
    "# tips dataset \n",
    "tips = sns.load_dataset('tips')\n",
    "tips.head(20)"
   ]
  },
  {
   "cell_type": "code",
   "execution_count": 19,
   "id": "90bc4ed0",
   "metadata": {},
   "outputs": [
    {
     "data": {
      "application/vnd.plotly.v1+json": {
       "config": {
        "plotlyServerURL": "https://plot.ly"
       },
       "data": [
        {
         "branchvalues": "total",
         "domain": {
          "x": [
           0,
           1
          ],
          "y": [
           0,
           1
          ]
         },
         "hovertemplate": "labels=%{label}<br>size=%{value}<br>parent=%{parent}<br>id=%{id}<extra></extra>",
         "ids": [
          "Female/No/Sun/Dinner",
          "Male/No/Sun/Dinner",
          "Male/No/Sat/Dinner",
          "Female/No/Sat/Dinner",
          "Male/Yes/Sat/Dinner",
          "Female/Yes/Sat/Dinner",
          "Male/No/Thur/Lunch",
          "Male/Yes/Thur/Lunch",
          "Female/No/Thur/Lunch",
          "Male/Yes/Fri/Dinner",
          "Male/No/Fri/Dinner",
          "Female/Yes/Fri/Dinner",
          "Female/No/Fri/Dinner",
          "Female/Yes/Sun/Dinner",
          "Male/Yes/Sun/Dinner",
          "Female/Yes/Thur/Lunch",
          "Male/Yes/Fri/Lunch",
          "Female/Yes/Fri/Lunch",
          "Female/No/Fri/Lunch",
          "Female/No/Thur/Dinner",
          "Female/No/Sun",
          "Male/No/Sun",
          "Male/No/Sat",
          "Female/No/Sat",
          "Male/Yes/Sat",
          "Female/Yes/Sat",
          "Male/No/Thur",
          "Male/Yes/Thur",
          "Female/No/Thur",
          "Male/Yes/Fri",
          "Male/No/Fri",
          "Female/Yes/Fri",
          "Female/No/Fri",
          "Female/Yes/Sun",
          "Male/Yes/Sun",
          "Female/Yes/Thur",
          "Female/No",
          "Male/No",
          "Male/Yes",
          "Female/Yes",
          "Female",
          "Male"
         ],
         "labels": [
          "Dinner",
          "Dinner",
          "Dinner",
          "Dinner",
          "Dinner",
          "Dinner",
          "Lunch",
          "Lunch",
          "Lunch",
          "Dinner",
          "Dinner",
          "Dinner",
          "Dinner",
          "Dinner",
          "Dinner",
          "Lunch",
          "Lunch",
          "Lunch",
          "Lunch",
          "Dinner",
          "Sun",
          "Sun",
          "Sat",
          "Sat",
          "Sat",
          "Sat",
          "Thur",
          "Thur",
          "Thur",
          "Fri",
          "Fri",
          "Fri",
          "Fri",
          "Sun",
          "Sun",
          "Thur",
          "No",
          "No",
          "Yes",
          "Yes",
          "Female",
          "Male"
         ],
         "name": "",
         "parents": [
          "Female/No/Sun",
          "Male/No/Sun",
          "Male/No/Sat",
          "Female/No/Sat",
          "Male/Yes/Sat",
          "Female/Yes/Sat",
          "Male/No/Thur",
          "Male/Yes/Thur",
          "Female/No/Thur",
          "Male/Yes/Fri",
          "Male/No/Fri",
          "Female/Yes/Fri",
          "Female/No/Fri",
          "Female/Yes/Sun",
          "Male/Yes/Sun",
          "Female/Yes/Thur",
          "Male/Yes/Fri",
          "Female/Yes/Fri",
          "Female/No/Fri",
          "Female/No/Thur",
          "Female/No",
          "Male/No",
          "Male/No",
          "Female/No",
          "Male/Yes",
          "Female/Yes",
          "Male/No",
          "Male/Yes",
          "Female/No",
          "Male/Yes",
          "Male/No",
          "Female/Yes",
          "Female/No",
          "Female/Yes",
          "Male/Yes",
          "Female/Yes",
          "Female",
          "Male",
          "Male",
          "Female",
          "",
          ""
         ],
         "type": "sunburst",
         "values": {
          "bdata": "AAAAAACARUAAAAAAAABfQAAAAAAAQFVAAAAAAAAAPkAAAAAAAMBRQAAAAAAAgEBAAAAAAAAASUAAAAAAAAA3QAAAAAAAAE5AAAAAAAAAKEAAAAAAAAAQQAAAAAAAACBAAAAAAAAAAEAAAAAAAAAkQAAAAAAAgENAAAAAAAAAMUAAAAAAAAAUQAAAAAAAABhAAAAAAAAACEAAAAAAAAAAQAAAAAAAgEVAAAAAAAAAX0AAAAAAAEBVQAAAAAAAAD5AAAAAAADAUUAAAAAAAIBAQAAAAAAAAElAAAAAAAAAN0AAAAAAAABPQAAAAAAAADFAAAAAAAAAEEAAAAAAAAAsQAAAAAAAABRAAAAAAAAAJEAAAAAAAIBDQAAAAAAAADFAAAAAAACAYUAAAAAAAHBwQAAAAAAAwGJAAAAAAACAUkAAAAAAAMBqQAAAAAAA0HlA",
          "dtype": "f8"
         }
        }
       ],
       "layout": {
        "legend": {
         "tracegroupgap": 0
        },
        "margin": {
         "t": 60
        },
        "template": {
         "data": {
          "bar": [
           {
            "error_x": {
             "color": "#2a3f5f"
            },
            "error_y": {
             "color": "#2a3f5f"
            },
            "marker": {
             "line": {
              "color": "#E5ECF6",
              "width": 0.5
             },
             "pattern": {
              "fillmode": "overlay",
              "size": 10,
              "solidity": 0.2
             }
            },
            "type": "bar"
           }
          ],
          "barpolar": [
           {
            "marker": {
             "line": {
              "color": "#E5ECF6",
              "width": 0.5
             },
             "pattern": {
              "fillmode": "overlay",
              "size": 10,
              "solidity": 0.2
             }
            },
            "type": "barpolar"
           }
          ],
          "carpet": [
           {
            "aaxis": {
             "endlinecolor": "#2a3f5f",
             "gridcolor": "white",
             "linecolor": "white",
             "minorgridcolor": "white",
             "startlinecolor": "#2a3f5f"
            },
            "baxis": {
             "endlinecolor": "#2a3f5f",
             "gridcolor": "white",
             "linecolor": "white",
             "minorgridcolor": "white",
             "startlinecolor": "#2a3f5f"
            },
            "type": "carpet"
           }
          ],
          "choropleth": [
           {
            "colorbar": {
             "outlinewidth": 0,
             "ticks": ""
            },
            "type": "choropleth"
           }
          ],
          "contour": [
           {
            "colorbar": {
             "outlinewidth": 0,
             "ticks": ""
            },
            "colorscale": [
             [
              0,
              "#0d0887"
             ],
             [
              0.1111111111111111,
              "#46039f"
             ],
             [
              0.2222222222222222,
              "#7201a8"
             ],
             [
              0.3333333333333333,
              "#9c179e"
             ],
             [
              0.4444444444444444,
              "#bd3786"
             ],
             [
              0.5555555555555556,
              "#d8576b"
             ],
             [
              0.6666666666666666,
              "#ed7953"
             ],
             [
              0.7777777777777778,
              "#fb9f3a"
             ],
             [
              0.8888888888888888,
              "#fdca26"
             ],
             [
              1,
              "#f0f921"
             ]
            ],
            "type": "contour"
           }
          ],
          "contourcarpet": [
           {
            "colorbar": {
             "outlinewidth": 0,
             "ticks": ""
            },
            "type": "contourcarpet"
           }
          ],
          "heatmap": [
           {
            "colorbar": {
             "outlinewidth": 0,
             "ticks": ""
            },
            "colorscale": [
             [
              0,
              "#0d0887"
             ],
             [
              0.1111111111111111,
              "#46039f"
             ],
             [
              0.2222222222222222,
              "#7201a8"
             ],
             [
              0.3333333333333333,
              "#9c179e"
             ],
             [
              0.4444444444444444,
              "#bd3786"
             ],
             [
              0.5555555555555556,
              "#d8576b"
             ],
             [
              0.6666666666666666,
              "#ed7953"
             ],
             [
              0.7777777777777778,
              "#fb9f3a"
             ],
             [
              0.8888888888888888,
              "#fdca26"
             ],
             [
              1,
              "#f0f921"
             ]
            ],
            "type": "heatmap"
           }
          ],
          "histogram": [
           {
            "marker": {
             "pattern": {
              "fillmode": "overlay",
              "size": 10,
              "solidity": 0.2
             }
            },
            "type": "histogram"
           }
          ],
          "histogram2d": [
           {
            "colorbar": {
             "outlinewidth": 0,
             "ticks": ""
            },
            "colorscale": [
             [
              0,
              "#0d0887"
             ],
             [
              0.1111111111111111,
              "#46039f"
             ],
             [
              0.2222222222222222,
              "#7201a8"
             ],
             [
              0.3333333333333333,
              "#9c179e"
             ],
             [
              0.4444444444444444,
              "#bd3786"
             ],
             [
              0.5555555555555556,
              "#d8576b"
             ],
             [
              0.6666666666666666,
              "#ed7953"
             ],
             [
              0.7777777777777778,
              "#fb9f3a"
             ],
             [
              0.8888888888888888,
              "#fdca26"
             ],
             [
              1,
              "#f0f921"
             ]
            ],
            "type": "histogram2d"
           }
          ],
          "histogram2dcontour": [
           {
            "colorbar": {
             "outlinewidth": 0,
             "ticks": ""
            },
            "colorscale": [
             [
              0,
              "#0d0887"
             ],
             [
              0.1111111111111111,
              "#46039f"
             ],
             [
              0.2222222222222222,
              "#7201a8"
             ],
             [
              0.3333333333333333,
              "#9c179e"
             ],
             [
              0.4444444444444444,
              "#bd3786"
             ],
             [
              0.5555555555555556,
              "#d8576b"
             ],
             [
              0.6666666666666666,
              "#ed7953"
             ],
             [
              0.7777777777777778,
              "#fb9f3a"
             ],
             [
              0.8888888888888888,
              "#fdca26"
             ],
             [
              1,
              "#f0f921"
             ]
            ],
            "type": "histogram2dcontour"
           }
          ],
          "mesh3d": [
           {
            "colorbar": {
             "outlinewidth": 0,
             "ticks": ""
            },
            "type": "mesh3d"
           }
          ],
          "parcoords": [
           {
            "line": {
             "colorbar": {
              "outlinewidth": 0,
              "ticks": ""
             }
            },
            "type": "parcoords"
           }
          ],
          "pie": [
           {
            "automargin": true,
            "type": "pie"
           }
          ],
          "scatter": [
           {
            "fillpattern": {
             "fillmode": "overlay",
             "size": 10,
             "solidity": 0.2
            },
            "type": "scatter"
           }
          ],
          "scatter3d": [
           {
            "line": {
             "colorbar": {
              "outlinewidth": 0,
              "ticks": ""
             }
            },
            "marker": {
             "colorbar": {
              "outlinewidth": 0,
              "ticks": ""
             }
            },
            "type": "scatter3d"
           }
          ],
          "scattercarpet": [
           {
            "marker": {
             "colorbar": {
              "outlinewidth": 0,
              "ticks": ""
             }
            },
            "type": "scattercarpet"
           }
          ],
          "scattergeo": [
           {
            "marker": {
             "colorbar": {
              "outlinewidth": 0,
              "ticks": ""
             }
            },
            "type": "scattergeo"
           }
          ],
          "scattergl": [
           {
            "marker": {
             "colorbar": {
              "outlinewidth": 0,
              "ticks": ""
             }
            },
            "type": "scattergl"
           }
          ],
          "scattermap": [
           {
            "marker": {
             "colorbar": {
              "outlinewidth": 0,
              "ticks": ""
             }
            },
            "type": "scattermap"
           }
          ],
          "scattermapbox": [
           {
            "marker": {
             "colorbar": {
              "outlinewidth": 0,
              "ticks": ""
             }
            },
            "type": "scattermapbox"
           }
          ],
          "scatterpolar": [
           {
            "marker": {
             "colorbar": {
              "outlinewidth": 0,
              "ticks": ""
             }
            },
            "type": "scatterpolar"
           }
          ],
          "scatterpolargl": [
           {
            "marker": {
             "colorbar": {
              "outlinewidth": 0,
              "ticks": ""
             }
            },
            "type": "scatterpolargl"
           }
          ],
          "scatterternary": [
           {
            "marker": {
             "colorbar": {
              "outlinewidth": 0,
              "ticks": ""
             }
            },
            "type": "scatterternary"
           }
          ],
          "surface": [
           {
            "colorbar": {
             "outlinewidth": 0,
             "ticks": ""
            },
            "colorscale": [
             [
              0,
              "#0d0887"
             ],
             [
              0.1111111111111111,
              "#46039f"
             ],
             [
              0.2222222222222222,
              "#7201a8"
             ],
             [
              0.3333333333333333,
              "#9c179e"
             ],
             [
              0.4444444444444444,
              "#bd3786"
             ],
             [
              0.5555555555555556,
              "#d8576b"
             ],
             [
              0.6666666666666666,
              "#ed7953"
             ],
             [
              0.7777777777777778,
              "#fb9f3a"
             ],
             [
              0.8888888888888888,
              "#fdca26"
             ],
             [
              1,
              "#f0f921"
             ]
            ],
            "type": "surface"
           }
          ],
          "table": [
           {
            "cells": {
             "fill": {
              "color": "#EBF0F8"
             },
             "line": {
              "color": "white"
             }
            },
            "header": {
             "fill": {
              "color": "#C8D4E3"
             },
             "line": {
              "color": "white"
             }
            },
            "type": "table"
           }
          ]
         },
         "layout": {
          "annotationdefaults": {
           "arrowcolor": "#2a3f5f",
           "arrowhead": 0,
           "arrowwidth": 1
          },
          "autotypenumbers": "strict",
          "coloraxis": {
           "colorbar": {
            "outlinewidth": 0,
            "ticks": ""
           }
          },
          "colorscale": {
           "diverging": [
            [
             0,
             "#8e0152"
            ],
            [
             0.1,
             "#c51b7d"
            ],
            [
             0.2,
             "#de77ae"
            ],
            [
             0.3,
             "#f1b6da"
            ],
            [
             0.4,
             "#fde0ef"
            ],
            [
             0.5,
             "#f7f7f7"
            ],
            [
             0.6,
             "#e6f5d0"
            ],
            [
             0.7,
             "#b8e186"
            ],
            [
             0.8,
             "#7fbc41"
            ],
            [
             0.9,
             "#4d9221"
            ],
            [
             1,
             "#276419"
            ]
           ],
           "sequential": [
            [
             0,
             "#0d0887"
            ],
            [
             0.1111111111111111,
             "#46039f"
            ],
            [
             0.2222222222222222,
             "#7201a8"
            ],
            [
             0.3333333333333333,
             "#9c179e"
            ],
            [
             0.4444444444444444,
             "#bd3786"
            ],
            [
             0.5555555555555556,
             "#d8576b"
            ],
            [
             0.6666666666666666,
             "#ed7953"
            ],
            [
             0.7777777777777778,
             "#fb9f3a"
            ],
            [
             0.8888888888888888,
             "#fdca26"
            ],
            [
             1,
             "#f0f921"
            ]
           ],
           "sequentialminus": [
            [
             0,
             "#0d0887"
            ],
            [
             0.1111111111111111,
             "#46039f"
            ],
            [
             0.2222222222222222,
             "#7201a8"
            ],
            [
             0.3333333333333333,
             "#9c179e"
            ],
            [
             0.4444444444444444,
             "#bd3786"
            ],
            [
             0.5555555555555556,
             "#d8576b"
            ],
            [
             0.6666666666666666,
             "#ed7953"
            ],
            [
             0.7777777777777778,
             "#fb9f3a"
            ],
            [
             0.8888888888888888,
             "#fdca26"
            ],
            [
             1,
             "#f0f921"
            ]
           ]
          },
          "colorway": [
           "#636efa",
           "#EF553B",
           "#00cc96",
           "#ab63fa",
           "#FFA15A",
           "#19d3f3",
           "#FF6692",
           "#B6E880",
           "#FF97FF",
           "#FECB52"
          ],
          "font": {
           "color": "#2a3f5f"
          },
          "geo": {
           "bgcolor": "white",
           "lakecolor": "white",
           "landcolor": "#E5ECF6",
           "showlakes": true,
           "showland": true,
           "subunitcolor": "white"
          },
          "hoverlabel": {
           "align": "left"
          },
          "hovermode": "closest",
          "mapbox": {
           "style": "light"
          },
          "paper_bgcolor": "white",
          "plot_bgcolor": "#E5ECF6",
          "polar": {
           "angularaxis": {
            "gridcolor": "white",
            "linecolor": "white",
            "ticks": ""
           },
           "bgcolor": "#E5ECF6",
           "radialaxis": {
            "gridcolor": "white",
            "linecolor": "white",
            "ticks": ""
           }
          },
          "scene": {
           "xaxis": {
            "backgroundcolor": "#E5ECF6",
            "gridcolor": "white",
            "gridwidth": 2,
            "linecolor": "white",
            "showbackground": true,
            "ticks": "",
            "zerolinecolor": "white"
           },
           "yaxis": {
            "backgroundcolor": "#E5ECF6",
            "gridcolor": "white",
            "gridwidth": 2,
            "linecolor": "white",
            "showbackground": true,
            "ticks": "",
            "zerolinecolor": "white"
           },
           "zaxis": {
            "backgroundcolor": "#E5ECF6",
            "gridcolor": "white",
            "gridwidth": 2,
            "linecolor": "white",
            "showbackground": true,
            "ticks": "",
            "zerolinecolor": "white"
           }
          },
          "shapedefaults": {
           "line": {
            "color": "#2a3f5f"
           }
          },
          "ternary": {
           "aaxis": {
            "gridcolor": "white",
            "linecolor": "white",
            "ticks": ""
           },
           "baxis": {
            "gridcolor": "white",
            "linecolor": "white",
            "ticks": ""
           },
           "bgcolor": "#E5ECF6",
           "caxis": {
            "gridcolor": "white",
            "linecolor": "white",
            "ticks": ""
           }
          },
          "title": {
           "x": 0.05
          },
          "xaxis": {
           "automargin": true,
           "gridcolor": "white",
           "linecolor": "white",
           "ticks": "",
           "title": {
            "standoff": 15
           },
           "zerolinecolor": "white",
           "zerolinewidth": 2
          },
          "yaxis": {
           "automargin": true,
           "gridcolor": "white",
           "linecolor": "white",
           "ticks": "",
           "title": {
            "standoff": 15
           },
           "zerolinecolor": "white",
           "zerolinewidth": 2
          }
         }
        }
       }
      }
     },
     "metadata": {},
     "output_type": "display_data"
    }
   ],
   "source": [
    "px.sunburst(tips,path=['sex','smoker','day','time'],values='size')"
   ]
  },
  {
   "cell_type": "code",
   "execution_count": 32,
   "id": "58bd1ddf",
   "metadata": {},
   "outputs": [
    {
     "data": {
      "text/html": [
       "<div>\n",
       "<style scoped>\n",
       "    .dataframe tbody tr th:only-of-type {\n",
       "        vertical-align: middle;\n",
       "    }\n",
       "\n",
       "    .dataframe tbody tr th {\n",
       "        vertical-align: top;\n",
       "    }\n",
       "\n",
       "    .dataframe thead th {\n",
       "        text-align: right;\n",
       "    }\n",
       "</style>\n",
       "<table border=\"1\" class=\"dataframe\">\n",
       "  <thead>\n",
       "    <tr style=\"text-align: right;\">\n",
       "      <th></th>\n",
       "      <th>country</th>\n",
       "      <th>continent</th>\n",
       "      <th>year</th>\n",
       "      <th>lifeExp</th>\n",
       "      <th>pop</th>\n",
       "      <th>gdpPercap</th>\n",
       "      <th>iso_alpha</th>\n",
       "      <th>iso_num</th>\n",
       "    </tr>\n",
       "  </thead>\n",
       "  <tbody>\n",
       "    <tr>\n",
       "      <th>0</th>\n",
       "      <td>Afghanistan</td>\n",
       "      <td>Asia</td>\n",
       "      <td>1952</td>\n",
       "      <td>28.801</td>\n",
       "      <td>8425333</td>\n",
       "      <td>779.445314</td>\n",
       "      <td>AFG</td>\n",
       "      <td>4</td>\n",
       "    </tr>\n",
       "    <tr>\n",
       "      <th>1</th>\n",
       "      <td>Afghanistan</td>\n",
       "      <td>Asia</td>\n",
       "      <td>1957</td>\n",
       "      <td>30.332</td>\n",
       "      <td>9240934</td>\n",
       "      <td>820.853030</td>\n",
       "      <td>AFG</td>\n",
       "      <td>4</td>\n",
       "    </tr>\n",
       "    <tr>\n",
       "      <th>2</th>\n",
       "      <td>Afghanistan</td>\n",
       "      <td>Asia</td>\n",
       "      <td>1962</td>\n",
       "      <td>31.997</td>\n",
       "      <td>10267083</td>\n",
       "      <td>853.100710</td>\n",
       "      <td>AFG</td>\n",
       "      <td>4</td>\n",
       "    </tr>\n",
       "    <tr>\n",
       "      <th>3</th>\n",
       "      <td>Afghanistan</td>\n",
       "      <td>Asia</td>\n",
       "      <td>1967</td>\n",
       "      <td>34.020</td>\n",
       "      <td>11537966</td>\n",
       "      <td>836.197138</td>\n",
       "      <td>AFG</td>\n",
       "      <td>4</td>\n",
       "    </tr>\n",
       "    <tr>\n",
       "      <th>4</th>\n",
       "      <td>Afghanistan</td>\n",
       "      <td>Asia</td>\n",
       "      <td>1972</td>\n",
       "      <td>36.088</td>\n",
       "      <td>13079460</td>\n",
       "      <td>739.981106</td>\n",
       "      <td>AFG</td>\n",
       "      <td>4</td>\n",
       "    </tr>\n",
       "  </tbody>\n",
       "</table>\n",
       "</div>"
      ],
      "text/plain": [
       "       country continent  year  lifeExp       pop   gdpPercap iso_alpha  \\\n",
       "0  Afghanistan      Asia  1952   28.801   8425333  779.445314       AFG   \n",
       "1  Afghanistan      Asia  1957   30.332   9240934  820.853030       AFG   \n",
       "2  Afghanistan      Asia  1962   31.997  10267083  853.100710       AFG   \n",
       "3  Afghanistan      Asia  1967   34.020  11537966  836.197138       AFG   \n",
       "4  Afghanistan      Asia  1972   36.088  13079460  739.981106       AFG   \n",
       "\n",
       "   iso_num  \n",
       "0        4  \n",
       "1        4  \n",
       "2        4  \n",
       "3        4  \n",
       "4        4  "
      ]
     },
     "execution_count": 32,
     "metadata": {},
     "output_type": "execute_result"
    }
   ],
   "source": [
    "df = px.data.gapminder()\n",
    "df.head()"
   ]
  },
  {
   "cell_type": "code",
   "execution_count": 31,
   "id": "c76d1914",
   "metadata": {},
   "outputs": [
    {
     "data": {
      "application/vnd.plotly.v1+json": {
       "config": {
        "plotlyServerURL": "https://plot.ly"
       },
       "data": [
        {
         "branchvalues": "total",
         "customdata": [
          [
           "Africa"
          ],
          [
           "Africa"
          ],
          [
           "Africa"
          ],
          [
           "Africa"
          ],
          [
           "Africa"
          ],
          [
           "Africa"
          ],
          [
           "Africa"
          ],
          [
           "Africa"
          ],
          [
           "Africa"
          ],
          [
           "Africa"
          ],
          [
           "Africa"
          ],
          [
           "Africa"
          ],
          [
           "Africa"
          ],
          [
           "Africa"
          ],
          [
           "Africa"
          ],
          [
           "Africa"
          ],
          [
           "Africa"
          ],
          [
           "Africa"
          ],
          [
           "Africa"
          ],
          [
           "Africa"
          ],
          [
           "Africa"
          ],
          [
           "Africa"
          ],
          [
           "Africa"
          ],
          [
           "Africa"
          ],
          [
           "Africa"
          ],
          [
           "Africa"
          ],
          [
           "Africa"
          ],
          [
           "Africa"
          ],
          [
           "Africa"
          ],
          [
           "Africa"
          ],
          [
           "Africa"
          ],
          [
           "Africa"
          ],
          [
           "Africa"
          ],
          [
           "Africa"
          ],
          [
           "Africa"
          ],
          [
           "Africa"
          ],
          [
           "Africa"
          ],
          [
           "Africa"
          ],
          [
           "Africa"
          ],
          [
           "Africa"
          ],
          [
           "Africa"
          ],
          [
           "Africa"
          ],
          [
           "Africa"
          ],
          [
           "Africa"
          ],
          [
           "Africa"
          ],
          [
           "Africa"
          ],
          [
           "Africa"
          ],
          [
           "Africa"
          ],
          [
           "Africa"
          ],
          [
           "Africa"
          ],
          [
           "Africa"
          ],
          [
           "Africa"
          ],
          [
           "Africa"
          ],
          [
           "Africa"
          ],
          [
           "Africa"
          ],
          [
           "Africa"
          ],
          [
           "Africa"
          ],
          [
           "Africa"
          ],
          [
           "Africa"
          ],
          [
           "Africa"
          ],
          [
           "Africa"
          ],
          [
           "Africa"
          ],
          [
           "Africa"
          ],
          [
           "Africa"
          ],
          [
           "Africa"
          ],
          [
           "Africa"
          ],
          [
           "Africa"
          ],
          [
           "Africa"
          ],
          [
           "Africa"
          ],
          [
           "Africa"
          ],
          [
           "Africa"
          ],
          [
           "Africa"
          ],
          [
           "Africa"
          ],
          [
           "Africa"
          ],
          [
           "Africa"
          ],
          [
           "Africa"
          ],
          [
           "Africa"
          ],
          [
           "Africa"
          ],
          [
           "Africa"
          ],
          [
           "Africa"
          ],
          [
           "Africa"
          ],
          [
           "Africa"
          ],
          [
           "Africa"
          ],
          [
           "Africa"
          ],
          [
           "Africa"
          ],
          [
           "Africa"
          ],
          [
           "Africa"
          ],
          [
           "Africa"
          ],
          [
           "Africa"
          ],
          [
           "Africa"
          ],
          [
           "Africa"
          ],
          [
           "Africa"
          ],
          [
           "Africa"
          ],
          [
           "Africa"
          ],
          [
           "Africa"
          ],
          [
           "Africa"
          ],
          [
           "Africa"
          ],
          [
           "Africa"
          ],
          [
           "Africa"
          ],
          [
           "Africa"
          ],
          [
           "Africa"
          ],
          [
           "Africa"
          ],
          [
           "Africa"
          ],
          [
           "Africa"
          ],
          [
           "Africa"
          ],
          [
           "Africa"
          ],
          [
           "Africa"
          ],
          [
           "Africa"
          ],
          [
           "Africa"
          ],
          [
           "Africa"
          ],
          [
           "Africa"
          ],
          [
           "Africa"
          ],
          [
           "Africa"
          ],
          [
           "Africa"
          ],
          [
           "Africa"
          ],
          [
           "Africa"
          ],
          [
           "Africa"
          ],
          [
           "Africa"
          ],
          [
           "Africa"
          ],
          [
           "Africa"
          ],
          [
           "Africa"
          ],
          [
           "Africa"
          ],
          [
           "Africa"
          ],
          [
           "Africa"
          ],
          [
           "Africa"
          ],
          [
           "Africa"
          ],
          [
           "Africa"
          ],
          [
           "Africa"
          ],
          [
           "Africa"
          ],
          [
           "Africa"
          ],
          [
           "Africa"
          ],
          [
           "Africa"
          ],
          [
           "Africa"
          ],
          [
           "Africa"
          ],
          [
           "Africa"
          ],
          [
           "Africa"
          ],
          [
           "Africa"
          ],
          [
           "Africa"
          ],
          [
           "Africa"
          ],
          [
           "Africa"
          ],
          [
           "Africa"
          ],
          [
           "Africa"
          ],
          [
           "Africa"
          ],
          [
           "Africa"
          ],
          [
           "Africa"
          ],
          [
           "Africa"
          ],
          [
           "Africa"
          ],
          [
           "Africa"
          ],
          [
           "Africa"
          ],
          [
           "Africa"
          ],
          [
           "Africa"
          ],
          [
           "Africa"
          ],
          [
           "Africa"
          ],
          [
           "Africa"
          ],
          [
           "Africa"
          ],
          [
           "Africa"
          ],
          [
           "Africa"
          ],
          [
           "Africa"
          ],
          [
           "Africa"
          ],
          [
           "Africa"
          ],
          [
           "Africa"
          ],
          [
           "Africa"
          ],
          [
           "Africa"
          ],
          [
           "Africa"
          ],
          [
           "Africa"
          ],
          [
           "Africa"
          ],
          [
           "Africa"
          ],
          [
           "Africa"
          ],
          [
           "Africa"
          ],
          [
           "Africa"
          ],
          [
           "Africa"
          ],
          [
           "Africa"
          ],
          [
           "Africa"
          ],
          [
           "Africa"
          ],
          [
           "Africa"
          ],
          [
           "Africa"
          ],
          [
           "Africa"
          ],
          [
           "Africa"
          ],
          [
           "Africa"
          ],
          [
           "Africa"
          ],
          [
           "Africa"
          ],
          [
           "Africa"
          ],
          [
           "Africa"
          ],
          [
           "Africa"
          ],
          [
           "Africa"
          ],
          [
           "Africa"
          ],
          [
           "Africa"
          ],
          [
           "Africa"
          ],
          [
           "Africa"
          ],
          [
           "Africa"
          ],
          [
           "Africa"
          ],
          [
           "Africa"
          ],
          [
           "Africa"
          ],
          [
           "Africa"
          ],
          [
           "Africa"
          ],
          [
           "Africa"
          ],
          [
           "Africa"
          ],
          [
           "Africa"
          ],
          [
           "Africa"
          ],
          [
           "Africa"
          ],
          [
           "Africa"
          ],
          [
           "Africa"
          ],
          [
           "Africa"
          ],
          [
           "Africa"
          ],
          [
           "Africa"
          ],
          [
           "Africa"
          ],
          [
           "Africa"
          ],
          [
           "Africa"
          ],
          [
           "Africa"
          ],
          [
           "Africa"
          ],
          [
           "Africa"
          ],
          [
           "Africa"
          ],
          [
           "Africa"
          ],
          [
           "Africa"
          ],
          [
           "Africa"
          ],
          [
           "Africa"
          ],
          [
           "Africa"
          ],
          [
           "Africa"
          ],
          [
           "Africa"
          ],
          [
           "Africa"
          ],
          [
           "Africa"
          ],
          [
           "Africa"
          ],
          [
           "Africa"
          ],
          [
           "Africa"
          ],
          [
           "Africa"
          ],
          [
           "Africa"
          ],
          [
           "Africa"
          ],
          [
           "Africa"
          ],
          [
           "Africa"
          ],
          [
           "Africa"
          ],
          [
           "Africa"
          ],
          [
           "Africa"
          ],
          [
           "Africa"
          ],
          [
           "Africa"
          ],
          [
           "Africa"
          ],
          [
           "Africa"
          ],
          [
           "Africa"
          ],
          [
           "Africa"
          ],
          [
           "Africa"
          ],
          [
           "Africa"
          ],
          [
           "Africa"
          ],
          [
           "Africa"
          ],
          [
           "Africa"
          ],
          [
           "Africa"
          ],
          [
           "Africa"
          ],
          [
           "Africa"
          ],
          [
           "Africa"
          ],
          [
           "Africa"
          ],
          [
           "Africa"
          ],
          [
           "Africa"
          ],
          [
           "Africa"
          ],
          [
           "Africa"
          ],
          [
           "Africa"
          ],
          [
           "Africa"
          ],
          [
           "Africa"
          ],
          [
           "Africa"
          ],
          [
           "Africa"
          ],
          [
           "Africa"
          ],
          [
           "Africa"
          ],
          [
           "Africa"
          ],
          [
           "Africa"
          ],
          [
           "Africa"
          ],
          [
           "Africa"
          ],
          [
           "Africa"
          ],
          [
           "Africa"
          ],
          [
           "Africa"
          ],
          [
           "Africa"
          ],
          [
           "Africa"
          ],
          [
           "Africa"
          ],
          [
           "Africa"
          ],
          [
           "Africa"
          ],
          [
           "Africa"
          ],
          [
           "Africa"
          ],
          [
           "Africa"
          ],
          [
           "Africa"
          ],
          [
           "Africa"
          ],
          [
           "Africa"
          ],
          [
           "Africa"
          ],
          [
           "Africa"
          ],
          [
           "Africa"
          ],
          [
           "Africa"
          ],
          [
           "Africa"
          ],
          [
           "Africa"
          ],
          [
           "Africa"
          ],
          [
           "Africa"
          ],
          [
           "Africa"
          ],
          [
           "Africa"
          ],
          [
           "Africa"
          ],
          [
           "Africa"
          ],
          [
           "Africa"
          ],
          [
           "Africa"
          ],
          [
           "Africa"
          ],
          [
           "Africa"
          ],
          [
           "Africa"
          ],
          [
           "Africa"
          ],
          [
           "Africa"
          ],
          [
           "Africa"
          ],
          [
           "Africa"
          ],
          [
           "Africa"
          ],
          [
           "Africa"
          ],
          [
           "Africa"
          ],
          [
           "Africa"
          ],
          [
           "Africa"
          ],
          [
           "Africa"
          ],
          [
           "Africa"
          ],
          [
           "Africa"
          ],
          [
           "Africa"
          ],
          [
           "Africa"
          ],
          [
           "Africa"
          ],
          [
           "Africa"
          ],
          [
           "Africa"
          ],
          [
           "Africa"
          ],
          [
           "Africa"
          ],
          [
           "Africa"
          ],
          [
           "Africa"
          ],
          [
           "Africa"
          ],
          [
           "Africa"
          ],
          [
           "Africa"
          ],
          [
           "Africa"
          ],
          [
           "Africa"
          ],
          [
           "Africa"
          ],
          [
           "Africa"
          ],
          [
           "Africa"
          ],
          [
           "Africa"
          ],
          [
           "Africa"
          ],
          [
           "Africa"
          ],
          [
           "Africa"
          ],
          [
           "Africa"
          ],
          [
           "Africa"
          ],
          [
           "Africa"
          ],
          [
           "Africa"
          ],
          [
           "Africa"
          ],
          [
           "Africa"
          ],
          [
           "Africa"
          ],
          [
           "Africa"
          ],
          [
           "Africa"
          ],
          [
           "Africa"
          ],
          [
           "Africa"
          ],
          [
           "Africa"
          ],
          [
           "Africa"
          ],
          [
           "Africa"
          ],
          [
           "Africa"
          ],
          [
           "Africa"
          ],
          [
           "Africa"
          ],
          [
           "Africa"
          ],
          [
           "Africa"
          ],
          [
           "Africa"
          ],
          [
           "Africa"
          ],
          [
           "Africa"
          ],
          [
           "Africa"
          ],
          [
           "Africa"
          ],
          [
           "Africa"
          ],
          [
           "Africa"
          ],
          [
           "Africa"
          ],
          [
           "Africa"
          ],
          [
           "Africa"
          ],
          [
           "Africa"
          ],
          [
           "Africa"
          ],
          [
           "Africa"
          ],
          [
           "Africa"
          ],
          [
           "Africa"
          ],
          [
           "Africa"
          ],
          [
           "Africa"
          ],
          [
           "Africa"
          ],
          [
           "Africa"
          ],
          [
           "Africa"
          ],
          [
           "Africa"
          ],
          [
           "Africa"
          ],
          [
           "Africa"
          ],
          [
           "Africa"
          ],
          [
           "Africa"
          ],
          [
           "Africa"
          ],
          [
           "Africa"
          ],
          [
           "Africa"
          ],
          [
           "Africa"
          ],
          [
           "Africa"
          ],
          [
           "Africa"
          ],
          [
           "Africa"
          ],
          [
           "Africa"
          ],
          [
           "Africa"
          ],
          [
           "Africa"
          ],
          [
           "Africa"
          ],
          [
           "Africa"
          ],
          [
           "Africa"
          ],
          [
           "Africa"
          ],
          [
           "Africa"
          ],
          [
           "Africa"
          ],
          [
           "Africa"
          ],
          [
           "Africa"
          ],
          [
           "Africa"
          ],
          [
           "Africa"
          ],
          [
           "Africa"
          ],
          [
           "Africa"
          ],
          [
           "Africa"
          ],
          [
           "Africa"
          ],
          [
           "Africa"
          ],
          [
           "Africa"
          ],
          [
           "Africa"
          ],
          [
           "Africa"
          ],
          [
           "Africa"
          ],
          [
           "Africa"
          ],
          [
           "Africa"
          ],
          [
           "Africa"
          ],
          [
           "Africa"
          ],
          [
           "Africa"
          ],
          [
           "Africa"
          ],
          [
           "Africa"
          ],
          [
           "Africa"
          ],
          [
           "Africa"
          ],
          [
           "Africa"
          ],
          [
           "Africa"
          ],
          [
           "Africa"
          ],
          [
           "Africa"
          ],
          [
           "Africa"
          ],
          [
           "Africa"
          ],
          [
           "Africa"
          ],
          [
           "Africa"
          ],
          [
           "Africa"
          ],
          [
           "Africa"
          ],
          [
           "Africa"
          ],
          [
           "Africa"
          ],
          [
           "Africa"
          ],
          [
           "Africa"
          ],
          [
           "Africa"
          ],
          [
           "Africa"
          ],
          [
           "Africa"
          ],
          [
           "Africa"
          ],
          [
           "Africa"
          ],
          [
           "Africa"
          ],
          [
           "Africa"
          ],
          [
           "Africa"
          ],
          [
           "Africa"
          ],
          [
           "Africa"
          ],
          [
           "Africa"
          ],
          [
           "Africa"
          ],
          [
           "Africa"
          ],
          [
           "Africa"
          ],
          [
           "Africa"
          ],
          [
           "Africa"
          ],
          [
           "Africa"
          ],
          [
           "Africa"
          ],
          [
           "Africa"
          ],
          [
           "Africa"
          ],
          [
           "Africa"
          ],
          [
           "Africa"
          ],
          [
           "Africa"
          ],
          [
           "Africa"
          ],
          [
           "Africa"
          ],
          [
           "Africa"
          ],
          [
           "Africa"
          ],
          [
           "Africa"
          ],
          [
           "Africa"
          ],
          [
           "Africa"
          ],
          [
           "Africa"
          ],
          [
           "Africa"
          ],
          [
           "Africa"
          ],
          [
           "Africa"
          ],
          [
           "Africa"
          ],
          [
           "Africa"
          ],
          [
           "Africa"
          ],
          [
           "Africa"
          ],
          [
           "Africa"
          ],
          [
           "Africa"
          ],
          [
           "Africa"
          ],
          [
           "Africa"
          ],
          [
           "Africa"
          ],
          [
           "Africa"
          ],
          [
           "Africa"
          ],
          [
           "Africa"
          ],
          [
           "Africa"
          ],
          [
           "Africa"
          ],
          [
           "Africa"
          ],
          [
           "Africa"
          ],
          [
           "Africa"
          ],
          [
           "Africa"
          ],
          [
           "Africa"
          ],
          [
           "Africa"
          ],
          [
           "Africa"
          ],
          [
           "Africa"
          ],
          [
           "Africa"
          ],
          [
           "Africa"
          ],
          [
           "Africa"
          ],
          [
           "Africa"
          ],
          [
           "Africa"
          ],
          [
           "Africa"
          ],
          [
           "Africa"
          ],
          [
           "Africa"
          ],
          [
           "Africa"
          ],
          [
           "Africa"
          ],
          [
           "Africa"
          ],
          [
           "Africa"
          ],
          [
           "Africa"
          ],
          [
           "Africa"
          ],
          [
           "Africa"
          ],
          [
           "Africa"
          ],
          [
           "Africa"
          ],
          [
           "Africa"
          ],
          [
           "Africa"
          ],
          [
           "Africa"
          ],
          [
           "Africa"
          ],
          [
           "Africa"
          ],
          [
           "Africa"
          ],
          [
           "Africa"
          ],
          [
           "Africa"
          ],
          [
           "Africa"
          ],
          [
           "Africa"
          ],
          [
           "Africa"
          ],
          [
           "Africa"
          ],
          [
           "Africa"
          ],
          [
           "Africa"
          ],
          [
           "Africa"
          ],
          [
           "Africa"
          ],
          [
           "Africa"
          ],
          [
           "Africa"
          ],
          [
           "Africa"
          ],
          [
           "Africa"
          ],
          [
           "Africa"
          ],
          [
           "Africa"
          ],
          [
           "Africa"
          ],
          [
           "Africa"
          ],
          [
           "Africa"
          ],
          [
           "Africa"
          ],
          [
           "Africa"
          ],
          [
           "Africa"
          ],
          [
           "Africa"
          ],
          [
           "Africa"
          ],
          [
           "Africa"
          ],
          [
           "Africa"
          ],
          [
           "Africa"
          ],
          [
           "Africa"
          ],
          [
           "Africa"
          ],
          [
           "Africa"
          ],
          [
           "Africa"
          ],
          [
           "Africa"
          ],
          [
           "Africa"
          ],
          [
           "Africa"
          ],
          [
           "Africa"
          ],
          [
           "Africa"
          ],
          [
           "Africa"
          ],
          [
           "Africa"
          ],
          [
           "Africa"
          ],
          [
           "Africa"
          ],
          [
           "Africa"
          ],
          [
           "Africa"
          ],
          [
           "Africa"
          ],
          [
           "Africa"
          ],
          [
           "Africa"
          ],
          [
           "Africa"
          ],
          [
           "Africa"
          ],
          [
           "Africa"
          ],
          [
           "Africa"
          ],
          [
           "Africa"
          ],
          [
           "Africa"
          ],
          [
           "Africa"
          ],
          [
           "Africa"
          ],
          [
           "Africa"
          ],
          [
           "Africa"
          ],
          [
           "Africa"
          ],
          [
           "Africa"
          ],
          [
           "Africa"
          ],
          [
           "Africa"
          ],
          [
           "Africa"
          ],
          [
           "Africa"
          ],
          [
           "Africa"
          ],
          [
           "Africa"
          ],
          [
           "Africa"
          ],
          [
           "Africa"
          ],
          [
           "Africa"
          ],
          [
           "Africa"
          ],
          [
           "Africa"
          ],
          [
           "Africa"
          ],
          [
           "Africa"
          ],
          [
           "Africa"
          ],
          [
           "Africa"
          ],
          [
           "Africa"
          ],
          [
           "Africa"
          ],
          [
           "Africa"
          ],
          [
           "Africa"
          ],
          [
           "Africa"
          ],
          [
           "Africa"
          ],
          [
           "Africa"
          ],
          [
           "Africa"
          ],
          [
           "Africa"
          ],
          [
           "Africa"
          ],
          [
           "Africa"
          ],
          [
           "Africa"
          ],
          [
           "Africa"
          ],
          [
           "Africa"
          ],
          [
           "Africa"
          ],
          [
           "Africa"
          ],
          [
           "Africa"
          ],
          [
           "Africa"
          ],
          [
           "Africa"
          ],
          [
           "Africa"
          ],
          [
           "Africa"
          ],
          [
           "Africa"
          ],
          [
           "Africa"
          ],
          [
           "Africa"
          ],
          [
           "Africa"
          ],
          [
           "Africa"
          ],
          [
           "Africa"
          ],
          [
           "Africa"
          ],
          [
           "Africa"
          ],
          [
           "Africa"
          ],
          [
           "Africa"
          ],
          [
           "Africa"
          ],
          [
           "Africa"
          ],
          [
           "Africa"
          ],
          [
           "Africa"
          ],
          [
           "Africa"
          ],
          [
           "Africa"
          ],
          [
           "Africa"
          ],
          [
           "Africa"
          ],
          [
           "Africa"
          ],
          [
           "Africa"
          ],
          [
           "Africa"
          ],
          [
           "Africa"
          ],
          [
           "Africa"
          ],
          [
           "Africa"
          ],
          [
           "Africa"
          ],
          [
           "Africa"
          ],
          [
           "Africa"
          ],
          [
           "Africa"
          ],
          [
           "Africa"
          ],
          [
           "Africa"
          ],
          [
           "Africa"
          ],
          [
           "Africa"
          ],
          [
           "Africa"
          ],
          [
           "Africa"
          ],
          [
           "Africa"
          ],
          [
           "Africa"
          ],
          [
           "Africa"
          ],
          [
           "Africa"
          ],
          [
           "Africa"
          ],
          [
           "Africa"
          ],
          [
           "Africa"
          ],
          [
           "Africa"
          ],
          [
           "Africa"
          ],
          [
           "Africa"
          ],
          [
           "Africa"
          ],
          [
           "Africa"
          ],
          [
           "Africa"
          ],
          [
           "Africa"
          ],
          [
           "Africa"
          ],
          [
           "Africa"
          ],
          [
           "Africa"
          ],
          [
           "Africa"
          ],
          [
           "Africa"
          ],
          [
           "Africa"
          ],
          [
           "Africa"
          ],
          [
           "Africa"
          ],
          [
           "Africa"
          ],
          [
           "Africa"
          ],
          [
           "Africa"
          ],
          [
           "Africa"
          ],
          [
           "Africa"
          ],
          [
           "Africa"
          ],
          [
           "Africa"
          ],
          [
           "Africa"
          ],
          [
           "Africa"
          ],
          [
           "Africa"
          ],
          [
           "Africa"
          ],
          [
           "Africa"
          ],
          [
           "Africa"
          ],
          [
           "Africa"
          ],
          [
           "Africa"
          ],
          [
           "Africa"
          ],
          [
           "Africa"
          ],
          [
           "Africa"
          ],
          [
           "Africa"
          ],
          [
           "Africa"
          ],
          [
           "Africa"
          ],
          [
           "Africa"
          ],
          [
           "Africa"
          ],
          [
           "Africa"
          ],
          [
           "Africa"
          ],
          [
           "Africa"
          ],
          [
           "Americas"
          ],
          [
           "Americas"
          ],
          [
           "Americas"
          ],
          [
           "Americas"
          ],
          [
           "Americas"
          ],
          [
           "Americas"
          ],
          [
           "Americas"
          ],
          [
           "Americas"
          ],
          [
           "Americas"
          ],
          [
           "Americas"
          ],
          [
           "Americas"
          ],
          [
           "Americas"
          ],
          [
           "Americas"
          ],
          [
           "Americas"
          ],
          [
           "Americas"
          ],
          [
           "Americas"
          ],
          [
           "Americas"
          ],
          [
           "Americas"
          ],
          [
           "Americas"
          ],
          [
           "Americas"
          ],
          [
           "Americas"
          ],
          [
           "Americas"
          ],
          [
           "Americas"
          ],
          [
           "Americas"
          ],
          [
           "Americas"
          ],
          [
           "Americas"
          ],
          [
           "Americas"
          ],
          [
           "Americas"
          ],
          [
           "Americas"
          ],
          [
           "Americas"
          ],
          [
           "Americas"
          ],
          [
           "Americas"
          ],
          [
           "Americas"
          ],
          [
           "Americas"
          ],
          [
           "Americas"
          ],
          [
           "Americas"
          ],
          [
           "Americas"
          ],
          [
           "Americas"
          ],
          [
           "Americas"
          ],
          [
           "Americas"
          ],
          [
           "Americas"
          ],
          [
           "Americas"
          ],
          [
           "Americas"
          ],
          [
           "Americas"
          ],
          [
           "Americas"
          ],
          [
           "Americas"
          ],
          [
           "Americas"
          ],
          [
           "Americas"
          ],
          [
           "Americas"
          ],
          [
           "Americas"
          ],
          [
           "Americas"
          ],
          [
           "Americas"
          ],
          [
           "Americas"
          ],
          [
           "Americas"
          ],
          [
           "Americas"
          ],
          [
           "Americas"
          ],
          [
           "Americas"
          ],
          [
           "Americas"
          ],
          [
           "Americas"
          ],
          [
           "Americas"
          ],
          [
           "Americas"
          ],
          [
           "Americas"
          ],
          [
           "Americas"
          ],
          [
           "Americas"
          ],
          [
           "Americas"
          ],
          [
           "Americas"
          ],
          [
           "Americas"
          ],
          [
           "Americas"
          ],
          [
           "Americas"
          ],
          [
           "Americas"
          ],
          [
           "Americas"
          ],
          [
           "Americas"
          ],
          [
           "Americas"
          ],
          [
           "Americas"
          ],
          [
           "Americas"
          ],
          [
           "Americas"
          ],
          [
           "Americas"
          ],
          [
           "Americas"
          ],
          [
           "Americas"
          ],
          [
           "Americas"
          ],
          [
           "Americas"
          ],
          [
           "Americas"
          ],
          [
           "Americas"
          ],
          [
           "Americas"
          ],
          [
           "Americas"
          ],
          [
           "Americas"
          ],
          [
           "Americas"
          ],
          [
           "Americas"
          ],
          [
           "Americas"
          ],
          [
           "Americas"
          ],
          [
           "Americas"
          ],
          [
           "Americas"
          ],
          [
           "Americas"
          ],
          [
           "Americas"
          ],
          [
           "Americas"
          ],
          [
           "Americas"
          ],
          [
           "Americas"
          ],
          [
           "Americas"
          ],
          [
           "Americas"
          ],
          [
           "Americas"
          ],
          [
           "Americas"
          ],
          [
           "Americas"
          ],
          [
           "Americas"
          ],
          [
           "Americas"
          ],
          [
           "Americas"
          ],
          [
           "Americas"
          ],
          [
           "Americas"
          ],
          [
           "Americas"
          ],
          [
           "Americas"
          ],
          [
           "Americas"
          ],
          [
           "Americas"
          ],
          [
           "Americas"
          ],
          [
           "Americas"
          ],
          [
           "Americas"
          ],
          [
           "Americas"
          ],
          [
           "Americas"
          ],
          [
           "Americas"
          ],
          [
           "Americas"
          ],
          [
           "Americas"
          ],
          [
           "Americas"
          ],
          [
           "Americas"
          ],
          [
           "Americas"
          ],
          [
           "Americas"
          ],
          [
           "Americas"
          ],
          [
           "Americas"
          ],
          [
           "Americas"
          ],
          [
           "Americas"
          ],
          [
           "Americas"
          ],
          [
           "Americas"
          ],
          [
           "Americas"
          ],
          [
           "Americas"
          ],
          [
           "Americas"
          ],
          [
           "Americas"
          ],
          [
           "Americas"
          ],
          [
           "Americas"
          ],
          [
           "Americas"
          ],
          [
           "Americas"
          ],
          [
           "Americas"
          ],
          [
           "Americas"
          ],
          [
           "Americas"
          ],
          [
           "Americas"
          ],
          [
           "Americas"
          ],
          [
           "Americas"
          ],
          [
           "Americas"
          ],
          [
           "Americas"
          ],
          [
           "Americas"
          ],
          [
           "Americas"
          ],
          [
           "Americas"
          ],
          [
           "Americas"
          ],
          [
           "Americas"
          ],
          [
           "Americas"
          ],
          [
           "Americas"
          ],
          [
           "Americas"
          ],
          [
           "Americas"
          ],
          [
           "Americas"
          ],
          [
           "Americas"
          ],
          [
           "Americas"
          ],
          [
           "Americas"
          ],
          [
           "Americas"
          ],
          [
           "Americas"
          ],
          [
           "Americas"
          ],
          [
           "Americas"
          ],
          [
           "Americas"
          ],
          [
           "Americas"
          ],
          [
           "Americas"
          ],
          [
           "Americas"
          ],
          [
           "Americas"
          ],
          [
           "Americas"
          ],
          [
           "Americas"
          ],
          [
           "Americas"
          ],
          [
           "Americas"
          ],
          [
           "Americas"
          ],
          [
           "Americas"
          ],
          [
           "Americas"
          ],
          [
           "Americas"
          ],
          [
           "Americas"
          ],
          [
           "Americas"
          ],
          [
           "Americas"
          ],
          [
           "Americas"
          ],
          [
           "Americas"
          ],
          [
           "Americas"
          ],
          [
           "Americas"
          ],
          [
           "Americas"
          ],
          [
           "Americas"
          ],
          [
           "Americas"
          ],
          [
           "Americas"
          ],
          [
           "Americas"
          ],
          [
           "Americas"
          ],
          [
           "Americas"
          ],
          [
           "Americas"
          ],
          [
           "Americas"
          ],
          [
           "Americas"
          ],
          [
           "Americas"
          ],
          [
           "Americas"
          ],
          [
           "Americas"
          ],
          [
           "Americas"
          ],
          [
           "Americas"
          ],
          [
           "Americas"
          ],
          [
           "Americas"
          ],
          [
           "Americas"
          ],
          [
           "Americas"
          ],
          [
           "Americas"
          ],
          [
           "Americas"
          ],
          [
           "Americas"
          ],
          [
           "Americas"
          ],
          [
           "Americas"
          ],
          [
           "Americas"
          ],
          [
           "Americas"
          ],
          [
           "Americas"
          ],
          [
           "Americas"
          ],
          [
           "Americas"
          ],
          [
           "Americas"
          ],
          [
           "Americas"
          ],
          [
           "Americas"
          ],
          [
           "Americas"
          ],
          [
           "Americas"
          ],
          [
           "Americas"
          ],
          [
           "Americas"
          ],
          [
           "Americas"
          ],
          [
           "Americas"
          ],
          [
           "Americas"
          ],
          [
           "Americas"
          ],
          [
           "Americas"
          ],
          [
           "Americas"
          ],
          [
           "Americas"
          ],
          [
           "Americas"
          ],
          [
           "Americas"
          ],
          [
           "Americas"
          ],
          [
           "Americas"
          ],
          [
           "Americas"
          ],
          [
           "Americas"
          ],
          [
           "Americas"
          ],
          [
           "Americas"
          ],
          [
           "Americas"
          ],
          [
           "Americas"
          ],
          [
           "Americas"
          ],
          [
           "Americas"
          ],
          [
           "Americas"
          ],
          [
           "Americas"
          ],
          [
           "Americas"
          ],
          [
           "Americas"
          ],
          [
           "Americas"
          ],
          [
           "Americas"
          ],
          [
           "Americas"
          ],
          [
           "Americas"
          ],
          [
           "Americas"
          ],
          [
           "Americas"
          ],
          [
           "Americas"
          ],
          [
           "Americas"
          ],
          [
           "Americas"
          ],
          [
           "Americas"
          ],
          [
           "Americas"
          ],
          [
           "Americas"
          ],
          [
           "Americas"
          ],
          [
           "Americas"
          ],
          [
           "Americas"
          ],
          [
           "Americas"
          ],
          [
           "Americas"
          ],
          [
           "Americas"
          ],
          [
           "Americas"
          ],
          [
           "Americas"
          ],
          [
           "Americas"
          ],
          [
           "Americas"
          ],
          [
           "Americas"
          ],
          [
           "Americas"
          ],
          [
           "Americas"
          ],
          [
           "Americas"
          ],
          [
           "Americas"
          ],
          [
           "Americas"
          ],
          [
           "Americas"
          ],
          [
           "Americas"
          ],
          [
           "Americas"
          ],
          [
           "Americas"
          ],
          [
           "Americas"
          ],
          [
           "Americas"
          ],
          [
           "Americas"
          ],
          [
           "Americas"
          ],
          [
           "Americas"
          ],
          [
           "Americas"
          ],
          [
           "Americas"
          ],
          [
           "Americas"
          ],
          [
           "Americas"
          ],
          [
           "Americas"
          ],
          [
           "Americas"
          ],
          [
           "Americas"
          ],
          [
           "Americas"
          ],
          [
           "Americas"
          ],
          [
           "Americas"
          ],
          [
           "Americas"
          ],
          [
           "Americas"
          ],
          [
           "Americas"
          ],
          [
           "Americas"
          ],
          [
           "Americas"
          ],
          [
           "Americas"
          ],
          [
           "Americas"
          ],
          [
           "Americas"
          ],
          [
           "Americas"
          ],
          [
           "Americas"
          ],
          [
           "Americas"
          ],
          [
           "Americas"
          ],
          [
           "Americas"
          ],
          [
           "Americas"
          ],
          [
           "Americas"
          ],
          [
           "Americas"
          ],
          [
           "Americas"
          ],
          [
           "Americas"
          ],
          [
           "Americas"
          ],
          [
           "Americas"
          ],
          [
           "Americas"
          ],
          [
           "Americas"
          ],
          [
           "Americas"
          ],
          [
           "Americas"
          ],
          [
           "Americas"
          ],
          [
           "Americas"
          ],
          [
           "Americas"
          ],
          [
           "Americas"
          ],
          [
           "Americas"
          ],
          [
           "Americas"
          ],
          [
           "Americas"
          ],
          [
           "Americas"
          ],
          [
           "Americas"
          ],
          [
           "Americas"
          ],
          [
           "Americas"
          ],
          [
           "Americas"
          ],
          [
           "Americas"
          ],
          [
           "Americas"
          ],
          [
           "Asia"
          ],
          [
           "Asia"
          ],
          [
           "Asia"
          ],
          [
           "Asia"
          ],
          [
           "Asia"
          ],
          [
           "Asia"
          ],
          [
           "Asia"
          ],
          [
           "Asia"
          ],
          [
           "Asia"
          ],
          [
           "Asia"
          ],
          [
           "Asia"
          ],
          [
           "Asia"
          ],
          [
           "Asia"
          ],
          [
           "Asia"
          ],
          [
           "Asia"
          ],
          [
           "Asia"
          ],
          [
           "Asia"
          ],
          [
           "Asia"
          ],
          [
           "Asia"
          ],
          [
           "Asia"
          ],
          [
           "Asia"
          ],
          [
           "Asia"
          ],
          [
           "Asia"
          ],
          [
           "Asia"
          ],
          [
           "Asia"
          ],
          [
           "Asia"
          ],
          [
           "Asia"
          ],
          [
           "Asia"
          ],
          [
           "Asia"
          ],
          [
           "Asia"
          ],
          [
           "Asia"
          ],
          [
           "Asia"
          ],
          [
           "Asia"
          ],
          [
           "Asia"
          ],
          [
           "Asia"
          ],
          [
           "Asia"
          ],
          [
           "Asia"
          ],
          [
           "Asia"
          ],
          [
           "Asia"
          ],
          [
           "Asia"
          ],
          [
           "Asia"
          ],
          [
           "Asia"
          ],
          [
           "Asia"
          ],
          [
           "Asia"
          ],
          [
           "Asia"
          ],
          [
           "Asia"
          ],
          [
           "Asia"
          ],
          [
           "Asia"
          ],
          [
           "Asia"
          ],
          [
           "Asia"
          ],
          [
           "Asia"
          ],
          [
           "Asia"
          ],
          [
           "Asia"
          ],
          [
           "Asia"
          ],
          [
           "Asia"
          ],
          [
           "Asia"
          ],
          [
           "Asia"
          ],
          [
           "Asia"
          ],
          [
           "Asia"
          ],
          [
           "Asia"
          ],
          [
           "Asia"
          ],
          [
           "Asia"
          ],
          [
           "Asia"
          ],
          [
           "Asia"
          ],
          [
           "Asia"
          ],
          [
           "Asia"
          ],
          [
           "Asia"
          ],
          [
           "Asia"
          ],
          [
           "Asia"
          ],
          [
           "Asia"
          ],
          [
           "Asia"
          ],
          [
           "Asia"
          ],
          [
           "Asia"
          ],
          [
           "Asia"
          ],
          [
           "Asia"
          ],
          [
           "Asia"
          ],
          [
           "Asia"
          ],
          [
           "Asia"
          ],
          [
           "Asia"
          ],
          [
           "Asia"
          ],
          [
           "Asia"
          ],
          [
           "Asia"
          ],
          [
           "Asia"
          ],
          [
           "Asia"
          ],
          [
           "Asia"
          ],
          [
           "Asia"
          ],
          [
           "Asia"
          ],
          [
           "Asia"
          ],
          [
           "Asia"
          ],
          [
           "Asia"
          ],
          [
           "Asia"
          ],
          [
           "Asia"
          ],
          [
           "Asia"
          ],
          [
           "Asia"
          ],
          [
           "Asia"
          ],
          [
           "Asia"
          ],
          [
           "Asia"
          ],
          [
           "Asia"
          ],
          [
           "Asia"
          ],
          [
           "Asia"
          ],
          [
           "Asia"
          ],
          [
           "Asia"
          ],
          [
           "Asia"
          ],
          [
           "Asia"
          ],
          [
           "Asia"
          ],
          [
           "Asia"
          ],
          [
           "Asia"
          ],
          [
           "Asia"
          ],
          [
           "Asia"
          ],
          [
           "Asia"
          ],
          [
           "Asia"
          ],
          [
           "Asia"
          ],
          [
           "Asia"
          ],
          [
           "Asia"
          ],
          [
           "Asia"
          ],
          [
           "Asia"
          ],
          [
           "Asia"
          ],
          [
           "Asia"
          ],
          [
           "Asia"
          ],
          [
           "Asia"
          ],
          [
           "Asia"
          ],
          [
           "Asia"
          ],
          [
           "Asia"
          ],
          [
           "Asia"
          ],
          [
           "Asia"
          ],
          [
           "Asia"
          ],
          [
           "Asia"
          ],
          [
           "Asia"
          ],
          [
           "Asia"
          ],
          [
           "Asia"
          ],
          [
           "Asia"
          ],
          [
           "Asia"
          ],
          [
           "Asia"
          ],
          [
           "Asia"
          ],
          [
           "Asia"
          ],
          [
           "Asia"
          ],
          [
           "Asia"
          ],
          [
           "Asia"
          ],
          [
           "Asia"
          ],
          [
           "Asia"
          ],
          [
           "Asia"
          ],
          [
           "Asia"
          ],
          [
           "Asia"
          ],
          [
           "Asia"
          ],
          [
           "Asia"
          ],
          [
           "Asia"
          ],
          [
           "Asia"
          ],
          [
           "Asia"
          ],
          [
           "Asia"
          ],
          [
           "Asia"
          ],
          [
           "Asia"
          ],
          [
           "Asia"
          ],
          [
           "Asia"
          ],
          [
           "Asia"
          ],
          [
           "Asia"
          ],
          [
           "Asia"
          ],
          [
           "Asia"
          ],
          [
           "Asia"
          ],
          [
           "Asia"
          ],
          [
           "Asia"
          ],
          [
           "Asia"
          ],
          [
           "Asia"
          ],
          [
           "Asia"
          ],
          [
           "Asia"
          ],
          [
           "Asia"
          ],
          [
           "Asia"
          ],
          [
           "Asia"
          ],
          [
           "Asia"
          ],
          [
           "Asia"
          ],
          [
           "Asia"
          ],
          [
           "Asia"
          ],
          [
           "Asia"
          ],
          [
           "Asia"
          ],
          [
           "Asia"
          ],
          [
           "Asia"
          ],
          [
           "Asia"
          ],
          [
           "Asia"
          ],
          [
           "Asia"
          ],
          [
           "Asia"
          ],
          [
           "Asia"
          ],
          [
           "Asia"
          ],
          [
           "Asia"
          ],
          [
           "Asia"
          ],
          [
           "Asia"
          ],
          [
           "Asia"
          ],
          [
           "Asia"
          ],
          [
           "Asia"
          ],
          [
           "Asia"
          ],
          [
           "Asia"
          ],
          [
           "Asia"
          ],
          [
           "Asia"
          ],
          [
           "Asia"
          ],
          [
           "Asia"
          ],
          [
           "Asia"
          ],
          [
           "Asia"
          ],
          [
           "Asia"
          ],
          [
           "Asia"
          ],
          [
           "Asia"
          ],
          [
           "Asia"
          ],
          [
           "Asia"
          ],
          [
           "Asia"
          ],
          [
           "Asia"
          ],
          [
           "Asia"
          ],
          [
           "Asia"
          ],
          [
           "Asia"
          ],
          [
           "Asia"
          ],
          [
           "Asia"
          ],
          [
           "Asia"
          ],
          [
           "Asia"
          ],
          [
           "Asia"
          ],
          [
           "Asia"
          ],
          [
           "Asia"
          ],
          [
           "Asia"
          ],
          [
           "Asia"
          ],
          [
           "Asia"
          ],
          [
           "Asia"
          ],
          [
           "Asia"
          ],
          [
           "Asia"
          ],
          [
           "Asia"
          ],
          [
           "Asia"
          ],
          [
           "Asia"
          ],
          [
           "Asia"
          ],
          [
           "Asia"
          ],
          [
           "Asia"
          ],
          [
           "Asia"
          ],
          [
           "Asia"
          ],
          [
           "Asia"
          ],
          [
           "Asia"
          ],
          [
           "Asia"
          ],
          [
           "Asia"
          ],
          [
           "Asia"
          ],
          [
           "Asia"
          ],
          [
           "Asia"
          ],
          [
           "Asia"
          ],
          [
           "Asia"
          ],
          [
           "Asia"
          ],
          [
           "Asia"
          ],
          [
           "Asia"
          ],
          [
           "Asia"
          ],
          [
           "Asia"
          ],
          [
           "Asia"
          ],
          [
           "Asia"
          ],
          [
           "Asia"
          ],
          [
           "Asia"
          ],
          [
           "Asia"
          ],
          [
           "Asia"
          ],
          [
           "Asia"
          ],
          [
           "Asia"
          ],
          [
           "Asia"
          ],
          [
           "Asia"
          ],
          [
           "Asia"
          ],
          [
           "Asia"
          ],
          [
           "Asia"
          ],
          [
           "Asia"
          ],
          [
           "Asia"
          ],
          [
           "Asia"
          ],
          [
           "Asia"
          ],
          [
           "Asia"
          ],
          [
           "Asia"
          ],
          [
           "Asia"
          ],
          [
           "Asia"
          ],
          [
           "Asia"
          ],
          [
           "Asia"
          ],
          [
           "Asia"
          ],
          [
           "Asia"
          ],
          [
           "Asia"
          ],
          [
           "Asia"
          ],
          [
           "Asia"
          ],
          [
           "Asia"
          ],
          [
           "Asia"
          ],
          [
           "Asia"
          ],
          [
           "Asia"
          ],
          [
           "Asia"
          ],
          [
           "Asia"
          ],
          [
           "Asia"
          ],
          [
           "Asia"
          ],
          [
           "Asia"
          ],
          [
           "Asia"
          ],
          [
           "Asia"
          ],
          [
           "Asia"
          ],
          [
           "Asia"
          ],
          [
           "Asia"
          ],
          [
           "Asia"
          ],
          [
           "Asia"
          ],
          [
           "Asia"
          ],
          [
           "Asia"
          ],
          [
           "Asia"
          ],
          [
           "Asia"
          ],
          [
           "Asia"
          ],
          [
           "Asia"
          ],
          [
           "Asia"
          ],
          [
           "Asia"
          ],
          [
           "Asia"
          ],
          [
           "Asia"
          ],
          [
           "Asia"
          ],
          [
           "Asia"
          ],
          [
           "Asia"
          ],
          [
           "Asia"
          ],
          [
           "Asia"
          ],
          [
           "Asia"
          ],
          [
           "Asia"
          ],
          [
           "Asia"
          ],
          [
           "Asia"
          ],
          [
           "Asia"
          ],
          [
           "Asia"
          ],
          [
           "Asia"
          ],
          [
           "Asia"
          ],
          [
           "Asia"
          ],
          [
           "Asia"
          ],
          [
           "Asia"
          ],
          [
           "Asia"
          ],
          [
           "Asia"
          ],
          [
           "Asia"
          ],
          [
           "Asia"
          ],
          [
           "Asia"
          ],
          [
           "Asia"
          ],
          [
           "Asia"
          ],
          [
           "Asia"
          ],
          [
           "Asia"
          ],
          [
           "Asia"
          ],
          [
           "Asia"
          ],
          [
           "Asia"
          ],
          [
           "Asia"
          ],
          [
           "Asia"
          ],
          [
           "Asia"
          ],
          [
           "Asia"
          ],
          [
           "Asia"
          ],
          [
           "Asia"
          ],
          [
           "Asia"
          ],
          [
           "Asia"
          ],
          [
           "Asia"
          ],
          [
           "Asia"
          ],
          [
           "Asia"
          ],
          [
           "Asia"
          ],
          [
           "Asia"
          ],
          [
           "Asia"
          ],
          [
           "Asia"
          ],
          [
           "Asia"
          ],
          [
           "Asia"
          ],
          [
           "Asia"
          ],
          [
           "Asia"
          ],
          [
           "Asia"
          ],
          [
           "Asia"
          ],
          [
           "Asia"
          ],
          [
           "Asia"
          ],
          [
           "Asia"
          ],
          [
           "Asia"
          ],
          [
           "Asia"
          ],
          [
           "Asia"
          ],
          [
           "Asia"
          ],
          [
           "Asia"
          ],
          [
           "Asia"
          ],
          [
           "Asia"
          ],
          [
           "Asia"
          ],
          [
           "Asia"
          ],
          [
           "Asia"
          ],
          [
           "Asia"
          ],
          [
           "Asia"
          ],
          [
           "Asia"
          ],
          [
           "Asia"
          ],
          [
           "Asia"
          ],
          [
           "Asia"
          ],
          [
           "Asia"
          ],
          [
           "Asia"
          ],
          [
           "Asia"
          ],
          [
           "Asia"
          ],
          [
           "Asia"
          ],
          [
           "Asia"
          ],
          [
           "Asia"
          ],
          [
           "Asia"
          ],
          [
           "Asia"
          ],
          [
           "Asia"
          ],
          [
           "Asia"
          ],
          [
           "Asia"
          ],
          [
           "Asia"
          ],
          [
           "Asia"
          ],
          [
           "Asia"
          ],
          [
           "Asia"
          ],
          [
           "Asia"
          ],
          [
           "Asia"
          ],
          [
           "Asia"
          ],
          [
           "Asia"
          ],
          [
           "Asia"
          ],
          [
           "Asia"
          ],
          [
           "Asia"
          ],
          [
           "Asia"
          ],
          [
           "Asia"
          ],
          [
           "Asia"
          ],
          [
           "Asia"
          ],
          [
           "Asia"
          ],
          [
           "Asia"
          ],
          [
           "Asia"
          ],
          [
           "Asia"
          ],
          [
           "Asia"
          ],
          [
           "Asia"
          ],
          [
           "Asia"
          ],
          [
           "Asia"
          ],
          [
           "Asia"
          ],
          [
           "Asia"
          ],
          [
           "Asia"
          ],
          [
           "Asia"
          ],
          [
           "Asia"
          ],
          [
           "Asia"
          ],
          [
           "Asia"
          ],
          [
           "Asia"
          ],
          [
           "Asia"
          ],
          [
           "Asia"
          ],
          [
           "Asia"
          ],
          [
           "Asia"
          ],
          [
           "Asia"
          ],
          [
           "Asia"
          ],
          [
           "Asia"
          ],
          [
           "Asia"
          ],
          [
           "Asia"
          ],
          [
           "Asia"
          ],
          [
           "Asia"
          ],
          [
           "Asia"
          ],
          [
           "Asia"
          ],
          [
           "Asia"
          ],
          [
           "Asia"
          ],
          [
           "Asia"
          ],
          [
           "Asia"
          ],
          [
           "Asia"
          ],
          [
           "Asia"
          ],
          [
           "Asia"
          ],
          [
           "Asia"
          ],
          [
           "Asia"
          ],
          [
           "Asia"
          ],
          [
           "Asia"
          ],
          [
           "Asia"
          ],
          [
           "Europe"
          ],
          [
           "Europe"
          ],
          [
           "Europe"
          ],
          [
           "Europe"
          ],
          [
           "Europe"
          ],
          [
           "Europe"
          ],
          [
           "Europe"
          ],
          [
           "Europe"
          ],
          [
           "Europe"
          ],
          [
           "Europe"
          ],
          [
           "Europe"
          ],
          [
           "Europe"
          ],
          [
           "Europe"
          ],
          [
           "Europe"
          ],
          [
           "Europe"
          ],
          [
           "Europe"
          ],
          [
           "Europe"
          ],
          [
           "Europe"
          ],
          [
           "Europe"
          ],
          [
           "Europe"
          ],
          [
           "Europe"
          ],
          [
           "Europe"
          ],
          [
           "Europe"
          ],
          [
           "Europe"
          ],
          [
           "Europe"
          ],
          [
           "Europe"
          ],
          [
           "Europe"
          ],
          [
           "Europe"
          ],
          [
           "Europe"
          ],
          [
           "Europe"
          ],
          [
           "Europe"
          ],
          [
           "Europe"
          ],
          [
           "Europe"
          ],
          [
           "Europe"
          ],
          [
           "Europe"
          ],
          [
           "Europe"
          ],
          [
           "Europe"
          ],
          [
           "Europe"
          ],
          [
           "Europe"
          ],
          [
           "Europe"
          ],
          [
           "Europe"
          ],
          [
           "Europe"
          ],
          [
           "Europe"
          ],
          [
           "Europe"
          ],
          [
           "Europe"
          ],
          [
           "Europe"
          ],
          [
           "Europe"
          ],
          [
           "Europe"
          ],
          [
           "Europe"
          ],
          [
           "Europe"
          ],
          [
           "Europe"
          ],
          [
           "Europe"
          ],
          [
           "Europe"
          ],
          [
           "Europe"
          ],
          [
           "Europe"
          ],
          [
           "Europe"
          ],
          [
           "Europe"
          ],
          [
           "Europe"
          ],
          [
           "Europe"
          ],
          [
           "Europe"
          ],
          [
           "Europe"
          ],
          [
           "Europe"
          ],
          [
           "Europe"
          ],
          [
           "Europe"
          ],
          [
           "Europe"
          ],
          [
           "Europe"
          ],
          [
           "Europe"
          ],
          [
           "Europe"
          ],
          [
           "Europe"
          ],
          [
           "Europe"
          ],
          [
           "Europe"
          ],
          [
           "Europe"
          ],
          [
           "Europe"
          ],
          [
           "Europe"
          ],
          [
           "Europe"
          ],
          [
           "Europe"
          ],
          [
           "Europe"
          ],
          [
           "Europe"
          ],
          [
           "Europe"
          ],
          [
           "Europe"
          ],
          [
           "Europe"
          ],
          [
           "Europe"
          ],
          [
           "Europe"
          ],
          [
           "Europe"
          ],
          [
           "Europe"
          ],
          [
           "Europe"
          ],
          [
           "Europe"
          ],
          [
           "Europe"
          ],
          [
           "Europe"
          ],
          [
           "Europe"
          ],
          [
           "Europe"
          ],
          [
           "Europe"
          ],
          [
           "Europe"
          ],
          [
           "Europe"
          ],
          [
           "Europe"
          ],
          [
           "Europe"
          ],
          [
           "Europe"
          ],
          [
           "Europe"
          ],
          [
           "Europe"
          ],
          [
           "Europe"
          ],
          [
           "Europe"
          ],
          [
           "Europe"
          ],
          [
           "Europe"
          ],
          [
           "Europe"
          ],
          [
           "Europe"
          ],
          [
           "Europe"
          ],
          [
           "Europe"
          ],
          [
           "Europe"
          ],
          [
           "Europe"
          ],
          [
           "Europe"
          ],
          [
           "Europe"
          ],
          [
           "Europe"
          ],
          [
           "Europe"
          ],
          [
           "Europe"
          ],
          [
           "Europe"
          ],
          [
           "Europe"
          ],
          [
           "Europe"
          ],
          [
           "Europe"
          ],
          [
           "Europe"
          ],
          [
           "Europe"
          ],
          [
           "Europe"
          ],
          [
           "Europe"
          ],
          [
           "Europe"
          ],
          [
           "Europe"
          ],
          [
           "Europe"
          ],
          [
           "Europe"
          ],
          [
           "Europe"
          ],
          [
           "Europe"
          ],
          [
           "Europe"
          ],
          [
           "Europe"
          ],
          [
           "Europe"
          ],
          [
           "Europe"
          ],
          [
           "Europe"
          ],
          [
           "Europe"
          ],
          [
           "Europe"
          ],
          [
           "Europe"
          ],
          [
           "Europe"
          ],
          [
           "Europe"
          ],
          [
           "Europe"
          ],
          [
           "Europe"
          ],
          [
           "Europe"
          ],
          [
           "Europe"
          ],
          [
           "Europe"
          ],
          [
           "Europe"
          ],
          [
           "Europe"
          ],
          [
           "Europe"
          ],
          [
           "Europe"
          ],
          [
           "Europe"
          ],
          [
           "Europe"
          ],
          [
           "Europe"
          ],
          [
           "Europe"
          ],
          [
           "Europe"
          ],
          [
           "Europe"
          ],
          [
           "Europe"
          ],
          [
           "Europe"
          ],
          [
           "Europe"
          ],
          [
           "Europe"
          ],
          [
           "Europe"
          ],
          [
           "Europe"
          ],
          [
           "Europe"
          ],
          [
           "Europe"
          ],
          [
           "Europe"
          ],
          [
           "Europe"
          ],
          [
           "Europe"
          ],
          [
           "Europe"
          ],
          [
           "Europe"
          ],
          [
           "Europe"
          ],
          [
           "Europe"
          ],
          [
           "Europe"
          ],
          [
           "Europe"
          ],
          [
           "Europe"
          ],
          [
           "Europe"
          ],
          [
           "Europe"
          ],
          [
           "Europe"
          ],
          [
           "Europe"
          ],
          [
           "Europe"
          ],
          [
           "Europe"
          ],
          [
           "Europe"
          ],
          [
           "Europe"
          ],
          [
           "Europe"
          ],
          [
           "Europe"
          ],
          [
           "Europe"
          ],
          [
           "Europe"
          ],
          [
           "Europe"
          ],
          [
           "Europe"
          ],
          [
           "Europe"
          ],
          [
           "Europe"
          ],
          [
           "Europe"
          ],
          [
           "Europe"
          ],
          [
           "Europe"
          ],
          [
           "Europe"
          ],
          [
           "Europe"
          ],
          [
           "Europe"
          ],
          [
           "Europe"
          ],
          [
           "Europe"
          ],
          [
           "Europe"
          ],
          [
           "Europe"
          ],
          [
           "Europe"
          ],
          [
           "Europe"
          ],
          [
           "Europe"
          ],
          [
           "Europe"
          ],
          [
           "Europe"
          ],
          [
           "Europe"
          ],
          [
           "Europe"
          ],
          [
           "Europe"
          ],
          [
           "Europe"
          ],
          [
           "Europe"
          ],
          [
           "Europe"
          ],
          [
           "Europe"
          ],
          [
           "Europe"
          ],
          [
           "Europe"
          ],
          [
           "Europe"
          ],
          [
           "Europe"
          ],
          [
           "Europe"
          ],
          [
           "Europe"
          ],
          [
           "Europe"
          ],
          [
           "Europe"
          ],
          [
           "Europe"
          ],
          [
           "Europe"
          ],
          [
           "Europe"
          ],
          [
           "Europe"
          ],
          [
           "Europe"
          ],
          [
           "Europe"
          ],
          [
           "Europe"
          ],
          [
           "Europe"
          ],
          [
           "Europe"
          ],
          [
           "Europe"
          ],
          [
           "Europe"
          ],
          [
           "Europe"
          ],
          [
           "Europe"
          ],
          [
           "Europe"
          ],
          [
           "Europe"
          ],
          [
           "Europe"
          ],
          [
           "Europe"
          ],
          [
           "Europe"
          ],
          [
           "Europe"
          ],
          [
           "Europe"
          ],
          [
           "Europe"
          ],
          [
           "Europe"
          ],
          [
           "Europe"
          ],
          [
           "Europe"
          ],
          [
           "Europe"
          ],
          [
           "Europe"
          ],
          [
           "Europe"
          ],
          [
           "Europe"
          ],
          [
           "Europe"
          ],
          [
           "Europe"
          ],
          [
           "Europe"
          ],
          [
           "Europe"
          ],
          [
           "Europe"
          ],
          [
           "Europe"
          ],
          [
           "Europe"
          ],
          [
           "Europe"
          ],
          [
           "Europe"
          ],
          [
           "Europe"
          ],
          [
           "Europe"
          ],
          [
           "Europe"
          ],
          [
           "Europe"
          ],
          [
           "Europe"
          ],
          [
           "Europe"
          ],
          [
           "Europe"
          ],
          [
           "Europe"
          ],
          [
           "Europe"
          ],
          [
           "Europe"
          ],
          [
           "Europe"
          ],
          [
           "Europe"
          ],
          [
           "Europe"
          ],
          [
           "Europe"
          ],
          [
           "Europe"
          ],
          [
           "Europe"
          ],
          [
           "Europe"
          ],
          [
           "Europe"
          ],
          [
           "Europe"
          ],
          [
           "Europe"
          ],
          [
           "Europe"
          ],
          [
           "Europe"
          ],
          [
           "Europe"
          ],
          [
           "Europe"
          ],
          [
           "Europe"
          ],
          [
           "Europe"
          ],
          [
           "Europe"
          ],
          [
           "Europe"
          ],
          [
           "Europe"
          ],
          [
           "Europe"
          ],
          [
           "Europe"
          ],
          [
           "Europe"
          ],
          [
           "Europe"
          ],
          [
           "Europe"
          ],
          [
           "Europe"
          ],
          [
           "Europe"
          ],
          [
           "Europe"
          ],
          [
           "Europe"
          ],
          [
           "Europe"
          ],
          [
           "Europe"
          ],
          [
           "Europe"
          ],
          [
           "Europe"
          ],
          [
           "Europe"
          ],
          [
           "Europe"
          ],
          [
           "Europe"
          ],
          [
           "Europe"
          ],
          [
           "Europe"
          ],
          [
           "Europe"
          ],
          [
           "Europe"
          ],
          [
           "Europe"
          ],
          [
           "Europe"
          ],
          [
           "Europe"
          ],
          [
           "Europe"
          ],
          [
           "Europe"
          ],
          [
           "Europe"
          ],
          [
           "Europe"
          ],
          [
           "Europe"
          ],
          [
           "Europe"
          ],
          [
           "Europe"
          ],
          [
           "Europe"
          ],
          [
           "Europe"
          ],
          [
           "Europe"
          ],
          [
           "Europe"
          ],
          [
           "Europe"
          ],
          [
           "Europe"
          ],
          [
           "Europe"
          ],
          [
           "Europe"
          ],
          [
           "Europe"
          ],
          [
           "Europe"
          ],
          [
           "Europe"
          ],
          [
           "Europe"
          ],
          [
           "Europe"
          ],
          [
           "Europe"
          ],
          [
           "Europe"
          ],
          [
           "Europe"
          ],
          [
           "Europe"
          ],
          [
           "Europe"
          ],
          [
           "Europe"
          ],
          [
           "Europe"
          ],
          [
           "Europe"
          ],
          [
           "Europe"
          ],
          [
           "Europe"
          ],
          [
           "Europe"
          ],
          [
           "Europe"
          ],
          [
           "Europe"
          ],
          [
           "Europe"
          ],
          [
           "Europe"
          ],
          [
           "Europe"
          ],
          [
           "Europe"
          ],
          [
           "Europe"
          ],
          [
           "Europe"
          ],
          [
           "Europe"
          ],
          [
           "Europe"
          ],
          [
           "Europe"
          ],
          [
           "Europe"
          ],
          [
           "Europe"
          ],
          [
           "Europe"
          ],
          [
           "Europe"
          ],
          [
           "Europe"
          ],
          [
           "Europe"
          ],
          [
           "Europe"
          ],
          [
           "Europe"
          ],
          [
           "Europe"
          ],
          [
           "Europe"
          ],
          [
           "Europe"
          ],
          [
           "Europe"
          ],
          [
           "Europe"
          ],
          [
           "Europe"
          ],
          [
           "Europe"
          ],
          [
           "Europe"
          ],
          [
           "Europe"
          ],
          [
           "Europe"
          ],
          [
           "Europe"
          ],
          [
           "Europe"
          ],
          [
           "Europe"
          ],
          [
           "Europe"
          ],
          [
           "Europe"
          ],
          [
           "Europe"
          ],
          [
           "Europe"
          ],
          [
           "Europe"
          ],
          [
           "Europe"
          ],
          [
           "Europe"
          ],
          [
           "Europe"
          ],
          [
           "Europe"
          ],
          [
           "Europe"
          ],
          [
           "Europe"
          ],
          [
           "Europe"
          ],
          [
           "Europe"
          ],
          [
           "Europe"
          ],
          [
           "Europe"
          ],
          [
           "Europe"
          ],
          [
           "Europe"
          ],
          [
           "Europe"
          ],
          [
           "Europe"
          ],
          [
           "Europe"
          ],
          [
           "Europe"
          ],
          [
           "Europe"
          ],
          [
           "Oceania"
          ],
          [
           "Oceania"
          ],
          [
           "Oceania"
          ],
          [
           "Oceania"
          ],
          [
           "Oceania"
          ],
          [
           "Oceania"
          ],
          [
           "Oceania"
          ],
          [
           "Oceania"
          ],
          [
           "Oceania"
          ],
          [
           "Oceania"
          ],
          [
           "Oceania"
          ],
          [
           "Oceania"
          ],
          [
           "Oceania"
          ],
          [
           "Oceania"
          ],
          [
           "Oceania"
          ],
          [
           "Oceania"
          ],
          [
           "Oceania"
          ],
          [
           "Oceania"
          ],
          [
           "Oceania"
          ],
          [
           "Oceania"
          ],
          [
           "Oceania"
          ],
          [
           "Oceania"
          ],
          [
           "Oceania"
          ],
          [
           "Oceania"
          ],
          [
           "Oceania"
          ],
          [
           "Oceania"
          ],
          [
           "Oceania"
          ]
         ],
         "domain": {
          "x": [
           0,
           1
          ],
          "y": [
           0,
           1
          ]
         },
         "hovertemplate": "labels=%{label}<br>gdpPercap=%{value}<br>parent=%{parent}<br>id=%{id}<br>continent=%{customdata[0]}<extra></extra>",
         "ids": [
          "Africa/Malawi/1957",
          "Africa/Togo/1977",
          "Africa/Togo/1972",
          "Africa/Togo/1967",
          "Africa/Togo/1962",
          "Africa/Togo/1957",
          "Africa/Togo/1952",
          "Africa/Tanzania/2007",
          "Africa/Tanzania/2002",
          "Africa/Tanzania/1997",
          "Africa/Tanzania/1992",
          "Africa/Tanzania/1987",
          "Africa/Tanzania/1982",
          "Africa/Tanzania/1977",
          "Africa/Tanzania/1972",
          "Africa/Tanzania/1967",
          "Africa/Tanzania/1962",
          "Africa/Tanzania/1957",
          "Africa/Tanzania/1952",
          "Africa/Swaziland/2007",
          "Africa/Swaziland/2002",
          "Africa/Swaziland/1997",
          "Africa/Swaziland/1992",
          "Africa/Swaziland/1987",
          "Africa/Togo/1982",
          "Africa/Swaziland/1982",
          "Africa/Togo/1987",
          "Africa/Togo/1997",
          "Africa/Guinea-Bissau/1992",
          "Africa/Guinea-Bissau/1997",
          "Africa/Guinea-Bissau/2002",
          "Africa/Guinea-Bissau/2007",
          "Africa/Uganda/1972",
          "Africa/Uganda/1967",
          "Africa/Uganda/1962",
          "Africa/Uganda/1957",
          "Africa/Uganda/1952",
          "Africa/Tunisia/2007",
          "Africa/Tunisia/2002",
          "Africa/Tunisia/1997",
          "Africa/Tunisia/1992",
          "Africa/Tunisia/1987",
          "Africa/Tunisia/1982",
          "Africa/Tunisia/1977",
          "Africa/Tunisia/1972",
          "Africa/Tunisia/1967",
          "Africa/Tunisia/1962",
          "Africa/Tunisia/1957",
          "Africa/Tunisia/1952",
          "Africa/Togo/2007",
          "Africa/Togo/2002",
          "Africa/Togo/1992",
          "Africa/Guinea-Bissau/1987",
          "Africa/Swaziland/1977",
          "Africa/Swaziland/1967",
          "Africa/Somalia/2007",
          "Africa/Somalia/2002",
          "Africa/Somalia/1997",
          "Africa/Somalia/1992",
          "Africa/Somalia/1987",
          "Africa/Somalia/1982",
          "Africa/Somalia/1977",
          "Africa/Kenya/1952",
          "Africa/Kenya/1957",
          "Africa/Kenya/1962",
          "Africa/Kenya/1967",
          "Africa/Kenya/1972",
          "Africa/Kenya/1977",
          "Africa/Kenya/1982",
          "Africa/Kenya/1987",
          "Africa/Kenya/1992",
          "Africa/Kenya/1997",
          "Africa/Kenya/2002",
          "Africa/Kenya/2007",
          "Africa/Somalia/1972",
          "Africa/Somalia/1967",
          "Africa/Somalia/1962",
          "Africa/Somalia/1957",
          "Africa/South Africa/1952",
          "Africa/Swaziland/1972",
          "Africa/South Africa/1957",
          "Africa/South Africa/1967",
          "Africa/Swaziland/1962",
          "Africa/Swaziland/1957",
          "Africa/Swaziland/1952",
          "Africa/Sudan/2007",
          "Africa/Sudan/2002",
          "Africa/Sudan/1997",
          "Africa/Sudan/1992",
          "Africa/Sudan/1987",
          "Africa/Sudan/1982",
          "Africa/Sudan/1977",
          "Africa/Sudan/1972",
          "Africa/Sudan/1967",
          "Africa/Sudan/1962",
          "Africa/Sudan/1957",
          "Africa/Sudan/1952",
          "Africa/South Africa/2007",
          "Africa/South Africa/2002",
          "Africa/South Africa/1997",
          "Africa/South Africa/1992",
          "Africa/South Africa/1987",
          "Africa/South Africa/1982",
          "Africa/South Africa/1977",
          "Africa/South Africa/1972",
          "Africa/South Africa/1962",
          "Africa/Somalia/1952",
          "Africa/Guinea-Bissau/1982",
          "Africa/Guinea-Bissau/1972",
          "Africa/Eritrea/1977",
          "Africa/Eritrea/1982",
          "Africa/Eritrea/1987",
          "Africa/Eritrea/1992",
          "Africa/Eritrea/1997",
          "Africa/Eritrea/2002",
          "Africa/Eritrea/2007",
          "Africa/Ethiopia/1952",
          "Africa/Ethiopia/1957",
          "Africa/Ethiopia/1962",
          "Africa/Ethiopia/1967",
          "Africa/Ethiopia/1972",
          "Africa/Ethiopia/1977",
          "Africa/Ethiopia/1982",
          "Africa/Ethiopia/1987",
          "Africa/Ethiopia/1992",
          "Africa/Ethiopia/1997",
          "Africa/Ethiopia/2002",
          "Africa/Ethiopia/2007",
          "Africa/Gabon/1952",
          "Africa/Gabon/1957",
          "Africa/Gabon/1962",
          "Africa/Gabon/1967",
          "Africa/Eritrea/1972",
          "Africa/Gabon/1972",
          "Africa/Eritrea/1967",
          "Africa/Eritrea/1957",
          "Africa/Egypt/1962",
          "Africa/Egypt/1967",
          "Africa/Egypt/1972",
          "Africa/Egypt/1977",
          "Africa/Egypt/1982",
          "Africa/Egypt/1987",
          "Africa/Egypt/1992",
          "Africa/Egypt/1997",
          "Africa/Egypt/2002",
          "Africa/Egypt/2007",
          "Africa/Equatorial Guinea/1952",
          "Africa/Equatorial Guinea/1957",
          "Africa/Equatorial Guinea/1962",
          "Africa/Equatorial Guinea/1967",
          "Africa/Equatorial Guinea/1972",
          "Africa/Equatorial Guinea/1977",
          "Africa/Equatorial Guinea/1982",
          "Africa/Equatorial Guinea/1987",
          "Africa/Equatorial Guinea/1992",
          "Africa/Equatorial Guinea/1997",
          "Africa/Equatorial Guinea/2002",
          "Africa/Equatorial Guinea/2007",
          "Africa/Eritrea/1952",
          "Africa/Eritrea/1962",
          "Africa/Guinea-Bissau/1977",
          "Africa/Gabon/1977",
          "Africa/Gabon/1987",
          "Africa/Uganda/2007",
          "Africa/Uganda/2002",
          "Africa/Uganda/1997",
          "Africa/Uganda/1992",
          "Africa/Uganda/1987",
          "Africa/Uganda/1982",
          "Africa/Uganda/1977",
          "Africa/Guinea/1952",
          "Africa/Guinea/1957",
          "Africa/Guinea/1962",
          "Africa/Guinea/1967",
          "Africa/Guinea/1972",
          "Africa/Guinea/1977",
          "Africa/Guinea/1982",
          "Africa/Guinea/1987",
          "Africa/Guinea/1992",
          "Africa/Guinea/1997",
          "Africa/Guinea/2002",
          "Africa/Guinea/2007",
          "Africa/Guinea-Bissau/1952",
          "Africa/Guinea-Bissau/1957",
          "Africa/Guinea-Bissau/1962",
          "Africa/Guinea-Bissau/1967",
          "Africa/Ghana/2007",
          "Africa/Gabon/1982",
          "Africa/Ghana/2002",
          "Africa/Ghana/1992",
          "Africa/Gabon/1992",
          "Africa/Gabon/1997",
          "Africa/Gabon/2002",
          "Africa/Gabon/2007",
          "Africa/Gambia/1952",
          "Africa/Gambia/1957",
          "Africa/Gambia/1962",
          "Africa/Gambia/1967",
          "Africa/Gambia/1972",
          "Africa/Gambia/1977",
          "Africa/Gambia/1982",
          "Africa/Gambia/1987",
          "Africa/Gambia/1992",
          "Africa/Gambia/1997",
          "Africa/Gambia/2002",
          "Africa/Gambia/2007",
          "Africa/Ghana/1952",
          "Africa/Ghana/1957",
          "Africa/Ghana/1962",
          "Africa/Ghana/1967",
          "Africa/Ghana/1972",
          "Africa/Ghana/1977",
          "Africa/Ghana/1987",
          "Africa/Ghana/1997",
          "Africa/Egypt/1957",
          "Africa/Sierra Leone/2007",
          "Africa/Sierra Leone/1997",
          "Africa/Rwanda/1972",
          "Africa/Rwanda/1967",
          "Africa/Rwanda/1962",
          "Africa/Rwanda/1957",
          "Africa/Rwanda/1952",
          "Africa/Reunion/2007",
          "Africa/Reunion/2002",
          "Africa/Reunion/1997",
          "Africa/Reunion/1992",
          "Africa/Reunion/1987",
          "Africa/Reunion/1982",
          "Africa/Reunion/1977",
          "Africa/Morocco/1952",
          "Africa/Morocco/1957",
          "Africa/Morocco/1962",
          "Africa/Morocco/1967",
          "Africa/Morocco/1972",
          "Africa/Morocco/1977",
          "Africa/Morocco/1982",
          "Africa/Morocco/1987",
          "Africa/Morocco/1992",
          "Africa/Morocco/1997",
          "Africa/Morocco/2002",
          "Africa/Rwanda/1977",
          "Africa/Morocco/2007",
          "Africa/Rwanda/1982",
          "Africa/Rwanda/1992",
          "Africa/Mauritania/1997",
          "Africa/Mauritania/2002",
          "Africa/Mauritania/2007",
          "Africa/Mauritius/1952",
          "Africa/Mauritius/1957",
          "Africa/Mauritius/1962",
          "Africa/Mauritius/1967",
          "Africa/Mauritius/1972",
          "Africa/Mauritius/1977",
          "Africa/Mauritius/1982",
          "Africa/Mauritius/1987",
          "Africa/Mauritius/1992",
          "Africa/Mauritius/1997",
          "Africa/Mauritius/2002",
          "Africa/Mauritius/2007",
          "Africa/Sao Tome and Principe/1972",
          "Africa/Sao Tome and Principe/1967",
          "Africa/Sao Tome and Principe/1962",
          "Africa/Sao Tome and Principe/1957",
          "Africa/Sao Tome and Principe/1952",
          "Africa/Rwanda/2007",
          "Africa/Rwanda/2002",
          "Africa/Rwanda/1997",
          "Africa/Rwanda/1987",
          "Africa/Mauritania/1992",
          "Africa/Mozambique/1952",
          "Africa/Mozambique/1962",
          "Africa/Niger/1957",
          "Africa/Niger/1962",
          "Africa/Niger/1967",
          "Africa/Niger/1972",
          "Africa/Niger/1977",
          "Africa/Niger/1982",
          "Africa/Niger/1987",
          "Africa/Niger/1992",
          "Africa/Niger/1997",
          "Africa/Niger/2002",
          "Africa/Niger/2007",
          "Africa/Nigeria/1952",
          "Africa/Nigeria/1957",
          "Africa/Nigeria/1962",
          "Africa/Nigeria/1967",
          "Africa/Nigeria/1972",
          "Africa/Nigeria/1977",
          "Africa/Nigeria/1982",
          "Africa/Nigeria/1987",
          "Africa/Nigeria/1992",
          "Africa/Nigeria/1997",
          "Africa/Nigeria/2002",
          "Africa/Nigeria/2007",
          "Africa/Niger/1952",
          "Africa/Mozambique/1957",
          "Africa/Namibia/2007",
          "Africa/Namibia/1997",
          "Africa/Mozambique/1967",
          "Africa/Mozambique/1972",
          "Africa/Mozambique/1977",
          "Africa/Mozambique/1982",
          "Africa/Mozambique/1987",
          "Africa/Mozambique/1992",
          "Africa/Mozambique/1997",
          "Africa/Mozambique/2002",
          "Africa/Mozambique/2007",
          "Africa/Reunion/1972",
          "Africa/Reunion/1967",
          "Africa/Reunion/1962",
          "Africa/Reunion/1957",
          "Africa/Reunion/1952",
          "Africa/Namibia/1952",
          "Africa/Namibia/1957",
          "Africa/Namibia/1962",
          "Africa/Namibia/1967",
          "Africa/Namibia/1972",
          "Africa/Namibia/1977",
          "Africa/Namibia/1982",
          "Africa/Namibia/1987",
          "Africa/Namibia/1992",
          "Africa/Namibia/2002",
          "Africa/Sierra Leone/2002",
          "Africa/Mauritania/1987",
          "Africa/Mauritania/1977",
          "Africa/Lesotho/1982",
          "Africa/Lesotho/1987",
          "Africa/Lesotho/1992",
          "Africa/Lesotho/1997",
          "Africa/Lesotho/2002",
          "Africa/Lesotho/2007",
          "Africa/Liberia/1952",
          "Africa/Liberia/1957",
          "Africa/Liberia/1962",
          "Africa/Liberia/1967",
          "Africa/Liberia/1972",
          "Africa/Liberia/1977",
          "Africa/Liberia/1982",
          "Africa/Liberia/1987",
          "Africa/Liberia/1992",
          "Africa/Liberia/1997",
          "Africa/Liberia/2002",
          "Africa/Liberia/2007",
          "Africa/Libya/1952",
          "Africa/Libya/1957",
          "Africa/Libya/1962",
          "Africa/Libya/1967",
          "Africa/Libya/1972",
          "Africa/Lesotho/1977",
          "Africa/Libya/1977",
          "Africa/Lesotho/1972",
          "Africa/Lesotho/1962",
          "Africa/Sierra Leone/1992",
          "Africa/Sierra Leone/1987",
          "Africa/Sierra Leone/1982",
          "Africa/Sierra Leone/1977",
          "Africa/Sierra Leone/1972",
          "Africa/Sierra Leone/1967",
          "Africa/Sierra Leone/1962",
          "Africa/Sierra Leone/1957",
          "Africa/Sierra Leone/1952",
          "Africa/Senegal/2007",
          "Africa/Senegal/2002",
          "Africa/Senegal/1997",
          "Africa/Senegal/1992",
          "Africa/Senegal/1987",
          "Africa/Senegal/1982",
          "Africa/Senegal/1977",
          "Africa/Senegal/1972",
          "Africa/Senegal/1967",
          "Africa/Senegal/1962",
          "Africa/Senegal/1957",
          "Africa/Senegal/1952",
          "Africa/Lesotho/1952",
          "Africa/Lesotho/1957",
          "Africa/Lesotho/1967",
          "Africa/Mauritania/1982",
          "Africa/Libya/1982",
          "Africa/Libya/1992",
          "Africa/Sao Tome and Principe/2002",
          "Africa/Sao Tome and Principe/1997",
          "Africa/Sao Tome and Principe/1992",
          "Africa/Sao Tome and Principe/1987",
          "Africa/Sao Tome and Principe/1982",
          "Africa/Sao Tome and Principe/1977",
          "Africa/Mali/1952",
          "Africa/Mali/1957",
          "Africa/Mali/1962",
          "Africa/Mali/1967",
          "Africa/Mali/1972",
          "Africa/Mali/1977",
          "Africa/Mali/1982",
          "Africa/Mali/1987",
          "Africa/Mali/1992",
          "Africa/Mali/1997",
          "Africa/Mali/2002",
          "Africa/Mali/2007",
          "Africa/Mauritania/1952",
          "Africa/Mauritania/1957",
          "Africa/Mauritania/1962",
          "Africa/Mauritania/1967",
          "Africa/Mauritania/1972",
          "Africa/Sao Tome and Principe/2007",
          "Africa/Libya/1987",
          "Africa/Malawi/2007",
          "Africa/Malawi/1997",
          "Africa/Libya/1997",
          "Africa/Libya/2002",
          "Africa/Libya/2007",
          "Africa/Madagascar/1952",
          "Africa/Madagascar/1957",
          "Africa/Madagascar/1962",
          "Africa/Madagascar/1967",
          "Africa/Madagascar/1972",
          "Africa/Madagascar/1977",
          "Africa/Madagascar/1982",
          "Africa/Madagascar/1987",
          "Africa/Madagascar/1992",
          "Africa/Madagascar/1997",
          "Africa/Madagascar/2002",
          "Africa/Madagascar/2007",
          "Africa/Malawi/1952",
          "Africa/Malawi/1962",
          "Africa/Malawi/1967",
          "Africa/Malawi/1972",
          "Africa/Malawi/1977",
          "Africa/Malawi/1982",
          "Africa/Malawi/1987",
          "Africa/Malawi/1992",
          "Africa/Malawi/2002",
          "Africa/Egypt/1952",
          "Africa/Ghana/1982",
          "Africa/Congo, Dem. Rep./1987",
          "Africa/Djibouti",
          "Africa/Benin/2007",
          "Africa/Benin/2002",
          "Africa/Benin/1997",
          "Africa/Benin/1992",
          "Africa/Benin/1987",
          "Africa/Benin/1982",
          "Africa/Cote d'Ivoire",
          "Africa/Comoros/1952",
          "Africa/Comoros/1962",
          "Africa/Comoros/1967",
          "Africa/Comoros/1972",
          "Africa/Benin/1977",
          "Africa/Benin/1972",
          "Africa/Benin/1967",
          "Africa/Benin/1962",
          "Africa/Comoros/1957",
          "Africa/Zambia/1977",
          "Africa/Zambia/1982",
          "Africa/Zambia/1987",
          "Africa/Botswana/1972",
          "Africa/Botswana/1967",
          "Africa/Botswana/1962",
          "Africa/Botswana/1957",
          "Africa/Botswana/1952",
          "Africa/Comoros",
          "Africa/Congo, Dem. Rep.",
          "Africa/Congo, Rep.",
          "Africa/Zimbabwe/1972",
          "Africa/Zimbabwe/1967",
          "Africa/Zimbabwe/1962",
          "Africa/Zimbabwe/1957",
          "Africa/Zimbabwe/1952",
          "Africa/Zambia/2007",
          "Africa/Zambia/2002",
          "Africa/Zambia/1997",
          "Africa/Zambia/1992",
          "Africa/Benin/1957",
          "Africa/Botswana/1977",
          "Africa/Benin/1952",
          "Africa/Equatorial Guinea",
          "Africa/Congo, Dem. Rep./1967",
          "Africa/Congo, Dem. Rep./1972",
          "Africa/Congo, Dem. Rep./1977",
          "Africa/Congo, Dem. Rep./1982",
          "Africa/Cameroon/2002",
          "Africa/Congo, Dem. Rep./1992",
          "Africa/Congo, Dem. Rep./1997",
          "Africa/Congo, Dem. Rep./1962",
          "Africa/Congo, Dem. Rep./2002",
          "Africa/Congo, Rep./1952",
          "Africa/Congo, Rep./1957",
          "Africa/Congo, Rep./1962",
          "Africa/Congo, Rep./1967",
          "Africa/Congo, Rep./1972",
          "Africa/Congo, Rep./1977",
          "Africa/Congo, Rep./1982",
          "Africa/Congo, Dem. Rep./2007",
          "Africa/Congo, Dem. Rep./1957",
          "Africa/Congo, Dem. Rep./1952",
          "Africa/Comoros/2007",
          "Africa/Eritrea",
          "Africa/Ethiopia",
          "Africa/Gabon",
          "Africa/Gambia",
          "Africa/Ghana",
          "Africa/Guinea",
          "Africa/Guinea-Bissau",
          "Africa/Kenya",
          "Africa/Lesotho",
          "Africa/Liberia",
          "Africa/Libya",
          "Africa/Comoros/1977",
          "Africa/Comoros/1982",
          "Africa/Comoros/1987",
          "Africa/Comoros/1992",
          "Africa/Comoros/1997",
          "Africa/Comoros/2002",
          "Africa/Egypt",
          "Africa/Congo, Rep./1987",
          "Africa/Botswana/1982",
          "Africa/Botswana/1992",
          "Africa/Burundi/2002",
          "Africa/Burundi/1997",
          "Africa/Burundi/1992",
          "Africa/Burundi/1987",
          "Africa/Burundi/1982",
          "Africa/Burundi/1977",
          "Africa/Burundi/1972",
          "Africa/Burundi/2007",
          "Africa/Burundi/1967",
          "Africa/Burundi/1957",
          "Africa/Burundi/1952",
          "Africa/Burkina Faso/2007",
          "Africa/Burkina Faso/2002",
          "Africa/Burkina Faso/1997",
          "Africa/Burkina Faso/1992",
          "Africa/Central African Republic/1952",
          "Africa/Burundi/1962",
          "Africa/Angola",
          "Africa/Algeria",
          "Africa/Zimbabwe/2007",
          "Africa/Cameroon/2007",
          "Africa/Cameroon/1992",
          "Africa/Cameroon/1987",
          "Africa/Cameroon/1982",
          "Africa/Cameroon/1977",
          "Africa/Cameroon/1972",
          "Africa/Cameroon/1967",
          "Africa/Cameroon/1962",
          "Africa/Cameroon/1957",
          "Africa/Cameroon/1952",
          "Africa/Zimbabwe/1977",
          "Africa/Djibouti/2007",
          "Africa/Zimbabwe/1982",
          "Africa/Zimbabwe/1987",
          "Africa/Zimbabwe/1992",
          "Africa/Zimbabwe/1997",
          "Africa/Zimbabwe/2002",
          "Africa/Central African Republic/1957",
          "Africa/Botswana/1987",
          "Africa/Central African Republic/1962",
          "Africa/Central African Republic/1972",
          "Africa/Burkina Faso/1977",
          "Africa/Burkina Faso/1972",
          "Africa/Burkina Faso/1967",
          "Africa/Burkina Faso/1962",
          "Africa/Burkina Faso/1957",
          "Africa/Burkina Faso/1952",
          "Africa/Benin",
          "Africa/Burkina Faso/1982",
          "Africa/Botswana",
          "Africa/Burundi",
          "Africa/Cameroon",
          "Africa/Central African Republic",
          "Africa/Chad",
          "Africa/Botswana/2007",
          "Africa/Botswana/2002",
          "Africa/Botswana/1997",
          "Africa/Burkina Faso",
          "Africa/Burkina Faso/1987",
          "Africa/Chad/2007",
          "Africa/Chad/2002",
          "Africa/Central African Republic/1977",
          "Africa/Central African Republic/1982",
          "Africa/Central African Republic/1987",
          "Africa/Central African Republic/1992",
          "Africa/Central African Republic/1997",
          "Africa/Central African Republic/2002",
          "Africa/Central African Republic/2007",
          "Africa/Chad/1952",
          "Africa/Chad/1957",
          "Africa/Chad/1962",
          "Africa/Chad/1967",
          "Africa/Chad/1972",
          "Africa/Chad/1977",
          "Africa/Chad/1982",
          "Africa/Chad/1987",
          "Africa/Chad/1992",
          "Africa/Chad/1997",
          "Africa/Central African Republic/1967",
          "Africa/Congo, Rep./1992",
          "Africa/Cameroon/1997",
          "Africa/Congo, Rep./2002",
          "Africa/Algeria/1987",
          "Africa/Algeria/1992",
          "Africa/Congo, Rep./1997",
          "Africa/Algeria/2002",
          "Africa/Algeria/2007",
          "Africa/Angola/1952",
          "Africa/Angola/1957",
          "Africa/Angola/1962",
          "Africa/Angola/1967",
          "Africa/Angola/1972",
          "Africa/Angola/1977",
          "Africa/Algeria/1982",
          "Africa/Angola/1982",
          "Africa/Angola/1992",
          "Africa/Angola/1997",
          "Africa/Angola/2002",
          "Africa/Angola/2007",
          "Africa/Zambia/1952",
          "Africa/Zambia/1957",
          "Africa/Zambia/1962",
          "Africa/Zambia/1967",
          "Africa/Zambia/1972",
          "Africa/Cote d'Ivoire/2007",
          "Africa/Cote d'Ivoire/2002",
          "Africa/Angola/1987",
          "Africa/Algeria/1977",
          "Africa/Algeria/1972",
          "Africa/Algeria/1967",
          "Africa",
          "Africa/Zimbabwe",
          "Africa/Zambia",
          "Africa/Djibouti/2002",
          "Africa/Djibouti/1997",
          "Africa/Djibouti/1992",
          "Africa/Djibouti/1987",
          "Africa/Djibouti/1982",
          "Africa/Djibouti/1977",
          "Africa/Djibouti/1972",
          "Africa/Djibouti/1967",
          "Africa/Djibouti/1962",
          "Africa/Djibouti/1957",
          "Africa/Djibouti/1952",
          "Africa/Uganda",
          "Africa/Tunisia",
          "Africa/Togo",
          "Africa/Tanzania",
          "Africa/Swaziland",
          "Africa/Sudan",
          "Africa/South Africa",
          "Africa/Somalia",
          "Africa/Algeria/1952",
          "Africa/Algeria/1957",
          "Africa/Algeria/1962",
          "Africa/Cote d'Ivoire/1997",
          "Africa/Cote d'Ivoire/1992",
          "Africa/Algeria/1997",
          "Africa/Cote d'Ivoire/1987",
          "Africa/Sierra Leone",
          "Africa/Mauritania",
          "Africa/Sao Tome and Principe",
          "Africa/Mali",
          "Africa/Rwanda",
          "Africa/Morocco",
          "Africa/Reunion",
          "Africa/Mozambique",
          "Africa/Namibia",
          "Africa/Nigeria",
          "Africa/Niger",
          "Africa/Malawi",
          "Africa/Madagascar",
          "Africa/Congo, Rep./2007",
          "Africa/Mauritius",
          "Africa/Senegal",
          "Africa/Cote d'Ivoire/1982",
          "Africa/Cote d'Ivoire/1977",
          "Africa/Cote d'Ivoire/1972",
          "Africa/Cote d'Ivoire/1967",
          "Africa/Cote d'Ivoire/1962",
          "Africa/Cote d'Ivoire/1957",
          "Africa/Cote d'Ivoire/1952",
          "Americas/Paraguay/1987",
          "Americas/Mexico",
          "Americas/Peru/1972",
          "Americas/Peru/1967",
          "Americas/Nicaragua",
          "Americas/Nicaragua/2007",
          "Americas/Peru/1962",
          "Americas/Peru/1957",
          "Americas/Paraguay/1992",
          "Americas/Nicaragua/2002",
          "Americas/Nicaragua/1992",
          "Americas/Nicaragua/1987",
          "Americas/Nicaragua/1982",
          "Americas/Nicaragua/1977",
          "Americas/Peru/1952",
          "Americas/Paraguay/2007",
          "Americas/Paraguay/2002",
          "Americas/Paraguay/1997",
          "Americas/Nicaragua/1967",
          "Americas/Nicaragua/1962",
          "Americas/Nicaragua/1957",
          "Americas/Nicaragua/1952",
          "Americas/Paraguay/1977",
          "Americas/Paraguay/1982",
          "Americas/Nicaragua/1997",
          "Americas/Nicaragua/1972",
          "Americas/Mexico/1957",
          "Americas/Mexico/1952",
          "Americas/Paraguay/1957",
          "Americas/Paraguay/1952",
          "Americas/Panama/2007",
          "Americas/Panama/2002",
          "Americas/Panama/1997",
          "Americas/Panama/1992",
          "Americas/Paraguay/1962",
          "Americas/Panama/1987",
          "Americas/Panama/1977",
          "Americas/Panama/1972",
          "Americas/Panama/1967",
          "Americas/Panama/1962",
          "Americas/Panama/1957",
          "Americas/Panama/1952",
          "Americas/Panama/1982",
          "Americas/Trinidad and Tobago",
          "Americas/Paraguay/1967",
          "Americas/Argentina",
          "Americas/Peru/1977",
          "Americas/Mexico/1962",
          "Americas/Mexico/1967",
          "Americas/Mexico/1972",
          "Americas/Mexico/1977",
          "Americas/Mexico/1982",
          "Americas/Paraguay/1972",
          "Americas/Mexico/1987",
          "Americas/Mexico/1997",
          "Americas/Mexico/2002",
          "Americas/Mexico/2007",
          "Americas/United States",
          "Americas/Uruguay",
          "Americas/Venezuela",
          "Americas/Mexico/1992",
          "Americas/Bolivia",
          "Americas/Peru/2002",
          "Americas/Brazil",
          "Americas/Bolivia/1992",
          "Americas/Bolivia/1997",
          "Americas/Bolivia/2002",
          "Americas",
          "Americas/Bolivia/2007",
          "Americas/Ecuador",
          "Americas/Bolivia/1987",
          "Americas/Dominican Republic",
          "Americas/Cuba",
          "Americas/Argentina/1987",
          "Americas/Argentina/1992",
          "Americas/Argentina/1997",
          "Americas/Argentina/2002",
          "Americas/Puerto Rico/2007",
          "Americas/Argentina/1982",
          "Americas/Puerto Rico/2002",
          "Americas/Bolivia/1982",
          "Americas/Bolivia/1972",
          "Americas/Guatemala",
          "Americas/Argentina/1962",
          "Americas/Argentina/1957",
          "Americas/Argentina/1952",
          "Americas/Haiti",
          "Americas/Honduras",
          "Americas/Bolivia/1977",
          "Americas/Jamaica",
          "Americas/Argentina/1972",
          "Americas/Argentina/1977",
          "Americas/Bolivia/1952",
          "Americas/Bolivia/1957",
          "Americas/Bolivia/1962",
          "Americas/Bolivia/1967",
          "Americas/Argentina/1967",
          "Americas/Puerto Rico/1997",
          "Americas/Puerto Rico/1992",
          "Americas/Puerto Rico/1987",
          "Americas/Brazil/1972",
          "Americas/Brazil/1977",
          "Americas/Brazil/1982",
          "Americas/Brazil/1987",
          "Americas/Brazil/1992",
          "Americas/Brazil/1997",
          "Americas/Brazil/1967",
          "Americas/Brazil/2002",
          "Americas/Peru/2007",
          "Americas/El Salvador",
          "Americas/Canada",
          "Americas/Peru/1997",
          "Americas/Peru/1992",
          "Americas/Peru/1987",
          "Americas/Brazil/2007",
          "Americas/Brazil/1962",
          "Americas/Brazil/1957",
          "Americas/Brazil/1952",
          "Americas/Puerto Rico/1982",
          "Americas/Puerto Rico/1977",
          "Americas/Argentina/2007",
          "Americas/Costa Rica",
          "Americas/Colombia",
          "Americas/Chile",
          "Americas/Puerto Rico",
          "Americas/Peru",
          "Americas/Paraguay",
          "Americas/Panama",
          "Americas/Puerto Rico/1972",
          "Americas/Puerto Rico/1967",
          "Americas/Puerto Rico/1962",
          "Americas/Puerto Rico/1957",
          "Americas/Puerto Rico/1952",
          "Americas/Peru/1982",
          "Americas/Dominican Republic/1952",
          "Americas/Canada/2002",
          "Americas/Canada/1957",
          "Americas/Guatemala/1952",
          "Americas/United States/1952",
          "Americas/United States/1957",
          "Americas/United States/1962",
          "Americas/United States/1967",
          "Americas/United States/1972",
          "Americas/Costa Rica/1952",
          "Americas/Costa Rica/1957",
          "Americas/Costa Rica/1962",
          "Americas/Costa Rica/1967",
          "Americas/Costa Rica/1972",
          "Americas/Costa Rica/1977",
          "Americas/Costa Rica/1982",
          "Americas/Costa Rica/1987",
          "Americas/Costa Rica/1992",
          "Americas/Costa Rica/1997",
          "Americas/Costa Rica/2002",
          "Americas/United States/1977",
          "Americas/United States/1982",
          "Americas/United States/1987",
          "Americas/United States/1992",
          "Americas/United States/1997",
          "Americas/United States/2002",
          "Americas/United States/2007",
          "Americas/Uruguay/1952",
          "Americas/Uruguay/1957",
          "Americas/Uruguay/1962",
          "Americas/Uruguay/1967",
          "Americas/Uruguay/1972",
          "Americas/Guatemala/1957",
          "Americas/Guatemala/1962",
          "Americas/Guatemala/1967",
          "Americas/Guatemala/1972",
          "Americas/Honduras/2002",
          "Americas/Honduras/1997",
          "Americas/Honduras/1992",
          "Americas/Honduras/1987",
          "Americas/Honduras/1982",
          "Americas/Honduras/1977",
          "Americas/Honduras/1972",
          "Americas/Honduras/1967",
          "Americas/Honduras/1962",
          "Americas/Honduras/1957",
          "Americas/Honduras/1952",
          "Americas/Haiti/2007",
          "Americas/Haiti/2002",
          "Americas/Haiti/1997",
          "Americas/Costa Rica/2007",
          "Americas/Haiti/1992",
          "Americas/Haiti/1982",
          "Americas/Haiti/1977",
          "Americas/Haiti/1972",
          "Americas/Haiti/1967",
          "Americas/Haiti/1962",
          "Americas/Haiti/1957",
          "Americas/Haiti/1952",
          "Americas/Guatemala/2007",
          "Americas/Guatemala/2002",
          "Americas/Guatemala/1997",
          "Americas/Guatemala/1992",
          "Americas/Guatemala/1987",
          "Americas/Canada/1952",
          "Americas/Guatemala/1977",
          "Americas/Haiti/1987",
          "Americas/Honduras/2007",
          "Americas/Uruguay/1977",
          "Americas/Uruguay/1987",
          "Americas/El Salvador/1977",
          "Americas/El Salvador/1972",
          "Americas/El Salvador/1967",
          "Americas/El Salvador/1962",
          "Americas/El Salvador/1957",
          "Americas/El Salvador/1952",
          "Americas/Ecuador/2007",
          "Americas/Ecuador/2002",
          "Americas/Ecuador/1997",
          "Americas/Ecuador/1992",
          "Americas/Ecuador/1987",
          "Americas/Ecuador/1982",
          "Americas/Ecuador/1977",
          "Americas/Ecuador/1972",
          "Americas/Ecuador/1967",
          "Americas/Ecuador/1962",
          "Americas/Ecuador/1957",
          "Americas/Ecuador/1952",
          "Americas/Dominican Republic/2007",
          "Americas/Dominican Republic/2002",
          "Americas/Dominican Republic/1997",
          "Americas/Dominican Republic/1992",
          "Americas/Dominican Republic/1987",
          "Americas/Dominican Republic/1982",
          "Americas/Dominican Republic/1977",
          "Americas/Dominican Republic/1972",
          "Americas/Dominican Republic/1967",
          "Americas/Dominican Republic/1962",
          "Americas/Dominican Republic/1957",
          "Americas/El Salvador/1982",
          "Americas/El Salvador/1987",
          "Americas/El Salvador/1992",
          "Americas/El Salvador/1997",
          "Americas/Uruguay/1992",
          "Americas/Uruguay/1997",
          "Americas/Uruguay/2002",
          "Americas/Uruguay/2007",
          "Americas/Venezuela/1952",
          "Americas/Venezuela/1957",
          "Americas/Venezuela/1962",
          "Americas/Venezuela/1967",
          "Americas/Venezuela/1972",
          "Americas/Venezuela/1977",
          "Americas/Venezuela/1982",
          "Americas/Venezuela/1987",
          "Americas/Venezuela/1992",
          "Americas/Venezuela/1997",
          "Americas/Uruguay/1982",
          "Americas/Venezuela/2002",
          "Americas/Cuba/1952",
          "Americas/Cuba/1957",
          "Americas/Cuba/1962",
          "Americas/Cuba/1967",
          "Americas/Cuba/1972",
          "Americas/Cuba/1977",
          "Americas/Cuba/1982",
          "Americas/Cuba/1987",
          "Americas/Cuba/1992",
          "Americas/Cuba/1997",
          "Americas/Cuba/2002",
          "Americas/Cuba/2007",
          "Americas/El Salvador/2007",
          "Americas/El Salvador/2002",
          "Americas/Venezuela/2007",
          "Americas/Colombia/2007",
          "Americas/Guatemala/1982",
          "Americas/Colombia/1997",
          "Americas/Trinidad and Tobago/1967",
          "Americas/Trinidad and Tobago/1962",
          "Americas/Trinidad and Tobago/1957",
          "Americas/Trinidad and Tobago/1952",
          "Americas/Jamaica/2007",
          "Americas/Jamaica/2002",
          "Americas/Jamaica/1997",
          "Americas/Chile/2007",
          "Americas/Chile/2002",
          "Americas/Chile/1997",
          "Americas/Chile/1992",
          "Americas/Chile/1987",
          "Americas/Chile/1982",
          "Americas/Trinidad and Tobago/1972",
          "Americas/Chile/1972",
          "Americas/Chile/1962",
          "Americas/Chile/1957",
          "Americas/Chile/1952",
          "Americas/Jamaica/1992",
          "Americas/Jamaica/1987",
          "Americas/Jamaica/1982",
          "Americas/Jamaica/1977",
          "Americas/Jamaica/1972",
          "Americas/Colombia/2002",
          "Americas/Jamaica/1967",
          "Americas/Jamaica/1962",
          "Americas/Jamaica/1957",
          "Americas/Jamaica/1952",
          "Americas/Chile/1967",
          "Americas/Canada/2007",
          "Americas/Chile/1977",
          "Americas/Canada/1992",
          "Americas/Colombia/1962",
          "Americas/Trinidad and Tobago/2007",
          "Americas/Colombia/1967",
          "Americas/Trinidad and Tobago/2002",
          "Americas/Trinidad and Tobago/1997",
          "Americas/Trinidad and Tobago/1992",
          "Americas/Trinidad and Tobago/1987",
          "Americas/Colombia/1977",
          "Americas/Colombia/1982",
          "Americas/Colombia/1987",
          "Americas/Colombia/1992",
          "Americas/Colombia/1952",
          "Americas/Canada/1997",
          "Americas/Colombia/1957",
          "Americas/Canada/1977",
          "Americas/Canada/1967",
          "Americas/Canada/1972",
          "Americas/Colombia/1972",
          "Americas/Trinidad and Tobago/1977",
          "Americas/Canada/1987",
          "Americas/Canada/1962",
          "Americas/Trinidad and Tobago/1982",
          "Americas/Canada/1982",
          "Asia/Vietnam/2007",
          "Asia/West Bank and Gaza/2007",
          "Asia/West Bank and Gaza/2002",
          "Asia/West Bank and Gaza/1997",
          "Asia/West Bank and Gaza/1972",
          "Asia/West Bank and Gaza/1987",
          "Asia/West Bank and Gaza/1952",
          "Asia/West Bank and Gaza/1957",
          "Asia/West Bank and Gaza/1962",
          "Asia/West Bank and Gaza/1967",
          "Asia/West Bank and Gaza/1977",
          "Asia/West Bank and Gaza/1992",
          "Asia/West Bank and Gaza/1982",
          "Asia/Pakistan/1982",
          "Asia/Yemen, Rep./1957",
          "Asia/Philippines/1997",
          "Asia/Philippines/1992",
          "Asia/Philippines/1987",
          "Asia/Philippines/1982",
          "Asia/Philippines/1977",
          "Asia/Philippines/1972",
          "Asia/Philippines/1967",
          "Asia/Philippines/1962",
          "Asia/Philippines/1957",
          "Asia/Philippines/1952",
          "Asia/Pakistan/1977",
          "Asia/Vietnam/2002",
          "Asia/Yemen, Rep./1972",
          "Asia/Yemen, Rep./1967",
          "Asia/Yemen, Rep./1962",
          "Asia/Yemen, Rep./1952",
          "Asia/Vietnam/1997",
          "Asia/Sri Lanka",
          "Asia/Vietnam/1987",
          "Asia/Singapore/2002",
          "Asia/Pakistan/2002",
          "Asia/Pakistan/2007",
          "Asia/Vietnam",
          "Asia/West Bank and Gaza",
          "Asia/Yemen, Rep.",
          "Asia/Singapore/2007",
          "Asia/Bahrain",
          "Asia",
          "Asia/Afghanistan",
          "Asia/Sri Lanka/1972",
          "Asia/Sri Lanka/1967",
          "Asia/Sri Lanka/1962",
          "Asia/Sri Lanka/1957",
          "Asia/Sri Lanka/1952",
          "Asia/Singapore/1997",
          "Asia/Vietnam/1992",
          "Asia/Singapore/1992",
          "Asia/Vietnam/1977",
          "Asia/Vietnam/1982",
          "Asia/Pakistan/1987",
          "Asia/Pakistan/1992",
          "Asia/Pakistan/1997",
          "Asia/Singapore/1952",
          "Asia/Singapore/1957",
          "Asia/Singapore/1962",
          "Asia/Singapore/1967",
          "Asia/Syria",
          "Asia/Taiwan",
          "Asia/Singapore/1972",
          "Asia/Thailand",
          "Asia/Singapore/1977",
          "Asia/Singapore/1982",
          "Asia/Singapore/1987",
          "Asia/Philippines/2002",
          "Asia/Philippines/2007",
          "Asia/Syria/1967",
          "Asia/Sri Lanka/1982",
          "Asia/Thailand/1982",
          "Asia/Thailand/1977",
          "Asia/Thailand/1972",
          "Asia/Thailand/1967",
          "Asia/Thailand/1962",
          "Asia/Thailand/1957",
          "Asia/Malaysia",
          "Asia/Thailand/1952",
          "Asia/Mongolia",
          "Asia/Myanmar",
          "Asia/Nepal",
          "Asia/Pakistan/1972",
          "Asia/Oman",
          "Asia/Pakistan",
          "Asia/Philippines",
          "Asia/Taiwan/2007",
          "Asia/Taiwan/2002",
          "Asia/Taiwan/1997",
          "Asia/Saudi Arabia",
          "Asia/China",
          "Asia/Taiwan/1992",
          "Asia/Thailand/1987",
          "Asia/Thailand/1997",
          "Asia/Saudi Arabia/1952",
          "Asia/Saudi Arabia/1957",
          "Asia/Saudi Arabia/1962",
          "Asia/Saudi Arabia/1967",
          "Asia/Saudi Arabia/1972",
          "Asia/Hong Kong, China",
          "Asia/India",
          "Asia/Indonesia",
          "Asia/Iran",
          "Asia/Iraq",
          "Asia/Israel",
          "Asia/Japan",
          "Asia/Jordan",
          "Asia/Korea, Dem. Rep.",
          "Asia/Korea, Rep.",
          "Asia/Kuwait",
          "Asia/Lebanon",
          "Asia/Thailand/2007",
          "Asia/Thailand/2002",
          "Asia/Thailand/1992",
          "Asia/Taiwan/1987",
          "Asia/Singapore",
          "Asia/Taiwan/1982",
          "Asia/Saudi Arabia/2007",
          "Asia/Syria/1987",
          "Asia/Syria/1982",
          "Asia/Syria/1977",
          "Asia/Syria/1972",
          "Asia/Syria/1962",
          "Asia/Syria/1957",
          "Asia/Syria/1952",
          "Asia/Vietnam/1952",
          "Asia/Vietnam/1957",
          "Asia/Vietnam/1962",
          "Asia/Vietnam/1967",
          "Asia/Vietnam/1972",
          "Asia/Yemen, Rep./1977",
          "Asia/Sri Lanka/2007",
          "Asia/Sri Lanka/2002",
          "Asia/Sri Lanka/1997",
          "Asia/Sri Lanka/1992",
          "Asia/Sri Lanka/1987",
          "Asia/Saudi Arabia/2002",
          "Asia/Saudi Arabia/1997",
          "Asia/Saudi Arabia/1992",
          "Asia/Saudi Arabia/1987",
          "Asia/Taiwan/1977",
          "Asia/Taiwan/1972",
          "Asia/Taiwan/1967",
          "Asia/Taiwan/1962",
          "Asia/Cambodia",
          "Asia/Taiwan/1957",
          "Asia/Taiwan/1952",
          "Asia/Syria/2007",
          "Asia/Yemen, Rep./2007",
          "Asia/Sri Lanka/1977",
          "Asia/Yemen, Rep./2002",
          "Asia/Yemen, Rep./1992",
          "Asia/Yemen, Rep./1987",
          "Asia/Yemen, Rep./1982",
          "Asia/Syria/2002",
          "Asia/Syria/1997",
          "Asia/Syria/1992",
          "Asia/Bangladesh",
          "Asia/Saudi Arabia/1977",
          "Asia/Saudi Arabia/1982",
          "Asia/Yemen, Rep./1997",
          "Asia/Pakistan/1967",
          "Asia/Afghanistan/1952",
          "Asia/Pakistan/1957",
          "Asia/Iraq/1987",
          "Asia/Iraq/1992",
          "Asia/Iraq/1997",
          "Asia/Iraq/2002",
          "Asia/Iraq/2007",
          "Asia/Israel/1952",
          "Asia/Israel/1957",
          "Asia/Israel/1962",
          "Asia/Iraq/1982",
          "Asia/Israel/1967",
          "Asia/Israel/1977",
          "Asia/Israel/1982",
          "Asia/Israel/1987",
          "Asia/Israel/1992",
          "Asia/Israel/1997",
          "Asia/Israel/2002",
          "Asia/Israel/2007",
          "Asia/Japan/1952",
          "Asia/Israel/1972",
          "Asia/Iraq/1977",
          "Asia/Iraq/1972",
          "Asia/Iraq/1967",
          "Asia/Indonesia/1992",
          "Asia/Indonesia/1997",
          "Asia/Indonesia/2002",
          "Asia/Indonesia/2007",
          "Asia/Iran/1952",
          "Asia/Iran/1957",
          "Asia/Iran/1962",
          "Asia/Iran/1967",
          "Asia/Iran/1972",
          "Asia/Iran/1977",
          "Asia/Iran/1982",
          "Asia/Iran/1987",
          "Asia/Pakistan/1962",
          "Asia/Iran/1997",
          "Asia/Iran/2002",
          "Asia/Iran/2007",
          "Asia/Iraq/1952",
          "Asia/Iraq/1957",
          "Asia/Iraq/1962",
          "Asia/Japan/1957",
          "Asia/Japan/1962",
          "Asia/Japan/1967",
          "Asia/Japan/1972",
          "Asia/Korea, Dem. Rep./1972",
          "Asia/Korea, Dem. Rep./1977",
          "Asia/Korea, Dem. Rep./1982",
          "Asia/Korea, Dem. Rep./1987",
          "Asia/Korea, Dem. Rep./1992",
          "Asia/Korea, Dem. Rep./1997",
          "Asia/Korea, Dem. Rep./2002",
          "Asia/Korea, Dem. Rep./2007",
          "Asia/Korea, Rep./1952",
          "Asia/Korea, Rep./1957",
          "Asia/Korea, Rep./1962",
          "Asia/Korea, Rep./1967",
          "Asia/Korea, Rep./1972",
          "Asia/Korea, Rep./1977",
          "Asia/Korea, Rep./1982",
          "Asia/Korea, Rep./1987",
          "Asia/Korea, Rep./1992",
          "Asia/Korea, Rep./1997",
          "Asia/Korea, Rep./2002",
          "Asia/Korea, Dem. Rep./1967",
          "Asia/Indonesia/1987",
          "Asia/Korea, Dem. Rep./1962",
          "Asia/Korea, Dem. Rep./1952",
          "Asia/Japan/1977",
          "Asia/Japan/1982",
          "Asia/Japan/1987",
          "Asia/Japan/1992",
          "Asia/Japan/1997",
          "Asia/Japan/2002",
          "Asia/Japan/2007",
          "Asia/Jordan/1952",
          "Asia/Jordan/1957",
          "Asia/Jordan/1962",
          "Asia/Jordan/1967",
          "Asia/Jordan/1972",
          "Asia/Jordan/1977",
          "Asia/Jordan/1982",
          "Asia/Jordan/1987",
          "Asia/Jordan/1992",
          "Asia/Jordan/1997",
          "Asia/Jordan/2002",
          "Asia/Jordan/2007",
          "Asia/Korea, Dem. Rep./1957",
          "Asia/Korea, Rep./2007",
          "Asia/Indonesia/1982",
          "Asia/Indonesia/1972",
          "Asia/Bangladesh/1952",
          "Asia/Bangladesh/1957",
          "Asia/Bangladesh/1962",
          "Asia/Bangladesh/1967",
          "Asia/Bangladesh/1972",
          "Asia/Bangladesh/1977",
          "Asia/Bangladesh/1982",
          "Asia/Bangladesh/1987",
          "Asia/Bahrain/2007",
          "Asia/Bangladesh/1992",
          "Asia/Bangladesh/2002",
          "Asia/Bangladesh/2007",
          "Asia/Cambodia/1952",
          "Asia/Cambodia/1957",
          "Asia/Cambodia/1962",
          "Asia/Cambodia/1967",
          "Asia/Cambodia/1972",
          "Asia/Cambodia/1977",
          "Asia/Bangladesh/1997",
          "Asia/Bahrain/2002",
          "Asia/Bahrain/1997",
          "Asia/Bahrain/1992",
          "Asia/Afghanistan/1957",
          "Asia/Afghanistan/1962",
          "Asia/Afghanistan/1967",
          "Asia/Afghanistan/1972",
          "Asia/Afghanistan/1977",
          "Asia/Afghanistan/1982",
          "Asia/Afghanistan/1987",
          "Asia/Afghanistan/1992",
          "Asia/Afghanistan/1997",
          "Asia/Afghanistan/2002",
          "Asia/Afghanistan/2007",
          "Asia/Bahrain/1952",
          "Asia/Bahrain/1957",
          "Asia/Bahrain/1962",
          "Asia/Bahrain/1967",
          "Asia/Bahrain/1972",
          "Asia/Bahrain/1977",
          "Asia/Bahrain/1982",
          "Asia/Bahrain/1987",
          "Asia/Cambodia/1982",
          "Asia/Cambodia/1987",
          "Asia/Cambodia/1992",
          "Asia/Cambodia/1997",
          "Asia/Hong Kong, China/1997",
          "Asia/Hong Kong, China/2002",
          "Asia/Hong Kong, China/2007",
          "Asia/India/1952",
          "Asia/India/1957",
          "Asia/India/1962",
          "Asia/India/1967",
          "Asia/India/1972",
          "Asia/India/1977",
          "Asia/India/1982",
          "Asia/India/1987",
          "Asia/India/1992",
          "Asia/India/1997",
          "Asia/India/2002",
          "Asia/India/2007",
          "Asia/Indonesia/1952",
          "Asia/Indonesia/1957",
          "Asia/Indonesia/1962",
          "Asia/Indonesia/1967",
          "Asia/Hong Kong, China/1992",
          "Asia/Indonesia/1977",
          "Asia/Hong Kong, China/1987",
          "Asia/Hong Kong, China/1977",
          "Asia/Cambodia/2002",
          "Asia/Cambodia/2007",
          "Asia/China/1952",
          "Asia/China/1957",
          "Asia/China/1962",
          "Asia/China/1967",
          "Asia/China/1972",
          "Asia/China/1977",
          "Asia/China/1982",
          "Asia/China/1987",
          "Asia/China/1992",
          "Asia/China/1997",
          "Asia/China/2002",
          "Asia/China/2007",
          "Asia/Hong Kong, China/1952",
          "Asia/Hong Kong, China/1957",
          "Asia/Hong Kong, China/1962",
          "Asia/Hong Kong, China/1967",
          "Asia/Hong Kong, China/1972",
          "Asia/Hong Kong, China/1982",
          "Asia/Kuwait/1952",
          "Asia/Iran/1992",
          "Asia/Kuwait/1962",
          "Asia/Mongolia/1987",
          "Asia/Mongolia/1982",
          "Asia/Mongolia/1977",
          "Asia/Mongolia/1972",
          "Asia/Mongolia/1967",
          "Asia/Mongolia/1962",
          "Asia/Oman/1952",
          "Asia/Oman/1957",
          "Asia/Mongolia/1957",
          "Asia/Mongolia/1952",
          "Asia/Malaysia/2002",
          "Asia/Malaysia/1997",
          "Asia/Malaysia/1992",
          "Asia/Malaysia/1987",
          "Asia/Malaysia/1982",
          "Asia/Malaysia/1977",
          "Asia/Malaysia/1972",
          "Asia/Malaysia/1967",
          "Asia/Malaysia/1962",
          "Asia/Malaysia/1957",
          "Asia/Malaysia/1952",
          "Asia/Lebanon/2007",
          "Asia/Lebanon/2002",
          "Asia/Mongolia/1992",
          "Asia/Mongolia/1997",
          "Asia/Mongolia/2002",
          "Asia/Mongolia/2007",
          "Asia/Myanmar/1952",
          "Asia/Myanmar/1957",
          "Asia/Myanmar/1962",
          "Asia/Myanmar/1967",
          "Asia/Myanmar/1972",
          "Asia/Myanmar/1977",
          "Asia/Myanmar/1982",
          "Asia/Myanmar/1987",
          "Asia/Myanmar/1992",
          "Asia/Myanmar/1997",
          "Asia/Myanmar/2002",
          "Asia/Lebanon/1997",
          "Asia/Myanmar/2007",
          "Asia/Nepal/1957",
          "Asia/Nepal/1962",
          "Asia/Nepal/1967",
          "Asia/Nepal/1972",
          "Asia/Nepal/2007",
          "Asia/Nepal/2002",
          "Asia/Nepal/1997",
          "Asia/Nepal/1992",
          "Asia/Nepal/1987",
          "Asia/Nepal/1982",
          "Asia/Nepal/1977",
          "Asia/Nepal/1952",
          "Asia/Lebanon/1992",
          "Asia/Malaysia/2007",
          "Asia/Lebanon/1982",
          "Asia/Oman/1962",
          "Asia/Kuwait/1992",
          "Asia/Lebanon/1987",
          "Asia/Kuwait/1987",
          "Asia/Kuwait/1982",
          "Asia/Kuwait/1977",
          "Asia/Oman/1967",
          "Asia/Oman/1972",
          "Asia/Oman/1977",
          "Asia/Oman/1987",
          "Asia/Oman/1992",
          "Asia/Oman/1997",
          "Asia/Oman/2002",
          "Asia/Oman/2007",
          "Asia/Oman/1982",
          "Asia/Pakistan/1952",
          "Asia/Lebanon/1977",
          "Asia/Lebanon/1972",
          "Asia/Lebanon/1962",
          "Asia/Lebanon/1957",
          "Asia/Lebanon/1952",
          "Asia/Kuwait/2007",
          "Asia/Lebanon/1967",
          "Asia/Kuwait/1957",
          "Asia/Kuwait/1997",
          "Asia/Kuwait/1972",
          "Asia/Kuwait/1967",
          "Asia/Kuwait/2002",
          "Europe/Poland/1952",
          "Europe/Poland/1957",
          "Europe/Poland/1962",
          "Europe/Croatia/1952",
          "Europe/Croatia/1982",
          "Europe/Croatia/1967",
          "Europe/Croatia/1972",
          "Europe/Croatia/1977",
          "Europe/Croatia/1987",
          "Europe/Croatia/1992",
          "Europe/France/2002",
          "Europe/Croatia/1957",
          "Europe/Croatia/1962",
          "Europe/Netherlands/1982",
          "Europe/Germany/1952",
          "Europe/Germany/1957",
          "Europe/Germany/1962",
          "Europe/Netherlands/1952",
          "Europe/Netherlands/1957",
          "Europe/Netherlands/1962",
          "Europe/Netherlands/1967",
          "Europe/Netherlands/1972",
          "Europe/Netherlands/1977",
          "Europe/Croatia/1997",
          "Europe/Netherlands/1987",
          "Europe/Germany/1967",
          "Europe/Germany/1972",
          "Europe/Netherlands/1992",
          "Europe/France/2007",
          "Europe/Croatia/2002",
          "Europe/Czech Republic/1972",
          "Europe/Czech Republic/1952",
          "Europe/Denmark/1972",
          "Europe/Finland/2002",
          "Europe/Finland/1997",
          "Europe/Netherlands/1997",
          "Europe/Finland/1992",
          "Europe/Finland/1987",
          "Europe/Denmark/1977",
          "Europe/Denmark/1982",
          "Europe/Denmark/1987",
          "Europe/Denmark/1967",
          "Europe/Denmark/1992",
          "Europe/Denmark/2002",
          "Europe/Denmark/2007",
          "Europe/Finland/1952",
          "Europe/Finland/1957",
          "Europe/Finland/1962",
          "Europe/Finland/1967",
          "Europe/Finland/1972",
          "Europe/Finland/1982",
          "Europe/Finland/1977",
          "Europe/Denmark/1997",
          "Europe/Finland/2007",
          "Europe/France/1952",
          "Europe/Denmark/1962",
          "Europe/Czech Republic/1957",
          "Europe/Czech Republic/1962",
          "Europe/Czech Republic/1967",
          "Europe/Czech Republic/1977",
          "Europe/Czech Republic/1982",
          "Europe/France/1997",
          "Europe/France/1992",
          "Europe/France/1987",
          "Europe/France/1982",
          "Europe/France/1977",
          "Europe/France/1972",
          "Europe/France/1967",
          "Europe/France/1962",
          "Europe/France/1957",
          "Europe/Czech Republic/1987",
          "Europe/Czech Republic/1992",
          "Europe/Czech Republic/1997",
          "Europe/Czech Republic/2002",
          "Europe/Czech Republic/2007",
          "Europe/Denmark/1952",
          "Europe/Denmark/1957",
          "Europe/Croatia/2007",
          "Europe/Albania",
          "Europe/Czech Republic",
          "Europe/Netherlands/2007",
          "Europe/Austria/1962",
          "Europe/Austria/1967",
          "Europe/Austria/1972",
          "Europe/Netherlands",
          "Europe/Austria/1977",
          "Europe/Austria/1982",
          "Europe/Austria/1987",
          "Europe/Austria/1992",
          "Europe/Austria/1997",
          "Europe/Montenegro",
          "Europe/Norway",
          "Europe/Austria/2002",
          "Europe/Norway/2007",
          "Europe/Norway/2002",
          "Europe/Norway/1997",
          "Europe/Norway/1992",
          "Europe/Norway/1987",
          "Europe/Norway/1982",
          "Europe/Norway/1977",
          "Europe/Norway/1972",
          "Europe/Norway/1967",
          "Europe/Norway/1962",
          "Europe/Austria/2007",
          "Europe/Austria/1957",
          "Europe/Austria/1952",
          "Europe/Poland",
          "Europe",
          "Europe/United Kingdom",
          "Europe/Turkey",
          "Europe/Albania/1952",
          "Europe/Albania/1957",
          "Europe/Albania/1962",
          "Europe/Albania/1967",
          "Europe/Albania/1972",
          "Europe/Albania/1977",
          "Europe/Albania/1982",
          "Europe/Switzerland",
          "Europe/Sweden",
          "Europe/Albania/1987",
          "Europe/Albania/1992",
          "Europe/Albania/1997",
          "Europe/Spain",
          "Europe/Albania/2002",
          "Europe/Albania/2007",
          "Europe/Slovenia",
          "Europe/Slovak Republic",
          "Europe/Serbia",
          "Europe/Romania",
          "Europe/Portugal",
          "Europe/Norway/1957",
          "Europe/Netherlands/2002",
          "Europe/Norway/1952",
          "Europe/Ireland",
          "Europe/Bosnia and Herzegovina/1982",
          "Europe/Bosnia and Herzegovina/1987",
          "Europe/Bosnia and Herzegovina/1992",
          "Europe/Bosnia and Herzegovina/1997",
          "Europe/Bosnia and Herzegovina/2002",
          "Europe/Bosnia and Herzegovina/2007",
          "Europe/Bulgaria/1952",
          "Europe/Bulgaria/1957",
          "Europe/Bulgaria/1962",
          "Europe/Bulgaria/1967",
          "Europe/Bosnia and Herzegovina/1977",
          "Europe/Bulgaria/1972",
          "Europe/Bulgaria/1982",
          "Europe/Bulgaria",
          "Europe/Bulgaria/1987",
          "Europe/Bulgaria/1992",
          "Europe/Bosnia and Herzegovina",
          "Europe/Bulgaria/1997",
          "Europe/Bulgaria/2002",
          "Europe/Belgium",
          "Europe/Bulgaria/2007",
          "Europe/Austria",
          "Europe/Bulgaria/1977",
          "Europe/Bosnia and Herzegovina/1972",
          "Europe/Croatia",
          "Europe/Bosnia and Herzegovina/1967",
          "Europe/Iceland",
          "Europe/Hungary",
          "Europe/Belgium/1952",
          "Europe/Belgium/1957",
          "Europe/Belgium/1962",
          "Europe/Belgium/1967",
          "Europe/Greece",
          "Europe/Belgium/1972",
          "Europe/Germany",
          "Europe/Belgium/1977",
          "Europe/Belgium/1982",
          "Europe/France",
          "Europe/Finland",
          "Europe/Belgium/1987",
          "Europe/Belgium/1992",
          "Europe/Belgium/1997",
          "Europe/Belgium/2002",
          "Europe/Belgium/2007",
          "Europe/Bosnia and Herzegovina/1952",
          "Europe/Bosnia and Herzegovina/1957",
          "Europe/Bosnia and Herzegovina/1962",
          "Europe/Denmark",
          "Europe/Germany/1977",
          "Europe/Italy",
          "Europe/Germany/1982",
          "Europe/United Kingdom/1967",
          "Europe/Germany/1992",
          "Europe/Sweden/1977",
          "Europe/Sweden/1972",
          "Europe/Sweden/1967",
          "Europe/Sweden/1962",
          "Europe/Sweden/1957",
          "Europe/Sweden/1952",
          "Europe/Ireland/1977",
          "Europe/Ireland/1982",
          "Europe/Ireland/1987",
          "Europe/Ireland/1992",
          "Europe/Sweden/1982",
          "Europe/Ireland/1997",
          "Europe/Ireland/2007",
          "Europe/Montenegro/1957",
          "Europe/Montenegro/1952",
          "Europe/Italy/1952",
          "Europe/Italy/1957",
          "Europe/Italy/1962",
          "Europe/Italy/1967",
          "Europe/Italy/1972",
          "Europe/Italy/1977",
          "Europe/Italy/1982",
          "Europe/Ireland/2002",
          "Europe/Italy/1987",
          "Europe/Sweden/1987",
          "Europe/Sweden/1997",
          "Europe/Montenegro/1972",
          "Europe/Montenegro/1967",
          "Europe/Montenegro/1962",
          "Europe/Ireland/1952",
          "Europe/Ireland/1957",
          "Europe/Ireland/1962",
          "Europe/Ireland/1967",
          "Europe/Ireland/1972",
          "Europe/Switzerland/2007",
          "Europe/Germany/1987",
          "Europe/Sweden/1992",
          "Europe/Switzerland/1997",
          "Europe/Switzerland/1987",
          "Europe/Switzerland/1982",
          "Europe/Switzerland/1977",
          "Europe/Switzerland/1972",
          "Europe/Switzerland/1967",
          "Europe/Switzerland/1962",
          "Europe/Switzerland/1957",
          "Europe/Switzerland/1952",
          "Europe/Sweden/2007",
          "Europe/Sweden/2002",
          "Europe/Switzerland/1992",
          "Europe/Italy/1992",
          "Europe/Italy/1997",
          "Europe/Italy/2002",
          "Europe/Slovak Republic/1997",
          "Europe/Slovak Republic/1992",
          "Europe/Slovak Republic/1987",
          "Europe/Slovak Republic/1982",
          "Europe/Slovak Republic/1977",
          "Europe/Slovak Republic/1972",
          "Europe/Slovak Republic/1967",
          "Europe/Slovak Republic/1962",
          "Europe/Slovak Republic/1957",
          "Europe/Slovak Republic/1952",
          "Europe/Slovak Republic/2002",
          "Europe/Serbia/1952",
          "Europe/Serbia/1962",
          "Europe/Serbia/1967",
          "Europe/Serbia/1972",
          "Europe/Serbia/1977",
          "Europe/Serbia/1982",
          "Europe/Serbia/1987",
          "Europe/Serbia/1992",
          "Europe/Serbia/1997",
          "Europe/Serbia/2002",
          "Europe/Serbia/2007",
          "Europe/Serbia/1957",
          "Europe/Slovak Republic/2007",
          "Europe/Slovenia/1952",
          "Europe/Slovenia/1957",
          "Europe/Italy/2007",
          "Europe/Spain/2007",
          "Europe/Spain/2002",
          "Europe/Spain/1997",
          "Europe/Spain/1992",
          "Europe/Spain/1987",
          "Europe/Spain/1982",
          "Europe/Spain/1977",
          "Europe/Spain/1972",
          "Europe/Spain/1967",
          "Europe/Spain/1962",
          "Europe/Spain/1957",
          "Europe/Spain/1952",
          "Europe/Slovenia/2007",
          "Europe/Slovenia/2002",
          "Europe/Slovenia/1997",
          "Europe/Slovenia/1992",
          "Europe/Slovenia/1987",
          "Europe/Slovenia/1982",
          "Europe/Slovenia/1977",
          "Europe/Slovenia/1972",
          "Europe/Slovenia/1967",
          "Europe/Slovenia/1962",
          "Europe/Romania/2007",
          "Europe/Romania/2002",
          "Europe/Switzerland/2002",
          "Europe/Romania/1992",
          "Europe/Poland/1982",
          "Europe/Poland/1987",
          "Europe/Turkey/2007",
          "Europe/Turkey/2002",
          "Europe/Turkey/1997",
          "Europe/Turkey/1992",
          "Europe/Turkey/1987",
          "Europe/Turkey/1982",
          "Europe/Turkey/1977",
          "Europe/Turkey/1972",
          "Europe/Turkey/1967",
          "Europe/Poland/1977",
          "Europe/Turkey/1962",
          "Europe/Turkey/1952",
          "Europe/Poland/1992",
          "Europe/Poland/1997",
          "Europe/Poland/2002",
          "Europe/Poland/2007",
          "Europe/Portugal/1952",
          "Europe/Romania/1997",
          "Europe/Portugal/1962",
          "Europe/Hungary/1952",
          "Europe/Hungary/1957",
          "Europe/Hungary/1962",
          "Europe/Turkey/1957",
          "Europe/Poland/1972",
          "Europe/Poland/1967",
          "Europe/Greece/2007",
          "Europe/Germany/1997",
          "Europe/Germany/2002",
          "Europe/Germany/2007",
          "Europe/Greece/1952",
          "Europe/Greece/1957",
          "Europe/Greece/1962",
          "Europe/Greece/1967",
          "Europe/Greece/1972",
          "Europe/United Kingdom/2007",
          "Europe/United Kingdom/2002",
          "Europe/United Kingdom/1997",
          "Europe/United Kingdom/1992",
          "Europe/United Kingdom/1987",
          "Europe/United Kingdom/1982",
          "Europe/United Kingdom/1977",
          "Europe/United Kingdom/1972",
          "Europe/United Kingdom/1962",
          "Europe/United Kingdom/1957",
          "Europe/United Kingdom/1952",
          "Europe/Greece/1977",
          "Europe/Greece/1982",
          "Europe/Greece/1987",
          "Europe/Greece/1992",
          "Europe/Greece/1997",
          "Europe/Greece/2002",
          "Europe/Hungary/1967",
          "Europe/Hungary/1972",
          "Europe/Portugal/1957",
          "Europe/Hungary/1982",
          "Europe/Iceland/1997",
          "Europe/Iceland/2002",
          "Europe/Iceland/2007",
          "Europe/Portugal/1967",
          "Europe/Portugal/1972",
          "Europe/Portugal/1977",
          "Europe/Portugal/1982",
          "Europe/Portugal/1987",
          "Europe/Portugal/1992",
          "Europe/Portugal/1997",
          "Europe/Portugal/2002",
          "Europe/Portugal/2007",
          "Europe/Montenegro/2007",
          "Europe/Montenegro/2002",
          "Europe/Montenegro/1997",
          "Europe/Montenegro/1992",
          "Europe/Montenegro/1987",
          "Europe/Montenegro/1982",
          "Europe/Montenegro/1977",
          "Europe/Romania/1952",
          "Europe/Romania/1957",
          "Europe/Romania/1962",
          "Europe/Romania/1967",
          "Europe/Romania/1972",
          "Europe/Romania/1977",
          "Europe/Romania/1982",
          "Europe/Romania/1987",
          "Europe/Iceland/1992",
          "Europe/Hungary/1977",
          "Europe/Iceland/1987",
          "Europe/Iceland/1967",
          "Europe/Hungary/1987",
          "Europe/Hungary/1992",
          "Europe/Iceland/1982",
          "Europe/Hungary/1997",
          "Europe/Hungary/2002",
          "Europe/Hungary/2007",
          "Europe/Iceland/1952",
          "Europe/Iceland/1957",
          "Europe/Iceland/1962",
          "Europe/Iceland/1972",
          "Europe/Iceland/1977",
          "Oceania/New Zealand/1952",
          "Oceania/Australia/1972",
          "Oceania/New Zealand/1997",
          "Oceania/New Zealand/1957",
          "Oceania/New Zealand/2002",
          "Oceania/New Zealand/1992",
          "Oceania/Australia",
          "Oceania/New Zealand/2007",
          "Oceania/New Zealand/1987",
          "Oceania/Australia/1977",
          "Oceania/Australia/1967",
          "Oceania/Australia/1962",
          "Oceania/Australia/1957",
          "Oceania/Australia/1952",
          "Oceania/Australia/1982",
          "Oceania/Australia/1987",
          "Oceania/New Zealand/1962",
          "Oceania/New Zealand/1967",
          "Oceania/Australia/1992",
          "Oceania/Australia/1997",
          "Oceania/Australia/2002",
          "Oceania/Australia/2007",
          "Oceania/New Zealand/1972",
          "Oceania/New Zealand/1977",
          "Oceania/New Zealand/1982",
          "Oceania/New Zealand",
          "Oceania"
         ],
         "labels": [
          "1957",
          "1977",
          "1972",
          "1967",
          "1962",
          "1957",
          "1952",
          "2007",
          "2002",
          "1997",
          "1992",
          "1987",
          "1982",
          "1977",
          "1972",
          "1967",
          "1962",
          "1957",
          "1952",
          "2007",
          "2002",
          "1997",
          "1992",
          "1987",
          "1982",
          "1982",
          "1987",
          "1997",
          "1992",
          "1997",
          "2002",
          "2007",
          "1972",
          "1967",
          "1962",
          "1957",
          "1952",
          "2007",
          "2002",
          "1997",
          "1992",
          "1987",
          "1982",
          "1977",
          "1972",
          "1967",
          "1962",
          "1957",
          "1952",
          "2007",
          "2002",
          "1992",
          "1987",
          "1977",
          "1967",
          "2007",
          "2002",
          "1997",
          "1992",
          "1987",
          "1982",
          "1977",
          "1952",
          "1957",
          "1962",
          "1967",
          "1972",
          "1977",
          "1982",
          "1987",
          "1992",
          "1997",
          "2002",
          "2007",
          "1972",
          "1967",
          "1962",
          "1957",
          "1952",
          "1972",
          "1957",
          "1967",
          "1962",
          "1957",
          "1952",
          "2007",
          "2002",
          "1997",
          "1992",
          "1987",
          "1982",
          "1977",
          "1972",
          "1967",
          "1962",
          "1957",
          "1952",
          "2007",
          "2002",
          "1997",
          "1992",
          "1987",
          "1982",
          "1977",
          "1972",
          "1962",
          "1952",
          "1982",
          "1972",
          "1977",
          "1982",
          "1987",
          "1992",
          "1997",
          "2002",
          "2007",
          "1952",
          "1957",
          "1962",
          "1967",
          "1972",
          "1977",
          "1982",
          "1987",
          "1992",
          "1997",
          "2002",
          "2007",
          "1952",
          "1957",
          "1962",
          "1967",
          "1972",
          "1972",
          "1967",
          "1957",
          "1962",
          "1967",
          "1972",
          "1977",
          "1982",
          "1987",
          "1992",
          "1997",
          "2002",
          "2007",
          "1952",
          "1957",
          "1962",
          "1967",
          "1972",
          "1977",
          "1982",
          "1987",
          "1992",
          "1997",
          "2002",
          "2007",
          "1952",
          "1962",
          "1977",
          "1977",
          "1987",
          "2007",
          "2002",
          "1997",
          "1992",
          "1987",
          "1982",
          "1977",
          "1952",
          "1957",
          "1962",
          "1967",
          "1972",
          "1977",
          "1982",
          "1987",
          "1992",
          "1997",
          "2002",
          "2007",
          "1952",
          "1957",
          "1962",
          "1967",
          "2007",
          "1982",
          "2002",
          "1992",
          "1992",
          "1997",
          "2002",
          "2007",
          "1952",
          "1957",
          "1962",
          "1967",
          "1972",
          "1977",
          "1982",
          "1987",
          "1992",
          "1997",
          "2002",
          "2007",
          "1952",
          "1957",
          "1962",
          "1967",
          "1972",
          "1977",
          "1987",
          "1997",
          "1957",
          "2007",
          "1997",
          "1972",
          "1967",
          "1962",
          "1957",
          "1952",
          "2007",
          "2002",
          "1997",
          "1992",
          "1987",
          "1982",
          "1977",
          "1952",
          "1957",
          "1962",
          "1967",
          "1972",
          "1977",
          "1982",
          "1987",
          "1992",
          "1997",
          "2002",
          "1977",
          "2007",
          "1982",
          "1992",
          "1997",
          "2002",
          "2007",
          "1952",
          "1957",
          "1962",
          "1967",
          "1972",
          "1977",
          "1982",
          "1987",
          "1992",
          "1997",
          "2002",
          "2007",
          "1972",
          "1967",
          "1962",
          "1957",
          "1952",
          "2007",
          "2002",
          "1997",
          "1987",
          "1992",
          "1952",
          "1962",
          "1957",
          "1962",
          "1967",
          "1972",
          "1977",
          "1982",
          "1987",
          "1992",
          "1997",
          "2002",
          "2007",
          "1952",
          "1957",
          "1962",
          "1967",
          "1972",
          "1977",
          "1982",
          "1987",
          "1992",
          "1997",
          "2002",
          "2007",
          "1952",
          "1957",
          "2007",
          "1997",
          "1967",
          "1972",
          "1977",
          "1982",
          "1987",
          "1992",
          "1997",
          "2002",
          "2007",
          "1972",
          "1967",
          "1962",
          "1957",
          "1952",
          "1952",
          "1957",
          "1962",
          "1967",
          "1972",
          "1977",
          "1982",
          "1987",
          "1992",
          "2002",
          "2002",
          "1987",
          "1977",
          "1982",
          "1987",
          "1992",
          "1997",
          "2002",
          "2007",
          "1952",
          "1957",
          "1962",
          "1967",
          "1972",
          "1977",
          "1982",
          "1987",
          "1992",
          "1997",
          "2002",
          "2007",
          "1952",
          "1957",
          "1962",
          "1967",
          "1972",
          "1977",
          "1977",
          "1972",
          "1962",
          "1992",
          "1987",
          "1982",
          "1977",
          "1972",
          "1967",
          "1962",
          "1957",
          "1952",
          "2007",
          "2002",
          "1997",
          "1992",
          "1987",
          "1982",
          "1977",
          "1972",
          "1967",
          "1962",
          "1957",
          "1952",
          "1952",
          "1957",
          "1967",
          "1982",
          "1982",
          "1992",
          "2002",
          "1997",
          "1992",
          "1987",
          "1982",
          "1977",
          "1952",
          "1957",
          "1962",
          "1967",
          "1972",
          "1977",
          "1982",
          "1987",
          "1992",
          "1997",
          "2002",
          "2007",
          "1952",
          "1957",
          "1962",
          "1967",
          "1972",
          "2007",
          "1987",
          "2007",
          "1997",
          "1997",
          "2002",
          "2007",
          "1952",
          "1957",
          "1962",
          "1967",
          "1972",
          "1977",
          "1982",
          "1987",
          "1992",
          "1997",
          "2002",
          "2007",
          "1952",
          "1962",
          "1967",
          "1972",
          "1977",
          "1982",
          "1987",
          "1992",
          "2002",
          "1952",
          "1982",
          "1987",
          "Djibouti",
          "2007",
          "2002",
          "1997",
          "1992",
          "1987",
          "1982",
          "Cote d'Ivoire",
          "1952",
          "1962",
          "1967",
          "1972",
          "1977",
          "1972",
          "1967",
          "1962",
          "1957",
          "1977",
          "1982",
          "1987",
          "1972",
          "1967",
          "1962",
          "1957",
          "1952",
          "Comoros",
          "Congo, Dem. Rep.",
          "Congo, Rep.",
          "1972",
          "1967",
          "1962",
          "1957",
          "1952",
          "2007",
          "2002",
          "1997",
          "1992",
          "1957",
          "1977",
          "1952",
          "Equatorial Guinea",
          "1967",
          "1972",
          "1977",
          "1982",
          "2002",
          "1992",
          "1997",
          "1962",
          "2002",
          "1952",
          "1957",
          "1962",
          "1967",
          "1972",
          "1977",
          "1982",
          "2007",
          "1957",
          "1952",
          "2007",
          "Eritrea",
          "Ethiopia",
          "Gabon",
          "Gambia",
          "Ghana",
          "Guinea",
          "Guinea-Bissau",
          "Kenya",
          "Lesotho",
          "Liberia",
          "Libya",
          "1977",
          "1982",
          "1987",
          "1992",
          "1997",
          "2002",
          "Egypt",
          "1987",
          "1982",
          "1992",
          "2002",
          "1997",
          "1992",
          "1987",
          "1982",
          "1977",
          "1972",
          "2007",
          "1967",
          "1957",
          "1952",
          "2007",
          "2002",
          "1997",
          "1992",
          "1952",
          "1962",
          "Angola",
          "Algeria",
          "2007",
          "2007",
          "1992",
          "1987",
          "1982",
          "1977",
          "1972",
          "1967",
          "1962",
          "1957",
          "1952",
          "1977",
          "2007",
          "1982",
          "1987",
          "1992",
          "1997",
          "2002",
          "1957",
          "1987",
          "1962",
          "1972",
          "1977",
          "1972",
          "1967",
          "1962",
          "1957",
          "1952",
          "Benin",
          "1982",
          "Botswana",
          "Burundi",
          "Cameroon",
          "Central African Republic",
          "Chad",
          "2007",
          "2002",
          "1997",
          "Burkina Faso",
          "1987",
          "2007",
          "2002",
          "1977",
          "1982",
          "1987",
          "1992",
          "1997",
          "2002",
          "2007",
          "1952",
          "1957",
          "1962",
          "1967",
          "1972",
          "1977",
          "1982",
          "1987",
          "1992",
          "1997",
          "1967",
          "1992",
          "1997",
          "2002",
          "1987",
          "1992",
          "1997",
          "2002",
          "2007",
          "1952",
          "1957",
          "1962",
          "1967",
          "1972",
          "1977",
          "1982",
          "1982",
          "1992",
          "1997",
          "2002",
          "2007",
          "1952",
          "1957",
          "1962",
          "1967",
          "1972",
          "2007",
          "2002",
          "1987",
          "1977",
          "1972",
          "1967",
          "Africa",
          "Zimbabwe",
          "Zambia",
          "2002",
          "1997",
          "1992",
          "1987",
          "1982",
          "1977",
          "1972",
          "1967",
          "1962",
          "1957",
          "1952",
          "Uganda",
          "Tunisia",
          "Togo",
          "Tanzania",
          "Swaziland",
          "Sudan",
          "South Africa",
          "Somalia",
          "1952",
          "1957",
          "1962",
          "1997",
          "1992",
          "1997",
          "1987",
          "Sierra Leone",
          "Mauritania",
          "Sao Tome and Principe",
          "Mali",
          "Rwanda",
          "Morocco",
          "Reunion",
          "Mozambique",
          "Namibia",
          "Nigeria",
          "Niger",
          "Malawi",
          "Madagascar",
          "2007",
          "Mauritius",
          "Senegal",
          "1982",
          "1977",
          "1972",
          "1967",
          "1962",
          "1957",
          "1952",
          "1987",
          "Mexico",
          "1972",
          "1967",
          "Nicaragua",
          "2007",
          "1962",
          "1957",
          "1992",
          "2002",
          "1992",
          "1987",
          "1982",
          "1977",
          "1952",
          "2007",
          "2002",
          "1997",
          "1967",
          "1962",
          "1957",
          "1952",
          "1977",
          "1982",
          "1997",
          "1972",
          "1957",
          "1952",
          "1957",
          "1952",
          "2007",
          "2002",
          "1997",
          "1992",
          "1962",
          "1987",
          "1977",
          "1972",
          "1967",
          "1962",
          "1957",
          "1952",
          "1982",
          "Trinidad and Tobago",
          "1967",
          "Argentina",
          "1977",
          "1962",
          "1967",
          "1972",
          "1977",
          "1982",
          "1972",
          "1987",
          "1997",
          "2002",
          "2007",
          "United States",
          "Uruguay",
          "Venezuela",
          "1992",
          "Bolivia",
          "2002",
          "Brazil",
          "1992",
          "1997",
          "2002",
          "Americas",
          "2007",
          "Ecuador",
          "1987",
          "Dominican Republic",
          "Cuba",
          "1987",
          "1992",
          "1997",
          "2002",
          "2007",
          "1982",
          "2002",
          "1982",
          "1972",
          "Guatemala",
          "1962",
          "1957",
          "1952",
          "Haiti",
          "Honduras",
          "1977",
          "Jamaica",
          "1972",
          "1977",
          "1952",
          "1957",
          "1962",
          "1967",
          "1967",
          "1997",
          "1992",
          "1987",
          "1972",
          "1977",
          "1982",
          "1987",
          "1992",
          "1997",
          "1967",
          "2002",
          "2007",
          "El Salvador",
          "Canada",
          "1997",
          "1992",
          "1987",
          "2007",
          "1962",
          "1957",
          "1952",
          "1982",
          "1977",
          "2007",
          "Costa Rica",
          "Colombia",
          "Chile",
          "Puerto Rico",
          "Peru",
          "Paraguay",
          "Panama",
          "1972",
          "1967",
          "1962",
          "1957",
          "1952",
          "1982",
          "1952",
          "2002",
          "1957",
          "1952",
          "1952",
          "1957",
          "1962",
          "1967",
          "1972",
          "1952",
          "1957",
          "1962",
          "1967",
          "1972",
          "1977",
          "1982",
          "1987",
          "1992",
          "1997",
          "2002",
          "1977",
          "1982",
          "1987",
          "1992",
          "1997",
          "2002",
          "2007",
          "1952",
          "1957",
          "1962",
          "1967",
          "1972",
          "1957",
          "1962",
          "1967",
          "1972",
          "2002",
          "1997",
          "1992",
          "1987",
          "1982",
          "1977",
          "1972",
          "1967",
          "1962",
          "1957",
          "1952",
          "2007",
          "2002",
          "1997",
          "2007",
          "1992",
          "1982",
          "1977",
          "1972",
          "1967",
          "1962",
          "1957",
          "1952",
          "2007",
          "2002",
          "1997",
          "1992",
          "1987",
          "1952",
          "1977",
          "1987",
          "2007",
          "1977",
          "1987",
          "1977",
          "1972",
          "1967",
          "1962",
          "1957",
          "1952",
          "2007",
          "2002",
          "1997",
          "1992",
          "1987",
          "1982",
          "1977",
          "1972",
          "1967",
          "1962",
          "1957",
          "1952",
          "2007",
          "2002",
          "1997",
          "1992",
          "1987",
          "1982",
          "1977",
          "1972",
          "1967",
          "1962",
          "1957",
          "1982",
          "1987",
          "1992",
          "1997",
          "1992",
          "1997",
          "2002",
          "2007",
          "1952",
          "1957",
          "1962",
          "1967",
          "1972",
          "1977",
          "1982",
          "1987",
          "1992",
          "1997",
          "1982",
          "2002",
          "1952",
          "1957",
          "1962",
          "1967",
          "1972",
          "1977",
          "1982",
          "1987",
          "1992",
          "1997",
          "2002",
          "2007",
          "2007",
          "2002",
          "2007",
          "2007",
          "1982",
          "1997",
          "1967",
          "1962",
          "1957",
          "1952",
          "2007",
          "2002",
          "1997",
          "2007",
          "2002",
          "1997",
          "1992",
          "1987",
          "1982",
          "1972",
          "1972",
          "1962",
          "1957",
          "1952",
          "1992",
          "1987",
          "1982",
          "1977",
          "1972",
          "2002",
          "1967",
          "1962",
          "1957",
          "1952",
          "1967",
          "2007",
          "1977",
          "1992",
          "1962",
          "2007",
          "1967",
          "2002",
          "1997",
          "1992",
          "1987",
          "1977",
          "1982",
          "1987",
          "1992",
          "1952",
          "1997",
          "1957",
          "1977",
          "1967",
          "1972",
          "1972",
          "1977",
          "1987",
          "1962",
          "1982",
          "1982",
          "2007",
          "2007",
          "2002",
          "1997",
          "1972",
          "1987",
          "1952",
          "1957",
          "1962",
          "1967",
          "1977",
          "1992",
          "1982",
          "1982",
          "1957",
          "1997",
          "1992",
          "1987",
          "1982",
          "1977",
          "1972",
          "1967",
          "1962",
          "1957",
          "1952",
          "1977",
          "2002",
          "1972",
          "1967",
          "1962",
          "1952",
          "1997",
          "Sri Lanka",
          "1987",
          "2002",
          "2002",
          "2007",
          "Vietnam",
          "West Bank and Gaza",
          "Yemen, Rep.",
          "2007",
          "Bahrain",
          "Asia",
          "Afghanistan",
          "1972",
          "1967",
          "1962",
          "1957",
          "1952",
          "1997",
          "1992",
          "1992",
          "1977",
          "1982",
          "1987",
          "1992",
          "1997",
          "1952",
          "1957",
          "1962",
          "1967",
          "Syria",
          "Taiwan",
          "1972",
          "Thailand",
          "1977",
          "1982",
          "1987",
          "2002",
          "2007",
          "1967",
          "1982",
          "1982",
          "1977",
          "1972",
          "1967",
          "1962",
          "1957",
          "Malaysia",
          "1952",
          "Mongolia",
          "Myanmar",
          "Nepal",
          "1972",
          "Oman",
          "Pakistan",
          "Philippines",
          "2007",
          "2002",
          "1997",
          "Saudi Arabia",
          "China",
          "1992",
          "1987",
          "1997",
          "1952",
          "1957",
          "1962",
          "1967",
          "1972",
          "Hong Kong, China",
          "India",
          "Indonesia",
          "Iran",
          "Iraq",
          "Israel",
          "Japan",
          "Jordan",
          "Korea, Dem. Rep.",
          "Korea, Rep.",
          "Kuwait",
          "Lebanon",
          "2007",
          "2002",
          "1992",
          "1987",
          "Singapore",
          "1982",
          "2007",
          "1987",
          "1982",
          "1977",
          "1972",
          "1962",
          "1957",
          "1952",
          "1952",
          "1957",
          "1962",
          "1967",
          "1972",
          "1977",
          "2007",
          "2002",
          "1997",
          "1992",
          "1987",
          "2002",
          "1997",
          "1992",
          "1987",
          "1977",
          "1972",
          "1967",
          "1962",
          "Cambodia",
          "1957",
          "1952",
          "2007",
          "2007",
          "1977",
          "2002",
          "1992",
          "1987",
          "1982",
          "2002",
          "1997",
          "1992",
          "Bangladesh",
          "1977",
          "1982",
          "1997",
          "1967",
          "1952",
          "1957",
          "1987",
          "1992",
          "1997",
          "2002",
          "2007",
          "1952",
          "1957",
          "1962",
          "1982",
          "1967",
          "1977",
          "1982",
          "1987",
          "1992",
          "1997",
          "2002",
          "2007",
          "1952",
          "1972",
          "1977",
          "1972",
          "1967",
          "1992",
          "1997",
          "2002",
          "2007",
          "1952",
          "1957",
          "1962",
          "1967",
          "1972",
          "1977",
          "1982",
          "1987",
          "1962",
          "1997",
          "2002",
          "2007",
          "1952",
          "1957",
          "1962",
          "1957",
          "1962",
          "1967",
          "1972",
          "1972",
          "1977",
          "1982",
          "1987",
          "1992",
          "1997",
          "2002",
          "2007",
          "1952",
          "1957",
          "1962",
          "1967",
          "1972",
          "1977",
          "1982",
          "1987",
          "1992",
          "1997",
          "2002",
          "1967",
          "1987",
          "1962",
          "1952",
          "1977",
          "1982",
          "1987",
          "1992",
          "1997",
          "2002",
          "2007",
          "1952",
          "1957",
          "1962",
          "1967",
          "1972",
          "1977",
          "1982",
          "1987",
          "1992",
          "1997",
          "2002",
          "2007",
          "1957",
          "2007",
          "1982",
          "1972",
          "1952",
          "1957",
          "1962",
          "1967",
          "1972",
          "1977",
          "1982",
          "1987",
          "2007",
          "1992",
          "2002",
          "2007",
          "1952",
          "1957",
          "1962",
          "1967",
          "1972",
          "1977",
          "1997",
          "2002",
          "1997",
          "1992",
          "1957",
          "1962",
          "1967",
          "1972",
          "1977",
          "1982",
          "1987",
          "1992",
          "1997",
          "2002",
          "2007",
          "1952",
          "1957",
          "1962",
          "1967",
          "1972",
          "1977",
          "1982",
          "1987",
          "1982",
          "1987",
          "1992",
          "1997",
          "1997",
          "2002",
          "2007",
          "1952",
          "1957",
          "1962",
          "1967",
          "1972",
          "1977",
          "1982",
          "1987",
          "1992",
          "1997",
          "2002",
          "2007",
          "1952",
          "1957",
          "1962",
          "1967",
          "1992",
          "1977",
          "1987",
          "1977",
          "2002",
          "2007",
          "1952",
          "1957",
          "1962",
          "1967",
          "1972",
          "1977",
          "1982",
          "1987",
          "1992",
          "1997",
          "2002",
          "2007",
          "1952",
          "1957",
          "1962",
          "1967",
          "1972",
          "1982",
          "1952",
          "1992",
          "1962",
          "1987",
          "1982",
          "1977",
          "1972",
          "1967",
          "1962",
          "1952",
          "1957",
          "1957",
          "1952",
          "2002",
          "1997",
          "1992",
          "1987",
          "1982",
          "1977",
          "1972",
          "1967",
          "1962",
          "1957",
          "1952",
          "2007",
          "2002",
          "1992",
          "1997",
          "2002",
          "2007",
          "1952",
          "1957",
          "1962",
          "1967",
          "1972",
          "1977",
          "1982",
          "1987",
          "1992",
          "1997",
          "2002",
          "1997",
          "2007",
          "1957",
          "1962",
          "1967",
          "1972",
          "2007",
          "2002",
          "1997",
          "1992",
          "1987",
          "1982",
          "1977",
          "1952",
          "1992",
          "2007",
          "1982",
          "1962",
          "1992",
          "1987",
          "1987",
          "1982",
          "1977",
          "1967",
          "1972",
          "1977",
          "1987",
          "1992",
          "1997",
          "2002",
          "2007",
          "1982",
          "1952",
          "1977",
          "1972",
          "1962",
          "1957",
          "1952",
          "2007",
          "1967",
          "1957",
          "1997",
          "1972",
          "1967",
          "2002",
          "1952",
          "1957",
          "1962",
          "1952",
          "1982",
          "1967",
          "1972",
          "1977",
          "1987",
          "1992",
          "2002",
          "1957",
          "1962",
          "1982",
          "1952",
          "1957",
          "1962",
          "1952",
          "1957",
          "1962",
          "1967",
          "1972",
          "1977",
          "1997",
          "1987",
          "1967",
          "1972",
          "1992",
          "2007",
          "2002",
          "1972",
          "1952",
          "1972",
          "2002",
          "1997",
          "1997",
          "1992",
          "1987",
          "1977",
          "1982",
          "1987",
          "1967",
          "1992",
          "2002",
          "2007",
          "1952",
          "1957",
          "1962",
          "1967",
          "1972",
          "1982",
          "1977",
          "1997",
          "2007",
          "1952",
          "1962",
          "1957",
          "1962",
          "1967",
          "1977",
          "1982",
          "1997",
          "1992",
          "1987",
          "1982",
          "1977",
          "1972",
          "1967",
          "1962",
          "1957",
          "1987",
          "1992",
          "1997",
          "2002",
          "2007",
          "1952",
          "1957",
          "2007",
          "Albania",
          "Czech Republic",
          "2007",
          "1962",
          "1967",
          "1972",
          "Netherlands",
          "1977",
          "1982",
          "1987",
          "1992",
          "1997",
          "Montenegro",
          "Norway",
          "2002",
          "2007",
          "2002",
          "1997",
          "1992",
          "1987",
          "1982",
          "1977",
          "1972",
          "1967",
          "1962",
          "2007",
          "1957",
          "1952",
          "Poland",
          "Europe",
          "United Kingdom",
          "Turkey",
          "1952",
          "1957",
          "1962",
          "1967",
          "1972",
          "1977",
          "1982",
          "Switzerland",
          "Sweden",
          "1987",
          "1992",
          "1997",
          "Spain",
          "2002",
          "2007",
          "Slovenia",
          "Slovak Republic",
          "Serbia",
          "Romania",
          "Portugal",
          "1957",
          "2002",
          "1952",
          "Ireland",
          "1982",
          "1987",
          "1992",
          "1997",
          "2002",
          "2007",
          "1952",
          "1957",
          "1962",
          "1967",
          "1977",
          "1972",
          "1982",
          "Bulgaria",
          "1987",
          "1992",
          "Bosnia and Herzegovina",
          "1997",
          "2002",
          "Belgium",
          "2007",
          "Austria",
          "1977",
          "1972",
          "Croatia",
          "1967",
          "Iceland",
          "Hungary",
          "1952",
          "1957",
          "1962",
          "1967",
          "Greece",
          "1972",
          "Germany",
          "1977",
          "1982",
          "France",
          "Finland",
          "1987",
          "1992",
          "1997",
          "2002",
          "2007",
          "1952",
          "1957",
          "1962",
          "Denmark",
          "1977",
          "Italy",
          "1982",
          "1967",
          "1992",
          "1977",
          "1972",
          "1967",
          "1962",
          "1957",
          "1952",
          "1977",
          "1982",
          "1987",
          "1992",
          "1982",
          "1997",
          "2007",
          "1957",
          "1952",
          "1952",
          "1957",
          "1962",
          "1967",
          "1972",
          "1977",
          "1982",
          "2002",
          "1987",
          "1987",
          "1997",
          "1972",
          "1967",
          "1962",
          "1952",
          "1957",
          "1962",
          "1967",
          "1972",
          "2007",
          "1987",
          "1992",
          "1997",
          "1987",
          "1982",
          "1977",
          "1972",
          "1967",
          "1962",
          "1957",
          "1952",
          "2007",
          "2002",
          "1992",
          "1992",
          "1997",
          "2002",
          "1997",
          "1992",
          "1987",
          "1982",
          "1977",
          "1972",
          "1967",
          "1962",
          "1957",
          "1952",
          "2002",
          "1952",
          "1962",
          "1967",
          "1972",
          "1977",
          "1982",
          "1987",
          "1992",
          "1997",
          "2002",
          "2007",
          "1957",
          "2007",
          "1952",
          "1957",
          "2007",
          "2007",
          "2002",
          "1997",
          "1992",
          "1987",
          "1982",
          "1977",
          "1972",
          "1967",
          "1962",
          "1957",
          "1952",
          "2007",
          "2002",
          "1997",
          "1992",
          "1987",
          "1982",
          "1977",
          "1972",
          "1967",
          "1962",
          "2007",
          "2002",
          "2002",
          "1992",
          "1982",
          "1987",
          "2007",
          "2002",
          "1997",
          "1992",
          "1987",
          "1982",
          "1977",
          "1972",
          "1967",
          "1977",
          "1962",
          "1952",
          "1992",
          "1997",
          "2002",
          "2007",
          "1952",
          "1997",
          "1962",
          "1952",
          "1957",
          "1962",
          "1957",
          "1972",
          "1967",
          "2007",
          "1997",
          "2002",
          "2007",
          "1952",
          "1957",
          "1962",
          "1967",
          "1972",
          "2007",
          "2002",
          "1997",
          "1992",
          "1987",
          "1982",
          "1977",
          "1972",
          "1962",
          "1957",
          "1952",
          "1977",
          "1982",
          "1987",
          "1992",
          "1997",
          "2002",
          "1967",
          "1972",
          "1957",
          "1982",
          "1997",
          "2002",
          "2007",
          "1967",
          "1972",
          "1977",
          "1982",
          "1987",
          "1992",
          "1997",
          "2002",
          "2007",
          "2007",
          "2002",
          "1997",
          "1992",
          "1987",
          "1982",
          "1977",
          "1952",
          "1957",
          "1962",
          "1967",
          "1972",
          "1977",
          "1982",
          "1987",
          "1992",
          "1977",
          "1987",
          "1967",
          "1987",
          "1992",
          "1982",
          "1997",
          "2002",
          "2007",
          "1952",
          "1957",
          "1962",
          "1972",
          "1977",
          "1952",
          "1972",
          "1997",
          "1957",
          "2002",
          "1992",
          "Australia",
          "2007",
          "1987",
          "1977",
          "1967",
          "1962",
          "1957",
          "1952",
          "1982",
          "1987",
          "1962",
          "1967",
          "1992",
          "1997",
          "2002",
          "2007",
          "1972",
          "1977",
          "1982",
          "New Zealand",
          "Oceania"
         ],
         "marker": {
          "colors": [
           "#636efa",
           "#636efa",
           "#636efa",
           "#636efa",
           "#636efa",
           "#636efa",
           "#636efa",
           "#636efa",
           "#636efa",
           "#636efa",
           "#636efa",
           "#636efa",
           "#636efa",
           "#636efa",
           "#636efa",
           "#636efa",
           "#636efa",
           "#636efa",
           "#636efa",
           "#636efa",
           "#636efa",
           "#636efa",
           "#636efa",
           "#636efa",
           "#636efa",
           "#636efa",
           "#636efa",
           "#636efa",
           "#636efa",
           "#636efa",
           "#636efa",
           "#636efa",
           "#636efa",
           "#636efa",
           "#636efa",
           "#636efa",
           "#636efa",
           "#636efa",
           "#636efa",
           "#636efa",
           "#636efa",
           "#636efa",
           "#636efa",
           "#636efa",
           "#636efa",
           "#636efa",
           "#636efa",
           "#636efa",
           "#636efa",
           "#636efa",
           "#636efa",
           "#636efa",
           "#636efa",
           "#636efa",
           "#636efa",
           "#636efa",
           "#636efa",
           "#636efa",
           "#636efa",
           "#636efa",
           "#636efa",
           "#636efa",
           "#636efa",
           "#636efa",
           "#636efa",
           "#636efa",
           "#636efa",
           "#636efa",
           "#636efa",
           "#636efa",
           "#636efa",
           "#636efa",
           "#636efa",
           "#636efa",
           "#636efa",
           "#636efa",
           "#636efa",
           "#636efa",
           "#636efa",
           "#636efa",
           "#636efa",
           "#636efa",
           "#636efa",
           "#636efa",
           "#636efa",
           "#636efa",
           "#636efa",
           "#636efa",
           "#636efa",
           "#636efa",
           "#636efa",
           "#636efa",
           "#636efa",
           "#636efa",
           "#636efa",
           "#636efa",
           "#636efa",
           "#636efa",
           "#636efa",
           "#636efa",
           "#636efa",
           "#636efa",
           "#636efa",
           "#636efa",
           "#636efa",
           "#636efa",
           "#636efa",
           "#636efa",
           "#636efa",
           "#636efa",
           "#636efa",
           "#636efa",
           "#636efa",
           "#636efa",
           "#636efa",
           "#636efa",
           "#636efa",
           "#636efa",
           "#636efa",
           "#636efa",
           "#636efa",
           "#636efa",
           "#636efa",
           "#636efa",
           "#636efa",
           "#636efa",
           "#636efa",
           "#636efa",
           "#636efa",
           "#636efa",
           "#636efa",
           "#636efa",
           "#636efa",
           "#636efa",
           "#636efa",
           "#636efa",
           "#636efa",
           "#636efa",
           "#636efa",
           "#636efa",
           "#636efa",
           "#636efa",
           "#636efa",
           "#636efa",
           "#636efa",
           "#636efa",
           "#636efa",
           "#636efa",
           "#636efa",
           "#636efa",
           "#636efa",
           "#636efa",
           "#636efa",
           "#636efa",
           "#636efa",
           "#636efa",
           "#636efa",
           "#636efa",
           "#636efa",
           "#636efa",
           "#636efa",
           "#636efa",
           "#636efa",
           "#636efa",
           "#636efa",
           "#636efa",
           "#636efa",
           "#636efa",
           "#636efa",
           "#636efa",
           "#636efa",
           "#636efa",
           "#636efa",
           "#636efa",
           "#636efa",
           "#636efa",
           "#636efa",
           "#636efa",
           "#636efa",
           "#636efa",
           "#636efa",
           "#636efa",
           "#636efa",
           "#636efa",
           "#636efa",
           "#636efa",
           "#636efa",
           "#636efa",
           "#636efa",
           "#636efa",
           "#636efa",
           "#636efa",
           "#636efa",
           "#636efa",
           "#636efa",
           "#636efa",
           "#636efa",
           "#636efa",
           "#636efa",
           "#636efa",
           "#636efa",
           "#636efa",
           "#636efa",
           "#636efa",
           "#636efa",
           "#636efa",
           "#636efa",
           "#636efa",
           "#636efa",
           "#636efa",
           "#636efa",
           "#636efa",
           "#636efa",
           "#636efa",
           "#636efa",
           "#636efa",
           "#636efa",
           "#636efa",
           "#636efa",
           "#636efa",
           "#636efa",
           "#636efa",
           "#636efa",
           "#636efa",
           "#636efa",
           "#636efa",
           "#636efa",
           "#636efa",
           "#636efa",
           "#636efa",
           "#636efa",
           "#636efa",
           "#636efa",
           "#636efa",
           "#636efa",
           "#636efa",
           "#636efa",
           "#636efa",
           "#636efa",
           "#636efa",
           "#636efa",
           "#636efa",
           "#636efa",
           "#636efa",
           "#636efa",
           "#636efa",
           "#636efa",
           "#636efa",
           "#636efa",
           "#636efa",
           "#636efa",
           "#636efa",
           "#636efa",
           "#636efa",
           "#636efa",
           "#636efa",
           "#636efa",
           "#636efa",
           "#636efa",
           "#636efa",
           "#636efa",
           "#636efa",
           "#636efa",
           "#636efa",
           "#636efa",
           "#636efa",
           "#636efa",
           "#636efa",
           "#636efa",
           "#636efa",
           "#636efa",
           "#636efa",
           "#636efa",
           "#636efa",
           "#636efa",
           "#636efa",
           "#636efa",
           "#636efa",
           "#636efa",
           "#636efa",
           "#636efa",
           "#636efa",
           "#636efa",
           "#636efa",
           "#636efa",
           "#636efa",
           "#636efa",
           "#636efa",
           "#636efa",
           "#636efa",
           "#636efa",
           "#636efa",
           "#636efa",
           "#636efa",
           "#636efa",
           "#636efa",
           "#636efa",
           "#636efa",
           "#636efa",
           "#636efa",
           "#636efa",
           "#636efa",
           "#636efa",
           "#636efa",
           "#636efa",
           "#636efa",
           "#636efa",
           "#636efa",
           "#636efa",
           "#636efa",
           "#636efa",
           "#636efa",
           "#636efa",
           "#636efa",
           "#636efa",
           "#636efa",
           "#636efa",
           "#636efa",
           "#636efa",
           "#636efa",
           "#636efa",
           "#636efa",
           "#636efa",
           "#636efa",
           "#636efa",
           "#636efa",
           "#636efa",
           "#636efa",
           "#636efa",
           "#636efa",
           "#636efa",
           "#636efa",
           "#636efa",
           "#636efa",
           "#636efa",
           "#636efa",
           "#636efa",
           "#636efa",
           "#636efa",
           "#636efa",
           "#636efa",
           "#636efa",
           "#636efa",
           "#636efa",
           "#636efa",
           "#636efa",
           "#636efa",
           "#636efa",
           "#636efa",
           "#636efa",
           "#636efa",
           "#636efa",
           "#636efa",
           "#636efa",
           "#636efa",
           "#636efa",
           "#636efa",
           "#636efa",
           "#636efa",
           "#636efa",
           "#636efa",
           "#636efa",
           "#636efa",
           "#636efa",
           "#636efa",
           "#636efa",
           "#636efa",
           "#636efa",
           "#636efa",
           "#636efa",
           "#636efa",
           "#636efa",
           "#636efa",
           "#636efa",
           "#636efa",
           "#636efa",
           "#636efa",
           "#636efa",
           "#636efa",
           "#636efa",
           "#636efa",
           "#636efa",
           "#636efa",
           "#636efa",
           "#636efa",
           "#636efa",
           "#636efa",
           "#636efa",
           "#636efa",
           "#636efa",
           "#636efa",
           "#636efa",
           "#636efa",
           "#636efa",
           "#636efa",
           "#636efa",
           "#636efa",
           "#636efa",
           "#636efa",
           "#636efa",
           "#636efa",
           "#636efa",
           "#636efa",
           "#636efa",
           "#636efa",
           "#636efa",
           "#636efa",
           "#636efa",
           "#636efa",
           "#636efa",
           "#636efa",
           "#636efa",
           "#636efa",
           "#636efa",
           "#636efa",
           "#636efa",
           "#636efa",
           "#636efa",
           "#636efa",
           "#636efa",
           "#636efa",
           "#636efa",
           "#636efa",
           "#636efa",
           "#636efa",
           "#636efa",
           "#636efa",
           "#636efa",
           "#636efa",
           "#636efa",
           "#636efa",
           "#636efa",
           "#636efa",
           "#636efa",
           "#636efa",
           "#636efa",
           "#636efa",
           "#636efa",
           "#636efa",
           "#636efa",
           "#636efa",
           "#636efa",
           "#636efa",
           "#636efa",
           "#636efa",
           "#636efa",
           "#636efa",
           "#636efa",
           "#636efa",
           "#636efa",
           "#636efa",
           "#636efa",
           "#636efa",
           "#636efa",
           "#636efa",
           "#636efa",
           "#636efa",
           "#636efa",
           "#636efa",
           "#636efa",
           "#636efa",
           "#636efa",
           "#636efa",
           "#636efa",
           "#636efa",
           "#636efa",
           "#636efa",
           "#636efa",
           "#636efa",
           "#636efa",
           "#636efa",
           "#636efa",
           "#636efa",
           "#636efa",
           "#636efa",
           "#636efa",
           "#636efa",
           "#636efa",
           "#636efa",
           "#636efa",
           "#636efa",
           "#636efa",
           "#636efa",
           "#636efa",
           "#636efa",
           "#636efa",
           "#636efa",
           "#636efa",
           "#636efa",
           "#636efa",
           "#636efa",
           "#636efa",
           "#636efa",
           "#636efa",
           "#636efa",
           "#636efa",
           "#636efa",
           "#636efa",
           "#636efa",
           "#636efa",
           "#636efa",
           "#636efa",
           "#636efa",
           "#636efa",
           "#636efa",
           "#636efa",
           "#636efa",
           "#636efa",
           "#636efa",
           "#636efa",
           "#636efa",
           "#636efa",
           "#636efa",
           "#636efa",
           "#636efa",
           "#636efa",
           "#636efa",
           "#636efa",
           "#636efa",
           "#636efa",
           "#636efa",
           "#636efa",
           "#636efa",
           "#636efa",
           "#636efa",
           "#636efa",
           "#636efa",
           "#636efa",
           "#636efa",
           "#636efa",
           "#636efa",
           "#636efa",
           "#636efa",
           "#636efa",
           "#636efa",
           "#636efa",
           "#636efa",
           "#636efa",
           "#636efa",
           "#636efa",
           "#636efa",
           "#636efa",
           "#636efa",
           "#636efa",
           "#636efa",
           "#636efa",
           "#636efa",
           "#636efa",
           "#636efa",
           "#636efa",
           "#636efa",
           "#636efa",
           "#636efa",
           "#636efa",
           "#636efa",
           "#636efa",
           "#636efa",
           "#636efa",
           "#636efa",
           "#636efa",
           "#636efa",
           "#636efa",
           "#636efa",
           "#636efa",
           "#636efa",
           "#636efa",
           "#636efa",
           "#636efa",
           "#636efa",
           "#636efa",
           "#636efa",
           "#636efa",
           "#636efa",
           "#636efa",
           "#636efa",
           "#636efa",
           "#636efa",
           "#636efa",
           "#636efa",
           "#636efa",
           "#636efa",
           "#636efa",
           "#636efa",
           "#636efa",
           "#636efa",
           "#636efa",
           "#636efa",
           "#636efa",
           "#636efa",
           "#636efa",
           "#636efa",
           "#636efa",
           "#636efa",
           "#636efa",
           "#636efa",
           "#636efa",
           "#636efa",
           "#636efa",
           "#636efa",
           "#636efa",
           "#636efa",
           "#636efa",
           "#636efa",
           "#636efa",
           "#636efa",
           "#636efa",
           "#636efa",
           "#636efa",
           "#636efa",
           "#636efa",
           "#636efa",
           "#636efa",
           "#636efa",
           "#636efa",
           "#636efa",
           "#636efa",
           "#636efa",
           "#636efa",
           "#636efa",
           "#636efa",
           "#636efa",
           "#636efa",
           "#636efa",
           "#636efa",
           "#636efa",
           "#636efa",
           "#636efa",
           "#636efa",
           "#636efa",
           "#636efa",
           "#636efa",
           "#636efa",
           "#636efa",
           "#636efa",
           "#636efa",
           "#636efa",
           "#636efa",
           "#636efa",
           "#636efa",
           "#636efa",
           "#636efa",
           "#636efa",
           "#636efa",
           "#636efa",
           "#636efa",
           "#636efa",
           "#636efa",
           "#636efa",
           "#636efa",
           "#636efa",
           "#636efa",
           "#636efa",
           "#636efa",
           "#636efa",
           "#636efa",
           "#636efa",
           "#636efa",
           "#636efa",
           "#636efa",
           "#636efa",
           "#636efa",
           "#636efa",
           "#636efa",
           "#636efa",
           "#636efa",
           "#636efa",
           "#636efa",
           "#636efa",
           "#636efa",
           "#636efa",
           "#636efa",
           "#636efa",
           "#636efa",
           "#636efa",
           "#636efa",
           "#636efa",
           "#636efa",
           "#EF553B",
           "#EF553B",
           "#EF553B",
           "#EF553B",
           "#EF553B",
           "#EF553B",
           "#EF553B",
           "#EF553B",
           "#EF553B",
           "#EF553B",
           "#EF553B",
           "#EF553B",
           "#EF553B",
           "#EF553B",
           "#EF553B",
           "#EF553B",
           "#EF553B",
           "#EF553B",
           "#EF553B",
           "#EF553B",
           "#EF553B",
           "#EF553B",
           "#EF553B",
           "#EF553B",
           "#EF553B",
           "#EF553B",
           "#EF553B",
           "#EF553B",
           "#EF553B",
           "#EF553B",
           "#EF553B",
           "#EF553B",
           "#EF553B",
           "#EF553B",
           "#EF553B",
           "#EF553B",
           "#EF553B",
           "#EF553B",
           "#EF553B",
           "#EF553B",
           "#EF553B",
           "#EF553B",
           "#EF553B",
           "#EF553B",
           "#EF553B",
           "#EF553B",
           "#EF553B",
           "#EF553B",
           "#EF553B",
           "#EF553B",
           "#EF553B",
           "#EF553B",
           "#EF553B",
           "#EF553B",
           "#EF553B",
           "#EF553B",
           "#EF553B",
           "#EF553B",
           "#EF553B",
           "#EF553B",
           "#EF553B",
           "#EF553B",
           "#EF553B",
           "#EF553B",
           "#EF553B",
           "#EF553B",
           "#EF553B",
           "#EF553B",
           "#EF553B",
           "#EF553B",
           "#EF553B",
           "#EF553B",
           "#EF553B",
           "#EF553B",
           "#EF553B",
           "#EF553B",
           "#EF553B",
           "#EF553B",
           "#EF553B",
           "#EF553B",
           "#EF553B",
           "#EF553B",
           "#EF553B",
           "#EF553B",
           "#EF553B",
           "#EF553B",
           "#EF553B",
           "#EF553B",
           "#EF553B",
           "#EF553B",
           "#EF553B",
           "#EF553B",
           "#EF553B",
           "#EF553B",
           "#EF553B",
           "#EF553B",
           "#EF553B",
           "#EF553B",
           "#EF553B",
           "#EF553B",
           "#EF553B",
           "#EF553B",
           "#EF553B",
           "#EF553B",
           "#EF553B",
           "#EF553B",
           "#EF553B",
           "#EF553B",
           "#EF553B",
           "#EF553B",
           "#EF553B",
           "#EF553B",
           "#EF553B",
           "#EF553B",
           "#EF553B",
           "#EF553B",
           "#EF553B",
           "#EF553B",
           "#EF553B",
           "#EF553B",
           "#EF553B",
           "#EF553B",
           "#EF553B",
           "#EF553B",
           "#EF553B",
           "#EF553B",
           "#EF553B",
           "#EF553B",
           "#EF553B",
           "#EF553B",
           "#EF553B",
           "#EF553B",
           "#EF553B",
           "#EF553B",
           "#EF553B",
           "#EF553B",
           "#EF553B",
           "#EF553B",
           "#EF553B",
           "#EF553B",
           "#EF553B",
           "#EF553B",
           "#EF553B",
           "#EF553B",
           "#EF553B",
           "#EF553B",
           "#EF553B",
           "#EF553B",
           "#EF553B",
           "#EF553B",
           "#EF553B",
           "#EF553B",
           "#EF553B",
           "#EF553B",
           "#EF553B",
           "#EF553B",
           "#EF553B",
           "#EF553B",
           "#EF553B",
           "#EF553B",
           "#EF553B",
           "#EF553B",
           "#EF553B",
           "#EF553B",
           "#EF553B",
           "#EF553B",
           "#EF553B",
           "#EF553B",
           "#EF553B",
           "#EF553B",
           "#EF553B",
           "#EF553B",
           "#EF553B",
           "#EF553B",
           "#EF553B",
           "#EF553B",
           "#EF553B",
           "#EF553B",
           "#EF553B",
           "#EF553B",
           "#EF553B",
           "#EF553B",
           "#EF553B",
           "#EF553B",
           "#EF553B",
           "#EF553B",
           "#EF553B",
           "#EF553B",
           "#EF553B",
           "#EF553B",
           "#EF553B",
           "#EF553B",
           "#EF553B",
           "#EF553B",
           "#EF553B",
           "#EF553B",
           "#EF553B",
           "#EF553B",
           "#EF553B",
           "#EF553B",
           "#EF553B",
           "#EF553B",
           "#EF553B",
           "#EF553B",
           "#EF553B",
           "#EF553B",
           "#EF553B",
           "#EF553B",
           "#EF553B",
           "#EF553B",
           "#EF553B",
           "#EF553B",
           "#EF553B",
           "#EF553B",
           "#EF553B",
           "#EF553B",
           "#EF553B",
           "#EF553B",
           "#EF553B",
           "#EF553B",
           "#EF553B",
           "#EF553B",
           "#EF553B",
           "#EF553B",
           "#EF553B",
           "#EF553B",
           "#EF553B",
           "#EF553B",
           "#EF553B",
           "#EF553B",
           "#EF553B",
           "#EF553B",
           "#EF553B",
           "#EF553B",
           "#EF553B",
           "#EF553B",
           "#EF553B",
           "#EF553B",
           "#EF553B",
           "#EF553B",
           "#EF553B",
           "#EF553B",
           "#EF553B",
           "#EF553B",
           "#EF553B",
           "#EF553B",
           "#EF553B",
           "#EF553B",
           "#EF553B",
           "#EF553B",
           "#EF553B",
           "#EF553B",
           "#EF553B",
           "#EF553B",
           "#EF553B",
           "#EF553B",
           "#EF553B",
           "#EF553B",
           "#EF553B",
           "#EF553B",
           "#EF553B",
           "#EF553B",
           "#EF553B",
           "#EF553B",
           "#EF553B",
           "#EF553B",
           "#EF553B",
           "#EF553B",
           "#EF553B",
           "#EF553B",
           "#EF553B",
           "#EF553B",
           "#EF553B",
           "#EF553B",
           "#EF553B",
           "#EF553B",
           "#EF553B",
           "#EF553B",
           "#EF553B",
           "#EF553B",
           "#EF553B",
           "#EF553B",
           "#EF553B",
           "#EF553B",
           "#EF553B",
           "#EF553B",
           "#EF553B",
           "#EF553B",
           "#EF553B",
           "#EF553B",
           "#EF553B",
           "#EF553B",
           "#EF553B",
           "#EF553B",
           "#EF553B",
           "#EF553B",
           "#EF553B",
           "#EF553B",
           "#EF553B",
           "#EF553B",
           "#EF553B",
           "#EF553B",
           "#EF553B",
           "#EF553B",
           "#EF553B",
           "#EF553B",
           "#EF553B",
           "#EF553B",
           "#EF553B",
           "#EF553B",
           "#EF553B",
           "#EF553B",
           "#EF553B",
           "#EF553B",
           "#EF553B",
           "#EF553B",
           "#EF553B",
           "#EF553B",
           "#EF553B",
           "#EF553B",
           "#EF553B",
           "#EF553B",
           "#EF553B",
           "#EF553B",
           "#EF553B",
           "#EF553B",
           "#00cc96",
           "#00cc96",
           "#00cc96",
           "#00cc96",
           "#00cc96",
           "#00cc96",
           "#00cc96",
           "#00cc96",
           "#00cc96",
           "#00cc96",
           "#00cc96",
           "#00cc96",
           "#00cc96",
           "#00cc96",
           "#00cc96",
           "#00cc96",
           "#00cc96",
           "#00cc96",
           "#00cc96",
           "#00cc96",
           "#00cc96",
           "#00cc96",
           "#00cc96",
           "#00cc96",
           "#00cc96",
           "#00cc96",
           "#00cc96",
           "#00cc96",
           "#00cc96",
           "#00cc96",
           "#00cc96",
           "#00cc96",
           "#00cc96",
           "#00cc96",
           "#00cc96",
           "#00cc96",
           "#00cc96",
           "#00cc96",
           "#00cc96",
           "#00cc96",
           "#00cc96",
           "#00cc96",
           "#00cc96",
           "#00cc96",
           "#00cc96",
           "#00cc96",
           "#00cc96",
           "#00cc96",
           "#00cc96",
           "#00cc96",
           "#00cc96",
           "#00cc96",
           "#00cc96",
           "#00cc96",
           "#00cc96",
           "#00cc96",
           "#00cc96",
           "#00cc96",
           "#00cc96",
           "#00cc96",
           "#00cc96",
           "#00cc96",
           "#00cc96",
           "#00cc96",
           "#00cc96",
           "#00cc96",
           "#00cc96",
           "#00cc96",
           "#00cc96",
           "#00cc96",
           "#00cc96",
           "#00cc96",
           "#00cc96",
           "#00cc96",
           "#00cc96",
           "#00cc96",
           "#00cc96",
           "#00cc96",
           "#00cc96",
           "#00cc96",
           "#00cc96",
           "#00cc96",
           "#00cc96",
           "#00cc96",
           "#00cc96",
           "#00cc96",
           "#00cc96",
           "#00cc96",
           "#00cc96",
           "#00cc96",
           "#00cc96",
           "#00cc96",
           "#00cc96",
           "#00cc96",
           "#00cc96",
           "#00cc96",
           "#00cc96",
           "#00cc96",
           "#00cc96",
           "#00cc96",
           "#00cc96",
           "#00cc96",
           "#00cc96",
           "#00cc96",
           "#00cc96",
           "#00cc96",
           "#00cc96",
           "#00cc96",
           "#00cc96",
           "#00cc96",
           "#00cc96",
           "#00cc96",
           "#00cc96",
           "#00cc96",
           "#00cc96",
           "#00cc96",
           "#00cc96",
           "#00cc96",
           "#00cc96",
           "#00cc96",
           "#00cc96",
           "#00cc96",
           "#00cc96",
           "#00cc96",
           "#00cc96",
           "#00cc96",
           "#00cc96",
           "#00cc96",
           "#00cc96",
           "#00cc96",
           "#00cc96",
           "#00cc96",
           "#00cc96",
           "#00cc96",
           "#00cc96",
           "#00cc96",
           "#00cc96",
           "#00cc96",
           "#00cc96",
           "#00cc96",
           "#00cc96",
           "#00cc96",
           "#00cc96",
           "#00cc96",
           "#00cc96",
           "#00cc96",
           "#00cc96",
           "#00cc96",
           "#00cc96",
           "#00cc96",
           "#00cc96",
           "#00cc96",
           "#00cc96",
           "#00cc96",
           "#00cc96",
           "#00cc96",
           "#00cc96",
           "#00cc96",
           "#00cc96",
           "#00cc96",
           "#00cc96",
           "#00cc96",
           "#00cc96",
           "#00cc96",
           "#00cc96",
           "#00cc96",
           "#00cc96",
           "#00cc96",
           "#00cc96",
           "#00cc96",
           "#00cc96",
           "#00cc96",
           "#00cc96",
           "#00cc96",
           "#00cc96",
           "#00cc96",
           "#00cc96",
           "#00cc96",
           "#00cc96",
           "#00cc96",
           "#00cc96",
           "#00cc96",
           "#00cc96",
           "#00cc96",
           "#00cc96",
           "#00cc96",
           "#00cc96",
           "#00cc96",
           "#00cc96",
           "#00cc96",
           "#00cc96",
           "#00cc96",
           "#00cc96",
           "#00cc96",
           "#00cc96",
           "#00cc96",
           "#00cc96",
           "#00cc96",
           "#00cc96",
           "#00cc96",
           "#00cc96",
           "#00cc96",
           "#00cc96",
           "#00cc96",
           "#00cc96",
           "#00cc96",
           "#00cc96",
           "#00cc96",
           "#00cc96",
           "#00cc96",
           "#00cc96",
           "#00cc96",
           "#00cc96",
           "#00cc96",
           "#00cc96",
           "#00cc96",
           "#00cc96",
           "#00cc96",
           "#00cc96",
           "#00cc96",
           "#00cc96",
           "#00cc96",
           "#00cc96",
           "#00cc96",
           "#00cc96",
           "#00cc96",
           "#00cc96",
           "#00cc96",
           "#00cc96",
           "#00cc96",
           "#00cc96",
           "#00cc96",
           "#00cc96",
           "#00cc96",
           "#00cc96",
           "#00cc96",
           "#00cc96",
           "#00cc96",
           "#00cc96",
           "#00cc96",
           "#00cc96",
           "#00cc96",
           "#00cc96",
           "#00cc96",
           "#00cc96",
           "#00cc96",
           "#00cc96",
           "#00cc96",
           "#00cc96",
           "#00cc96",
           "#00cc96",
           "#00cc96",
           "#00cc96",
           "#00cc96",
           "#00cc96",
           "#00cc96",
           "#00cc96",
           "#00cc96",
           "#00cc96",
           "#00cc96",
           "#00cc96",
           "#00cc96",
           "#00cc96",
           "#00cc96",
           "#00cc96",
           "#00cc96",
           "#00cc96",
           "#00cc96",
           "#00cc96",
           "#00cc96",
           "#00cc96",
           "#00cc96",
           "#00cc96",
           "#00cc96",
           "#00cc96",
           "#00cc96",
           "#00cc96",
           "#00cc96",
           "#00cc96",
           "#00cc96",
           "#00cc96",
           "#00cc96",
           "#00cc96",
           "#00cc96",
           "#00cc96",
           "#00cc96",
           "#00cc96",
           "#00cc96",
           "#00cc96",
           "#00cc96",
           "#00cc96",
           "#00cc96",
           "#00cc96",
           "#00cc96",
           "#00cc96",
           "#00cc96",
           "#00cc96",
           "#00cc96",
           "#00cc96",
           "#00cc96",
           "#00cc96",
           "#00cc96",
           "#00cc96",
           "#00cc96",
           "#00cc96",
           "#00cc96",
           "#00cc96",
           "#00cc96",
           "#00cc96",
           "#00cc96",
           "#00cc96",
           "#00cc96",
           "#00cc96",
           "#00cc96",
           "#00cc96",
           "#00cc96",
           "#00cc96",
           "#00cc96",
           "#00cc96",
           "#00cc96",
           "#00cc96",
           "#00cc96",
           "#00cc96",
           "#00cc96",
           "#00cc96",
           "#00cc96",
           "#00cc96",
           "#00cc96",
           "#00cc96",
           "#00cc96",
           "#00cc96",
           "#00cc96",
           "#00cc96",
           "#00cc96",
           "#00cc96",
           "#00cc96",
           "#00cc96",
           "#00cc96",
           "#00cc96",
           "#00cc96",
           "#00cc96",
           "#00cc96",
           "#00cc96",
           "#00cc96",
           "#00cc96",
           "#00cc96",
           "#00cc96",
           "#00cc96",
           "#00cc96",
           "#00cc96",
           "#00cc96",
           "#00cc96",
           "#00cc96",
           "#00cc96",
           "#00cc96",
           "#00cc96",
           "#00cc96",
           "#00cc96",
           "#00cc96",
           "#00cc96",
           "#00cc96",
           "#00cc96",
           "#00cc96",
           "#00cc96",
           "#00cc96",
           "#00cc96",
           "#00cc96",
           "#00cc96",
           "#00cc96",
           "#00cc96",
           "#00cc96",
           "#00cc96",
           "#00cc96",
           "#00cc96",
           "#00cc96",
           "#00cc96",
           "#00cc96",
           "#00cc96",
           "#00cc96",
           "#00cc96",
           "#00cc96",
           "#00cc96",
           "#00cc96",
           "#00cc96",
           "#00cc96",
           "#00cc96",
           "#00cc96",
           "#00cc96",
           "#00cc96",
           "#00cc96",
           "#00cc96",
           "#00cc96",
           "#00cc96",
           "#00cc96",
           "#00cc96",
           "#00cc96",
           "#00cc96",
           "#00cc96",
           "#00cc96",
           "#00cc96",
           "#00cc96",
           "#00cc96",
           "#00cc96",
           "#00cc96",
           "#00cc96",
           "#00cc96",
           "#00cc96",
           "#00cc96",
           "#00cc96",
           "#00cc96",
           "#00cc96",
           "#00cc96",
           "#00cc96",
           "#00cc96",
           "#00cc96",
           "#00cc96",
           "#00cc96",
           "#00cc96",
           "#00cc96",
           "#00cc96",
           "#00cc96",
           "#00cc96",
           "#00cc96",
           "#00cc96",
           "#00cc96",
           "#00cc96",
           "#00cc96",
           "#00cc96",
           "#00cc96",
           "#00cc96",
           "#ab63fa",
           "#ab63fa",
           "#ab63fa",
           "#ab63fa",
           "#ab63fa",
           "#ab63fa",
           "#ab63fa",
           "#ab63fa",
           "#ab63fa",
           "#ab63fa",
           "#ab63fa",
           "#ab63fa",
           "#ab63fa",
           "#ab63fa",
           "#ab63fa",
           "#ab63fa",
           "#ab63fa",
           "#ab63fa",
           "#ab63fa",
           "#ab63fa",
           "#ab63fa",
           "#ab63fa",
           "#ab63fa",
           "#ab63fa",
           "#ab63fa",
           "#ab63fa",
           "#ab63fa",
           "#ab63fa",
           "#ab63fa",
           "#ab63fa",
           "#ab63fa",
           "#ab63fa",
           "#ab63fa",
           "#ab63fa",
           "#ab63fa",
           "#ab63fa",
           "#ab63fa",
           "#ab63fa",
           "#ab63fa",
           "#ab63fa",
           "#ab63fa",
           "#ab63fa",
           "#ab63fa",
           "#ab63fa",
           "#ab63fa",
           "#ab63fa",
           "#ab63fa",
           "#ab63fa",
           "#ab63fa",
           "#ab63fa",
           "#ab63fa",
           "#ab63fa",
           "#ab63fa",
           "#ab63fa",
           "#ab63fa",
           "#ab63fa",
           "#ab63fa",
           "#ab63fa",
           "#ab63fa",
           "#ab63fa",
           "#ab63fa",
           "#ab63fa",
           "#ab63fa",
           "#ab63fa",
           "#ab63fa",
           "#ab63fa",
           "#ab63fa",
           "#ab63fa",
           "#ab63fa",
           "#ab63fa",
           "#ab63fa",
           "#ab63fa",
           "#ab63fa",
           "#ab63fa",
           "#ab63fa",
           "#ab63fa",
           "#ab63fa",
           "#ab63fa",
           "#ab63fa",
           "#ab63fa",
           "#ab63fa",
           "#ab63fa",
           "#ab63fa",
           "#ab63fa",
           "#ab63fa",
           "#ab63fa",
           "#ab63fa",
           "#ab63fa",
           "#ab63fa",
           "#ab63fa",
           "#ab63fa",
           "#ab63fa",
           "#ab63fa",
           "#ab63fa",
           "#ab63fa",
           "#ab63fa",
           "#ab63fa",
           "#ab63fa",
           "#ab63fa",
           "#ab63fa",
           "#ab63fa",
           "#ab63fa",
           "#ab63fa",
           "#ab63fa",
           "#ab63fa",
           "#ab63fa",
           "#ab63fa",
           "#ab63fa",
           "#ab63fa",
           "#ab63fa",
           "#ab63fa",
           "#ab63fa",
           "#ab63fa",
           "#ab63fa",
           "#ab63fa",
           "#ab63fa",
           "#ab63fa",
           "#ab63fa",
           "#ab63fa",
           "#ab63fa",
           "#ab63fa",
           "#ab63fa",
           "#ab63fa",
           "#ab63fa",
           "#ab63fa",
           "#ab63fa",
           "#ab63fa",
           "#ab63fa",
           "#ab63fa",
           "#ab63fa",
           "#ab63fa",
           "#ab63fa",
           "#ab63fa",
           "#ab63fa",
           "#ab63fa",
           "#ab63fa",
           "#ab63fa",
           "#ab63fa",
           "#ab63fa",
           "#ab63fa",
           "#ab63fa",
           "#ab63fa",
           "#ab63fa",
           "#ab63fa",
           "#ab63fa",
           "#ab63fa",
           "#ab63fa",
           "#ab63fa",
           "#ab63fa",
           "#ab63fa",
           "#ab63fa",
           "#ab63fa",
           "#ab63fa",
           "#ab63fa",
           "#ab63fa",
           "#ab63fa",
           "#ab63fa",
           "#ab63fa",
           "#ab63fa",
           "#ab63fa",
           "#ab63fa",
           "#ab63fa",
           "#ab63fa",
           "#ab63fa",
           "#ab63fa",
           "#ab63fa",
           "#ab63fa",
           "#ab63fa",
           "#ab63fa",
           "#ab63fa",
           "#ab63fa",
           "#ab63fa",
           "#ab63fa",
           "#ab63fa",
           "#ab63fa",
           "#ab63fa",
           "#ab63fa",
           "#ab63fa",
           "#ab63fa",
           "#ab63fa",
           "#ab63fa",
           "#ab63fa",
           "#ab63fa",
           "#ab63fa",
           "#ab63fa",
           "#ab63fa",
           "#ab63fa",
           "#ab63fa",
           "#ab63fa",
           "#ab63fa",
           "#ab63fa",
           "#ab63fa",
           "#ab63fa",
           "#ab63fa",
           "#ab63fa",
           "#ab63fa",
           "#ab63fa",
           "#ab63fa",
           "#ab63fa",
           "#ab63fa",
           "#ab63fa",
           "#ab63fa",
           "#ab63fa",
           "#ab63fa",
           "#ab63fa",
           "#ab63fa",
           "#ab63fa",
           "#ab63fa",
           "#ab63fa",
           "#ab63fa",
           "#ab63fa",
           "#ab63fa",
           "#ab63fa",
           "#ab63fa",
           "#ab63fa",
           "#ab63fa",
           "#ab63fa",
           "#ab63fa",
           "#ab63fa",
           "#ab63fa",
           "#ab63fa",
           "#ab63fa",
           "#ab63fa",
           "#ab63fa",
           "#ab63fa",
           "#ab63fa",
           "#ab63fa",
           "#ab63fa",
           "#ab63fa",
           "#ab63fa",
           "#ab63fa",
           "#ab63fa",
           "#ab63fa",
           "#ab63fa",
           "#ab63fa",
           "#ab63fa",
           "#ab63fa",
           "#ab63fa",
           "#ab63fa",
           "#ab63fa",
           "#ab63fa",
           "#ab63fa",
           "#ab63fa",
           "#ab63fa",
           "#ab63fa",
           "#ab63fa",
           "#ab63fa",
           "#ab63fa",
           "#ab63fa",
           "#ab63fa",
           "#ab63fa",
           "#ab63fa",
           "#ab63fa",
           "#ab63fa",
           "#ab63fa",
           "#ab63fa",
           "#ab63fa",
           "#ab63fa",
           "#ab63fa",
           "#ab63fa",
           "#ab63fa",
           "#ab63fa",
           "#ab63fa",
           "#ab63fa",
           "#ab63fa",
           "#ab63fa",
           "#ab63fa",
           "#ab63fa",
           "#ab63fa",
           "#ab63fa",
           "#ab63fa",
           "#ab63fa",
           "#ab63fa",
           "#ab63fa",
           "#ab63fa",
           "#ab63fa",
           "#ab63fa",
           "#ab63fa",
           "#ab63fa",
           "#ab63fa",
           "#ab63fa",
           "#ab63fa",
           "#ab63fa",
           "#ab63fa",
           "#ab63fa",
           "#ab63fa",
           "#ab63fa",
           "#ab63fa",
           "#ab63fa",
           "#ab63fa",
           "#ab63fa",
           "#ab63fa",
           "#ab63fa",
           "#ab63fa",
           "#ab63fa",
           "#ab63fa",
           "#ab63fa",
           "#ab63fa",
           "#ab63fa",
           "#ab63fa",
           "#ab63fa",
           "#ab63fa",
           "#ab63fa",
           "#ab63fa",
           "#ab63fa",
           "#ab63fa",
           "#ab63fa",
           "#ab63fa",
           "#ab63fa",
           "#ab63fa",
           "#ab63fa",
           "#ab63fa",
           "#ab63fa",
           "#ab63fa",
           "#ab63fa",
           "#ab63fa",
           "#ab63fa",
           "#ab63fa",
           "#ab63fa",
           "#ab63fa",
           "#ab63fa",
           "#ab63fa",
           "#ab63fa",
           "#ab63fa",
           "#ab63fa",
           "#ab63fa",
           "#ab63fa",
           "#ab63fa",
           "#ab63fa",
           "#ab63fa",
           "#ab63fa",
           "#ab63fa",
           "#ab63fa",
           "#ab63fa",
           "#ab63fa",
           "#ab63fa",
           "#ab63fa",
           "#ab63fa",
           "#ab63fa",
           "#ab63fa",
           "#ab63fa",
           "#ab63fa",
           "#ab63fa",
           "#ab63fa",
           "#ab63fa",
           "#ab63fa",
           "#ab63fa",
           "#ab63fa",
           "#ab63fa",
           "#ab63fa",
           "#ab63fa",
           "#ab63fa",
           "#ab63fa",
           "#ab63fa",
           "#ab63fa",
           "#ab63fa",
           "#ab63fa",
           "#ab63fa",
           "#ab63fa",
           "#ab63fa",
           "#ab63fa",
           "#ab63fa",
           "#ab63fa",
           "#ab63fa",
           "#ab63fa",
           "#ab63fa",
           "#ab63fa",
           "#ab63fa",
           "#ab63fa",
           "#ab63fa",
           "#ab63fa",
           "#ab63fa",
           "#ab63fa",
           "#ab63fa",
           "#ab63fa",
           "#ab63fa",
           "#ab63fa",
           "#ab63fa",
           "#ab63fa",
           "#ab63fa",
           "#ab63fa",
           "#ab63fa",
           "#ab63fa",
           "#ab63fa",
           "#ab63fa",
           "#ab63fa",
           "#ab63fa",
           "#ab63fa",
           "#ab63fa",
           "#ab63fa",
           "#ab63fa",
           "#FFA15A",
           "#FFA15A",
           "#FFA15A",
           "#FFA15A",
           "#FFA15A",
           "#FFA15A",
           "#FFA15A",
           "#FFA15A",
           "#FFA15A",
           "#FFA15A",
           "#FFA15A",
           "#FFA15A",
           "#FFA15A",
           "#FFA15A",
           "#FFA15A",
           "#FFA15A",
           "#FFA15A",
           "#FFA15A",
           "#FFA15A",
           "#FFA15A",
           "#FFA15A",
           "#FFA15A",
           "#FFA15A",
           "#FFA15A",
           "#FFA15A",
           "#FFA15A",
           "#FFA15A"
          ]
         },
         "name": "",
         "parents": [
          "Africa/Malawi",
          "Africa/Togo",
          "Africa/Togo",
          "Africa/Togo",
          "Africa/Togo",
          "Africa/Togo",
          "Africa/Togo",
          "Africa/Tanzania",
          "Africa/Tanzania",
          "Africa/Tanzania",
          "Africa/Tanzania",
          "Africa/Tanzania",
          "Africa/Tanzania",
          "Africa/Tanzania",
          "Africa/Tanzania",
          "Africa/Tanzania",
          "Africa/Tanzania",
          "Africa/Tanzania",
          "Africa/Tanzania",
          "Africa/Swaziland",
          "Africa/Swaziland",
          "Africa/Swaziland",
          "Africa/Swaziland",
          "Africa/Swaziland",
          "Africa/Togo",
          "Africa/Swaziland",
          "Africa/Togo",
          "Africa/Togo",
          "Africa/Guinea-Bissau",
          "Africa/Guinea-Bissau",
          "Africa/Guinea-Bissau",
          "Africa/Guinea-Bissau",
          "Africa/Uganda",
          "Africa/Uganda",
          "Africa/Uganda",
          "Africa/Uganda",
          "Africa/Uganda",
          "Africa/Tunisia",
          "Africa/Tunisia",
          "Africa/Tunisia",
          "Africa/Tunisia",
          "Africa/Tunisia",
          "Africa/Tunisia",
          "Africa/Tunisia",
          "Africa/Tunisia",
          "Africa/Tunisia",
          "Africa/Tunisia",
          "Africa/Tunisia",
          "Africa/Tunisia",
          "Africa/Togo",
          "Africa/Togo",
          "Africa/Togo",
          "Africa/Guinea-Bissau",
          "Africa/Swaziland",
          "Africa/Swaziland",
          "Africa/Somalia",
          "Africa/Somalia",
          "Africa/Somalia",
          "Africa/Somalia",
          "Africa/Somalia",
          "Africa/Somalia",
          "Africa/Somalia",
          "Africa/Kenya",
          "Africa/Kenya",
          "Africa/Kenya",
          "Africa/Kenya",
          "Africa/Kenya",
          "Africa/Kenya",
          "Africa/Kenya",
          "Africa/Kenya",
          "Africa/Kenya",
          "Africa/Kenya",
          "Africa/Kenya",
          "Africa/Kenya",
          "Africa/Somalia",
          "Africa/Somalia",
          "Africa/Somalia",
          "Africa/Somalia",
          "Africa/South Africa",
          "Africa/Swaziland",
          "Africa/South Africa",
          "Africa/South Africa",
          "Africa/Swaziland",
          "Africa/Swaziland",
          "Africa/Swaziland",
          "Africa/Sudan",
          "Africa/Sudan",
          "Africa/Sudan",
          "Africa/Sudan",
          "Africa/Sudan",
          "Africa/Sudan",
          "Africa/Sudan",
          "Africa/Sudan",
          "Africa/Sudan",
          "Africa/Sudan",
          "Africa/Sudan",
          "Africa/Sudan",
          "Africa/South Africa",
          "Africa/South Africa",
          "Africa/South Africa",
          "Africa/South Africa",
          "Africa/South Africa",
          "Africa/South Africa",
          "Africa/South Africa",
          "Africa/South Africa",
          "Africa/South Africa",
          "Africa/Somalia",
          "Africa/Guinea-Bissau",
          "Africa/Guinea-Bissau",
          "Africa/Eritrea",
          "Africa/Eritrea",
          "Africa/Eritrea",
          "Africa/Eritrea",
          "Africa/Eritrea",
          "Africa/Eritrea",
          "Africa/Eritrea",
          "Africa/Ethiopia",
          "Africa/Ethiopia",
          "Africa/Ethiopia",
          "Africa/Ethiopia",
          "Africa/Ethiopia",
          "Africa/Ethiopia",
          "Africa/Ethiopia",
          "Africa/Ethiopia",
          "Africa/Ethiopia",
          "Africa/Ethiopia",
          "Africa/Ethiopia",
          "Africa/Ethiopia",
          "Africa/Gabon",
          "Africa/Gabon",
          "Africa/Gabon",
          "Africa/Gabon",
          "Africa/Eritrea",
          "Africa/Gabon",
          "Africa/Eritrea",
          "Africa/Eritrea",
          "Africa/Egypt",
          "Africa/Egypt",
          "Africa/Egypt",
          "Africa/Egypt",
          "Africa/Egypt",
          "Africa/Egypt",
          "Africa/Egypt",
          "Africa/Egypt",
          "Africa/Egypt",
          "Africa/Egypt",
          "Africa/Equatorial Guinea",
          "Africa/Equatorial Guinea",
          "Africa/Equatorial Guinea",
          "Africa/Equatorial Guinea",
          "Africa/Equatorial Guinea",
          "Africa/Equatorial Guinea",
          "Africa/Equatorial Guinea",
          "Africa/Equatorial Guinea",
          "Africa/Equatorial Guinea",
          "Africa/Equatorial Guinea",
          "Africa/Equatorial Guinea",
          "Africa/Equatorial Guinea",
          "Africa/Eritrea",
          "Africa/Eritrea",
          "Africa/Guinea-Bissau",
          "Africa/Gabon",
          "Africa/Gabon",
          "Africa/Uganda",
          "Africa/Uganda",
          "Africa/Uganda",
          "Africa/Uganda",
          "Africa/Uganda",
          "Africa/Uganda",
          "Africa/Uganda",
          "Africa/Guinea",
          "Africa/Guinea",
          "Africa/Guinea",
          "Africa/Guinea",
          "Africa/Guinea",
          "Africa/Guinea",
          "Africa/Guinea",
          "Africa/Guinea",
          "Africa/Guinea",
          "Africa/Guinea",
          "Africa/Guinea",
          "Africa/Guinea",
          "Africa/Guinea-Bissau",
          "Africa/Guinea-Bissau",
          "Africa/Guinea-Bissau",
          "Africa/Guinea-Bissau",
          "Africa/Ghana",
          "Africa/Gabon",
          "Africa/Ghana",
          "Africa/Ghana",
          "Africa/Gabon",
          "Africa/Gabon",
          "Africa/Gabon",
          "Africa/Gabon",
          "Africa/Gambia",
          "Africa/Gambia",
          "Africa/Gambia",
          "Africa/Gambia",
          "Africa/Gambia",
          "Africa/Gambia",
          "Africa/Gambia",
          "Africa/Gambia",
          "Africa/Gambia",
          "Africa/Gambia",
          "Africa/Gambia",
          "Africa/Gambia",
          "Africa/Ghana",
          "Africa/Ghana",
          "Africa/Ghana",
          "Africa/Ghana",
          "Africa/Ghana",
          "Africa/Ghana",
          "Africa/Ghana",
          "Africa/Ghana",
          "Africa/Egypt",
          "Africa/Sierra Leone",
          "Africa/Sierra Leone",
          "Africa/Rwanda",
          "Africa/Rwanda",
          "Africa/Rwanda",
          "Africa/Rwanda",
          "Africa/Rwanda",
          "Africa/Reunion",
          "Africa/Reunion",
          "Africa/Reunion",
          "Africa/Reunion",
          "Africa/Reunion",
          "Africa/Reunion",
          "Africa/Reunion",
          "Africa/Morocco",
          "Africa/Morocco",
          "Africa/Morocco",
          "Africa/Morocco",
          "Africa/Morocco",
          "Africa/Morocco",
          "Africa/Morocco",
          "Africa/Morocco",
          "Africa/Morocco",
          "Africa/Morocco",
          "Africa/Morocco",
          "Africa/Rwanda",
          "Africa/Morocco",
          "Africa/Rwanda",
          "Africa/Rwanda",
          "Africa/Mauritania",
          "Africa/Mauritania",
          "Africa/Mauritania",
          "Africa/Mauritius",
          "Africa/Mauritius",
          "Africa/Mauritius",
          "Africa/Mauritius",
          "Africa/Mauritius",
          "Africa/Mauritius",
          "Africa/Mauritius",
          "Africa/Mauritius",
          "Africa/Mauritius",
          "Africa/Mauritius",
          "Africa/Mauritius",
          "Africa/Mauritius",
          "Africa/Sao Tome and Principe",
          "Africa/Sao Tome and Principe",
          "Africa/Sao Tome and Principe",
          "Africa/Sao Tome and Principe",
          "Africa/Sao Tome and Principe",
          "Africa/Rwanda",
          "Africa/Rwanda",
          "Africa/Rwanda",
          "Africa/Rwanda",
          "Africa/Mauritania",
          "Africa/Mozambique",
          "Africa/Mozambique",
          "Africa/Niger",
          "Africa/Niger",
          "Africa/Niger",
          "Africa/Niger",
          "Africa/Niger",
          "Africa/Niger",
          "Africa/Niger",
          "Africa/Niger",
          "Africa/Niger",
          "Africa/Niger",
          "Africa/Niger",
          "Africa/Nigeria",
          "Africa/Nigeria",
          "Africa/Nigeria",
          "Africa/Nigeria",
          "Africa/Nigeria",
          "Africa/Nigeria",
          "Africa/Nigeria",
          "Africa/Nigeria",
          "Africa/Nigeria",
          "Africa/Nigeria",
          "Africa/Nigeria",
          "Africa/Nigeria",
          "Africa/Niger",
          "Africa/Mozambique",
          "Africa/Namibia",
          "Africa/Namibia",
          "Africa/Mozambique",
          "Africa/Mozambique",
          "Africa/Mozambique",
          "Africa/Mozambique",
          "Africa/Mozambique",
          "Africa/Mozambique",
          "Africa/Mozambique",
          "Africa/Mozambique",
          "Africa/Mozambique",
          "Africa/Reunion",
          "Africa/Reunion",
          "Africa/Reunion",
          "Africa/Reunion",
          "Africa/Reunion",
          "Africa/Namibia",
          "Africa/Namibia",
          "Africa/Namibia",
          "Africa/Namibia",
          "Africa/Namibia",
          "Africa/Namibia",
          "Africa/Namibia",
          "Africa/Namibia",
          "Africa/Namibia",
          "Africa/Namibia",
          "Africa/Sierra Leone",
          "Africa/Mauritania",
          "Africa/Mauritania",
          "Africa/Lesotho",
          "Africa/Lesotho",
          "Africa/Lesotho",
          "Africa/Lesotho",
          "Africa/Lesotho",
          "Africa/Lesotho",
          "Africa/Liberia",
          "Africa/Liberia",
          "Africa/Liberia",
          "Africa/Liberia",
          "Africa/Liberia",
          "Africa/Liberia",
          "Africa/Liberia",
          "Africa/Liberia",
          "Africa/Liberia",
          "Africa/Liberia",
          "Africa/Liberia",
          "Africa/Liberia",
          "Africa/Libya",
          "Africa/Libya",
          "Africa/Libya",
          "Africa/Libya",
          "Africa/Libya",
          "Africa/Lesotho",
          "Africa/Libya",
          "Africa/Lesotho",
          "Africa/Lesotho",
          "Africa/Sierra Leone",
          "Africa/Sierra Leone",
          "Africa/Sierra Leone",
          "Africa/Sierra Leone",
          "Africa/Sierra Leone",
          "Africa/Sierra Leone",
          "Africa/Sierra Leone",
          "Africa/Sierra Leone",
          "Africa/Sierra Leone",
          "Africa/Senegal",
          "Africa/Senegal",
          "Africa/Senegal",
          "Africa/Senegal",
          "Africa/Senegal",
          "Africa/Senegal",
          "Africa/Senegal",
          "Africa/Senegal",
          "Africa/Senegal",
          "Africa/Senegal",
          "Africa/Senegal",
          "Africa/Senegal",
          "Africa/Lesotho",
          "Africa/Lesotho",
          "Africa/Lesotho",
          "Africa/Mauritania",
          "Africa/Libya",
          "Africa/Libya",
          "Africa/Sao Tome and Principe",
          "Africa/Sao Tome and Principe",
          "Africa/Sao Tome and Principe",
          "Africa/Sao Tome and Principe",
          "Africa/Sao Tome and Principe",
          "Africa/Sao Tome and Principe",
          "Africa/Mali",
          "Africa/Mali",
          "Africa/Mali",
          "Africa/Mali",
          "Africa/Mali",
          "Africa/Mali",
          "Africa/Mali",
          "Africa/Mali",
          "Africa/Mali",
          "Africa/Mali",
          "Africa/Mali",
          "Africa/Mali",
          "Africa/Mauritania",
          "Africa/Mauritania",
          "Africa/Mauritania",
          "Africa/Mauritania",
          "Africa/Mauritania",
          "Africa/Sao Tome and Principe",
          "Africa/Libya",
          "Africa/Malawi",
          "Africa/Malawi",
          "Africa/Libya",
          "Africa/Libya",
          "Africa/Libya",
          "Africa/Madagascar",
          "Africa/Madagascar",
          "Africa/Madagascar",
          "Africa/Madagascar",
          "Africa/Madagascar",
          "Africa/Madagascar",
          "Africa/Madagascar",
          "Africa/Madagascar",
          "Africa/Madagascar",
          "Africa/Madagascar",
          "Africa/Madagascar",
          "Africa/Madagascar",
          "Africa/Malawi",
          "Africa/Malawi",
          "Africa/Malawi",
          "Africa/Malawi",
          "Africa/Malawi",
          "Africa/Malawi",
          "Africa/Malawi",
          "Africa/Malawi",
          "Africa/Malawi",
          "Africa/Egypt",
          "Africa/Ghana",
          "Africa/Congo, Dem. Rep.",
          "Africa",
          "Africa/Benin",
          "Africa/Benin",
          "Africa/Benin",
          "Africa/Benin",
          "Africa/Benin",
          "Africa/Benin",
          "Africa",
          "Africa/Comoros",
          "Africa/Comoros",
          "Africa/Comoros",
          "Africa/Comoros",
          "Africa/Benin",
          "Africa/Benin",
          "Africa/Benin",
          "Africa/Benin",
          "Africa/Comoros",
          "Africa/Zambia",
          "Africa/Zambia",
          "Africa/Zambia",
          "Africa/Botswana",
          "Africa/Botswana",
          "Africa/Botswana",
          "Africa/Botswana",
          "Africa/Botswana",
          "Africa",
          "Africa",
          "Africa",
          "Africa/Zimbabwe",
          "Africa/Zimbabwe",
          "Africa/Zimbabwe",
          "Africa/Zimbabwe",
          "Africa/Zimbabwe",
          "Africa/Zambia",
          "Africa/Zambia",
          "Africa/Zambia",
          "Africa/Zambia",
          "Africa/Benin",
          "Africa/Botswana",
          "Africa/Benin",
          "Africa",
          "Africa/Congo, Dem. Rep.",
          "Africa/Congo, Dem. Rep.",
          "Africa/Congo, Dem. Rep.",
          "Africa/Congo, Dem. Rep.",
          "Africa/Cameroon",
          "Africa/Congo, Dem. Rep.",
          "Africa/Congo, Dem. Rep.",
          "Africa/Congo, Dem. Rep.",
          "Africa/Congo, Dem. Rep.",
          "Africa/Congo, Rep.",
          "Africa/Congo, Rep.",
          "Africa/Congo, Rep.",
          "Africa/Congo, Rep.",
          "Africa/Congo, Rep.",
          "Africa/Congo, Rep.",
          "Africa/Congo, Rep.",
          "Africa/Congo, Dem. Rep.",
          "Africa/Congo, Dem. Rep.",
          "Africa/Congo, Dem. Rep.",
          "Africa/Comoros",
          "Africa",
          "Africa",
          "Africa",
          "Africa",
          "Africa",
          "Africa",
          "Africa",
          "Africa",
          "Africa",
          "Africa",
          "Africa",
          "Africa/Comoros",
          "Africa/Comoros",
          "Africa/Comoros",
          "Africa/Comoros",
          "Africa/Comoros",
          "Africa/Comoros",
          "Africa",
          "Africa/Congo, Rep.",
          "Africa/Botswana",
          "Africa/Botswana",
          "Africa/Burundi",
          "Africa/Burundi",
          "Africa/Burundi",
          "Africa/Burundi",
          "Africa/Burundi",
          "Africa/Burundi",
          "Africa/Burundi",
          "Africa/Burundi",
          "Africa/Burundi",
          "Africa/Burundi",
          "Africa/Burundi",
          "Africa/Burkina Faso",
          "Africa/Burkina Faso",
          "Africa/Burkina Faso",
          "Africa/Burkina Faso",
          "Africa/Central African Republic",
          "Africa/Burundi",
          "Africa",
          "Africa",
          "Africa/Zimbabwe",
          "Africa/Cameroon",
          "Africa/Cameroon",
          "Africa/Cameroon",
          "Africa/Cameroon",
          "Africa/Cameroon",
          "Africa/Cameroon",
          "Africa/Cameroon",
          "Africa/Cameroon",
          "Africa/Cameroon",
          "Africa/Cameroon",
          "Africa/Zimbabwe",
          "Africa/Djibouti",
          "Africa/Zimbabwe",
          "Africa/Zimbabwe",
          "Africa/Zimbabwe",
          "Africa/Zimbabwe",
          "Africa/Zimbabwe",
          "Africa/Central African Republic",
          "Africa/Botswana",
          "Africa/Central African Republic",
          "Africa/Central African Republic",
          "Africa/Burkina Faso",
          "Africa/Burkina Faso",
          "Africa/Burkina Faso",
          "Africa/Burkina Faso",
          "Africa/Burkina Faso",
          "Africa/Burkina Faso",
          "Africa",
          "Africa/Burkina Faso",
          "Africa",
          "Africa",
          "Africa",
          "Africa",
          "Africa",
          "Africa/Botswana",
          "Africa/Botswana",
          "Africa/Botswana",
          "Africa",
          "Africa/Burkina Faso",
          "Africa/Chad",
          "Africa/Chad",
          "Africa/Central African Republic",
          "Africa/Central African Republic",
          "Africa/Central African Republic",
          "Africa/Central African Republic",
          "Africa/Central African Republic",
          "Africa/Central African Republic",
          "Africa/Central African Republic",
          "Africa/Chad",
          "Africa/Chad",
          "Africa/Chad",
          "Africa/Chad",
          "Africa/Chad",
          "Africa/Chad",
          "Africa/Chad",
          "Africa/Chad",
          "Africa/Chad",
          "Africa/Chad",
          "Africa/Central African Republic",
          "Africa/Congo, Rep.",
          "Africa/Cameroon",
          "Africa/Congo, Rep.",
          "Africa/Algeria",
          "Africa/Algeria",
          "Africa/Congo, Rep.",
          "Africa/Algeria",
          "Africa/Algeria",
          "Africa/Angola",
          "Africa/Angola",
          "Africa/Angola",
          "Africa/Angola",
          "Africa/Angola",
          "Africa/Angola",
          "Africa/Algeria",
          "Africa/Angola",
          "Africa/Angola",
          "Africa/Angola",
          "Africa/Angola",
          "Africa/Angola",
          "Africa/Zambia",
          "Africa/Zambia",
          "Africa/Zambia",
          "Africa/Zambia",
          "Africa/Zambia",
          "Africa/Cote d'Ivoire",
          "Africa/Cote d'Ivoire",
          "Africa/Angola",
          "Africa/Algeria",
          "Africa/Algeria",
          "Africa/Algeria",
          "",
          "Africa",
          "Africa",
          "Africa/Djibouti",
          "Africa/Djibouti",
          "Africa/Djibouti",
          "Africa/Djibouti",
          "Africa/Djibouti",
          "Africa/Djibouti",
          "Africa/Djibouti",
          "Africa/Djibouti",
          "Africa/Djibouti",
          "Africa/Djibouti",
          "Africa/Djibouti",
          "Africa",
          "Africa",
          "Africa",
          "Africa",
          "Africa",
          "Africa",
          "Africa",
          "Africa",
          "Africa/Algeria",
          "Africa/Algeria",
          "Africa/Algeria",
          "Africa/Cote d'Ivoire",
          "Africa/Cote d'Ivoire",
          "Africa/Algeria",
          "Africa/Cote d'Ivoire",
          "Africa",
          "Africa",
          "Africa",
          "Africa",
          "Africa",
          "Africa",
          "Africa",
          "Africa",
          "Africa",
          "Africa",
          "Africa",
          "Africa",
          "Africa",
          "Africa/Congo, Rep.",
          "Africa",
          "Africa",
          "Africa/Cote d'Ivoire",
          "Africa/Cote d'Ivoire",
          "Africa/Cote d'Ivoire",
          "Africa/Cote d'Ivoire",
          "Africa/Cote d'Ivoire",
          "Africa/Cote d'Ivoire",
          "Africa/Cote d'Ivoire",
          "Americas/Paraguay",
          "Americas",
          "Americas/Peru",
          "Americas/Peru",
          "Americas",
          "Americas/Nicaragua",
          "Americas/Peru",
          "Americas/Peru",
          "Americas/Paraguay",
          "Americas/Nicaragua",
          "Americas/Nicaragua",
          "Americas/Nicaragua",
          "Americas/Nicaragua",
          "Americas/Nicaragua",
          "Americas/Peru",
          "Americas/Paraguay",
          "Americas/Paraguay",
          "Americas/Paraguay",
          "Americas/Nicaragua",
          "Americas/Nicaragua",
          "Americas/Nicaragua",
          "Americas/Nicaragua",
          "Americas/Paraguay",
          "Americas/Paraguay",
          "Americas/Nicaragua",
          "Americas/Nicaragua",
          "Americas/Mexico",
          "Americas/Mexico",
          "Americas/Paraguay",
          "Americas/Paraguay",
          "Americas/Panama",
          "Americas/Panama",
          "Americas/Panama",
          "Americas/Panama",
          "Americas/Paraguay",
          "Americas/Panama",
          "Americas/Panama",
          "Americas/Panama",
          "Americas/Panama",
          "Americas/Panama",
          "Americas/Panama",
          "Americas/Panama",
          "Americas/Panama",
          "Americas",
          "Americas/Paraguay",
          "Americas",
          "Americas/Peru",
          "Americas/Mexico",
          "Americas/Mexico",
          "Americas/Mexico",
          "Americas/Mexico",
          "Americas/Mexico",
          "Americas/Paraguay",
          "Americas/Mexico",
          "Americas/Mexico",
          "Americas/Mexico",
          "Americas/Mexico",
          "Americas",
          "Americas",
          "Americas",
          "Americas/Mexico",
          "Americas",
          "Americas/Peru",
          "Americas",
          "Americas/Bolivia",
          "Americas/Bolivia",
          "Americas/Bolivia",
          "",
          "Americas/Bolivia",
          "Americas",
          "Americas/Bolivia",
          "Americas",
          "Americas",
          "Americas/Argentina",
          "Americas/Argentina",
          "Americas/Argentina",
          "Americas/Argentina",
          "Americas/Puerto Rico",
          "Americas/Argentina",
          "Americas/Puerto Rico",
          "Americas/Bolivia",
          "Americas/Bolivia",
          "Americas",
          "Americas/Argentina",
          "Americas/Argentina",
          "Americas/Argentina",
          "Americas",
          "Americas",
          "Americas/Bolivia",
          "Americas",
          "Americas/Argentina",
          "Americas/Argentina",
          "Americas/Bolivia",
          "Americas/Bolivia",
          "Americas/Bolivia",
          "Americas/Bolivia",
          "Americas/Argentina",
          "Americas/Puerto Rico",
          "Americas/Puerto Rico",
          "Americas/Puerto Rico",
          "Americas/Brazil",
          "Americas/Brazil",
          "Americas/Brazil",
          "Americas/Brazil",
          "Americas/Brazil",
          "Americas/Brazil",
          "Americas/Brazil",
          "Americas/Brazil",
          "Americas/Peru",
          "Americas",
          "Americas",
          "Americas/Peru",
          "Americas/Peru",
          "Americas/Peru",
          "Americas/Brazil",
          "Americas/Brazil",
          "Americas/Brazil",
          "Americas/Brazil",
          "Americas/Puerto Rico",
          "Americas/Puerto Rico",
          "Americas/Argentina",
          "Americas",
          "Americas",
          "Americas",
          "Americas",
          "Americas",
          "Americas",
          "Americas",
          "Americas/Puerto Rico",
          "Americas/Puerto Rico",
          "Americas/Puerto Rico",
          "Americas/Puerto Rico",
          "Americas/Puerto Rico",
          "Americas/Peru",
          "Americas/Dominican Republic",
          "Americas/Canada",
          "Americas/Canada",
          "Americas/Guatemala",
          "Americas/United States",
          "Americas/United States",
          "Americas/United States",
          "Americas/United States",
          "Americas/United States",
          "Americas/Costa Rica",
          "Americas/Costa Rica",
          "Americas/Costa Rica",
          "Americas/Costa Rica",
          "Americas/Costa Rica",
          "Americas/Costa Rica",
          "Americas/Costa Rica",
          "Americas/Costa Rica",
          "Americas/Costa Rica",
          "Americas/Costa Rica",
          "Americas/Costa Rica",
          "Americas/United States",
          "Americas/United States",
          "Americas/United States",
          "Americas/United States",
          "Americas/United States",
          "Americas/United States",
          "Americas/United States",
          "Americas/Uruguay",
          "Americas/Uruguay",
          "Americas/Uruguay",
          "Americas/Uruguay",
          "Americas/Uruguay",
          "Americas/Guatemala",
          "Americas/Guatemala",
          "Americas/Guatemala",
          "Americas/Guatemala",
          "Americas/Honduras",
          "Americas/Honduras",
          "Americas/Honduras",
          "Americas/Honduras",
          "Americas/Honduras",
          "Americas/Honduras",
          "Americas/Honduras",
          "Americas/Honduras",
          "Americas/Honduras",
          "Americas/Honduras",
          "Americas/Honduras",
          "Americas/Haiti",
          "Americas/Haiti",
          "Americas/Haiti",
          "Americas/Costa Rica",
          "Americas/Haiti",
          "Americas/Haiti",
          "Americas/Haiti",
          "Americas/Haiti",
          "Americas/Haiti",
          "Americas/Haiti",
          "Americas/Haiti",
          "Americas/Haiti",
          "Americas/Guatemala",
          "Americas/Guatemala",
          "Americas/Guatemala",
          "Americas/Guatemala",
          "Americas/Guatemala",
          "Americas/Canada",
          "Americas/Guatemala",
          "Americas/Haiti",
          "Americas/Honduras",
          "Americas/Uruguay",
          "Americas/Uruguay",
          "Americas/El Salvador",
          "Americas/El Salvador",
          "Americas/El Salvador",
          "Americas/El Salvador",
          "Americas/El Salvador",
          "Americas/El Salvador",
          "Americas/Ecuador",
          "Americas/Ecuador",
          "Americas/Ecuador",
          "Americas/Ecuador",
          "Americas/Ecuador",
          "Americas/Ecuador",
          "Americas/Ecuador",
          "Americas/Ecuador",
          "Americas/Ecuador",
          "Americas/Ecuador",
          "Americas/Ecuador",
          "Americas/Ecuador",
          "Americas/Dominican Republic",
          "Americas/Dominican Republic",
          "Americas/Dominican Republic",
          "Americas/Dominican Republic",
          "Americas/Dominican Republic",
          "Americas/Dominican Republic",
          "Americas/Dominican Republic",
          "Americas/Dominican Republic",
          "Americas/Dominican Republic",
          "Americas/Dominican Republic",
          "Americas/Dominican Republic",
          "Americas/El Salvador",
          "Americas/El Salvador",
          "Americas/El Salvador",
          "Americas/El Salvador",
          "Americas/Uruguay",
          "Americas/Uruguay",
          "Americas/Uruguay",
          "Americas/Uruguay",
          "Americas/Venezuela",
          "Americas/Venezuela",
          "Americas/Venezuela",
          "Americas/Venezuela",
          "Americas/Venezuela",
          "Americas/Venezuela",
          "Americas/Venezuela",
          "Americas/Venezuela",
          "Americas/Venezuela",
          "Americas/Venezuela",
          "Americas/Uruguay",
          "Americas/Venezuela",
          "Americas/Cuba",
          "Americas/Cuba",
          "Americas/Cuba",
          "Americas/Cuba",
          "Americas/Cuba",
          "Americas/Cuba",
          "Americas/Cuba",
          "Americas/Cuba",
          "Americas/Cuba",
          "Americas/Cuba",
          "Americas/Cuba",
          "Americas/Cuba",
          "Americas/El Salvador",
          "Americas/El Salvador",
          "Americas/Venezuela",
          "Americas/Colombia",
          "Americas/Guatemala",
          "Americas/Colombia",
          "Americas/Trinidad and Tobago",
          "Americas/Trinidad and Tobago",
          "Americas/Trinidad and Tobago",
          "Americas/Trinidad and Tobago",
          "Americas/Jamaica",
          "Americas/Jamaica",
          "Americas/Jamaica",
          "Americas/Chile",
          "Americas/Chile",
          "Americas/Chile",
          "Americas/Chile",
          "Americas/Chile",
          "Americas/Chile",
          "Americas/Trinidad and Tobago",
          "Americas/Chile",
          "Americas/Chile",
          "Americas/Chile",
          "Americas/Chile",
          "Americas/Jamaica",
          "Americas/Jamaica",
          "Americas/Jamaica",
          "Americas/Jamaica",
          "Americas/Jamaica",
          "Americas/Colombia",
          "Americas/Jamaica",
          "Americas/Jamaica",
          "Americas/Jamaica",
          "Americas/Jamaica",
          "Americas/Chile",
          "Americas/Canada",
          "Americas/Chile",
          "Americas/Canada",
          "Americas/Colombia",
          "Americas/Trinidad and Tobago",
          "Americas/Colombia",
          "Americas/Trinidad and Tobago",
          "Americas/Trinidad and Tobago",
          "Americas/Trinidad and Tobago",
          "Americas/Trinidad and Tobago",
          "Americas/Colombia",
          "Americas/Colombia",
          "Americas/Colombia",
          "Americas/Colombia",
          "Americas/Colombia",
          "Americas/Canada",
          "Americas/Colombia",
          "Americas/Canada",
          "Americas/Canada",
          "Americas/Canada",
          "Americas/Colombia",
          "Americas/Trinidad and Tobago",
          "Americas/Canada",
          "Americas/Canada",
          "Americas/Trinidad and Tobago",
          "Americas/Canada",
          "Asia/Vietnam",
          "Asia/West Bank and Gaza",
          "Asia/West Bank and Gaza",
          "Asia/West Bank and Gaza",
          "Asia/West Bank and Gaza",
          "Asia/West Bank and Gaza",
          "Asia/West Bank and Gaza",
          "Asia/West Bank and Gaza",
          "Asia/West Bank and Gaza",
          "Asia/West Bank and Gaza",
          "Asia/West Bank and Gaza",
          "Asia/West Bank and Gaza",
          "Asia/West Bank and Gaza",
          "Asia/Pakistan",
          "Asia/Yemen, Rep.",
          "Asia/Philippines",
          "Asia/Philippines",
          "Asia/Philippines",
          "Asia/Philippines",
          "Asia/Philippines",
          "Asia/Philippines",
          "Asia/Philippines",
          "Asia/Philippines",
          "Asia/Philippines",
          "Asia/Philippines",
          "Asia/Pakistan",
          "Asia/Vietnam",
          "Asia/Yemen, Rep.",
          "Asia/Yemen, Rep.",
          "Asia/Yemen, Rep.",
          "Asia/Yemen, Rep.",
          "Asia/Vietnam",
          "Asia",
          "Asia/Vietnam",
          "Asia/Singapore",
          "Asia/Pakistan",
          "Asia/Pakistan",
          "Asia",
          "Asia",
          "Asia",
          "Asia/Singapore",
          "Asia",
          "",
          "Asia",
          "Asia/Sri Lanka",
          "Asia/Sri Lanka",
          "Asia/Sri Lanka",
          "Asia/Sri Lanka",
          "Asia/Sri Lanka",
          "Asia/Singapore",
          "Asia/Vietnam",
          "Asia/Singapore",
          "Asia/Vietnam",
          "Asia/Vietnam",
          "Asia/Pakistan",
          "Asia/Pakistan",
          "Asia/Pakistan",
          "Asia/Singapore",
          "Asia/Singapore",
          "Asia/Singapore",
          "Asia/Singapore",
          "Asia",
          "Asia",
          "Asia/Singapore",
          "Asia",
          "Asia/Singapore",
          "Asia/Singapore",
          "Asia/Singapore",
          "Asia/Philippines",
          "Asia/Philippines",
          "Asia/Syria",
          "Asia/Sri Lanka",
          "Asia/Thailand",
          "Asia/Thailand",
          "Asia/Thailand",
          "Asia/Thailand",
          "Asia/Thailand",
          "Asia/Thailand",
          "Asia",
          "Asia/Thailand",
          "Asia",
          "Asia",
          "Asia",
          "Asia/Pakistan",
          "Asia",
          "Asia",
          "Asia",
          "Asia/Taiwan",
          "Asia/Taiwan",
          "Asia/Taiwan",
          "Asia",
          "Asia",
          "Asia/Taiwan",
          "Asia/Thailand",
          "Asia/Thailand",
          "Asia/Saudi Arabia",
          "Asia/Saudi Arabia",
          "Asia/Saudi Arabia",
          "Asia/Saudi Arabia",
          "Asia/Saudi Arabia",
          "Asia",
          "Asia",
          "Asia",
          "Asia",
          "Asia",
          "Asia",
          "Asia",
          "Asia",
          "Asia",
          "Asia",
          "Asia",
          "Asia",
          "Asia/Thailand",
          "Asia/Thailand",
          "Asia/Thailand",
          "Asia/Taiwan",
          "Asia",
          "Asia/Taiwan",
          "Asia/Saudi Arabia",
          "Asia/Syria",
          "Asia/Syria",
          "Asia/Syria",
          "Asia/Syria",
          "Asia/Syria",
          "Asia/Syria",
          "Asia/Syria",
          "Asia/Vietnam",
          "Asia/Vietnam",
          "Asia/Vietnam",
          "Asia/Vietnam",
          "Asia/Vietnam",
          "Asia/Yemen, Rep.",
          "Asia/Sri Lanka",
          "Asia/Sri Lanka",
          "Asia/Sri Lanka",
          "Asia/Sri Lanka",
          "Asia/Sri Lanka",
          "Asia/Saudi Arabia",
          "Asia/Saudi Arabia",
          "Asia/Saudi Arabia",
          "Asia/Saudi Arabia",
          "Asia/Taiwan",
          "Asia/Taiwan",
          "Asia/Taiwan",
          "Asia/Taiwan",
          "Asia",
          "Asia/Taiwan",
          "Asia/Taiwan",
          "Asia/Syria",
          "Asia/Yemen, Rep.",
          "Asia/Sri Lanka",
          "Asia/Yemen, Rep.",
          "Asia/Yemen, Rep.",
          "Asia/Yemen, Rep.",
          "Asia/Yemen, Rep.",
          "Asia/Syria",
          "Asia/Syria",
          "Asia/Syria",
          "Asia",
          "Asia/Saudi Arabia",
          "Asia/Saudi Arabia",
          "Asia/Yemen, Rep.",
          "Asia/Pakistan",
          "Asia/Afghanistan",
          "Asia/Pakistan",
          "Asia/Iraq",
          "Asia/Iraq",
          "Asia/Iraq",
          "Asia/Iraq",
          "Asia/Iraq",
          "Asia/Israel",
          "Asia/Israel",
          "Asia/Israel",
          "Asia/Iraq",
          "Asia/Israel",
          "Asia/Israel",
          "Asia/Israel",
          "Asia/Israel",
          "Asia/Israel",
          "Asia/Israel",
          "Asia/Israel",
          "Asia/Israel",
          "Asia/Japan",
          "Asia/Israel",
          "Asia/Iraq",
          "Asia/Iraq",
          "Asia/Iraq",
          "Asia/Indonesia",
          "Asia/Indonesia",
          "Asia/Indonesia",
          "Asia/Indonesia",
          "Asia/Iran",
          "Asia/Iran",
          "Asia/Iran",
          "Asia/Iran",
          "Asia/Iran",
          "Asia/Iran",
          "Asia/Iran",
          "Asia/Iran",
          "Asia/Pakistan",
          "Asia/Iran",
          "Asia/Iran",
          "Asia/Iran",
          "Asia/Iraq",
          "Asia/Iraq",
          "Asia/Iraq",
          "Asia/Japan",
          "Asia/Japan",
          "Asia/Japan",
          "Asia/Japan",
          "Asia/Korea, Dem. Rep.",
          "Asia/Korea, Dem. Rep.",
          "Asia/Korea, Dem. Rep.",
          "Asia/Korea, Dem. Rep.",
          "Asia/Korea, Dem. Rep.",
          "Asia/Korea, Dem. Rep.",
          "Asia/Korea, Dem. Rep.",
          "Asia/Korea, Dem. Rep.",
          "Asia/Korea, Rep.",
          "Asia/Korea, Rep.",
          "Asia/Korea, Rep.",
          "Asia/Korea, Rep.",
          "Asia/Korea, Rep.",
          "Asia/Korea, Rep.",
          "Asia/Korea, Rep.",
          "Asia/Korea, Rep.",
          "Asia/Korea, Rep.",
          "Asia/Korea, Rep.",
          "Asia/Korea, Rep.",
          "Asia/Korea, Dem. Rep.",
          "Asia/Indonesia",
          "Asia/Korea, Dem. Rep.",
          "Asia/Korea, Dem. Rep.",
          "Asia/Japan",
          "Asia/Japan",
          "Asia/Japan",
          "Asia/Japan",
          "Asia/Japan",
          "Asia/Japan",
          "Asia/Japan",
          "Asia/Jordan",
          "Asia/Jordan",
          "Asia/Jordan",
          "Asia/Jordan",
          "Asia/Jordan",
          "Asia/Jordan",
          "Asia/Jordan",
          "Asia/Jordan",
          "Asia/Jordan",
          "Asia/Jordan",
          "Asia/Jordan",
          "Asia/Jordan",
          "Asia/Korea, Dem. Rep.",
          "Asia/Korea, Rep.",
          "Asia/Indonesia",
          "Asia/Indonesia",
          "Asia/Bangladesh",
          "Asia/Bangladesh",
          "Asia/Bangladesh",
          "Asia/Bangladesh",
          "Asia/Bangladesh",
          "Asia/Bangladesh",
          "Asia/Bangladesh",
          "Asia/Bangladesh",
          "Asia/Bahrain",
          "Asia/Bangladesh",
          "Asia/Bangladesh",
          "Asia/Bangladesh",
          "Asia/Cambodia",
          "Asia/Cambodia",
          "Asia/Cambodia",
          "Asia/Cambodia",
          "Asia/Cambodia",
          "Asia/Cambodia",
          "Asia/Bangladesh",
          "Asia/Bahrain",
          "Asia/Bahrain",
          "Asia/Bahrain",
          "Asia/Afghanistan",
          "Asia/Afghanistan",
          "Asia/Afghanistan",
          "Asia/Afghanistan",
          "Asia/Afghanistan",
          "Asia/Afghanistan",
          "Asia/Afghanistan",
          "Asia/Afghanistan",
          "Asia/Afghanistan",
          "Asia/Afghanistan",
          "Asia/Afghanistan",
          "Asia/Bahrain",
          "Asia/Bahrain",
          "Asia/Bahrain",
          "Asia/Bahrain",
          "Asia/Bahrain",
          "Asia/Bahrain",
          "Asia/Bahrain",
          "Asia/Bahrain",
          "Asia/Cambodia",
          "Asia/Cambodia",
          "Asia/Cambodia",
          "Asia/Cambodia",
          "Asia/Hong Kong, China",
          "Asia/Hong Kong, China",
          "Asia/Hong Kong, China",
          "Asia/India",
          "Asia/India",
          "Asia/India",
          "Asia/India",
          "Asia/India",
          "Asia/India",
          "Asia/India",
          "Asia/India",
          "Asia/India",
          "Asia/India",
          "Asia/India",
          "Asia/India",
          "Asia/Indonesia",
          "Asia/Indonesia",
          "Asia/Indonesia",
          "Asia/Indonesia",
          "Asia/Hong Kong, China",
          "Asia/Indonesia",
          "Asia/Hong Kong, China",
          "Asia/Hong Kong, China",
          "Asia/Cambodia",
          "Asia/Cambodia",
          "Asia/China",
          "Asia/China",
          "Asia/China",
          "Asia/China",
          "Asia/China",
          "Asia/China",
          "Asia/China",
          "Asia/China",
          "Asia/China",
          "Asia/China",
          "Asia/China",
          "Asia/China",
          "Asia/Hong Kong, China",
          "Asia/Hong Kong, China",
          "Asia/Hong Kong, China",
          "Asia/Hong Kong, China",
          "Asia/Hong Kong, China",
          "Asia/Hong Kong, China",
          "Asia/Kuwait",
          "Asia/Iran",
          "Asia/Kuwait",
          "Asia/Mongolia",
          "Asia/Mongolia",
          "Asia/Mongolia",
          "Asia/Mongolia",
          "Asia/Mongolia",
          "Asia/Mongolia",
          "Asia/Oman",
          "Asia/Oman",
          "Asia/Mongolia",
          "Asia/Mongolia",
          "Asia/Malaysia",
          "Asia/Malaysia",
          "Asia/Malaysia",
          "Asia/Malaysia",
          "Asia/Malaysia",
          "Asia/Malaysia",
          "Asia/Malaysia",
          "Asia/Malaysia",
          "Asia/Malaysia",
          "Asia/Malaysia",
          "Asia/Malaysia",
          "Asia/Lebanon",
          "Asia/Lebanon",
          "Asia/Mongolia",
          "Asia/Mongolia",
          "Asia/Mongolia",
          "Asia/Mongolia",
          "Asia/Myanmar",
          "Asia/Myanmar",
          "Asia/Myanmar",
          "Asia/Myanmar",
          "Asia/Myanmar",
          "Asia/Myanmar",
          "Asia/Myanmar",
          "Asia/Myanmar",
          "Asia/Myanmar",
          "Asia/Myanmar",
          "Asia/Myanmar",
          "Asia/Lebanon",
          "Asia/Myanmar",
          "Asia/Nepal",
          "Asia/Nepal",
          "Asia/Nepal",
          "Asia/Nepal",
          "Asia/Nepal",
          "Asia/Nepal",
          "Asia/Nepal",
          "Asia/Nepal",
          "Asia/Nepal",
          "Asia/Nepal",
          "Asia/Nepal",
          "Asia/Nepal",
          "Asia/Lebanon",
          "Asia/Malaysia",
          "Asia/Lebanon",
          "Asia/Oman",
          "Asia/Kuwait",
          "Asia/Lebanon",
          "Asia/Kuwait",
          "Asia/Kuwait",
          "Asia/Kuwait",
          "Asia/Oman",
          "Asia/Oman",
          "Asia/Oman",
          "Asia/Oman",
          "Asia/Oman",
          "Asia/Oman",
          "Asia/Oman",
          "Asia/Oman",
          "Asia/Oman",
          "Asia/Pakistan",
          "Asia/Lebanon",
          "Asia/Lebanon",
          "Asia/Lebanon",
          "Asia/Lebanon",
          "Asia/Lebanon",
          "Asia/Kuwait",
          "Asia/Lebanon",
          "Asia/Kuwait",
          "Asia/Kuwait",
          "Asia/Kuwait",
          "Asia/Kuwait",
          "Asia/Kuwait",
          "Europe/Poland",
          "Europe/Poland",
          "Europe/Poland",
          "Europe/Croatia",
          "Europe/Croatia",
          "Europe/Croatia",
          "Europe/Croatia",
          "Europe/Croatia",
          "Europe/Croatia",
          "Europe/Croatia",
          "Europe/France",
          "Europe/Croatia",
          "Europe/Croatia",
          "Europe/Netherlands",
          "Europe/Germany",
          "Europe/Germany",
          "Europe/Germany",
          "Europe/Netherlands",
          "Europe/Netherlands",
          "Europe/Netherlands",
          "Europe/Netherlands",
          "Europe/Netherlands",
          "Europe/Netherlands",
          "Europe/Croatia",
          "Europe/Netherlands",
          "Europe/Germany",
          "Europe/Germany",
          "Europe/Netherlands",
          "Europe/France",
          "Europe/Croatia",
          "Europe/Czech Republic",
          "Europe/Czech Republic",
          "Europe/Denmark",
          "Europe/Finland",
          "Europe/Finland",
          "Europe/Netherlands",
          "Europe/Finland",
          "Europe/Finland",
          "Europe/Denmark",
          "Europe/Denmark",
          "Europe/Denmark",
          "Europe/Denmark",
          "Europe/Denmark",
          "Europe/Denmark",
          "Europe/Denmark",
          "Europe/Finland",
          "Europe/Finland",
          "Europe/Finland",
          "Europe/Finland",
          "Europe/Finland",
          "Europe/Finland",
          "Europe/Finland",
          "Europe/Denmark",
          "Europe/Finland",
          "Europe/France",
          "Europe/Denmark",
          "Europe/Czech Republic",
          "Europe/Czech Republic",
          "Europe/Czech Republic",
          "Europe/Czech Republic",
          "Europe/Czech Republic",
          "Europe/France",
          "Europe/France",
          "Europe/France",
          "Europe/France",
          "Europe/France",
          "Europe/France",
          "Europe/France",
          "Europe/France",
          "Europe/France",
          "Europe/Czech Republic",
          "Europe/Czech Republic",
          "Europe/Czech Republic",
          "Europe/Czech Republic",
          "Europe/Czech Republic",
          "Europe/Denmark",
          "Europe/Denmark",
          "Europe/Croatia",
          "Europe",
          "Europe",
          "Europe/Netherlands",
          "Europe/Austria",
          "Europe/Austria",
          "Europe/Austria",
          "Europe",
          "Europe/Austria",
          "Europe/Austria",
          "Europe/Austria",
          "Europe/Austria",
          "Europe/Austria",
          "Europe",
          "Europe",
          "Europe/Austria",
          "Europe/Norway",
          "Europe/Norway",
          "Europe/Norway",
          "Europe/Norway",
          "Europe/Norway",
          "Europe/Norway",
          "Europe/Norway",
          "Europe/Norway",
          "Europe/Norway",
          "Europe/Norway",
          "Europe/Austria",
          "Europe/Austria",
          "Europe/Austria",
          "Europe",
          "",
          "Europe",
          "Europe",
          "Europe/Albania",
          "Europe/Albania",
          "Europe/Albania",
          "Europe/Albania",
          "Europe/Albania",
          "Europe/Albania",
          "Europe/Albania",
          "Europe",
          "Europe",
          "Europe/Albania",
          "Europe/Albania",
          "Europe/Albania",
          "Europe",
          "Europe/Albania",
          "Europe/Albania",
          "Europe",
          "Europe",
          "Europe",
          "Europe",
          "Europe",
          "Europe/Norway",
          "Europe/Netherlands",
          "Europe/Norway",
          "Europe",
          "Europe/Bosnia and Herzegovina",
          "Europe/Bosnia and Herzegovina",
          "Europe/Bosnia and Herzegovina",
          "Europe/Bosnia and Herzegovina",
          "Europe/Bosnia and Herzegovina",
          "Europe/Bosnia and Herzegovina",
          "Europe/Bulgaria",
          "Europe/Bulgaria",
          "Europe/Bulgaria",
          "Europe/Bulgaria",
          "Europe/Bosnia and Herzegovina",
          "Europe/Bulgaria",
          "Europe/Bulgaria",
          "Europe",
          "Europe/Bulgaria",
          "Europe/Bulgaria",
          "Europe",
          "Europe/Bulgaria",
          "Europe/Bulgaria",
          "Europe",
          "Europe/Bulgaria",
          "Europe",
          "Europe/Bulgaria",
          "Europe/Bosnia and Herzegovina",
          "Europe",
          "Europe/Bosnia and Herzegovina",
          "Europe",
          "Europe",
          "Europe/Belgium",
          "Europe/Belgium",
          "Europe/Belgium",
          "Europe/Belgium",
          "Europe",
          "Europe/Belgium",
          "Europe",
          "Europe/Belgium",
          "Europe/Belgium",
          "Europe",
          "Europe",
          "Europe/Belgium",
          "Europe/Belgium",
          "Europe/Belgium",
          "Europe/Belgium",
          "Europe/Belgium",
          "Europe/Bosnia and Herzegovina",
          "Europe/Bosnia and Herzegovina",
          "Europe/Bosnia and Herzegovina",
          "Europe",
          "Europe/Germany",
          "Europe",
          "Europe/Germany",
          "Europe/United Kingdom",
          "Europe/Germany",
          "Europe/Sweden",
          "Europe/Sweden",
          "Europe/Sweden",
          "Europe/Sweden",
          "Europe/Sweden",
          "Europe/Sweden",
          "Europe/Ireland",
          "Europe/Ireland",
          "Europe/Ireland",
          "Europe/Ireland",
          "Europe/Sweden",
          "Europe/Ireland",
          "Europe/Ireland",
          "Europe/Montenegro",
          "Europe/Montenegro",
          "Europe/Italy",
          "Europe/Italy",
          "Europe/Italy",
          "Europe/Italy",
          "Europe/Italy",
          "Europe/Italy",
          "Europe/Italy",
          "Europe/Ireland",
          "Europe/Italy",
          "Europe/Sweden",
          "Europe/Sweden",
          "Europe/Montenegro",
          "Europe/Montenegro",
          "Europe/Montenegro",
          "Europe/Ireland",
          "Europe/Ireland",
          "Europe/Ireland",
          "Europe/Ireland",
          "Europe/Ireland",
          "Europe/Switzerland",
          "Europe/Germany",
          "Europe/Sweden",
          "Europe/Switzerland",
          "Europe/Switzerland",
          "Europe/Switzerland",
          "Europe/Switzerland",
          "Europe/Switzerland",
          "Europe/Switzerland",
          "Europe/Switzerland",
          "Europe/Switzerland",
          "Europe/Switzerland",
          "Europe/Sweden",
          "Europe/Sweden",
          "Europe/Switzerland",
          "Europe/Italy",
          "Europe/Italy",
          "Europe/Italy",
          "Europe/Slovak Republic",
          "Europe/Slovak Republic",
          "Europe/Slovak Republic",
          "Europe/Slovak Republic",
          "Europe/Slovak Republic",
          "Europe/Slovak Republic",
          "Europe/Slovak Republic",
          "Europe/Slovak Republic",
          "Europe/Slovak Republic",
          "Europe/Slovak Republic",
          "Europe/Slovak Republic",
          "Europe/Serbia",
          "Europe/Serbia",
          "Europe/Serbia",
          "Europe/Serbia",
          "Europe/Serbia",
          "Europe/Serbia",
          "Europe/Serbia",
          "Europe/Serbia",
          "Europe/Serbia",
          "Europe/Serbia",
          "Europe/Serbia",
          "Europe/Serbia",
          "Europe/Slovak Republic",
          "Europe/Slovenia",
          "Europe/Slovenia",
          "Europe/Italy",
          "Europe/Spain",
          "Europe/Spain",
          "Europe/Spain",
          "Europe/Spain",
          "Europe/Spain",
          "Europe/Spain",
          "Europe/Spain",
          "Europe/Spain",
          "Europe/Spain",
          "Europe/Spain",
          "Europe/Spain",
          "Europe/Spain",
          "Europe/Slovenia",
          "Europe/Slovenia",
          "Europe/Slovenia",
          "Europe/Slovenia",
          "Europe/Slovenia",
          "Europe/Slovenia",
          "Europe/Slovenia",
          "Europe/Slovenia",
          "Europe/Slovenia",
          "Europe/Slovenia",
          "Europe/Romania",
          "Europe/Romania",
          "Europe/Switzerland",
          "Europe/Romania",
          "Europe/Poland",
          "Europe/Poland",
          "Europe/Turkey",
          "Europe/Turkey",
          "Europe/Turkey",
          "Europe/Turkey",
          "Europe/Turkey",
          "Europe/Turkey",
          "Europe/Turkey",
          "Europe/Turkey",
          "Europe/Turkey",
          "Europe/Poland",
          "Europe/Turkey",
          "Europe/Turkey",
          "Europe/Poland",
          "Europe/Poland",
          "Europe/Poland",
          "Europe/Poland",
          "Europe/Portugal",
          "Europe/Romania",
          "Europe/Portugal",
          "Europe/Hungary",
          "Europe/Hungary",
          "Europe/Hungary",
          "Europe/Turkey",
          "Europe/Poland",
          "Europe/Poland",
          "Europe/Greece",
          "Europe/Germany",
          "Europe/Germany",
          "Europe/Germany",
          "Europe/Greece",
          "Europe/Greece",
          "Europe/Greece",
          "Europe/Greece",
          "Europe/Greece",
          "Europe/United Kingdom",
          "Europe/United Kingdom",
          "Europe/United Kingdom",
          "Europe/United Kingdom",
          "Europe/United Kingdom",
          "Europe/United Kingdom",
          "Europe/United Kingdom",
          "Europe/United Kingdom",
          "Europe/United Kingdom",
          "Europe/United Kingdom",
          "Europe/United Kingdom",
          "Europe/Greece",
          "Europe/Greece",
          "Europe/Greece",
          "Europe/Greece",
          "Europe/Greece",
          "Europe/Greece",
          "Europe/Hungary",
          "Europe/Hungary",
          "Europe/Portugal",
          "Europe/Hungary",
          "Europe/Iceland",
          "Europe/Iceland",
          "Europe/Iceland",
          "Europe/Portugal",
          "Europe/Portugal",
          "Europe/Portugal",
          "Europe/Portugal",
          "Europe/Portugal",
          "Europe/Portugal",
          "Europe/Portugal",
          "Europe/Portugal",
          "Europe/Portugal",
          "Europe/Montenegro",
          "Europe/Montenegro",
          "Europe/Montenegro",
          "Europe/Montenegro",
          "Europe/Montenegro",
          "Europe/Montenegro",
          "Europe/Montenegro",
          "Europe/Romania",
          "Europe/Romania",
          "Europe/Romania",
          "Europe/Romania",
          "Europe/Romania",
          "Europe/Romania",
          "Europe/Romania",
          "Europe/Romania",
          "Europe/Iceland",
          "Europe/Hungary",
          "Europe/Iceland",
          "Europe/Iceland",
          "Europe/Hungary",
          "Europe/Hungary",
          "Europe/Iceland",
          "Europe/Hungary",
          "Europe/Hungary",
          "Europe/Hungary",
          "Europe/Iceland",
          "Europe/Iceland",
          "Europe/Iceland",
          "Europe/Iceland",
          "Europe/Iceland",
          "Oceania/New Zealand",
          "Oceania/Australia",
          "Oceania/New Zealand",
          "Oceania/New Zealand",
          "Oceania/New Zealand",
          "Oceania/New Zealand",
          "Oceania",
          "Oceania/New Zealand",
          "Oceania/New Zealand",
          "Oceania/Australia",
          "Oceania/Australia",
          "Oceania/Australia",
          "Oceania/Australia",
          "Oceania/Australia",
          "Oceania/Australia",
          "Oceania/Australia",
          "Oceania/New Zealand",
          "Oceania/New Zealand",
          "Oceania/Australia",
          "Oceania/Australia",
          "Oceania/Australia",
          "Oceania/Australia",
          "Oceania/New Zealand",
          "Oceania/New Zealand",
          "Oceania/New Zealand",
          "Oceania",
          ""
         ],
         "type": "sunburst",
         "values": {
          "bdata": "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",
          "dtype": "f8"
         }
        }
       ],
       "layout": {
        "legend": {
         "tracegroupgap": 0
        },
        "margin": {
         "t": 60
        },
        "template": {
         "data": {
          "bar": [
           {
            "error_x": {
             "color": "#2a3f5f"
            },
            "error_y": {
             "color": "#2a3f5f"
            },
            "marker": {
             "line": {
              "color": "#E5ECF6",
              "width": 0.5
             },
             "pattern": {
              "fillmode": "overlay",
              "size": 10,
              "solidity": 0.2
             }
            },
            "type": "bar"
           }
          ],
          "barpolar": [
           {
            "marker": {
             "line": {
              "color": "#E5ECF6",
              "width": 0.5
             },
             "pattern": {
              "fillmode": "overlay",
              "size": 10,
              "solidity": 0.2
             }
            },
            "type": "barpolar"
           }
          ],
          "carpet": [
           {
            "aaxis": {
             "endlinecolor": "#2a3f5f",
             "gridcolor": "white",
             "linecolor": "white",
             "minorgridcolor": "white",
             "startlinecolor": "#2a3f5f"
            },
            "baxis": {
             "endlinecolor": "#2a3f5f",
             "gridcolor": "white",
             "linecolor": "white",
             "minorgridcolor": "white",
             "startlinecolor": "#2a3f5f"
            },
            "type": "carpet"
           }
          ],
          "choropleth": [
           {
            "colorbar": {
             "outlinewidth": 0,
             "ticks": ""
            },
            "type": "choropleth"
           }
          ],
          "contour": [
           {
            "colorbar": {
             "outlinewidth": 0,
             "ticks": ""
            },
            "colorscale": [
             [
              0,
              "#0d0887"
             ],
             [
              0.1111111111111111,
              "#46039f"
             ],
             [
              0.2222222222222222,
              "#7201a8"
             ],
             [
              0.3333333333333333,
              "#9c179e"
             ],
             [
              0.4444444444444444,
              "#bd3786"
             ],
             [
              0.5555555555555556,
              "#d8576b"
             ],
             [
              0.6666666666666666,
              "#ed7953"
             ],
             [
              0.7777777777777778,
              "#fb9f3a"
             ],
             [
              0.8888888888888888,
              "#fdca26"
             ],
             [
              1,
              "#f0f921"
             ]
            ],
            "type": "contour"
           }
          ],
          "contourcarpet": [
           {
            "colorbar": {
             "outlinewidth": 0,
             "ticks": ""
            },
            "type": "contourcarpet"
           }
          ],
          "heatmap": [
           {
            "colorbar": {
             "outlinewidth": 0,
             "ticks": ""
            },
            "colorscale": [
             [
              0,
              "#0d0887"
             ],
             [
              0.1111111111111111,
              "#46039f"
             ],
             [
              0.2222222222222222,
              "#7201a8"
             ],
             [
              0.3333333333333333,
              "#9c179e"
             ],
             [
              0.4444444444444444,
              "#bd3786"
             ],
             [
              0.5555555555555556,
              "#d8576b"
             ],
             [
              0.6666666666666666,
              "#ed7953"
             ],
             [
              0.7777777777777778,
              "#fb9f3a"
             ],
             [
              0.8888888888888888,
              "#fdca26"
             ],
             [
              1,
              "#f0f921"
             ]
            ],
            "type": "heatmap"
           }
          ],
          "histogram": [
           {
            "marker": {
             "pattern": {
              "fillmode": "overlay",
              "size": 10,
              "solidity": 0.2
             }
            },
            "type": "histogram"
           }
          ],
          "histogram2d": [
           {
            "colorbar": {
             "outlinewidth": 0,
             "ticks": ""
            },
            "colorscale": [
             [
              0,
              "#0d0887"
             ],
             [
              0.1111111111111111,
              "#46039f"
             ],
             [
              0.2222222222222222,
              "#7201a8"
             ],
             [
              0.3333333333333333,
              "#9c179e"
             ],
             [
              0.4444444444444444,
              "#bd3786"
             ],
             [
              0.5555555555555556,
              "#d8576b"
             ],
             [
              0.6666666666666666,
              "#ed7953"
             ],
             [
              0.7777777777777778,
              "#fb9f3a"
             ],
             [
              0.8888888888888888,
              "#fdca26"
             ],
             [
              1,
              "#f0f921"
             ]
            ],
            "type": "histogram2d"
           }
          ],
          "histogram2dcontour": [
           {
            "colorbar": {
             "outlinewidth": 0,
             "ticks": ""
            },
            "colorscale": [
             [
              0,
              "#0d0887"
             ],
             [
              0.1111111111111111,
              "#46039f"
             ],
             [
              0.2222222222222222,
              "#7201a8"
             ],
             [
              0.3333333333333333,
              "#9c179e"
             ],
             [
              0.4444444444444444,
              "#bd3786"
             ],
             [
              0.5555555555555556,
              "#d8576b"
             ],
             [
              0.6666666666666666,
              "#ed7953"
             ],
             [
              0.7777777777777778,
              "#fb9f3a"
             ],
             [
              0.8888888888888888,
              "#fdca26"
             ],
             [
              1,
              "#f0f921"
             ]
            ],
            "type": "histogram2dcontour"
           }
          ],
          "mesh3d": [
           {
            "colorbar": {
             "outlinewidth": 0,
             "ticks": ""
            },
            "type": "mesh3d"
           }
          ],
          "parcoords": [
           {
            "line": {
             "colorbar": {
              "outlinewidth": 0,
              "ticks": ""
             }
            },
            "type": "parcoords"
           }
          ],
          "pie": [
           {
            "automargin": true,
            "type": "pie"
           }
          ],
          "scatter": [
           {
            "fillpattern": {
             "fillmode": "overlay",
             "size": 10,
             "solidity": 0.2
            },
            "type": "scatter"
           }
          ],
          "scatter3d": [
           {
            "line": {
             "colorbar": {
              "outlinewidth": 0,
              "ticks": ""
             }
            },
            "marker": {
             "colorbar": {
              "outlinewidth": 0,
              "ticks": ""
             }
            },
            "type": "scatter3d"
           }
          ],
          "scattercarpet": [
           {
            "marker": {
             "colorbar": {
              "outlinewidth": 0,
              "ticks": ""
             }
            },
            "type": "scattercarpet"
           }
          ],
          "scattergeo": [
           {
            "marker": {
             "colorbar": {
              "outlinewidth": 0,
              "ticks": ""
             }
            },
            "type": "scattergeo"
           }
          ],
          "scattergl": [
           {
            "marker": {
             "colorbar": {
              "outlinewidth": 0,
              "ticks": ""
             }
            },
            "type": "scattergl"
           }
          ],
          "scattermap": [
           {
            "marker": {
             "colorbar": {
              "outlinewidth": 0,
              "ticks": ""
             }
            },
            "type": "scattermap"
           }
          ],
          "scattermapbox": [
           {
            "marker": {
             "colorbar": {
              "outlinewidth": 0,
              "ticks": ""
             }
            },
            "type": "scattermapbox"
           }
          ],
          "scatterpolar": [
           {
            "marker": {
             "colorbar": {
              "outlinewidth": 0,
              "ticks": ""
             }
            },
            "type": "scatterpolar"
           }
          ],
          "scatterpolargl": [
           {
            "marker": {
             "colorbar": {
              "outlinewidth": 0,
              "ticks": ""
             }
            },
            "type": "scatterpolargl"
           }
          ],
          "scatterternary": [
           {
            "marker": {
             "colorbar": {
              "outlinewidth": 0,
              "ticks": ""
             }
            },
            "type": "scatterternary"
           }
          ],
          "surface": [
           {
            "colorbar": {
             "outlinewidth": 0,
             "ticks": ""
            },
            "colorscale": [
             [
              0,
              "#0d0887"
             ],
             [
              0.1111111111111111,
              "#46039f"
             ],
             [
              0.2222222222222222,
              "#7201a8"
             ],
             [
              0.3333333333333333,
              "#9c179e"
             ],
             [
              0.4444444444444444,
              "#bd3786"
             ],
             [
              0.5555555555555556,
              "#d8576b"
             ],
             [
              0.6666666666666666,
              "#ed7953"
             ],
             [
              0.7777777777777778,
              "#fb9f3a"
             ],
             [
              0.8888888888888888,
              "#fdca26"
             ],
             [
              1,
              "#f0f921"
             ]
            ],
            "type": "surface"
           }
          ],
          "table": [
           {
            "cells": {
             "fill": {
              "color": "#EBF0F8"
             },
             "line": {
              "color": "white"
             }
            },
            "header": {
             "fill": {
              "color": "#C8D4E3"
             },
             "line": {
              "color": "white"
             }
            },
            "type": "table"
           }
          ]
         },
         "layout": {
          "annotationdefaults": {
           "arrowcolor": "#2a3f5f",
           "arrowhead": 0,
           "arrowwidth": 1
          },
          "autotypenumbers": "strict",
          "coloraxis": {
           "colorbar": {
            "outlinewidth": 0,
            "ticks": ""
           }
          },
          "colorscale": {
           "diverging": [
            [
             0,
             "#8e0152"
            ],
            [
             0.1,
             "#c51b7d"
            ],
            [
             0.2,
             "#de77ae"
            ],
            [
             0.3,
             "#f1b6da"
            ],
            [
             0.4,
             "#fde0ef"
            ],
            [
             0.5,
             "#f7f7f7"
            ],
            [
             0.6,
             "#e6f5d0"
            ],
            [
             0.7,
             "#b8e186"
            ],
            [
             0.8,
             "#7fbc41"
            ],
            [
             0.9,
             "#4d9221"
            ],
            [
             1,
             "#276419"
            ]
           ],
           "sequential": [
            [
             0,
             "#0d0887"
            ],
            [
             0.1111111111111111,
             "#46039f"
            ],
            [
             0.2222222222222222,
             "#7201a8"
            ],
            [
             0.3333333333333333,
             "#9c179e"
            ],
            [
             0.4444444444444444,
             "#bd3786"
            ],
            [
             0.5555555555555556,
             "#d8576b"
            ],
            [
             0.6666666666666666,
             "#ed7953"
            ],
            [
             0.7777777777777778,
             "#fb9f3a"
            ],
            [
             0.8888888888888888,
             "#fdca26"
            ],
            [
             1,
             "#f0f921"
            ]
           ],
           "sequentialminus": [
            [
             0,
             "#0d0887"
            ],
            [
             0.1111111111111111,
             "#46039f"
            ],
            [
             0.2222222222222222,
             "#7201a8"
            ],
            [
             0.3333333333333333,
             "#9c179e"
            ],
            [
             0.4444444444444444,
             "#bd3786"
            ],
            [
             0.5555555555555556,
             "#d8576b"
            ],
            [
             0.6666666666666666,
             "#ed7953"
            ],
            [
             0.7777777777777778,
             "#fb9f3a"
            ],
            [
             0.8888888888888888,
             "#fdca26"
            ],
            [
             1,
             "#f0f921"
            ]
           ]
          },
          "colorway": [
           "#636efa",
           "#EF553B",
           "#00cc96",
           "#ab63fa",
           "#FFA15A",
           "#19d3f3",
           "#FF6692",
           "#B6E880",
           "#FF97FF",
           "#FECB52"
          ],
          "font": {
           "color": "#2a3f5f"
          },
          "geo": {
           "bgcolor": "white",
           "lakecolor": "white",
           "landcolor": "#E5ECF6",
           "showlakes": true,
           "showland": true,
           "subunitcolor": "white"
          },
          "hoverlabel": {
           "align": "left"
          },
          "hovermode": "closest",
          "mapbox": {
           "style": "light"
          },
          "paper_bgcolor": "white",
          "plot_bgcolor": "#E5ECF6",
          "polar": {
           "angularaxis": {
            "gridcolor": "white",
            "linecolor": "white",
            "ticks": ""
           },
           "bgcolor": "#E5ECF6",
           "radialaxis": {
            "gridcolor": "white",
            "linecolor": "white",
            "ticks": ""
           }
          },
          "scene": {
           "xaxis": {
            "backgroundcolor": "#E5ECF6",
            "gridcolor": "white",
            "gridwidth": 2,
            "linecolor": "white",
            "showbackground": true,
            "ticks": "",
            "zerolinecolor": "white"
           },
           "yaxis": {
            "backgroundcolor": "#E5ECF6",
            "gridcolor": "white",
            "gridwidth": 2,
            "linecolor": "white",
            "showbackground": true,
            "ticks": "",
            "zerolinecolor": "white"
           },
           "zaxis": {
            "backgroundcolor": "#E5ECF6",
            "gridcolor": "white",
            "gridwidth": 2,
            "linecolor": "white",
            "showbackground": true,
            "ticks": "",
            "zerolinecolor": "white"
           }
          },
          "shapedefaults": {
           "line": {
            "color": "#2a3f5f"
           }
          },
          "ternary": {
           "aaxis": {
            "gridcolor": "white",
            "linecolor": "white",
            "ticks": ""
           },
           "baxis": {
            "gridcolor": "white",
            "linecolor": "white",
            "ticks": ""
           },
           "bgcolor": "#E5ECF6",
           "caxis": {
            "gridcolor": "white",
            "linecolor": "white",
            "ticks": ""
           }
          },
          "title": {
           "x": 0.05
          },
          "xaxis": {
           "automargin": true,
           "gridcolor": "white",
           "linecolor": "white",
           "ticks": "",
           "title": {
            "standoff": 15
           },
           "zerolinecolor": "white",
           "zerolinewidth": 2
          },
          "yaxis": {
           "automargin": true,
           "gridcolor": "white",
           "linecolor": "white",
           "ticks": "",
           "title": {
            "standoff": 15
           },
           "zerolinecolor": "white",
           "zerolinewidth": 2
          }
         }
        }
       }
      }
     },
     "metadata": {},
     "output_type": "display_data"
    }
   ],
   "source": [
    "px.sunburst(df,path=['continent','country','year'],values='gdpPercap',color='continent')"
   ]
  },
  {
   "cell_type": "code",
   "execution_count": 68,
   "id": "90b47ef2",
   "metadata": {},
   "outputs": [
    {
     "data": {
      "application/vnd.plotly.v1+json": {
       "config": {
        "plotlyServerURL": "https://plot.ly"
       },
       "data": [
        {
         "branchvalues": "total",
         "domain": {
          "x": [
           0,
           1
          ],
          "y": [
           0,
           1
          ]
         },
         "hovertemplate": "labels=%{label}<br>counts=%{value}<br>parent=%{parent}<br>id=%{id}<extra></extra>",
         "ids": [
          "setosa/0.1/3.0",
          "setosa/0.1/3.1",
          "setosa/0.1/4.1",
          "setosa/0.2/2.9",
          "setosa/0.2/3.0",
          "setosa/0.2/3.1",
          "setosa/0.2/3.2",
          "setosa/0.2/3.3",
          "setosa/0.2/3.4",
          "setosa/0.2/3.5",
          "setosa/0.2/3.6",
          "setosa/0.2/3.7",
          "setosa/0.2/3.8",
          "setosa/0.2/4.0",
          "setosa/0.2/4.2",
          "setosa/0.3/2.3",
          "setosa/0.3/3.0",
          "setosa/0.3/3.4",
          "setosa/0.3/3.5",
          "setosa/0.3/3.8",
          "setosa/0.4/3.4",
          "setosa/0.4/3.7",
          "setosa/0.4/3.8",
          "setosa/0.4/3.9",
          "setosa/0.4/4.4",
          "setosa/0.5/3.3",
          "setosa/0.6/3.5",
          "versicolor/1.0/2.0",
          "versicolor/1.0/2.2",
          "versicolor/1.0/2.3",
          "versicolor/1.0/2.4",
          "versicolor/1.0/2.6",
          "versicolor/1.0/2.7",
          "versicolor/1.1/2.4",
          "versicolor/1.1/2.5",
          "versicolor/1.2/2.6",
          "versicolor/1.2/2.7",
          "versicolor/1.2/2.8",
          "versicolor/1.2/3.0",
          "versicolor/1.3/2.3",
          "versicolor/1.3/2.5",
          "versicolor/1.3/2.7",
          "versicolor/1.3/2.8",
          "versicolor/1.3/2.9",
          "versicolor/1.3/3.0",
          "versicolor/1.4/2.7",
          "versicolor/1.4/2.8",
          "versicolor/1.4/2.9",
          "versicolor/1.4/3.0",
          "versicolor/1.4/3.1",
          "versicolor/1.4/3.2",
          "versicolor/1.5/2.2",
          "versicolor/1.5/2.5",
          "versicolor/1.5/2.8",
          "versicolor/1.5/2.9",
          "versicolor/1.5/3.0",
          "versicolor/1.5/3.1",
          "versicolor/1.5/3.2",
          "versicolor/1.6/2.7",
          "versicolor/1.6/3.3",
          "versicolor/1.6/3.4",
          "versicolor/1.7/3.0",
          "versicolor/1.8/3.2",
          "virginica/1.4/2.6",
          "virginica/1.5/2.2",
          "virginica/1.5/2.8",
          "virginica/1.6/3.0",
          "virginica/1.7/2.5",
          "virginica/1.8/2.5",
          "virginica/1.8/2.7",
          "virginica/1.8/2.8",
          "virginica/1.8/2.9",
          "virginica/1.8/3.0",
          "virginica/1.8/3.1",
          "virginica/1.8/3.2",
          "virginica/1.9/2.5",
          "virginica/1.9/2.7",
          "virginica/1.9/2.8",
          "virginica/2.0/2.5",
          "virginica/2.0/2.8",
          "virginica/2.0/3.0",
          "virginica/2.0/3.2",
          "virginica/2.0/3.8",
          "virginica/2.1/2.8",
          "virginica/2.1/3.0",
          "virginica/2.1/3.1",
          "virginica/2.1/3.3",
          "virginica/2.2/2.8",
          "virginica/2.2/3.0",
          "virginica/2.2/3.8",
          "virginica/2.3/2.6",
          "virginica/2.3/3.0",
          "virginica/2.3/3.1",
          "virginica/2.3/3.2",
          "virginica/2.3/3.4",
          "virginica/2.4/2.8",
          "virginica/2.4/3.1",
          "virginica/2.4/3.4",
          "virginica/2.5/3.3",
          "virginica/2.5/3.6",
          "setosa/0.1",
          "setosa/0.2",
          "setosa/0.3",
          "setosa/0.4",
          "setosa/0.5",
          "setosa/0.6",
          "versicolor/1.0",
          "versicolor/1.1",
          "versicolor/1.2",
          "versicolor/1.3",
          "versicolor/1.4",
          "versicolor/1.5",
          "versicolor/1.6",
          "versicolor/1.7",
          "versicolor/1.8",
          "virginica/1.4",
          "virginica/1.5",
          "virginica/1.6",
          "virginica/1.7",
          "virginica/1.8",
          "virginica/1.9",
          "virginica/2.0",
          "virginica/2.1",
          "virginica/2.2",
          "virginica/2.3",
          "virginica/2.4",
          "virginica/2.5",
          "setosa",
          "versicolor",
          "virginica"
         ],
         "labels": [
          "3.0",
          "3.1",
          "4.1",
          "2.9",
          "3.0",
          "3.1",
          "3.2",
          "3.3",
          "3.4",
          "3.5",
          "3.6",
          "3.7",
          "3.8",
          "4.0",
          "4.2",
          "2.3",
          "3.0",
          "3.4",
          "3.5",
          "3.8",
          "3.4",
          "3.7",
          "3.8",
          "3.9",
          "4.4",
          "3.3",
          "3.5",
          "2.0",
          "2.2",
          "2.3",
          "2.4",
          "2.6",
          "2.7",
          "2.4",
          "2.5",
          "2.6",
          "2.7",
          "2.8",
          "3.0",
          "2.3",
          "2.5",
          "2.7",
          "2.8",
          "2.9",
          "3.0",
          "2.7",
          "2.8",
          "2.9",
          "3.0",
          "3.1",
          "3.2",
          "2.2",
          "2.5",
          "2.8",
          "2.9",
          "3.0",
          "3.1",
          "3.2",
          "2.7",
          "3.3",
          "3.4",
          "3.0",
          "3.2",
          "2.6",
          "2.2",
          "2.8",
          "3.0",
          "2.5",
          "2.5",
          "2.7",
          "2.8",
          "2.9",
          "3.0",
          "3.1",
          "3.2",
          "2.5",
          "2.7",
          "2.8",
          "2.5",
          "2.8",
          "3.0",
          "3.2",
          "3.8",
          "2.8",
          "3.0",
          "3.1",
          "3.3",
          "2.8",
          "3.0",
          "3.8",
          "2.6",
          "3.0",
          "3.1",
          "3.2",
          "3.4",
          "2.8",
          "3.1",
          "3.4",
          "3.3",
          "3.6",
          "0.1",
          "0.2",
          "0.3",
          "0.4",
          "0.5",
          "0.6",
          "1.0",
          "1.1",
          "1.2",
          "1.3",
          "1.4",
          "1.5",
          "1.6",
          "1.7",
          "1.8",
          "1.4",
          "1.5",
          "1.6",
          "1.7",
          "1.8",
          "1.9",
          "2.0",
          "2.1",
          "2.2",
          "2.3",
          "2.4",
          "2.5",
          "setosa",
          "versicolor",
          "virginica"
         ],
         "name": "",
         "parents": [
          "setosa/0.1",
          "setosa/0.1",
          "setosa/0.1",
          "setosa/0.2",
          "setosa/0.2",
          "setosa/0.2",
          "setosa/0.2",
          "setosa/0.2",
          "setosa/0.2",
          "setosa/0.2",
          "setosa/0.2",
          "setosa/0.2",
          "setosa/0.2",
          "setosa/0.2",
          "setosa/0.2",
          "setosa/0.3",
          "setosa/0.3",
          "setosa/0.3",
          "setosa/0.3",
          "setosa/0.3",
          "setosa/0.4",
          "setosa/0.4",
          "setosa/0.4",
          "setosa/0.4",
          "setosa/0.4",
          "setosa/0.5",
          "setosa/0.6",
          "versicolor/1.0",
          "versicolor/1.0",
          "versicolor/1.0",
          "versicolor/1.0",
          "versicolor/1.0",
          "versicolor/1.0",
          "versicolor/1.1",
          "versicolor/1.1",
          "versicolor/1.2",
          "versicolor/1.2",
          "versicolor/1.2",
          "versicolor/1.2",
          "versicolor/1.3",
          "versicolor/1.3",
          "versicolor/1.3",
          "versicolor/1.3",
          "versicolor/1.3",
          "versicolor/1.3",
          "versicolor/1.4",
          "versicolor/1.4",
          "versicolor/1.4",
          "versicolor/1.4",
          "versicolor/1.4",
          "versicolor/1.4",
          "versicolor/1.5",
          "versicolor/1.5",
          "versicolor/1.5",
          "versicolor/1.5",
          "versicolor/1.5",
          "versicolor/1.5",
          "versicolor/1.5",
          "versicolor/1.6",
          "versicolor/1.6",
          "versicolor/1.6",
          "versicolor/1.7",
          "versicolor/1.8",
          "virginica/1.4",
          "virginica/1.5",
          "virginica/1.5",
          "virginica/1.6",
          "virginica/1.7",
          "virginica/1.8",
          "virginica/1.8",
          "virginica/1.8",
          "virginica/1.8",
          "virginica/1.8",
          "virginica/1.8",
          "virginica/1.8",
          "virginica/1.9",
          "virginica/1.9",
          "virginica/1.9",
          "virginica/2.0",
          "virginica/2.0",
          "virginica/2.0",
          "virginica/2.0",
          "virginica/2.0",
          "virginica/2.1",
          "virginica/2.1",
          "virginica/2.1",
          "virginica/2.1",
          "virginica/2.2",
          "virginica/2.2",
          "virginica/2.2",
          "virginica/2.3",
          "virginica/2.3",
          "virginica/2.3",
          "virginica/2.3",
          "virginica/2.3",
          "virginica/2.4",
          "virginica/2.4",
          "virginica/2.4",
          "virginica/2.5",
          "virginica/2.5",
          "setosa",
          "setosa",
          "setosa",
          "setosa",
          "setosa",
          "setosa",
          "versicolor",
          "versicolor",
          "versicolor",
          "versicolor",
          "versicolor",
          "versicolor",
          "versicolor",
          "versicolor",
          "versicolor",
          "virginica",
          "virginica",
          "virginica",
          "virginica",
          "virginica",
          "virginica",
          "virginica",
          "virginica",
          "virginica",
          "virginica",
          "virginica",
          "virginica",
          "",
          "",
          ""
         ],
         "type": "sunburst",
         "values": {
          "bdata": "AAAAAAAAAEAAAAAAAAAIQAAAAAAAAPA/AAAAAAAA8D8AAAAAAAAIQAAAAAAAAABAAAAAAAAAFEAAAAAAAADwPwAAAAAAABhAAAAAAAAACEAAAAAAAAAAQAAAAAAAAABAAAAAAAAA8D8AAAAAAADwPwAAAAAAAPA/AAAAAAAA8D8AAAAAAADwPwAAAAAAAPA/AAAAAAAAAEAAAAAAAAAAQAAAAAAAAABAAAAAAAAA8D8AAAAAAADwPwAAAAAAAABAAAAAAAAA8D8AAAAAAADwPwAAAAAAAPA/AAAAAAAA8D8AAAAAAADwPwAAAAAAAPA/AAAAAAAAAEAAAAAAAADwPwAAAAAAAPA/AAAAAAAA8D8AAAAAAAAAQAAAAAAAAABAAAAAAAAA8D8AAAAAAADwPwAAAAAAAPA/AAAAAAAAAEAAAAAAAADwPwAAAAAAAPA/AAAAAAAACEAAAAAAAAAUQAAAAAAAAPA/AAAAAAAA8D8AAAAAAADwPwAAAAAAAPA/AAAAAAAAAEAAAAAAAADwPwAAAAAAAPA/AAAAAAAA8D8AAAAAAADwPwAAAAAAAPA/AAAAAAAA8D8AAAAAAAAIQAAAAAAAAABAAAAAAAAA8D8AAAAAAADwPwAAAAAAAPA/AAAAAAAA8D8AAAAAAADwPwAAAAAAAPA/AAAAAAAA8D8AAAAAAADwPwAAAAAAAPA/AAAAAAAA8D8AAAAAAADwPwAAAAAAAPA/AAAAAAAA8D8AAAAAAADwPwAAAAAAAABAAAAAAAAAEEAAAAAAAADwPwAAAAAAAPA/AAAAAAAA8D8AAAAAAAAIQAAAAAAAAPA/AAAAAAAA8D8AAAAAAAAAQAAAAAAAAPA/AAAAAAAA8D8AAAAAAADwPwAAAAAAAPA/AAAAAAAACEAAAAAAAADwPwAAAAAAAPA/AAAAAAAA8D8AAAAAAADwPwAAAAAAAPA/AAAAAAAA8D8AAAAAAAAAQAAAAAAAAPA/AAAAAAAACEAAAAAAAADwPwAAAAAAAPA/AAAAAAAA8D8AAAAAAADwPwAAAAAAAABAAAAAAAAA8D8AAAAAAAAYQAAAAAAAADxAAAAAAAAAHEAAAAAAAAAcQAAAAAAAAPA/AAAAAAAA8D8AAAAAAAAcQAAAAAAAAAhAAAAAAAAAFEAAAAAAAAAqQAAAAAAAABxAAAAAAAAAJEAAAAAAAAAIQAAAAAAAAPA/AAAAAAAA8D8AAAAAAADwPwAAAAAAAABAAAAAAAAA8D8AAAAAAADwPwAAAAAAACZAAAAAAAAAFEAAAAAAAAAYQAAAAAAAABhAAAAAAAAACEAAAAAAAAAgQAAAAAAAAAhAAAAAAAAACEAAAAAAAABJQAAAAAAAAElAAAAAAAAASUA=",
          "dtype": "f8"
         }
        }
       ],
       "layout": {
        "legend": {
         "tracegroupgap": 0
        },
        "margin": {
         "t": 60
        },
        "template": {
         "data": {
          "bar": [
           {
            "error_x": {
             "color": "#2a3f5f"
            },
            "error_y": {
             "color": "#2a3f5f"
            },
            "marker": {
             "line": {
              "color": "#E5ECF6",
              "width": 0.5
             },
             "pattern": {
              "fillmode": "overlay",
              "size": 10,
              "solidity": 0.2
             }
            },
            "type": "bar"
           }
          ],
          "barpolar": [
           {
            "marker": {
             "line": {
              "color": "#E5ECF6",
              "width": 0.5
             },
             "pattern": {
              "fillmode": "overlay",
              "size": 10,
              "solidity": 0.2
             }
            },
            "type": "barpolar"
           }
          ],
          "carpet": [
           {
            "aaxis": {
             "endlinecolor": "#2a3f5f",
             "gridcolor": "white",
             "linecolor": "white",
             "minorgridcolor": "white",
             "startlinecolor": "#2a3f5f"
            },
            "baxis": {
             "endlinecolor": "#2a3f5f",
             "gridcolor": "white",
             "linecolor": "white",
             "minorgridcolor": "white",
             "startlinecolor": "#2a3f5f"
            },
            "type": "carpet"
           }
          ],
          "choropleth": [
           {
            "colorbar": {
             "outlinewidth": 0,
             "ticks": ""
            },
            "type": "choropleth"
           }
          ],
          "contour": [
           {
            "colorbar": {
             "outlinewidth": 0,
             "ticks": ""
            },
            "colorscale": [
             [
              0,
              "#0d0887"
             ],
             [
              0.1111111111111111,
              "#46039f"
             ],
             [
              0.2222222222222222,
              "#7201a8"
             ],
             [
              0.3333333333333333,
              "#9c179e"
             ],
             [
              0.4444444444444444,
              "#bd3786"
             ],
             [
              0.5555555555555556,
              "#d8576b"
             ],
             [
              0.6666666666666666,
              "#ed7953"
             ],
             [
              0.7777777777777778,
              "#fb9f3a"
             ],
             [
              0.8888888888888888,
              "#fdca26"
             ],
             [
              1,
              "#f0f921"
             ]
            ],
            "type": "contour"
           }
          ],
          "contourcarpet": [
           {
            "colorbar": {
             "outlinewidth": 0,
             "ticks": ""
            },
            "type": "contourcarpet"
           }
          ],
          "heatmap": [
           {
            "colorbar": {
             "outlinewidth": 0,
             "ticks": ""
            },
            "colorscale": [
             [
              0,
              "#0d0887"
             ],
             [
              0.1111111111111111,
              "#46039f"
             ],
             [
              0.2222222222222222,
              "#7201a8"
             ],
             [
              0.3333333333333333,
              "#9c179e"
             ],
             [
              0.4444444444444444,
              "#bd3786"
             ],
             [
              0.5555555555555556,
              "#d8576b"
             ],
             [
              0.6666666666666666,
              "#ed7953"
             ],
             [
              0.7777777777777778,
              "#fb9f3a"
             ],
             [
              0.8888888888888888,
              "#fdca26"
             ],
             [
              1,
              "#f0f921"
             ]
            ],
            "type": "heatmap"
           }
          ],
          "histogram": [
           {
            "marker": {
             "pattern": {
              "fillmode": "overlay",
              "size": 10,
              "solidity": 0.2
             }
            },
            "type": "histogram"
           }
          ],
          "histogram2d": [
           {
            "colorbar": {
             "outlinewidth": 0,
             "ticks": ""
            },
            "colorscale": [
             [
              0,
              "#0d0887"
             ],
             [
              0.1111111111111111,
              "#46039f"
             ],
             [
              0.2222222222222222,
              "#7201a8"
             ],
             [
              0.3333333333333333,
              "#9c179e"
             ],
             [
              0.4444444444444444,
              "#bd3786"
             ],
             [
              0.5555555555555556,
              "#d8576b"
             ],
             [
              0.6666666666666666,
              "#ed7953"
             ],
             [
              0.7777777777777778,
              "#fb9f3a"
             ],
             [
              0.8888888888888888,
              "#fdca26"
             ],
             [
              1,
              "#f0f921"
             ]
            ],
            "type": "histogram2d"
           }
          ],
          "histogram2dcontour": [
           {
            "colorbar": {
             "outlinewidth": 0,
             "ticks": ""
            },
            "colorscale": [
             [
              0,
              "#0d0887"
             ],
             [
              0.1111111111111111,
              "#46039f"
             ],
             [
              0.2222222222222222,
              "#7201a8"
             ],
             [
              0.3333333333333333,
              "#9c179e"
             ],
             [
              0.4444444444444444,
              "#bd3786"
             ],
             [
              0.5555555555555556,
              "#d8576b"
             ],
             [
              0.6666666666666666,
              "#ed7953"
             ],
             [
              0.7777777777777778,
              "#fb9f3a"
             ],
             [
              0.8888888888888888,
              "#fdca26"
             ],
             [
              1,
              "#f0f921"
             ]
            ],
            "type": "histogram2dcontour"
           }
          ],
          "mesh3d": [
           {
            "colorbar": {
             "outlinewidth": 0,
             "ticks": ""
            },
            "type": "mesh3d"
           }
          ],
          "parcoords": [
           {
            "line": {
             "colorbar": {
              "outlinewidth": 0,
              "ticks": ""
             }
            },
            "type": "parcoords"
           }
          ],
          "pie": [
           {
            "automargin": true,
            "type": "pie"
           }
          ],
          "scatter": [
           {
            "fillpattern": {
             "fillmode": "overlay",
             "size": 10,
             "solidity": 0.2
            },
            "type": "scatter"
           }
          ],
          "scatter3d": [
           {
            "line": {
             "colorbar": {
              "outlinewidth": 0,
              "ticks": ""
             }
            },
            "marker": {
             "colorbar": {
              "outlinewidth": 0,
              "ticks": ""
             }
            },
            "type": "scatter3d"
           }
          ],
          "scattercarpet": [
           {
            "marker": {
             "colorbar": {
              "outlinewidth": 0,
              "ticks": ""
             }
            },
            "type": "scattercarpet"
           }
          ],
          "scattergeo": [
           {
            "marker": {
             "colorbar": {
              "outlinewidth": 0,
              "ticks": ""
             }
            },
            "type": "scattergeo"
           }
          ],
          "scattergl": [
           {
            "marker": {
             "colorbar": {
              "outlinewidth": 0,
              "ticks": ""
             }
            },
            "type": "scattergl"
           }
          ],
          "scattermap": [
           {
            "marker": {
             "colorbar": {
              "outlinewidth": 0,
              "ticks": ""
             }
            },
            "type": "scattermap"
           }
          ],
          "scattermapbox": [
           {
            "marker": {
             "colorbar": {
              "outlinewidth": 0,
              "ticks": ""
             }
            },
            "type": "scattermapbox"
           }
          ],
          "scatterpolar": [
           {
            "marker": {
             "colorbar": {
              "outlinewidth": 0,
              "ticks": ""
             }
            },
            "type": "scatterpolar"
           }
          ],
          "scatterpolargl": [
           {
            "marker": {
             "colorbar": {
              "outlinewidth": 0,
              "ticks": ""
             }
            },
            "type": "scatterpolargl"
           }
          ],
          "scatterternary": [
           {
            "marker": {
             "colorbar": {
              "outlinewidth": 0,
              "ticks": ""
             }
            },
            "type": "scatterternary"
           }
          ],
          "surface": [
           {
            "colorbar": {
             "outlinewidth": 0,
             "ticks": ""
            },
            "colorscale": [
             [
              0,
              "#0d0887"
             ],
             [
              0.1111111111111111,
              "#46039f"
             ],
             [
              0.2222222222222222,
              "#7201a8"
             ],
             [
              0.3333333333333333,
              "#9c179e"
             ],
             [
              0.4444444444444444,
              "#bd3786"
             ],
             [
              0.5555555555555556,
              "#d8576b"
             ],
             [
              0.6666666666666666,
              "#ed7953"
             ],
             [
              0.7777777777777778,
              "#fb9f3a"
             ],
             [
              0.8888888888888888,
              "#fdca26"
             ],
             [
              1,
              "#f0f921"
             ]
            ],
            "type": "surface"
           }
          ],
          "table": [
           {
            "cells": {
             "fill": {
              "color": "#EBF0F8"
             },
             "line": {
              "color": "white"
             }
            },
            "header": {
             "fill": {
              "color": "#C8D4E3"
             },
             "line": {
              "color": "white"
             }
            },
            "type": "table"
           }
          ]
         },
         "layout": {
          "annotationdefaults": {
           "arrowcolor": "#2a3f5f",
           "arrowhead": 0,
           "arrowwidth": 1
          },
          "autotypenumbers": "strict",
          "coloraxis": {
           "colorbar": {
            "outlinewidth": 0,
            "ticks": ""
           }
          },
          "colorscale": {
           "diverging": [
            [
             0,
             "#8e0152"
            ],
            [
             0.1,
             "#c51b7d"
            ],
            [
             0.2,
             "#de77ae"
            ],
            [
             0.3,
             "#f1b6da"
            ],
            [
             0.4,
             "#fde0ef"
            ],
            [
             0.5,
             "#f7f7f7"
            ],
            [
             0.6,
             "#e6f5d0"
            ],
            [
             0.7,
             "#b8e186"
            ],
            [
             0.8,
             "#7fbc41"
            ],
            [
             0.9,
             "#4d9221"
            ],
            [
             1,
             "#276419"
            ]
           ],
           "sequential": [
            [
             0,
             "#0d0887"
            ],
            [
             0.1111111111111111,
             "#46039f"
            ],
            [
             0.2222222222222222,
             "#7201a8"
            ],
            [
             0.3333333333333333,
             "#9c179e"
            ],
            [
             0.4444444444444444,
             "#bd3786"
            ],
            [
             0.5555555555555556,
             "#d8576b"
            ],
            [
             0.6666666666666666,
             "#ed7953"
            ],
            [
             0.7777777777777778,
             "#fb9f3a"
            ],
            [
             0.8888888888888888,
             "#fdca26"
            ],
            [
             1,
             "#f0f921"
            ]
           ],
           "sequentialminus": [
            [
             0,
             "#0d0887"
            ],
            [
             0.1111111111111111,
             "#46039f"
            ],
            [
             0.2222222222222222,
             "#7201a8"
            ],
            [
             0.3333333333333333,
             "#9c179e"
            ],
            [
             0.4444444444444444,
             "#bd3786"
            ],
            [
             0.5555555555555556,
             "#d8576b"
            ],
            [
             0.6666666666666666,
             "#ed7953"
            ],
            [
             0.7777777777777778,
             "#fb9f3a"
            ],
            [
             0.8888888888888888,
             "#fdca26"
            ],
            [
             1,
             "#f0f921"
            ]
           ]
          },
          "colorway": [
           "#636efa",
           "#EF553B",
           "#00cc96",
           "#ab63fa",
           "#FFA15A",
           "#19d3f3",
           "#FF6692",
           "#B6E880",
           "#FF97FF",
           "#FECB52"
          ],
          "font": {
           "color": "#2a3f5f"
          },
          "geo": {
           "bgcolor": "white",
           "lakecolor": "white",
           "landcolor": "#E5ECF6",
           "showlakes": true,
           "showland": true,
           "subunitcolor": "white"
          },
          "hoverlabel": {
           "align": "left"
          },
          "hovermode": "closest",
          "mapbox": {
           "style": "light"
          },
          "paper_bgcolor": "white",
          "plot_bgcolor": "#E5ECF6",
          "polar": {
           "angularaxis": {
            "gridcolor": "white",
            "linecolor": "white",
            "ticks": ""
           },
           "bgcolor": "#E5ECF6",
           "radialaxis": {
            "gridcolor": "white",
            "linecolor": "white",
            "ticks": ""
           }
          },
          "scene": {
           "xaxis": {
            "backgroundcolor": "#E5ECF6",
            "gridcolor": "white",
            "gridwidth": 2,
            "linecolor": "white",
            "showbackground": true,
            "ticks": "",
            "zerolinecolor": "white"
           },
           "yaxis": {
            "backgroundcolor": "#E5ECF6",
            "gridcolor": "white",
            "gridwidth": 2,
            "linecolor": "white",
            "showbackground": true,
            "ticks": "",
            "zerolinecolor": "white"
           },
           "zaxis": {
            "backgroundcolor": "#E5ECF6",
            "gridcolor": "white",
            "gridwidth": 2,
            "linecolor": "white",
            "showbackground": true,
            "ticks": "",
            "zerolinecolor": "white"
           }
          },
          "shapedefaults": {
           "line": {
            "color": "#2a3f5f"
           }
          },
          "ternary": {
           "aaxis": {
            "gridcolor": "white",
            "linecolor": "white",
            "ticks": ""
           },
           "baxis": {
            "gridcolor": "white",
            "linecolor": "white",
            "ticks": ""
           },
           "bgcolor": "#E5ECF6",
           "caxis": {
            "gridcolor": "white",
            "linecolor": "white",
            "ticks": ""
           }
          },
          "title": {
           "x": 0.05
          },
          "xaxis": {
           "automargin": true,
           "gridcolor": "white",
           "linecolor": "white",
           "ticks": "",
           "title": {
            "standoff": 15
           },
           "zerolinecolor": "white",
           "zerolinewidth": 2
          },
          "yaxis": {
           "automargin": true,
           "gridcolor": "white",
           "linecolor": "white",
           "ticks": "",
           "title": {
            "standoff": 15
           },
           "zerolinecolor": "white",
           "zerolinewidth": 2
          }
         }
        }
       }
      }
     },
     "metadata": {},
     "output_type": "display_data"
    }
   ],
   "source": [
    "# import the required module\n",
    "import plotly.express as px\n",
    "\n",
    "# load the iris dataset from the plotly express module\n",
    "df = px.data.iris()\n",
    "\n",
    "# group the data by species, petal width, and sepal width\n",
    "df_sunburst = df.groupby(['species', 'petal_width', 'sepal_width']).size().reset_index(name='counts')\n",
    "\n",
    "# create a sunburst chart using the species, petal width, and sepal width columns of the dataset\n",
    "fig = px.sunburst(df_sunburst, path=['species', 'petal_width', 'sepal_width'], values='counts')\n",
    "\n",
    "# show the plot\n",
    "fig.show()"
   ]
  },
  {
   "cell_type": "markdown",
   "id": "29dfd795",
   "metadata": {},
   "source": [
    "# Animated Plots "
   ]
  },
  {
   "cell_type": "code",
   "execution_count": 43,
   "id": "57c174ed",
   "metadata": {},
   "outputs": [
    {
     "data": {
      "application/vnd.plotly.v1+json": {
       "config": {
        "plotlyServerURL": "https://plot.ly"
       },
       "data": [
        {
         "hovertemplate": "<b>%{hovertext}</b><br><br>continent=Asia<br>year=1952<br>gdpPercap=%{x}<br>lifeExp=%{y}<br>pop=%{marker.size}<extra></extra>",
         "hovertext": [
          "Afghanistan",
          "Bahrain",
          "Bangladesh",
          "Cambodia",
          "China",
          "Hong Kong, China",
          "India",
          "Indonesia",
          "Iran",
          "Iraq",
          "Israel",
          "Japan",
          "Jordan",
          "Korea, Dem. Rep.",
          "Korea, Rep.",
          "Kuwait",
          "Lebanon",
          "Malaysia",
          "Mongolia",
          "Myanmar",
          "Nepal",
          "Oman",
          "Pakistan",
          "Philippines",
          "Saudi Arabia",
          "Singapore",
          "Sri Lanka",
          "Syria",
          "Taiwan",
          "Thailand",
          "Vietnam",
          "West Bank and Gaza",
          "Yemen, Rep."
         ],
         "ids": [
          "Afghanistan",
          "Bahrain",
          "Bangladesh",
          "Cambodia",
          "China",
          "Hong Kong, China",
          "India",
          "Indonesia",
          "Iran",
          "Iraq",
          "Israel",
          "Japan",
          "Jordan",
          "Korea, Dem. Rep.",
          "Korea, Rep.",
          "Kuwait",
          "Lebanon",
          "Malaysia",
          "Mongolia",
          "Myanmar",
          "Nepal",
          "Oman",
          "Pakistan",
          "Philippines",
          "Saudi Arabia",
          "Singapore",
          "Sri Lanka",
          "Syria",
          "Taiwan",
          "Thailand",
          "Vietnam",
          "West Bank and Gaza",
          "Yemen, Rep."
         ],
         "legendgroup": "Asia",
         "marker": {
          "color": "#636efa",
          "size": {
           "bdata": "dY+AAH/WAQDLb8sCTJ9HAGfoJyFMcCAAAEUsFqAD5ATAjAcB5ghTALK7GACRQicFqkYJANBGhwBzoj8BAHECACn3FQDa+GYAlzcMAESYMgFIHYwAub8HAADmdgIjY1YBLR89AFgyEQAGzXkA7d43ANp3ggC62UQBt36QAbm5DwD1vUsA",
           "dtype": "i4"
          },
          "sizemode": "area",
          "sizeref": 435928.2961983471,
          "symbol": "circle"
         },
         "mode": "markers",
         "name": "Asia",
         "orientation": "v",
         "showlegend": true,
         "type": "scatter",
         "x": {
          "bdata": "em8MAZBbiEBsW5TZikXDQOVkPRD0YYVAvQeeMYIHd0AEWrqCLQd5QJC/tKjX3KdA4amRp4YUgUBYsVMHdG2HQNzwu+mmtqdA6Po+HMQhsECneFxUC+2vQEFhUKbpIalAUoAomKErmEDP2JdsHAGRQF0XfnBeGpBAbHh6peV1+kDLvFXXzeKyQFdfXRWInJxA8L+V7IiUiEAAAAAAALB0QC63IADtDoFAKSSZ1euQnEARIFTzxmSFQMKjjSOG45NAElDhCI47uUDZeLDFRhaiQPfpeMwg7pBA7pOjAPGtmUDQmbSpytuSQAP2hxxhrodApefMLIjogkDiTX6LXq6XQCHPiZi9bYhA",
          "dtype": "f8"
         },
         "xaxis": "x",
         "y": {
          "bdata": "kxgEVg7NPEDUeOkmMXhJQMuhRbbzvUJATDeJQWC1Q0AAAAAAAABGQHsUrkfhek5AO7TIdr6vQkCWQ4ts57tCQKwcWmQ7b0ZAKVyPwvWoRkApXI/C9VhQQKRwPQrXg09ATmIQWDmURUC6SQwCKwdJQESLbOf7uUdAuB6F61HIS0AQWDm0yPZLQCUGgZVDO0hArBxaZDsfRUBGtvP91ChCQGq8dJMYFEJARIts5/vJQkAshxbZzrdFQMdLN4lB4EdAAAAAAADwQ0Cmm8QgsDJOQJZDi2zny0xAGy/dJAbxRkAAAAAAAEBNQAaBlUOLbElA2/l+arw0REAUrkfhepRFQKAaL90kRkBA",
          "dtype": "f8"
         },
         "yaxis": "y"
        },
        {
         "hovertemplate": "<b>%{hovertext}</b><br><br>continent=Europe<br>year=1952<br>gdpPercap=%{x}<br>lifeExp=%{y}<br>pop=%{marker.size}<extra></extra>",
         "hovertext": [
          "Albania",
          "Austria",
          "Belgium",
          "Bosnia and Herzegovina",
          "Bulgaria",
          "Croatia",
          "Czech Republic",
          "Denmark",
          "Finland",
          "France",
          "Germany",
          "Greece",
          "Hungary",
          "Iceland",
          "Ireland",
          "Italy",
          "Montenegro",
          "Netherlands",
          "Norway",
          "Poland",
          "Portugal",
          "Romania",
          "Serbia",
          "Slovak Republic",
          "Slovenia",
          "Spain",
          "Sweden",
          "Switzerland",
          "Turkey",
          "United Kingdom"
         ],
         "ids": [
          "Albania",
          "Austria",
          "Belgium",
          "Bosnia and Herzegovina",
          "Bulgaria",
          "Croatia",
          "Czech Republic",
          "Denmark",
          "Finland",
          "France",
          "Germany",
          "Greece",
          "Hungary",
          "Iceland",
          "Ireland",
          "Italy",
          "Montenegro",
          "Netherlands",
          "Norway",
          "Poland",
          "Portugal",
          "Romania",
          "Serbia",
          "Slovak Republic",
          "Slovenia",
          "Spain",
          "Sweden",
          "Switzerland",
          "Turkey",
          "United Kingdom"
         ],
         "legendgroup": "Europe",
         "marker": {
          "color": "#EF553B",
          "size": {
           "bdata": "iZITAJy1aQAlN4UAWJYqAJQBbwD1PDsAPz2LALAhQgCEaj4AE+KHAmAVHwQCAHYAAAWRAPpBAgDcCy0AUFPXAopQBgCkap4A8MYyAPediAHiGIIA8MD9AHOtaAD5SjYAbroWAO6iswHBtmwAmHhJAB1KUwEwgAED",
           "dtype": "i4"
          },
          "sizemode": "area",
          "sizeref": 435928.2961983471,
          "symbol": "circle"
         },
         "mode": "markers",
         "name": "Europe",
         "orientation": "v",
         "showlegend": true,
         "type": "scatter",
         "x": {
          "bdata": "gzC3ezkEmUBozvqUE/m3QHYxzXSNS8BALqOi+0NsjkDt0obDkhijQLNBJhl5XqhARIts5yPcukD5SbVPMe7CQE1J1uGEGLlAxeQNMM91u0DmEdxIHei7QBk6dlBhlatAhpM0f6yPtECnQdE8sGO8QCdok8NHWrRAgruzdmdDs0AD7+TTK6+kQPqXpDLJdsFACcTr+rW3w0AMrU7OqHqvQCSAm8Wj+KdAu/CD8zmRqEBtrMQ86/qrQKosCruo0rNA58WJrwp3sECYE7TJEfStQBdp4h3sp8BAEoPAyh3HzEAzFk1nZ8SeQLgdGhbBfcNA",
          "dtype": "f8"
         },
         "xaxis": "x",
         "y": {
          "bdata": "PQrXo3CdS0AzMzMzM7NQQAAAAAAAAFFAKVyPwvXoSkDNzMzMzMxNQHsUrkfhmk5ASOF6FK63UEBSuB6F67FRQDMzMzMzo1BACtejcD3aUEAAAAAAAOBQQNejcD0Kd1BAUrgehesBUECPwvUoXB9SQArXo3A9ulBAXI/C9Sh8UECiRbbz/ZRNQLgehetRCFJAexSuR+EqUkBI4XoUrqdOQClcj8L16E1AZmZmZmaGTkBzaJHtfP9MQNejcD0KF1BAFK5H4XpkUEBcj8L1KDxQQNejcD0K91FASOF6FK5nUUB7FK5H4cpFQOxRuB6FS1FA",
          "dtype": "f8"
         },
         "yaxis": "y"
        },
        {
         "hovertemplate": "<b>%{hovertext}</b><br><br>continent=Africa<br>year=1952<br>gdpPercap=%{x}<br>lifeExp=%{y}<br>pop=%{marker.size}<extra></extra>",
         "hovertext": [
          "Algeria",
          "Angola",
          "Benin",
          "Botswana",
          "Burkina Faso",
          "Burundi",
          "Cameroon",
          "Central African Republic",
          "Chad",
          "Comoros",
          "Congo, Dem. Rep.",
          "Congo, Rep.",
          "Cote d'Ivoire",
          "Djibouti",
          "Egypt",
          "Equatorial Guinea",
          "Eritrea",
          "Ethiopia",
          "Gabon",
          "Gambia",
          "Ghana",
          "Guinea",
          "Guinea-Bissau",
          "Kenya",
          "Lesotho",
          "Liberia",
          "Libya",
          "Madagascar",
          "Malawi",
          "Mali",
          "Mauritania",
          "Mauritius",
          "Morocco",
          "Mozambique",
          "Namibia",
          "Niger",
          "Nigeria",
          "Reunion",
          "Rwanda",
          "Sao Tome and Principe",
          "Senegal",
          "Sierra Leone",
          "Somalia",
          "South Africa",
          "Sudan",
          "Swaziland",
          "Tanzania",
          "Togo",
          "Tunisia",
          "Uganda",
          "Zambia",
          "Zimbabwe"
         ],
         "ids": [
          "Algeria",
          "Angola",
          "Benin",
          "Botswana",
          "Burkina Faso",
          "Burundi",
          "Cameroon",
          "Central African Republic",
          "Chad",
          "Comoros",
          "Congo, Dem. Rep.",
          "Congo, Rep.",
          "Cote d'Ivoire",
          "Djibouti",
          "Egypt",
          "Equatorial Guinea",
          "Eritrea",
          "Ethiopia",
          "Gabon",
          "Gambia",
          "Ghana",
          "Guinea",
          "Guinea-Bissau",
          "Kenya",
          "Lesotho",
          "Liberia",
          "Libya",
          "Madagascar",
          "Malawi",
          "Mali",
          "Mauritania",
          "Mauritius",
          "Morocco",
          "Mozambique",
          "Namibia",
          "Niger",
          "Nigeria",
          "Reunion",
          "Rwanda",
          "Sao Tome and Principe",
          "Senegal",
          "Sierra Leone",
          "Somalia",
          "South Africa",
          "Sudan",
          "Swaziland",
          "Tanzania",
          "Togo",
          "Tunisia",
          "Uganda",
          "Zambia",
          "Zimbabwe"
         ],
         "legendgroup": "Africa",
         "marker": {
          "color": "#00cc96",
          "size": {
           "bdata": "JZiNAJ+TQABLhhoAxL8GANs0RAAyUSUAq25MAK+1EwBe7igAUFkCACUm1wBlCw0A+2wtAK32AADNGVMBhE8DACj0FQANUD4BXmsGAKBWBADJKFUAOacoAC3cCAAuomIAy2wLAEwsDQBRjw8AIK1IAKqFLADYkDoAXJoPAMzhBwARqZcA7FxiAMdpBwAMkTMAeFv5AaTuAwAPriYAa+oAAAUMKgARtCAAEo8mAGeq2QBbxYEAw20EAG3/fgApmhIA96g3AB3hWACAxSgAywIvAA==",
           "dtype": "i4"
          },
          "sizemode": "area",
          "sizeref": 435928.2961983471,
          "symbol": "circle"
         },
         "mode": "markers",
         "name": "Africa",
         "orientation": "v",
         "showlegend": true,
         "type": "scatter",
         "x": {
          "bdata": "owbTMAQio0BD4bN1OIGrQDSAt0ACm5BA4OEs2+2ZikC1YPO7CvqAQNZReku+NHVAC5jAratSkkDFdYwrPr2QQBh6xOipapJAt0Htt/Y7kUA+StuuVmSIQEsGgCo+m6BAiudsAWGylUAZ4lgXD9ukQAmnBS9KK5ZA1pxyO0p6d0BWCJqFDI90QCchRylXonZAXf5D+nnFsEBmsJjHsFN+QH1gIjlkeoxAqSYc1STjf0Cughjomr1yQEY2V81TrIpArO+yFYqtckDksfp+lfyBQH4AUpsYp6JAflcE/wuMlkB5wyIrpBJ3QCLe30VkRXxAUJYQYu04h0A8Ftuk0r+eQMlxp3TQYJpAMz/tpmpIfUDJkjmWj++iQBnHSPYIz4dAuvjbniDVkECg4GJFxT2lQMT/wpcu1X5AXOffLqt8i0DpmPOMbamWQBtXbUhNfotAq8yU1v++kUD2a+unS3WyQHhEher2P5lASwM/qoHxkUBWTABZM2WGQIgBASF43opA2xfQC+fxlkB5kJ4iB/aGQK+ytimO7ZFAjn6PVSVueUA=",
          "dtype": "f8"
         },
         "xaxis": "x",
         "y": {
          "bdata": "YOXQItuJRUCkcD0K1wM+QAaBlUOLHENAVg4tsp3PR0CamZmZmfk/QIcW2c73g0NAbef7qfFCQ0AlBoGVQ7tBQLKd76fGC0NA7FG4HoVbRED8qfHSTZJDQJHtfD81DkVAkxgEVg49REAOLbKd72dBQPyp8dJN8kRABFYOLbI9QUASWDm0yPZBQESLbOf7CUFAqvHSTWKAQkAAAAAAAAA+QFCNl24Sk0VAy6FFtvPNQEAAAAAAAEBAQMP1KFyPIkVAjWzn+6kRRUA9CtejcD1DQAaBlUOLXEVAukkMAitXQkBU46WbxCBCQEjhehSu10BAL90kBoFFRECR7Xw/NX5JQDu0yHa+b0VA8KfGSzdJP0DNzMzMzNxEQEa28/3UuEJAtvP91HgpQkDpJjEIrFxKQAAAAAAAAERAPzVeukk8R0DdJAaBlaNCQNv5fmq8VD5Ad76fGi99QED91HjpJoFGQOF6FK5HUUNAarx0kxi0REDsUbgehZtEQD81XrpJTENAzczMzMxMRkB3vp8aL/1DQL6fGi/dBEVAfT81Xro5SEA=",
          "dtype": "f8"
         },
         "yaxis": "y"
        },
        {
         "hovertemplate": "<b>%{hovertext}</b><br><br>continent=Americas<br>year=1952<br>gdpPercap=%{x}<br>lifeExp=%{y}<br>pop=%{marker.size}<extra></extra>",
         "hovertext": [
          "Argentina",
          "Bolivia",
          "Brazil",
          "Canada",
          "Chile",
          "Colombia",
          "Costa Rica",
          "Cuba",
          "Dominican Republic",
          "Ecuador",
          "El Salvador",
          "Guatemala",
          "Haiti",
          "Honduras",
          "Jamaica",
          "Mexico",
          "Nicaragua",
          "Panama",
          "Paraguay",
          "Peru",
          "Puerto Rico",
          "Trinidad and Tobago",
          "United States",
          "Uruguay",
          "Venezuela"
         ],
         "ids": [
          "Argentina",
          "Bolivia",
          "Brazil",
          "Canada",
          "Chile",
          "Colombia",
          "Costa Rica",
          "Cuba",
          "Dominican Republic",
          "Ecuador",
          "El Salvador",
          "Guatemala",
          "Haiti",
          "Honduras",
          "Jamaica",
          "Mexico",
          "Nicaragua",
          "Panama",
          "Paraguay",
          "Peru",
          "Puerto Rico",
          "Trinidad and Tobago",
          "United States",
          "Uruguay",
          "Venezuela"
         ],
         "legendgroup": "Americas",
         "marker": {
          "color": "#ab63fa",
          "size": {
           "bdata": "3McQAfP+KwDAr18DMJzhAJNQYQAzdbwAbSIOAPWrWwDSAyYAUSY2APErHwCNAjAA0NkwAI0nFwCvwhUAPffLAd7JEQAwWA4ApL0XAGR2egA4+yEAQh0KAGgRZAmlYCIAUABTAA==",
           "dtype": "i4"
          },
          "sizemode": "area",
          "sizeref": 435928.2961983471,
          "symbol": "circle"
         },
         "mode": "markers",
         "name": "Americas",
         "orientation": "v",
         "showlegend": true,
         "type": "scatter",
         "x": {
          "bdata": "gjtQp1AXt0BMOPQWp+qkQKGhf4LjeaBAXoWUn5QzxkBe8dQj9ceuQM3n3O06wKBAhwZi2QSGpEC9b3ztidK1QAJnKVne1pVAOQzmrziEq0Drc7UVm9CnQAO+27x5+KJAgnLbvnfBnEDZImk32iWhQCNqos8PpaZAZktWRUAsq0DkamRXulCoQB1XI7vCYKNA+GwdHDyBnkAIOe//C12tQGKE8GjrE6hAvJUlOouep0AIJcy0PVPLQGe0VUnEVLZAngsjvcwJvkA=",
          "dtype": "f8"
         },
         "xaxis": "x",
         "y": {
          "bdata": "rkfhehQ+T0CiRbbz/TREQEw3iUFgdUlAAAAAAAAwUUCPwvUoXF9LQPyp8dJNUklA7nw/NV6aTEDazvdT47VNQBBYObTI9kZABFYOLbItSECoxks3iaFGQG3n+6nxAkVAJzEIrBzKQkDb+X5qvPREQKRwPQrXQ01AokW28/1kSUDUeOkmMShFQJzEILBymEtAUI2XbhJTT0D6fmq8dPNFQFK4HoXrEVBAzczMzMyMTUBcj8L1KBxRQAaBlUOLhFBAJQaBlUOLS0A=",
          "dtype": "f8"
         },
         "yaxis": "y"
        },
        {
         "hovertemplate": "<b>%{hovertext}</b><br><br>continent=Oceania<br>year=1952<br>gdpPercap=%{x}<br>lifeExp=%{y}<br>pop=%{marker.size}<extra></extra>",
         "hovertext": [
          "Australia",
          "New Zealand"
         ],
         "ids": [
          "Australia",
          "New Zealand"
         ],
         "legendgroup": "Oceania",
         "marker": {
          "color": "#FFA15A",
          "size": {
           "bdata": "DJ6EACpwHgA=",
           "dtype": "i4"
          },
          "sizemode": "area",
          "sizeref": 435928.2961983471,
          "symbol": "circle"
         },
         "mode": "markers",
         "name": "Oceania",
         "orientation": "v",
         "showlegend": true,
         "type": "scatter",
         "x": {
          "bdata": "GHjuPcybw0DPFDqvSZ7EQA==",
          "dtype": "f8"
         },
         "xaxis": "x",
         "y": {
          "bdata": "SOF6FK5HUUApXI/C9VhRQA==",
          "dtype": "f8"
         },
         "yaxis": "y"
        }
       ],
       "frames": [
        {
         "data": [
          {
           "hovertemplate": "<b>%{hovertext}</b><br><br>continent=Asia<br>year=1952<br>gdpPercap=%{x}<br>lifeExp=%{y}<br>pop=%{marker.size}<extra></extra>",
           "hovertext": [
            "Afghanistan",
            "Bahrain",
            "Bangladesh",
            "Cambodia",
            "China",
            "Hong Kong, China",
            "India",
            "Indonesia",
            "Iran",
            "Iraq",
            "Israel",
            "Japan",
            "Jordan",
            "Korea, Dem. Rep.",
            "Korea, Rep.",
            "Kuwait",
            "Lebanon",
            "Malaysia",
            "Mongolia",
            "Myanmar",
            "Nepal",
            "Oman",
            "Pakistan",
            "Philippines",
            "Saudi Arabia",
            "Singapore",
            "Sri Lanka",
            "Syria",
            "Taiwan",
            "Thailand",
            "Vietnam",
            "West Bank and Gaza",
            "Yemen, Rep."
           ],
           "ids": [
            "Afghanistan",
            "Bahrain",
            "Bangladesh",
            "Cambodia",
            "China",
            "Hong Kong, China",
            "India",
            "Indonesia",
            "Iran",
            "Iraq",
            "Israel",
            "Japan",
            "Jordan",
            "Korea, Dem. Rep.",
            "Korea, Rep.",
            "Kuwait",
            "Lebanon",
            "Malaysia",
            "Mongolia",
            "Myanmar",
            "Nepal",
            "Oman",
            "Pakistan",
            "Philippines",
            "Saudi Arabia",
            "Singapore",
            "Sri Lanka",
            "Syria",
            "Taiwan",
            "Thailand",
            "Vietnam",
            "West Bank and Gaza",
            "Yemen, Rep."
           ],
           "legendgroup": "Asia",
           "marker": {
            "color": "#636efa",
            "size": {
             "bdata": "dY+AAH/WAQDLb8sCTJ9HAGfoJyFMcCAAAEUsFqAD5ATAjAcB5ghTALK7GACRQicFqkYJANBGhwBzoj8BAHECACn3FQDa+GYAlzcMAESYMgFIHYwAub8HAADmdgIjY1YBLR89AFgyEQAGzXkA7d43ANp3ggC62UQBt36QAbm5DwD1vUsA",
             "dtype": "i4"
            },
            "sizemode": "area",
            "sizeref": 435928.2961983471,
            "symbol": "circle"
           },
           "mode": "markers",
           "name": "Asia",
           "orientation": "v",
           "showlegend": true,
           "type": "scatter",
           "x": {
            "bdata": "em8MAZBbiEBsW5TZikXDQOVkPRD0YYVAvQeeMYIHd0AEWrqCLQd5QJC/tKjX3KdA4amRp4YUgUBYsVMHdG2HQNzwu+mmtqdA6Po+HMQhsECneFxUC+2vQEFhUKbpIalAUoAomKErmEDP2JdsHAGRQF0XfnBeGpBAbHh6peV1+kDLvFXXzeKyQFdfXRWInJxA8L+V7IiUiEAAAAAAALB0QC63IADtDoFAKSSZ1euQnEARIFTzxmSFQMKjjSOG45NAElDhCI47uUDZeLDFRhaiQPfpeMwg7pBA7pOjAPGtmUDQmbSpytuSQAP2hxxhrodApefMLIjogkDiTX6LXq6XQCHPiZi9bYhA",
            "dtype": "f8"
           },
           "xaxis": "x",
           "y": {
            "bdata": "kxgEVg7NPEDUeOkmMXhJQMuhRbbzvUJATDeJQWC1Q0AAAAAAAABGQHsUrkfhek5AO7TIdr6vQkCWQ4ts57tCQKwcWmQ7b0ZAKVyPwvWoRkApXI/C9VhQQKRwPQrXg09ATmIQWDmURUC6SQwCKwdJQESLbOf7uUdAuB6F61HIS0AQWDm0yPZLQCUGgZVDO0hArBxaZDsfRUBGtvP91ChCQGq8dJMYFEJARIts5/vJQkAshxbZzrdFQMdLN4lB4EdAAAAAAADwQ0Cmm8QgsDJOQJZDi2zny0xAGy/dJAbxRkAAAAAAAEBNQAaBlUOLbElA2/l+arw0REAUrkfhepRFQKAaL90kRkBA",
            "dtype": "f8"
           },
           "yaxis": "y"
          },
          {
           "hovertemplate": "<b>%{hovertext}</b><br><br>continent=Europe<br>year=1952<br>gdpPercap=%{x}<br>lifeExp=%{y}<br>pop=%{marker.size}<extra></extra>",
           "hovertext": [
            "Albania",
            "Austria",
            "Belgium",
            "Bosnia and Herzegovina",
            "Bulgaria",
            "Croatia",
            "Czech Republic",
            "Denmark",
            "Finland",
            "France",
            "Germany",
            "Greece",
            "Hungary",
            "Iceland",
            "Ireland",
            "Italy",
            "Montenegro",
            "Netherlands",
            "Norway",
            "Poland",
            "Portugal",
            "Romania",
            "Serbia",
            "Slovak Republic",
            "Slovenia",
            "Spain",
            "Sweden",
            "Switzerland",
            "Turkey",
            "United Kingdom"
           ],
           "ids": [
            "Albania",
            "Austria",
            "Belgium",
            "Bosnia and Herzegovina",
            "Bulgaria",
            "Croatia",
            "Czech Republic",
            "Denmark",
            "Finland",
            "France",
            "Germany",
            "Greece",
            "Hungary",
            "Iceland",
            "Ireland",
            "Italy",
            "Montenegro",
            "Netherlands",
            "Norway",
            "Poland",
            "Portugal",
            "Romania",
            "Serbia",
            "Slovak Republic",
            "Slovenia",
            "Spain",
            "Sweden",
            "Switzerland",
            "Turkey",
            "United Kingdom"
           ],
           "legendgroup": "Europe",
           "marker": {
            "color": "#EF553B",
            "size": {
             "bdata": "iZITAJy1aQAlN4UAWJYqAJQBbwD1PDsAPz2LALAhQgCEaj4AE+KHAmAVHwQCAHYAAAWRAPpBAgDcCy0AUFPXAopQBgCkap4A8MYyAPediAHiGIIA8MD9AHOtaAD5SjYAbroWAO6iswHBtmwAmHhJAB1KUwEwgAED",
             "dtype": "i4"
            },
            "sizemode": "area",
            "sizeref": 435928.2961983471,
            "symbol": "circle"
           },
           "mode": "markers",
           "name": "Europe",
           "orientation": "v",
           "showlegend": true,
           "type": "scatter",
           "x": {
            "bdata": "gzC3ezkEmUBozvqUE/m3QHYxzXSNS8BALqOi+0NsjkDt0obDkhijQLNBJhl5XqhARIts5yPcukD5SbVPMe7CQE1J1uGEGLlAxeQNMM91u0DmEdxIHei7QBk6dlBhlatAhpM0f6yPtECnQdE8sGO8QCdok8NHWrRAgruzdmdDs0AD7+TTK6+kQPqXpDLJdsFACcTr+rW3w0AMrU7OqHqvQCSAm8Wj+KdAu/CD8zmRqEBtrMQ86/qrQKosCruo0rNA58WJrwp3sECYE7TJEfStQBdp4h3sp8BAEoPAyh3HzEAzFk1nZ8SeQLgdGhbBfcNA",
            "dtype": "f8"
           },
           "xaxis": "x",
           "y": {
            "bdata": "PQrXo3CdS0AzMzMzM7NQQAAAAAAAAFFAKVyPwvXoSkDNzMzMzMxNQHsUrkfhmk5ASOF6FK63UEBSuB6F67FRQDMzMzMzo1BACtejcD3aUEAAAAAAAOBQQNejcD0Kd1BAUrgehesBUECPwvUoXB9SQArXo3A9ulBAXI/C9Sh8UECiRbbz/ZRNQLgehetRCFJAexSuR+EqUkBI4XoUrqdOQClcj8L16E1AZmZmZmaGTkBzaJHtfP9MQNejcD0KF1BAFK5H4XpkUEBcj8L1KDxQQNejcD0K91FASOF6FK5nUUB7FK5H4cpFQOxRuB6FS1FA",
            "dtype": "f8"
           },
           "yaxis": "y"
          },
          {
           "hovertemplate": "<b>%{hovertext}</b><br><br>continent=Africa<br>year=1952<br>gdpPercap=%{x}<br>lifeExp=%{y}<br>pop=%{marker.size}<extra></extra>",
           "hovertext": [
            "Algeria",
            "Angola",
            "Benin",
            "Botswana",
            "Burkina Faso",
            "Burundi",
            "Cameroon",
            "Central African Republic",
            "Chad",
            "Comoros",
            "Congo, Dem. Rep.",
            "Congo, Rep.",
            "Cote d'Ivoire",
            "Djibouti",
            "Egypt",
            "Equatorial Guinea",
            "Eritrea",
            "Ethiopia",
            "Gabon",
            "Gambia",
            "Ghana",
            "Guinea",
            "Guinea-Bissau",
            "Kenya",
            "Lesotho",
            "Liberia",
            "Libya",
            "Madagascar",
            "Malawi",
            "Mali",
            "Mauritania",
            "Mauritius",
            "Morocco",
            "Mozambique",
            "Namibia",
            "Niger",
            "Nigeria",
            "Reunion",
            "Rwanda",
            "Sao Tome and Principe",
            "Senegal",
            "Sierra Leone",
            "Somalia",
            "South Africa",
            "Sudan",
            "Swaziland",
            "Tanzania",
            "Togo",
            "Tunisia",
            "Uganda",
            "Zambia",
            "Zimbabwe"
           ],
           "ids": [
            "Algeria",
            "Angola",
            "Benin",
            "Botswana",
            "Burkina Faso",
            "Burundi",
            "Cameroon",
            "Central African Republic",
            "Chad",
            "Comoros",
            "Congo, Dem. Rep.",
            "Congo, Rep.",
            "Cote d'Ivoire",
            "Djibouti",
            "Egypt",
            "Equatorial Guinea",
            "Eritrea",
            "Ethiopia",
            "Gabon",
            "Gambia",
            "Ghana",
            "Guinea",
            "Guinea-Bissau",
            "Kenya",
            "Lesotho",
            "Liberia",
            "Libya",
            "Madagascar",
            "Malawi",
            "Mali",
            "Mauritania",
            "Mauritius",
            "Morocco",
            "Mozambique",
            "Namibia",
            "Niger",
            "Nigeria",
            "Reunion",
            "Rwanda",
            "Sao Tome and Principe",
            "Senegal",
            "Sierra Leone",
            "Somalia",
            "South Africa",
            "Sudan",
            "Swaziland",
            "Tanzania",
            "Togo",
            "Tunisia",
            "Uganda",
            "Zambia",
            "Zimbabwe"
           ],
           "legendgroup": "Africa",
           "marker": {
            "color": "#00cc96",
            "size": {
             "bdata": "JZiNAJ+TQABLhhoAxL8GANs0RAAyUSUAq25MAK+1EwBe7igAUFkCACUm1wBlCw0A+2wtAK32AADNGVMBhE8DACj0FQANUD4BXmsGAKBWBADJKFUAOacoAC3cCAAuomIAy2wLAEwsDQBRjw8AIK1IAKqFLADYkDoAXJoPAMzhBwARqZcA7FxiAMdpBwAMkTMAeFv5AaTuAwAPriYAa+oAAAUMKgARtCAAEo8mAGeq2QBbxYEAw20EAG3/fgApmhIA96g3AB3hWACAxSgAywIvAA==",
             "dtype": "i4"
            },
            "sizemode": "area",
            "sizeref": 435928.2961983471,
            "symbol": "circle"
           },
           "mode": "markers",
           "name": "Africa",
           "orientation": "v",
           "showlegend": true,
           "type": "scatter",
           "x": {
            "bdata": "owbTMAQio0BD4bN1OIGrQDSAt0ACm5BA4OEs2+2ZikC1YPO7CvqAQNZReku+NHVAC5jAratSkkDFdYwrPr2QQBh6xOipapJAt0Htt/Y7kUA+StuuVmSIQEsGgCo+m6BAiudsAWGylUAZ4lgXD9ukQAmnBS9KK5ZA1pxyO0p6d0BWCJqFDI90QCchRylXonZAXf5D+nnFsEBmsJjHsFN+QH1gIjlkeoxAqSYc1STjf0Cughjomr1yQEY2V81TrIpArO+yFYqtckDksfp+lfyBQH4AUpsYp6JAflcE/wuMlkB5wyIrpBJ3QCLe30VkRXxAUJYQYu04h0A8Ftuk0r+eQMlxp3TQYJpAMz/tpmpIfUDJkjmWj++iQBnHSPYIz4dAuvjbniDVkECg4GJFxT2lQMT/wpcu1X5AXOffLqt8i0DpmPOMbamWQBtXbUhNfotAq8yU1v++kUD2a+unS3WyQHhEher2P5lASwM/qoHxkUBWTABZM2WGQIgBASF43opA2xfQC+fxlkB5kJ4iB/aGQK+ytimO7ZFAjn6PVSVueUA=",
            "dtype": "f8"
           },
           "xaxis": "x",
           "y": {
            "bdata": "YOXQItuJRUCkcD0K1wM+QAaBlUOLHENAVg4tsp3PR0CamZmZmfk/QIcW2c73g0NAbef7qfFCQ0AlBoGVQ7tBQLKd76fGC0NA7FG4HoVbRED8qfHSTZJDQJHtfD81DkVAkxgEVg49REAOLbKd72dBQPyp8dJN8kRABFYOLbI9QUASWDm0yPZBQESLbOf7CUFAqvHSTWKAQkAAAAAAAAA+QFCNl24Sk0VAy6FFtvPNQEAAAAAAAEBAQMP1KFyPIkVAjWzn+6kRRUA9CtejcD1DQAaBlUOLXEVAukkMAitXQkBU46WbxCBCQEjhehSu10BAL90kBoFFRECR7Xw/NX5JQDu0yHa+b0VA8KfGSzdJP0DNzMzMzNxEQEa28/3UuEJAtvP91HgpQkDpJjEIrFxKQAAAAAAAAERAPzVeukk8R0DdJAaBlaNCQNv5fmq8VD5Ad76fGi99QED91HjpJoFGQOF6FK5HUUNAarx0kxi0REDsUbgehZtEQD81XrpJTENAzczMzMxMRkB3vp8aL/1DQL6fGi/dBEVAfT81Xro5SEA=",
            "dtype": "f8"
           },
           "yaxis": "y"
          },
          {
           "hovertemplate": "<b>%{hovertext}</b><br><br>continent=Americas<br>year=1952<br>gdpPercap=%{x}<br>lifeExp=%{y}<br>pop=%{marker.size}<extra></extra>",
           "hovertext": [
            "Argentina",
            "Bolivia",
            "Brazil",
            "Canada",
            "Chile",
            "Colombia",
            "Costa Rica",
            "Cuba",
            "Dominican Republic",
            "Ecuador",
            "El Salvador",
            "Guatemala",
            "Haiti",
            "Honduras",
            "Jamaica",
            "Mexico",
            "Nicaragua",
            "Panama",
            "Paraguay",
            "Peru",
            "Puerto Rico",
            "Trinidad and Tobago",
            "United States",
            "Uruguay",
            "Venezuela"
           ],
           "ids": [
            "Argentina",
            "Bolivia",
            "Brazil",
            "Canada",
            "Chile",
            "Colombia",
            "Costa Rica",
            "Cuba",
            "Dominican Republic",
            "Ecuador",
            "El Salvador",
            "Guatemala",
            "Haiti",
            "Honduras",
            "Jamaica",
            "Mexico",
            "Nicaragua",
            "Panama",
            "Paraguay",
            "Peru",
            "Puerto Rico",
            "Trinidad and Tobago",
            "United States",
            "Uruguay",
            "Venezuela"
           ],
           "legendgroup": "Americas",
           "marker": {
            "color": "#ab63fa",
            "size": {
             "bdata": "3McQAfP+KwDAr18DMJzhAJNQYQAzdbwAbSIOAPWrWwDSAyYAUSY2APErHwCNAjAA0NkwAI0nFwCvwhUAPffLAd7JEQAwWA4ApL0XAGR2egA4+yEAQh0KAGgRZAmlYCIAUABTAA==",
             "dtype": "i4"
            },
            "sizemode": "area",
            "sizeref": 435928.2961983471,
            "symbol": "circle"
           },
           "mode": "markers",
           "name": "Americas",
           "orientation": "v",
           "showlegend": true,
           "type": "scatter",
           "x": {
            "bdata": "gjtQp1AXt0BMOPQWp+qkQKGhf4LjeaBAXoWUn5QzxkBe8dQj9ceuQM3n3O06wKBAhwZi2QSGpEC9b3ztidK1QAJnKVne1pVAOQzmrziEq0Drc7UVm9CnQAO+27x5+KJAgnLbvnfBnEDZImk32iWhQCNqos8PpaZAZktWRUAsq0DkamRXulCoQB1XI7vCYKNA+GwdHDyBnkAIOe//C12tQGKE8GjrE6hAvJUlOouep0AIJcy0PVPLQGe0VUnEVLZAngsjvcwJvkA=",
            "dtype": "f8"
           },
           "xaxis": "x",
           "y": {
            "bdata": "rkfhehQ+T0CiRbbz/TREQEw3iUFgdUlAAAAAAAAwUUCPwvUoXF9LQPyp8dJNUklA7nw/NV6aTEDazvdT47VNQBBYObTI9kZABFYOLbItSECoxks3iaFGQG3n+6nxAkVAJzEIrBzKQkDb+X5qvPREQKRwPQrXQ01AokW28/1kSUDUeOkmMShFQJzEILBymEtAUI2XbhJTT0D6fmq8dPNFQFK4HoXrEVBAzczMzMyMTUBcj8L1KBxRQAaBlUOLhFBAJQaBlUOLS0A=",
            "dtype": "f8"
           },
           "yaxis": "y"
          },
          {
           "hovertemplate": "<b>%{hovertext}</b><br><br>continent=Oceania<br>year=1952<br>gdpPercap=%{x}<br>lifeExp=%{y}<br>pop=%{marker.size}<extra></extra>",
           "hovertext": [
            "Australia",
            "New Zealand"
           ],
           "ids": [
            "Australia",
            "New Zealand"
           ],
           "legendgroup": "Oceania",
           "marker": {
            "color": "#FFA15A",
            "size": {
             "bdata": "DJ6EACpwHgA=",
             "dtype": "i4"
            },
            "sizemode": "area",
            "sizeref": 435928.2961983471,
            "symbol": "circle"
           },
           "mode": "markers",
           "name": "Oceania",
           "orientation": "v",
           "showlegend": true,
           "type": "scatter",
           "x": {
            "bdata": "GHjuPcybw0DPFDqvSZ7EQA==",
            "dtype": "f8"
           },
           "xaxis": "x",
           "y": {
            "bdata": "SOF6FK5HUUApXI/C9VhRQA==",
            "dtype": "f8"
           },
           "yaxis": "y"
          }
         ],
         "name": "1952"
        },
        {
         "data": [
          {
           "hovertemplate": "<b>%{hovertext}</b><br><br>continent=Asia<br>year=1957<br>gdpPercap=%{x}<br>lifeExp=%{y}<br>pop=%{marker.size}<extra></extra>",
           "hovertext": [
            "Afghanistan",
            "Bahrain",
            "Bangladesh",
            "Cambodia",
            "China",
            "Hong Kong, China",
            "India",
            "Indonesia",
            "Iran",
            "Iraq",
            "Israel",
            "Japan",
            "Jordan",
            "Korea, Dem. Rep.",
            "Korea, Rep.",
            "Kuwait",
            "Lebanon",
            "Malaysia",
            "Mongolia",
            "Myanmar",
            "Nepal",
            "Oman",
            "Pakistan",
            "Philippines",
            "Saudi Arabia",
            "Singapore",
            "Sri Lanka",
            "Syria",
            "Taiwan",
            "Thailand",
            "Vietnam",
            "West Bank and Gaza",
            "Yemen, Rep."
           ],
           "ids": [
            "Afghanistan",
            "Bahrain",
            "Bangladesh",
            "Cambodia",
            "China",
            "Hong Kong, China",
            "India",
            "Indonesia",
            "Iran",
            "Iraq",
            "Israel",
            "Japan",
            "Jordan",
            "Korea, Dem. Rep.",
            "Korea, Rep.",
            "Kuwait",
            "Lebanon",
            "Malaysia",
            "Mongolia",
            "Myanmar",
            "Nepal",
            "Oman",
            "Pakistan",
            "Philippines",
            "Saudi Arabia",
            "Singapore",
            "Sri Lanka",
            "Syria",
            "Taiwan",
            "Thailand",
            "Vietnam",
            "West Bank and Gaza",
            "Yemen, Rep."
           ],
           "legendgroup": "Asia",
           "marker": {
            "color": "#636efa",
            "size": {
             "bdata": "ZgGNAJ8dAgBcxg8DKDdRAAAT/iWswCkAQNhgGOAuXwWAAC4Bw1hfAFGrHQABJHUFP2QLADWbjwBgBlkBbj8DADQjGQBjF3YA1nUNAASaSwGivZMAOZMIAIhHyAKC1I0BQnBDACkQFgBiSosAlFI/APcXmwD9G34Bj3u6AWdVEADq5FMA",
             "dtype": "i4"
            },
            "sizemode": "area",
            "sizeref": 435928.2961983471,
            "symbol": "circle"
           },
           "mode": "markers",
           "name": "Asia",
           "orientation": "v",
           "showlegend": true,
           "type": "scatter",
           "x": {
            "bdata": "KdQuAdOmiUBlqmBU5rnGQKswbIMZrYRA8QOhBp0ge0D7VLpg5f+BQBo1XyUnWqxA3UPC935wgkBi8B/BM9eKQBaGyOmDtKlAMLlRZFVVuECKkpBIRwm1QH2W58Gx3bBAaHVyhlJ4nUD5FADjiYyYQN3PKchfPpdAGsBbIDK3+0AesoF0ycm3QGMEjZlESJxAamyvBU2FjEAAAAAAAOB1QFsTHKh9r4JAmMPuO36FoUAXclsRq1iHQEp/L4XHL5hA1WcHXJfdv0DRsBh1NTamQLZHb7gvwpBAHjLlQ3iKoEB9eQH2cY+XQM6RpouezIhAty3bmEgihUBDqiheRYycQHoKb8WkJolA",
            "dtype": "f8"
           },
           "xaxis": "x",
           "y": {
            "bdata": "okW28/1UPkDRItv5fupKQAaBlUOLrENAAyuHFtmuRED1Zz9SREZJQAAAAAAAMFBAHVpkO98fREAv3SQGgfVDQLpJDAIrl0dADi2yne83SED2KFyPwvVQQAAAAAAAYFBAEoPAyqHVRkDufD81XgpLQLpJDAIrV0pATmIQWDkETUA730+Nl75NQJMYBFYODUpAO7TIdr6fRkCkcD0K1/NEQCuHFtnO10JACtejcD0KRECe76fGS8dGQJhuEoPAqklAyXa+nxpvRUD0/dR46ZZPQO58PzVeuk5AMQisHFokSEAzMzMzMzNPQHE9Ctej0EpAqMZLN4lxRUDazvdT49VGQFyPwvUo/EBA",
            "dtype": "f8"
           },
           "yaxis": "y"
          },
          {
           "hovertemplate": "<b>%{hovertext}</b><br><br>continent=Europe<br>year=1957<br>gdpPercap=%{x}<br>lifeExp=%{y}<br>pop=%{marker.size}<extra></extra>",
           "hovertext": [
            "Albania",
            "Austria",
            "Belgium",
            "Bosnia and Herzegovina",
            "Bulgaria",
            "Croatia",
            "Czech Republic",
            "Denmark",
            "Finland",
            "France",
            "Germany",
            "Greece",
            "Hungary",
            "Iceland",
            "Ireland",
            "Italy",
            "Montenegro",
            "Netherlands",
            "Norway",
            "Poland",
            "Portugal",
            "Romania",
            "Serbia",
            "Slovak Republic",
            "Slovenia",
            "Spain",
            "Sweden",
            "Switzerland",
            "Turkey",
            "United Kingdom"
           ],
           "ids": [
            "Albania",
            "Austria",
            "Belgium",
            "Bosnia and Herzegovina",
            "Bulgaria",
            "Croatia",
            "Czech Republic",
            "Denmark",
            "Finland",
            "France",
            "Germany",
            "Greece",
            "Hungary",
            "Iceland",
            "Ireland",
            "Italy",
            "Montenegro",
            "Netherlands",
            "Norway",
            "Poland",
            "Portugal",
            "Romania",
            "Serbia",
            "Slovak Republic",
            "Slovenia",
            "Spain",
            "Sweden",
            "Switzerland",
            "Turkey",
            "United Kingdom"
           ],
           "legendgroup": "Europe",
           "marker": {
            "color": "#EF553B",
            "size": {
             "bdata": "mYcWAGRKagC3KYkAoO8uALa/dADK5jwAHiuRAJd6RACg+kEATyGkAj2qOwTaiXsAmCGWAPaEAgAM6ysAMHXuAs3BBgDPP6gAYkg1AFLWrgHyi4YAzw0QAd/ybgC1qDoAjmQXAM5YxwHaXHAAcDdOABu1hwFwwhAD",
             "dtype": "i4"
            },
            "sizemode": "area",
            "sizeref": 435928.2961983471,
            "symbol": "circle"
           },
           "mode": "markers",
           "name": "Europe",
           "orientation": "v",
           "showlegend": true,
           "type": "scatter",
           "x": {
            "bdata": "VvDbECNZnkADPj+MTEXBQGXIsfV6+cJA9KeN6vQnlUAXg4dpV4GnQDNwQEs78rBAQUmBBSwgwEBPr5Rl1K3FQDelvFZqeb1AwArw3WrrwECfzarP6eXDQG6HhsVMNLNA7G0zFS6Yt0DptkQuAA7CQEZda+8T37VAlwLS/qdouEBEigEShcSsQN5UpMIYBsZA2iCTjPzCxkBEatrFQH6yQG+df7skfa1AU5Yhjr3OrkCA8KFEF3WzQIFDqFJDzbdAIHwo0UbmtkD8471qzdSxQECmtWnwW8NAeH+8V1990UCPN/ktglWhQCnLEMeWCcZA",
            "dtype": "f8"
           },
           "xaxis": "x",
           "y": {
            "bdata": "pHA9CtejTUAfhetRuN5QQI/C9ShcT1FAmpmZmZk5TUDXo3A9CqdQQOF6FK5HMVBAUrgehetBUUCkcD0K1/NRQI/C9Shc31BA7FG4HoU7UUBmZmZmZkZRQNejcD0K91BACtejcD2aUECuR+F6FF5SQJqZmZmZOVFApHA9CtfzUEDTTWIQWLlOQI/C9ShcP1JAXI/C9ShcUkDhehSuR3FQQOF6FK5HwU5AZmZmZmYGUEBI4XoUrtdOQM3MzMzM3FBAZmZmZmb2UEAK16NwPapQQI/C9ShcH1JApHA9CtejUUAmMQisHApIQHsUrkfhmlFA",
            "dtype": "f8"
           },
           "yaxis": "y"
          },
          {
           "hovertemplate": "<b>%{hovertext}</b><br><br>continent=Africa<br>year=1957<br>gdpPercap=%{x}<br>lifeExp=%{y}<br>pop=%{marker.size}<extra></extra>",
           "hovertext": [
            "Algeria",
            "Angola",
            "Benin",
            "Botswana",
            "Burkina Faso",
            "Burundi",
            "Cameroon",
            "Central African Republic",
            "Chad",
            "Comoros",
            "Congo, Dem. Rep.",
            "Congo, Rep.",
            "Cote d'Ivoire",
            "Djibouti",
            "Egypt",
            "Equatorial Guinea",
            "Eritrea",
            "Ethiopia",
            "Gabon",
            "Gambia",
            "Ghana",
            "Guinea",
            "Guinea-Bissau",
            "Kenya",
            "Lesotho",
            "Liberia",
            "Libya",
            "Madagascar",
            "Malawi",
            "Mali",
            "Mauritania",
            "Mauritius",
            "Morocco",
            "Mozambique",
            "Namibia",
            "Niger",
            "Nigeria",
            "Reunion",
            "Rwanda",
            "Sao Tome and Principe",
            "Senegal",
            "Sierra Leone",
            "Somalia",
            "South Africa",
            "Sudan",
            "Swaziland",
            "Tanzania",
            "Togo",
            "Tunisia",
            "Uganda",
            "Zambia",
            "Zimbabwe"
           ],
           "ids": [
            "Algeria",
            "Angola",
            "Benin",
            "Botswana",
            "Burkina Faso",
            "Burundi",
            "Cameroon",
            "Central African Republic",
            "Chad",
            "Comoros",
            "Congo, Dem. Rep.",
            "Congo, Rep.",
            "Cote d'Ivoire",
            "Djibouti",
            "Egypt",
            "Equatorial Guinea",
            "Eritrea",
            "Ethiopia",
            "Gabon",
            "Gambia",
            "Ghana",
            "Guinea",
            "Guinea-Bissau",
            "Kenya",
            "Lesotho",
            "Liberia",
            "Libya",
            "Madagascar",
            "Malawi",
            "Mali",
            "Mauritania",
            "Mauritius",
            "Morocco",
            "Mozambique",
            "Namibia",
            "Niger",
            "Nigeria",
            "Reunion",
            "Rwanda",
            "Sao Tome and Principe",
            "Senegal",
            "Sierra Leone",
            "Somalia",
            "South Africa",
            "Sudan",
            "Swaziland",
            "Tanzania",
            "Togo",
            "Tunisia",
            "Uganda",
            "Zambia",
            "Zimbabwe"
           ],
           "legendgroup": "Africa",
           "marker": {
            "color": "#00cc96",
            "size": {
             "bdata": "iLicANGZRQA1YB0ADz4HAMjrRwD+sygAM8lRAJw+FQAHLCwAsJsCAEyz7QCqWQ4AoFoyAKsYAQBNnn0B2o0DANOJFwB+I1wB2KIGAE7uBAD4hWEANuUrAAcsCQA7wHEAGmkMAE7kDgCqVRIA7xBPAPYmMQDcuUAAdG4QABhOCQAODK4AU2RrAPBcCACYVjgAXDg3Aty1BADCDysAje8AANObLgB+ByMA/2wqAP1z9gAw05QAVfwEABo9kACFthQAAUk8AC3cZQBABS4AhKM3AA==",
             "dtype": "i4"
            },
            "sizemode": "area",
            "sizeref": 435928.2961983471,
            "symbol": "circle"
           },
           "mode": "markers",
           "name": "Africa",
           "orientation": "v",
           "showlegend": true,
           "type": "scatter",
           "x": {
            "bdata": "SmJJufOLp0AR5KCE4eetQBsOSwPP/I1AbvVBO9yxjEC7n2S8d0mDQHN+ebcIuXdA4j/dQDGElEBj7ISXYJuSQJl+iXj7cZRAi4f3HJjskkA6bGzA4U6MQL1TAfccFqJArfpcbZVzl0Cvvroq8GGmQMcrED2py5ZAHUk444qhekDwYqsVl4J1QPPj1HN3rndAX7adtjJws0C5WoLnaUeAQPgpjgM/TpBA2bW93SICgkCH3tG1pfx6QLhKZquBg41Ako32LvT/dECNZyuKwmeDQEuwOJyR8KpADi2ync/UmECgnR266gV6QHUXzW8dpn5AzHOOS/ZwikB6w33kJsifQEvpmV4CqJlARXtQq2P5fkBssdtn5XqkQCphpu0vHIpAScfVyF4ykUDKxRhY56KlQCRQDrBQ4oBAs7owLeXlikBe2JqtnH6YQMd/gSDgY49ABfhu85aok0CfrBiuGm+1QFM57SlZqZtAqFZfXdVyk0D+53rsSNSFQF+KYT1E74xAd2UXDO7MlUBu9CDz9zKIQLNfd7rTf5RAAveXOB02gEA=",
            "dtype": "f8"
           },
           "xaxis": "x",
           "y": {
            "bdata": "SOF6FK7XRkA5tMh2vv8/QOf7qfHSLURAyXa+nxrPSECHFtnO93NBQE5iEFg5RERAEFg5tMg2REAIrBxaZLtCQFTjpZvE8ENAexSuR+E6RUD6fmq8dFNEQBBYObTIhkZAeekmMQg8RUBEi2zn+6lCQEa28/3UOEZA6fup8dL9QUC8dJMYBAZDQEw3iUFgVUJAHVpkO99/Q0C4HoXrUQhAQMHKoUW2Y0ZAgZVDi2xHQUA830+Nl75AQCyHFtnOV0ZAvHSTGASGRkCR7Xw/Nb5DQKJFtvP9pEZAH4XrUbhuQ0DRItv5fppCQJzvp8ZLp0FAJQaBlUMrRUAIrBxaZAtNQKAaL90ktkZAwcqhRbbjQECxcmiR7ZxGQAaBlUOLTENALbKd76fmQkDsUbgehYtLQAAAAAAAwERAKVyPwvV4SEAnMQisHKpDQFK4HoXrkT9AkxgEVg59QUCuR+F6FP5HQB1aZDvfz0NAg8DKoUW2RUDpJjEIrHxFQLTIdr6fmkRAzczMzMyMR0AOAiuHFklFQGDl0CLbCUZAeekmMQg8SUA=",
            "dtype": "f8"
           },
           "yaxis": "y"
          },
          {
           "hovertemplate": "<b>%{hovertext}</b><br><br>continent=Americas<br>year=1957<br>gdpPercap=%{x}<br>lifeExp=%{y}<br>pop=%{marker.size}<extra></extra>",
           "hovertext": [
            "Argentina",
            "Bolivia",
            "Brazil",
            "Canada",
            "Chile",
            "Colombia",
            "Costa Rica",
            "Cuba",
            "Dominican Republic",
            "Ecuador",
            "El Salvador",
            "Guatemala",
            "Haiti",
            "Honduras",
            "Jamaica",
            "Mexico",
            "Nicaragua",
            "Panama",
            "Paraguay",
            "Peru",
            "Puerto Rico",
            "Trinidad and Tobago",
            "United States",
            "Uruguay",
            "Venezuela"
           ],
           "ids": [
            "Argentina",
            "Bolivia",
            "Brazil",
            "Canada",
            "Chile",
            "Colombia",
            "Costa Rica",
            "Cuba",
            "Dominican Republic",
            "Ecuador",
            "El Salvador",
            "Guatemala",
            "Haiti",
            "Honduras",
            "Jamaica",
            "Mexico",
            "Nicaragua",
            "Panama",
            "Paraguay",
            "Peru",
            "Puerto Rico",
            "Trinidad and Tobago",
            "United States",
            "Uruguay",
            "Venezuela"
           ],
           "legendgroup": "Americas",
           "marker": {
            "color": "#ab63fa",
            "size": {
             "bdata": "qjsrAdoBMQBDO+gD6o0DAeqMawDpCd0A7PgQAHBUZQCymiwAEe09AF3yIwAsjjcA9YU1AJYDGwBybBcAfEsWAuy7FABSOhAAlgUbAPSOiwAgfCIA5KsLAIBEQAp/ACUATEZmAA==",
             "dtype": "i4"
            },
            "sizemode": "area",
            "sizeref": 435928.2961983471,
            "symbol": "circle"
           },
           "mode": "markers",
           "name": "Americas",
           "orientation": "v",
           "showlegend": true,
           "type": "scatter",
           "x": {
            "bdata": "c6q1MNvIukDKGB9mX5+gQGQD6WK7bqNAnuqQm/lkyEB4R8Zqn9uwQI/iHHWcJ6JAdvnWhwVcp0DFmsqiLMy3QM6luKqcIZhAp86j4heJrUBbzTrjC7uqQIMY6NpPcqRA1GLwMI37mkCygXSx+VihQNxnlZmGlLJApyGq8IsjsEC9UwH31AKrQGhcOBCaI6dA++k/a574n0DyyvW2QZWwQP0tAfhPhq5AP8bctWQEsEBV2XdFkP/MQNLfS+HFBrhAXrwftzslw0A=",
            "dtype": "f8"
           },
           "xaxis": "x",
           "y": {
            "bdata": "qMZLN4kZUEBSuB6F6/FEQBSuR+F6pEpAPQrXo3B9UUC28/3UeAlMQMl2vp8aj0tAF9nO91MDTkCamZmZmSlPQESLbOf76UhAIbByaJGtSUApXI/C9UhIQBkEVg4tEkZADAIrhxZZRECF61G4HlVGQK5H4XoUTk9AuB6F61GYS0Ce76fGS7dGQH0/NV66mU1ADgIrhxaZT0CNbOf7qSFHQMP1KFyPIlFAZmZmZmbmTkCPwvUoXF9RQIlBYOXQwlBAarx0kxj0TEA=",
            "dtype": "f8"
           },
           "yaxis": "y"
          },
          {
           "hovertemplate": "<b>%{hovertext}</b><br><br>continent=Oceania<br>year=1957<br>gdpPercap=%{x}<br>lifeExp=%{y}<br>pop=%{marker.size}<extra></extra>",
           "hovertext": [
            "Australia",
            "New Zealand"
           ],
           "ids": [
            "Australia",
            "New Zealand"
           ],
           "legendgroup": "Oceania",
           "marker": {
            "color": "#FFA15A",
            "size": {
             "bdata": "uTOUAJ8EIgA=",
             "dtype": "i4"
            },
            "sizemode": "area",
            "sizeref": 435928.2961983471,
            "symbol": "circle"
           },
           "mode": "markers",
           "name": "Oceania",
           "orientation": "v",
           "showlegend": true,
           "type": "scatter",
           "x": {
            "bdata": "6N7DJdNixUC6g9iZsuvHQA==",
            "dtype": "f8"
           },
           "xaxis": "x",
           "y": {
            "bdata": "hetRuB6VUUBxPQrXo5BRQA==",
            "dtype": "f8"
           },
           "yaxis": "y"
          }
         ],
         "name": "1957"
        },
        {
         "data": [
          {
           "hovertemplate": "<b>%{hovertext}</b><br><br>continent=Asia<br>year=1962<br>gdpPercap=%{x}<br>lifeExp=%{y}<br>pop=%{marker.size}<extra></extra>",
           "hovertext": [
            "Afghanistan",
            "Bahrain",
            "Bangladesh",
            "Cambodia",
            "China",
            "Hong Kong, China",
            "India",
            "Indonesia",
            "Iran",
            "Iraq",
            "Israel",
            "Japan",
            "Jordan",
            "Korea, Dem. Rep.",
            "Korea, Rep.",
            "Kuwait",
            "Lebanon",
            "Malaysia",
            "Mongolia",
            "Myanmar",
            "Nepal",
            "Oman",
            "Pakistan",
            "Philippines",
            "Saudi Arabia",
            "Singapore",
            "Sri Lanka",
            "Syria",
            "Taiwan",
            "Thailand",
            "Vietnam",
            "West Bank and Gaza",
            "Yemen, Rep."
           ],
           "ids": [
            "Afghanistan",
            "Bahrain",
            "Bangladesh",
            "Cambodia",
            "China",
            "Hong Kong, China",
            "India",
            "Indonesia",
            "Iran",
            "Iraq",
            "Israel",
            "Japan",
            "Jordan",
            "Korea, Dem. Rep.",
            "Korea, Rep.",
            "Kuwait",
            "Lebanon",
            "Malaysia",
            "Mongolia",
            "Myanmar",
            "Nepal",
            "Oman",
            "Pakistan",
            "Philippines",
            "Saudi Arabia",
            "Singapore",
            "Sri Lanka",
            "Syria",
            "Taiwan",
            "Thailand",
            "Vietnam",
            "West Bank and Gaza",
            "Yemen, Rep."
           ],
           "legendgroup": "Asia",
           "marker": {
            "color": "#636efa",
            "size": {
             "bdata": "y6mcAFefAgB5TGMDI9RcABDYrifwbjIAgH0PGyAM5wWQB10BRHpuAPhCIwDNRrYFtz4OAHaWpgBTJJMBencFAIDKHACR5ocAaGoPAASiaAGZp50AxJUJAH9AKgMQus4BtWxLALi0GgCwBp8APcVJAFretQAlhr4BLLADAk5KEQCRYl0A",
             "dtype": "i4"
            },
            "sizemode": "area",
            "sizeref": 435928.2961983471,
            "symbol": "circle"
           },
           "mode": "markers",
           "name": "Asia",
           "orientation": "v",
           "showlegend": true,
           "type": "scatter",
           "x": {
            "bdata": "CWMLQc6oikDpmsk3o+jIQJcGj4C7coVAGiHyTJ4Of0B9tmnHyHp+QOleJ/WlVLJANxIN98aShEDddvxyUYqKQChk521UW7BAwM+4cN5KwEBky/J1ocG7QAd7E0OmsLlA/nxbsARYokBJ2o0+xlaZQKxY/KZgAZhAkNrEySFO90DH1jOEj1K2QCqLwi6K059AoUj3c2qBkEAAAAAAAEB4QOiUkcQsY4RATkS/tkbZpkDHr2nvvRqJQI6VmGc1xplAPzVeujW1xkC1p+SceLWsQBV0e0njyZBANLkYAxMioUATgeofhHucQDtSfeeXUY9AIFoarmQgiECN+bmh6S2hQMiemFD8zIlA",
            "dtype": "f8"
           },
           "xaxis": "x",
           "y": {
            "bdata": "rBxaZDv/P0CgGi/dJHZMQM/3U+Olm0RAhetRuB61RUDjwoGQLEBGQJqZmZmZ6VBAPQrXo3DNRUD8qfHSTUJFQJqZmZmZqUhA0SLb+X66SUApXI/C9VhRQB+F61G4LlFA5aWbxCAQSECJFtnO91NMQEw3iUFgpUtAXI/C9Sg8TkB56SYxCAxPQHWTGARW3ktA5aWbxCAgSEDn+6nx0o1GQPyp8dJNskNAhetRuB6VRUD2KFyPwtVHQDeJQWDlYEtAokW28/30RkBQjZduEnNQQH9qvHSTGE9A16NwPQonSUDNzMzMzExQQCyHFtnOB0xAWDm0yHauRkDHSzeJQRBIQNejcD0Kl0FA",
            "dtype": "f8"
           },
           "yaxis": "y"
          },
          {
           "hovertemplate": "<b>%{hovertext}</b><br><br>continent=Europe<br>year=1962<br>gdpPercap=%{x}<br>lifeExp=%{y}<br>pop=%{marker.size}<extra></extra>",
           "hovertext": [
            "Albania",
            "Austria",
            "Belgium",
            "Bosnia and Herzegovina",
            "Bulgaria",
            "Croatia",
            "Czech Republic",
            "Denmark",
            "Finland",
            "France",
            "Germany",
            "Greece",
            "Hungary",
            "Iceland",
            "Ireland",
            "Italy",
            "Montenegro",
            "Netherlands",
            "Norway",
            "Poland",
            "Portugal",
            "Romania",
            "Serbia",
            "Slovak Republic",
            "Slovenia",
            "Spain",
            "Sweden",
            "Switzerland",
            "Turkey",
            "United Kingdom"
           ],
           "ids": [
            "Albania",
            "Austria",
            "Belgium",
            "Bosnia and Herzegovina",
            "Bulgaria",
            "Croatia",
            "Czech Republic",
            "Denmark",
            "Finland",
            "France",
            "Germany",
            "Greece",
            "Hungary",
            "Iceland",
            "Ireland",
            "Italy",
            "Montenegro",
            "Netherlands",
            "Norway",
            "Poland",
            "Portugal",
            "Romania",
            "Serbia",
            "Slovak Republic",
            "Slovenia",
            "Spain",
            "Sweden",
            "Switzerland",
            "Turkey",
            "United Kingdom"
           ],
           "legendgroup": "Europe",
           "marker": {
            "color": "#EF553B",
            "size": {
             "bdata": "iV4aAAjLbABgqYwACBozAJJEegANND4AOsuSAPPnRgCziEQAIA7PAm0rZQTp6IAAmIyZACXHAgCwLisAQM4HA6A9BwD5I7QAh4Y3ABHLzgGYoYkAkQsdATw2dABIqEAAcicYAC1v2wF0YXMA0HRWABeKxgHgKy0D",
             "dtype": "i4"
            },
            "sizemode": "area",
            "sizeref": 435928.2961983471,
            "symbol": "circle"
           },
           "mode": "markers",
           "name": "Europe",
           "orientation": "v",
           "showlegend": true,
           "type": "scatter",
           "x": {
            "bdata": "CcOAJccRokBpHVVNXP/EQA+XHHead8VA2QdZFry2mkBQ4J18Vp6wQNo6ONjjZbVAsacd/m7Mw0B8fhghqIfKQPHxCdnrTcJAndfYJT6gxEB/h6JAOzPJQES94NMwgbdAlSnmIFx+vUAN/RNcFDfEQHH/kemY57lAlPsdisoZwEDbM0sCmCmyQP/PYb5s+8hAgv+tZDNFykDqknGMwNq0QE8Cm3P0d7JA88zLYf9+skAN424QoZG4QB3jiosbOb1AxXJLq03qvEDIQnQI2D22QLml1ZC4FMhAFvvL7sXz00AP1ZRkvSWiQI3ROqqWXshA",
            "dtype": "f8"
           },
           "xaxis": "x",
           "y": {
            "bdata": "FK5H4Xo0UEDD9Shcj2JRQAAAAAAAkFFA16NwPQr3TkBxPQrXo2BRQLgehetRyFBAmpmZmZl5UUBmZmZmZhZSQAAAAAAAMFFAcT0K16OgUUAzMzMzM5NRQHE9CtejYFFAPQrXo3D9UEDsUbgehWtSQMP1KFyPklFAj8L1KFxPUUB3vp8aL91PQB+F61G4TlJArkfhehReUkApXI/C9ehQQClcj8L1GFBAMzMzMzOzUEBEi2zn+yFQQIXrUbgelVFAmpmZmZlJUUBcj8L1KGxRQEjhehSuV1JAFK5H4XrUUUAGgZVDiwxKQHE9CtejsFFA",
            "dtype": "f8"
           },
           "yaxis": "y"
          },
          {
           "hovertemplate": "<b>%{hovertext}</b><br><br>continent=Africa<br>year=1962<br>gdpPercap=%{x}<br>lifeExp=%{y}<br>pop=%{marker.size}<extra></extra>",
           "hovertext": [
            "Algeria",
            "Angola",
            "Benin",
            "Botswana",
            "Burkina Faso",
            "Burundi",
            "Cameroon",
            "Central African Republic",
            "Chad",
            "Comoros",
            "Congo, Dem. Rep.",
            "Congo, Rep.",
            "Cote d'Ivoire",
            "Djibouti",
            "Egypt",
            "Equatorial Guinea",
            "Eritrea",
            "Ethiopia",
            "Gabon",
            "Gambia",
            "Ghana",
            "Guinea",
            "Guinea-Bissau",
            "Kenya",
            "Lesotho",
            "Liberia",
            "Libya",
            "Madagascar",
            "Malawi",
            "Mali",
            "Mauritania",
            "Mauritius",
            "Morocco",
            "Mozambique",
            "Namibia",
            "Niger",
            "Nigeria",
            "Reunion",
            "Rwanda",
            "Sao Tome and Principe",
            "Senegal",
            "Sierra Leone",
            "Somalia",
            "South Africa",
            "Sudan",
            "Swaziland",
            "Tanzania",
            "Togo",
            "Tunisia",
            "Uganda",
            "Zambia",
            "Zimbabwe"
           ],
           "ids": [
            "Algeria",
            "Angola",
            "Benin",
            "Botswana",
            "Burkina Faso",
            "Burundi",
            "Cameroon",
            "Central African Republic",
            "Chad",
            "Comoros",
            "Congo, Dem. Rep.",
            "Congo, Rep.",
            "Cote d'Ivoire",
            "Djibouti",
            "Egypt",
            "Equatorial Guinea",
            "Eritrea",
            "Ethiopia",
            "Gabon",
            "Gambia",
            "Ghana",
            "Guinea",
            "Guinea-Bissau",
            "Kenya",
            "Lesotho",
            "Liberia",
            "Libya",
            "Madagascar",
            "Malawi",
            "Mali",
            "Mauritania",
            "Mauritius",
            "Morocco",
            "Mozambique",
            "Namibia",
            "Niger",
            "Nigeria",
            "Reunion",
            "Rwanda",
            "Sao Tome and Principe",
            "Senegal",
            "Sierra Leone",
            "Somalia",
            "South Africa",
            "Sudan",
            "Swaziland",
            "Tanzania",
            "Togo",
            "Tunisia",
            "Uganda",
            "Zambia",
            "Zimbabwe"
           ],
           "legendgroup": "Africa",
           "marker": {
            "color": "#00cc96",
            "size": {
             "bdata": "dNynAJ+jSQDX1SAA/NIHAFARSwD7MS0AYWdYABY/FwBREjAAyewCAGLSCgF0/Q8AWHo6ACpfAQD9460BhM0DADpuGQAcsH8B7fMGAAS1BQBwO3AAo+kvAGyUCQCdbIQA16ANANz6EABHABYAnAZXAEBeNwDEkUcAhX8RAFiyCgBcOscAkNl2AFB7CQDoMT4A9+d+AvR5BQDqji4AQf8AAGNXNAA3qCUA2f8uALEZGAF7pKoAVqUFAFbFpQAiURcAWGhBAF1SdQBIMzQA6EVBAA==",
             "dtype": "i4"
            },
            "sizemode": "area",
            "sizeref": 435928.2961983471,
            "symbol": "circle"
           },
           "mode": "markers",
           "name": "Africa",
           "orientation": "v",
           "showlegend": true,
           "type": "scatter",
           "x": {
            "bdata": "g2kYPqLto0BuT5DYRq2wQN2gURX+q41A2ZL6Vzu9jkAHn0GeGJSGQHjyRGtAM3ZAAHUDBW7elUACui9nRqSSQHwqpz1Ft5VA3SIw1pf6lUDQhZFehAKMQERN9PmQQaNA6WhVS3oDm0BJEK6A+pmnQA5N2elXdZpAVVmAW7w2gkAPV2L57s93QOPt93pNN3pAm6+Sj3XnuUD9SufDM72CQBxF1hoqmJJA8969SP1yhUAO2xZlRlCAQNlN3yG7B4xA7HTWXc+8eUA/V1uxj9GDQDKwjuMHZbpA0VeQZoytmUBY7rvYar56QLAErRvKAn9AKBB2ipV/kEDR86eNIsKjQHapEfppeZhA2w8dp31lgUBdxHdibsqoQGf8sf8gLo9ACPfKvLX7kUDH155ZcsuoQAz5VtrIq4JA0QSKWDS+kEA2V81z9NuZQNiR6juPcpFA1jVaDvRllUBWurvOuoi2QMfZdARgnp5AI9v5froAnUDjJx/MB5CGQEyOO6UjrpBASKeufDbxmUArkOqFLPqHQDLKMy/nspZAiMymbS16gEA=",
            "dtype": "f8"
           },
           "xaxis": "x",
           "y": {
            "bdata": "EFg5tMgmSEAAAAAAAABBQMl2vp8aT0VAw/UoXI/CSUDVeOkmMehCQPYoXI/CBUVA/Knx0k1SRUDNzMzMzLxDQM/3U+Ol20RAsp3vp8Y7RkBWDi2ynQ9FQEjhehSuN0hA16NwPQp3RkBkEFg5tNhDQOXQItv5fkdArkfhehS+QkBOYhBYORREQGQ730+NB0RAO99PjZc+RECmm8QgsPJAQGDl0CLbOUdAqvHSTWLgQUBYObTIdj5BQLbz/dR4+UdAVg4tsp3fR0DHSzeJQUBEQIGVQ4ts50dABoGVQ4tsREAUrkfhejRDQCuHFtnOd0JAO7TIdr4fRkBzaJHtfB9OQIPAyqFF9kdA+FPjpZsUQkDFILByaDFIQHWTGARWvkNArkfhehSuQ0Boke18P9VMQAAAAAAAgEVA/Knx0k3ySUAmMQisHLpEQBkEVg4tYkBAIbByaJF9QkB9PzVeuvlIQI/C9Shcb0RA5dAi2/l+RkBzaJHtfB9GQLx0kxgE9kVAJjEIrBzKSEB56SYxCKxGQG3n+6nxAkdA5/up8dItSkA=",
            "dtype": "f8"
           },
           "yaxis": "y"
          },
          {
           "hovertemplate": "<b>%{hovertext}</b><br><br>continent=Americas<br>year=1962<br>gdpPercap=%{x}<br>lifeExp=%{y}<br>pop=%{marker.size}<extra></extra>",
           "hovertext": [
            "Argentina",
            "Bolivia",
            "Brazil",
            "Canada",
            "Chile",
            "Colombia",
            "Costa Rica",
            "Cuba",
            "Dominican Republic",
            "Ecuador",
            "El Salvador",
            "Guatemala",
            "Haiti",
            "Honduras",
            "Jamaica",
            "Mexico",
            "Nicaragua",
            "Panama",
            "Paraguay",
            "Peru",
            "Puerto Rico",
            "Trinidad and Tobago",
            "United States",
            "Uruguay",
            "Venezuela"
           ],
           "ids": [
            "Argentina",
            "Bolivia",
            "Brazil",
            "Canada",
            "Chile",
            "Colombia",
            "Costa Rica",
            "Cuba",
            "Dominican Republic",
            "Ecuador",
            "El Salvador",
            "Guatemala",
            "Haiti",
            "Honduras",
            "Jamaica",
            "Mexico",
            "Nicaragua",
            "Panama",
            "Paraguay",
            "Peru",
            "Puerto Rico",
            "Trinidad and Tobago",
            "United States",
            "Uruguay",
            "Venezuela"
           ],
           "legendgroup": "Americas",
           "marker": {
            "color": "#ab63fa",
            "size": {
             "bdata": "x8NEAb7WNgDeRIgEebMhAap6eQDdjAMBo4YUAGWxbgD6sTQA629HACftKQDaOEAAwjQ7ALLkHwBoaBkAzXZzAkVFGADtjBIA1aoeABR4oACuWiUAyooNABBYHgtCpicAD0J8AA==",
             "dtype": "i4"
            },
            "sizemode": "area",
            "sizeref": 435928.2961983471,
            "symbol": "circle"
           },
           "mode": "markers",
           "name": "Americas",
           "orientation": "v",
           "showlegend": true,
           "type": "scatter",
           "x": {
            "bdata": "ZLt7gCrdu0C2n4zx8QmhQN1fPe4rEapASZ2AJj5LykAAkBMmGKexQKoQj8SzeKNAEqW9wd8Jq0C4WFGDwTy0QD9z1qeM+JlAY35uaDrsr0Bdhv90m4GtQFGGqpi6fKVAMWE0K1sSnEC8V61MUOahQIlfsYYbfrRArMWnAJzlsUDvWGyTumSsQP4pVaIUoatAb5wU5g3IoEDWNzC5CV2zQDjzqzlY9LNAD6X2IoaFs0DmXIqrkpbPQDlgV5Nb47VA9U9wsXxzwEA=",
            "dtype": "f8"
           },
           "xaxis": "x",
           "y": {
            "bdata": "DAIrhxZJUEAQWDm0yLZFQIXrUbge1UtAMzMzMzPTUUCDwMqhRfZMQFg5tMh27kxAsp3vp8ZrT0A6tMh2vk9QQJhuEoPAukpAUrgehetRS0Ce76fGSydKQCYxCKwcekdA7FG4HoXLRUBoke18PwVIQNejcD0KZ1BAg8DKoUUmTUA3iUFg5VBIQH9qvHST6E5AyXa+nxoXUEA/NV66SYxIQEjhehSuZ1FAmpmZmZk5UEA9CtejcI1RQNV46SYxEFFAw/UoXI9iTkA=",
            "dtype": "f8"
           },
           "yaxis": "y"
          },
          {
           "hovertemplate": "<b>%{hovertext}</b><br><br>continent=Oceania<br>year=1962<br>gdpPercap=%{x}<br>lifeExp=%{y}<br>pop=%{marker.size}<extra></extra>",
           "hovertext": [
            "Australia",
            "New Zealand"
           ],
           "ids": [
            "Australia",
            "New Zealand"
           ],
           "legendgroup": "Oceania",
           "marker": {
            "color": "#FFA15A",
            "size": {
             "bdata": "2LekAOb4JQA=",
             "dtype": "i4"
            },
            "sizemode": "area",
            "sizeref": 435928.2961983471,
            "symbol": "circle"
           },
           "mode": "markers",
           "name": "Oceania",
           "orientation": "v",
           "showlegend": true,
           "type": "scatter",
           "x": {
            "bdata": "Y5y/CZ3cx0BYObTI1rvJQA==",
            "dtype": "f8"
           },
           "xaxis": "x",
           "y": {
            "bdata": "7FG4HoW7UUCPwvUoXM9RQA==",
            "dtype": "f8"
           },
           "yaxis": "y"
          }
         ],
         "name": "1962"
        },
        {
         "data": [
          {
           "hovertemplate": "<b>%{hovertext}</b><br><br>continent=Asia<br>year=1967<br>gdpPercap=%{x}<br>lifeExp=%{y}<br>pop=%{marker.size}<extra></extra>",
           "hovertext": [
            "Afghanistan",
            "Bahrain",
            "Bangladesh",
            "Cambodia",
            "China",
            "Hong Kong, China",
            "India",
            "Indonesia",
            "Iran",
            "Iraq",
            "Israel",
            "Japan",
            "Jordan",
            "Korea, Dem. Rep.",
            "Korea, Rep.",
            "Kuwait",
            "Lebanon",
            "Malaysia",
            "Mongolia",
            "Myanmar",
            "Nepal",
            "Oman",
            "Pakistan",
            "Philippines",
            "Saudi Arabia",
            "Singapore",
            "Sri Lanka",
            "Syria",
            "Taiwan",
            "Thailand",
            "Vietnam",
            "West Bank and Gaza",
            "Yemen, Rep."
           ],
           "ids": [
            "Afghanistan",
            "Bahrain",
            "Bangladesh",
            "Cambodia",
            "China",
            "Hong Kong, China",
            "India",
            "Indonesia",
            "Iran",
            "Iraq",
            "Israel",
            "Japan",
            "Jordan",
            "Korea, Dem. Rep.",
            "Korea, Rep.",
            "Kuwait",
            "Lebanon",
            "Malaysia",
            "Mongolia",
            "Myanmar",
            "Nepal",
            "Oman",
            "Pakistan",
            "Philippines",
            "Saudi Arabia",
            "Singapore",
            "Sri Lanka",
            "Syria",
            "Taiwan",
            "Thailand",
            "Vietnam",
            "West Bank and Gaza",
            "Yemen, Rep."
           ],
           "legendgroup": "Asia",
           "marker": {
            "color": "#636efa",
            "size": {
             "bdata": "Lg6wAMYVAwD8lb4DwzNqAPCE+SwwzjgAgPIoHhhxhAYQ8JQBcv6BANEZKQC/eAIGkiYTADGFwAA4w8sBG8YIAI5eIQB+85oAPIoRAL+/igH61qsAF+gKAGtSnQO4fxsCFrpVAAAtHgA0GbMArK5WADRD0AA5KwcC5itaAmxvEQAx22YA",
             "dtype": "i4"
            },
            "sizemode": "area",
            "sizeref": 435928.2961983471,
            "symbol": "circle"
           },
           "mode": "markers",
           "name": "Asia",
           "orientation": "v",
           "showlegend": true,
           "type": "scatter",
           "x": {
            "bdata": "V04xvZMhikACmggbVurMQOf5whp9iYZAxbQlYXVbgEAG0JRCpSWDQCJy+nr2NbhAllPxNSrmhUCaRu5EdNOHQAyOkle7ErdArDsW27pxwUCQhlPm3mTAQDP9EvHkO8NAwJZXrpdrpUDZ7bPKFL+gQGBzDp7ptJ9A3jzVIe6/80CY+KOo+3a3QF0ZVBt8y6FAipP7HSook0AAAAAAANB1QK9zeK2JI4VAXWvvU/FwskBvkjAdRHONQB6KAn2CWJxAhbGFIMOB0EAR/G8la3GzQO6VeasOvpFAKEaWzLFnnUBlOQmlt6ekQE1KQbfXPZRAuzPJfvzog0DSwmUVbrOkQGHU/4OJ84pA",
            "dtype": "f8"
           },
           "xaxis": "x",
           "y": {
            "bdata": "w/UoXI8CQUCgGi/dJPZNQESLbOf7uUVAhetRuB61RkD/7EeKyDBNQAAAAAAAgFFAZBBYObSYR0AIrBxaZPtGQHnpJjEIPEpAmG4Sg8A6S0AAAAAAALBRQOxRuB6F21FAjZduEoPQSUB/arx0k/hNQM/3U+Ol20xADi2yne8nUECPwvUoXO9PQHNoke18r01AqvHSTWKgSUCNl24Sg7BIQCPb+X5qvERAWDm0yHZ+R0BmZmZmZuZIQPyp8dJNMkxAF9nO91PzSEAGgZVDi/xQQBsv3SQGEVBApHA9CtfTSkAAAAAAAOBQQBSuR+F6JE1AJQaBlUPrR0BU46WbxNBJQMuhRbbzfUJA",
            "dtype": "f8"
           },
           "yaxis": "y"
          },
          {
           "hovertemplate": "<b>%{hovertext}</b><br><br>continent=Europe<br>year=1967<br>gdpPercap=%{x}<br>lifeExp=%{y}<br>pop=%{marker.size}<extra></extra>",
           "hovertext": [
            "Albania",
            "Austria",
            "Belgium",
            "Bosnia and Herzegovina",
            "Bulgaria",
            "Croatia",
            "Czech Republic",
            "Denmark",
            "Finland",
            "France",
            "Germany",
            "Greece",
            "Hungary",
            "Iceland",
            "Ireland",
            "Italy",
            "Montenegro",
            "Netherlands",
            "Norway",
            "Poland",
            "Portugal",
            "Romania",
            "Serbia",
            "Slovak Republic",
            "Slovenia",
            "Spain",
            "Sweden",
            "Switzerland",
            "Turkey",
            "United Kingdom"
           ],
           "ids": [
            "Albania",
            "Austria",
            "Belgium",
            "Bosnia and Herzegovina",
            "Bulgaria",
            "Croatia",
            "Czech Republic",
            "Denmark",
            "Finland",
            "France",
            "Germany",
            "Greece",
            "Hungary",
            "Iceland",
            "Ireland",
            "Italy",
            "Montenegro",
            "Netherlands",
            "Norway",
            "Poland",
            "Portugal",
            "Romania",
            "Serbia",
            "Slovak Republic",
            "Slovenia",
            "Spain",
            "Sweden",
            "Switzerland",
            "Turkey",
            "United Kingdom"
           ],
           "legendgroup": "Europe",
           "marker": {
            "color": "#EF553B",
            "size": {
             "bdata": "PEYeAGaQcAAU0pEA6LM2ANLNfgAesj8AZRKWAJDVSQAwR0YA6Fz0AkVKjQSZAIUAPv+bABQIAwCEQCwA3KIjAyulBwBWNsAAI8U5AKIB5QGY5ooATkMmAZaheQB+yEMAQCEZAGNB9QEbDngAmINcAPXQ/QGYm0YD",
             "dtype": "i4"
            },
            "sizemode": "area",
            "sizeref": 435928.2961983471,
            "symbol": "circle"
           },
           "mode": "markers",
           "name": "Europe",
           "orientation": "v",
           "showlegend": true,
           "type": "scatter",
           "x": {
            "bdata": "I9kj1GSQpUCOdXEbTRHJQHbDtkWFrslAuZbJcLT4oEBuNIC3AMm1QMFVnkBMMLtAKdAn8rhDxkD4qpUJmyDPQOC593DRVMVAbATidfVjyUAGDf0T0MzMQJgxBWuMoMBAW+uLhFI3wkDXaaSl8gPKQKIlj6eR571Ax0YgXjOTw0D12QHX2RO3QMOBkCygAc5A9kArMPD0z0Cd81McJ525QI9yMJuE2bhAg6Pk1d1GuUAdAkcCtTe/QIGxvoFzbsBA4ZaPpL5ewkDwF7Mlgzm/QPLqHAMmzc1ACvSJPIlt1kByW1t4thSmQD+p9ulsn8tA",
            "dtype": "f8"
           },
           "xaxis": "x",
           "y": {
            "bdata": "rkfhehSOUEApXI/C9YhRQFyPwvUovFFAw/UoXI8yUEB7FK5H4ZpRQAAAAAAAIFFAuB6F61GYUUA9CtejcD1SQIXrUbgedVFAMzMzMzPjUUAzMzMzM7NRQAAAAAAAwFFAAAAAAABgUUAfhetRuG5SQIXrUbgexVFApHA9CtfDUUAIrBxaZMtQQBSuR+F6dFJAhetRuB6FUkDXo3A9CmdRQGZmZmZmplBAMzMzMzOzUEDRItv5frpQQB+F61G4vlFA7FG4HoVLUUBcj8L1KNxRQArXo3A9ilJA4XoUrkcxUkBgukkMAitLQNejcD0K11FA",
            "dtype": "f8"
           },
           "yaxis": "y"
          },
          {
           "hovertemplate": "<b>%{hovertext}</b><br><br>continent=Africa<br>year=1967<br>gdpPercap=%{x}<br>lifeExp=%{y}<br>pop=%{marker.size}<extra></extra>",
           "hovertext": [
            "Algeria",
            "Angola",
            "Benin",
            "Botswana",
            "Burkina Faso",
            "Burundi",
            "Cameroon",
            "Central African Republic",
            "Chad",
            "Comoros",
            "Congo, Dem. Rep.",
            "Congo, Rep.",
            "Cote d'Ivoire",
            "Djibouti",
            "Egypt",
            "Equatorial Guinea",
            "Eritrea",
            "Ethiopia",
            "Gabon",
            "Gambia",
            "Ghana",
            "Guinea",
            "Guinea-Bissau",
            "Kenya",
            "Lesotho",
            "Liberia",
            "Libya",
            "Madagascar",
            "Malawi",
            "Mali",
            "Mauritania",
            "Mauritius",
            "Morocco",
            "Mozambique",
            "Namibia",
            "Niger",
            "Nigeria",
            "Reunion",
            "Rwanda",
            "Sao Tome and Principe",
            "Senegal",
            "Sierra Leone",
            "Somalia",
            "South Africa",
            "Sudan",
            "Swaziland",
            "Tanzania",
            "Togo",
            "Tunisia",
            "Uganda",
            "Zambia",
            "Zimbabwe"
           ],
           "ids": [
            "Algeria",
            "Angola",
            "Benin",
            "Botswana",
            "Burkina Faso",
            "Burundi",
            "Cameroon",
            "Central African Republic",
            "Chad",
            "Comoros",
            "Congo, Dem. Rep.",
            "Congo, Rep.",
            "Cote d'Ivoire",
            "Djibouti",
            "Egypt",
            "Equatorial Guinea",
            "Eritrea",
            "Ethiopia",
            "Gabon",
            "Gambia",
            "Ghana",
            "Guinea",
            "Guinea-Bissau",
            "Kenya",
            "Lesotho",
            "Liberia",
            "Libya",
            "Madagascar",
            "Malawi",
            "Mali",
            "Mauritania",
            "Mauritius",
            "Morocco",
            "Mozambique",
            "Namibia",
            "Niger",
            "Nigeria",
            "Reunion",
            "Rwanda",
            "Sao Tome and Principe",
            "Senegal",
            "Sierra Leone",
            "Somalia",
            "South Africa",
            "Sudan",
            "Swaziland",
            "Tanzania",
            "Togo",
            "Tunisia",
            "Uganda",
            "Zambia",
            "Zimbabwe"
           ],
           "legendgroup": "Africa",
           "marker": {
            "color": "#00cc96",
            "size": {
             "bdata": "s7XCAO0RUADGCSUARXIIAP8+TgCt0zIAEqxgAAZ0GgAfWDUAIlEDANFGMAFwABIApmZIAIHyAQCkauMBGPcDAJ/GGwBJHakBLHYHACm1BgDljIEAGqo0AMcsCQCYgpsAHDQPAK6FEwD41xoAXKhgADRIPwAAiU8AzsYSAD0LDAB4YOEAzXWEAFDICgAuL0UAyI3RAkhRBgDHqDQAgxQBAJGDPAAunygA51E0AMlkQAFhCMIAUmsGAFBfwAB+exoAKgtJAMbOhwBggjsAaDlMAA==",
             "dtype": "i4"
            },
            "sizemode": "area",
            "sizeref": 435928.2961983471,
            "symbol": "circle"
           },
           "mode": "markers",
           "name": "Africa",
           "orientation": "v",
           "showlegend": true,
           "type": "scatter",
           "x": {
            "bdata": "PpRoyftdqUBvEoPAxpK1QCO6Z11TL5BA/5QqUdb6kkCI/VTLnNaIQFT2TOWjz3lA/oAHBtCRl0DaVUj5OcCRQCFZwAQ+s5JAOQ68Wh5QnUDOFN/1vuyKQOeXwRjh66RAqdiY1xkIoEAMBtfcGZinQLCSj92FW5xArW71nMScjEDfnFsyuEx9QPxGhfvyIIBAfT7KiGFTwEAQjZNnQ/aGQFGgT+TJlpFAzOstihMmhkDzbbAmpVyGQKSnyCHygpBAcOzZczkqf0BIVo9F1EyGQK9fsBswVdJAwk6xajCImUDYGZWKPPh+QCrxyj8UCIFAb0p5rZQ0lkBYxoZuxlajQF7XL9gtvJpA7SNcbVq1gUCZS6q2Y6OtQBnG3SCKeZBA8dWO4hy0j0BDU3b6WWqvQA67lF9r739A/FBpxFyjlUCp29lXnjGZQBXGFoIs2JJAVei8xu4SlEButU5cesq7QJgwmpX9X5pATFRvDTRqpEAz3IDPv4GKQD6uDRVjFpdAZziez3AxnkBVsechWWeMQJIlcyxPxJtA7w9KTlzOgUA=",
            "dtype": "f8"
           },
           "xaxis": "x",
           "y": {
            "bdata": "arx0kxi0SUCuR+F6FP5BQOF6FK5HcUZAoBov3SSmSkDwp8ZLN1lEQKAaL90kxkVAg8DKoUVmRkB3vp8aL71EQLFyaJHtzEVAI9v5fmo8R0C6SQwCKwdGQIXrUbgeBUpAzczMzMysR0C28/3UeAlFQC/dJAaBpUhAdZMYBFZ+Q0DUeOkmMRhFQB+F61G4DkVABoGVQ4tMRkAEVg4tsu1BQPCnxks3CUhA8KfGSzeZQkDl0CLb+b5BQMHKoUW2U0lA5dAi2/k+SED4U+Olm8REQJMYBFYOHUlAVOOlm8RwRUB1kxgEVr5DQHWTGARWPkNAokW28/0kR0Ce76fGS8dOQHsUrkfhKklAWDm0yHYOQ0AxCKwcWpRJQMl2vp8aD0RAhetRuB6FREBMN4lBYEVOQM3MzMzMDEZAZmZmZmY2S0Dy0k1iEMhFQFg5tMh2DkFAkxgEVg59Q0Atsp3vp/ZJQOf7qfHSbUVAGy/dJAZRR0A3iUFg5eBGQN9PjZduYkdAEFg5tMgGSkBKDAIrhwZIQPyp8dJN4kdAj8L1KFz/SkA=",
            "dtype": "f8"
           },
           "yaxis": "y"
          },
          {
           "hovertemplate": "<b>%{hovertext}</b><br><br>continent=Americas<br>year=1967<br>gdpPercap=%{x}<br>lifeExp=%{y}<br>pop=%{marker.size}<extra></extra>",
           "hovertext": [
            "Argentina",
            "Bolivia",
            "Brazil",
            "Canada",
            "Chile",
            "Colombia",
            "Costa Rica",
            "Cuba",
            "Dominican Republic",
            "Ecuador",
            "El Salvador",
            "Guatemala",
            "Haiti",
            "Honduras",
            "Jamaica",
            "Mexico",
            "Nicaragua",
            "Panama",
            "Paraguay",
            "Peru",
            "Puerto Rico",
            "Trinidad and Tobago",
            "United States",
            "Uruguay",
            "Venezuela"
           ],
           "ids": [
            "Argentina",
            "Bolivia",
            "Brazil",
            "Canada",
            "Chile",
            "Colombia",
            "Costa Rica",
            "Cuba",
            "Dominican Republic",
            "Ecuador",
            "El Salvador",
            "Guatemala",
            "Haiti",
            "Honduras",
            "Jamaica",
            "Mexico",
            "Nicaragua",
            "Panama",
            "Paraguay",
            "Peru",
            "Puerto Rico",
            "Trinidad and Tobago",
            "United States",
            "Uruguay",
            "Venezuela"
           ],
           "legendgroup": "Americas",
           "marker": {
            "color": "#ab63fa",
            "size": {
             "bdata": "0fJdAdmnPQCfiD8FN689ARwthwA7ky0B7T0YAEQyfAD6yD0AaORSAJ9UMQBVk0cAueNBAFEoJgDoZRwAp1rcAhJ3HAAuchUAcekiAGgfuQCBaygAm6YOAMAa2Auj8CkA8CeUAA==",
             "dtype": "i4"
            },
            "sizemode": "area",
            "sizeref": 435928.2961983471,
            "symbol": "circle"
           },
           "mode": "markers",
           "name": "Americas",
           "orientation": "v",
           "showlegend": true,
           "type": "scatter",
           "x": {
            "bdata": "ZSsv+fN0v0AMI72oxTWkQCMuAI26y6pAiSmRREtmz0BZiA6Bp/KzQLEYda117aRA6zpUU7pBsEDWi6GcRDq2QKL/5Vrk1plA3xXB/xLjsUBE96xrmAaxQL3kf/IPValAXcDLDDuwlkDVsUrpidSjQFZfXRW07LdAF5zB37t6tkDf66S+ZCOyQOs6VFMCRbFAQNzVq8D2oUC8kXnkF5y2QKTDQxhHEbtAflUuVF71tUCatn9llxLTQPOTap+eRLVAFEAxsryiwkA=",
            "dtype": "f8"
           },
           "xaxis": "x",
           "y": {
            "bdata": "f2q8dJNoUEBqvHSTGIRGQDeJQWDl0ExAuB6F61EIUkBt5/up8UJOQCUGgZVD+01AQWDl0CJbUEDD9ShcjxJRQOWlm8QgYExAEFg5tMhWTEA9CtejcO1LQDdeukkMAklAyXa+nxofR0CDwMqhRXZJQHE9Ctej4FBArkfhehQOTkD91HjpJvFJQAaBlUOLBFBAv58aL908UEApXI/C9bhJQGZmZmZmxlFAmpmZmZlZUEBxPQrXo7BRQMuhRbbzHVFAWmQ730+9T0A=",
            "dtype": "f8"
           },
           "yaxis": "y"
          },
          {
           "hovertemplate": "<b>%{hovertext}</b><br><br>continent=Oceania<br>year=1967<br>gdpPercap=%{x}<br>lifeExp=%{y}<br>pop=%{marker.size}<extra></extra>",
           "hovertext": [
            "Australia",
            "New Zealand"
           ],
           "ids": [
            "Australia",
            "New Zealand"
           ],
           "legendgroup": "Oceania",
           "marker": {
            "color": "#FFA15A",
            "size": {
             "bdata": "CCi1ANagKQA=",
             "dtype": "i4"
            },
            "sizemode": "area",
            "sizeref": 435928.2961983471,
            "symbol": "circle"
           },
           "mode": "markers",
           "name": "Oceania",
           "orientation": "v",
           "showlegend": true,
           "type": "scatter",
           "x": {
            "bdata": "ufyH9A9fzECpjH+f9T/MQA==",
            "dtype": "f8"
           },
           "xaxis": "x",
           "y": {
            "bdata": "ZmZmZmbGUUDhehSuR+FRQA==",
            "dtype": "f8"
           },
           "yaxis": "y"
          }
         ],
         "name": "1967"
        },
        {
         "data": [
          {
           "hovertemplate": "<b>%{hovertext}</b><br><br>continent=Asia<br>year=1972<br>gdpPercap=%{x}<br>lifeExp=%{y}<br>pop=%{marker.size}<extra></extra>",
           "hovertext": [
            "Afghanistan",
            "Bahrain",
            "Bangladesh",
            "Cambodia",
            "China",
            "Hong Kong, China",
            "India",
            "Indonesia",
            "Iran",
            "Iraq",
            "Israel",
            "Japan",
            "Jordan",
            "Korea, Dem. Rep.",
            "Korea, Rep.",
            "Kuwait",
            "Lebanon",
            "Malaysia",
            "Mongolia",
            "Myanmar",
            "Nepal",
            "Oman",
            "Pakistan",
            "Philippines",
            "Saudi Arabia",
            "Singapore",
            "Sri Lanka",
            "Syria",
            "Taiwan",
            "Thailand",
            "Vietnam",
            "West Bank and Gaza",
            "Yemen, Rep."
           ],
           "ids": [
            "Afghanistan",
            "Bahrain",
            "Bangladesh",
            "Cambodia",
            "China",
            "Hong Kong, China",
            "India",
            "Indonesia",
            "Iran",
            "Iraq",
            "Israel",
            "Japan",
            "Jordan",
            "Korea, Dem. Rep.",
            "Korea, Rep.",
            "Kuwait",
            "Lebanon",
            "Malaysia",
            "Mongolia",
            "Myanmar",
            "Nepal",
            "Oman",
            "Pakistan",
            "Philippines",
            "Saudi Arabia",
            "Singapore",
            "Sri Lanka",
            "Syria",
            "Taiwan",
            "Thailand",
            "Vietnam",
            "West Bank and Gaza",
            "Yemen, Rep."
           ],
           "legendgroup": "Asia",
           "marker": {
            "color": "#636efa",
            "size": {
             "bdata": "pJPHAJCFAwB/szcE7q9xALCIYTP0zD4AwLvLIdCdOgfwIdMBwoaZAFU9LwAxkGMG754YADmL4QDoPv8BztgMANLkKAA2la4ANCYUANZcsgGxZr0AeqYMAGHUIQTdUm8CNMRiANDXIACdnsYAdEBmALdU6AB5TlcCpmGpAiSgEADjBXEA",
             "dtype": "i4"
            },
            "sizemode": "area",
            "sizeref": 435928.2961983471,
            "symbol": "circle"
           },
           "mode": "markers",
           "name": "Asia",
           "orientation": "v",
           "showlegend": true,
           "type": "scatter",
           "x": {
            "bdata": "Umf/Tdkfh0CBzw8jKtfRQNUHknfesYNA0VVfAvxZekAbp3xjMyeFQHmSdM32PcBA5QmEnUKghkAKMCx/blyRQKM6HcjoxsJAOxvyzwS0wkAtCVBTd/nIQHHJcadk3cxAihwibrZ9oEC7JqQ1PuusQBTQRNjAradAWmQ73z2y+kCD+StkYj69QKEQAYcwQqZAzF1LyPc2lkAAAAAAAFB2QBRI5BZOFoVAodY07wS9xEBDOjyEwWeQQKnBNAx/FZ9A3GgAb1tB2ECWJTrL4MrAQFn60AWV9ZJAgH9KldgWpEDyQjo8DL2vQG4164xv0ZdA2l37XQPchUADRMGM0XqoQJj75CgwxJNA",
            "dtype": "f8"
           },
           "xaxis": "x",
           "y": {
            "bdata": "JQaBlUMLQkBmZmZmZqZPQMdLN4lBoEZAf2q8dJMoREABE7h1N49PQAAAAAAAAFJAF9nO91NTSUBEi2zn+5lIQMuhRbbznUtAmpmZmZl5TEC4HoXrUehRQHsUrkfhWlJA3SQGgZVDTEDn+6nx0v1PQHWTGARWTk9AIbByaJHtUEBt5/up8VpQQOF6FK5HgU9AjZduEoPgSkApXI/C9YhKQD81XrpJ/EVA/Knx0k0SSkD0/dR46fZJQLgehetRCE1AxSCwcmjxSkDTTWIQWGFRQKabxCCwQlBA2s73U+OlTEApXI/C9VhRQKRwPQrXM05AjZduEoMgSUBqvHSTGERMQAaBlUOL7ENA",
            "dtype": "f8"
           },
           "yaxis": "y"
          },
          {
           "hovertemplate": "<b>%{hovertext}</b><br><br>continent=Europe<br>year=1972<br>gdpPercap=%{x}<br>lifeExp=%{y}<br>pop=%{marker.size}<extra></extra>",
           "hovertext": [
            "Albania",
            "Austria",
            "Belgium",
            "Bosnia and Herzegovina",
            "Bulgaria",
            "Croatia",
            "Czech Republic",
            "Denmark",
            "Finland",
            "France",
            "Germany",
            "Greece",
            "Hungary",
            "Iceland",
            "Ireland",
            "Italy",
            "Montenegro",
            "Netherlands",
            "Norway",
            "Poland",
            "Portugal",
            "Romania",
            "Serbia",
            "Slovak Republic",
            "Slovenia",
            "Spain",
            "Sweden",
            "Switzerland",
            "Turkey",
            "United Kingdom"
           ],
           "ids": [
            "Albania",
            "Austria",
            "Belgium",
            "Bosnia and Herzegovina",
            "Bulgaria",
            "Croatia",
            "Czech Republic",
            "Denmark",
            "Finland",
            "France",
            "Germany",
            "Greece",
            "Hungary",
            "Iceland",
            "Ireland",
            "Italy",
            "Montenegro",
            "Netherlands",
            "Norway",
            "Poland",
            "Portugal",
            "Romania",
            "Serbia",
            "Slovak Republic",
            "Slovenia",
            "Spain",
            "Sweden",
            "Switzerland",
            "Turkey",
            "United Kingdom"
           ],
           "legendgroup": "Europe",
           "marker": {
            "color": "#EF553B",
            "size": {
             "bdata": "AooiAIkdcwAsJpQA+EU6AMjcggAeeUAADnyWAGwqTACpy0YAIF4VA6AgsQQ0oYcA65meAHsxAwAQJi4AfI09Az4NCADSZcsATAM8ALkk+AHS4IgAeEk7AcjZfgAZF0YALtsZAAmhDgK173sAeK1hANkYPAKYslcD",
             "dtype": "i4"
            },
            "sizemode": "area",
            "sizeref": 435928.2961983471,
            "symbol": "circle"
           },
           "mode": "markers",
           "name": "Europe",
           "orientation": "v",
           "showlegend": true,
           "type": "scatter",
           "x": {
            "bdata": "h4kGKdjiqUAYldQJaEXQQEFIFjAJSNBA/tR46VZYpkA1Cd6QfsW5QL4SSIkL5sFAvJaQDzqayUBau+1CjWzSQEi/fR1wC8xAKAr0iZh1z0CdLouJC5jRQN+JWS9q2shASphp+1Pcw0CwPbMkCNvOQJuRQe5incJAJhk5C6P2x0D9ogT9aWK+QOepDrmvWtJAptB5jUOF0kBOEkvKgUa/QL05XKsfn8FAZN0/FmpLv0BnJ4OjCI3EQPvNxHQV5cJAqDXNO74vyECUE+0qYMfEQIums5MBatFAyR8MPMeO2kAtW+uLZPWqQHfbheaOC89A",
            "dtype": "f8"
           },
           "xaxis": "x",
           "y": {
            "bdata": "XI/C9SjsUEC4HoXrUahRQFyPwvUo3FFAzczMzMzcUECamZmZmblRQNejcD0KZ1FAw/UoXI+SUUCuR+F6FF5SQEjhehSut1FAuB6F61EYUkAAAAAAAMBRQPYoXI/CFVJAcT0K16NwUUA9CtejcJ1SQFK4HoXr0VFAXI/C9SgMUkBkEFg5tKhRQAAAAAAAcFJA9ihcj8KVUkBmZmZmZrZRQHE9CtejUFFAPQrXo3BNUUDNzMzMzCxRQGZmZmZmllFAFK5H4Xp0UUCkcD0K10NSQK5H4XoUrlJAUrgehetxUkBxPQrXo4BMQHE9CtejAFJA",
            "dtype": "f8"
           },
           "yaxis": "y"
          },
          {
           "hovertemplate": "<b>%{hovertext}</b><br><br>continent=Africa<br>year=1972<br>gdpPercap=%{x}<br>lifeExp=%{y}<br>pop=%{marker.size}<extra></extra>",
           "hovertext": [
            "Algeria",
            "Angola",
            "Benin",
            "Botswana",
            "Burkina Faso",
            "Burundi",
            "Cameroon",
            "Central African Republic",
            "Chad",
            "Comoros",
            "Congo, Dem. Rep.",
            "Congo, Rep.",
            "Cote d'Ivoire",
            "Djibouti",
            "Egypt",
            "Equatorial Guinea",
            "Eritrea",
            "Ethiopia",
            "Gabon",
            "Gambia",
            "Ghana",
            "Guinea",
            "Guinea-Bissau",
            "Kenya",
            "Lesotho",
            "Liberia",
            "Libya",
            "Madagascar",
            "Malawi",
            "Mali",
            "Mauritania",
            "Mauritius",
            "Morocco",
            "Mozambique",
            "Namibia",
            "Niger",
            "Nigeria",
            "Reunion",
            "Rwanda",
            "Sao Tome and Principe",
            "Senegal",
            "Sierra Leone",
            "Somalia",
            "South Africa",
            "Sudan",
            "Swaziland",
            "Tanzania",
            "Togo",
            "Tunisia",
            "Uganda",
            "Zambia",
            "Zimbabwe"
           ],
           "ids": [
            "Algeria",
            "Angola",
            "Benin",
            "Botswana",
            "Burkina Faso",
            "Burundi",
            "Cameroon",
            "Central African Republic",
            "Chad",
            "Comoros",
            "Congo, Dem. Rep.",
            "Congo, Rep.",
            "Cote d'Ivoire",
            "Djibouti",
            "Egypt",
            "Equatorial Guinea",
            "Eritrea",
            "Ethiopia",
            "Gabon",
            "Gambia",
            "Ghana",
            "Guinea",
            "Guinea-Bissau",
            "Kenya",
            "Lesotho",
            "Liberia",
            "Libya",
            "Madagascar",
            "Malawi",
            "Mali",
            "Mauritania",
            "Mauritius",
            "Morocco",
            "Mozambique",
            "Namibia",
            "Niger",
            "Nigeria",
            "Reunion",
            "Rwanda",
            "Sao Tome and Principe",
            "Senegal",
            "Sierra Leone",
            "Somalia",
            "South Africa",
            "Sudan",
            "Swaziland",
            "Tanzania",
            "Togo",
            "Tunisia",
            "Uganda",
            "Zambia",
            "Zimbabwe"
           ],
           "legendgroup": "Africa",
           "marker": {
            "color": "#00cc96",
            "size": {
             "bdata": "UzvhAMryWQC/IioAV3MJAB7qUgD/3DUA5CFrAFxoHQC8fjsAq9ADALURXwEqdBQAkKVcAKC6AgB5HhMCYzwEANt8IgDEhNUBeTUIAO3jBwCIu44AOyg6ANGKCQDxybcAawoRAISfFgDFUiEAvhFsAHUwSAA+7lgAMlYUAIb9DAC+OP4AvK6VABaKDACmNk0ANQI0A0ELBwA56jwAMysBAJgERgAl7isAoZg6AEI7bQGbu94AaVMHAKFn4ACfYB8A0+xQAM19mwCBw0QAD29ZAA==",
             "dtype": "i4"
            },
            "sizemode": "area",
            "sizeref": 435928.2961983471,
            "symbol": "circle"
           },
           "mode": "markers",
           "name": "Africa",
           "orientation": "v",
           "showlegend": true,
           "type": "scatter",
           "x": {
            "bdata": "Mo6R7KlWsEAVGLK6SWG1QHpvDAEw95BAQyjv4zivoUAO2YpH47WKQDHFZpGXAX1AzJ9vC5ZQmkBrK/aXDbiQQNZwkXtqQJFA3gIJik9GnkDOM/YlK0eMQE9XdyxOGqlAu18F+GaUokB+vma5bNysQD7qr1cIoJ9AWlBzTUwDhUDBAHj6lxKAQGVIBJnzsYFAmrZ/ZflExkDY5DrXsaCHQGq/tRPlaJJAu+DCcFQth0C0aJX0y6GJQG2Oc5twGZNAv2mfM04Jf0AxYTQrCxiJQFDkSdLfhNRA8nhafkBSm0CCFOHL+USCQDUOUHXzKoJAa0lHOWjLmEAysI7j9x6kQCfChqfHKJ5AL113qVenhkBaKQRyKUStQBfNFISs0Y1AxXWMK46JmkBbs5WXqLezQMP3DzOldIJAA7Fs5vDzl0CvQzUl2faYQPm6DP8JJ5VAX3089E2ak0D0GVBv9lW+QJayDHGc7plACKwcWqxJqkD+xLdm4Z+MQNm0UgikxplAtjnObZKCpUAfSUkP47WNQPceLjn+tZtANwNtvOX6iEA=",
            "dtype": "f8"
           },
           "xaxis": "x",
           "y": {
            "bdata": "/Knx0k1CS0AQWDm0yPZCQG8Sg8DKgUdAUI2XbhIDTEDP91PjpctFQJ7vp8ZLB0ZAg8DKoUWGR0DRItv5frpFQEa28/3UyEZARrbz/dR4SEA730+Nl/5GQGq8dJMYdEtASgwCK4fmSEADK4cW2S5GQKjGSzeJkUlANV66SQxCREAZBFYOLRJGQFK4HoXrwUVAuB6F61FYSECBlUOLbCdDQAAAAAAA8EhAsp3vp8ZrQ0CR7Xw/NT5CQGQ730+Nx0pAGQRWDi3iSEA730+Nl05FQG3n+6nxYkpAsXJoke1sRkA3XrpJDOJEQJMYBFYO/UNADi2yne83SEBGtvP91HhPQHWTGARWbkpARIts5/spREDl0CLb+e5KQNnO91PjRURADgIrhxZpRUCoxks3iRFQQM3MzMzMTEZAPQrXo3A9TEC4HoXrUehGQDMzMzMzs0FABoGVQ4t8REAOAiuHFtlKQLTIdr6fikZALbKd76fGSECPwvUoXM9HQP3UeOkm4UhAkxgEVg7NS0A3XrpJDIJJQARWDi2yDUlA4XoUrkfRS0A=",
            "dtype": "f8"
           },
           "yaxis": "y"
          },
          {
           "hovertemplate": "<b>%{hovertext}</b><br><br>continent=Americas<br>year=1972<br>gdpPercap=%{x}<br>lifeExp=%{y}<br>pop=%{marker.size}<extra></extra>",
           "hovertext": [
            "Argentina",
            "Bolivia",
            "Brazil",
            "Canada",
            "Chile",
            "Colombia",
            "Costa Rica",
            "Cuba",
            "Dominican Republic",
            "Ecuador",
            "El Salvador",
            "Guatemala",
            "Haiti",
            "Honduras",
            "Jamaica",
            "Mexico",
            "Nicaragua",
            "Panama",
            "Paraguay",
            "Peru",
            "Puerto Rico",
            "Trinidad and Tobago",
            "United States",
            "Uruguay",
            "Venezuela"
           ],
           "ids": [
            "Argentina",
            "Bolivia",
            "Brazil",
            "Canada",
            "Chile",
            "Colombia",
            "Costa Rica",
            "Cuba",
            "Dominican Republic",
            "Ecuador",
            "El Salvador",
            "Guatemala",
            "Haiti",
            "Honduras",
            "Jamaica",
            "Mexico",
            "Nicaragua",
            "Panama",
            "Paraguay",
            "Peru",
            "Puerto Rico",
            "Trinidad and Tobago",
            "United States",
            "Uruguay",
            "Venezuela"
           ],
           "legendgroup": "Americas",
           "marker": {
            "color": "#ab63fa",
            "size": {
             "bdata": "Fxx6AXCrRQB6sgIG1AhUARRHlAAq+lcBLP8bAHTBhgBhR0cAGxxgADfYOQCNk04AvbBHAJo+LQAwex4ApkBWA/xOIQAAqhgAWOMnAIzu1ACccSsAX+EOAEDCggzWLCsAAbevAA==",
             "dtype": "i4"
            },
            "sizemode": "area",
            "sizeref": 435928.2961983471,
            "symbol": "circle"
           },
           "mode": "markers",
           "name": "Americas",
           "orientation": "v",
           "showlegend": true,
           "type": "scatter",
           "x": {
            "bdata": "BoNr7oRxwkDH8UOlqUinQC+JsyK2ebNApmH4iKSG0kDQ04BBBna1QAra5PBRgalAglfLnSX+s0BZFkz8cbm0QMU6Vb6/G6FAAYdQpf6gtECOWmH6PqixQM+B5QjRfq9AJ/im6dPZmUDmBdhHr8OjQJG/tKjjCb1AnvnVHGiZukDMmljgl1CyQAcU6uk/9LRAmkNSC622o0CJldHI0zG3QG9GzVeF0cFAZKvLKY3buUAoSddMgkvVQGYRiq1oR7ZACvSJPKGExEA=",
            "dtype": "f8"
           },
           "xaxis": "x",
           "y": {
            "bdata": "XI/C9SjEUEAIrBxaZFtHQI2XbhKDwE1AuB6F61E4UkCcxCCwcrhPQDu0yHa+z05AdJMYBFb2UECDwMqhRa5RQFTjpZvE0E1A2s73U+NlTUDRItv5fhpNQFg5tMh23kpATDeJQWAFSED91HjpJvFKQAAAAAAAQFFAke18PzUuT0AX2c73U5NLQOj7qfHSjVBAXI/C9Sh0UEDTTWIQWLlLQArXo3A9ClJAmpmZmZl5UED2KFyPwtVRQFCNl24SK1FAIbByaJFtUEA=",
            "dtype": "f8"
           },
           "yaxis": "y"
          },
          {
           "hovertemplate": "<b>%{hovertext}</b><br><br>continent=Oceania<br>year=1972<br>gdpPercap=%{x}<br>lifeExp=%{y}<br>pop=%{marker.size}<extra></extra>",
           "hovertext": [
            "Australia",
            "New Zealand"
           ],
           "ids": [
            "Australia",
            "New Zealand"
           ],
           "legendgroup": "Oceania",
           "marker": {
            "color": "#FFA15A",
            "size": {
             "bdata": "qBDJAMyxLAA=",
             "dtype": "i4"
            },
            "sizemode": "area",
            "sizeref": 435928.2961983471,
            "symbol": "circle"
           },
           "mode": "markers",
           "name": "Oceania",
           "orientation": "v",
           "showlegend": true,
           "type": "scatter",
           "x": {
            "bdata": "X3tmSShl0EBmTpfFBFfPQA==",
            "dtype": "f8"
           },
           "xaxis": "x",
           "y": {
            "bdata": "7FG4HoX7UUApXI/C9fhRQA==",
            "dtype": "f8"
           },
           "yaxis": "y"
          }
         ],
         "name": "1972"
        },
        {
         "data": [
          {
           "hovertemplate": "<b>%{hovertext}</b><br><br>continent=Asia<br>year=1977<br>gdpPercap=%{x}<br>lifeExp=%{y}<br>pop=%{marker.size}<extra></extra>",
           "hovertext": [
            "Afghanistan",
            "Bahrain",
            "Bangladesh",
            "Cambodia",
            "China",
            "Hong Kong, China",
            "India",
            "Indonesia",
            "Iran",
            "Iraq",
            "Israel",
            "Japan",
            "Jordan",
            "Korea, Dem. Rep.",
            "Korea, Rep.",
            "Kuwait",
            "Lebanon",
            "Malaysia",
            "Mongolia",
            "Myanmar",
            "Nepal",
            "Oman",
            "Pakistan",
            "Philippines",
            "Saudi Arabia",
            "Singapore",
            "Sri Lanka",
            "Syria",
            "Taiwan",
            "Thailand",
            "Vietnam",
            "West Bank and Gaza",
            "Yemen, Rep."
           ],
           "ids": [
            "Afghanistan",
            "Bahrain",
            "Bangladesh",
            "Cambodia",
            "China",
            "Hong Kong, China",
            "India",
            "Indonesia",
            "Iran",
            "Iraq",
            "Israel",
            "Japan",
            "Jordan",
            "Korea, Dem. Rep.",
            "Korea, Rep.",
            "Kuwait",
            "Lebanon",
            "Malaysia",
            "Mongolia",
            "Myanmar",
            "Nepal",
            "Oman",
            "Pakistan",
            "Philippines",
            "Saudi Arabia",
            "Singapore",
            "Sri Lanka",
            "Syria",
            "Taiwan",
            "Thailand",
            "Vietnam",
            "West Bank and Gaza",
            "Yemen, Rep."
           ],
           "legendgroup": "Asia",
           "marker": {
            "color": "#636efa",
            "size": {
             "bdata": "dA7jAMKJBAASPcsEL3xqABj7OzgU8UUAgBLKJQhCJghnZB0CpFG1AO5XNQBZjskG9JAdAMga+QAg+CsChWYRAAuLLwBFAcQAwFAXAJcU4QGOmtQA9VMPAO6DqASS48oC+Qd8ADR7IwDkZ9cAVwp5ACwfAAE9pqECghQDAyM+EwAWPIAA",
             "dtype": "i4"
            },
            "sizemode": "area",
            "sizeref": 435928.2961983471,
            "symbol": "circle"
           },
           "mode": "markers",
           "name": "Asia",
           "orientation": "v",
           "showlegend": true,
           "type": "scatter",
           "x": {
            "bdata": "ZaVJKeiQiEBgPIOGBuPSQP7PUJIEn4RAw038B8dngEBGcp5W5imHQEjhehQS2cVAhKlm1rJqiUDYn8TnzpqVQEDZlCtMOMdAIxXGFh6wzECu9UVCT/3JQBGN7iCYONBApIy4ALRIpkD0iqceTQqwQMNHxJQ4MbJA9Bq7RC/w7EBWC+wx2enAQOJzJ9jX561ACObo8Qu+mUAAAAAAADB3QCZ+1kbmsIVAOBCSBSwkx0A3wTdNr1+SQP8/TphoiqJAfh04Z/iu4EDTpBR0C+XFQHB4QUQaE5VAdsQhG/j2qECcFVEThdy1QCmqtwbmpJ5AVGBcBUxMhkCk4ZS5qcWsQJs6j4oPl5xA",
            "dtype": "f8"
           },
           "xaxis": "x",
           "y": {
            "bdata": "8tJNYhA4Q0DLoUW282VQQKAaL90kdkdAuB6F61E4P0CyutVz0vtPQGZmZmZmZlJAtMh2vp8aS0Bg5dAi21lKQGDl0CLb2UxAvp8aL900TkCkcD0K10NSQLgehetR2FJA/dR46SaRTkAYBFYOLcpQQBsv3SQGMVBAy6FFtvNVUUB0kxgEVoZQQKrx0k1iUFBAAyuHFtm+S0BkO99PjQdMQDu0yHa+X0dA5dAi2/muTEAv3SQGgQVLQEjhehSuB05AuB6F61FYTUB7FK5H4bJRQNv5fmq8fFBAKVyPwvWYTkD2KFyPwqVRQKwcWmQ7P09AbxKDwMrhS0BSuB6F62FOQGZmZmZmFkZA",
            "dtype": "f8"
           },
           "yaxis": "y"
          },
          {
           "hovertemplate": "<b>%{hovertext}</b><br><br>continent=Europe<br>year=1977<br>gdpPercap=%{x}<br>lifeExp=%{y}<br>pop=%{marker.size}<extra></extra>",
           "hovertext": [
            "Albania",
            "Austria",
            "Belgium",
            "Bosnia and Herzegovina",
            "Bulgaria",
            "Croatia",
            "Czech Republic",
            "Denmark",
            "Finland",
            "France",
            "Germany",
            "Greece",
            "Hungary",
            "Iceland",
            "Ireland",
            "Italy",
            "Montenegro",
            "Netherlands",
            "Norway",
            "Poland",
            "Portugal",
            "Romania",
            "Serbia",
            "Slovak Republic",
            "Slovenia",
            "Spain",
            "Sweden",
            "Switzerland",
            "Turkey",
            "United Kingdom"
           ],
           "ids": [
            "Albania",
            "Austria",
            "Belgium",
            "Bosnia and Herzegovina",
            "Bulgaria",
            "Croatia",
            "Czech Republic",
            "Denmark",
            "Finland",
            "France",
            "Germany",
            "Greece",
            "Hungary",
            "Iceland",
            "Ireland",
            "Italy",
            "Montenegro",
            "Netherlands",
            "Norway",
            "Poland",
            "Portugal",
            "Romania",
            "Serbia",
            "Slovak Republic",
            "Slovenia",
            "Spain",
            "Sweden",
            "Switzerland",
            "Turkey",
            "United Kingdom"
           ],
           "legendgroup": "Europe",
           "marker": {
            "color": "#EF553B",
            "size": {
             "bdata": "+EgmAC58cwBo3pUA8Fg+AF47hgDR5UEA+w6bAKOkTQBWT0gA2zsrA4WjqAQ/CY4Ac0+iAH9iAwDc7DEAbWVXA8mLCAA9YdMAxbE9AEZHEAKIcJMA5XtKAR+LhACbqkkA56caANgDLAIA6X0AiGFgAMEIhwI4OVkD",
             "dtype": "i4"
            },
            "sizemode": "area",
            "sizeref": 435928.2961983471,
            "symbol": "circle"
           },
           "mode": "markers",
           "name": "Europe",
           "orientation": "v",
           "showlegend": true,
           "type": "scatter",
           "x": {
            "bdata": "Q9R9AAKaq0BGlPYGW0nTQKdc4V1+q9JAzeSbbfaQq0C3QliNPby9QLMkQE2xFMZAizcyjxTozEBWDi2yufHTQOIeSx+2es5AGD4ipijd0UCGrG71OgjUQPlmmxvDuctAU67wLmvNxkBYxRuZvTHTQJD3qpV9x8VAXrpJDP7Xy0CyhSAH973CQPvL7slDttRA499nXNbD1kDyJyobEpLCQIKtEiw+3sNAVaTC2DJGwkBbXyS0VVrJQJ5BQ/9UVcVAqE2c3IPWzUAHCOboddrJQC8012nuadJAtTLhl5JZ2kBzucFQH62wQJfFxOYvBdFA",
            "dtype": "f8"
           },
           "xaxis": "x",
           "y": {
            "bdata": "7FG4HoU7UUB7FK5H4QpSQDMzMzMzM1JA16NwPQp3UUCkcD0K17NRQClcj8L1qFFAPQrXo3CtUUBcj8L1KKxSQOF6FK5HIVJAhetRuB51UkAAAAAAACBSQOxRuB6Fa1JAzczMzMx8UUDXo3A9CgdTQFK4HoXrAVJAH4XrUbheUkBOYhBYOURSQI/C9Shcz1JASOF6FK7XUkB7FK5H4apRQArXo3A9mlFAPQrXo3BdUUAzMzMzM5NRQM3MzMzMnFFArkfhehS+UUApXI/C9ZhSQFyPwvUo3FJAKVyPwvXYUkA3iUFg5cBNQHE9CtejMFJA",
            "dtype": "f8"
           },
           "yaxis": "y"
          },
          {
           "hovertemplate": "<b>%{hovertext}</b><br><br>continent=Africa<br>year=1977<br>gdpPercap=%{x}<br>lifeExp=%{y}<br>pop=%{marker.size}<extra></extra>",
           "hovertext": [
            "Algeria",
            "Angola",
            "Benin",
            "Botswana",
            "Burkina Faso",
            "Burundi",
            "Cameroon",
            "Central African Republic",
            "Chad",
            "Comoros",
            "Congo, Dem. Rep.",
            "Congo, Rep.",
            "Cote d'Ivoire",
            "Djibouti",
            "Egypt",
            "Equatorial Guinea",
            "Eritrea",
            "Ethiopia",
            "Gabon",
            "Gambia",
            "Ghana",
            "Guinea",
            "Guinea-Bissau",
            "Kenya",
            "Lesotho",
            "Liberia",
            "Libya",
            "Madagascar",
            "Malawi",
            "Mali",
            "Mauritania",
            "Mauritius",
            "Morocco",
            "Mozambique",
            "Namibia",
            "Niger",
            "Nigeria",
            "Reunion",
            "Rwanda",
            "Sao Tome and Principe",
            "Senegal",
            "Sierra Leone",
            "Somalia",
            "South Africa",
            "Sudan",
            "Swaziland",
            "Tanzania",
            "Togo",
            "Tunisia",
            "Uganda",
            "Zambia",
            "Zimbabwe"
           ],
           "ids": [
            "Algeria",
            "Angola",
            "Benin",
            "Botswana",
            "Burkina Faso",
            "Burundi",
            "Cameroon",
            "Central African Republic",
            "Chad",
            "Comoros",
            "Congo, Dem. Rep.",
            "Congo, Rep.",
            "Cote d'Ivoire",
            "Djibouti",
            "Egypt",
            "Equatorial Guinea",
            "Eritrea",
            "Ethiopia",
            "Gabon",
            "Gambia",
            "Ghana",
            "Guinea",
            "Guinea-Bissau",
            "Kenya",
            "Lesotho",
            "Liberia",
            "Libya",
            "Madagascar",
            "Malawi",
            "Mali",
            "Mauritania",
            "Mauritius",
            "Morocco",
            "Mozambique",
            "Namibia",
            "Niger",
            "Nigeria",
            "Reunion",
            "Rwanda",
            "Sao Tome and Principe",
            "Senegal",
            "Sierra Leone",
            "Somalia",
            "South Africa",
            "Sudan",
            "Swaziland",
            "Tanzania",
            "Togo",
            "Tunisia",
            "Uganda",
            "Zambia",
            "Zimbabwe"
           ],
           "legendgroup": "Africa",
           "marker": {
            "color": "#00cc96",
            "size": {
             "bdata": "JLsFAfMIXgALWDAAoOwLACbeWQAvgjoAOXV5AO0SIQCk9UIAY6YEAOYQlAEBcxcA9tJxAFZ9AwB3y08Co/ACAAJXJgDHORACP8cKABJICQBtzKAA0n9AAAxfCwA0Qt0AxBgTAMH+GQD3hykA/i16AH4EVgABDmMAMDoWAIHuDQANtxgBPMypAILoDgCms1YAlTy1Az+CBwCwD0cADFMBADdGUAAh7S8Agm5CAEz4nQFaAAUBAWoIAF1gBQHmOSMARaFbAN7UrgAmmU8Au1llAA==",
             "dtype": "i4"
            },
            "sizemode": "area",
            "sizeref": 435928.2961983471,
            "symbol": "circle"
           },
           "mode": "markers",
           "name": "Africa",
           "orientation": "v",
           "showlegend": true,
           "type": "scatter",
           "x": {
            "bdata": "a26FsGous0DOUx1yS4GnQMpt+x6lFJBA17/rM7cdqUDK8r+mGDuHQIwap3zTYIFASUkPQ7vdm0Ca7nVSf1WRQMiYu5bwt5FAzhsnhWlSkkDMft3pDt6IQGghAaNbdqlA7zmwHHmro0AT86ykhROoQMqnx7b8wqVAvYfw1Ij0jUCRr6mYD5x/QAlNt5F3ZoFA3ZiesGQ81UBBBuHACqaLQKghBarKCY9A8g9spnxVi0DloJXFzuWHQBvXv+tzzpNATZTO0fRKh0DRC4halAKEQKbQeY3Nb9VAS8lyEuogmEALD/UWyrmEQOdk84Ipc4VAW11OCfhll0BbJO1G9/2sQJyIfm09haJABgfFoB1lf0B2qnzP+EiuQAsRgTQtR4lAjGg7ps73nkDLvFXXzd+wQCyEMBKl8IRARzoDIz8mm0BSCyWTE2eYQKSMuAAkEZVAa+9TVfirlkBX0LTEply/QDpXlBL6NaFATMKFPNKKrUBY0Go38BOOQDscXaUb85dAjBNf7cBhqEDaSwl33V2KQHr7c9HA0phAjz+skrNshUA=",
            "dtype": "f8"
           },
           "xaxis": "x",
           "y": {
            "bdata": "bxKDwMoBTUDn+6nx0r1DQLgehetRmEhARrbz/dSoTUCoxks3iRFHQBSuR+F69EZAPQrXo3CtSEAzMzMzM2NHQBsv3SQGsUdA1HjpJjF4SUD0/dR46eZHQAAAAAAA0EtAHVpkO98vSkDfT42XbkJHQEa28/3UqEpAUI2XbhIDRUAUrkfhekRGQOF6FK5HQUZAhetRuB5lSkCyne+nxutEQFTjpZvE4ElAqMZLN4lhREDsUbgehbtCQKRwPQrXE0xAtMh2vp8aSkBvEoPAyuFFQH9qvHSTuExAVOOlm8RwR0AZBFYOLeJFQAisHFpk20RAkxgEVg5tSUDsUbgehTtQQD0K16Nw3UtAj8L1KFw/RUAOLbKd7zdMQGiR7Xw/pURAbxKDwMpBRkBqvHSTGMRQQAAAAAAAgEZAZmZmZmZGTUCNl24Sg3BIQL6fGi/dZEJA6SYxCKz8RED6fmq8dMNLQGZmZmZm5kdA2/l+arxESkASg8DKofVIQKjGSzeJcUpAQmDl0CLrTUDNzMzMzCxJQMUgsHJosUlAg8DKoUXWTEA=",
            "dtype": "f8"
           },
           "yaxis": "y"
          },
          {
           "hovertemplate": "<b>%{hovertext}</b><br><br>continent=Americas<br>year=1977<br>gdpPercap=%{x}<br>lifeExp=%{y}<br>pop=%{marker.size}<extra></extra>",
           "hovertext": [
            "Argentina",
            "Bolivia",
            "Brazil",
            "Canada",
            "Chile",
            "Colombia",
            "Costa Rica",
            "Cuba",
            "Dominican Republic",
            "Ecuador",
            "El Salvador",
            "Guatemala",
            "Haiti",
            "Honduras",
            "Jamaica",
            "Mexico",
            "Nicaragua",
            "Panama",
            "Paraguay",
            "Peru",
            "Puerto Rico",
            "Trinidad and Tobago",
            "United States",
            "Uruguay",
            "Venezuela"
           ],
           "ids": [
            "Argentina",
            "Bolivia",
            "Brazil",
            "Canada",
            "Chile",
            "Colombia",
            "Costa Rica",
            "Cuba",
            "Dominican Republic",
            "Ecuador",
            "El Salvador",
            "Guatemala",
            "Haiti",
            "Honduras",
            "Jamaica",
            "Mexico",
            "Nicaragua",
            "Panama",
            "Paraguay",
            "Peru",
            "Puerto Rico",
            "Trinidad and Tobago",
            "United States",
            "Uruguay",
            "Venezuela"
           ],
           "legendgroup": "Americas",
           "marker": {
            "color": "#ab63fa",
            "size": {
             "bdata": "lL2bAaSCTQDfStAGsBprAXG9oQAM6X4BKSwgAMSJkQAQ6lAAEhFvANpYQQAGB1cACuZKAIOeLgAO6SAAaObMA+b6JgCmEhwALootAFP98wB8Ai8AodoPAJiUIA2w2CsASwzOAA==",
             "dtype": "i4"
            },
            "sizemode": "area",
            "sizeref": 435928.2961983471,
            "symbol": "circle"
           },
           "mode": "markers",
           "name": "Americas",
           "orientation": "v",
           "showlegend": true,
           "type": "scatter",
           "x": {
            "bdata": "v2A3bIOvw0ABMQkXMrirQIrJG2AeBLpAGhcOhLiS1UCCj8GKw5SyQNf6IqGdz61ArMjogOAmt0Cgfhe2fuy4QAfOGVH686RA6KT3jZ8XukCu1LMg7BK0QCuhuyT+D7NAC9P3GjJJnUDScqCHagapQPt2EhEy+rlAdJoF2u36vUDoTrD/Xm61QD7pRILp57RAeZCeIr9gqUDfKHl1Som4QP5/nDBDFcNAJxqk4I3bvkA1Y9F0KILXQKuEJ/RWaLlAEce6uPmryUA=",
            "dtype": "f8"
           },
           "xaxis": "x",
           "y": {
            "bdata": "EVg5tMgeUUBt5/up8QJJQDvfT42Xvk5APQrXo3CNUkAW2c73U8NQQEJg5dAi609AAAAAAACwUUCoxks3iSlSQL6fGi/d5E5ASOF6FK6nTkAOAiuHFllMQMHKoUW2A0xAoBov3ST2SED6fmq8dLNMQNejcD0Kh1FANV66SQxCUEBcj8L1KLxMQN0kBoGVK1FAPN9PjZeWUEDwp8ZLNzlNQFyPwvUoXFJAMzMzMzMTUUC4HoXrUVhSQBFYObTIXlFAd76fGi/dUEA=",
            "dtype": "f8"
           },
           "yaxis": "y"
          },
          {
           "hovertemplate": "<b>%{hovertext}</b><br><br>continent=Oceania<br>year=1977<br>gdpPercap=%{x}<br>lifeExp=%{y}<br>pop=%{marker.size}<extra></extra>",
           "hovertext": [
            "Australia",
            "New Zealand"
           ],
           "ids": [
            "Australia",
            "New Zealand"
           ],
           "legendgroup": "Oceania",
           "marker": {
            "color": "#FFA15A",
            "size": {
             "bdata": "9MDWAORKMAA=",
             "dtype": "i4"
            },
            "sizemode": "area",
            "sizeref": 435928.2961983471,
            "symbol": "circle"
           },
           "mode": "markers",
           "name": "Oceania",
           "orientation": "v",
           "showlegend": true,
           "type": "scatter",
           "x": {
            "bdata": "qfsApIzn0UAr9pfd27TPQA==",
            "dtype": "f8"
           },
           "xaxis": "x",
           "y": {
            "bdata": "j8L1KFxfUkCuR+F6FA5SQA==",
            "dtype": "f8"
           },
           "yaxis": "y"
          }
         ],
         "name": "1977"
        },
        {
         "data": [
          {
           "hovertemplate": "<b>%{hovertext}</b><br><br>continent=Asia<br>year=1982<br>gdpPercap=%{x}<br>lifeExp=%{y}<br>pop=%{marker.size}<extra></extra>",
           "hovertext": [
            "Afghanistan",
            "Bahrain",
            "Bangladesh",
            "Cambodia",
            "China",
            "Hong Kong, China",
            "India",
            "Indonesia",
            "Iran",
            "Iraq",
            "Israel",
            "Japan",
            "Jordan",
            "Korea, Dem. Rep.",
            "Korea, Rep.",
            "Kuwait",
            "Lebanon",
            "Malaysia",
            "Mongolia",
            "Myanmar",
            "Nepal",
            "Oman",
            "Pakistan",
            "Philippines",
            "Saudi Arabia",
            "Singapore",
            "Sri Lanka",
            "Syria",
            "Taiwan",
            "Thailand",
            "Vietnam",
            "West Bank and Gaza",
            "Yemen, Rep."
           ],
           "ids": [
            "Afghanistan",
            "Bahrain",
            "Bangladesh",
            "Cambodia",
            "China",
            "Hong Kong, China",
            "India",
            "Indonesia",
            "Iran",
            "Iraq",
            "Israel",
            "Japan",
            "Jordan",
            "Korea, Dem. Rep.",
            "Korea, Rep.",
            "Kuwait",
            "Lebanon",
            "Malaysia",
            "Mongolia",
            "Myanmar",
            "Nepal",
            "Oman",
            "Pakistan",
            "Philippines",
            "Saudi Arabia",
            "Singapore",
            "Sri Lanka",
            "Syria",
            "Taiwan",
            "Thailand",
            "Vietnam",
            "West Bank and Gaza",
            "Yemen, Rep."
           ],
           "legendgroup": "Asia",
           "marker": {
            "color": "#636efa",
            "size": {
             "bdata": "mI/EAG/EBQDmM4wFJfhuAKgTnzt0VFAAADkzKhjUIwnvPJEChkTYAPXfOgC+eg8HF9AjAJ5HDQEwEVgCltkWABwaLwC8XdwAgMsaAHouEQJaCPEAONoTAMiZcwWGry8DkLurAN12KADnI+sAvpePAA5PGgEYC+kCZalYA9TBFQASXZMA",
             "dtype": "i4"
            },
            "sizemode": "area",
            "sizeref": 435928.2961983471,
            "symbol": "circle"
           },
           "mode": "markers",
           "name": "Asia",
           "orientation": "v",
           "showlegend": true,
           "type": "scatter",
           "x": {
            "bdata": "Pr85bReQjkAY7IZtycLSQIoIWtzaJ4VAo4+ex82Dg0BhVb38XhOOQBpuwOdDcMxAZDcizsm9ikA095DwfbOXQC0HeqhVuL1A8DMuHPRazECGWtO8gwPOQDfg88MG7tJAev1JfGpBsEDRH5p5hgqwQKgZUkXx9rVAX3tmSYKe3kCUCFT/hNi9QPrPmh9bOLNAxR9FnWlCn0AAAAAAAIB6QH32Ehn8coZAaNDQP2VNyUAZO+EluI2WQJQT7SqMVqRAVOOlm6Vz4EBehZSflKDNQFImNbRRwJlAvQD76KxjrUB3B3jSWgK9QJCeIodwsqJAwnrt4+IZhkDKpIY2CPCwQC5W1GA65p5A",
            "dtype": "f8"
           },
           "xaxis": "x",
           "y": {
            "bdata": "WmQ730/tQ0AW2c73U0NRQP3UeOkmAUlA0SLb+X56SUCamZmZmWFQQM3MzMzM3FJAPzVeuklMTEAxCKwcWhRMQI/C9Shcz01Avp8aL90ET0DNzMzMzJxSQNejcD0KR1NAO99PjZfeT0BmZmZmZkZRQB1aZDvfx1BAsp3vp8bTUUD0/dR46b5QQAAAAAAAAFFAO99PjZe+TEC6SQwCKwdNQHnpJjEIzEhAd76fGi9dT0BOYhBYORRMQNEi2/l+Ck9AqMZLN4mBT0BxPQrXo/BRQJzEILByMFFA9ihcj8IlUEAK16NwPQpSQJHtfD81JlBAnMQgsHJoTUBEi2zn+xlQQFg5tMh2jkhA",
            "dtype": "f8"
           },
           "yaxis": "y"
          },
          {
           "hovertemplate": "<b>%{hovertext}</b><br><br>continent=Europe<br>year=1982<br>gdpPercap=%{x}<br>lifeExp=%{y}<br>pop=%{marker.size}<extra></extra>",
           "hovertext": [
            "Albania",
            "Austria",
            "Belgium",
            "Bosnia and Herzegovina",
            "Bulgaria",
            "Croatia",
            "Czech Republic",
            "Denmark",
            "Finland",
            "France",
            "Germany",
            "Greece",
            "Hungary",
            "Iceland",
            "Ireland",
            "Italy",
            "Montenegro",
            "Netherlands",
            "Norway",
            "Poland",
            "Portugal",
            "Romania",
            "Serbia",
            "Slovak Republic",
            "Slovenia",
            "Spain",
            "Sweden",
            "Switzerland",
            "Turkey",
            "United Kingdom"
           ],
           "ids": [
            "Albania",
            "Austria",
            "Belgium",
            "Bosnia and Herzegovina",
            "Bulgaria",
            "Croatia",
            "Czech Republic",
            "Denmark",
            "Finland",
            "France",
            "Germany",
            "Greece",
            "Hungary",
            "Iceland",
            "Ireland",
            "Italy",
            "Montenegro",
            "Netherlands",
            "Norway",
            "Poland",
            "Portugal",
            "Romania",
            "Serbia",
            "Slovak Republic",
            "Slovenia",
            "Spain",
            "Sweden",
            "Switzerland",
            "Turkey",
            "United Kingdom"
           ],
           "legendgroup": "Europe",
           "marker": {
            "color": "#EF553B",
            "size": {
             "bdata": "wWsqAFWUcwAvZZYAlas/AMKuhwC4V0MA2DidAHIXTgA1p0kAHZc+AyJNqwRwVJUAf1qjAA2SAwDAGTUAVKpeA3SVCAABXNoAY8k+ADXJKAJCcpYA9iJVAXjUiQDrBk0AhGYcAE6UQwKMCH8AHrJiABcu0gL4rFsD",
             "dtype": "i4"
            },
            "sizemode": "area",
            "sizeref": 435928.2961983471,
            "symbol": "circle"
           },
           "mode": "markers",
           "name": "Europe",
           "orientation": "v",
           "showlegend": true,
           "type": "scatter",
           "x": {
            "bdata": "vHX+7cJdrEBTswdaRRfVQIHPDyP2fNRAUG7b95wesECwjuOHGBDAQEaZDTLp0slAwFsgQZ0IzkAJbTmXAi7VQOFASBZKGdJAXhH8b3nR00BRg2kY4oPVQJs4ud810s1Aumbyzf6AyEAUrkfhZrnWQE5/9iMppchA5/up8V4m0EA91SE3S+vFQEc4LXjd5dRANUbrqKiu2UAGZ/D3w4HAQLyReeTr9MZAG4LjMqjCwkAr9pfdi6bNQEOtad5FKsZAeekmMa5y0UCns5PBFTPLQGZmZmbYLtRALq2GxG2720AgQlw5W5GwQCDvVSsbztFA",
            "dtype": "f8"
           },
           "xaxis": "x",
           "y": {
            "bdata": "exSuR+GaUUDsUbgehUtSQOxRuB6Fe1JAXI/C9SisUUCF61G4HsVRQD0K16NwnVFAPQrXo3C9UUC4HoXrUahSQDMzMzMzo1JAKVyPwvW4UkAzMzMzM3NSQI/C9Shcz1JAKVyPwvVYUUCPwvUoXD9TQGZmZmZmRlJAH4XrUbi+UkBYObTIdoZSQDMzMzMzA1NArkfhehT+UkAUrkfhetRRQOF6FK5HMVJACtejcD1qUUDtfD81XopRQDMzMzMzs1FAeekmMQjEUUAzMzMzMxNTQHsUrkfhGlNAPQrXo3ANU0D4U+Olm4ROQMP1KFyPglJA",
            "dtype": "f8"
           },
           "yaxis": "y"
          },
          {
           "hovertemplate": "<b>%{hovertext}</b><br><br>continent=Africa<br>year=1982<br>gdpPercap=%{x}<br>lifeExp=%{y}<br>pop=%{marker.size}<extra></extra>",
           "hovertext": [
            "Algeria",
            "Angola",
            "Benin",
            "Botswana",
            "Burkina Faso",
            "Burundi",
            "Cameroon",
            "Central African Republic",
            "Chad",
            "Comoros",
            "Congo, Dem. Rep.",
            "Congo, Rep.",
            "Cote d'Ivoire",
            "Djibouti",
            "Egypt",
            "Equatorial Guinea",
            "Eritrea",
            "Ethiopia",
            "Gabon",
            "Gambia",
            "Ghana",
            "Guinea",
            "Guinea-Bissau",
            "Kenya",
            "Lesotho",
            "Liberia",
            "Libya",
            "Madagascar",
            "Malawi",
            "Mali",
            "Mauritania",
            "Mauritius",
            "Morocco",
            "Mozambique",
            "Namibia",
            "Niger",
            "Nigeria",
            "Reunion",
            "Rwanda",
            "Sao Tome and Principe",
            "Senegal",
            "Sierra Leone",
            "Somalia",
            "South Africa",
            "Sudan",
            "Swaziland",
            "Tanzania",
            "Togo",
            "Tunisia",
            "Uganda",
            "Zambia",
            "Zimbabwe"
           ],
           "ids": [
            "Algeria",
            "Angola",
            "Benin",
            "Botswana",
            "Burkina Faso",
            "Burundi",
            "Cameroon",
            "Central African Republic",
            "Chad",
            "Comoros",
            "Congo, Dem. Rep.",
            "Congo, Rep.",
            "Cote d'Ivoire",
            "Djibouti",
            "Egypt",
            "Equatorial Guinea",
            "Eritrea",
            "Ethiopia",
            "Gabon",
            "Gambia",
            "Ghana",
            "Guinea",
            "Guinea-Bissau",
            "Kenya",
            "Lesotho",
            "Liberia",
            "Libya",
            "Madagascar",
            "Malawi",
            "Mali",
            "Mauritania",
            "Mauritius",
            "Morocco",
            "Mozambique",
            "Namibia",
            "Niger",
            "Nigeria",
            "Reunion",
            "Rwanda",
            "Sao Tome and Principe",
            "Senegal",
            "Sierra Leone",
            "Somalia",
            "South Africa",
            "Sudan",
            "Swaziland",
            "Tanzania",
            "Togo",
            "Tunisia",
            "Uganda",
            "Zambia",
            "Zimbabwe"
           ],
           "legendgroup": "Africa",
           "marker": {
            "color": "#00cc96",
            "size": {
             "bdata": "2bAxAcAPawADkTcAa84OAGQ8ZQA65EUADyiNAKvLJQBuY0oA41EFAN+g0wGPFBsAn7mJAEerBACTDLkCK1sEAPE9KAAMikUC0oALAAPrCgCS9K0AYeBHAIOaDAAMfg0B34oVAAvcHQDKBjMAFfKLAKk5YwDwyGoAeMAYACgjDwBKNTQB1xDAAALFEABEOWIAEH5aBLLmBwDtCVQAIYEBAMfOXQBK3TQAHPFYAL0o2wHNxjYBreoJAB7NLgEdWygAEsFmAIhwxQC3FV0ALIZ0AA==",
             "dtype": "i4"
            },
            "sizemode": "area",
            "sizeref": 435928.2961983471,
            "symbol": "circle"
           },
           "mode": "markers",
           "name": "Africa",
           "orientation": "v",
           "showlegend": true,
           "type": "scatter",
           "x": {
            "bdata": "ZRu4AylxtkA5RrJH6ImlQHcRpiiX95NAIEHxYyTHsUCun/6zljmJQHZHxmrTfIFAfgG9cPd/okCK9fwfBuaNQNNTP8pD74hAi28ofGbMk0DbVg6I+w2FQAA49uyBD7NARGtFm2tVpECsUnqm736mQPiL2ZJ1X6tA8ANGTZr+jEDMHUe9AWeAQAQlYM/iDoJAj8cMVK6EzUDnIzoVeh6KQOguibNCYItAaq6JuwDKikA9gnbi/TCKQO2CwTXnEJVAr3IN2BrqiEBCcte3mOGBQIBv058R9dBAejnsvoNblECRsBRubsaDQGCMo80cUINA4Cwly5kkl0CRtYZSE9CsQME3TZ89HaVAMhaX9GHjfEDjwRa7GV+wQEWy7O7GbYxA7FG4HuWjmEBIqYQnOJO0QJCQN6+QjItAzhYQWt+InUBq+uyA67mXQEj99QoL5JZAb59VZjpjkkCkVMITIrzAQIz2eCEtnp1AJ94BnsRurkBG6uLb8FGLQIBG6dJPApVAjyCVYnfQq0CLOoQ7IVKFQNdMvtm2ApZA48nJH9emiEA=",
            "dtype": "f8"
           },
           "xaxis": "x",
           "y": {
            "bdata": "yXa+nxqvTkB/arx0k/hDQMHKoUW2c0lAy6FFtvO9TkBWDi2ynQ9IQD81XrpJvEdAYLpJDAJ7SkD2KFyPwiVIQBkEVg4twkhAgZVDi2x3SkAxCKwcWuRHQClcj8L1WExA5/up8dL9SkAOLbKd72dIQFTjpZvEAExA2/l+arzURUBSuB6F6/FFQGiR7Xw/dUZA1HjpJjFITEAK16NwPcpGQKwcWmQ730pAN166SQxyRUBg5dAi26lDQDdeukkMYk1ARIts5/uJS0CTGARWDm1GQKRwPQrXE09AeekmMQh8SEAZBFYOLdJGQGiR7Xw/9UVA6SYxCKzMSkAv3SQGga1QQDMzMzMz001A9ihcj8JlRUCWQ4ts53tNQAaBlUOLTEVAfT81XrrpRkBxPQrXo3hRQJZDi2znG0dAsXJoke0sTkCNl24SgzBKQClcj8L1OENACtejcD16RUD4U+OlmxRNQCUGgZVDK0lALIcW2c7HS0Dn+6nx0k1JQD81XrpJvEtAUI2XbhIDUEDpJjEIrOxIQA4CK4cW6UlAWDm0yHYuTkA=",
            "dtype": "f8"
           },
           "yaxis": "y"
          },
          {
           "hovertemplate": "<b>%{hovertext}</b><br><br>continent=Americas<br>year=1982<br>gdpPercap=%{x}<br>lifeExp=%{y}<br>pop=%{marker.size}<extra></extra>",
           "hovertext": [
            "Argentina",
            "Bolivia",
            "Brazil",
            "Canada",
            "Chile",
            "Colombia",
            "Costa Rica",
            "Cuba",
            "Dominican Republic",
            "Ecuador",
            "El Salvador",
            "Guatemala",
            "Haiti",
            "Honduras",
            "Jamaica",
            "Mexico",
            "Nicaragua",
            "Panama",
            "Paraguay",
            "Peru",
            "Puerto Rico",
            "Trinidad and Tobago",
            "United States",
            "Uruguay",
            "Venezuela"
           ],
           "ids": [
            "Argentina",
            "Bolivia",
            "Brazil",
            "Canada",
            "Chile",
            "Colombia",
            "Costa Rica",
            "Cuba",
            "Dominican Republic",
            "Ecuador",
            "El Salvador",
            "Guatemala",
            "Haiti",
            "Honduras",
            "Jamaica",
            "Mexico",
            "Nicaragua",
            "Panama",
            "Paraguay",
            "Peru",
            "Puerto Rico",
            "Trinidad and Tobago",
            "United States",
            "Uruguay",
            "Venezuela"
           ],
           "legendgroup": "Americas",
           "marker": {
            "color": "#ab63fa",
            "size": {
             "bdata": "vra/AfAXVgB70a8H7IyAAYhHrwCkp6cBL/4kAChflQDdEVsAGqd/APlHRADulmEAP1JPAMj9NwDFESMASCdFBF92LQBREh8AJ14zAEmRFAGZCDIAPwkRALvn1g0NEy0AnlruAA==",
             "dtype": "i4"
            },
            "sizemode": "area",
            "sizeref": 435928.2961983471,
            "symbol": "circle"
           },
           "mode": "markers",
           "name": "Americas",
           "orientation": "v",
           "showlegend": true,
           "type": "scatter",
           "x": {
            "bdata": "hXtl3vKSwUBb7PZZBamoQHLBGfzVdrtAd/hrsrJc1kC2Oc5tquezQKZiY16TLbFAtDukGLyOtEA4cw8J65S8QDfBN00vWqZAZ195kMotvEAaUdobWAKwQGO0jqp+1LJAcCTQYKNsn0D+icqGhWOoQKYKRiUNtLdA6Zyf4pLFwkDmgcgirRyrQFeXUwKaYbtAIxYx7ICisEA7qMR1gCK5QGuad5x+LcRAuOhkqcPPwUB5I/PIY2zYQFjO3hk5CLtA4gZ8fjTIxUA=",
            "dtype": "f8"
           },
           "xaxis": "x",
           "y": {
            "bdata": "PzVeukl8UUDLoUW28+1KQGC6SQwCq09AcT0K16PwUkBcj8L1KKRRQG8Sg8DKqVBAzczMzMxcUkDZzvdT421SQJMYBFYO3U9A2c73U+MVUEBaZDvfT01MQKjGSzeJEU1AYLpJDAK7SUAxCKwcWnROQD0K16NwzVFAUrgehevZUECgGi/dJKZNQJHtfD81nlFADi2yne+3UECJFtnO97NOQAAAAAAAcFJAaJHtfD81UUCamZmZmalSQOxRuB6Fs1FAz/dT46UjUUA=",
            "dtype": "f8"
           },
           "yaxis": "y"
          },
          {
           "hovertemplate": "<b>%{hovertext}</b><br><br>continent=Oceania<br>year=1982<br>gdpPercap=%{x}<br>lifeExp=%{y}<br>pop=%{marker.size}<extra></extra>",
           "hovertext": [
            "Australia",
            "New Zealand"
           ],
           "ids": [
            "Australia",
            "New Zealand"
           ],
           "legendgroup": "Oceania",
           "marker": {
            "color": "#FFA15A",
            "size": {
             "bdata": "SLHnAJr9MAA=",
             "dtype": "i4"
            },
            "sizemode": "area",
            "sizeref": 435928.2961983471,
            "symbol": "circle"
           },
           "mode": "markers",
           "name": "Oceania",
           "orientation": "v",
           "showlegend": true,
           "type": "scatter",
           "x": {
            "bdata": "ICQLmEAF00CSXP5DGjjRQA==",
            "dtype": "f8"
           },
           "xaxis": "x",
           "y": {
            "bdata": "j8L1KFyvUkD2KFyPwnVSQA==",
            "dtype": "f8"
           },
           "yaxis": "y"
          }
         ],
         "name": "1982"
        },
        {
         "data": [
          {
           "hovertemplate": "<b>%{hovertext}</b><br><br>continent=Asia<br>year=1987<br>gdpPercap=%{x}<br>lifeExp=%{y}<br>pop=%{marker.size}<extra></extra>",
           "hovertext": [
            "Afghanistan",
            "Bahrain",
            "Bangladesh",
            "Cambodia",
            "China",
            "Hong Kong, China",
            "India",
            "Indonesia",
            "Iran",
            "Iraq",
            "Israel",
            "Japan",
            "Jordan",
            "Korea, Dem. Rep.",
            "Korea, Rep.",
            "Kuwait",
            "Lebanon",
            "Malaysia",
            "Mongolia",
            "Myanmar",
            "Nepal",
            "Oman",
            "Pakistan",
            "Philippines",
            "Saudi Arabia",
            "Singapore",
            "Sri Lanka",
            "Syria",
            "Taiwan",
            "Thailand",
            "Vietnam",
            "West Bank and Gaza",
            "Yemen, Rep."
           ],
           "ids": [
            "Afghanistan",
            "Bahrain",
            "Bangladesh",
            "Cambodia",
            "China",
            "Hong Kong, China",
            "India",
            "Indonesia",
            "Iran",
            "Iraq",
            "Israel",
            "Japan",
            "Jordan",
            "Korea, Dem. Rep.",
            "Korea, Rep.",
            "Kuwait",
            "Lebanon",
            "Malaysia",
            "Mongolia",
            "Myanmar",
            "Nepal",
            "Oman",
            "Pakistan",
            "Philippines",
            "Saudi Arabia",
            "Singapore",
            "Sri Lanka",
            "Syria",
            "Taiwan",
            "Thailand",
            "Vietnam",
            "West Bank and Gaza",
            "Yemen, Rep."
           ],
           "legendgroup": "Asia",
           "marker": {
            "color": "#636efa",
            "size": {
             "bdata": "tZvTANTvBgARUS8GT75/ALgPnUB+NlUAAO33LmDyFgogxhcD1W38AIwiQAA990YHygcrAKLyIgHwGXsCn9wcAMkjLwAJNPkAnb8eACJFRAL8ZBEBGlIYAEEGRQZ8zJMDYRTfADikKgDIsvsAX42rAOd6LQEGWScD+6e+A0rOGQCMMasA",
             "dtype": "i4"
            },
            "sizemode": "area",
            "sizeref": 435928.2961983471,
            "symbol": "circle"
           },
           "mode": "markers",
           "name": "Asia",
           "orientation": "v",
           "showlegend": true,
           "type": "scatter",
           "x": {
            "bdata": "Kngb5SqjikBJ9DKKARfSQLSQgNHVf4dAZilIIipfhUD7A+W2nYuVQMmOjUCekdNAqDuq9RmEjkDKMy+HbVGbQKWkh6Hh8rlAiQeUTcm9xkCqtwa2nrjQQJv+7Ef82dVAKHy2Dq5gsUBVGFsIfgqwQFxV9l2LqsBAfNXKhJt120AtXFZhFwG1QAnBqnrNgbRA2gBsQAREokAAAAAAABB4QNF+/0EPPYhAMA3DR86w0UD1K50Pv6KaQD+MEB5FG6FAH0sfupCz1ECZgcr4YWvSQMLaGDsRU51AkWEVb4xZqEBEi2znR5fFQASsVbtOTadAoiNeQ2WmiUDBAMKHMvOzQPfKvFX3zp5A",
            "dtype": "f8"
           },
           "xaxis": "x",
           "y": {
            "bdata": "8KfGSzdpREAAAAAAALBRQEa28/3UaEpAokW28/30SkCoxks3idFQQM3MzMzMDFNAEFg5tMhGTUCoxks3iRFOQIXrUbgehU9AiUFg5dBCUEBmZmZmZuZSQHsUrkfhqlNAVg4tsp13UEDDILByaKlRQKRwPQrXc1FAQGDl0CKLUkAlBoGVQ/tQQAAAAAAAYFFAI9v5fmocTkAIrBxaZCtNQNv5fmq8REpA5dAi2/nuUECPwvUoXB9NQIxs5/upCVBAexSuR+GSUECkcD0K12NSQGMQWDm0QFFAdJMYBFa+UECamZmZmVlSQEw3iUFghVBAKVyPwvVoT0Bt5/up8cJQQLx0kxgEdkpA",
            "dtype": "f8"
           },
           "yaxis": "y"
          },
          {
           "hovertemplate": "<b>%{hovertext}</b><br><br>continent=Europe<br>year=1987<br>gdpPercap=%{x}<br>lifeExp=%{y}<br>pop=%{marker.size}<extra></extra>",
           "hovertext": [
            "Albania",
            "Austria",
            "Belgium",
            "Bosnia and Herzegovina",
            "Bulgaria",
            "Croatia",
            "Czech Republic",
            "Denmark",
            "Finland",
            "France",
            "Germany",
            "Greece",
            "Hungary",
            "Iceland",
            "Ireland",
            "Italy",
            "Montenegro",
            "Netherlands",
            "Norway",
            "Poland",
            "Portugal",
            "Romania",
            "Serbia",
            "Slovak Republic",
            "Slovenia",
            "Spain",
            "Sweden",
            "Switzerland",
            "Turkey",
            "United Kingdom"
           ],
           "ids": [
            "Albania",
            "Austria",
            "Belgium",
            "Bosnia and Herzegovina",
            "Bulgaria",
            "Croatia",
            "Czech Republic",
            "Denmark",
            "Finland",
            "France",
            "Germany",
            "Greece",
            "Hungary",
            "Iceland",
            "Ireland",
            "Italy",
            "Montenegro",
            "Netherlands",
            "Norway",
            "Poland",
            "Portugal",
            "Romania",
            "Serbia",
            "Slovak Republic",
            "Slovenia",
            "Spain",
            "Sweden",
            "Switzerland",
            "Turkey",
            "United Kingdom"
           ],
           "legendgroup": "Europe",
           "marker": {
            "color": "#EF553B",
            "size": {
             "bdata": "+ewuABelcwB4m5YAITVCALbmiADWbEQArVedAHA7TgCRQEsAFNlQAxrjoQTaMpgABPChAMS7AwC8AzYAZ6BhA4GwCAA+xt8AI+A/AKbgPwKZS5cAoypaAb/ZjADWVU8ADrEdAL5FUQIbgIAAVnhlALDnJgN0eGUD",
             "dtype": "i4"
            },
            "sizemode": "area",
            "sizeref": 435928.2961983471,
            "symbol": "circle"
           },
           "mode": "markers",
           "name": "Europe",
           "orientation": "v",
           "showlegend": true,
           "type": "scatter",
           "x": {
            "bdata": "qyFxj901rUCNtFTe9CHXQEKygAlk/9VA/fm2YB3asEDrcd9q7RfAQGrBi75K/8pAhslUwTjbz0AUlnhAC4fYQIJWYMhApdRAEJIFTJyM1UALe9rhyw/YQMSUSKJDfM9AXhH8bz1dyUB0B7EzzUraQKqaIOpuGMtAHXdKB8/B0kCzJEBNQerGQKq3BrbUGNdACYofYz7N3kCjPzTzLL3BQCibcoWnd8lAlZ9U+yLwwkCbAwRzcP/OQIi6D0CigsdAfhghPKI90kDcLjTXfcrOQMrgKHm7CNdAxqcAGG2S3UBLdQEvC+GzQINuL2kyKNVA",
            "dtype": "f8"
           },
           "xaxis": "x",
           "y": {
            "bdata": "AAAAAAAAUkBcj8L1KLxSQGZmZmZm1lJAKVyPwvXIUUD2KFyPwtVRQOF6FK5H4VFAhetRuB7lUUAzMzMzM7NSQIXrUbgetVJA9ihcj8IVU0CR7Xw/NbZSQHsUrkfhKlNAhetRuB5lUUAfhetRuE5TQNejcD0Kl1JAexSuR+EaU0CPwvUoXLdSQIXrUbgeNVNAKVyPwvX4UkAfhetRuL5RQKRwPQrXg1JAUrgehethUUDLoUW2881RQIXrUbgexVFAAAAAAAAQUkCamZmZmTlTQFyPwvUoTFNACtejcD1aU0Dn+6nx0o1PQJzEILBywFJA",
            "dtype": "f8"
           },
           "yaxis": "y"
          },
          {
           "hovertemplate": "<b>%{hovertext}</b><br><br>continent=Africa<br>year=1987<br>gdpPercap=%{x}<br>lifeExp=%{y}<br>pop=%{marker.size}<extra></extra>",
           "hovertext": [
            "Algeria",
            "Angola",
            "Benin",
            "Botswana",
            "Burkina Faso",
            "Burundi",
            "Cameroon",
            "Central African Republic",
            "Chad",
            "Comoros",
            "Congo, Dem. Rep.",
            "Congo, Rep.",
            "Cote d'Ivoire",
            "Djibouti",
            "Egypt",
            "Equatorial Guinea",
            "Eritrea",
            "Ethiopia",
            "Gabon",
            "Gambia",
            "Ghana",
            "Guinea",
            "Guinea-Bissau",
            "Kenya",
            "Lesotho",
            "Liberia",
            "Libya",
            "Madagascar",
            "Malawi",
            "Mali",
            "Mauritania",
            "Mauritius",
            "Morocco",
            "Mozambique",
            "Namibia",
            "Niger",
            "Nigeria",
            "Reunion",
            "Rwanda",
            "Sao Tome and Principe",
            "Senegal",
            "Sierra Leone",
            "Somalia",
            "South Africa",
            "Sudan",
            "Swaziland",
            "Tanzania",
            "Togo",
            "Tunisia",
            "Uganda",
            "Zambia",
            "Zimbabwe"
           ],
           "ids": [
            "Algeria",
            "Angola",
            "Benin",
            "Botswana",
            "Burkina Faso",
            "Burundi",
            "Cameroon",
            "Central African Republic",
            "Chad",
            "Comoros",
            "Congo, Dem. Rep.",
            "Congo, Rep.",
            "Cote d'Ivoire",
            "Djibouti",
            "Egypt",
            "Equatorial Guinea",
            "Eritrea",
            "Ethiopia",
            "Gabon",
            "Gambia",
            "Ghana",
            "Guinea",
            "Guinea-Bissau",
            "Kenya",
            "Lesotho",
            "Liberia",
            "Libya",
            "Madagascar",
            "Malawi",
            "Mali",
            "Mauritania",
            "Mauritius",
            "Morocco",
            "Mozambique",
            "Namibia",
            "Niger",
            "Nigeria",
            "Reunion",
            "Rwanda",
            "Sao Tome and Principe",
            "Senegal",
            "Sierra Leone",
            "Somalia",
            "South Africa",
            "Sudan",
            "Swaziland",
            "Tanzania",
            "Togo",
            "Tunisia",
            "Uganda",
            "Zambia",
            "Zimbabwe"
           ],
           "legendgroup": "Africa",
           "marker": {
            "color": "#00cc96",
            "size": {
             "bdata": "rNdiAbYmeABMwUAA0JARAPfCcwCHN04A+3+kAMlVKwBL6FMAagcGAC1oHQLffh8AijOkAPG+BABWpiUD/DQFAHd+LADqHpACDW8NABbyDAAlMNgAVjdWACQnDgACdUMB4GYYAOagIgAl+zkAwkOhAGtldwBYfHQAWBgcAOfoDwCFwl4BMLfEAOiAEwAe428AoGDcBHOTCAA14mAA3LABABNtbQDpCDsAgp5pAMNMJALISXkBVOQLAHaSXwFYITAAsN91AGoz6QDW924AoqGMAA==",
             "dtype": "i4"
            },
            "sizemode": "area",
            "sizeref": 435928.2961983471,
            "symbol": "circle"
           },
           "mode": "markers",
           "name": "Africa",
           "orientation": "v",
           "showlegend": true,
           "type": "scatter",
           "x": {
            "bdata": "Vz82yVsxtkDLSL2navyiQDKs4o1sJ5NAklz+Q+I9uEAchG9QgYCMQMVm7PCMboNAnQ/PElRVpECznv/DAmeKQEwYzcoWw41AGR77WeyPlEBjRKLQMgaFQMYnZOcxabBAcj/ggenZoEA7+8qDNICmQOFdLuLrWq5AhlBKrSw3jkBwxnq0EkmAQH2oIzbu7YFAMA3DRzQsx0Dc6PdYRR2DQIMUPIUMeIpADlcYbJQsiUAi5Be5UgOHQD/kLVe/R5VAZ+s7GvIviECTPghc0qF/QJf/kH5L/cZAIToEjsQNkkAsGWyPI9yDQAtLl1lfYYVAmrLTD2o2lkDtZkY/lq+yQGpQNA8YhqVAJKQk2gReeEC2os1xdtusQG+QWnJm4oRAsFjDRR6klUCitg2jYLe0QOqxLQPuf4pA0VlmERqyl0BLdmwE4oaWQCz+74jKOZRA7KaU1/oUkUCYGTbK0pG+QOXsndFGj5dAlKXW+60hr0C5TV2ek/6JQML2kzHOyJJAsB73rdbErUAUlKKVy02DQMnJxK1C9ZJAvn+YKUIRhkA=",
            "dtype": "f8"
           },
           "xaxis": "x",
           "y": {
            "bdata": "QWDl0CJzUECHFtnO9/NDQEJg5dAiK0pAVg4tsp3PT0Ce76fGS8dIQGC6SQwCG0hArkfhehR+S0CuR+F6FD5JQEoMAiuHhklASgwCK4d2S0Db+X5qvLRHQFyPwvUovExApHA9CtdTS0CF61G4HgVJQLx0kxgE5k1AokW28/3URkBEi2zn+zlHQGQ730+NV0dAuB6F61EYTkBSuB6F66FIQFpkO99P3UtALbKd76fGRkCPwvUoXJ9EQAisHFpkq01A16NwPQqXTED6fmq8dANHQOXQItv5jlBAzczMzMysSEDRItv5frpHQDvfT42XLkdAw/UoXI8STECPwvUoXC9RQC2yne+nVk9Ake18PzVuRUB7FK5H4WpOQNejcD0KR0ZAxSCwcmhxR0DfT42XbvpRQMP1KFyPAkZAd76fGi/dTkDfT42XbuJLQFTjpZvEAERA5aWbxCBARkCYbhKDwGpOQKwcWmQ730lAEFg5tMjWTEAUrkfhesRJQJzEILByeExA76fGSze5UED91HjpJsFJQA4CK4cWaUlAsXJoke0sT0A=",
            "dtype": "f8"
           },
           "yaxis": "y"
          },
          {
           "hovertemplate": "<b>%{hovertext}</b><br><br>continent=Americas<br>year=1987<br>gdpPercap=%{x}<br>lifeExp=%{y}<br>pop=%{marker.size}<extra></extra>",
           "hovertext": [
            "Argentina",
            "Bolivia",
            "Brazil",
            "Canada",
            "Chile",
            "Colombia",
            "Costa Rica",
            "Cuba",
            "Dominican Republic",
            "Ecuador",
            "El Salvador",
            "Guatemala",
            "Haiti",
            "Honduras",
            "Jamaica",
            "Mexico",
            "Nicaragua",
            "Panama",
            "Paraguay",
            "Peru",
            "Puerto Rico",
            "Trinidad and Tobago",
            "United States",
            "Uruguay",
            "Venezuela"
           ],
           "ids": [
            "Argentina",
            "Bolivia",
            "Brazil",
            "Canada",
            "Chile",
            "Colombia",
            "Costa Rica",
            "Cuba",
            "Dominican Republic",
            "Ecuador",
            "El Salvador",
            "Guatemala",
            "Haiti",
            "Honduras",
            "Jamaica",
            "Mexico",
            "Nicaragua",
            "Panama",
            "Paraguay",
            "Peru",
            "Puerto Rico",
            "Trinidad and Tobago",
            "United States",
            "Uruguay",
            "Venezuela"
           ],
           "legendgroup": "Americas",
           "marker": {
            "color": "#ab63fa",
            "size": {
             "bdata": "Nn/iAVHwXQDcD4UIxB2VAfosvgAVetgBw7gqAF8/nABBjWUAxqWRANLiSQDGym8AK9VXAOu2QgBOgCMAfJLGBOEHMwBHYyIAsE07AFQqNAH0jjQAqC0SAE3jeA4hdy4ApkkRAQ==",
             "dtype": "i4"
            },
            "sizemode": "area",
            "sizeref": 435928.2961983471,
            "symbol": "circle"
           },
           "mode": "markers",
           "name": "Americas",
           "orientation": "v",
           "showlegend": true,
           "type": "scatter",
           "x": {
            "bdata": "8iIT8NXZwUAGL/oKYoOlQGBIh4cYf75AnWNA9qAA2kD9oC5SEKu1QI4G8BY4J7NAcctHUur9tUCMmUS97Gy9QAXFjzGvp6ZAOWQD6cZRuUCp3EQtcSywQLXEymh8lrBAmUf+YBB8nEAdBYiCMZ6nQPfpeMw8z7hAigPo9xP4wEAAAAAA+BenQFJlGHfHertAi1QYW8A9r0CcxYuF8di4QBb2tMOr/MdAzJntCpncvECOEB5tFi/dQB4X1SJmHL1A1uO+1cpNw0A=",
            "dtype": "f8"
           },
           "xaxis": "x",
           "y": {
            "bdata": "qMZLN4mxUUDlpZvEIKBMQIXrUbgeTVBA16NwPQo3U0BzaJHtfB9SQP7UeOkm8VBA46WbxCCwUkBAYOXQIotSQG3n+6nxglBAEVg5tMjOUEDByqFFtpNPQGq8dJMYZE5AxSCwcmjRSkBzaJHtfB9QQOF6FK5H8VFAHVpkO99fUUAbL90kBgFPQLbz/dR44VFA1XjpJjHYUEB/arx0kwhQQLgehetRqFJAaJHtfD9lUUDhehSuR8FSQJhuEoPA+lFAXI/C9SiMUUA=",
            "dtype": "f8"
           },
           "yaxis": "y"
          },
          {
           "hovertemplate": "<b>%{hovertext}</b><br><br>continent=Oceania<br>year=1987<br>gdpPercap=%{x}<br>lifeExp=%{y}<br>pop=%{marker.size}<extra></extra>",
           "hovertext": [
            "Australia",
            "New Zealand"
           ],
           "ids": [
            "Australia",
            "New Zealand"
           ],
           "legendgroup": "Oceania",
           "marker": {
            "color": "#FFA15A",
            "size": {
             "bdata": "4RD4AK6dMgA=",
             "dtype": "i4"
            },
            "sizemode": "area",
            "sizeref": 435928.2961983471,
            "symbol": "circle"
           },
           "mode": "markers",
           "name": "Oceania",
           "orientation": "v",
           "showlegend": true,
           "type": "scatter",
           "x": {
            "bdata": "yhXe5Thg1UCDaRg+zI/SQA==",
            "dtype": "f8"
           },
           "xaxis": "x",
           "y": {
            "bdata": "FK5H4XoUU0AUrkfhepRSQA==",
            "dtype": "f8"
           },
           "yaxis": "y"
          }
         ],
         "name": "1987"
        },
        {
         "data": [
          {
           "hovertemplate": "<b>%{hovertext}</b><br><br>continent=Asia<br>year=1992<br>gdpPercap=%{x}<br>lifeExp=%{y}<br>pop=%{marker.size}<extra></extra>",
           "hovertext": [
            "Afghanistan",
            "Bahrain",
            "Bangladesh",
            "Cambodia",
            "China",
            "Hong Kong, China",
            "India",
            "Indonesia",
            "Iran",
            "Iraq",
            "Israel",
            "Japan",
            "Jordan",
            "Korea, Dem. Rep.",
            "Korea, Rep.",
            "Kuwait",
            "Lebanon",
            "Malaysia",
            "Mongolia",
            "Myanmar",
            "Nepal",
            "Oman",
            "Pakistan",
            "Philippines",
            "Saudi Arabia",
            "Singapore",
            "Sri Lanka",
            "Syria",
            "Taiwan",
            "Thailand",
            "Vietnam",
            "West Bank and Gaza",
            "Yemen, Rep."
           ],
           "ids": [
            "Afghanistan",
            "Bahrain",
            "Bangladesh",
            "Cambodia",
            "China",
            "Hong Kong, China",
            "India",
            "Indonesia",
            "Iran",
            "Iraq",
            "Israel",
            "Japan",
            "Jordan",
            "Korea, Dem. Rep.",
            "Korea, Rep.",
            "Kuwait",
            "Lebanon",
            "Malaysia",
            "Mongolia",
            "Myanmar",
            "Nepal",
            "Oman",
            "Pakistan",
            "Philippines",
            "Saudi Arabia",
            "Singapore",
            "Sri Lanka",
            "Syria",
            "Taiwan",
            "Thailand",
            "Vietnam",
            "West Bank and Gaza",
            "Yemen, Rep."
           ],
           "legendgroup": "Asia",
           "marker": {
            "color": "#636efa",
            "size": {
             "bdata": "4f34AFMUCACD/sYGzuCaABAIcEVA9FgAAKr5M4ARBAuVmZkDEY0QAWZTSwA1HWkHEQM7AM8HPAEKa5wCb6MVABoiMQCOiBcBYkojAOqwagJBJzYBSDkdAOwLKAdmLAEEwZICARlgMQB0WwwB9rTJAEaoOwHXq2AD+DUrBMsdIAC9+ssA",
             "dtype": "i4"
            },
            "sizemode": "area",
            "sizeref": 435928.2961983471,
            "symbol": "circle"
           },
           "mode": "markers",
           "name": "Asia",
           "orientation": "v",
           "showlegend": true,
           "type": "scatter",
           "x": {
            "bdata": "GRhoLbtKhEA1DB8R5ZbSQBenazd7LopAlstG52xShUCWk1D6It+ZQEpBt5dmLdhA4NqJkqAxkkAlXMgjSJ6iQCIqVDenQ7xA8l8gCEhDrUC3nEtx4aDRQBV0e0k5MtpAveR/8i/PqkAiUP2DIBytQF/SGK0jpMdA9wFIbZ0O4UCm1vuNzuq6QLlRZK3pbbxA4BEVqpvlm0AAAAAAALB1QAfKEkLsDYxAznADPi0u0kDWxAJfUc+eQLRkjuWlzqFAnS6LiWdC2ECMuWsJeTDYQPhUTnt606BAofKv5RUZqkAFNBE21LfNQGYe+YPlCLJAj+uVaC/ojkDc1haep4G3QDrP2Jf8XZ1A",
            "dtype": "f8"
           },
           "xaxis": "x",
           "y": {
            "bdata": "g8DKoUXWREBYObTIdiZSQPyp8dJNAkxAEFg5tMjmS0Bcj8L1KCxRQFg5tMh2ZlNABoGVQ4scTkC6SQwCK1dPQHNoke18b1BAYLpJDAK7TUDsUbgehTtTQNejcD0K11NAKVyPwvUAUUA830+Nl35RQFYOLbKdD1JAXI/C9SjMUkCmm8QgsFJRQDEIrBxarFFAppvEILCiTkApXI/C9ahNQJMYBFYO3UtA+FPjpZvMUUAlBoGVQ2tOQFpkO99PnVBA/tR46SYxUUDfT42XbvJSQMVLN4lBmFFADi2yne9PUUBxPQrXo5BSQFCNl24S01BA7Xw/NV7qUEDLoUW2821RQOkmMQiszEtA",
            "dtype": "f8"
           },
           "yaxis": "y"
          },
          {
           "hovertemplate": "<b>%{hovertext}</b><br><br>continent=Europe<br>year=1992<br>gdpPercap=%{x}<br>lifeExp=%{y}<br>pop=%{marker.size}<extra></extra>",
           "hovertext": [
            "Albania",
            "Austria",
            "Belgium",
            "Bosnia and Herzegovina",
            "Bulgaria",
            "Croatia",
            "Czech Republic",
            "Denmark",
            "Finland",
            "France",
            "Germany",
            "Greece",
            "Hungary",
            "Iceland",
            "Ireland",
            "Italy",
            "Montenegro",
            "Netherlands",
            "Norway",
            "Poland",
            "Portugal",
            "Romania",
            "Serbia",
            "Slovak Republic",
            "Slovenia",
            "Spain",
            "Sweden",
            "Switzerland",
            "Turkey",
            "United Kingdom"
           ],
           "ids": [
            "Albania",
            "Austria",
            "Belgium",
            "Bosnia and Herzegovina",
            "Bulgaria",
            "Croatia",
            "Czech Republic",
            "Denmark",
            "Finland",
            "France",
            "Germany",
            "Greece",
            "Hungary",
            "Iceland",
            "Ireland",
            "Italy",
            "Montenegro",
            "Netherlands",
            "Norway",
            "Poland",
            "Portugal",
            "Romania",
            "Serbia",
            "Slovak Republic",
            "Slovenia",
            "Spain",
            "Sweden",
            "Switzerland",
            "Turkey",
            "United Kingdom"
           ],
           "legendgroup": "Europe",
           "marker": {
            "color": "#EF553B",
            "size": {
             "bdata": "IsIyANnFeAC2SJkADfFAAEoehAC9kkQAtmedAMHoTgCP60wA43VrAwTTzQS1jZ0AjOidAMTzAwCBSTYAj1JjAzV8CQBkiucAlWdBAIl9SQIAfJcA49pbAV3wlQBo6lAAaoEeAP55WwITCoUA971qAEi+dwNt+HID",
             "dtype": "i4"
            },
            "sizemode": "area",
            "sizeref": 435928.2961983471,
            "symbol": "circle"
           },
           "mode": "markers",
           "name": "Europe",
           "orientation": "v",
           "showlegend": true,
           "type": "scatter",
           "x": {
            "bdata": "xVOPNOCCo0BGmQ0ygWjaQIpZL4bk+dhAPx2PGZDlo0AX/aGZn564QL0BZr7lf8BAA0NWt4Lsy0B90LNZr8nZQIs3Mo/KKdRALSEf9PIf2EDIJCNnU+LZQO3YCMRfIdFA845TdNCTxEBtHLEWGY7YQJCg+DG0JdFAoOBiRWl/1UAk+yDLVlu7QH0Faca8KdpAeAskKLWV4ECzRGeZ4Tq+QBKN7iCip89AiCtn72jGuUAs1QW8iDbCQEvmWN47jcJAuRluwFvDy0B8fhghxCrSQOYivhMBUtdARGlv8OEf30Aly0koWS62QGXkLOxFLNZA",
            "dtype": "f8"
           },
           "xaxis": "x",
           "y": {
            "bdata": "d76fGi/lUUDD9ShcjwJTQD0K16NwHVNACKwcWmQLUkBcj8L1KMxRQH0/NV66IVJAmpmZmZkZUkCF61G4HtVSQM3MzMzM7FJAPQrXo3BdU0AUrkfhegRTQFK4HoXrQVNAexSuR+FKUUDhehSuR7FTQNnO91Pj3VJAXI/C9ShcU0CkcD0K19tSQHsUrkfhWlNAFK5H4XpUU0CPwvUoXL9RQNejcD0Kt1JA16NwPQpXUUAXBFYOLepRQLgehetR2FFAKVyPwvVoUkAUrkfhemRTQArXo3A9ilNAUrgeheuBU0DTTWIQWIlQQHsUrkfhGlNA",
            "dtype": "f8"
           },
           "yaxis": "y"
          },
          {
           "hovertemplate": "<b>%{hovertext}</b><br><br>continent=Africa<br>year=1992<br>gdpPercap=%{x}<br>lifeExp=%{y}<br>pop=%{marker.size}<extra></extra>",
           "hovertext": [
            "Algeria",
            "Angola",
            "Benin",
            "Botswana",
            "Burkina Faso",
            "Burundi",
            "Cameroon",
            "Central African Republic",
            "Chad",
            "Comoros",
            "Congo, Dem. Rep.",
            "Congo, Rep.",
            "Cote d'Ivoire",
            "Djibouti",
            "Egypt",
            "Equatorial Guinea",
            "Eritrea",
            "Ethiopia",
            "Gabon",
            "Gambia",
            "Ghana",
            "Guinea",
            "Guinea-Bissau",
            "Kenya",
            "Lesotho",
            "Liberia",
            "Libya",
            "Madagascar",
            "Malawi",
            "Mali",
            "Mauritania",
            "Mauritius",
            "Morocco",
            "Mozambique",
            "Namibia",
            "Niger",
            "Nigeria",
            "Reunion",
            "Rwanda",
            "Sao Tome and Principe",
            "Senegal",
            "Sierra Leone",
            "Somalia",
            "South Africa",
            "Sudan",
            "Swaziland",
            "Tanzania",
            "Togo",
            "Tunisia",
            "Uganda",
            "Zambia",
            "Zimbabwe"
           ],
           "ids": [
            "Algeria",
            "Angola",
            "Benin",
            "Botswana",
            "Burkina Faso",
            "Burundi",
            "Cameroon",
            "Central African Republic",
            "Chad",
            "Comoros",
            "Congo, Dem. Rep.",
            "Congo, Rep.",
            "Cote d'Ivoire",
            "Djibouti",
            "Egypt",
            "Equatorial Guinea",
            "Eritrea",
            "Ethiopia",
            "Gabon",
            "Gambia",
            "Ghana",
            "Guinea",
            "Guinea-Bissau",
            "Kenya",
            "Lesotho",
            "Liberia",
            "Libya",
            "Madagascar",
            "Malawi",
            "Mali",
            "Mauritania",
            "Mauritius",
            "Morocco",
            "Mozambique",
            "Namibia",
            "Niger",
            "Nigeria",
            "Reunion",
            "Rwanda",
            "Sao Tome and Principe",
            "Senegal",
            "Sierra Leone",
            "Somalia",
            "South Africa",
            "Sudan",
            "Swaziland",
            "Tanzania",
            "Togo",
            "Tunisia",
            "Uganda",
            "Zambia",
            "Zimbabwe"
           ],
           "legendgroup": "Africa",
           "marker": {
            "color": "#00cc96",
            "size": {
             "bdata": "BUiRAfRMhQCnA0wAlnwUAN94hwBUpFgA4zu+AGTSMQDpGmIAHe8GAM/dewJxwiQA9OTCAJzcBQDWZ4oD/uoFANj5NwDvzhoDiwoPAGilDwDSZPgA7qpqADoJEAB7yH0Bu4MbAI4wHQDVmEIA21C6ACnOmADXa4AAKVcgAAq6EABfpokBG9HIAE23FwByEIAAFKCQBW9+CQBbPW8A1+sBANDEfgAUBEEAVxNdAP/NYQIEuK4BKK8OAKH3lQHhLjkARQ2CAJ6BFgHr4n8A1FWjAA==",
             "dtype": "i4"
            },
            "sizemode": "area",
            "sizeref": 435928.2961983471,
            "symbol": "circle"
           },
           "mode": "markers",
           "name": "Africa",
           "orientation": "v",
           "showlegend": true,
           "type": "scatter",
           "x": {
            "bdata": "x4Mtdjefs0Bv05/9sIekQAH8U6rUnJJAw0fElBwSv0B4LuetBR6NQJIxiFmZvYNAoRhZMqcEnECi/f6DPl+HQIj029dBiJBAfO2ZJaF7k0ChJp/DgZt8QOOKi6N6YK9A9S7ej0vAmUDN12X4T5KiQDVG66iCpa1ArDjVWjiwkUBEgpg63jaCQFX8OsunVXpAPIidKRRpykCvgQjM/syEQMo1BTJ76IxAXWUSmsnSiECTWK2nUUyHQCc8odev95RAjiPW4uOLjkBvVAK9++SDQLuYZroR1MJAh78ma7RCkEDOwTOhmZmBQArXo3AdGIdAViqoqHpFlUA6LA38QKq3QFcFajEYCKdAV4wEZFmueUCQ3Jp0E7mtQEtZhjh2KYJApUv/kmRPmUCRup19QdW3QGGhe3uMCIdAfPFFexxTlkAl6C/0mF+VQLKbGf3IspBAuwPhr673jED6bOS6ETm8QJ/jo8XJUJdA3EYDeAvCq0AyWHGqdc2JQJPi4xMyKZBAwvuqXLjssEAP3sPKXSGEQNmvO92J65JABjXXxF2rhUA=",
            "dtype": "f8"
           },
           "xaxis": "x",
           "y": {
            "bdata": "Vg4tsp3vUECJQWDl0FJEQBKDwMqh9UpAj8L1KFxfT0DhehSuRyFJQJHtfD81XkZA1HjpJjEoS0Cmm8QgsLJIQOkmMQis3ElA1HjpJjH4TECgGi/dJMZGQIGVQ4tsN0xAEoPAyqEFSkBaZDvfT81JQIPAyqFF1k9A9ihcj8LFR0ADK4cW2f5IQM/3U+OlC0hAAyuHFtmuTkDfT42XblJKQOWlm8QgwExAfT81XrpJSEA3XrpJDKJFQBSuR+F6pE1ASOF6FK7XTUAtsp3vp2ZEQLgehetRMFFACKwcWmQbSkD2KFyPwrVIQI1s5/upMUhAtMh2vp8qTUBI4XoUrm9RQP7UeOkmWVBAMQisHFokRkAdWmQ73/9OQDdeukkMskdAI9v5fmq8R0CPwvUoXGdSQNNNYhBYmTdA5dAi2/leT0AOAiuHFhlNQLTIdr6fKkNATmIQWDnUQ0CNbOf7qfFOQLpJDAIrx0pA6SYxCKw8TUC4HoXrUThJQCyHFtnOB01A8tJNYhCAUUCamZmZmWlIQM3MzMzMDEdAx0s3iUEwTkA=",
            "dtype": "f8"
           },
           "yaxis": "y"
          },
          {
           "hovertemplate": "<b>%{hovertext}</b><br><br>continent=Americas<br>year=1992<br>gdpPercap=%{x}<br>lifeExp=%{y}<br>pop=%{marker.size}<extra></extra>",
           "hovertext": [
            "Argentina",
            "Bolivia",
            "Brazil",
            "Canada",
            "Chile",
            "Colombia",
            "Costa Rica",
            "Cuba",
            "Dominican Republic",
            "Ecuador",
            "El Salvador",
            "Guatemala",
            "Haiti",
            "Honduras",
            "Jamaica",
            "Mexico",
            "Nicaragua",
            "Panama",
            "Paraguay",
            "Peru",
            "Puerto Rico",
            "Trinidad and Tobago",
            "United States",
            "Uruguay",
            "Venezuela"
           ],
           "ids": [
            "Argentina",
            "Bolivia",
            "Brazil",
            "Canada",
            "Chile",
            "Colombia",
            "Costa Rica",
            "Cuba",
            "Dominican Republic",
            "Ecuador",
            "El Salvador",
            "Guatemala",
            "Haiti",
            "Honduras",
            "Jamaica",
            "Mexico",
            "Nicaragua",
            "Panama",
            "Paraguay",
            "Peru",
            "Puerto Rico",
            "Trinidad and Tobago",
            "United States",
            "Uruguay",
            "Venezuela"
           ],
           "legendgroup": "Americas",
           "marker": {
            "color": "#ab63fa",
            "size": {
             "bdata": "IywGAosvaQAmAUwJ7juzAYIbzwBh5AkCYGswALyfowCNK3AA6gGkABl8UAAlgIEAmolgAGN5TQB6SyQAtndABRNPPQAF6yUAaWtEAPFCVgGYtDYAtQ8SAO3kTw/ODTAAWzo1AQ==",
             "dtype": "i4"
            },
            "sizemode": "area",
            "sizeref": 435928.2961983471,
            "symbol": "circle"
           },
           "mode": "markers",
           "name": "Americas",
           "orientation": "v",
           "showlegend": true,
           "type": "scatter",
           "x": {
            "bdata": "QQ5KmDUuwkBqvko+ZiOnQBNzEHRIJrtASkG3l7i52UB5PC0/IKy9QKGCwwumRLVAxTvAk2oQuEAJjPUN2Ni1QLEYda1tyKdAVxNE3bO/u0B88rBQO1yxQLsPQGpzV7FAOUIG8jzBlkBoIQGjYxOoQM7Cnnbs7LxAghyUMDGAwkAJpMSuTfSgQEtZhji+2rlAG2ZoPGlksEBDOjyEYV6xQJSkaybLmMxAjzS4rf3KvEAB9tGp+0DfQNc07zgByb9A+3lTkfb2xEA=",
            "dtype": "f8"
           },
           "xaxis": "x",
           "y": {
            "bdata": "ZDvfT433UUDRItv5fvpNQM/3U+Olw1BAzczMzMx8U0Dy0k1iEIhSQG3n+6nxGlFAFIPAyqHtUkDRItv5fppSQGiR7Xw/HVFArBxaZDtnUUBQjZduErNQQDu0yHa+r09ACKwcWmSLS0Coxks3iZlQQBsv3SQG8VFAhetRuB7dUUDLoUW283VQQCGwcmiRHVJAZmZmZmYOUUBaZDvfT51QQPyp8dJNelJAukkMAit3UUD2KFyPwgVTQOOlm8QgMFJAmpmZmZnJUUA=",
            "dtype": "f8"
           },
           "yaxis": "y"
          },
          {
           "hovertemplate": "<b>%{hovertext}</b><br><br>continent=Oceania<br>year=1992<br>gdpPercap=%{x}<br>lifeExp=%{y}<br>pop=%{marker.size}<extra></extra>",
           "hovertext": [
            "Australia",
            "New Zealand"
           ],
           "ids": [
            "Australia",
            "New Zealand"
           ],
           "legendgroup": "Oceania",
           "marker": {
            "color": "#FFA15A",
            "size": {
             "bdata": "+cAKAWp0NAA=",
             "dtype": "i4"
            },
            "sizemode": "area",
            "sizeref": 435928.2961983471,
            "symbol": "circle"
           },
           "mode": "markers",
           "name": "Oceania",
           "orientation": "v",
           "showlegend": true,
           "type": "scatter",
           "x": {
            "bdata": "5iK+EzHg1kBKJNHL1O7RQA==",
            "dtype": "f8"
           },
           "xaxis": "x",
           "y": {
            "bdata": "pHA9CtdjU0CF61G4HhVTQA==",
            "dtype": "f8"
           },
           "yaxis": "y"
          }
         ],
         "name": "1992"
        },
        {
         "data": [
          {
           "hovertemplate": "<b>%{hovertext}</b><br><br>continent=Asia<br>year=1997<br>gdpPercap=%{x}<br>lifeExp=%{y}<br>pop=%{marker.size}<extra></extra>",
           "hovertext": [
            "Afghanistan",
            "Bahrain",
            "Bangladesh",
            "Cambodia",
            "China",
            "Hong Kong, China",
            "India",
            "Indonesia",
            "Iran",
            "Iraq",
            "Israel",
            "Japan",
            "Jordan",
            "Korea, Dem. Rep.",
            "Korea, Rep.",
            "Kuwait",
            "Lebanon",
            "Malaysia",
            "Mongolia",
            "Myanmar",
            "Nepal",
            "Oman",
            "Pakistan",
            "Philippines",
            "Saudi Arabia",
            "Singapore",
            "Sri Lanka",
            "Syria",
            "Taiwan",
            "Thailand",
            "Vietnam",
            "West Bank and Gaza",
            "Yemen, Rep."
           ],
           "ids": [
            "Afghanistan",
            "Bahrain",
            "Bangladesh",
            "Cambodia",
            "China",
            "Hong Kong, China",
            "India",
            "Indonesia",
            "Iran",
            "Iraq",
            "Israel",
            "Japan",
            "Jordan",
            "Korea, Dem. Rep.",
            "Korea, Rep.",
            "Kuwait",
            "Lebanon",
            "Malaysia",
            "Mongolia",
            "Myanmar",
            "Nepal",
            "Oman",
            "Pakistan",
            "Philippines",
            "Saudi Arabia",
            "Singapore",
            "Sri Lanka",
            "Syria",
            "Taiwan",
            "Thailand",
            "Vietnam",
            "West Bank and Gaza",
            "Yemen, Rep."
           ],
           "legendgroup": "Asia",
           "marker": {
            "color": "#636efa",
            "size": {
             "bdata": "1ylTASEiCQBYpFkHMsuzAHh0UUmuHmMAwC0pObC94AvzTsYDFwM9AftmVACT8YEHmxBFANFcSQF4jsAC4e8aAPRXNAC7cDgBUxEmAPvokwIZ+F4Bc9giACKOFAh8m3gEv/BDAcUEOgCfUR0BOB7mAL0GSgFl1ZYDZGqIBD4fKwBBfvEA",
             "dtype": "i4"
            },
            "sizemode": "area",
            "sizeref": 435928.2961983471,
            "symbol": "circle"
           },
           "mode": "markers",
           "name": "Asia",
           "orientation": "v",
           "showlegend": true,
           "type": "scatter",
           "x": {
            "bdata": "qKs7Frvag0A6XRYTAdHTQCcGNwgpZo5AZ341B0jyhkCifazgd+KhQLcLzXVotttAggGED0XLlkDhCijUq16oQOaw+47LI8BAfQVpxnoIqEDbxMn9JmjUQJ/leXAlJNxA9NxCV8J6rECfzD/6BmuaQMx6MZTDPM9Am1q21pOt40Ag0m9fexnBQJFhFW90ysNASZ2AJgK5nUAAAAAAAPB5QCdsPxkjl49AMxtkkoM900AhD313swKgQKCJsOER0aNAgq0SLKwa1ECppE5A713gQJONB1v00KRAUrmJWnpcr0Crsu+KtLvTQL9GkiCg3LZARNycSpanlUAwKxTpqsa7QCC4yhP4iqBA",
            "dtype": "f8"
           },
           "xaxis": "x",
           "y": {
            "bdata": "jWzn+6nhREAzMzMzM3tSQNv5fmq8tE1AMQisHFpETEAlBoGVQ5tRQAAAAAAAAFRAUrgehevhTkC0yHa+n4JQQKabxCCwAlFALIcW2c5nTUDup8ZLN5FTQFyPwvUoLFRAxCCwcmhxUUBKDAIrh+5QQMMgsHJoqVJARIts5/sJU0ApXI/C9ZBRQHnpJjEI/FFAAAAAAADQT0BEi2zn+ylOQEoMAiuHtk1ADi2yne8fUkBkEFg5tOhOQGq8dJMYJFFAJzEIrByiUUAnMQisHEpTQGiR7Xw/nVFAfT81XrrhUUAAAAAAANBSQNNNYhBY4VBAXrpJDAKrUUCgGi/dJMZRQMP1KFyPAk1A",
            "dtype": "f8"
           },
           "yaxis": "y"
          },
          {
           "hovertemplate": "<b>%{hovertext}</b><br><br>continent=Europe<br>year=1997<br>gdpPercap=%{x}<br>lifeExp=%{y}<br>pop=%{marker.size}<extra></extra>",
           "hovertext": [
            "Albania",
            "Austria",
            "Belgium",
            "Bosnia and Herzegovina",
            "Bulgaria",
            "Croatia",
            "Czech Republic",
            "Denmark",
            "Finland",
            "France",
            "Germany",
            "Greece",
            "Hungary",
            "Iceland",
            "Ireland",
            "Italy",
            "Montenegro",
            "Netherlands",
            "Norway",
            "Poland",
            "Portugal",
            "Romania",
            "Serbia",
            "Slovak Republic",
            "Slovenia",
            "Spain",
            "Sweden",
            "Switzerland",
            "Turkey",
            "United Kingdom"
           ],
           "ids": [
            "Albania",
            "Austria",
            "Belgium",
            "Bosnia and Herzegovina",
            "Bulgaria",
            "Croatia",
            "Czech Republic",
            "Denmark",
            "Finland",
            "France",
            "Germany",
            "Greece",
            "Hungary",
            "Iceland",
            "Ireland",
            "Italy",
            "Montenegro",
            "Netherlands",
            "Norway",
            "Poland",
            "Portugal",
            "Romania",
            "Serbia",
            "Slovak Republic",
            "Slovenia",
            "Spain",
            "Sweden",
            "Switzerland",
            "Turkey",
            "United Kingdom"
           ],
           "legendgroup": "Europe",
           "marker": {
            "color": "#EF553B",
            "size": {
             "bdata": "xk40APQiewDropsA2Ak3AAkUewCz0UMAIy2dAE+fUABGWE4AxIV+A8Fj4wTkQKAATFKcAFgjBAAh9TcALRFtA6uRCgDwGu4AqDlDAO3TTQJ/+ZoAmkZYAVK5nQBiI1IA3LEeAFIlYAJTxIcAocRtAN8HwgPKV4ED",
             "dtype": "i4"
            },
            "sizemode": "area",
            "sizeref": 435928.2961983471,
            "symbol": "circle"
           },
           "mode": "markers",
           "name": "Europe",
           "orientation": "v",
           "showlegend": true,
           "type": "scatter",
           "x": {
            "bdata": "djQO9RvyqECw6xfs+mncQNr+lZVM6tpAhEiGHFueskD+fcaFY1K3QHldv2DNScNAJsed0kFYz0BNEHUfFhvdQCqpE9D8KtdAZ2FPO3JI2UAc0xOWOCPbQAJlU67sTtJAxLEubmPgxkAvVtRgRmfbQMQlx5188tdABK3AkMEY2EAJqHAEnUG5QHjuPVyIid1A+PwwQmUo5ECqtwa2ytfDQPc7FAVCOtFAsQ+yLIyyvEDJZHH/Ueq+QGlv8IUdr8dAzojS3kbC0EC0HykiU/fTQN3vUBSmrNhAkyIyrNRh30AP0egObsm5QJpfzQGidtlA",
            "dtype": "f8"
           },
           "xaxis": "x",
           "y": {
            "bdata": "zczMzMw8UkBxPQrXo2BTQFK4HoXrYVNAVg4tsp1PUkAUrkfhepRRQOxRuB6Fa1JAcT0K16OAUkDXo3A9CgdTQLgehetRSFNAKVyPwvWoU0D2KFyPwlVTQFYOLbKdd1NAw/UoXI/CUUDNzMzMzLxTQCuHFtnOB1NAFK5H4Xq0U0AUrkfhetxSQFK4HoXrgVNAFK5H4XqUU0AAAAAAADBSQK5H4XoU/lJArkfhehRuUUACK4cW2Q5SQD0K16NwLVJAuB6F61HIUkDhehSuR7FTQClcj8L12FNASOF6FK7XU0A9CtejcDVRQMuhRbbzTVNA",
            "dtype": "f8"
           },
           "yaxis": "y"
          },
          {
           "hovertemplate": "<b>%{hovertext}</b><br><br>continent=Africa<br>year=1997<br>gdpPercap=%{x}<br>lifeExp=%{y}<br>pop=%{marker.size}<extra></extra>",
           "hovertext": [
            "Algeria",
            "Angola",
            "Benin",
            "Botswana",
            "Burkina Faso",
            "Burundi",
            "Cameroon",
            "Central African Republic",
            "Chad",
            "Comoros",
            "Congo, Dem. Rep.",
            "Congo, Rep.",
            "Cote d'Ivoire",
            "Djibouti",
            "Egypt",
            "Equatorial Guinea",
            "Eritrea",
            "Ethiopia",
            "Gabon",
            "Gambia",
            "Ghana",
            "Guinea",
            "Guinea-Bissau",
            "Kenya",
            "Lesotho",
            "Liberia",
            "Libya",
            "Madagascar",
            "Malawi",
            "Mali",
            "Mauritania",
            "Mauritius",
            "Morocco",
            "Mozambique",
            "Namibia",
            "Niger",
            "Nigeria",
            "Reunion",
            "Rwanda",
            "Sao Tome and Principe",
            "Senegal",
            "Sierra Leone",
            "Somalia",
            "South Africa",
            "Sudan",
            "Swaziland",
            "Tanzania",
            "Togo",
            "Tunisia",
            "Uganda",
            "Zambia",
            "Zimbabwe"
           ],
           "ids": [
            "Algeria",
            "Angola",
            "Benin",
            "Botswana",
            "Burkina Faso",
            "Burundi",
            "Cameroon",
            "Central African Republic",
            "Chad",
            "Comoros",
            "Congo, Dem. Rep.",
            "Congo, Rep.",
            "Cote d'Ivoire",
            "Djibouti",
            "Egypt",
            "Equatorial Guinea",
            "Eritrea",
            "Ethiopia",
            "Gabon",
            "Gambia",
            "Ghana",
            "Guinea",
            "Guinea-Bissau",
            "Kenya",
            "Lesotho",
            "Liberia",
            "Libya",
            "Madagascar",
            "Malawi",
            "Mali",
            "Mauritania",
            "Mauritius",
            "Morocco",
            "Mozambique",
            "Namibia",
            "Niger",
            "Nigeria",
            "Reunion",
            "Rwanda",
            "Sao Tome and Principe",
            "Senegal",
            "Sierra Leone",
            "Somalia",
            "South Africa",
            "Sudan",
            "Swaziland",
            "Tanzania",
            "Togo",
            "Tunisia",
            "Uganda",
            "Zambia",
            "Zimbabwe"
           ],
           "legendgroup": "Africa",
           "marker": {
            "color": "#00cc96",
            "size": {
             "bdata": "j5q7AVCulgCgj1wAGHIXAMv4nQCKaF0AYZzYAIFnOAAbY3MAbg4IAMpa2QIzvSoAryzfAHRgBgATIfEDo7YGAM/sPQA1aZEDLS8RADfbEgBwChkBwtB6AOw2EgCTRa8BZ0EeAJWUIQB2oEgAeiTYABf/ngAYNI8AxU0lAHqLEQBdU7MBxlj9AK4UGwDMfpMAX5pUBgpzCgAnDm4AyDgCAFJ/kQCk20UAKjhlAD2cjQLZu+oBFhcQAKk+1AF67kEANd2MAI6kQwE9tI8AlAauAA==",
             "dtype": "i4"
            },
            "sizemode": "area",
            "sizeref": 435928.2961983471,
            "symbol": "circle"
           },
           "mode": "markers",
           "name": "Africa",
           "orientation": "v",
           "showlegend": true,
           "type": "scatter",
           "x": {
            "bdata": "p1t2iEu9skAPmfIhSMqhQDQw8rLmQ5NAZvhPN5LjwECOpO4UXJKNQE0zOKXX8XxAqDl5kVl5mkBtY6L3DCSHQEt319mwZ49A+IiYEnlWkkAH7dXHA4NzQH9QFylUOKtAhUTaxg/pm0A58kBkEZydQIOJP4ouTbBAx/SEJfb8pUBFKowtxIuMQCnEbX4dH4BAlU25wmvBzEAPJJRj122EQLcnSGz3aY9AmwZWH5kri0DitabUUOWIQIBTWKnwQZVABDi9i5eIkkDnKFFAZAmDQBjuXBi5fcJAPiiD/l3SjkAy0wfcNKKFQPneOloQsohAPE88Z4ssl0AKjzaOtAG9QKxVuyY0TKdAUSYkiImFfUA0hc5rDHeuQIJjhRFxIoJAK/aX3cNjmUAYsU8A8be3QD6bsFiOb4JARpVh3E3slEBSuvQvecGVQDt1QG0v9YFAP8NAfMUUjUCrP8IwMDe9QLSchNLXgJlAkdCWc4lJrkAUYolifamIQGyn955Lso5AIZT3ccwMs0CFlnX/eISJQPIKRE9qvZBA+yfJhJnDiEA=",
            "dtype": "f8"
           },
           "xaxis": "x",
           "y": {
            "bdata": "fT81XrpJUUAlBoGVQ3tEQPp+arx0Y0tAukkMAitHSkC28/3UeClJQH0/NV66qUZAtvP91HgZSkCcxCCwcghHQNNNYhBYyUlAFK5H4XpUTkBCYOXQIktFQEJg5dAie0pAAyuHFtn+R0BqvHSTGJRKQNnO91PjzVBAj8L1KFwfSECq8dJNYrBKQPp+arx0s0hAYLpJDAI7TkCR7Xw/Ne5LQLpJDAIrR01ACtejcD26SUA7tMh2vm9GQGq8dJMYNEtAgZVDi2zHS0A/NV66SRxFQOxRuB6F41FAd76fGi99S0CPwvUoXL9HQN0kBoGV80hA16NwPQo3TkDJdr6fGq9RQArXo3A96lBAeekmMQgsR0AxCKwcWnRNQPLSTWIQqElACKwcWmS7R0DDILByaLFSQEJg5dAiC0JAukkMAiunT0AOLbKd7xdOQIlBYOXQ8kNA9ihcj8LlRUCR7Xw/NR5OQDu0yHa+r0tAokW28/0kS0DP91PjpTtIQFK4HoXrMU1Ag8DKoUX+UUBEi2zn+0lGQFg5tMh2HkRAZDvfT41nR0A=",
            "dtype": "f8"
           },
           "yaxis": "y"
          },
          {
           "hovertemplate": "<b>%{hovertext}</b><br><br>continent=Americas<br>year=1997<br>gdpPercap=%{x}<br>lifeExp=%{y}<br>pop=%{marker.size}<extra></extra>",
           "hovertext": [
            "Argentina",
            "Bolivia",
            "Brazil",
            "Canada",
            "Chile",
            "Colombia",
            "Costa Rica",
            "Cuba",
            "Dominican Republic",
            "Ecuador",
            "El Salvador",
            "Guatemala",
            "Haiti",
            "Honduras",
            "Jamaica",
            "Mexico",
            "Nicaragua",
            "Panama",
            "Paraguay",
            "Peru",
            "Puerto Rico",
            "Trinidad and Tobago",
            "United States",
            "Uruguay",
            "Venezuela"
           ],
           "ids": [
            "Argentina",
            "Bolivia",
            "Brazil",
            "Canada",
            "Chile",
            "Colombia",
            "Costa Rica",
            "Cuba",
            "Dominican Republic",
            "Ecuador",
            "El Salvador",
            "Guatemala",
            "Haiti",
            "Honduras",
            "Jamaica",
            "Mexico",
            "Nicaragua",
            "Panama",
            "Paraguay",
            "Peru",
            "Puerto Rico",
            "Trinidad and Tobago",
            "United States",
            "Uruguay",
            "Venezuela"
           ],
           "legendgroup": "Americas",
           "marker": {
            "color": "#ab63fa",
            "size": {
             "bdata": "x2soAoRjdQCf0QsKM27OAfnG3gDmnD4Cm641AF+WpwAl9HkAi8K1AI8/WABjmJUACX5pALWJWQDvnyYAaj63BSRWRgDDuSkAS6VOAFqgeQFGXTkAtV0RAJBNRBB2yTEA/mdVAQ==",
             "dtype": "i4"
            },
            "sizemode": "area",
            "sizeref": 435928.2961983471,
            "symbol": "circle"
           },
           "mode": "markers",
           "name": "Americas",
           "orientation": "v",
           "showlegend": true,
           "type": "scatter",
           "x": {
            "bdata": "jgbwFqRrxUAqrFRQSfypQCAbSBf7Fb9AbCHIQbtG3EBnLJrOBsPDQHfHYptc5bdADcSymQsVukB4YtaL/Te1QCeloNszPKxA/uVatHQFvUD7srRT0yK0QELSp1VQTLJAy52ZYOj2lECCcXDp6LCoQHy+Zrns0btAyol2FaYTw0BbJy7HC5qhQJdUbTexybtA3UCBd2aXsEA6lQwAWc62QFfsL7vbmdBAP1kxXEkswUAGu2Hb7XbhQPENhc8eB8JA0egOYr/aw0A=",
            "dtype": "f8"
           },
           "xaxis": "x",
           "y": {
            "bdata": "mpmZmZlRUkBmZmZmZgZPQEa28/3UWFFA16NwPQqnU0BOYhBYOfRSQHnpJjEIlFFAcT0K16NQU0CNbOf7qQlTQGiR7Xw/fVFAhxbZzvcTUkAK16NwPWJRQPhT46WblFBA2s73U+NVTEAYBFYOLepQQFTjpZvEEFJAexSuR+FqUkAlBoGVQxtRQKwcWmQ7b1JAmpmZmZlZUUBjEFg5tBhRQKabxCCwulJA9ihcj8JdUUCkcD0K1zNTQIPAyqFFjlJA001iEFgJUkA=",
            "dtype": "f8"
           },
           "yaxis": "y"
          },
          {
           "hovertemplate": "<b>%{hovertext}</b><br><br>continent=Oceania<br>year=1997<br>gdpPercap=%{x}<br>lifeExp=%{y}<br>pop=%{marker.size}<extra></extra>",
           "hovertext": [
            "Australia",
            "New Zealand"
           ],
           "ids": [
            "Australia",
            "New Zealand"
           ],
           "legendgroup": "Oceania",
           "marker": {
            "color": "#FFA15A",
            "size": {
             "bdata": "e0gbARsYOAA=",
             "dtype": "i4"
            },
            "sizemode": "area",
            "sizeref": 435928.2961983471,
            "symbol": "circle"
           },
           "mode": "markers",
           "name": "Oceania",
           "orientation": "v",
           "showlegend": true,
           "type": "scatter",
           "x": {
            "bdata": "G0zD8Htd2kCEKjV7mo7UQA==",
            "dtype": "f8"
           },
           "xaxis": "x",
           "y": {
            "bdata": "hetRuB61U0AzMzMzM2NTQA==",
            "dtype": "f8"
           },
           "yaxis": "y"
          }
         ],
         "name": "1997"
        },
        {
         "data": [
          {
           "hovertemplate": "<b>%{hovertext}</b><br><br>continent=Asia<br>year=2002<br>gdpPercap=%{x}<br>lifeExp=%{y}<br>pop=%{marker.size}<extra></extra>",
           "hovertext": [
            "Afghanistan",
            "Bahrain",
            "Bangladesh",
            "Cambodia",
            "China",
            "Hong Kong, China",
            "India",
            "Indonesia",
            "Iran",
            "Iraq",
            "Israel",
            "Japan",
            "Jordan",
            "Korea, Dem. Rep.",
            "Korea, Rep.",
            "Kuwait",
            "Lebanon",
            "Malaysia",
            "Mongolia",
            "Myanmar",
            "Nepal",
            "Oman",
            "Pakistan",
            "Philippines",
            "Saudi Arabia",
            "Singapore",
            "Sri Lanka",
            "Syria",
            "Taiwan",
            "Thailand",
            "Vietnam",
            "West Bank and Gaza",
            "Yemen, Rep."
           ],
           "ids": [
            "Afghanistan",
            "Bahrain",
            "Bangladesh",
            "Cambodia",
            "China",
            "Hong Kong, China",
            "India",
            "Indonesia",
            "Iran",
            "Iraq",
            "Israel",
            "Japan",
            "Jordan",
            "Korea, Dem. Rep.",
            "Korea, Rep.",
            "Kuwait",
            "Lebanon",
            "Malaysia",
            "Mongolia",
            "Myanmar",
            "Nepal",
            "Oman",
            "Pakistan",
            "Philippines",
            "Saudi Arabia",
            "Singapore",
            "Sri Lanka",
            "Syria",
            "Taiwan",
            "Thailand",
            "Vietnam",
            "West Bank and Gaza",
            "Yemen, Rep."
           ],
           "legendgroup": "Asia",
           "marker": {
            "color": "#636efa",
            "size": {
             "bdata": "tZCBAQ0ECgBW9RUI8z7FAIBaUUzsL2cAgzikPSCFlAyy7vwDGD1uAdkAXADx3pIHTvxQAMX6UgF+89sCSTggAFQeOADdzFkBOs4oAIHFtwL9zYoBdmcpAITAJAmQZ/IEGt11AZANQADPtyoB5sYFAd+fVgHcWr4Dc4/SBIq4MwDJWx0B",
             "dtype": "i4"
            },
            "sizemode": "area",
            "sizeref": 435928.2961983471,
            "symbol": "circle"
           },
           "mode": "markers",
           "name": "Asia",
           "orientation": "v",
           "showlegend": true,
           "type": "scatter",
           "x": {
            "bdata": "xnsfWN+1hkDpZRTL49rWQITF4cyPwZFAKQ8c4c4BjEAou5nRj16oQA+mYfhAgN1AG9e/6xNLm0AAV7Jj03OmQK+UZYhhDMJAB13CobcmsUAjFcYWZmTVQKCJsOEl79tALbRzmtUJrkC4WbxYCLuZQKRTVz5/yNJAkBSRYcMk4UBA2ZQr+DDCQLpOIy1978NAXFSLiHq5oEAAAAAAABiDQDjXMEPThJBAQDBHj7VP00CpFhHFbFmgQMmSOZbXtaRAUHCxoqKR0kAg0m9f45bhQEsjZvbBjqdA8x38xNn1r0Cu8C4X27DWQA2K5gEwGbdAV68io9ORm0BZF7fRfKOxQFnBb0OkdaFA",
            "dtype": "f8"
           },
           "xaxis": "x",
           "y": {
            "bdata": "jZduEoMQRUB7FK5H4bJSQI1s5/upAU9Ax0s3iUFgTEBvEoPAygFSQEjhehSuX1RAjZduEoNwT0ATg8DKoSVRQL+fGi/dXFFA2s73U+OFTEAGgZVDi+xTQAAAAAAAgFRARrbz/dTQUUDtfD81XqpQQHsUrkfhQlNAYOXQIts5U0BvEoPAysFRQIlBYOXQQlJAJzEIrBxCUEBOYhBYOfRNQOxRuB6Fq05AMQisHFqMUkCuR+F6FM5PQAisHFpkk1FA8tJNYhDoUUDhehSuR7FTQFyPwvUotFFACKwcWmRDUkCPwvUoXD9TQGq8dJMYJFFADAIrhxZBUkBI4XoUrhdSQIGVQ4tsJ05A",
            "dtype": "f8"
           },
           "yaxis": "y"
          },
          {
           "hovertemplate": "<b>%{hovertext}</b><br><br>continent=Europe<br>year=2002<br>gdpPercap=%{x}<br>lifeExp=%{y}<br>pop=%{marker.size}<extra></extra>",
           "hovertext": [
            "Albania",
            "Austria",
            "Belgium",
            "Bosnia and Herzegovina",
            "Bulgaria",
            "Croatia",
            "Czech Republic",
            "Denmark",
            "Finland",
            "France",
            "Germany",
            "Greece",
            "Hungary",
            "Iceland",
            "Ireland",
            "Italy",
            "Montenegro",
            "Netherlands",
            "Norway",
            "Poland",
            "Portugal",
            "Romania",
            "Serbia",
            "Slovak Republic",
            "Slovenia",
            "Spain",
            "Sweden",
            "Switzerland",
            "Turkey",
            "United Kingdom"
           ],
           "ids": [
            "Albania",
            "Austria",
            "Belgium",
            "Bosnia and Herzegovina",
            "Bulgaria",
            "Croatia",
            "Czech Republic",
            "Denmark",
            "Finland",
            "France",
            "Germany",
            "Greece",
            "Hungary",
            "Iceland",
            "Ireland",
            "Italy",
            "Montenegro",
            "Netherlands",
            "Norway",
            "Poland",
            "Portugal",
            "Romania",
            "Serbia",
            "Slovak Republic",
            "Slovenia",
            "Spain",
            "Sweden",
            "Switzerland",
            "Turkey",
            "United Kingdom"
           ],
           "legendgroup": "Europe",
           "marker": {
            "color": "#EF553B",
            "size": {
             "bdata": "IIk1AFhVfAAiWZ0AKI8/AOfodAD8X0QAp3+cAOUCUgBPPU8AK2KSA0+S6ARXzaEA8duZAB5lBADzMDsAV+VzA2b9CgDOA/YAJzVFALhiTQJLNZ8A8dxVAUdKmgAEjVIAabEeAMWtZAI/oYgA3VRwAIANAwTvMJID",
             "dtype": "i4"
            },
            "sizemode": "area",
            "sizeref": 435928.2961983471,
            "symbol": "circle"
           },
           "mode": "markers",
           "name": "Europe",
           "orientation": "v",
           "showlegend": true,
           "type": "scatter",
           "x": {
            "bdata": "WmJlNDb8sUAHmWTkZqjfQPYoXI94xd1AyVpDqfmCt0BIUPwYxxC+QOQUHckxtsZAPJY+dA0v0UCCqPsAoGnfQAAd5ssli9tAl8rbEYI/3EAD7KNT81TdQMGopE6Q/NVAuRluwPf9zEDGounszG7eQFhWmpSho+BA3dJqSAZQ20A0FHe8MZ25QLLXuz+Yd+BA7nw/NX/R5UCQZiyaHnHHQMHFihq6gNNA6bZELlzNvkD+R6ZDE0S8QBfPoKFjo8pAtrkxPQEt1EC1bK0v3kDYQAY5KGFop9xAInGPpR7W4ECuZp3xFWy5QB+duvK/ydxA",
            "dtype": "f8"
           },
           "xaxis": "x",
           "y": {
            "bdata": "jWzn+6npUkAfhetRuL5TQBSuR+F6lFNA9ihcj8KFUkApXI/C9QhSQPLSTWIQuFJAcT0K16PgUkDsUbgehUtTQEjhehSul1NA9ihcj8LlU0B7FK5H4apTQKrx0k1ikFNA9ihcj8IlUkAAAAAAACBUQCcxCKwcclNAj8L1KFwPVEASWDm0yH5SQFK4HoXroVNAMzMzMzPDU0B7FK5H4apSQMP1KFyPUlNA+FPjpZvUUUAUg8DKoU1SQDMzMzMzc1JACtejcD0qU0BSuB6F6/FTQMP1KFyPAlRASOF6FK4nVECuR+F6FLZRQKAaL90knlNA",
            "dtype": "f8"
           },
           "yaxis": "y"
          },
          {
           "hovertemplate": "<b>%{hovertext}</b><br><br>continent=Africa<br>year=2002<br>gdpPercap=%{x}<br>lifeExp=%{y}<br>pop=%{marker.size}<extra></extra>",
           "hovertext": [
            "Algeria",
            "Angola",
            "Benin",
            "Botswana",
            "Burkina Faso",
            "Burundi",
            "Cameroon",
            "Central African Republic",
            "Chad",
            "Comoros",
            "Congo, Dem. Rep.",
            "Congo, Rep.",
            "Cote d'Ivoire",
            "Djibouti",
            "Egypt",
            "Equatorial Guinea",
            "Eritrea",
            "Ethiopia",
            "Gabon",
            "Gambia",
            "Ghana",
            "Guinea",
            "Guinea-Bissau",
            "Kenya",
            "Lesotho",
            "Liberia",
            "Libya",
            "Madagascar",
            "Malawi",
            "Mali",
            "Mauritania",
            "Mauritius",
            "Morocco",
            "Mozambique",
            "Namibia",
            "Niger",
            "Nigeria",
            "Reunion",
            "Rwanda",
            "Sao Tome and Principe",
            "Senegal",
            "Sierra Leone",
            "Somalia",
            "South Africa",
            "Sudan",
            "Swaziland",
            "Tanzania",
            "Togo",
            "Tunisia",
            "Uganda",
            "Zambia",
            "Zimbabwe"
           ],
           "ids": [
            "Algeria",
            "Angola",
            "Benin",
            "Botswana",
            "Burkina Faso",
            "Burundi",
            "Cameroon",
            "Central African Republic",
            "Chad",
            "Comoros",
            "Congo, Dem. Rep.",
            "Congo, Rep.",
            "Cote d'Ivoire",
            "Djibouti",
            "Egypt",
            "Equatorial Guinea",
            "Eritrea",
            "Ethiopia",
            "Gabon",
            "Gambia",
            "Ghana",
            "Guinea",
            "Guinea-Bissau",
            "Kenya",
            "Lesotho",
            "Liberia",
            "Libya",
            "Madagascar",
            "Malawi",
            "Mali",
            "Mauritania",
            "Mauritius",
            "Morocco",
            "Mozambique",
            "Namibia",
            "Niger",
            "Nigeria",
            "Reunion",
            "Rwanda",
            "Sao Tome and Principe",
            "Senegal",
            "Sierra Leone",
            "Somalia",
            "South Africa",
            "Sudan",
            "Swaziland",
            "Tanzania",
            "Togo",
            "Tunisia",
            "Uganda",
            "Zambia",
            "Zimbabwe"
           ],
           "legendgroup": "Africa",
           "marker": {
            "color": "#00cc96",
            "size": {
             "bdata": "ZmfdAbrNpQDBNWsAi+AYAEnwugAWImsAhBLzAI3EPQCb0oYA7l8JAIwHTQMbyzIANv/3ALjTBgAvqV4EC5AHAJFdQwAtyQwEaNMTAGY+FgBflDkBimWGAOtUFADa7N4BNDsfALvyKgAJ61EAhV37AG9ttADQcKEAOiorAE5QEgAnldsBNOMZAbkXHgAv/qkAWowlBy1aCwBx0XcAhJkCABXdpQD0xVEAXk52ANYApgL68zUCHT8RAPPbDwLi8ksATxaVAB2AeQHjraEAI/y1AA==",
             "dtype": "i4"
            },
            "sizemode": "area",
            "sizeref": 435928.2961983471,
            "symbol": "circle"
           },
           "mode": "markers",
           "name": "Africa",
           "orientation": "v",
           "showlegend": true,
           "type": "scatter",
           "x": {
            "bdata": "WYl5VgqotEB/944ak6qlQJQUWACDc5VAu+1Cc819xUDFVtC0lDaQQGLIoMl05ntASmJJuQs4nkApo9tchhWHQM0Bgjm6EJJAO3MPCT/PkECZ1TvcTiVuQKsmiLofOKtAisvxCjTDmUBsBrggC9GdQD874LqakrJAFmpN834XvkBoIJbNzOqHQFj+IaJtkIBA+wW7Ydt0yEBhQOVOr6SEQHAZNzXwX5FA1E/uLauMjUBTJ/tCo/2BQNLI5xUPHpRAo5I6Ab3sk0AfmbPj25uAQI8YPbdWn8JA6W6Nvhj1i0CkKgGMYsuEQNGj8ytHu41Ad4cUAxSsmECA7zZv6J7BQNegL739dKlAZa38jfHMg0CwWMNFptCvQBrMFZSYyIJA9Bq7RCU9mUBNFYxKKqy4QDQaCuk6jYhA6fF7m14klUCRKR+Cir6XQGc7pu7q24VAzhgwkqeQi0B/aydK8h6+QCgOoN+XJZ9Af/j57x0gsEAAPP37lxiMQCKunL3DsYtAfmWlSeVatkDbepecxP2MQBi/Kax0vpBAEgtrGU8AhUA=",
            "dtype": "f8"
           },
           "xaxis": "x",
           "y": {
            "bdata": "Vg4tsp2/UUCq8dJNYoBEQIkW2c73M0tA/dR46SZRR0AzMzMzM1NJQK5H4XoUrkdAIbByaJHtSECBlUOLbKdFQDMzMzMzQ0lA6SYxCKx8T0DP91PjpXtGQFyPwvUofEpA0SLb+X5qR0A7tMh2vq9KQN0kBoGVc1FABoGVQ4usSEAfhetRuJ5LQM3MzMzMXElAxSCwcmhhTEBoke18PwVNQESLbOf7OU1ASgwCK4fWSkCNl24Sg8BGQOXQItv5fklAlkOLbOdLRkCq8dJNYuBFQLpJDAIrL1JA+FPjpZukTED91HjpJoFGQGQQWDm06ElAVg4tsp0fT0CTGARWDv1RQI/C9ShcZ1FAF9nO91MDRkBaZDvfT71JQHNoke18P0tA5/up8dJNR0BWDi2yne9SQL6fGi/dtEVAIbByaJEVUEDNzMzMzMxOQKjGSzeJgURALIcW2c73RkAfhetRuK5KQKwcWmQ7L0xArBxaZDvvRUAX2c73U9NIQCyHFtnOx0xAppvEILBCUkDy0k1iEOhHQGQQWDm0mENAO99PjZf+Q0A=",
            "dtype": "f8"
           },
           "yaxis": "y"
          },
          {
           "hovertemplate": "<b>%{hovertext}</b><br><br>continent=Americas<br>year=2002<br>gdpPercap=%{x}<br>lifeExp=%{y}<br>pop=%{marker.size}<extra></extra>",
           "hovertext": [
            "Argentina",
            "Bolivia",
            "Brazil",
            "Canada",
            "Chile",
            "Colombia",
            "Costa Rica",
            "Cuba",
            "Dominican Republic",
            "Ecuador",
            "El Salvador",
            "Guatemala",
            "Haiti",
            "Honduras",
            "Jamaica",
            "Mexico",
            "Nicaragua",
            "Panama",
            "Paraguay",
            "Peru",
            "Puerto Rico",
            "Trinidad and Tobago",
            "United States",
            "Uruguay",
            "Venezuela"
           ],
           "ids": [
            "Argentina",
            "Bolivia",
            "Brazil",
            "Canada",
            "Chile",
            "Colombia",
            "Costa Rica",
            "Cuba",
            "Dominican Republic",
            "Ecuador",
            "El Salvador",
            "Guatemala",
            "Haiti",
            "Honduras",
            "Jamaica",
            "Mexico",
            "Nicaragua",
            "Panama",
            "Paraguay",
            "Peru",
            "Puerto Rico",
            "Trinidad and Tobago",
            "United States",
            "Uruguay",
            "Venezuela"
           ],
           "legendgroup": "Americas",
           "marker": {
            "color": "#ab63fa",
            "size": {
             "bdata": "8eJIAs7cgADkRbkKPMrmAVZ37ABjvHECNoQ6AHdPqwBS/oMAkinFABHzYACakqoAYxV0AFDjZQDTqCgAN7gbBuCITgAboy0AS8pZABx4mAGW5DoACNAQAIaUJRENUTMAtplyAQ==",
             "dtype": "i4"
            },
            "sizemode": "area",
            "sizeref": 435928.2961983471,
            "symbol": "circle"
           },
           "mode": "markers",
           "name": "Americas",
           "orientation": "v",
           "showlegend": true,
           "type": "scatter",
           "x": {
            "bdata": "A137AtIuwUD5vU1/hqqqQDD84Hw2w79AC3va4R5G4EB8YTJVZA3FQDSg3oxCe7ZA8Rtfe3IrvkDhXwSNpcS4QCI4LuPO07FASHAjZQuNtkBYUBiUkee0QIasbvVY+rJADvW7sHXZk0DPa+wSdTeoQPJdSl3GUrtAdHtJYzj7xEDZ0M3+GFWjQKOd0ywIvLxAHeVgNlmPrUCIDoEjBRW3QN8yp8vmadJACi5W1ExixkBKe4MvIxfjQHeKVYMAL75AXoJTH4bOwEA=",
            "dtype": "f8"
           },
           "xaxis": "x",
           "y": {
            "bdata": "9ihcj8KVUkAbL90kBvFPQKrx0k1iwFFA4XoUrkfxU0DXo3A9CndTQM/3U+Ol61FAHVpkO9+HU0AnMQisHEpTQJHtfD81tlFAUI2XbhKLUkDl0CLb+a5RQDzfT42XPlFAqMZLN4kRTUBcj8L1KCRRQF66SQwCA1JAfT81Xrq5UkAv3SQGgbVRQCGwcmiRrVJAuB6F61GwUUBEi2zn+3lRQG8Sg8DKcVNAWDm0yHY+UUCkcD0K11NTQM/3U+Ol01JAGy/dJAYxUkA=",
            "dtype": "f8"
           },
           "yaxis": "y"
          },
          {
           "hovertemplate": "<b>%{hovertext}</b><br><br>continent=Oceania<br>year=2002<br>gdpPercap=%{x}<br>lifeExp=%{y}<br>pop=%{marker.size}<extra></extra>",
           "hovertext": [
            "Australia",
            "New Zealand"
           ],
           "ids": [
            "Australia",
            "New Zealand"
           ],
           "legendgroup": "Oceania",
           "marker": {
            "color": "#FFA15A",
            "size": {
             "bdata": "qEIqAcWhOwA=",
             "dtype": "i4"
            },
            "sizemode": "area",
            "sizeref": 435928.2961983471,
            "symbol": "circle"
           },
           "mode": "markers",
           "name": "Oceania",
           "orientation": "v",
           "showlegend": true,
           "type": "scatter",
           "x": {
            "bdata": "1A5/TfD33UCqglFJc6XWQA==",
            "dtype": "f8"
           },
           "xaxis": "x",
           "y": {
            "bdata": "SOF6FK4XVEDXo3A9CsdTQA==",
            "dtype": "f8"
           },
           "yaxis": "y"
          }
         ],
         "name": "2002"
        },
        {
         "data": [
          {
           "hovertemplate": "<b>%{hovertext}</b><br><br>continent=Asia<br>year=2007<br>gdpPercap=%{x}<br>lifeExp=%{y}<br>pop=%{marker.size}<extra></extra>",
           "hovertext": [
            "Afghanistan",
            "Bahrain",
            "Bangladesh",
            "Cambodia",
            "China",
            "Hong Kong, China",
            "India",
            "Indonesia",
            "Iran",
            "Iraq",
            "Israel",
            "Japan",
            "Jordan",
            "Korea, Dem. Rep.",
            "Korea, Rep.",
            "Kuwait",
            "Lebanon",
            "Malaysia",
            "Mongolia",
            "Myanmar",
            "Nepal",
            "Oman",
            "Pakistan",
            "Philippines",
            "Saudi Arabia",
            "Singapore",
            "Sri Lanka",
            "Syria",
            "Taiwan",
            "Thailand",
            "Vietnam",
            "West Bank and Gaza",
            "Yemen, Rep."
           ],
           "ids": [
            "Afghanistan",
            "Bahrain",
            "Bangladesh",
            "Cambodia",
            "China",
            "Hong Kong, China",
            "India",
            "Indonesia",
            "Iran",
            "Iraq",
            "Israel",
            "Japan",
            "Jordan",
            "Korea, Dem. Rep.",
            "Korea, Rep.",
            "Kuwait",
            "Lebanon",
            "Malaysia",
            "Mongolia",
            "Myanmar",
            "Nepal",
            "Oman",
            "Pakistan",
            "Philippines",
            "Saudi Arabia",
            "Singapore",
            "Sri Lanka",
            "Syria",
            "Taiwan",
            "Thailand",
            "Vietnam",
            "West Bank and Gaza",
            "Yemen, Rep."
           ],
           "legendgroup": "Asia",
           "marker": {
            "color": "#636efa",
            "size": {
             "bdata": "A5rmAd3PCgDTqPcIkqLXANiBmU48g2oAq00vQngOUw0CxyMEdpyjATcQYgDEAZkHSV1cAF2OYwE2XewCVzsmAH7VOwAmvnoBD9srADzK2AKeAbkBIecwAFndFgqnum0FjiilATF5RQB/8jYBO7gmAZacYQF13OADFAAVBZxQPQCf7FIB",
             "dtype": "i4"
            },
            "sizemode": "area",
            "sizeref": 435928.2961983471,
            "symbol": "circle"
           },
           "mode": "markers",
           "name": "Asia",
           "orientation": "v",
           "showlegend": true,
           "type": "scatter",
           "x": {
            "bdata": "54R1iKR0jkDGpwAYAxndQPLPDOIDvZVAat/cXx3HmkDRXRJnHV+zQHK/Q1GfZeNAs193umsoo0CA7suZTamrQKmHaHTbqsZAbVUS2Q93sUBuowG80ezYQItUGFsE6t5A3XpND3ansUArajANQ+SYQBMZVvEIzdZASBtHrF8Z50B3hNOCh27EQFwgQfHTUchATsEaZ4svqEAAAAAAAICNQEjfpGlwDZFAmGn7VwzL1UCwrDQp5VukQLWpukf27KhAD0WBPrUl1UCiYpy/5QTnQJ6xL9kwBK9ATIqPT4xYsECOHr+3kQvcQIOvr3VlIr1AkdJsHicTo0BqNLkYs6KnQP2FHjGK0aFA",
            "dtype": "f8"
           },
           "xaxis": "x",
           "y": {
            "bdata": "RIts5/vpRUBxPQrXo+hSQIcW2c73A1BABoGVQ4vcTUAv3SQGgT1SQFpkO99PjVRA6iYxCKwsUECamZmZmalRQARWDi2yvVFA9ihcj8LFTUBI4XoUri9UQDvfT42XplRACtejcD0iUkBeukkMAtNQQB1aZDvfp1NAFIPAyqFlU0BkO99Pjf9RQIGVQ4tsj1JACKwcWmSzUEBGtvP91AhPQBSuR+F65E9AKVyPwvXoUkD0/dR46V5QQHnpJjEI7FFAfT81XroxUkCR7Xw/Nf5TQNNNYhBYGVJA/tR46SaJUkCamZmZmZlTQIGVQ4tsp1FADi2yne+PUkBeukkMAltSQNNNYhBYWU9A",
            "dtype": "f8"
           },
           "yaxis": "y"
          },
          {
           "hovertemplate": "<b>%{hovertext}</b><br><br>continent=Europe<br>year=2007<br>gdpPercap=%{x}<br>lifeExp=%{y}<br>pop=%{marker.size}<extra></extra>",
           "hovertext": [
            "Albania",
            "Austria",
            "Belgium",
            "Bosnia and Herzegovina",
            "Bulgaria",
            "Croatia",
            "Czech Republic",
            "Denmark",
            "Finland",
            "France",
            "Germany",
            "Greece",
            "Hungary",
            "Iceland",
            "Ireland",
            "Italy",
            "Montenegro",
            "Netherlands",
            "Norway",
            "Poland",
            "Portugal",
            "Romania",
            "Serbia",
            "Slovak Republic",
            "Slovenia",
            "Spain",
            "Sweden",
            "Switzerland",
            "Turkey",
            "United Kingdom"
           ],
           "ids": [
            "Albania",
            "Austria",
            "Belgium",
            "Bosnia and Herzegovina",
            "Bulgaria",
            "Croatia",
            "Czech Republic",
            "Denmark",
            "Finland",
            "France",
            "Germany",
            "Greece",
            "Hungary",
            "Iceland",
            "Ireland",
            "Italy",
            "Montenegro",
            "Netherlands",
            "Norway",
            "Poland",
            "Portugal",
            "Romania",
            "Serbia",
            "Slovak Republic",
            "Slovenia",
            "Spain",
            "Sweden",
            "Switzerland",
            "Turkey",
            "United Kingdom"
           ],
           "legendgroup": "Europe",
           "marker": {
            "color": "#EF553B",
            "size": {
             "bdata": "i/A2AGcefQCikp4ABnZFAOq8bwAAkEQACBScANhvUwC87k8ADBGkA+RW6QRyXaMADOuXAGubBAAesz4AlUN3A8ByCgD12PwA1p1GAOG9SwKUZaIA2OdTAXnhmgBOH1MAnageAL8waQKwzYkAZUZzAHfLPQQuX58D",
             "dtype": "i4"
            },
            "sizemode": "area",
            "sizeref": 435928.2961983471,
            "symbol": "circle"
           },
           "mode": "markers",
           "name": "Europe",
           "orientation": "v",
           "showlegend": true,
           "type": "scatter",
           "x": {
            "bdata": "YBQEjwcxt0BYyjLEz6PhQG+70FyTc+BA8nhafkwWvUDPMSB7ZdzEQBTGFoKcjcxAH7qgvlNM1kCxbVFmzTnhQPmgZ7PiNuBAduCcEYHB3UC+TX/2l2rfQHjuPVya5NpAQni0cTyW0UALYwtBmarhQCxlGeJ/3ONAvJaQD27m20BL58Oz8hLCQJbnwd299+FAVmXfFaYZ6ECjC+pb9g7OQFVNEHVpB9RA09nJ4DwcxUBbI4JxRB3DQGB2Tx6UPdJAcsRafBAq2UAwKqkTRCXcQP+ye/J3iOBAGH0FaU1Q4kCSCI1gI4XAQOPfZ1xoNuBA",
            "dtype": "f8"
           },
           "xaxis": "x",
           "y": {
            "bdata": "UI2XbhIbU0CTGARWDvVTQE5iEFg53FNASgwCK4e2UkC4HoXrUUBSQB1aZDvf71JAyXa+nxofU0Boke18P5VTQHnpJjEI1FNANV66SQwqVEBEi2zn+9lTQPT91Hjp3lNAFIPAyqFVUkCcxCCwcnBUQHE9CtejuFNAbef7qfEiVECYbhKDwKJSQFTjpZvE8FNABoGVQ4sMVEB56SYxCORSQIPAyqFFhlNAWDm0yHYeUkDjpZvEIIBSQN9PjZduqlJAJQaBlUN7U0BOYhBYOTxUQH9qvHSTOFRAwJ8aL91sVEB9PzVeuvFRQDMzMzMz21NA",
            "dtype": "f8"
           },
           "yaxis": "y"
          },
          {
           "hovertemplate": "<b>%{hovertext}</b><br><br>continent=Africa<br>year=2007<br>gdpPercap=%{x}<br>lifeExp=%{y}<br>pop=%{marker.size}<extra></extra>",
           "hovertext": [
            "Algeria",
            "Angola",
            "Benin",
            "Botswana",
            "Burkina Faso",
            "Burundi",
            "Cameroon",
            "Central African Republic",
            "Chad",
            "Comoros",
            "Congo, Dem. Rep.",
            "Congo, Rep.",
            "Cote d'Ivoire",
            "Djibouti",
            "Egypt",
            "Equatorial Guinea",
            "Eritrea",
            "Ethiopia",
            "Gabon",
            "Gambia",
            "Ghana",
            "Guinea",
            "Guinea-Bissau",
            "Kenya",
            "Lesotho",
            "Liberia",
            "Libya",
            "Madagascar",
            "Malawi",
            "Mali",
            "Mauritania",
            "Mauritius",
            "Morocco",
            "Mozambique",
            "Namibia",
            "Niger",
            "Nigeria",
            "Reunion",
            "Rwanda",
            "Sao Tome and Principe",
            "Senegal",
            "Sierra Leone",
            "Somalia",
            "South Africa",
            "Sudan",
            "Swaziland",
            "Tanzania",
            "Togo",
            "Tunisia",
            "Uganda",
            "Zambia",
            "Zimbabwe"
           ],
           "ids": [
            "Algeria",
            "Angola",
            "Benin",
            "Botswana",
            "Burkina Faso",
            "Burundi",
            "Cameroon",
            "Central African Republic",
            "Chad",
            "Comoros",
            "Congo, Dem. Rep.",
            "Congo, Rep.",
            "Cote d'Ivoire",
            "Djibouti",
            "Egypt",
            "Equatorial Guinea",
            "Eritrea",
            "Ethiopia",
            "Gabon",
            "Gambia",
            "Ghana",
            "Guinea",
            "Guinea-Bissau",
            "Kenya",
            "Lesotho",
            "Liberia",
            "Libya",
            "Madagascar",
            "Malawi",
            "Mali",
            "Mauritania",
            "Mauritius",
            "Morocco",
            "Mozambique",
            "Namibia",
            "Niger",
            "Nigeria",
            "Reunion",
            "Rwanda",
            "Sao Tome and Principe",
            "Senegal",
            "Sierra Leone",
            "Somalia",
            "South Africa",
            "Sudan",
            "Swaziland",
            "Tanzania",
            "Togo",
            "Tunisia",
            "Uganda",
            "Zambia",
            "Zimbabwe"
           ],
           "legendgroup": "Africa",
           "marker": {
            "color": "#00cc96",
            "size": {
             "bdata": "4J/8AXyFvQDqQ3sA2wIZALuZ2gBpB4AAJQYOAY6qQgBXO5wAMNkKACfS2QMi/jkA4dwSAfaSBwBfvcgEIWkIAFneSgCPeo8EEzMWACfDGQD6BF0BpsqXACl2FgBBXh8C6bUeAFa8MACyHVwApnkkAedaywAzl7cAseUxAEIWEwD3FwMCKHAwAahbHwCRwsQAfGkMCI4tDACsM4cAmwsDAOUvuwAywl0ANSSLAIRanwLBVoUCCkoRAPj2RQLL/1YAPs2cAN4avQHzOrMAZ9q7AA==",
             "dtype": "i4"
            },
            "sizemode": "area",
            "sizeref": 435928.2961983471,
            "symbol": "circle"
           },
           "mode": "markers",
           "name": "Africa",
           "orientation": "v",
           "showlegend": true,
           "type": "scatter",
           "x": {
            "bdata": "ba0vEl5PuEClaVA0O72yQA5qv7UjhZZA26LMBu2MyEDb2y3JIQSTQKHhg40h4XpAFjWYhmHon0BkkSbeIRCGQOI/3UBBoJpAEj5K2y7RjkA2yMlp1FhxQIwPs5cdYaxAWTFcHQAjmECsJ/OP9kSgQKSK4lUuzbVAaJHtfAu9x0DPCMrI9AqEQJEHx9FxloVAIVnABD7LyUCOc5tw/4WHQNRgGoZvvpRAcXkH0zt1jUCc8BKc2hmCQO3Vx0P/3JZAFRqIZVOFmEB15h4SHuh5QMYzaOi/jMdAMv/omxRTkEBSoKqdzLqHQAqfrYNTSpBA5nXEIZssnEA1KQXdfmbFQI4ev7dZ2K1AvceZJny9iUC7YkZ4D8uyQEgHkEZqXYNA3lSkwuh3n0DdCfZfH/a9QAWrjyy1+IpAZof4h735mEAPnZ5348GaQOgk73dT9IpABbhq6CDxjECGcw0z1BrCQCveyDzKVKRADW5rC3uhsUDhQh7B7U2RQKkf5XHCl4tAZMxdS+y0u0AXfnA+hYGQQEDc1avY3JNA2On2SFlbfUA=",
            "dtype": "f8"
           },
           "xaxis": "x",
           "y": {
            "bdata": "JQaBlUMTUkAhsHJokV1FQHe+nxovXUxAd76fGi9dSUD2KFyPwiVKQArXo3A9ykhA16NwPQo3SUADK4cW2V5GQBfZzvdTU0lAfT81XrpJUEBCYOXQIjtHQPCnxks3qUtARIts5/spSEBoke18P2VLQBSDwMqh1VFAJjEIrBzKSUCF61G4HgVNQPCnxks3eUpArkfhehReTEDTTWIQWLlNQIlBYOXQAk5AN4lBYOUATECNbOf7qTFHQK5H4XoUDktAsp3vp8ZLRUAQWDm0yNZGQLByaJHtfFJAZBBYObS4TUAQWDm0yCZIQLKd76fGO0tA0SLb+X4KUEAlBoGVQzNSQNEi2/l+ylFA0SLb+X4KRUCJFtnO93NKQOXQItv5bkxAy6FFtvNtR0A/NV66SRxTQOXQItv5HkdAbxKDwMphUEAOLbKd74dPQGQQWDm0SEVAMQisHFoUSEAIrBxaZKtIQLpJDAIrR01AWDm0yHbOQ0AZBFYOLUJKQPYoXI/CNU1AUI2XbhJ7UkBMN4lBYMVJQP3UeOkmMUVAdZMYBFa+RUA=",
            "dtype": "f8"
           },
           "yaxis": "y"
          },
          {
           "hovertemplate": "<b>%{hovertext}</b><br><br>continent=Americas<br>year=2007<br>gdpPercap=%{x}<br>lifeExp=%{y}<br>pop=%{marker.size}<extra></extra>",
           "hovertext": [
            "Argentina",
            "Bolivia",
            "Brazil",
            "Canada",
            "Chile",
            "Colombia",
            "Costa Rica",
            "Cuba",
            "Dominican Republic",
            "Ecuador",
            "El Salvador",
            "Guatemala",
            "Haiti",
            "Honduras",
            "Jamaica",
            "Mexico",
            "Nicaragua",
            "Panama",
            "Paraguay",
            "Peru",
            "Puerto Rico",
            "Trinidad and Tobago",
            "United States",
            "Uruguay",
            "Venezuela"
           ],
           "ids": [
            "Argentina",
            "Bolivia",
            "Brazil",
            "Canada",
            "Chile",
            "Colombia",
            "Costa Rica",
            "Cuba",
            "Dominican Republic",
            "Ecuador",
            "El Salvador",
            "Guatemala",
            "Haiti",
            "Honduras",
            "Jamaica",
            "Mexico",
            "Nicaragua",
            "Panama",
            "Paraguay",
            "Peru",
            "Puerto Rico",
            "Trinidad and Tobago",
            "United States",
            "Uruguay",
            "Venezuela"
           ],
           "legendgroup": "Americas",
           "marker": {
            "color": "#ab63fa",
            "size": {
             "bdata": "Z/VmArAliwAXVVMLPX79AUV8+ADe26IC/BM/AJs1rgDGNI4AIOXRACjkaQAA2b8AHr6BAHMxcgDkayoA26R6BlyZVgC9eDEAi7tlAMWKtQFbKDwAYB8QAOsH8xHImjQANgWOAQ==",
             "dtype": "i4"
            },
            "sizemode": "area",
            "sizeref": 435928.2961983471,
            "symbol": "circle"
           },
           "mode": "markers",
           "name": "Americas",
           "orientation": "v",
           "showlegend": true,
           "type": "scatter",
           "x": {
            "bdata": "ICQLmLD1yECcwd8vRtytQGkAb4HmtMFAB7Ezhee74UCGONbF0bnJQPruVpaUXrtAqU2c3IfWwkCBs5QsDXrBQB5Av+9fibdA5fbLJ0PZukCuvOR/WmC2QLQh/8wMQrRAECIZcozGkkAInKVkqbirQOu12VjhmLxAQQ5KmMlkx0BSRIZVpHqlQHui68KXKMNA4KKTpdZMsECIf9jS5/C8QKJ6a2At4NJAdF5jlyCW0UDr/xzm9PjkQDCeQUO7ucRAW5TZIOdLxkA=",
            "dtype": "f8"
           },
           "xaxis": "x",
           "y": {
            "bdata": "FK5H4XrUUkD6fmq8dGNQQClcj8L1GFJAbxKDwMopVEAIrBxaZKNTQDeJQWDlOFJANV66SQyyU0C28/3UeJFTQNejcD0KD1JAVg4tsp2/UkDVeOkmMfhRQH9qvHSTkFFAaJHtfD91TkDqJjEIrIxRQD81XrpJJFJAFK5H4XoMU0Coxks3iTlSQOx8PzVe4lJA46WbxCDwUUBt5/up8dpRQDu0yHa+r1NAI9v5fmp0UUBzaJHtfI9TQH9qvHSTGFNAK4cW2c5vUkA=",
            "dtype": "f8"
           },
           "yaxis": "y"
          },
          {
           "hovertemplate": "<b>%{hovertext}</b><br><br>continent=Oceania<br>year=2007<br>gdpPercap=%{x}<br>lifeExp=%{y}<br>pop=%{marker.size}<extra></extra>",
           "hovertext": [
            "Australia",
            "New Zealand"
           ],
           "ids": [
            "Australia",
            "New Zealand"
           ],
           "legendgroup": "Oceania",
           "marker": {
            "color": "#FFA15A",
            "size": {
             "bdata": "AM03ATvNPgA=",
             "dtype": "i4"
            },
            "sizemode": "area",
            "sizeref": 435928.2961983471,
            "symbol": "circle"
           },
           "mode": "markers",
           "name": "Oceania",
           "orientation": "v",
           "showlegend": true,
           "type": "scatter",
           "x": {
            "bdata": "54cRwmvQ4EAEHEKVQJjYQA==",
            "dtype": "f8"
           },
           "xaxis": "x",
           "y": {
            "bdata": "16NwPQpPVECTGARWDg1UQA==",
            "dtype": "f8"
           },
           "yaxis": "y"
          }
         ],
         "name": "2007"
        }
       ],
       "layout": {
        "legend": {
         "itemsizing": "constant",
         "title": {
          "text": "continent"
         },
         "tracegroupgap": 0
        },
        "margin": {
         "t": 60
        },
        "sliders": [
         {
          "active": 0,
          "currentvalue": {
           "prefix": "year="
          },
          "len": 0.9,
          "pad": {
           "b": 10,
           "t": 60
          },
          "steps": [
           {
            "args": [
             [
              "1952"
             ],
             {
              "frame": {
               "duration": 0,
               "redraw": false
              },
              "fromcurrent": true,
              "mode": "immediate",
              "transition": {
               "duration": 0,
               "easing": "linear"
              }
             }
            ],
            "label": "1952",
            "method": "animate"
           },
           {
            "args": [
             [
              "1957"
             ],
             {
              "frame": {
               "duration": 0,
               "redraw": false
              },
              "fromcurrent": true,
              "mode": "immediate",
              "transition": {
               "duration": 0,
               "easing": "linear"
              }
             }
            ],
            "label": "1957",
            "method": "animate"
           },
           {
            "args": [
             [
              "1962"
             ],
             {
              "frame": {
               "duration": 0,
               "redraw": false
              },
              "fromcurrent": true,
              "mode": "immediate",
              "transition": {
               "duration": 0,
               "easing": "linear"
              }
             }
            ],
            "label": "1962",
            "method": "animate"
           },
           {
            "args": [
             [
              "1967"
             ],
             {
              "frame": {
               "duration": 0,
               "redraw": false
              },
              "fromcurrent": true,
              "mode": "immediate",
              "transition": {
               "duration": 0,
               "easing": "linear"
              }
             }
            ],
            "label": "1967",
            "method": "animate"
           },
           {
            "args": [
             [
              "1972"
             ],
             {
              "frame": {
               "duration": 0,
               "redraw": false
              },
              "fromcurrent": true,
              "mode": "immediate",
              "transition": {
               "duration": 0,
               "easing": "linear"
              }
             }
            ],
            "label": "1972",
            "method": "animate"
           },
           {
            "args": [
             [
              "1977"
             ],
             {
              "frame": {
               "duration": 0,
               "redraw": false
              },
              "fromcurrent": true,
              "mode": "immediate",
              "transition": {
               "duration": 0,
               "easing": "linear"
              }
             }
            ],
            "label": "1977",
            "method": "animate"
           },
           {
            "args": [
             [
              "1982"
             ],
             {
              "frame": {
               "duration": 0,
               "redraw": false
              },
              "fromcurrent": true,
              "mode": "immediate",
              "transition": {
               "duration": 0,
               "easing": "linear"
              }
             }
            ],
            "label": "1982",
            "method": "animate"
           },
           {
            "args": [
             [
              "1987"
             ],
             {
              "frame": {
               "duration": 0,
               "redraw": false
              },
              "fromcurrent": true,
              "mode": "immediate",
              "transition": {
               "duration": 0,
               "easing": "linear"
              }
             }
            ],
            "label": "1987",
            "method": "animate"
           },
           {
            "args": [
             [
              "1992"
             ],
             {
              "frame": {
               "duration": 0,
               "redraw": false
              },
              "fromcurrent": true,
              "mode": "immediate",
              "transition": {
               "duration": 0,
               "easing": "linear"
              }
             }
            ],
            "label": "1992",
            "method": "animate"
           },
           {
            "args": [
             [
              "1997"
             ],
             {
              "frame": {
               "duration": 0,
               "redraw": false
              },
              "fromcurrent": true,
              "mode": "immediate",
              "transition": {
               "duration": 0,
               "easing": "linear"
              }
             }
            ],
            "label": "1997",
            "method": "animate"
           },
           {
            "args": [
             [
              "2002"
             ],
             {
              "frame": {
               "duration": 0,
               "redraw": false
              },
              "fromcurrent": true,
              "mode": "immediate",
              "transition": {
               "duration": 0,
               "easing": "linear"
              }
             }
            ],
            "label": "2002",
            "method": "animate"
           },
           {
            "args": [
             [
              "2007"
             ],
             {
              "frame": {
               "duration": 0,
               "redraw": false
              },
              "fromcurrent": true,
              "mode": "immediate",
              "transition": {
               "duration": 0,
               "easing": "linear"
              }
             }
            ],
            "label": "2007",
            "method": "animate"
           }
          ],
          "x": 0.1,
          "xanchor": "left",
          "y": 0,
          "yanchor": "top"
         }
        ],
        "template": {
         "data": {
          "bar": [
           {
            "error_x": {
             "color": "#2a3f5f"
            },
            "error_y": {
             "color": "#2a3f5f"
            },
            "marker": {
             "line": {
              "color": "#E5ECF6",
              "width": 0.5
             },
             "pattern": {
              "fillmode": "overlay",
              "size": 10,
              "solidity": 0.2
             }
            },
            "type": "bar"
           }
          ],
          "barpolar": [
           {
            "marker": {
             "line": {
              "color": "#E5ECF6",
              "width": 0.5
             },
             "pattern": {
              "fillmode": "overlay",
              "size": 10,
              "solidity": 0.2
             }
            },
            "type": "barpolar"
           }
          ],
          "carpet": [
           {
            "aaxis": {
             "endlinecolor": "#2a3f5f",
             "gridcolor": "white",
             "linecolor": "white",
             "minorgridcolor": "white",
             "startlinecolor": "#2a3f5f"
            },
            "baxis": {
             "endlinecolor": "#2a3f5f",
             "gridcolor": "white",
             "linecolor": "white",
             "minorgridcolor": "white",
             "startlinecolor": "#2a3f5f"
            },
            "type": "carpet"
           }
          ],
          "choropleth": [
           {
            "colorbar": {
             "outlinewidth": 0,
             "ticks": ""
            },
            "type": "choropleth"
           }
          ],
          "contour": [
           {
            "colorbar": {
             "outlinewidth": 0,
             "ticks": ""
            },
            "colorscale": [
             [
              0,
              "#0d0887"
             ],
             [
              0.1111111111111111,
              "#46039f"
             ],
             [
              0.2222222222222222,
              "#7201a8"
             ],
             [
              0.3333333333333333,
              "#9c179e"
             ],
             [
              0.4444444444444444,
              "#bd3786"
             ],
             [
              0.5555555555555556,
              "#d8576b"
             ],
             [
              0.6666666666666666,
              "#ed7953"
             ],
             [
              0.7777777777777778,
              "#fb9f3a"
             ],
             [
              0.8888888888888888,
              "#fdca26"
             ],
             [
              1,
              "#f0f921"
             ]
            ],
            "type": "contour"
           }
          ],
          "contourcarpet": [
           {
            "colorbar": {
             "outlinewidth": 0,
             "ticks": ""
            },
            "type": "contourcarpet"
           }
          ],
          "heatmap": [
           {
            "colorbar": {
             "outlinewidth": 0,
             "ticks": ""
            },
            "colorscale": [
             [
              0,
              "#0d0887"
             ],
             [
              0.1111111111111111,
              "#46039f"
             ],
             [
              0.2222222222222222,
              "#7201a8"
             ],
             [
              0.3333333333333333,
              "#9c179e"
             ],
             [
              0.4444444444444444,
              "#bd3786"
             ],
             [
              0.5555555555555556,
              "#d8576b"
             ],
             [
              0.6666666666666666,
              "#ed7953"
             ],
             [
              0.7777777777777778,
              "#fb9f3a"
             ],
             [
              0.8888888888888888,
              "#fdca26"
             ],
             [
              1,
              "#f0f921"
             ]
            ],
            "type": "heatmap"
           }
          ],
          "histogram": [
           {
            "marker": {
             "pattern": {
              "fillmode": "overlay",
              "size": 10,
              "solidity": 0.2
             }
            },
            "type": "histogram"
           }
          ],
          "histogram2d": [
           {
            "colorbar": {
             "outlinewidth": 0,
             "ticks": ""
            },
            "colorscale": [
             [
              0,
              "#0d0887"
             ],
             [
              0.1111111111111111,
              "#46039f"
             ],
             [
              0.2222222222222222,
              "#7201a8"
             ],
             [
              0.3333333333333333,
              "#9c179e"
             ],
             [
              0.4444444444444444,
              "#bd3786"
             ],
             [
              0.5555555555555556,
              "#d8576b"
             ],
             [
              0.6666666666666666,
              "#ed7953"
             ],
             [
              0.7777777777777778,
              "#fb9f3a"
             ],
             [
              0.8888888888888888,
              "#fdca26"
             ],
             [
              1,
              "#f0f921"
             ]
            ],
            "type": "histogram2d"
           }
          ],
          "histogram2dcontour": [
           {
            "colorbar": {
             "outlinewidth": 0,
             "ticks": ""
            },
            "colorscale": [
             [
              0,
              "#0d0887"
             ],
             [
              0.1111111111111111,
              "#46039f"
             ],
             [
              0.2222222222222222,
              "#7201a8"
             ],
             [
              0.3333333333333333,
              "#9c179e"
             ],
             [
              0.4444444444444444,
              "#bd3786"
             ],
             [
              0.5555555555555556,
              "#d8576b"
             ],
             [
              0.6666666666666666,
              "#ed7953"
             ],
             [
              0.7777777777777778,
              "#fb9f3a"
             ],
             [
              0.8888888888888888,
              "#fdca26"
             ],
             [
              1,
              "#f0f921"
             ]
            ],
            "type": "histogram2dcontour"
           }
          ],
          "mesh3d": [
           {
            "colorbar": {
             "outlinewidth": 0,
             "ticks": ""
            },
            "type": "mesh3d"
           }
          ],
          "parcoords": [
           {
            "line": {
             "colorbar": {
              "outlinewidth": 0,
              "ticks": ""
             }
            },
            "type": "parcoords"
           }
          ],
          "pie": [
           {
            "automargin": true,
            "type": "pie"
           }
          ],
          "scatter": [
           {
            "fillpattern": {
             "fillmode": "overlay",
             "size": 10,
             "solidity": 0.2
            },
            "type": "scatter"
           }
          ],
          "scatter3d": [
           {
            "line": {
             "colorbar": {
              "outlinewidth": 0,
              "ticks": ""
             }
            },
            "marker": {
             "colorbar": {
              "outlinewidth": 0,
              "ticks": ""
             }
            },
            "type": "scatter3d"
           }
          ],
          "scattercarpet": [
           {
            "marker": {
             "colorbar": {
              "outlinewidth": 0,
              "ticks": ""
             }
            },
            "type": "scattercarpet"
           }
          ],
          "scattergeo": [
           {
            "marker": {
             "colorbar": {
              "outlinewidth": 0,
              "ticks": ""
             }
            },
            "type": "scattergeo"
           }
          ],
          "scattergl": [
           {
            "marker": {
             "colorbar": {
              "outlinewidth": 0,
              "ticks": ""
             }
            },
            "type": "scattergl"
           }
          ],
          "scattermap": [
           {
            "marker": {
             "colorbar": {
              "outlinewidth": 0,
              "ticks": ""
             }
            },
            "type": "scattermap"
           }
          ],
          "scattermapbox": [
           {
            "marker": {
             "colorbar": {
              "outlinewidth": 0,
              "ticks": ""
             }
            },
            "type": "scattermapbox"
           }
          ],
          "scatterpolar": [
           {
            "marker": {
             "colorbar": {
              "outlinewidth": 0,
              "ticks": ""
             }
            },
            "type": "scatterpolar"
           }
          ],
          "scatterpolargl": [
           {
            "marker": {
             "colorbar": {
              "outlinewidth": 0,
              "ticks": ""
             }
            },
            "type": "scatterpolargl"
           }
          ],
          "scatterternary": [
           {
            "marker": {
             "colorbar": {
              "outlinewidth": 0,
              "ticks": ""
             }
            },
            "type": "scatterternary"
           }
          ],
          "surface": [
           {
            "colorbar": {
             "outlinewidth": 0,
             "ticks": ""
            },
            "colorscale": [
             [
              0,
              "#0d0887"
             ],
             [
              0.1111111111111111,
              "#46039f"
             ],
             [
              0.2222222222222222,
              "#7201a8"
             ],
             [
              0.3333333333333333,
              "#9c179e"
             ],
             [
              0.4444444444444444,
              "#bd3786"
             ],
             [
              0.5555555555555556,
              "#d8576b"
             ],
             [
              0.6666666666666666,
              "#ed7953"
             ],
             [
              0.7777777777777778,
              "#fb9f3a"
             ],
             [
              0.8888888888888888,
              "#fdca26"
             ],
             [
              1,
              "#f0f921"
             ]
            ],
            "type": "surface"
           }
          ],
          "table": [
           {
            "cells": {
             "fill": {
              "color": "#EBF0F8"
             },
             "line": {
              "color": "white"
             }
            },
            "header": {
             "fill": {
              "color": "#C8D4E3"
             },
             "line": {
              "color": "white"
             }
            },
            "type": "table"
           }
          ]
         },
         "layout": {
          "annotationdefaults": {
           "arrowcolor": "#2a3f5f",
           "arrowhead": 0,
           "arrowwidth": 1
          },
          "autotypenumbers": "strict",
          "coloraxis": {
           "colorbar": {
            "outlinewidth": 0,
            "ticks": ""
           }
          },
          "colorscale": {
           "diverging": [
            [
             0,
             "#8e0152"
            ],
            [
             0.1,
             "#c51b7d"
            ],
            [
             0.2,
             "#de77ae"
            ],
            [
             0.3,
             "#f1b6da"
            ],
            [
             0.4,
             "#fde0ef"
            ],
            [
             0.5,
             "#f7f7f7"
            ],
            [
             0.6,
             "#e6f5d0"
            ],
            [
             0.7,
             "#b8e186"
            ],
            [
             0.8,
             "#7fbc41"
            ],
            [
             0.9,
             "#4d9221"
            ],
            [
             1,
             "#276419"
            ]
           ],
           "sequential": [
            [
             0,
             "#0d0887"
            ],
            [
             0.1111111111111111,
             "#46039f"
            ],
            [
             0.2222222222222222,
             "#7201a8"
            ],
            [
             0.3333333333333333,
             "#9c179e"
            ],
            [
             0.4444444444444444,
             "#bd3786"
            ],
            [
             0.5555555555555556,
             "#d8576b"
            ],
            [
             0.6666666666666666,
             "#ed7953"
            ],
            [
             0.7777777777777778,
             "#fb9f3a"
            ],
            [
             0.8888888888888888,
             "#fdca26"
            ],
            [
             1,
             "#f0f921"
            ]
           ],
           "sequentialminus": [
            [
             0,
             "#0d0887"
            ],
            [
             0.1111111111111111,
             "#46039f"
            ],
            [
             0.2222222222222222,
             "#7201a8"
            ],
            [
             0.3333333333333333,
             "#9c179e"
            ],
            [
             0.4444444444444444,
             "#bd3786"
            ],
            [
             0.5555555555555556,
             "#d8576b"
            ],
            [
             0.6666666666666666,
             "#ed7953"
            ],
            [
             0.7777777777777778,
             "#fb9f3a"
            ],
            [
             0.8888888888888888,
             "#fdca26"
            ],
            [
             1,
             "#f0f921"
            ]
           ]
          },
          "colorway": [
           "#636efa",
           "#EF553B",
           "#00cc96",
           "#ab63fa",
           "#FFA15A",
           "#19d3f3",
           "#FF6692",
           "#B6E880",
           "#FF97FF",
           "#FECB52"
          ],
          "font": {
           "color": "#2a3f5f"
          },
          "geo": {
           "bgcolor": "white",
           "lakecolor": "white",
           "landcolor": "#E5ECF6",
           "showlakes": true,
           "showland": true,
           "subunitcolor": "white"
          },
          "hoverlabel": {
           "align": "left"
          },
          "hovermode": "closest",
          "mapbox": {
           "style": "light"
          },
          "paper_bgcolor": "white",
          "plot_bgcolor": "#E5ECF6",
          "polar": {
           "angularaxis": {
            "gridcolor": "white",
            "linecolor": "white",
            "ticks": ""
           },
           "bgcolor": "#E5ECF6",
           "radialaxis": {
            "gridcolor": "white",
            "linecolor": "white",
            "ticks": ""
           }
          },
          "scene": {
           "xaxis": {
            "backgroundcolor": "#E5ECF6",
            "gridcolor": "white",
            "gridwidth": 2,
            "linecolor": "white",
            "showbackground": true,
            "ticks": "",
            "zerolinecolor": "white"
           },
           "yaxis": {
            "backgroundcolor": "#E5ECF6",
            "gridcolor": "white",
            "gridwidth": 2,
            "linecolor": "white",
            "showbackground": true,
            "ticks": "",
            "zerolinecolor": "white"
           },
           "zaxis": {
            "backgroundcolor": "#E5ECF6",
            "gridcolor": "white",
            "gridwidth": 2,
            "linecolor": "white",
            "showbackground": true,
            "ticks": "",
            "zerolinecolor": "white"
           }
          },
          "shapedefaults": {
           "line": {
            "color": "#2a3f5f"
           }
          },
          "ternary": {
           "aaxis": {
            "gridcolor": "white",
            "linecolor": "white",
            "ticks": ""
           },
           "baxis": {
            "gridcolor": "white",
            "linecolor": "white",
            "ticks": ""
           },
           "bgcolor": "#E5ECF6",
           "caxis": {
            "gridcolor": "white",
            "linecolor": "white",
            "ticks": ""
           }
          },
          "title": {
           "x": 0.05
          },
          "xaxis": {
           "automargin": true,
           "gridcolor": "white",
           "linecolor": "white",
           "ticks": "",
           "title": {
            "standoff": 15
           },
           "zerolinecolor": "white",
           "zerolinewidth": 2
          },
          "yaxis": {
           "automargin": true,
           "gridcolor": "white",
           "linecolor": "white",
           "ticks": "",
           "title": {
            "standoff": 15
           },
           "zerolinecolor": "white",
           "zerolinewidth": 2
          }
         }
        },
        "updatemenus": [
         {
          "buttons": [
           {
            "args": [
             null,
             {
              "frame": {
               "duration": 500,
               "redraw": false
              },
              "fromcurrent": true,
              "mode": "immediate",
              "transition": {
               "duration": 500,
               "easing": "linear"
              }
             }
            ],
            "label": "&#9654;",
            "method": "animate"
           },
           {
            "args": [
             [
              null
             ],
             {
              "frame": {
               "duration": 0,
               "redraw": false
              },
              "fromcurrent": true,
              "mode": "immediate",
              "transition": {
               "duration": 0,
               "easing": "linear"
              }
             }
            ],
            "label": "&#9724;",
            "method": "animate"
           }
          ],
          "direction": "left",
          "pad": {
           "r": 10,
           "t": 70
          },
          "showactive": false,
          "type": "buttons",
          "x": 0.1,
          "xanchor": "right",
          "y": 0,
          "yanchor": "top"
         }
        ],
        "xaxis": {
         "anchor": "y",
         "domain": [
          0,
          1
         ],
         "range": [
          2,
          5
         ],
         "title": {
          "text": "gdpPercap"
         },
         "type": "log"
        },
        "yaxis": {
         "anchor": "x",
         "domain": [
          0,
          1
         ],
         "range": [
          25,
          90
         ],
         "title": {
          "text": "lifeExp"
         }
        }
       }
      }
     },
     "metadata": {},
     "output_type": "display_data"
    }
   ],
   "source": [
    "px.scatter(df,\n",
    "           x='gdpPercap',y='lifeExp',\n",
    "           size='pop',color='continent',\n",
    "           animation_frame='year',\n",
    "           animation_group='country',\n",
    "           hover_name='country',\n",
    "           log_x=True,size_max=55,\n",
    "           range_x=[100,100000],range_y=[25,90])"
   ]
  },
  {
   "cell_type": "markdown",
   "id": "d6fd0873",
   "metadata": {},
   "source": [
    "# Geo Maps "
   ]
  },
  {
   "cell_type": "code",
   "execution_count": 67,
   "id": "58c32a28",
   "metadata": {},
   "outputs": [
    {
     "name": "stdout",
     "output_type": "stream",
     "text": [
      "102-Cap-Saint-Jacques\n",
      "{'district': '11-Sault-au-Récollet'}\n"
     ]
    },
    {
     "name": "stderr",
     "output_type": "stream",
     "text": [
      "C:\\Users\\HP\\AppData\\Local\\Temp\\ipykernel_15180\\3242951645.py:9: DeprecationWarning:\n",
      "\n",
      "*choropleth_mapbox* is deprecated! Use *choropleth_map* instead. Learn more at: https://plotly.com/python/mapbox-to-maplibre/\n",
      "\n"
     ]
    },
    {
     "data": {
      "application/vnd.plotly.v1+json": {
       "config": {
        "plotlyServerURL": "https://plot.ly"
       },
       "data": [
        {
         "coloraxis": "coloraxis",
         "featureidkey": "properties.district",
         "geojson": {
          "features": [
           {
            "geometry": {
             "coordinates": [
              [
               [
                [
                 -73.6363215300962,
                 45.5759177646435
                ],
                [
                 -73.6362833815582,
                 45.5758266113331
                ],
                [
                 -73.6446417578686,
                 45.5658132919643
                ],
                [
                 -73.6453511352974,
                 45.5647725775888
                ],
                [
                 -73.648867564748,
                 45.5586898267402
                ],
                [
                 -73.6513170845065,
                 45.5545659435652
                ],
                [
                 -73.6515658357324,
                 45.5554439857955
                ],
                [
                 -73.6660837831645,
                 45.5596724837829
                ],
                [
                 -73.6706609041685,
                 45.5610978251999
                ],
                [
                 -73.6676019919116,
                 45.5632340862888
                ],
                [
                 -73.6645385824068,
                 45.5642716484367
                ],
                [
                 -73.663663123697,
                 45.5654269638586
                ],
                [
                 -73.663336397858,
                 45.5666288247853
                ],
                [
                 -73.6637764768649,
                 45.5678900619231
                ],
                [
                 -73.6625073244826,
                 45.5688479494114
                ],
                [
                 -73.6624620526633,
                 45.5708304456346
                ],
                [
                 -73.6620201425015,
                 45.5713925326191
                ],
                [
                 -73.6616100197742,
                 45.5737924780218
                ],
                [
                 -73.6612199500215,
                 45.5747171555678
                ],
                [
                 -73.6625087613399,
                 45.5748980132699
                ],
                [
                 -73.6639172423219,
                 45.5730041908097
                ],
                [
                 -73.6654358660443,
                 45.5729040009532
                ],
                [
                 -73.6661069174428,
                 45.5737928224235
                ],
                [
                 -73.6657870687343,
                 45.574385118162
                ],
                [
                 -73.6636711124334,
                 45.577018676761
                ],
                [
                 -73.6620928771361,
                 45.578161887933
                ],
                [
                 -73.6611738698168,
                 45.5798517041392
                ],
                [
                 -73.660404649744,
                 45.5806752214364
                ],
                [
                 -73.659760079306,
                 45.5804007503503
                ],
                [
                 -73.6604711314507,
                 45.5793767269523
                ],
                [
                 -73.660479658497,
                 45.5787710701802
                ],
                [
                 -73.6613549575147,
                 45.5780184952852
                ],
                [
                 -73.6617871566128,
                 45.5758213640561
                ],
                [
                 -73.6607445476436,
                 45.5764832852254
                ],
                [
                 -73.6608243059909,
                 45.5774702934068
                ],
                [
                 -73.6592236423267,
                 45.5793785624903
                ],
                [
                 -73.6570262958283,
                 45.5810509513563
                ],
                [
                 -73.6552694168748,
                 45.5819333817794
                ],
                [
                 -73.6543058972308,
                 45.5836262624158
                ],
                [
                 -73.652557313063,
                 45.5826892716542
                ],
                [
                 -73.6363215300962,
                 45.5759177646435
                ]
               ]
              ],
              [
               [
                [
                 -73.6561004885273,
                 45.5841347974261
                ],
                [
                 -73.656376117147,
                 45.5845383929424
                ],
                [
                 -73.6559939844354,
                 45.585868003125
                ],
                [
                 -73.6552168328229,
                 45.5855392416017
                ],
                [
                 -73.6561004885273,
                 45.5841347974261
                ]
               ]
              ]
             ],
             "type": "MultiPolygon"
            },
            "id": "11",
            "properties": {
             "district": "11-Sault-au-Récollet"
            },
            "type": "Feature"
           },
           {
            "geometry": {
             "coordinates": [
              [
               [
                -73.6217484540132,
                45.5544783077209
               ],
               [
                -73.6235005117779,
                45.5536358848324
               ],
               [
                -73.6278096771011,
                45.5513024018691
               ],
               [
                -73.6301686544477,
                45.5503989164938
               ],
               [
                -73.6325600663803,
                45.5499795021129
               ],
               [
                -73.6342899238824,
                45.5494628161417
               ],
               [
                -73.6363671046978,
                45.548169415833
               ],
               [
                -73.6398673671325,
                45.5441488267699
               ],
               [
                -73.6407295659042,
                45.5429686686779
               ],
               [
                -73.6485543103777,
                45.5308320827376
               ],
               [
                -73.6510270564502,
                45.5263874543882
               ],
               [
                -73.6555330494037,
                45.5277342274232
               ],
               [
                -73.6698852350516,
                45.5318835785726
               ],
               [
                -73.6726124365382,
                45.5322997327559
               ],
               [
                -73.6747555535799,
                45.5323081056009
               ],
               [
                -73.6764129283619,
                45.5321264506516
               ],
               [
                -73.683124268159,
                45.5305991300384
               ],
               [
                -73.6807721370907,
                45.534331320177
               ],
               [
                -73.6785046215606,
                45.5379069417581
               ],
               [
                -73.6752852955733,
                45.5369404343695
               ],
               [
                -73.6740837310465,
                45.5378868187786
               ],
               [
                -73.6687347480061,
                45.5363337408676
               ],
               [
                -73.667891862525,
                45.5387409623539
               ],
               [
                -73.664945183105,
                45.5382590909533
               ],
               [
                -73.6646235398403,
                45.5394847807605
               ],
               [
                -73.662249203322,
                45.543633408253
               ],
               [
                -73.6616100449503,
                45.5441416421638
               ],
               [
                -73.6604302515405,
                45.5460790656787
               ],
               [
                -73.6568659704249,
                45.5450525873044
               ],
               [
                -73.6513170845065,
                45.5545659435652
               ],
               [
                -73.648867564748,
                45.5586898267402
               ],
               [
                -73.6453511352974,
                45.5647725775888
               ],
               [
                -73.6240413737876,
                45.5555253903511
               ],
               [
                -73.6217484540132,
                45.5544783077209
               ]
              ]
             ],
             "type": "Polygon"
            },
            "id": "12",
            "properties": {
             "district": "12-Saint-Sulpice"
            },
            "type": "Feature"
           },
           {
            "geometry": {
             "coordinates": [
              [
               [
                -73.6513170845065,
                45.5545659435652
               ],
               [
                -73.6568659704249,
                45.5450525873044
               ],
               [
                -73.6604302515405,
                45.5460790656787
               ],
               [
                -73.6616100449503,
                45.5441416421638
               ],
               [
                -73.662249203322,
                45.543633408253
               ],
               [
                -73.6646235398403,
                45.5394847807605
               ],
               [
                -73.664945183105,
                45.5382590909533
               ],
               [
                -73.667891862525,
                45.5387409623539
               ],
               [
                -73.6687347480061,
                45.5363337408676
               ],
               [
                -73.6740837310465,
                45.5378868187786
               ],
               [
                -73.6752852955733,
                45.5369404343695
               ],
               [
                -73.6785046215606,
                45.5379069417581
               ],
               [
                -73.6807721370907,
                45.534331320177
               ],
               [
                -73.6920199187781,
                45.5394683031028
               ],
               [
                -73.702520410412,
                45.5431766227664
               ],
               [
                -73.7042065154565,
                45.5438906316964
               ],
               [
                -73.7043014929187,
                45.5441905861876
               ],
               [
                -73.7027027602765,
                45.5451406840713
               ],
               [
                -73.7023335988111,
                45.5457621950639
               ],
               [
                -73.7012226911876,
                45.5459702396396
               ],
               [
                -73.7004635154173,
                45.5466167282154
               ],
               [
                -73.6996123824321,
                45.5464852570484
               ],
               [
                -73.6992033294858,
                45.5475781625301
               ],
               [
                -73.6968595536907,
                45.5481581755357
               ],
               [
                -73.6949311086011,
                45.5474604427764
               ],
               [
                -73.6924688517172,
                45.5472280284581
               ],
               [
                -73.6891281157722,
                45.5477334249253
               ],
               [
                -73.6879273316976,
                45.5481318231022
               ],
               [
                -73.6865595013798,
                45.5491308196528
               ],
               [
                -73.6852748086046,
                45.5488162600605
               ],
               [
                -73.6827845213391,
                45.5489146412483
               ],
               [
                -73.6801283681886,
                45.549462773374
               ],
               [
                -73.6791182211476,
                45.5500801562043
               ],
               [
                -73.6772981030339,
                45.5516675115113
               ],
               [
                -73.6765545558035,
                45.552766523393
               ],
               [
                -73.6744642269172,
                45.5548591969672
               ],
               [
                -73.6730096784532,
                45.5582339830541
               ],
               [
                -73.6706609041685,
                45.5610978251999
               ],
               [
                -73.6660837831645,
                45.5596724837829
               ],
               [
                -73.6515658357324,
                45.5554439857955
               ],
               [
                -73.6513170845065,
                45.5545659435652
               ]
              ]
             ],
             "type": "Polygon"
            },
            "id": "13",
            "properties": {
             "district": "13-Ahuntsic"
            },
            "type": "Feature"
           },
           {
            "geometry": {
             "coordinates": [
              [
               [
                -73.7043014929187,
                45.5441905861876
               ],
               [
                -73.7042065154565,
                45.5438906316964
               ],
               [
                -73.702520410412,
                45.5431766227664
               ],
               [
                -73.6920199187781,
                45.5394683031028
               ],
               [
                -73.6807721370907,
                45.534331320177
               ],
               [
                -73.683124268159,
                45.5305991300384
               ],
               [
                -73.685195685208,
                45.5301022578388
               ],
               [
                -73.6870922504792,
                45.5286619976995
               ],
               [
                -73.6897803429098,
                45.5288476157777
               ],
               [
                -73.6939612003867,
                45.528347826243
               ],
               [
                -73.6963296087078,
                45.5276805484038
               ],
               [
                -73.7091218538247,
                45.5230954877394
               ],
               [
                -73.7112612170074,
                45.5243023856458
               ],
               [
                -73.7131122096208,
                45.5251637887575
               ],
               [
                -73.7145584630039,
                45.5239315629596
               ],
               [
                -73.7172924358234,
                45.5256928911099
               ],
               [
                -73.7185119695016,
                45.5247508136954
               ],
               [
                -73.7217031155859,
                45.5267447688191
               ],
               [
                -73.7280602953464,
                45.5213554616816
               ],
               [
                -73.7317546325275,
                45.5236815365784
               ],
               [
                -73.7358987648866,
                45.5207291683311
               ],
               [
                -73.7285097856203,
                45.5160943522463
               ],
               [
                -73.7350991221023,
                45.5137867482303
               ],
               [
                -73.7550630650544,
                45.5065238038199
               ],
               [
                -73.7551669017747,
                45.5064862077527
               ],
               [
                -73.7612752776246,
                45.5104175090183
               ],
               [
                -73.7638683329059,
                45.5120860463668
               ],
               [
                -73.762390301954,
                45.5126791739444
               ],
               [
                -73.7600609683013,
                45.5141288858482
               ],
               [
                -73.7568442082942,
                45.5171884494623
               ],
               [
                -73.7548593171474,
                45.5180889539846
               ],
               [
                -73.752606980088,
                45.5185523798859
               ],
               [
                -73.749151955166,
                45.519018390863
               ],
               [
                -73.7452110015187,
                45.5215286261207
               ],
               [
                -73.7437662661847,
                45.5231373686573
               ],
               [
                -73.7411211602605,
                45.526837900694
               ],
               [
                -73.7394306858002,
                45.5285277381045
               ],
               [
                -73.7360589393138,
                45.5302671129156
               ],
               [
                -73.7343347000828,
                45.5309824138834
               ],
               [
                -73.7311072638005,
                45.5320095049916
               ],
               [
                -73.7283844986554,
                45.533203827821
               ],
               [
                -73.7249729419404,
                45.5359178137401
               ],
               [
                -73.7231098233772,
                45.5369689627545
               ],
               [
                -73.7202103870331,
                45.5381794076214
               ],
               [
                -73.7181375140605,
                45.5387109207903
               ],
               [
                -73.7158043157039,
                45.5388996570908
               ],
               [
                -73.7135388429561,
                45.5396848689224
               ],
               [
                -73.7111454931799,
                45.541340948266
               ],
               [
                -73.7091038651233,
                45.5430898357363
               ],
               [
                -73.7078456046825,
                45.5423008892929
               ],
               [
                -73.7069875096913,
                45.5436077713277
               ],
               [
                -73.705614345008,
                45.5441267025504
               ],
               [
                -73.7043014929187,
                45.5441905861876
               ]
              ]
             ],
             "type": "Polygon"
            },
            "id": "14",
            "properties": {
             "district": "14-Bordeaux-Cartierville"
            },
            "type": "Feature"
           },
           {
            "geometry": {
             "coordinates": [
              [
               [
                -73.5576871015794,
                45.5932166140624
               ],
               [
                -73.5694206600629,
                45.5971486400825
               ],
               [
                -73.5696609688417,
                45.5965806032278
               ],
               [
                -73.5726733802096,
                45.5977479911912
               ],
               [
                -73.5745938220503,
                45.5986717630315
               ],
               [
                -73.576232424293,
                45.5992577290381
               ],
               [
                -73.5771288919308,
                45.599852413767
               ],
               [
                -73.5889961999073,
                45.6050220349527
               ],
               [
                -73.5971103983983,
                45.6085989887758
               ],
               [
                -73.6013378366857,
                45.6104025414741
               ],
               [
                -73.6028907661658,
                45.6112216102358
               ],
               [
                -73.601559767966,
                45.6118073578371
               ],
               [
                -73.6023660828945,
                45.6125718329314
               ],
               [
                -73.5984976040034,
                45.6140840514745
               ],
               [
                -73.5954830428467,
                45.6158123480652
               ],
               [
                -73.5740068269183,
                45.6304929149516
               ],
               [
                -73.5683379250343,
                45.6341956640577
               ],
               [
                -73.5514095863784,
                45.6269444197056
               ],
               [
                -73.5481773494253,
                45.6255197854529
               ],
               [
                -73.5585223912755,
                45.6137280036474
               ],
               [
                -73.5640615699407,
                45.6074316710882
               ],
               [
                -73.564986439275,
                45.60561620283
               ],
               [
                -73.5662995431109,
                45.6039974029119
               ],
               [
                -73.5631517029922,
                45.6031634368599
               ],
               [
                -73.5614050931716,
                45.6025489377902
               ],
               [
                -73.5567925816714,
                45.6005393547562
               ],
               [
                -73.5589887922886,
                45.5979945383903
               ],
               [
                -73.5595164040348,
                45.5961661000645
               ],
               [
                -73.5564557704867,
                45.5951543577536
               ],
               [
                -73.5576871015794,
                45.5932166140624
               ]
              ]
             ],
             "type": "Polygon"
            },
            "id": "21",
            "properties": {
             "district": "21-Ouest"
            },
            "type": "Feature"
           },
           {
            "geometry": {
             "coordinates": [
              [
               [
                -73.5452799498143,
                45.5959627917351
               ],
               [
                -73.5491007054645,
                45.5975302159963
               ],
               [
                -73.5479841638628,
                45.5989434662401
               ],
               [
                -73.5468145864499,
                45.6013644519429
               ],
               [
                -73.5461968110206,
                45.6046211322422
               ],
               [
                -73.549913736884,
                45.605150517886
               ],
               [
                -73.5533688744189,
                45.605412630486
               ],
               [
                -73.5524302953106,
                45.6080081462088
               ],
               [
                -73.5507759763854,
                45.6103339985918
               ],
               [
                -73.5585223912755,
                45.6137280036474
               ],
               [
                -73.5481773494253,
                45.6255197854529
               ],
               [
                -73.5358870172169,
                45.620207093019
               ],
               [
                -73.5374747721378,
                45.6166252950092
               ],
               [
                -73.5375256945614,
                45.6160673327401
               ],
               [
                -73.5381703589619,
                45.6139517855176
               ],
               [
                -73.5437218072693,
                45.6149096422408
               ],
               [
                -73.5452777806501,
                45.6141657083913
               ],
               [
                -73.5462767505068,
                45.6127238289344
               ],
               [
                -73.5444977198785,
                45.6121760838565
               ],
               [
                -73.5453373826653,
                45.6107633861198
               ],
               [
                -73.5441363974969,
                45.6102716461918
               ],
               [
                -73.5412098839782,
                45.6095033241271
               ],
               [
                -73.5416434070878,
                45.6081797015109
               ],
               [
                -73.540900931842,
                45.6078533012629
               ],
               [
                -73.5416213388458,
                45.606939681157
               ],
               [
                -73.5375401492111,
                45.6052359766051
               ],
               [
                -73.5365038947396,
                45.6026457300995
               ],
               [
                -73.5365958888719,
                45.602162446611
               ],
               [
                -73.5394321608651,
                45.6030910243993
               ],
               [
                -73.5421763850909,
                45.6042454438226
               ],
               [
                -73.5429289535666,
                45.6032316351511
               ],
               [
                -73.539729971205,
                45.6018186221009
               ],
               [
                -73.5407418924341,
                45.6006998521118
               ],
               [
                -73.5447576674512,
                45.6019410417126
               ],
               [
                -73.5451108447268,
                45.6000061818095
               ],
               [
                -73.5445859643042,
                45.5999308464328
               ],
               [
                -73.5442050076359,
                45.5981948225546
               ],
               [
                -73.5438572127564,
                45.5980784963673
               ],
               [
                -73.5452799498143,
                45.5959627917351
               ]
              ]
             ],
             "type": "Polygon"
            },
            "id": "22",
            "properties": {
             "district": "22-Est"
            },
            "type": "Feature"
           },
           {
            "geometry": {
             "coordinates": [
              [
               [
                -73.5576871015794,
                45.5932166140624
               ],
               [
                -73.5564557704867,
                45.5951543577536
               ],
               [
                -73.5595164040348,
                45.5961661000645
               ],
               [
                -73.5589887922886,
                45.5979945383903
               ],
               [
                -73.5567925816714,
                45.6005393547562
               ],
               [
                -73.5614050931716,
                45.6025489377902
               ],
               [
                -73.5631517029922,
                45.6031634368599
               ],
               [
                -73.5662995431109,
                45.6039974029119
               ],
               [
                -73.564986439275,
                45.60561620283
               ],
               [
                -73.5640615699407,
                45.6074316710882
               ],
               [
                -73.5585223912755,
                45.6137280036474
               ],
               [
                -73.5507759763854,
                45.6103339985918
               ],
               [
                -73.5524302953106,
                45.6080081462088
               ],
               [
                -73.5533688744189,
                45.605412630486
               ],
               [
                -73.549913736884,
                45.605150517886
               ],
               [
                -73.5461968110206,
                45.6046211322422
               ],
               [
                -73.5468145864499,
                45.6013644519429
               ],
               [
                -73.5479841638628,
                45.5989434662401
               ],
               [
                -73.5491007054645,
                45.5975302159963
               ],
               [
                -73.5452799498143,
                45.5959627917351
               ],
               [
                -73.5455045323429,
                45.5956272275911
               ],
               [
                -73.545930102715,
                45.5949937733284
               ],
               [
                -73.5473484500099,
                45.5955355370728
               ],
               [
                -73.5481396292151,
                45.5946360429193
               ],
               [
                -73.5465394629102,
                45.5940712033384
               ],
               [
                -73.5489394765731,
                45.5903029802044
               ],
               [
                -73.5576871015794,
                45.5932166140624
               ]
              ]
             ],
             "type": "Polygon"
            },
            "id": "23",
            "properties": {
             "district": "23-Centre"
            },
            "type": "Feature"
           },
           {
            "geometry": {
             "coordinates": [
              [
               [
                -73.6207592308166,
                45.5138993727882
               ],
               [
                -73.6236560898078,
                45.5106541632808
               ],
               [
                -73.624384898555,
                45.5091582170891
               ],
               [
                -73.6260875230251,
                45.507277208983
               ],
               [
                -73.6279506225702,
                45.5061120243158
               ],
               [
                -73.628749836468,
                45.5048079525531
               ],
               [
                -73.6304494685866,
                45.5028490467289
               ],
               [
                -73.6256440443835,
                45.500662130816
               ],
               [
                -73.6331323407225,
                45.49234917306
               ],
               [
                -73.6480439724158,
                45.4990451424615
               ],
               [
                -73.6458072174417,
                45.5016289991394
               ],
               [
                -73.6422399591459,
                45.5054987858353
               ],
               [
                -73.6423036889254,
                45.5062221151428
               ],
               [
                -73.6415508188144,
                45.5069829054595
               ],
               [
                -73.6416660769228,
                45.5076101030023
               ],
               [
                -73.6385805807369,
                45.5112159439382
               ],
               [
                -73.6365911851412,
                45.5146566965285
               ],
               [
                -73.6357295158589,
                45.5143963845137
               ],
               [
                -73.6346269691423,
                45.5156528191911
               ],
               [
                -73.6289040380069,
                45.5140823858644
               ],
               [
                -73.6267223236567,
                45.5165801475772
               ],
               [
                -73.6207592308166,
                45.5138993727882
               ]
              ]
             ],
             "type": "Polygon"
            },
            "id": "31",
            "properties": {
             "district": "31-Darlington"
            },
            "type": "Feature"
           },
           {
            "geometry": {
             "coordinates": [
              [
               [
                -73.5956108742759,
                45.504064067218
               ],
               [
                -73.5941401789655,
                45.5033436344744
               ],
               [
                -73.594737745289,
                45.5028667176493
               ],
               [
                -73.5977240363362,
                45.5016310280474
               ],
               [
                -73.5997960499359,
                45.5001439911523
               ],
               [
                -73.6009279740317,
                45.4988800346583
               ],
               [
                -73.6033750499038,
                45.4967309718248
               ],
               [
                -73.6044775189475,
                45.4952226776326
               ],
               [
                -73.6068399722065,
                45.4952769144878
               ],
               [
                -73.6083680626652,
                45.493592693099
               ],
               [
                -73.6093606035265,
                45.4939788081012
               ],
               [
                -73.6115925457235,
                45.4916920833656
               ],
               [
                -73.6147351668377,
                45.4930299583055
               ],
               [
                -73.6184160919695,
                45.4889467204633
               ],
               [
                -73.618423454854,
                45.4881800607925
               ],
               [
                -73.6153515138627,
                45.4867956883177
               ],
               [
                -73.6169038962737,
                45.4851011880198
               ],
               [
                -73.6331323407225,
                45.49234917306
               ],
               [
                -73.6256440443835,
                45.500662130816
               ],
               [
                -73.6304494685866,
                45.5028490467289
               ],
               [
                -73.628749836468,
                45.5048079525531
               ],
               [
                -73.6279506225702,
                45.5061120243158
               ],
               [
                -73.6260875230251,
                45.507277208983
               ],
               [
                -73.624384898555,
                45.5091582170891
               ],
               [
                -73.6236560898078,
                45.5106541632808
               ],
               [
                -73.6207592308166,
                45.5138993727882
               ],
               [
                -73.6176645335398,
                45.5125000231349
               ],
               [
                -73.617959519301,
                45.5121686212918
               ],
               [
                -73.61888001694,
                45.5111346532789
               ],
               [
                -73.6169256431203,
                45.5102737338336
               ],
               [
                -73.6178928803835,
                45.5091750557282
               ],
               [
                -73.6160933747766,
                45.5082725969653
               ],
               [
                -73.6189454361275,
                45.5051234940594
               ],
               [
                -73.6182356279483,
                45.504722156916
               ],
               [
                -73.6130513861854,
                45.5104478685544
               ],
               [
                -73.6063535452531,
                45.5074911306599
               ],
               [
                -73.6061344132343,
                45.5068772235294
               ],
               [
                -73.6035337540631,
                45.5057001623398
               ],
               [
                -73.6024762927983,
                45.5068574351344
               ],
               [
                -73.5993805679324,
                45.5053898653966
               ],
               [
                -73.5987846893921,
                45.5056180649425
               ],
               [
                -73.5956108742759,
                45.504064067218
               ]
              ]
             ],
             "type": "Polygon"
            },
            "id": "32",
            "properties": {
             "district": "32-Côte-des-Neiges"
            },
            "type": "Feature"
           },
           {
            "geometry": {
             "coordinates": [
              [
               [
                -73.6458072174417,
                45.5016289991394
               ],
               [
                -73.6480439724158,
                45.4990451424615
               ],
               [
                -73.6331323407225,
                45.49234917306
               ],
               [
                -73.6169038962737,
                45.4851011880198
               ],
               [
                -73.6171481421592,
                45.4848346166979
               ],
               [
                -73.6143642141962,
                45.4835868912093
               ],
               [
                -73.6159143530659,
                45.4828328944331
               ],
               [
                -73.6178740199084,
                45.4828487105026
               ],
               [
                -73.6188871149392,
                45.4826094451865
               ],
               [
                -73.6212759199926,
                45.4802684345737
               ],
               [
                -73.6225662166532,
                45.4809098124242
               ],
               [
                -73.6236079242847,
                45.479859834089
               ],
               [
                -73.6247644644914,
                45.4792722536745
               ],
               [
                -73.6274376104247,
                45.4787022686984
               ],
               [
                -73.6296262215988,
                45.478422071886
               ],
               [
                -73.6309839979771,
                45.4790336481084
               ],
               [
                -73.6303804074798,
                45.4796761714723
               ],
               [
                -73.6511475576679,
                45.4890232837666
               ],
               [
                -73.6486185977978,
                45.4918874029923
               ],
               [
                -73.6505027283703,
                45.4926843456098
               ],
               [
                -73.6558244313911,
                45.4867907549359
               ],
               [
                -73.6554964724779,
                45.4865593791057
               ],
               [
                -73.6559518311015,
                45.4851214751334
               ],
               [
                -73.6560231568666,
                45.4789400952457
               ],
               [
                -73.6611067166692,
                45.4811529055447
               ],
               [
                -73.6618618884249,
                45.4803203895973
               ],
               [
                -73.6695855765435,
                45.483802365291
               ],
               [
                -73.6746342471328,
                45.4819683440264
               ],
               [
                -73.6763145414839,
                45.4831298265322
               ],
               [
                -73.6776271543493,
                45.4823345919293
               ],
               [
                -73.677264286648,
                45.4836591822082
               ],
               [
                -73.6751680903633,
                45.4912833590877
               ],
               [
                -73.6678730495106,
                45.4869534898132
               ],
               [
                -73.6660964808822,
                45.4866186123515
               ],
               [
                -73.665349200462,
                45.4870183659149
               ],
               [
                -73.6562276688947,
                45.49432722353
               ],
               [
                -73.6637510731136,
                45.4992450684359
               ],
               [
                -73.6617471598017,
                45.4992191258018
               ],
               [
                -73.6623623016746,
                45.5022066512214
               ],
               [
                -73.6605369493135,
                45.5024306141327
               ],
               [
                -73.6600841825714,
                45.50331916613
               ],
               [
                -73.659999506549,
                45.5047080114556
               ],
               [
                -73.6566453499119,
                45.5037588241059
               ],
               [
                -73.6516126661051,
                45.504311872331
               ],
               [
                -73.6458072174417,
                45.5016289991394
               ]
              ]
             ],
             "type": "Polygon"
            },
            "id": "33",
            "properties": {
             "district": "33-Snowdon"
            },
            "type": "Feature"
           },
           {
            "geometry": {
             "coordinates": [
              [
               [
                -73.6143642141962,
                45.4835868912093
               ],
               [
                -73.6123997707291,
                45.4826898974257
               ],
               [
                -73.6143764334436,
                45.4805885224868
               ],
               [
                -73.6054346259738,
                45.4765925587108
               ],
               [
                -73.605024536716,
                45.4770080719998
               ],
               [
                -73.5985471562789,
                45.4740708829885
               ],
               [
                -73.5951347718664,
                45.4764466331536
               ],
               [
                -73.5966486659517,
                45.4732210790839
               ],
               [
                -73.5995923966142,
                45.4714885118876
               ],
               [
                -73.6015380888098,
                45.4698449656495
               ],
               [
                -73.6025897276388,
                45.4690525247808
               ],
               [
                -73.6031619796725,
                45.4691032161751
               ],
               [
                -73.6056266168094,
                45.4676031109374
               ],
               [
                -73.6058459619009,
                45.4672881102352
               ],
               [
                -73.6116004847967,
                45.4647691120724
               ],
               [
                -73.6121904900053,
                45.4648542087469
               ],
               [
                -73.6157015928197,
                45.4632907897894
               ],
               [
                -73.6167538282606,
                45.4637150194085
               ],
               [
                -73.6260868871444,
                45.4678594502274
               ],
               [
                -73.626514031426,
                45.4682540051731
               ],
               [
                -73.6317531402478,
                45.4705324186308
               ],
               [
                -73.6328791824832,
                45.4692477650227
               ],
               [
                -73.6375349663401,
                45.4712784001916
               ],
               [
                -73.636638362928,
                45.4717833758261
               ],
               [
                -73.6429334550997,
                45.4745543212637
               ],
               [
                -73.6397624769414,
                45.4766952953752
               ],
               [
                -73.6393702983563,
                45.4768105158646
               ],
               [
                -73.6354876412699,
                45.4768957315274
               ],
               [
                -73.6324931664858,
                45.477871983287
               ],
               [
                -73.6296262215988,
                45.478422071886
               ],
               [
                -73.6274376104247,
                45.4787022686984
               ],
               [
                -73.6247644644914,
                45.4792722536745
               ],
               [
                -73.6236079242847,
                45.479859834089
               ],
               [
                -73.6225662166532,
                45.4809098124242
               ],
               [
                -73.6212759199926,
                45.4802684345737
               ],
               [
                -73.6188871149392,
                45.4826094451865
               ],
               [
                -73.6178740199084,
                45.4828487105026
               ],
               [
                -73.6159143530659,
                45.4828328944331
               ],
               [
                -73.6143642141962,
                45.4835868912093
               ]
              ]
             ],
             "type": "Polygon"
            },
            "id": "34",
            "properties": {
             "district": "34-Notre-Dame-de-Grâce"
            },
            "type": "Feature"
           },
           {
            "geometry": {
             "coordinates": [
              [
               [
                -73.6157015928197,
                45.4632907897894
               ],
               [
                -73.6182352042185,
                45.4622268121902
               ],
               [
                -73.6200562870233,
                45.4616683026575
               ],
               [
                -73.6243236842049,
                45.4586553508057
               ],
               [
                -73.6262003043123,
                45.4574918787775
               ],
               [
                -73.6314544395632,
                45.4527593013115
               ],
               [
                -73.6350181512615,
                45.4509158064615
               ],
               [
                -73.6351722497066,
                45.4507225431116
               ],
               [
                -73.6579831562151,
                45.4595353374805
               ],
               [
                -73.6571683135528,
                45.4601081011059
               ],
               [
                -73.6581848068946,
                45.4614565130998
               ],
               [
                -73.6556103303451,
                45.4629114310011
               ],
               [
                -73.652126146378,
                45.4676895103383
               ],
               [
                -73.650271326417,
                45.4688055451965
               ],
               [
                -73.6491060800072,
                45.4705082201931
               ],
               [
                -73.6456903840605,
                45.4732294857318
               ],
               [
                -73.6429334550997,
                45.4745543212637
               ],
               [
                -73.636638362928,
                45.4717833758261
               ],
               [
                -73.6375349663401,
                45.4712784001916
               ],
               [
                -73.6328791824832,
                45.4692477650227
               ],
               [
                -73.6317531402478,
                45.4705324186308
               ],
               [
                -73.626514031426,
                45.4682540051731
               ],
               [
                -73.6260868871444,
                45.4678594502274
               ],
               [
                -73.6167538282606,
                45.4637150194085
               ],
               [
                -73.6157015928197,
                45.4632907897894
               ]
              ]
             ],
             "type": "Polygon"
            },
            "id": "35",
            "properties": {
             "district": "35-Loyola"
            },
            "type": "Feature"
           },
           {
            "geometry": {
             "coordinates": [
              [
               [
                -73.6827804258142,
                45.4635658825978
               ],
               [
                -73.680902143784,
                45.4623754221733
               ],
               [
                -73.6819797751037,
                45.4611465117243
               ],
               [
                -73.6828103840958,
                45.4609562889736
               ],
               [
                -73.6837901612144,
                45.4594789107516
               ],
               [
                -73.6850645006026,
                45.4581450364168
               ],
               [
                -73.6872613190858,
                45.45743059602
               ],
               [
                -73.6874478222607,
                45.4558195821286
               ],
               [
                -73.6872205285223,
                45.4552707229765
               ],
               [
                -73.6763900162006,
                45.4523637929963
               ],
               [
                -73.67377108286,
                45.4530336717393
               ],
               [
                -73.6720573706002,
                45.4528472783153
               ],
               [
                -73.6708095323057,
                45.454567942777
               ],
               [
                -73.6685657847746,
                45.4567309452231
               ],
               [
                -73.6569820780073,
                45.4523202088578
               ],
               [
                -73.6448369147901,
                45.4475941198865
               ],
               [
                -73.6433550395347,
                45.4477889354918
               ],
               [
                -73.6432919538684,
                45.4483609262331
               ],
               [
                -73.6389029083366,
                45.4466926413334
               ],
               [
                -73.6367835977829,
                45.447838031415
               ],
               [
                -73.6320301276656,
                45.4495010416609
               ],
               [
                -73.6290926270452,
                45.4483946176344
               ],
               [
                -73.6320762130349,
                45.4466558317026
               ],
               [
                -73.6351699979365,
                45.445393422083
               ],
               [
                -73.6392793914912,
                45.4438396460105
               ],
               [
                -73.6470945537851,
                45.4407073290916
               ],
               [
                -73.648051977364,
                45.4402561224796
               ],
               [
                -73.6537698617598,
                45.4370900482024
               ],
               [
                -73.6593235959903,
                45.4348597630844
               ],
               [
                -73.6621186235209,
                45.433443013701
               ],
               [
                -73.6659361085031,
                45.4320787105657
               ],
               [
                -73.665989308902,
                45.4284342302665
               ],
               [
                -73.6689564175307,
                45.4291767414944
               ],
               [
                -73.6731193300976,
                45.4280636694712
               ],
               [
                -73.6759423999609,
                45.4276813808521
               ],
               [
                -73.6833563260685,
                45.4282185950861
               ],
               [
                -73.6865003978824,
                45.4283124979178
               ],
               [
                -73.6878687931234,
                45.4286162358336
               ],
               [
                -73.6882161207604,
                45.4292815314123
               ],
               [
                -73.6856210014114,
                45.4290337944536
               ],
               [
                -73.6824907873074,
                45.4293268197374
               ],
               [
                -73.6802412950549,
                45.4292313975545
               ],
               [
                -73.675637946869,
                45.4284197115606
               ],
               [
                -73.6730699666729,
                45.4286396172162
               ],
               [
                -73.6691630663163,
                45.429896298712
               ],
               [
                -73.6694459537283,
                45.4304807516148
               ],
               [
                -73.6730208497195,
                45.4292965595349
               ],
               [
                -73.6750647146261,
                45.4289965544438
               ],
               [
                -73.6767010508474,
                45.4291739328909
               ],
               [
                -73.6788386194388,
                45.4302144484015
               ],
               [
                -73.6788136864397,
                45.4304304732339
               ],
               [
                -73.6733659453582,
                45.4293230346261
               ],
               [
                -73.6691401095123,
                45.4307511873639
               ],
               [
                -73.6696391042462,
                45.4309484342688
               ],
               [
                -73.6714905342855,
                45.4303967061942
               ],
               [
                -73.6716716548405,
                45.4310983881409
               ],
               [
                -73.6737798875814,
                45.4309332101671
               ],
               [
                -73.6775256263951,
                45.431305335836
               ],
               [
                -73.6792911320404,
                45.4318695414462
               ],
               [
                -73.6820917599341,
                45.4323959865103
               ],
               [
                -73.6847244511365,
                45.4323557615008
               ],
               [
                -73.6843819981847,
                45.4331481730083
               ],
               [
                -73.6862880355843,
                45.433675955614
               ],
               [
                -73.6893786382238,
                45.43297800821
               ],
               [
                -73.6919766084407,
                45.4328477403871
               ],
               [
                -73.6920222789549,
                45.4344181753399
               ],
               [
                -73.6924064617963,
                45.4372834135916
               ],
               [
                -73.6919192684033,
                45.4375875837079
               ],
               [
                -73.6922359492324,
                45.4397539275822
               ],
               [
                -73.6790976648257,
                45.4399597709378
               ],
               [
                -73.6718763889968,
                45.4401679518281
               ],
               [
                -73.6702870397047,
                45.440019142569
               ],
               [
                -73.6635037895282,
                45.4400929494508
               ],
               [
                -73.6629212228917,
                45.4401596573971
               ],
               [
                -73.6629008949467,
                45.4422188385912
               ],
               [
                -73.6635315763833,
                45.4422179374171
               ],
               [
                -73.6636442247504,
                45.4445171206371
               ],
               [
                -73.6650313754737,
                45.4449769741284
               ],
               [
                -73.6688238611265,
                45.4465533440431
               ],
               [
                -73.6703899048248,
                45.4470018886664
               ],
               [
                -73.6723760891366,
                45.4472832888363
               ],
               [
                -73.6862003751106,
                45.4475701793018
               ],
               [
                -73.6929749468618,
                45.4479566183894
               ],
               [
                -73.6931235366321,
                45.44814625489
               ],
               [
                -73.6960704968967,
                45.4482114291558
               ],
               [
                -73.6970275555854,
                45.4488217409105
               ],
               [
                -73.6970986158494,
                45.4534198522438
               ],
               [
                -73.6970604739367,
                45.4567907245283
               ],
               [
                -73.6967667127171,
                45.4587187165095
               ],
               [
                -73.6956922188653,
                45.4626538256577
               ],
               [
                -73.6956163827684,
                45.4640262681568
               ],
               [
                -73.69619836572,
                45.4654974169452
               ],
               [
                -73.6947785817616,
                45.4645178045181
               ],
               [
                -73.6933043566279,
                45.4703396575946
               ],
               [
                -73.6827804258142,
                45.4635658825978
               ]
              ]
             ],
             "type": "Polygon"
            },
            "id": "41",
            "properties": {
             "district": "41-du Canal"
            },
            "type": "Feature"
           },
           {
            "geometry": {
             "coordinates": [
              [
               [
                -73.6922359492324,
                45.4397539275822
               ],
               [
                -73.6930646838521,
                45.4455152024534
               ],
               [
                -73.6929749468618,
                45.4479566183894
               ],
               [
                -73.6862003751106,
                45.4475701793018
               ],
               [
                -73.6723760891366,
                45.4472832888363
               ],
               [
                -73.6703899048248,
                45.4470018886664
               ],
               [
                -73.6688238611265,
                45.4465533440431
               ],
               [
                -73.6650313754737,
                45.4449769741284
               ],
               [
                -73.6636442247504,
                45.4445171206371
               ],
               [
                -73.6635315763833,
                45.4422179374171
               ],
               [
                -73.6629008949467,
                45.4422188385912
               ],
               [
                -73.6629212228917,
                45.4401596573971
               ],
               [
                -73.6635037895282,
                45.4400929494508
               ],
               [
                -73.6702870397047,
                45.440019142569
               ],
               [
                -73.6718763889968,
                45.4401679518281
               ],
               [
                -73.6790976648257,
                45.4399597709378
               ],
               [
                -73.6922359492324,
                45.4397539275822
               ]
              ]
             ],
             "type": "Polygon"
            },
            "id": "42",
            "properties": {
             "district": "42-J.-Émery-Provost"
            },
            "type": "Feature"
           },
           {
            "geometry": {
             "coordinates": [
              [
               [
                -73.6929749468618,
                45.4479566183894
               ],
               [
                -73.6930646838521,
                45.4455152024534
               ],
               [
                -73.6922359492324,
                45.4397539275822
               ],
               [
                -73.6919192684033,
                45.4375875837079
               ],
               [
                -73.6924064617963,
                45.4372834135916
               ],
               [
                -73.6920222789549,
                45.4344181753399
               ],
               [
                -73.6919766084407,
                45.4328477403871
               ],
               [
                -73.6932876958108,
                45.4324224970616
               ],
               [
                -73.694195347338,
                45.4324839527568
               ],
               [
                -73.6949136010573,
                45.4332296803625
               ],
               [
                -73.6988288457718,
                45.4344466726102
               ],
               [
                -73.7010791173413,
                45.434694716853
               ],
               [
                -73.7030235835285,
                45.4351501569008
               ],
               [
                -73.7052464981121,
                45.4348762919984
               ],
               [
                -73.7084847193563,
                45.4361211648559
               ],
               [
                -73.7108619082078,
                45.4360808035114
               ],
               [
                -73.7131770697603,
                45.436535476583
               ],
               [
                -73.7141004237697,
                45.4373526055584
               ],
               [
                -73.7197027055463,
                45.4383497204873
               ],
               [
                -73.7205977591364,
                45.438420079974
               ],
               [
                -73.7206259030039,
                45.439094891288
               ],
               [
                -73.7192721714824,
                45.4393943883616
               ],
               [
                -73.7222362640027,
                45.4487922160595
               ],
               [
                -73.7206936272739,
                45.4487451257208
               ],
               [
                -73.722831053433,
                45.4557427179281
               ],
               [
                -73.7245717150603,
                45.4610335488204
               ],
               [
                -73.7198081628308,
                45.4644866016957
               ],
               [
                -73.7170519619499,
                45.4666015017259
               ],
               [
                -73.7125173690129,
                45.4699350201585
               ],
               [
                -73.7080097103994,
                45.47334246671
               ],
               [
                -73.7047665432935,
                45.4712980390786
               ],
               [
                -73.69619836572,
                45.4654974169452
               ],
               [
                -73.6956163827684,
                45.4640262681568
               ],
               [
                -73.6956922188653,
                45.4626538256577
               ],
               [
                -73.6967667127171,
                45.4587187165095
               ],
               [
                -73.6970604739367,
                45.4567907245283
               ],
               [
                -73.6970986158494,
                45.4534198522438
               ],
               [
                -73.6970275555854,
                45.4488217409105
               ],
               [
                -73.6960704968967,
                45.4482114291558
               ],
               [
                -73.6931235366321,
                45.44814625489
               ],
               [
                -73.6929749468618,
                45.4479566183894
               ]
              ]
             ],
             "type": "Polygon"
            },
            "id": "43",
            "properties": {
             "district": "43-Fort-Rolland"
            },
            "type": "Feature"
           },
           {
            "geometry": {
             "coordinates": [
              [
               [
                [
                 -73.5878943026224,
                 45.4214667320274
                ],
                [
                 -73.5863736733671,
                 45.4214319841574
                ],
                [
                 -73.5869474028608,
                 45.4206395990966
                ],
                [
                 -73.5878943026224,
                 45.4214667320274
                ]
               ]
              ],
              [
               [
                [
                 -73.5725281473542,
                 45.4260939579768
                ],
                [
                 -73.5704318906483,
                 45.4257263831213
                ],
                [
                 -73.5705580062435,
                 45.4244124795508
                ],
                [
                 -73.5739539624556,
                 45.4219626672329
                ],
                [
                 -73.5766876209735,
                 45.4212859978906
                ],
                [
                 -73.5793575905544,
                 45.4208612013169
                ],
                [
                 -73.5824241611882,
                 45.4207510361274
                ],
                [
                 -73.5840593827098,
                 45.4204618626093
                ],
                [
                 -73.585056506724,
                 45.4207940136185
                ],
                [
                 -73.586554348269,
                 45.4226195923359
                ],
                [
                 -73.5860576024637,
                 45.4236638110559
                ],
                [
                 -73.584295514885,
                 45.4245289791408
                ],
                [
                 -73.5827488367791,
                 45.424251218775
                ],
                [
                 -73.5809343733788,
                 45.424360511388
                ],
                [
                 -73.5784175573386,
                 45.4248212373305
                ],
                [
                 -73.5770508918231,
                 45.425290048099
                ],
                [
                 -73.5731288926102,
                 45.4262015674713
                ],
                [
                 -73.5725281473542,
                 45.4260939579768
                ]
               ]
              ],
              [
               [
                [
                 -73.5765170514597,
                 45.4274230889043
                ],
                [
                 -73.5749707241727,
                 45.4273611190412
                ],
                [
                 -73.5723756663881,
                 45.4267869197677
                ],
                [
                 -73.5752500087582,
                 45.4259752044009
                ],
                [
                 -73.5797854469441,
                 45.4251621784139
                ],
                [
                 -73.5803981192377,
                 45.4246848695548
                ],
                [
                 -73.5816888803182,
                 45.4247468599426
                ],
                [
                 -73.5837470045383,
                 45.4252493371248
                ],
                [
                 -73.5811925680258,
                 45.4261690319939
                ],
                [
                 -73.5773858946539,
                 45.42731451108
                ],
                [
                 -73.5765170514597,
                 45.4274230889043
                ]
               ]
              ],
              [
               [
                [
                 -73.5993656298056,
                 45.437522488597
                ],
                [
                 -73.5837871545249,
                 45.4350036826887
                ],
                [
                 -73.5864937818087,
                 45.4330669729378
                ],
                [
                 -73.5889455796285,
                 45.4317602654679
                ],
                [
                 -73.5892899771004,
                 45.4312921174991
                ],
                [
                 -73.5917282376663,
                 45.4295893857394
                ],
                [
                 -73.5930673492969,
                 45.4278875931486
                ],
                [
                 -73.5941659028554,
                 45.4276167102135
                ],
                [
                 -73.5970103055467,
                 45.4244378040521
                ],
                [
                 -73.6024582557665,
                 45.4197537949939
                ],
                [
                 -73.6050240641787,
                 45.418374641288
                ],
                [
                 -73.6071441080738,
                 45.4178597046428
                ],
                [
                 -73.6089187571527,
                 45.4171291621745
                ],
                [
                 -73.6111012955212,
                 45.4159032271
                ],
                [
                 -73.6144997511617,
                 45.4158098763183
                ],
                [
                 -73.6157904203163,
                 45.4159075684946
                ],
                [
                 -73.6190093657475,
                 45.4154992857685
                ],
                [
                 -73.6211671693205,
                 45.4148130602082
                ],
                [
                 -73.6256397226365,
                 45.4151411168221
                ],
                [
                 -73.6290762426954,
                 45.4149482971955
                ],
                [
                 -73.6295864341622,
                 45.4145878316083
                ],
                [
                 -73.6326788478802,
                 45.4147641808428
                ],
                [
                 -73.6324382282295,
                 45.4157003113135
                ],
                [
                 -73.6338310649383,
                 45.4157616841636
                ],
                [
                 -73.6373466145775,
                 45.4154299316521
                ],
                [
                 -73.6378211847585,
                 45.4157853047214
                ],
                [
                 -73.6349821404871,
                 45.4216213986168
                ],
                [
                 -73.630914321986,
                 45.4207058504903
                ],
                [
                 -73.629580513036,
                 45.4205264796284
                ],
                [
                 -73.6269794842437,
                 45.4219064890514
                ],
                [
                 -73.6221765288238,
                 45.4233556809216
                ],
                [
                 -73.6235576102796,
                 45.4251452650735
                ],
                [
                 -73.625860660556,
                 45.4262630893683
                ],
                [
                 -73.6213932515199,
                 45.4290799524068
                ],
                [
                 -73.6189096270924,
                 45.431198716026
                ],
                [
                 -73.6153394945845,
                 45.4349173246406
                ],
                [
                 -73.6147722148194,
                 45.4363801178349
                ],
                [
                 -73.6185038157741,
                 45.4371719975162
                ],
                [
                 -73.6203669519898,
                 45.4381561591494
                ],
                [
                 -73.6292793360419,
                 45.4422437520764
                ],
                [
                 -73.6304212122284,
                 45.4412800353944
                ],
                [
                 -73.6319594346838,
                 45.4420660970196
                ],
                [
                 -73.6341339482992,
                 45.4434436213567
                ],
                [
                 -73.6334152486196,
                 45.4438343169323
                ],
                [
                 -73.6348120456809,
                 45.444546590121
                ],
                [
                 -73.6351699979365,
                 45.445393422083
                ],
                [
                 -73.6320762130349,
                 45.4466558317026
                ],
                [
                 -73.6290926270452,
                 45.4483946176344
                ],
                [
                 -73.6288149375869,
                 45.4482900651074
                ],
                [
                 -73.6269986444794,
                 45.4501430927141
                ],
                [
                 -73.6255515041789,
                 45.4513172221793
                ],
                [
                 -73.622324477466,
                 45.4535901866228
                ],
                [
                 -73.6201147014597,
                 45.4548257159799
                ],
                [
                 -73.6136079881888,
                 45.4576954341346
                ],
                [
                 -73.6068239912076,
                 45.4545470690524
                ],
                [
                 -73.6048092799479,
                 45.4489130784869
                ],
                [
                 -73.6052123848584,
                 45.4479821667775
                ],
                [
                 -73.6094089858961,
                 45.4442773154325
                ],
                [
                 -73.6104503124607,
                 45.4429793199455
                ],
                [
                 -73.6118008558715,
                 45.4394499728596
                ],
                [
                 -73.5996082895714,
                 45.4375187309259
                ],
                [
                 -73.5993656298056,
                 45.437522488597
                ]
               ]
              ]
             ],
             "type": "MultiPolygon"
            },
            "id": "51",
            "properties": {
             "district": "51-Sault-Saint-Louis"
            },
            "type": "Feature"
           },
           {
            "geometry": {
             "coordinates": [
              [
               [
                -73.6373466145775,
                45.4154299316521
               ],
               [
                -73.6398482479311,
                45.4154574940498
               ],
               [
                -73.6413054445293,
                45.4157165943723
               ],
               [
                -73.6441055865314,
                45.4165049565242
               ],
               [
                -73.6469598857207,
                45.418436018764
               ],
               [
                -73.6496982979192,
                45.4199531866296
               ],
               [
                -73.6528057037257,
                45.4208669233735
               ],
               [
                -73.6563386875677,
                45.4231117299686
               ],
               [
                -73.6574132128538,
                45.4235151379827
               ],
               [
                -73.6590899773487,
                45.4245026614551
               ],
               [
                -73.6597563681528,
                45.4251856881017
               ],
               [
                -73.6622132461692,
                45.4263249714976
               ],
               [
                -73.6626617007921,
                45.4267473070838
               ],
               [
                -73.6639788872218,
                45.4270423138518
               ],
               [
                -73.665989308902,
                45.4284342302665
               ],
               [
                -73.6659361085031,
                45.4320787105657
               ],
               [
                -73.6621186235209,
                45.433443013701
               ],
               [
                -73.6593235959903,
                45.4348597630844
               ],
               [
                -73.6537698617598,
                45.4370900482024
               ],
               [
                -73.648051977364,
                45.4402561224796
               ],
               [
                -73.6470945537851,
                45.4407073290916
               ],
               [
                -73.6392793914912,
                45.4438396460105
               ],
               [
                -73.6351699979365,
                45.445393422083
               ],
               [
                -73.6348120456809,
                45.444546590121
               ],
               [
                -73.6334152486196,
                45.4438343169323
               ],
               [
                -73.6341339482992,
                45.4434436213567
               ],
               [
                -73.6319594346838,
                45.4420660970196
               ],
               [
                -73.6304212122284,
                45.4412800353944
               ],
               [
                -73.6292793360419,
                45.4422437520764
               ],
               [
                -73.6203669519898,
                45.4381561591494
               ],
               [
                -73.6185038157741,
                45.4371719975162
               ],
               [
                -73.6147722148194,
                45.4363801178349
               ],
               [
                -73.6153394945845,
                45.4349173246406
               ],
               [
                -73.6189096270924,
                45.431198716026
               ],
               [
                -73.6213932515199,
                45.4290799524068
               ],
               [
                -73.625860660556,
                45.4262630893683
               ],
               [
                -73.6235576102796,
                45.4251452650735
               ],
               [
                -73.6221765288238,
                45.4233556809216
               ],
               [
                -73.6269794842437,
                45.4219064890514
               ],
               [
                -73.629580513036,
                45.4205264796284
               ],
               [
                -73.630914321986,
                45.4207058504903
               ],
               [
                -73.6349821404871,
                45.4216213986168
               ],
               [
                -73.6378211847585,
                45.4157853047214
               ],
               [
                -73.6373466145775,
                45.4154299316521
               ]
              ]
             ],
             "type": "Polygon"
            },
            "id": "52",
            "properties": {
             "district": "52-Cecil-P.-Newman"
            },
            "type": "Feature"
           },
           {
            "geometry": {
             "coordinates": [
              [
               [
                -73.8688974470136,
                45.4882449524107
               ],
               [
                -73.871602833053,
                45.4905720481716
               ],
               [
                -73.8694139090223,
                45.4919469541754
               ],
               [
                -73.870532930773,
                45.4928625205596
               ],
               [
                -73.8716913646707,
                45.4933306815312
               ],
               [
                -73.872233047857,
                45.4949468141821
               ],
               [
                -73.8714042058561,
                45.4965567000138
               ],
               [
                -73.872571305249,
                45.4969659674767
               ],
               [
                -73.871134091344,
                45.4990564163597
               ],
               [
                -73.8701130707197,
                45.5000549627491
               ],
               [
                -73.8690288298613,
                45.5007201896345
               ],
               [
                -73.8722903935919,
                45.503568954282
               ],
               [
                -73.8716174921312,
                45.5042888396132
               ],
               [
                -73.8756305607743,
                45.5078228770541
               ],
               [
                -73.8783878189261,
                45.5059406633388
               ],
               [
                -73.8803094438111,
                45.5042458334118
               ],
               [
                -73.8803341428118,
                45.5033993667444
               ],
               [
                -73.879759682167,
                45.5029518530572
               ],
               [
                -73.8770152857708,
                45.501806378212
               ],
               [
                -73.8789156358527,
                45.5017299402712
               ],
               [
                -73.879779371889,
                45.5004798588748
               ],
               [
                -73.8810568286333,
                45.4999384356033
               ],
               [
                -73.8830127770248,
                45.4996741535333
               ],
               [
                -73.884412047715,
                45.4990183531015
               ],
               [
                -73.8853262749786,
                45.4998100023704
               ],
               [
                -73.8840175555813,
                45.5020031308338
               ],
               [
                -73.8845885513537,
                45.503100834689
               ],
               [
                -73.8882584256138,
                45.5047130635017
               ],
               [
                -73.8902948397667,
                45.5048242389134
               ],
               [
                -73.8931298332185,
                45.5045492632818
               ],
               [
                -73.8938090092703,
                45.5051466368411
               ],
               [
                -73.8930883375795,
                45.5061095241892
               ],
               [
                -73.8912989165002,
                45.5060276552235
               ],
               [
                -73.8907763512179,
                45.5069642008183
               ],
               [
                -73.8894862335895,
                45.5075924382318
               ],
               [
                -73.8893630543063,
                45.5086347066791
               ],
               [
                -73.8880808924888,
                45.5083547817147
               ],
               [
                -73.8870687665439,
                45.5091995603904
               ],
               [
                -73.8852521620131,
                45.5102059725257
               ],
               [
                -73.8881290541888,
                45.5127359235277
               ],
               [
                -73.8890287067442,
                45.5122302528857
               ],
               [
                -73.8911436774502,
                45.5127840458479
               ],
               [
                -73.8937551506541,
                45.5125006850816
               ],
               [
                -73.8953141801776,
                45.5130744053201
               ],
               [
                -73.896331119406,
                45.5139759395892
               ],
               [
                -73.8972364759115,
                45.5131483697101
               ],
               [
                -73.8989649328704,
                45.5146837440746
               ],
               [
                -73.9002254469086,
                45.5131179581327
               ],
               [
                -73.9008379207362,
                45.5136630574361
               ],
               [
                -73.9005919569215,
                45.5144536068957
               ],
               [
                -73.9021261241608,
                45.5155955053506
               ],
               [
                -73.9009914493894,
                45.5161347116661
               ],
               [
                -73.9020712706953,
                45.5167877731109
               ],
               [
                -73.9020876361723,
                45.5172918560237
               ],
               [
                -73.8999623185899,
                45.5172091442281
               ],
               [
                -73.8983416967041,
                45.5160989860003
               ],
               [
                -73.8970501718221,
                45.5162744685233
               ],
               [
                -73.896506711813,
                45.5172571885447
               ],
               [
                -73.8931760247634,
                45.5179232635692
               ],
               [
                -73.8918830801879,
                45.5186858504077
               ],
               [
                -73.89060443538,
                45.5188882146005
               ],
               [
                -73.8899347125325,
                45.5182876407975
               ],
               [
                -73.8875283162043,
                45.5182958298662
               ],
               [
                -73.8871271342177,
                45.5195300009394
               ],
               [
                -73.8860195052025,
                45.5203975900766
               ],
               [
                -73.8849337116296,
                45.5207252282394
               ],
               [
                -73.8820294235971,
                45.5209418712909
               ],
               [
                -73.8801807487187,
                45.5201561927542
               ],
               [
                -73.8790398509879,
                45.5199080044884
               ],
               [
                -73.8757241818541,
                45.5198469639429
               ],
               [
                -73.8712540724591,
                45.51942970446
               ],
               [
                -73.8693729830596,
                45.5195167954401
               ],
               [
                -73.867959836772,
                45.5187475084215
               ],
               [
                -73.8660852612371,
                45.518916733747
               ],
               [
                -73.8650447273518,
                45.5192607308197
               ],
               [
                -73.8636752254303,
                45.5192742783684
               ],
               [
                -73.8642825006245,
                45.5181743422849
               ],
               [
                -73.8612862477059,
                45.5160062120045
               ],
               [
                -73.8573480782361,
                45.5146328898613
               ],
               [
                -73.8576368219668,
                45.5137501468995
               ],
               [
                -73.8563777974017,
                45.5129982318504
               ],
               [
                -73.8561039739004,
                45.5121981492155
               ],
               [
                -73.8550238065929,
                45.5113916654122
               ],
               [
                -73.8556577823538,
                45.5104448573143
               ],
               [
                -73.8585654378245,
                45.508816075481
               ],
               [
                -73.8591760216501,
                45.5082382022867
               ],
               [
                -73.8597941402612,
                45.5068235473577
               ],
               [
                -73.8595897032533,
                45.5048715239796
               ],
               [
                -73.8603509384135,
                45.5038432949756
               ],
               [
                -73.8628677193202,
                45.5031873776418
               ],
               [
                -73.8634772725348,
                45.5024655856932
               ],
               [
                -73.863229031203,
                45.4996768609889
               ],
               [
                -73.8624925888829,
                45.4985813745818
               ],
               [
                -73.8617450446894,
                45.4983353640287
               ],
               [
                -73.8610656712915,
                45.4975420638734
               ],
               [
                -73.8614902756333,
                45.4959120252572
               ],
               [
                -73.8631347750672,
                45.4949799702698
               ],
               [
                -73.8643010381037,
                45.4932934742402
               ],
               [
                -73.8637682240978,
                45.4920174491202
               ],
               [
                -73.8642488213344,
                45.4911520725992
               ],
               [
                -73.8664440380781,
                45.4903261139859
               ],
               [
                -73.8688974470136,
                45.4882449524107
               ]
              ]
             ],
             "type": "Polygon"
            },
            "id": "61",
            "properties": {
             "district": "61-Pierre-Foretier"
            },
            "type": "Feature"
           },
           {
            "geometry": {
             "coordinates": [
              [
               [
                -73.871602833053,
                45.4905720481716
               ],
               [
                -73.8758099807102,
                45.4943016403121
               ],
               [
                -73.8832708288195,
                45.4900124335721
               ],
               [
                -73.893915982267,
                45.4991295138785
               ],
               [
                -73.8978204833524,
                45.5021042916793
               ],
               [
                -73.8993079427873,
                45.5021890950386
               ],
               [
                -73.901198690394,
                45.5019296796061
               ],
               [
                -73.9032166411352,
                45.5013944047771
               ],
               [
                -73.9072471667436,
                45.4990521662397
               ],
               [
                -73.9097687478128,
                45.498420306124
               ],
               [
                -73.910763113645,
                45.4979785583287
               ],
               [
                -73.9131442528934,
                45.5001505549281
               ],
               [
                -73.9117306033429,
                45.5014828251295
               ],
               [
                -73.9105682077776,
                45.502919788446
               ],
               [
                -73.9125029822642,
                45.5046603019441
               ],
               [
                -73.9125904080641,
                45.5059790139203
               ],
               [
                -73.9115367282405,
                45.5071346344323
               ],
               [
                -73.9098260610793,
                45.5077167397986
               ],
               [
                -73.9095376253027,
                45.5082630419981
               ],
               [
                -73.9075790301516,
                45.5084626314966
               ],
               [
                -73.9064637954127,
                45.5082146250766
               ],
               [
                -73.9052902228377,
                45.5087497533613
               ],
               [
                -73.9048304811418,
                45.5093648655927
               ],
               [
                -73.9028980165401,
                45.5106748854948
               ],
               [
                -73.9025706032313,
                45.513213659007
               ],
               [
                -73.9021033388663,
                45.5139081604197
               ],
               [
                -73.9026005080814,
                45.5156160928628
               ],
               [
                -73.9021261241608,
                45.5155955053506
               ],
               [
                -73.9005919569215,
                45.5144536068957
               ],
               [
                -73.9008379207362,
                45.5136630574361
               ],
               [
                -73.9002254469086,
                45.5131179581327
               ],
               [
                -73.8989649328704,
                45.5146837440746
               ],
               [
                -73.8972364759115,
                45.5131483697101
               ],
               [
                -73.896331119406,
                45.5139759395892
               ],
               [
                -73.8953141801776,
                45.5130744053201
               ],
               [
                -73.8937551506541,
                45.5125006850816
               ],
               [
                -73.8911436774502,
                45.5127840458479
               ],
               [
                -73.8890287067442,
                45.5122302528857
               ],
               [
                -73.8881290541888,
                45.5127359235277
               ],
               [
                -73.8852521620131,
                45.5102059725257
               ],
               [
                -73.8870687665439,
                45.5091995603904
               ],
               [
                -73.8880808924888,
                45.5083547817147
               ],
               [
                -73.8893630543063,
                45.5086347066791
               ],
               [
                -73.8894862335895,
                45.5075924382318
               ],
               [
                -73.8907763512179,
                45.5069642008183
               ],
               [
                -73.8912989165002,
                45.5060276552235
               ],
               [
                -73.8930883375795,
                45.5061095241892
               ],
               [
                -73.8938090092703,
                45.5051466368411
               ],
               [
                -73.8931298332185,
                45.5045492632818
               ],
               [
                -73.8902948397667,
                45.5048242389134
               ],
               [
                -73.8882584256138,
                45.5047130635017
               ],
               [
                -73.8845885513537,
                45.503100834689
               ],
               [
                -73.8840175555813,
                45.5020031308338
               ],
               [
                -73.8853262749786,
                45.4998100023704
               ],
               [
                -73.884412047715,
                45.4990183531015
               ],
               [
                -73.8830127770248,
                45.4996741535333
               ],
               [
                -73.8810568286333,
                45.4999384356033
               ],
               [
                -73.879779371889,
                45.5004798588748
               ],
               [
                -73.8789156358527,
                45.5017299402712
               ],
               [
                -73.8770152857708,
                45.501806378212
               ],
               [
                -73.879759682167,
                45.5029518530572
               ],
               [
                -73.8803341428118,
                45.5033993667444
               ],
               [
                -73.8803094438111,
                45.5042458334118
               ],
               [
                -73.8783878189261,
                45.5059406633388
               ],
               [
                -73.8756305607743,
                45.5078228770541
               ],
               [
                -73.8716174921312,
                45.5042888396132
               ],
               [
                -73.8722903935919,
                45.503568954282
               ],
               [
                -73.8690288298613,
                45.5007201896345
               ],
               [
                -73.8701130707197,
                45.5000549627491
               ],
               [
                -73.871134091344,
                45.4990564163597
               ],
               [
                -73.872571305249,
                45.4969659674767
               ],
               [
                -73.8714042058561,
                45.4965567000138
               ],
               [
                -73.872233047857,
                45.4949468141821
               ],
               [
                -73.8716913646707,
                45.4933306815312
               ],
               [
                -73.870532930773,
                45.4928625205596
               ],
               [
                -73.8694139090223,
                45.4919469541754
               ],
               [
                -73.871602833053,
                45.4905720481716
               ]
              ]
             ],
             "type": "Polygon"
            },
            "id": "62",
            "properties": {
             "district": "62-Denis-Benjamin-Viger"
            },
            "type": "Feature"
           },
           {
            "geometry": {
             "coordinates": [
              [
               [
                [
                 -73.876179389015,
                 45.484463443982
                ],
                [
                 -73.8748623836763,
                 45.4845487678604
                ],
                [
                 -73.8746531555376,
                 45.4838655945021
                ],
                [
                 -73.8752754756586,
                 45.4831976914281
                ],
                [
                 -73.875332125701,
                 45.4820996763162
                ],
                [
                 -73.8773551113916,
                 45.4823719006883
                ],
                [
                 -73.8773585206136,
                 45.4838386904758
                ],
                [
                 -73.8770492982827,
                 45.4844695752153
                ],
                [
                 -73.876179389015,
                 45.484463443982
                ]
               ]
              ],
              [
               [
                [
                 -73.871602833053,
                 45.4905720481716
                ],
                [
                 -73.8688974470136,
                 45.4882449524107
                ],
                [
                 -73.8709851008353,
                 45.487059190004
                ],
                [
                 -73.8725145833884,
                 45.4854652904542
                ],
                [
                 -73.8761955543809,
                 45.4864641220707
                ],
                [
                 -73.8773897323982,
                 45.4856292741431
                ],
                [
                 -73.8778041545601,
                 45.4844850797772
                ],
                [
                 -73.8785921129696,
                 45.4837086183771
                ],
                [
                 -73.8781898959115,
                 45.4828731025615
                ],
                [
                 -73.8784365392884,
                 45.4814954771698
                ],
                [
                 -73.8796440398513,
                 45.4803396456993
                ],
                [
                 -73.8808564171004,
                 45.4799307290984
                ],
                [
                 -73.8818738698332,
                 45.4790634862107
                ],
                [
                 -73.8828567898793,
                 45.4787722169973
                ],
                [
                 -73.8847419788084,
                 45.4776140567433
                ],
                [
                 -73.8874400837697,
                 45.4756252617452
                ],
                [
                 -73.8890406450115,
                 45.4740361165489
                ],
                [
                 -73.8896093964888,
                 45.473044339843
                ],
                [
                 -73.8920158379205,
                 45.4714793088166
                ],
                [
                 -73.8939883829402,
                 45.4719134901468
                ],
                [
                 -73.8962921181107,
                 45.4721394139777
                ],
                [
                 -73.8981449394396,
                 45.4719079872095
                ],
                [
                 -73.8992850543273,
                 45.4721559893786
                ],
                [
                 -73.9014271769693,
                 45.4712486357827
                ],
                [
                 -73.9038056762196,
                 45.4712042547101
                ],
                [
                 -73.9051695937615,
                 45.4705605613393
                ],
                [
                 -73.9045774306121,
                 45.4700226989345
                ],
                [
                 -73.9028488295322,
                 45.4697318295333
                ],
                [
                 -73.9012801121118,
                 45.4703403082789
                ],
                [
                 -73.8996924472568,
                 45.4700938928558
                ],
                [
                 -73.8993825392247,
                 45.469663097207
                ],
                [
                 -73.8999775060713,
                 45.4688151666323
                ],
                [
                 -73.9017348723624,
                 45.4677561646305
                ],
                [
                 -73.9023924422294,
                 45.468509706018
                ],
                [
                 -73.9043441969034,
                 45.4696096448133
                ],
                [
                 -73.9084347070547,
                 45.4693341104744
                ],
                [
                 -73.9120964530199,
                 45.4682153872984
                ],
                [
                 -73.9126431874804,
                 45.4694449753644
                ],
                [
                 -73.9136278859403,
                 45.4694413239075
                ],
                [
                 -73.9154106009438,
                 45.4701278046013
                ],
                [
                 -73.9159006769417,
                 45.4706838913767
                ],
                [
                 -73.9168728992832,
                 45.4707163448971
                ],
                [
                 -73.9159791650457,
                 45.4726632836215
                ],
                [
                 -73.9164275963913,
                 45.4727606419858
                ],
                [
                 -73.9171840487468,
                 45.4712821683374
                ],
                [
                 -73.9179119052825,
                 45.4711355184565
                ],
                [
                 -73.9186742261816,
                 45.4721675623649
                ],
                [
                 -73.9196472003342,
                 45.4740176773167
                ],
                [
                 -73.9200930017441,
                 45.4737730563005
                ],
                [
                 -73.921822149022,
                 45.4741086594329
                ],
                [
                 -73.9226284972793,
                 45.4752714551831
                ],
                [
                 -73.924738453321,
                 45.4775172443067
                ],
                [
                 -73.9253150364798,
                 45.4776590879844
                ],
                [
                 -73.9266000233535,
                 45.476745452941
                ],
                [
                 -73.9277434225804,
                 45.477398128666
                ],
                [
                 -73.9295423138299,
                 45.4767974221727
                ],
                [
                 -73.9302919142255,
                 45.4778114366407
                ],
                [
                 -73.9314189351491,
                 45.4779961715469
                ],
                [
                 -73.9326541103686,
                 45.4772716425334
                ],
                [
                 -73.9335030743869,
                 45.4762245897937
                ],
                [
                 -73.9350412733002,
                 45.4766507100519
                ],
                [
                 -73.9370692452005,
                 45.4762391230436
                ],
                [
                 -73.9406266477915,
                 45.4761163385087
                ],
                [
                 -73.942911201225,
                 45.475477638423
                ],
                [
                 -73.9443213415212,
                 45.4758861323891
                ],
                [
                 -73.9441879968396,
                 45.4768134931837
                ],
                [
                 -73.9428248046939,
                 45.478697804247
                ],
                [
                 -73.9416119001885,
                 45.4794240216934
                ],
                [
                 -73.9405851561781,
                 45.4789960185208
                ],
                [
                 -73.9387460246999,
                 45.4793540720446
                ],
                [
                 -73.9383403023619,
                 45.4798235952081
                ],
                [
                 -73.9385185477879,
                 45.4813526185292
                ],
                [
                 -73.9403810268872,
                 45.4823442895009
                ],
                [
                 -73.9410419166311,
                 45.4834215699972
                ],
                [
                 -73.942256795601,
                 45.483380875313
                ],
                [
                 -73.9426871284147,
                 45.4827943413787
                ],
                [
                 -73.9436978356457,
                 45.482808418644
                ],
                [
                 -73.9433844250482,
                 45.4836104864635
                ],
                [
                 -73.9412104480622,
                 45.4837088979371
                ],
                [
                 -73.941186300091,
                 45.4855356756957
                ],
                [
                 -73.9409258043702,
                 45.4865805138247
                ],
                [
                 -73.940155183621,
                 45.4878253029672
                ],
                [
                 -73.9400375236355,
                 45.4891394779763
                ],
                [
                 -73.939084522942,
                 45.4899799926108
                ],
                [
                 -73.9355316222878,
                 45.4921352533586
                ],
                [
                 -73.9349775409211,
                 45.4932801876613
                ],
                [
                 -73.9328555975538,
                 45.4935401391563
                ],
                [
                 -73.9323151123675,
                 45.4931193083499
                ],
                [
                 -73.9298370141484,
                 45.4936595300698
                ],
                [
                 -73.9291104700923,
                 45.4940132354185
                ],
                [
                 -73.9270348943367,
                 45.4936430419454
                ],
                [
                 -73.925473026234,
                 45.4952145713303
                ],
                [
                 -73.9244092344479,
                 45.4966763272855
                ],
                [
                 -73.9244257212294,
                 45.4971711381462
                ],
                [
                 -73.9233876507023,
                 45.4982360094313
                ],
                [
                 -73.9226520258841,
                 45.4995263547275
                ],
                [
                 -73.9218373692027,
                 45.5000962326717
                ],
                [
                 -73.9209670436555,
                 45.5000814447197
                ],
                [
                 -73.918541557808,
                 45.5008552086516
                ],
                [
                 -73.9174837992266,
                 45.5014440345453
                ],
                [
                 -73.9145252844175,
                 45.5010948373465
                ],
                [
                 -73.9134946418312,
                 45.5018904208046
                ],
                [
                 -73.9127623770829,
                 45.5032518742003
                ],
                [
                 -73.9125029822642,
                 45.5046603019441
                ],
                [
                 -73.9105682077776,
                 45.502919788446
                ],
                [
                 -73.9117306033429,
                 45.5014828251295
                ],
                [
                 -73.9131442528934,
                 45.5001505549281
                ],
                [
                 -73.910763113645,
                 45.4979785583287
                ],
                [
                 -73.9097687478128,
                 45.498420306124
                ],
                [
                 -73.9072471667436,
                 45.4990521662397
                ],
                [
                 -73.9032166411352,
                 45.5013944047771
                ],
                [
                 -73.901198690394,
                 45.5019296796061
                ],
                [
                 -73.8993079427873,
                 45.5021890950386
                ],
                [
                 -73.8978204833524,
                 45.5021042916793
                ],
                [
                 -73.893915982267,
                 45.4991295138785
                ],
                [
                 -73.8832708288195,
                 45.4900124335721
                ],
                [
                 -73.8758099807102,
                 45.4943016403121
                ],
                [
                 -73.871602833053,
                 45.4905720481716
                ]
               ]
              ]
             ],
             "type": "MultiPolygon"
            },
            "id": "63",
            "properties": {
             "district": "63-Jacques-Bizard"
            },
            "type": "Feature"
           },
           {
            "geometry": {
             "coordinates": [
              [
               [
                [
                 -73.8795251463835,
                 45.4721694456373
                ],
                [
                 -73.8770259047514,
                 45.4733055656905
                ],
                [
                 -73.8771362722445,
                 45.474146820144
                ],
                [
                 -73.8758315302677,
                 45.4744852213893
                ],
                [
                 -73.8761694823241,
                 45.475285050858
                ],
                [
                 -73.8753710533004,
                 45.4763945070991
                ],
                [
                 -73.8754013038998,
                 45.4771052655959
                ],
                [
                 -73.8745581040502,
                 45.4791867014648
                ],
                [
                 -73.873401680597,
                 45.4803243146019
                ],
                [
                 -73.8714778204625,
                 45.4814913213621
                ],
                [
                 -73.8706822810873,
                 45.4830686993857
                ],
                [
                 -73.8688129680033,
                 45.4847754445001
                ],
                [
                 -73.8690502967072,
                 45.4858455083571
                ],
                [
                 -73.8658510539776,
                 45.4876644845598
                ],
                [
                 -73.8647484711707,
                 45.4872900384824
                ],
                [
                 -73.8624368975074,
                 45.4879093508046
                ],
                [
                 -73.8598077012489,
                 45.4888850004049
                ],
                [
                 -73.8587614558506,
                 45.4873090890375
                ],
                [
                 -73.8613316931676,
                 45.4851413285652
                ],
                [
                 -73.8624629228902,
                 45.4840039194648
                ],
                [
                 -73.8650419471552,
                 45.4821657726431
                ],
                [
                 -73.8728715855598,
                 45.4756017517064
                ],
                [
                 -73.871209821762,
                 45.4733162451191
                ],
                [
                 -73.8733213850942,
                 45.4725990666647
                ],
                [
                 -73.8782862116718,
                 45.4705088548296
                ],
                [
                 -73.8795251463835,
                 45.4721694456373
                ]
               ]
              ],
              [
               [
                [
                 -73.8598857733827,
                 45.4911029074784
                ],
                [
                 -73.8591675296752,
                 45.4908171897388
                ],
                [
                 -73.8600571674373,
                 45.4898965476815
                ],
                [
                 -73.8612991016732,
                 45.4900456152652
                ],
                [
                 -73.8605639387492,
                 45.4911097682054
                ],
                [
                 -73.8598857733827,
                 45.4911029074784
                ]
               ]
              ]
             ],
             "type": "MultiPolygon"
            },
            "id": "64",
            "properties": {
             "district": "64-Sainte-Geneviève"
            },
            "type": "Feature"
           },
           {
            "geometry": {
             "coordinates": [
              [
               [
                -73.505845657669,
                45.5915064148139
               ],
               [
                -73.5103359282538,
                45.5921124591547
               ],
               [
                -73.5206880075519,
                45.5952083313336
               ],
               [
                -73.5204207506441,
                45.5957326455424
               ],
               [
                -73.5227698757162,
                45.5964405193219
               ],
               [
                -73.5231408135446,
                45.5957591991736
               ],
               [
                -73.533521772969,
                45.5988762603839
               ],
               [
                -73.5369160899836,
                45.5931626565659
               ],
               [
                -73.5411715382662,
                45.5939767034301
               ],
               [
                -73.5423606148624,
                45.5943108573749
               ],
               [
                -73.5455045323429,
                45.5956272275911
               ],
               [
                -73.5452799498143,
                45.5959627917351
               ],
               [
                -73.5438572127564,
                45.5980784963673
               ],
               [
                -73.5442050076359,
                45.5981948225546
               ],
               [
                -73.5445859643042,
                45.5999308464328
               ],
               [
                -73.5451108447268,
                45.6000061818095
               ],
               [
                -73.5447576674512,
                45.6019410417126
               ],
               [
                -73.5407418924341,
                45.6006998521118
               ],
               [
                -73.539729971205,
                45.6018186221009
               ],
               [
                -73.5429289535666,
                45.6032316351511
               ],
               [
                -73.5421763850909,
                45.6042454438226
               ],
               [
                -73.5394321608651,
                45.6030910243993
               ],
               [
                -73.5365958888719,
                45.602162446611
               ],
               [
                -73.5365038947396,
                45.6026457300995
               ],
               [
                -73.5375401492111,
                45.6052359766051
               ],
               [
                -73.5416213388458,
                45.606939681157
               ],
               [
                -73.540900931842,
                45.6078533012629
               ],
               [
                -73.5416434070878,
                45.6081797015109
               ],
               [
                -73.5412098839782,
                45.6095033241271
               ],
               [
                -73.5441363974969,
                45.6102716461918
               ],
               [
                -73.5453373826653,
                45.6107633861198
               ],
               [
                -73.5444977198785,
                45.6121760838565
               ],
               [
                -73.5462767505068,
                45.6127238289344
               ],
               [
                -73.5452777806501,
                45.6141657083913
               ],
               [
                -73.5437218072693,
                45.6149096422408
               ],
               [
                -73.5381703589619,
                45.6139517855176
               ],
               [
                -73.5375256945614,
                45.6160673327401
               ],
               [
                -73.5252332402243,
                45.6137951013372
               ],
               [
                -73.5145702896503,
                45.6119902043961
               ],
               [
                -73.5073926872162,
                45.6107104987953
               ],
               [
                -73.507104042043,
                45.6103305736701
               ],
               [
                -73.5088445389914,
                45.6059056683277
               ],
               [
                -73.5094016237031,
                45.6029289790696
               ],
               [
                -73.5089844073373,
                45.5984312397903
               ],
               [
                -73.5085623510741,
                45.5964354408978
               ],
               [
                -73.5073994472774,
                45.5937585441643
               ],
               [
                -73.505845657669,
                45.5915064148139
               ]
              ]
             ],
             "type": "Polygon"
            },
            "id": "71",
            "properties": {
             "district": "71-Tétreaultville"
            },
            "type": "Feature"
           },
           {
            "geometry": {
             "coordinates": [
              [
               [
                -73.505845657669,
                45.5915064148139
               ],
               [
                -73.5052335547608,
                45.5914035841385
               ],
               [
                -73.5040074172822,
                45.5877509637108
               ],
               [
                -73.50548477383,
                45.5842108995057
               ],
               [
                -73.5046727489859,
                45.5839523001102
               ],
               [
                -73.5060139625714,
                45.5806625893987
               ],
               [
                -73.5058561540639,
                45.5806068926751
               ],
               [
                -73.5091666956111,
                45.5757730349861
               ],
               [
                -73.5141197194594,
                45.5708695926608
               ],
               [
                -73.5190039768335,
                45.5682773867463
               ],
               [
                -73.5197939453882,
                45.5669670591355
               ],
               [
                -73.5180270972663,
                45.5661485153046
               ],
               [
                -73.5253430489297,
                45.5574887203531
               ],
               [
                -73.5250635489053,
                45.5568993328574
               ],
               [
                -73.5236813870747,
                45.5568097261785
               ],
               [
                -73.521480081669,
                45.5591100901826
               ],
               [
                -73.5209547766993,
                45.5588573091504
               ],
               [
                -73.5218702090576,
                45.5578763137034
               ],
               [
                -73.5209413390244,
                45.5570999459563
               ],
               [
                -73.5191167026398,
                45.5588496230043
               ],
               [
                -73.518595216105,
                45.5586040300451
               ],
               [
                -73.522051635704,
                45.5552304196808
               ],
               [
                -73.5269225613603,
                45.549446926412
               ],
               [
                -73.5335765932332,
                45.5515757481653
               ],
               [
                -73.5389816134656,
                45.5533773670715
               ],
               [
                -73.5382239872366,
                45.5549283797349
               ],
               [
                -73.5486183023616,
                45.5582491708623
               ],
               [
                -73.5460296824187,
                45.562265422129
               ],
               [
                -73.5459659905086,
                45.5625254142127
               ],
               [
                -73.5456328946765,
                45.5629337545645
               ],
               [
                -73.5413632157982,
                45.5709610549351
               ],
               [
                -73.5386884000436,
                45.5749269433291
               ],
               [
                -73.5320531965098,
                45.5852349268307
               ],
               [
                -73.540035463506,
                45.5878529169711
               ],
               [
                -73.5369160899836,
                45.5931626565659
               ],
               [
                -73.533521772969,
                45.5988762603839
               ],
               [
                -73.5231408135446,
                45.5957591991736
               ],
               [
                -73.5227698757162,
                45.5964405193219
               ],
               [
                -73.5204207506441,
                45.5957326455424
               ],
               [
                -73.5206880075519,
                45.5952083313336
               ],
               [
                -73.5103359282538,
                45.5921124591547
               ],
               [
                -73.505845657669,
                45.5915064148139
               ]
              ]
             ],
             "type": "Polygon"
            },
            "id": "72",
            "properties": {
             "district": "72-MaisonneuveLongue-Pointe"
            },
            "type": "Feature"
           },
           {
            "geometry": {
             "coordinates": [
              [
               [
                -73.5269225613603,
                45.549446926412
               ],
               [
                -73.5289560474797,
                45.5470320263359
               ],
               [
                -73.5277739913219,
                45.547187016061
               ],
               [
                -73.5277290513663,
                45.5464490003045
               ],
               [
                -73.5313590128093,
                45.5457750092113
               ],
               [
                -73.5321039500724,
                45.5447229718789
               ],
               [
                -73.5291969726971,
                45.5451540050291
               ],
               [
                -73.5296700173696,
                45.5442239930694
               ],
               [
                -73.5329650126455,
                45.5436089818848
               ],
               [
                -73.5339429567644,
                45.5424780308809
               ],
               [
                -73.5315039994787,
                45.5426720333775
               ],
               [
                -73.5316359736222,
                45.5420080334177
               ],
               [
                -73.5344850464319,
                45.5413149877237
               ],
               [
                -73.5404589754615,
                45.5356759920904
               ],
               [
                -73.5417879567955,
                45.529933001055
               ],
               [
                -73.5428587889529,
                45.5304546205586
               ],
               [
                -73.5439636509721,
                45.5334697006227
               ],
               [
                -73.5473499781753,
                45.5376709059424
               ],
               [
                -73.5482541001656,
                45.5383569002539
               ],
               [
                -73.550216365092,
                45.5389758922042
               ],
               [
                -73.5592280432661,
                45.5399028690768
               ],
               [
                -73.5552605710227,
                45.5474166761255
               ],
               [
                -73.5545655421497,
                45.55467023726
               ],
               [
                -73.5542787320438,
                45.5568764086233
               ],
               [
                -73.5546496932451,
                45.5649641797921
               ],
               [
                -73.5544730757919,
                45.5652953442798
               ],
               [
                -73.5459659905086,
                45.5625254142127
               ],
               [
                -73.5460296824187,
                45.562265422129
               ],
               [
                -73.5486183023616,
                45.5582491708623
               ],
               [
                -73.5382239872366,
                45.5549283797349
               ],
               [
                -73.5389816134656,
                45.5533773670715
               ],
               [
                -73.5335765932332,
                45.5515757481653
               ],
               [
                -73.5269225613603,
                45.549446926412
               ]
              ]
             ],
             "type": "Polygon"
            },
            "id": "73",
            "properties": {
             "district": "73-Hochelaga"
            },
            "type": "Feature"
           },
           {
            "geometry": {
             "coordinates": [
              [
               [
                -73.5455045323429,
                45.5956272275911
               ],
               [
                -73.5423606148624,
                45.5943108573749
               ],
               [
                -73.5411715382662,
                45.5939767034301
               ],
               [
                -73.5369160899836,
                45.5931626565659
               ],
               [
                -73.540035463506,
                45.5878529169711
               ],
               [
                -73.5320531965098,
                45.5852349268307
               ],
               [
                -73.5386884000436,
                45.5749269433291
               ],
               [
                -73.5413632157982,
                45.5709610549351
               ],
               [
                -73.5456328946765,
                45.5629337545645
               ],
               [
                -73.5459659905086,
                45.5625254142127
               ],
               [
                -73.5544730757919,
                45.5652953442798
               ],
               [
                -73.5489772535198,
                45.5734435433853
               ],
               [
                -73.5557298683366,
                45.5757065336466
               ],
               [
                -73.5584435150771,
                45.578098690279
               ],
               [
                -73.5683754804235,
                45.5814045757918
               ],
               [
                -73.5648413846768,
                45.5830623920281
               ],
               [
                -73.566054883333,
                45.5843176844033
               ],
               [
                -73.563949176176,
                45.5849798671748
               ],
               [
                -73.5642198577817,
                45.5854079588427
               ],
               [
                -73.5642246834943,
                45.5872483268508
               ],
               [
                -73.5663609324088,
                45.5883396268265
               ],
               [
                -73.5686767639537,
                45.5922969983003
               ],
               [
                -73.5690474086577,
                45.5937353194892
               ],
               [
                -73.5687432258054,
                45.5949521683749
               ],
               [
                -73.5696609688417,
                45.5965806032278
               ],
               [
                -73.5694206600629,
                45.5971486400825
               ],
               [
                -73.5576871015794,
                45.5932166140624
               ],
               [
                -73.5489394765731,
                45.5903029802044
               ],
               [
                -73.5465394629102,
                45.5940712033384
               ],
               [
                -73.5481396292151,
                45.5946360429193
               ],
               [
                -73.5473484500099,
                45.5955355370728
               ],
               [
                -73.545930102715,
                45.5949937733284
               ],
               [
                -73.5455045323429,
                45.5956272275911
               ]
              ]
             ],
             "type": "Polygon"
            },
            "id": "74",
            "properties": {
             "district": "74-Louis-Riel"
            },
            "type": "Feature"
           },
           {
            "geometry": {
             "coordinates": [
              [
               [
                -73.6202427208594,
                45.5951205335532
               ],
               [
                -73.6296215435427,
                45.5838130726522
               ],
               [
                -73.6288186186035,
                45.5832571469721
               ],
               [
                -73.631962332515,
                45.579640175342
               ],
               [
                -73.6327012962769,
                45.5799802985646
               ],
               [
                -73.6363215300962,
                45.5759177646435
               ],
               [
                -73.652557313063,
                45.5826892716542
               ],
               [
                -73.6543058972308,
                45.5836262624158
               ],
               [
                -73.6531900096361,
                45.5859698880497
               ],
               [
                -73.6526947978849,
                45.5876532157306
               ],
               [
                -73.6523937374702,
                45.5900742122073
               ],
               [
                -73.6505401287885,
                45.5918403260598
               ],
               [
                -73.6490983475598,
                45.5943078055034
               ],
               [
                -73.646028354957,
                45.5966872776611
               ],
               [
                -73.6450204850692,
                45.598497300652
               ],
               [
                -73.6434244270991,
                45.6009558130627
               ],
               [
                -73.6432738605823,
                45.6022427894953
               ],
               [
                -73.6418446065649,
                45.6048360555341
               ],
               [
                -73.6415278334524,
                45.606276219979
               ],
               [
                -73.6400469319338,
                45.6087976232294
               ],
               [
                -73.6388534618155,
                45.6101933725153
               ],
               [
                -73.6374274156649,
                45.6122509805631
               ],
               [
                -73.6349651825723,
                45.6101401159366
               ],
               [
                -73.6284179810453,
                45.603912893307
               ],
               [
                -73.6227414555439,
                45.5985713755102
               ],
               [
                -73.6209924104659,
                45.5968531497608
               ],
               [
                -73.6216736698201,
                45.5964861898013
               ],
               [
                -73.6202427208594,
                45.5951205335532
               ]
              ]
             ],
             "type": "Polygon"
            },
            "id": "81",
            "properties": {
             "district": "81-Marie-Clarac"
            },
            "type": "Feature"
           },
           {
            "geometry": {
             "coordinates": [
              [
               [
                -73.6028907661658,
                45.6112216102358
               ],
               [
                -73.6041139394664,
                45.6106174089674
               ],
               [
                -73.6035616092243,
                45.6101078733853
               ],
               [
                -73.6048043091085,
                45.6094292879636
               ],
               [
                -73.6062298901187,
                45.610759685103
               ],
               [
                -73.6079197060538,
                45.6094530924621
               ],
               [
                -73.6092890313816,
                45.6081470965116
               ],
               [
                -73.6125635803426,
                45.604373796832
               ],
               [
                -73.61467650443,
                45.601820884038
               ],
               [
                -73.6202427208594,
                45.5951205335532
               ],
               [
                -73.6216736698201,
                45.5964861898013
               ],
               [
                -73.6209924104659,
                45.5968531497608
               ],
               [
                -73.6227414555439,
                45.5985713755102
               ],
               [
                -73.6284179810453,
                45.603912893307
               ],
               [
                -73.6349651825723,
                45.6101401159366
               ],
               [
                -73.6374274156649,
                45.6122509805631
               ],
               [
                -73.6357315212,
                45.6162353900055
               ],
               [
                -73.6334060135125,
                45.6196665233391
               ],
               [
                -73.6310514588113,
                45.6217838603777
               ],
               [
                -73.6289543944547,
                45.6234221648674
               ],
               [
                -73.6269636907653,
                45.6247707822286
               ],
               [
                -73.6250472436735,
                45.6262897836938
               ],
               [
                -73.6235959602566,
                45.6271766849645
               ],
               [
                -73.6206953088035,
                45.6298453145986
               ],
               [
                -73.6168081007299,
                45.6262083345707
               ],
               [
                -73.6071490341973,
                45.6170493269392
               ],
               [
                -73.6023660828945,
                45.6125718329314
               ],
               [
                -73.601559767966,
                45.6118073578371
               ],
               [
                -73.6028907661658,
                45.6112216102358
               ]
              ]
             ],
             "type": "Polygon"
            },
            "id": "82",
            "properties": {
             "district": "82-Ovide-Clermont"
            },
            "type": "Feature"
           },
           {
            "geometry": {
             "coordinates": [
              [
               [
                -73.5989854515795,
                45.5160358124743
               ],
               [
                -73.5986563507028,
                45.5163499572059
               ],
               [
                -73.601437737118,
                45.5176238014654
               ],
               [
                -73.6020308024605,
                45.5177034122021
               ],
               [
                -73.613010925262,
                45.5225880512056
               ],
               [
                -73.6108850612038,
                45.5249602486287
               ],
               [
                -73.5966746401772,
                45.5186407402299
               ],
               [
                -73.5982202946245,
                45.5169177573452
               ],
               [
                -73.5969109664106,
                45.5161364855643
               ],
               [
                -73.5989854515795,
                45.5160358124743
               ]
              ]
             ],
             "type": "Polygon"
            },
            "id": "91",
            "properties": {
             "district": "91-Claude-Ryan"
            },
            "type": "Feature"
           },
           {
            "geometry": {
             "coordinates": [
              [
               [
                -73.5989854515795,
                45.5160358124743
               ],
               [
                -73.6044730454934,
                45.5155769251068
               ],
               [
                -73.6089843852315,
                45.5146703511952
               ],
               [
                -73.6091799069916,
                45.5148927825
               ],
               [
                -73.6186655613026,
                45.5191467549529
               ],
               [
                -73.6148105187034,
                45.5234843904785
               ],
               [
                -73.6155485100061,
                45.52374152426
               ],
               [
                -73.6253373412254,
                45.518414467689
               ],
               [
                -73.6244833769123,
                45.5195443162251
               ],
               [
                -73.6208637881685,
                45.5236565043515
               ],
               [
                -73.617235572865,
                45.5277835686717
               ],
               [
                -73.6170925681517,
                45.5277209056734
               ],
               [
                -73.6124143323658,
                45.525647330045
               ],
               [
                -73.6108850612038,
                45.5249602486287
               ],
               [
                -73.613010925262,
                45.5225880512056
               ],
               [
                -73.6020308024605,
                45.5177034122021
               ],
               [
                -73.601437737118,
                45.5176238014654
               ],
               [
                -73.5986563507028,
                45.5163499572059
               ],
               [
                -73.5989854515795,
                45.5160358124743
               ]
              ]
             ],
             "type": "Polygon"
            },
            "id": "92",
            "properties": {
             "district": "92-Joseph-Beaubien"
            },
            "type": "Feature"
           },
           {
            "geometry": {
             "coordinates": [
              [
               [
                -73.5956108742759,
                45.504064067218
               ],
               [
                -73.5987846893921,
                45.5056180649425
               ],
               [
                -73.5993805679324,
                45.5053898653966
               ],
               [
                -73.6024762927983,
                45.5068574351344
               ],
               [
                -73.6035337540631,
                45.5057001623398
               ],
               [
                -73.6061344132343,
                45.5068772235294
               ],
               [
                -73.6063535452531,
                45.5074911306599
               ],
               [
                -73.6130513861854,
                45.5104478685544
               ],
               [
                -73.6182356279483,
                45.504722156916
               ],
               [
                -73.6189454361275,
                45.5051234940594
               ],
               [
                -73.6160933747766,
                45.5082725969653
               ],
               [
                -73.6178928803835,
                45.5091750557282
               ],
               [
                -73.6169256431203,
                45.5102737338336
               ],
               [
                -73.61888001694,
                45.5111346532789
               ],
               [
                -73.617959519301,
                45.5121686212918
               ],
               [
                -73.6171142113946,
                45.5117885655948
               ],
               [
                -73.6163442345691,
                45.5125462730753
               ],
               [
                -73.615038686563,
                45.511951761593
               ],
               [
                -73.6111115129373,
                45.5140796366228
               ],
               [
                -73.6089843852315,
                45.5146703511952
               ],
               [
                -73.6044730454934,
                45.5155769251068
               ],
               [
                -73.5989854515795,
                45.5160358124743
               ],
               [
                -73.5969109664106,
                45.5161364855643
               ],
               [
                -73.5982202946245,
                45.5169177573452
               ],
               [
                -73.5966746401772,
                45.5186407402299
               ],
               [
                -73.5902604532774,
                45.5157813641729
               ],
               [
                -73.5911992183544,
                45.5147110287094
               ],
               [
                -73.5918451342772,
                45.5144729450241
               ],
               [
                -73.5968586638591,
                45.5145623065118
               ],
               [
                -73.5978614314752,
                45.5141637733071
               ],
               [
                -73.598896296438,
                45.5131127563816
               ],
               [
                -73.5969405107098,
                45.5130415385056
               ],
               [
                -73.5969012890154,
                45.5117790625741
               ],
               [
                -73.5949672180747,
                45.5109069459258
               ],
               [
                -73.5935088435771,
                45.5105257693584
               ],
               [
                -73.594191031848,
                45.5097864575692
               ],
               [
                -73.591464574106,
                45.508070751295
               ],
               [
                -73.5956108742759,
                45.504064067218
               ]
              ]
             ],
             "type": "Polygon"
            },
            "id": "93",
            "properties": {
             "district": "93-Robert-Bourassa"
            },
            "type": "Feature"
           },
           {
            "geometry": {
             "coordinates": [
              [
               [
                -73.617959519301,
                45.5121686212918
               ],
               [
                -73.6176645335398,
                45.5125000231349
               ],
               [
                -73.6207592308166,
                45.5138993727882
               ],
               [
                -73.6267223236567,
                45.5165801475772
               ],
               [
                -73.6253373412254,
                45.518414467689
               ],
               [
                -73.6155485100061,
                45.52374152426
               ],
               [
                -73.6148105187034,
                45.5234843904785
               ],
               [
                -73.6186655613026,
                45.5191467549529
               ],
               [
                -73.6091799069916,
                45.5148927825
               ],
               [
                -73.6089843852315,
                45.5146703511952
               ],
               [
                -73.6111115129373,
                45.5140796366228
               ],
               [
                -73.615038686563,
                45.511951761593
               ],
               [
                -73.6163442345691,
                45.5125462730753
               ],
               [
                -73.6171142113946,
                45.5117885655948
               ],
               [
                -73.617959519301,
                45.5121686212918
               ]
              ]
             ],
             "type": "Polygon"
            },
            "id": "94",
            "properties": {
             "district": "94-Jeanne-Sauvé"
            },
            "type": "Feature"
           },
           {
            "geometry": {
             "coordinates": [
              [
               [
                [
                 -73.8187679895316,
                 45.5140812084438
                ],
                [
                 -73.8182383369059,
                 45.5132188436317
                ],
                [
                 -73.8194262685108,
                 45.5128016511853
                ],
                [
                 -73.8210527525633,
                 45.5129859861948
                ],
                [
                 -73.8211602697308,
                 45.5138855228726
                ],
                [
                 -73.8187679895316,
                 45.5140812084438
                ]
               ]
              ],
              [
               [
                [
                 -73.7612752776246,
                 45.5104175090183
                ],
                [
                 -73.7551669017747,
                 45.5064862077527
                ],
                [
                 -73.7550630650544,
                 45.5065238038199
                ],
                [
                 -73.7516832079437,
                 45.5044227485347
                ],
                [
                 -73.7530750881715,
                 45.5037537247243
                ],
                [
                 -73.7547114610262,
                 45.5033812068779
                ],
                [
                 -73.756652358581,
                 45.5024589334263
                ],
                [
                 -73.7582371682807,
                 45.5020414841587
                ],
                [
                 -73.7594306007504,
                 45.5027766325504
                ],
                [
                 -73.7609994664832,
                 45.5016752336666
                ],
                [
                 -73.7638615520544,
                 45.5034953365559
                ],
                [
                 -73.764601206777,
                 45.5029446682134
                ],
                [
                 -73.7653841918245,
                 45.5034648112556
                ],
                [
                 -73.7671979733428,
                 45.5027497284985
                ],
                [
                 -73.7692002551043,
                 45.5040137486001
                ],
                [
                 -73.7709616412032,
                 45.5034073001873
                ],
                [
                 -73.7725018897261,
                 45.5025715611262
                ],
                [
                 -73.770851931212,
                 45.5015263075263
                ],
                [
                 -73.7738796981111,
                 45.5005112554049
                ],
                [
                 -73.7716579558132,
                 45.4991257181769
                ],
                [
                 -73.7735738316828,
                 45.4981363521851
                ],
                [
                 -73.7779880975343,
                 45.5009521734749
                ],
                [
                 -73.780555316633,
                 45.4997211145292
                ],
                [
                 -73.7811328878805,
                 45.5000886664279
                ],
                [
                 -73.7828691809435,
                 45.4992834417083
                ],
                [
                 -73.7866716942594,
                 45.5016560785918
                ],
                [
                 -73.7833876826593,
                 45.5031694957223
                ],
                [
                 -73.7921892811359,
                 45.505162983993
                ],
                [
                 -73.790378705595,
                 45.5039707845666
                ],
                [
                 -73.7971312330344,
                 45.5007319392105
                ],
                [
                 -73.800845778582,
                 45.4990215282087
                ],
                [
                 -73.8020719362353,
                 45.500313400533
                ],
                [
                 -73.8090622022287,
                 45.4969839281454
                ],
                [
                 -73.8103152495861,
                 45.4968275421823
                ],
                [
                 -73.8148195197041,
                 45.5014854076037
                ],
                [
                 -73.814130519647,
                 45.5018291882481
                ],
                [
                 -73.8151983502239,
                 45.5028700758232
                ],
                [
                 -73.8158749418108,
                 45.5025712297953
                ],
                [
                 -73.8192989400152,
                 45.5061341618076
                ],
                [
                 -73.8239273064692,
                 45.5039359215182
                ],
                [
                 -73.8260247686459,
                 45.5028472072531
                ],
                [
                 -73.8336495886976,
                 45.4992478732958
                ],
                [
                 -73.8354476552771,
                 45.4983089444422
                ],
                [
                 -73.835851882975,
                 45.4987134333303
                ],
                [
                 -73.8376510464643,
                 45.4977036685397
                ],
                [
                 -73.8352748755507,
                 45.4946201233283
                ],
                [
                 -73.8359064469498,
                 45.4941865754856
                ],
                [
                 -73.8445138674112,
                 45.4899447538175
                ],
                [
                 -73.8461670237813,
                 45.488985999861
                ],
                [
                 -73.8503699985263,
                 45.4936842455575
                ],
                [
                 -73.853113099403,
                 45.4984292547447
                ],
                [
                 -73.8558121436329,
                 45.5017030001578
                ],
                [
                 -73.8554973469563,
                 45.506068266442
                ],
                [
                 -73.8541507320505,
                 45.5071387755787
                ],
                [
                 -73.8547842282295,
                 45.5078848003326
                ],
                [
                 -73.8541503989792,
                 45.5088568468323
                ],
                [
                 -73.8514364847285,
                 45.5107998956924
                ],
                [
                 -73.8509728924279,
                 45.5113681864054
                ],
                [
                 -73.8497265304179,
                 45.5116149897809
                ],
                [
                 -73.8487575861648,
                 45.5122208147549
                ],
                [
                 -73.8486390859537,
                 45.5137509650076
                ],
                [
                 -73.8470767467479,
                 45.515690388096
                ],
                [
                 -73.8459043806884,
                 45.5165397868316
                ],
                [
                 -73.8447612809957,
                 45.5165252439303
                ],
                [
                 -73.8416070645454,
                 45.5171016749459
                ],
                [
                 -73.8379192636275,
                 45.5168516646645
                ],
                [
                 -73.8362532214568,
                 45.51650560879
                ],
                [
                 -73.8321180123678,
                 45.5163557197529
                ],
                [
                 -73.8313656471532,
                 45.5168348664122
                ],
                [
                 -73.8297408583824,
                 45.5169655584571
                ],
                [
                 -73.8282028168338,
                 45.5166190156169
                ],
                [
                 -73.8268661171387,
                 45.5156510162477
                ],
                [
                 -73.8250222653614,
                 45.5155213777536
                ],
                [
                 -73.8246734151281,
                 45.5149644141917
                ],
                [
                 -73.8233629812572,
                 45.5141042906802
                ],
                [
                 -73.8234733111558,
                 45.5132581353231
                ],
                [
                 -73.8218473252627,
                 45.5131637356642
                ],
                [
                 -73.8209366065744,
                 45.5128154164364
                ],
                [
                 -73.8192176588039,
                 45.5126139694502
                ],
                [
                 -73.8179057909873,
                 45.5132557668608
                ],
                [
                 -73.8178065811604,
                 45.5138229980126
                ],
                [
                 -73.8160507514445,
                 45.5154287971508
                ],
                [
                 -73.814770537422,
                 45.5156310808765
                ],
                [
                 -73.8131059190362,
                 45.5155096653326
                ],
                [
                 -73.810217503155,
                 45.5162914840575
                ],
                [
                 -73.8084551833961,
                 45.5162217432523
                ],
                [
                 -73.8064888710304,
                 45.5155636081875
                ],
                [
                 -73.8057027099487,
                 45.5147919349551
                ],
                [
                 -73.8040410010469,
                 45.5149672884696
                ],
                [
                 -73.801546777817,
                 45.5149829442516
                ],
                [
                 -73.8001619454196,
                 45.5148065602758
                ],
                [
                 -73.7995790764703,
                 45.5135123735559
                ],
                [
                 -73.7995988098213,
                 45.5123965010493
                ],
                [
                 -73.7992059489796,
                 45.5107148435346
                ],
                [
                 -73.7978204799485,
                 45.5101065121228
                ],
                [
                 -73.7969591683437,
                 45.5093799021214
                ],
                [
                 -73.7939384028061,
                 45.509297721884
                ],
                [
                 -73.79058311435,
                 45.5088654314285
                ],
                [
                 -73.7870155334484,
                 45.5094594051816
                ],
                [
                 -73.7852614432657,
                 45.5093198098856
                ],
                [
                 -73.7829719822765,
                 45.5095864846083
                ],
                [
                 -73.7806008657296,
                 45.5088903884048
                ],
                [
                 -73.7769513427547,
                 45.5084674192311
                ],
                [
                 -73.7745708564459,
                 45.5084461679299
                ],
                [
                 -73.7719486126198,
                 45.5087044209407
                ],
                [
                 -73.7697639799538,
                 45.5095104479827
                ],
                [
                 -73.7673058990371,
                 45.5093183322757
                ],
                [
                 -73.7625356657639,
                 45.5100672469129
                ],
                [
                 -73.7612752776246,
                 45.5104175090183
                ]
               ]
              ]
             ],
             "type": "MultiPolygon"
            },
            "id": "101",
            "properties": {
             "district": "101-Bois-de-Liesse"
            },
            "type": "Feature"
           },
           {
            "geometry": {
             "coordinates": [
              [
               [
                [
                 -73.8461670237813,
                 45.488985999861
                ],
                [
                 -73.850532069583,
                 45.486758681857
                ],
                [
                 -73.8458397013725,
                 45.4794951647217
                ],
                [
                 -73.8472019880053,
                 45.4788779608994
                ],
                [
                 -73.8518367097832,
                 45.4764514219245
                ],
                [
                 -73.8573573288562,
                 45.4736627559579
                ],
                [
                 -73.8545371967343,
                 45.4706120339916
                ],
                [
                 -73.8603908221258,
                 45.4659954945452
                ],
                [
                 -73.859889484827,
                 45.4655831049747
                ],
                [
                 -73.8669852747875,
                 45.4613941823855
                ],
                [
                 -73.8659406037748,
                 45.4600298096328
                ],
                [
                 -73.8814395340419,
                 45.4526362439631
                ],
                [
                 -73.8847216555087,
                 45.4524908762247
                ],
                [
                 -73.8890536732734,
                 45.4491166876217
                ],
                [
                 -73.8915462525593,
                 45.4480217199892
                ],
                [
                 -73.8938116724967,
                 45.4465652096353
                ],
                [
                 -73.8981246578432,
                 45.4475293470406
                ],
                [
                 -73.9003739737275,
                 45.4471542652552
                ],
                [
                 -73.9000666991504,
                 45.4467285005871
                ],
                [
                 -73.9015060886188,
                 45.446358434947
                ],
                [
                 -73.9023709077117,
                 45.4475251321732
                ],
                [
                 -73.9043599589048,
                 45.4467892477034
                ],
                [
                 -73.9055608807492,
                 45.4484676964261
                ],
                [
                 -73.9104202259452,
                 45.4468936252547
                ],
                [
                 -73.9231679445166,
                 45.4420154242323
                ],
                [
                 -73.9228839309917,
                 45.4416385017936
                ],
                [
                 -73.9245143656332,
                 45.4408765943703
                ],
                [
                 -73.924830550628,
                 45.4404255381026
                ],
                [
                 -73.9348115551979,
                 45.4490797759617
                ],
                [
                 -73.9369647858857,
                 45.4508355286695
                ],
                [
                 -73.9367305115467,
                 45.4519612579974
                ],
                [
                 -73.936084813848,
                 45.45278257894
                ],
                [
                 -73.9363214019941,
                 45.4536095287366
                ],
                [
                 -73.9384314066949,
                 45.45366444434
                ],
                [
                 -73.93849022267,
                 45.4546540611182
                ],
                [
                 -73.9401870518575,
                 45.4558173634308
                ],
                [
                 -73.9432583349177,
                 45.4561564624145
                ],
                [
                 -73.9444816415584,
                 45.4572495419421
                ],
                [
                 -73.9470042484352,
                 45.4577165755588
                ],
                [
                 -73.9475358331527,
                 45.4586413391725
                ],
                [
                 -73.9466703677291,
                 45.4591486916182
                ],
                [
                 -73.9457347700682,
                 45.4588823651705
                ],
                [
                 -73.9452919598077,
                 45.4594780510929
                ],
                [
                 -73.9438715446993,
                 45.4593485885153
                ],
                [
                 -73.9418275850641,
                 45.461228202182
                ],
                [
                 -73.9418734970443,
                 45.4621908676335
                ],
                [
                 -73.9433996704037,
                 45.4627518229434
                ],
                [
                 -73.9458662537823,
                 45.4625712338861
                ],
                [
                 -73.9452835656909,
                 45.4632754571652
                ],
                [
                 -73.9455865563861,
                 45.4644081059436
                ],
                [
                 -73.9444336707811,
                 45.464151615889
                ],
                [
                 -73.9428244875956,
                 45.4644188471942
                ],
                [
                 -73.9420560006039,
                 45.4659065384758
                ],
                [
                 -73.9397320642846,
                 45.4663563878557
                ],
                [
                 -73.9401770020335,
                 45.4676594913386
                ],
                [
                 -73.9394768022606,
                 45.4680671581924
                ],
                [
                 -73.9395814637767,
                 45.4700104369658
                ],
                [
                 -73.9382622094761,
                 45.4714102256228
                ],
                [
                 -73.9356853954855,
                 45.4722749319843
                ],
                [
                 -73.9346437792633,
                 45.4731967435679
                ],
                [
                 -73.9329374951772,
                 45.4725193630933
                ],
                [
                 -73.9323111235668,
                 45.4725667323419
                ],
                [
                 -73.9299152373346,
                 45.4737006039578
                ],
                [
                 -73.928842473854,
                 45.4739115313467
                ],
                [
                 -73.9275236887696,
                 45.4737184885069
                ],
                [
                 -73.9265293732015,
                 45.4741631743875
                ],
                [
                 -73.925796243829,
                 45.4736259485905
                ],
                [
                 -73.9248000500235,
                 45.4721089475954
                ],
                [
                 -73.9222818122356,
                 45.4705794857248
                ],
                [
                 -73.922965231979,
                 45.4696141155523
                ],
                [
                 -73.9226524205748,
                 45.4688324194201
                ],
                [
                 -73.9212201297683,
                 45.4688467094977
                ],
                [
                 -73.9216571330551,
                 45.4674143796986
                ],
                [
                 -73.921550552687,
                 45.4668568126713
                ],
                [
                 -73.9195312526606,
                 45.4635798400557
                ],
                [
                 -73.9178201887521,
                 45.4621912996059
                ],
                [
                 -73.9148789978459,
                 45.4619144443475
                ],
                [
                 -73.9126660861929,
                 45.4603383473932
                ],
                [
                 -73.91114607451,
                 45.4605598133876
                ],
                [
                 -73.9103819033438,
                 45.4609764429342
                ],
                [
                 -73.9100549453511,
                 45.4617335639878
                ],
                [
                 -73.9082146339227,
                 45.4617969415567
                ],
                [
                 -73.9075688375165,
                 45.4609865148744
                ],
                [
                 -73.9058658349117,
                 45.4609563776965
                ],
                [
                 -73.9051876779266,
                 45.4605991035458
                ],
                [
                 -73.9038323289561,
                 45.4606219020727
                ],
                [
                 -73.9020889859002,
                 45.4618068799119
                ],
                [
                 -73.9017130574761,
                 45.4628880358479
                ],
                [
                 -73.9003152261538,
                 45.4623259838994
                ],
                [
                 -73.899767819995,
                 45.462669876326
                ],
                [
                 -73.8976775036577,
                 45.4654577069673
                ],
                [
                 -73.8962483592814,
                 45.4658946426154
                ],
                [
                 -73.8957916608649,
                 45.4664270982997
                ],
                [
                 -73.8945384007686,
                 45.4664224345534
                ],
                [
                 -73.8936214304942,
                 45.4669655597388
                ],
                [
                 -73.8921732932478,
                 45.4665295724673
                ],
                [
                 -73.8916127412336,
                 45.4668464725107
                ],
                [
                 -73.8913265706041,
                 45.4679902821467
                ],
                [
                 -73.8900901349216,
                 45.4685793797869
                ],
                [
                 -73.8888217813327,
                 45.4686035027193
                ],
                [
                 -73.8860812311329,
                 45.4695648402732
                ],
                [
                 -73.8847899934361,
                 45.4696321930072
                ],
                [
                 -73.8828866868638,
                 45.4718612485547
                ],
                [
                 -73.8823610038276,
                 45.4716560245278
                ],
                [
                 -73.8811747849457,
                 45.4721459539451
                ],
                [
                 -73.8806356311152,
                 45.471850773116
                ],
                [
                 -73.8795251463835,
                 45.4721694456373
                ],
                [
                 -73.8782862116718,
                 45.4705088548296
                ],
                [
                 -73.8733213850942,
                 45.4725990666647
                ],
                [
                 -73.871209821762,
                 45.4733162451191
                ],
                [
                 -73.8728715855598,
                 45.4756017517064
                ],
                [
                 -73.8650419471552,
                 45.4821657726431
                ],
                [
                 -73.8624629228902,
                 45.4840039194648
                ],
                [
                 -73.8613316931676,
                 45.4851413285652
                ],
                [
                 -73.8587614558506,
                 45.4873090890375
                ],
                [
                 -73.8598077012489,
                 45.4888850004049
                ],
                [
                 -73.8592579904622,
                 45.4889452259737
                ],
                [
                 -73.8578565654384,
                 45.4898674655412
                ],
                [
                 -73.8569952719841,
                 45.4912379676731
                ],
                [
                 -73.8545791042202,
                 45.4935760467931
                ],
                [
                 -73.8531479621556,
                 45.4959201221199
                ],
                [
                 -73.8544902230577,
                 45.4977606434992
                ],
                [
                 -73.8548560501467,
                 45.4989743240793
                ],
                [
                 -73.8555516665994,
                 45.4997100150003
                ],
                [
                 -73.8578400891255,
                 45.4995048836594
                ],
                [
                 -73.8585024501129,
                 45.4997829560785
                ],
                [
                 -73.8591539006867,
                 45.5007425753891
                ],
                [
                 -73.8588895885858,
                 45.501436262307
                ],
                [
                 -73.8580145103082,
                 45.5020213087385
                ],
                [
                 -73.8578513100126,
                 45.5031672055572
                ],
                [
                 -73.85712842707,
                 45.5040318263201
                ],
                [
                 -73.8570843291783,
                 45.505329258001
                ],
                [
                 -73.8555961994083,
                 45.5077731597575
                ],
                [
                 -73.8547842282295,
                 45.5078848003326
                ],
                [
                 -73.8541507320505,
                 45.5071387755787
                ],
                [
                 -73.8554973469563,
                 45.506068266442
                ],
                [
                 -73.8558121436329,
                 45.5017030001578
                ],
                [
                 -73.853113099403,
                 45.4984292547447
                ],
                [
                 -73.8503699985263,
                 45.4936842455575
                ],
                [
                 -73.8461670237813,
                 45.488985999861
                ]
               ]
              ],
              [
               [
                [
                 -73.8565163230435,
                 45.5065638456799
                ],
                [
                 -73.8570490281172,
                 45.5058063309797
                ],
                [
                 -73.8583878278331,
                 45.5070438611748
                ],
                [
                 -73.8567674874305,
                 45.5078408713637
                ],
                [
                 -73.8559107285537,
                 45.5079515359158
                ],
                [
                 -73.8565163230435,
                 45.5065638456799
                ]
               ]
              ]
             ],
             "type": "MultiPolygon"
            },
            "id": "102",
            "properties": {
             "district": "102-Cap-Saint-Jacques"
            },
            "type": "Feature"
           },
           {
            "geometry": {
             "coordinates": [
              [
               [
                -73.5792047395127,
                45.5280064404383
               ],
               [
                -73.581506814336,
                45.5255527662198
               ],
               [
                -73.5893088980696,
                45.5167596569974
               ],
               [
                -73.5902604532774,
                45.5157813641729
               ],
               [
                -73.5966746401772,
                45.5186407402299
               ],
               [
                -73.6108850612038,
                45.5249602486287
               ],
               [
                -73.6124143323658,
                45.525647330045
               ],
               [
                -73.6088433154766,
                45.5276253868022
               ],
               [
                -73.6061835826899,
                45.5283650193777
               ],
               [
                -73.6023604559616,
                45.5284000664849
               ],
               [
                -73.5992862274652,
                45.5288774305058
               ],
               [
                -73.5962116234987,
                45.5301487739359
               ],
               [
                -73.5947764680621,
                45.5311589735711
               ],
               [
                -73.5863837119054,
                45.5382742004886
               ],
               [
                -73.5871054297936,
                45.5372069067238
               ],
               [
                -73.5899093482658,
                45.5348049045751
               ],
               [
                -73.5847595146863,
                45.5324079438366
               ],
               [
                -73.5859421309178,
                45.5310790335786
               ],
               [
                -73.5792047395127,
                45.5280064404383
               ]
              ]
             ],
             "type": "Polygon"
            },
            "id": "111",
            "properties": {
             "district": "111-Mile-End"
            },
            "type": "Feature"
           },
           {
            "geometry": {
             "coordinates": [
              [
               [
                -73.5655614721314,
                45.5213643879447
               ],
               [
                -73.5740572626836,
                45.5252747203744
               ],
               [
                -73.5745923823609,
                45.5259374612073
               ],
               [
                -73.5792047395127,
                45.5280064404383
               ],
               [
                -73.5859421309178,
                45.5310790335786
               ],
               [
                -73.5847595146863,
                45.5324079438366
               ],
               [
                -73.5899093482658,
                45.5348049045751
               ],
               [
                -73.5871054297936,
                45.5372069067238
               ],
               [
                -73.5863837119054,
                45.5382742004886
               ],
               [
                -73.5862704189394,
                45.5383757481773
               ],
               [
                -73.5838512015266,
                45.5400861300747
               ],
               [
                -73.5810607519196,
                45.5411249464667
               ],
               [
                -73.5786195284797,
                45.5415422864787
               ],
               [
                -73.5764926058406,
                45.5415739191208
               ],
               [
                -73.5735822926994,
                45.5413565189643
               ],
               [
                -73.5592280432661,
                45.5399028690768
               ],
               [
                -73.5613401818778,
                45.5359226324552
               ],
               [
                -73.5641429566138,
                45.5273492053093
               ],
               [
                -73.5652383566418,
                45.5238165260966
               ],
               [
                -73.5655614721314,
                45.5213643879447
               ]
              ]
             ],
             "type": "Polygon"
            },
            "id": "112",
            "properties": {
             "district": "112-De Lorimier"
            },
            "type": "Feature"
           },
           {
            "geometry": {
             "coordinates": [
              [
               [
                -73.5734800018833,
                45.5049709717948
               ],
               [
                -73.580113792401,
                45.5081921313855
               ],
               [
                -73.5785542203746,
                45.5104511791594
               ],
               [
                -73.5786781018666,
                45.5117608495828
               ],
               [
                -73.582430798457,
                45.5136019767056
               ],
               [
                -73.5893088980696,
                45.5167596569974
               ],
               [
                -73.581506814336,
                45.5255527662198
               ],
               [
                -73.5792047395127,
                45.5280064404383
               ],
               [
                -73.5745923823609,
                45.5259374612073
               ],
               [
                -73.5740572626836,
                45.5252747203744
               ],
               [
                -73.5655614721314,
                45.5213643879447
               ],
               [
                -73.5655904084691,
                45.5210639273018
               ],
               [
                -73.571279665339,
                45.5083636436696
               ],
               [
                -73.5729588302122,
                45.5055494196855
               ],
               [
                -73.5734800018833,
                45.5049709717948
               ]
              ]
             ],
             "type": "Polygon"
            },
            "id": "113",
            "properties": {
             "district": "113-Jeanne-Mance"
            },
            "type": "Feature"
           },
           {
            "geometry": {
             "coordinates": [
              [
               [
                -73.4868984819315,
                45.6668163755988
               ],
               [
                -73.4909285596849,
                45.6670796662378
               ],
               [
                -73.4943692754526,
                45.6676107175883
               ],
               [
                -73.5052117189194,
                45.6694506091685
               ],
               [
                -73.5066485322791,
                45.66770609928
               ],
               [
                -73.5086661140009,
                45.6660376032574
               ],
               [
                -73.514071369879,
                45.663410883372
               ],
               [
                -73.5226608995211,
                45.6590189476592
               ],
               [
                -73.5409160537594,
                45.6501644528664
               ],
               [
                -73.5441930168941,
                45.6487914226698
               ],
               [
                -73.544738106063,
                45.6482242645147
               ],
               [
                -73.5524611738286,
                45.6444112188767
               ],
               [
                -73.5555002141554,
                45.6426177060947
               ],
               [
                -73.5652962272313,
                45.6362003202316
               ],
               [
                -73.5713393674169,
                45.6418436992789
               ],
               [
                -73.5731131247475,
                45.6438386857375
               ],
               [
                -73.5764976851296,
                45.641270099185
               ],
               [
                -73.5866413495341,
                45.6508496604014
               ],
               [
                -73.5898582112291,
                45.6537703909976
               ],
               [
                -73.5838459058531,
                45.6567113166436
               ],
               [
                -73.5767899673498,
                45.6602649640823
               ],
               [
                -73.5719339731853,
                45.6626357744781
               ],
               [
                -73.539067309963,
                45.678979317943
               ],
               [
                -73.5369552091684,
                45.6802676902485
               ],
               [
                -73.5352474248791,
                45.6816148433586
               ],
               [
                -73.532629555028,
                45.6840504841943
               ],
               [
                -73.5308427113654,
                45.6858730099174
               ],
               [
                -73.5292925000853,
                45.6880318303705
               ],
               [
                -73.5284527492428,
                45.6897324941851
               ],
               [
                -73.5262321777264,
                45.695068712866
               ],
               [
                -73.5248704855113,
                45.696745979989
               ],
               [
                -73.5234829925507,
                45.6977084455985
               ],
               [
                -73.521300714461,
                45.6988491350421
               ],
               [
                -73.518072949079,
                45.7000844428825
               ],
               [
                -73.5135468623237,
                45.7013546459954
               ],
               [
                -73.5051625304534,
                45.7033317792418
               ],
               [
                -73.498947493721,
                45.7045252458975
               ],
               [
                -73.4954757567513,
                45.7049490135942
               ],
               [
                -73.4932103740932,
                45.7047553331643
               ],
               [
                -73.4921323200277,
                45.7041126467728
               ],
               [
                -73.4909405407531,
                45.7027073672294
               ],
               [
                -73.4900498047694,
                45.7021797732479
               ],
               [
                -73.4887664394737,
                45.7021177409386
               ],
               [
                -73.4856763927507,
                45.7030727269477
               ],
               [
                -73.4829186491029,
                45.7036523330194
               ],
               [
                -73.4803835661343,
                45.7046724098692
               ],
               [
                -73.4783219605948,
                45.7052709191606
               ],
               [
                -73.4766385432002,
                45.7054709950549
               ],
               [
                -73.4751651064534,
                45.7048699119281
               ],
               [
                -73.4745824263264,
                45.7033866618514
               ],
               [
                -73.4749382311583,
                45.7024425674455
               ],
               [
                -73.4763824131897,
                45.7006700752533
               ],
               [
                -73.4784777403736,
                45.697652858064
               ],
               [
                -73.4790042639298,
                45.6961901697848
               ],
               [
                -73.4792384579055,
                45.6941308824961
               ],
               [
                -73.4796140010016,
                45.6929943766718
               ],
               [
                -73.4803640884928,
                45.6919258774639
               ],
               [
                -73.483643872129,
                45.6885943328445
               ],
               [
                -73.4851764024197,
                45.6867120396751
               ],
               [
                -73.4857156558079,
                45.6857399456762
               ],
               [
                -73.4866448398145,
                45.682296765324
               ],
               [
                -73.486914072058,
                45.6801843677801
               ],
               [
                -73.4872497030629,
                45.6755976940944
               ],
               [
                -73.4873520249609,
                45.6730343323445
               ],
               [
                -73.4868984819315,
                45.6668163755988
               ]
              ]
             ],
             "type": "Polygon"
            },
            "id": "121",
            "properties": {
             "district": "121-La Pointe-aux-Prairies"
            },
            "type": "Feature"
           },
           {
            "geometry": {
             "coordinates": [
              [
               [
                -73.544738106063,
                45.6482242645147
               ],
               [
                -73.5441930168941,
                45.6487914226698
               ],
               [
                -73.5409160537594,
                45.6501644528664
               ],
               [
                -73.5226608995211,
                45.6590189476592
               ],
               [
                -73.514071369879,
                45.663410883372
               ],
               [
                -73.5086661140009,
                45.6660376032574
               ],
               [
                -73.5066485322791,
                45.66770609928
               ],
               [
                -73.5052117189194,
                45.6694506091685
               ],
               [
                -73.4943692754526,
                45.6676107175883
               ],
               [
                -73.4909285596849,
                45.6670796662378
               ],
               [
                -73.4868984819315,
                45.6668163755988
               ],
               [
                -73.4865306288933,
                45.6640279113745
               ],
               [
                -73.486175917176,
                45.6627454155844
               ],
               [
                -73.4851106606772,
                45.6602901608252
               ],
               [
                -73.4846809037125,
                45.6588306383762
               ],
               [
                -73.4832382097687,
                45.6554954757732
               ],
               [
                -73.4821383232798,
                45.6536179248291
               ],
               [
                -73.4787636354681,
                45.6491486823782
               ],
               [
                -73.4780610185114,
                45.6476510142289
               ],
               [
                -73.4774799728854,
                45.6454905837529
               ],
               [
                -73.4872757738587,
                45.6469779321365
               ],
               [
                -73.4879707187836,
                45.6443924831145
               ],
               [
                -73.4878427542795,
                45.6430795950772
               ],
               [
                -73.4879726577335,
                45.6412664739826
               ],
               [
                -73.4872874543207,
                45.6393119798027
               ],
               [
                -73.489854112659,
                45.6368295683212
               ],
               [
                -73.4903943370184,
                45.6355618234685
               ],
               [
                -73.4916720124889,
                45.6345001210246
               ],
               [
                -73.4910397713222,
                45.6338422392127
               ],
               [
                -73.491927215926,
                45.6328678840833
               ],
               [
                -73.5098459767589,
                45.6358225966319
               ],
               [
                -73.5202077969535,
                45.6374981237725
               ],
               [
                -73.5214492864595,
                45.6377899174742
               ],
               [
                -73.5431729267196,
                45.6475814296488
               ],
               [
                -73.544738106063,
                45.6482242645147
               ]
              ]
             ],
             "type": "Polygon"
            },
            "id": "122",
            "properties": {
             "district": "122-Pointe-aux-Trembles"
            },
            "type": "Feature"
           },
           {
            "geometry": {
             "coordinates": [
              [
               [
                -73.5652962272313,
                45.6362003202316
               ],
               [
                -73.5683379250343,
                45.6341956640577
               ],
               [
                -73.5740068269183,
                45.6304929149516
               ],
               [
                -73.5954830428467,
                45.6158123480652
               ],
               [
                -73.5984976040034,
                45.6140840514745
               ],
               [
                -73.6023660828945,
                45.6125718329314
               ],
               [
                -73.6071490341973,
                45.6170493269392
               ],
               [
                -73.6168081007299,
                45.6262083345707
               ],
               [
                -73.6206953088035,
                45.6298453145986
               ],
               [
                -73.6241232556812,
                45.6330522649771
               ],
               [
                -73.5943845703787,
                45.6513674636385
               ],
               [
                -73.5898582112291,
                45.6537703909976
               ],
               [
                -73.5866413495341,
                45.6508496604014
               ],
               [
                -73.5764976851296,
                45.641270099185
               ],
               [
                -73.5731131247475,
                45.6438386857375
               ],
               [
                -73.5713393674169,
                45.6418436992789
               ],
               [
                -73.5652962272313,
                45.6362003202316
               ]
              ]
             ],
             "type": "Polygon"
            },
            "id": "123",
            "properties": {
             "district": "123-Rivière-des-Prairies"
            },
            "type": "Feature"
           },
           {
            "geometry": {
             "coordinates": [
              [
               [
                -73.5864681894816,
                45.538468592349
               ],
               [
                -73.5862704189394,
                45.5383757481773
               ],
               [
                -73.5863837119054,
                45.5382742004886
               ],
               [
                -73.5947764680621,
                45.5311589735711
               ],
               [
                -73.5962116234987,
                45.5301487739359
               ],
               [
                -73.5992862274652,
                45.5288774305058
               ],
               [
                -73.6023604559616,
                45.5284000664849
               ],
               [
                -73.6061835826899,
                45.5283650193777
               ],
               [
                -73.6088433154766,
                45.5276253868022
               ],
               [
                -73.6124143323658,
                45.525647330045
               ],
               [
                -73.6170925681517,
                45.5277209056734
               ],
               [
                -73.6170629786343,
                45.5290836882431
               ],
               [
                -73.6174856875378,
                45.5297416402976
               ],
               [
                -73.6190955864224,
                45.5306548374863
               ],
               [
                -73.6215351178101,
                45.5311083503899
               ],
               [
                -73.6182756954315,
                45.5346855542873
               ],
               [
                -73.6168611349556,
                45.5357046144078
               ],
               [
                -73.6144250141163,
                45.5383032859687
               ],
               [
                -73.6123252903368,
                45.5421333051385
               ],
               [
                -73.6086846729618,
                45.5461409843801
               ],
               [
                -73.6070387029669,
                45.5479557550382
               ],
               [
                -73.6035398110948,
                45.5463469119155
               ],
               [
                -73.5864681894816,
                45.538468592349
               ]
              ]
             ],
             "type": "Polygon"
            },
            "id": "131",
            "properties": {
             "district": "131-Saint-Édouard"
            },
            "type": "Feature"
           },
           {
            "geometry": {
             "coordinates": [
              [
               [
                -73.5864681894816,
                45.538468592349
               ],
               [
                -73.6035398110948,
                45.5463469119155
               ],
               [
                -73.6019471163738,
                45.5481178990012
               ],
               [
                -73.5975914187124,
                45.553207322408
               ],
               [
                -73.5910006798707,
                45.5607570868859
               ],
               [
                -73.5774327397367,
                45.5565544731088
               ],
               [
                -73.5794549693978,
                45.5542318437368
               ],
               [
                -73.5755593123915,
                45.5530615312237
               ],
               [
                -73.5800875168702,
                45.5456157629748
               ],
               [
                -73.5813297515111,
                45.5438139922411
               ],
               [
                -73.5837910525824,
                45.541331668411
               ],
               [
                -73.5864681894816,
                45.538468592349
               ]
              ]
             ],
             "type": "Polygon"
            },
            "id": "132",
            "properties": {
             "district": "132-Étienne-Desmarteau"
            },
            "type": "Feature"
           },
           {
            "geometry": {
             "coordinates": [
              [
               [
                -73.5592280432661,
                45.5399028690768
               ],
               [
                -73.5735822926994,
                45.5413565189643
               ],
               [
                -73.5764926058406,
                45.5415739191208
               ],
               [
                -73.5786195284797,
                45.5415422864787
               ],
               [
                -73.5810607519196,
                45.5411249464667
               ],
               [
                -73.5838512015266,
                45.5400861300747
               ],
               [
                -73.5862704189394,
                45.5383757481773
               ],
               [
                -73.5864681894816,
                45.538468592349
               ],
               [
                -73.5837910525824,
                45.541331668411
               ],
               [
                -73.5813297515111,
                45.5438139922411
               ],
               [
                -73.5800875168702,
                45.5456157629748
               ],
               [
                -73.5755593123915,
                45.5530615312237
               ],
               [
                -73.5794549693978,
                45.5542318437368
               ],
               [
                -73.5774327397367,
                45.5565544731088
               ],
               [
                -73.573735635149,
                45.5607975285183
               ],
               [
                -73.5588620237975,
                45.5560173236498
               ],
               [
                -73.5545655421497,
                45.55467023726
               ],
               [
                -73.5552605710227,
                45.5474166761255
               ],
               [
                -73.5592280432661,
                45.5399028690768
               ]
              ]
             ],
             "type": "Polygon"
            },
            "id": "133",
            "properties": {
             "district": "133-Vieux-Rosemont"
            },
            "type": "Feature"
           },
           {
            "geometry": {
             "coordinates": [
              [
               [
                -73.5694653361432,
                45.5816630209033
               ],
               [
                -73.5683754804235,
                45.5814045757918
               ],
               [
                -73.5584435150771,
                45.578098690279
               ],
               [
                -73.5557298683366,
                45.5757065336466
               ],
               [
                -73.5489772535198,
                45.5734435433853
               ],
               [
                -73.5544730757919,
                45.5652953442798
               ],
               [
                -73.5546496932451,
                45.5649641797921
               ],
               [
                -73.5542787320438,
                45.5568764086233
               ],
               [
                -73.5545655421497,
                45.55467023726
               ],
               [
                -73.5588620237975,
                45.5560173236498
               ],
               [
                -73.573735635149,
                45.5607975285183
               ],
               [
                -73.5774327397367,
                45.5565544731088
               ],
               [
                -73.5910006798707,
                45.5607570868859
               ],
               [
                -73.5863094536503,
                45.5661499995185
               ],
               [
                -73.5871520545273,
                45.566412729231
               ],
               [
                -73.584731908233,
                45.5691066724291
               ],
               [
                -73.5772385119147,
                45.5776818920023
               ],
               [
                -73.578130955202,
                45.5780689341974
               ],
               [
                -73.5752604702031,
                45.5805388907561
               ],
               [
                -73.5739953109801,
                45.5819266091566
               ],
               [
                -73.5709328233077,
                45.5809046758787
               ],
               [
                -73.5705509760525,
                45.5814521659595
               ],
               [
                -73.5694653361432,
                45.5816630209033
               ]
              ]
             ],
             "type": "Polygon"
            },
            "id": "134",
            "properties": {
             "district": "134-Marie-Victorin"
            },
            "type": "Feature"
           },
           {
            "geometry": {
             "coordinates": [
              [
               [
                -73.7091218538247,
                45.5230954877394
               ],
               [
                -73.6918870159802,
                45.5123542857052
               ],
               [
                -73.6881524418874,
                45.5100541386763
               ],
               [
                -73.6827840991507,
                45.5143258168654
               ],
               [
                -73.6744134053365,
                45.5090285090174
               ],
               [
                -73.6696337564668,
                45.5063911079337
               ],
               [
                -73.6673976326861,
                45.5049604588181
               ],
               [
                -73.6660099573454,
                45.5044347648104
               ],
               [
                -73.6644157884018,
                45.5050492992242
               ],
               [
                -73.6646042365099,
                45.504734675849
               ],
               [
                -73.6681641565442,
                45.501660999668
               ],
               [
                -73.67484741122,
                45.4963374151867
               ],
               [
                -73.680502634204,
                45.4920408059609
               ],
               [
                -73.6825483439594,
                45.4907732405381
               ],
               [
                -73.6860100016197,
                45.4896024241141
               ],
               [
                -73.677264286648,
                45.4836591822082
               ],
               [
                -73.6776271543493,
                45.4823345919293
               ],
               [
                -73.6827804258142,
                45.4635658825978
               ],
               [
                -73.6933043566279,
                45.4703396575946
               ],
               [
                -73.6947785817616,
                45.4645178045181
               ],
               [
                -73.69619836572,
                45.4654974169452
               ],
               [
                -73.7047665432935,
                45.4712980390786
               ],
               [
                -73.7080097103994,
                45.47334246671
               ],
               [
                -73.7221390583544,
                45.4826358450705
               ],
               [
                -73.7241021941398,
                45.4814064808358
               ],
               [
                -73.7315756591541,
                45.4757155112906
               ],
               [
                -73.7423991292426,
                45.4671531227456
               ],
               [
                -73.74247528623,
                45.4670360365519
               ],
               [
                -73.7505933570667,
                45.4606744381013
               ],
               [
                -73.7626492898165,
                45.4684579890562
               ],
               [
                -73.7623181805669,
                45.4687557278511
               ],
               [
                -73.7684606113614,
                45.4749503791392
               ],
               [
                -73.7661156464615,
                45.4767286467613
               ],
               [
                -73.7690019457786,
                45.4785035754768
               ],
               [
                -73.7741729540726,
                45.4818386741628
               ],
               [
                -73.7681746120908,
                45.4847594283289
               ],
               [
                -73.7678463791609,
                45.485678039566
               ],
               [
                -73.7664813956616,
                45.486482172257
               ],
               [
                -73.7666703097771,
                45.4885693048636
               ],
               [
                -73.7671205072924,
                45.4890902137182
               ],
               [
                -73.7645934137213,
                45.4903739088715
               ],
               [
                -73.7681822983003,
                45.4944507802049
               ],
               [
                -73.767927191601,
                45.4946223655038
               ],
               [
                -73.7708534417468,
                45.4965141396676
               ],
               [
                -73.7735738316828,
                45.4981363521851
               ],
               [
                -73.7716579558132,
                45.4991257181769
               ],
               [
                -73.7738796981111,
                45.5005112554049
               ],
               [
                -73.770851931212,
                45.5015263075263
               ],
               [
                -73.7725018897261,
                45.5025715611262
               ],
               [
                -73.7709616412032,
                45.5034073001873
               ],
               [
                -73.7692002551043,
                45.5040137486001
               ],
               [
                -73.7671979733428,
                45.5027497284985
               ],
               [
                -73.7653841918245,
                45.5034648112556
               ],
               [
                -73.764601206777,
                45.5029446682134
               ],
               [
                -73.7638615520544,
                45.5034953365559
               ],
               [
                -73.7609994664832,
                45.5016752336666
               ],
               [
                -73.7594306007504,
                45.5027766325504
               ],
               [
                -73.7582371682807,
                45.5020414841587
               ],
               [
                -73.756652358581,
                45.5024589334263
               ],
               [
                -73.7547114610262,
                45.5033812068779
               ],
               [
                -73.7530750881715,
                45.5037537247243
               ],
               [
                -73.7516832079437,
                45.5044227485347
               ],
               [
                -73.7550630650544,
                45.5065238038199
               ],
               [
                -73.7350991221023,
                45.5137867482303
               ],
               [
                -73.7285097856203,
                45.5160943522463
               ],
               [
                -73.7358987648866,
                45.5207291683311
               ],
               [
                -73.7317546325275,
                45.5236815365784
               ],
               [
                -73.7280602953464,
                45.5213554616816
               ],
               [
                -73.7217031155859,
                45.5267447688191
               ],
               [
                -73.7185119695016,
                45.5247508136954
               ],
               [
                -73.7172924358234,
                45.5256928911099
               ],
               [
                -73.7145584630039,
                45.5239315629596
               ],
               [
                -73.7131122096208,
                45.5251637887575
               ],
               [
                -73.7112612170074,
                45.5243023856458
               ],
               [
                -73.7091218538247,
                45.5230954877394
               ]
              ]
             ],
             "type": "Polygon"
            },
            "id": "141",
            "properties": {
             "district": "141-Côte-de-Liesse"
            },
            "type": "Feature"
           },
           {
            "geometry": {
             "coordinates": [
              [
               [
                -73.6510270564502,
                45.5263874543882
               ],
               [
                -73.6529551695687,
                45.5229726150982
               ],
               [
                -73.6580588118226,
                45.5152954959574
               ],
               [
                -73.6620316014577,
                45.509044066038
               ],
               [
                -73.6644157884018,
                45.5050492992242
               ],
               [
                -73.6660099573454,
                45.5044347648104
               ],
               [
                -73.6673976326861,
                45.5049604588181
               ],
               [
                -73.6696337564668,
                45.5063911079337
               ],
               [
                -73.6744134053365,
                45.5090285090174
               ],
               [
                -73.6827840991507,
                45.5143258168654
               ],
               [
                -73.6881524418874,
                45.5100541386763
               ],
               [
                -73.6918870159802,
                45.5123542857052
               ],
               [
                -73.7091218538247,
                45.5230954877394
               ],
               [
                -73.6963296087078,
                45.5276805484038
               ],
               [
                -73.6939612003867,
                45.528347826243
               ],
               [
                -73.6897803429098,
                45.5288476157777
               ],
               [
                -73.6870922504792,
                45.5286619976995
               ],
               [
                -73.685195685208,
                45.5301022578388
               ],
               [
                -73.683124268159,
                45.5305991300384
               ],
               [
                -73.6764129283619,
                45.5321264506516
               ],
               [
                -73.6747555535799,
                45.5323081056009
               ],
               [
                -73.6726124365382,
                45.5322997327559
               ],
               [
                -73.6698852350516,
                45.5318835785726
               ],
               [
                -73.6555330494037,
                45.5277342274232
               ],
               [
                -73.6510270564502,
                45.5263874543882
               ]
              ]
             ],
             "type": "Polygon"
            },
            "id": "142",
            "properties": {
             "district": "142-Norman-McLaren"
            },
            "type": "Feature"
           },
           {
            "geometry": {
             "coordinates": [
              [
               [
                -73.5696609688417,
                45.5965806032278
               ],
               [
                -73.5687432258054,
                45.5949521683749
               ],
               [
                -73.5690474086577,
                45.5937353194892
               ],
               [
                -73.5686767639537,
                45.5922969983003
               ],
               [
                -73.5663609324088,
                45.5883396268265
               ],
               [
                -73.5642246834943,
                45.5872483268508
               ],
               [
                -73.5642198577817,
                45.5854079588427
               ],
               [
                -73.563949176176,
                45.5849798671748
               ],
               [
                -73.566054883333,
                45.5843176844033
               ],
               [
                -73.5648413846768,
                45.5830623920281
               ],
               [
                -73.5683754804235,
                45.5814045757918
               ],
               [
                -73.5694653361432,
                45.5816630209033
               ],
               [
                -73.5732723109658,
                45.5829252463303
               ],
               [
                -73.5742252628096,
                45.5830975713343
               ],
               [
                -73.5790395581623,
                45.5832311484519
               ],
               [
                -73.5817361693186,
                45.5828435232896
               ],
               [
                -73.5850508708636,
                45.5817485572606
               ],
               [
                -73.5872765077617,
                45.5817600646972
               ],
               [
                -73.5896208961855,
                45.5825234015516
               ],
               [
                -73.5927968176961,
                45.5840511668496
               ],
               [
                -73.5944959844225,
                45.585037876555
               ],
               [
                -73.5961671053026,
                45.5863788582573
               ],
               [
                -73.5985181690096,
                45.5893118445279
               ],
               [
                -73.6020871279873,
                45.5931683856944
               ],
               [
                -73.6032485083726,
                45.5942192930034
               ],
               [
                -73.6086990780645,
                45.5965789895409
               ],
               [
                -73.6101417757025,
                45.5974474797099
               ],
               [
                -73.6116347298964,
                45.5986698542549
               ],
               [
                -73.6130354491493,
                45.6003781128039
               ],
               [
                -73.61467650443,
                45.601820884038
               ],
               [
                -73.6125635803426,
                45.604373796832
               ],
               [
                -73.6092890313816,
                45.6081470965116
               ],
               [
                -73.6079197060538,
                45.6094530924621
               ],
               [
                -73.6062298901187,
                45.610759685103
               ],
               [
                -73.6048043091085,
                45.6094292879636
               ],
               [
                -73.6035616092243,
                45.6101078733853
               ],
               [
                -73.6041139394664,
                45.6106174089674
               ],
               [
                -73.6028907661658,
                45.6112216102358
               ],
               [
                -73.6013378366857,
                45.6104025414741
               ],
               [
                -73.5971103983983,
                45.6085989887758
               ],
               [
                -73.5889961999073,
                45.6050220349527
               ],
               [
                -73.5771288919308,
                45.599852413767
               ],
               [
                -73.576232424293,
                45.5992577290381
               ],
               [
                -73.5745938220503,
                45.5986717630315
               ],
               [
                -73.5726733802096,
                45.5977479911912
               ],
               [
                -73.5696609688417,
                45.5965806032278
               ]
              ]
             ],
             "type": "Polygon"
            },
            "id": "151",
            "properties": {
             "district": "151-Saint-Léonard-Est"
            },
            "type": "Feature"
           },
           {
            "geometry": {
             "coordinates": [
              [
               [
                -73.5694653361432,
                45.5816630209033
               ],
               [
                -73.5705509760525,
                45.5814521659595
               ],
               [
                -73.5709328233077,
                45.5809046758787
               ],
               [
                -73.5739953109801,
                45.5819266091566
               ],
               [
                -73.5752604702031,
                45.5805388907561
               ],
               [
                -73.578130955202,
                45.5780689341974
               ],
               [
                -73.5772385119147,
                45.5776818920023
               ],
               [
                -73.584731908233,
                45.5691066724291
               ],
               [
                -73.5871520545273,
                45.566412729231
               ],
               [
                -73.5874046777632,
                45.5664890958155
               ],
               [
                -73.5986381445569,
                45.5714628841478
               ],
               [
                -73.6016424297946,
                45.5727835347079
               ],
               [
                -73.6005459884454,
                45.5740149891614
               ],
               [
                -73.6023753660902,
                45.5742891313383
               ],
               [
                -73.6043589520305,
                45.5755705351656
               ],
               [
                -73.6113135304111,
                45.5785547523195
               ],
               [
                -73.6148320474836,
                45.580191303428
               ],
               [
                -73.6208358233192,
                45.5828408672289
               ],
               [
                -73.623269111324,
                45.5839925896586
               ],
               [
                -73.6242513055513,
                45.5846473290482
               ],
               [
                -73.6267569494518,
                45.5854624669655
               ],
               [
                -73.6280749026379,
                45.5838243220039
               ],
               [
                -73.6288186186035,
                45.5832571469721
               ],
               [
                -73.6296215435427,
                45.5838130726522
               ],
               [
                -73.6202427208594,
                45.5951205335532
               ],
               [
                -73.61467650443,
                45.601820884038
               ],
               [
                -73.6130354491493,
                45.6003781128039
               ],
               [
                -73.6116347298964,
                45.5986698542549
               ],
               [
                -73.6101417757025,
                45.5974474797099
               ],
               [
                -73.6086990780645,
                45.5965789895409
               ],
               [
                -73.6032485083726,
                45.5942192930034
               ],
               [
                -73.6020871279873,
                45.5931683856944
               ],
               [
                -73.5985181690096,
                45.5893118445279
               ],
               [
                -73.5961671053026,
                45.5863788582573
               ],
               [
                -73.5944959844225,
                45.585037876555
               ],
               [
                -73.5927968176961,
                45.5840511668496
               ],
               [
                -73.5896208961855,
                45.5825234015516
               ],
               [
                -73.5872765077617,
                45.5817600646972
               ],
               [
                -73.5850508708636,
                45.5817485572606
               ],
               [
                -73.5817361693186,
                45.5828435232896
               ],
               [
                -73.5790395581623,
                45.5832311484519
               ],
               [
                -73.5742252628096,
                45.5830975713343
               ],
               [
                -73.5732723109658,
                45.5829252463303
               ],
               [
                -73.5694653361432,
                45.5816630209033
               ]
              ]
             ],
             "type": "Polygon"
            },
            "id": "152",
            "properties": {
             "district": "152-Saint-Léonard-Ouest"
            },
            "type": "Feature"
           },
           {
            "geometry": {
             "coordinates": [
              [
               [
                -73.5390758626817,
                45.4883382585102
               ],
               [
                -73.5377390087046,
                45.4867781311819
               ],
               [
                -73.5371875080419,
                45.4847716425103
               ],
               [
                -73.5390896331107,
                45.4789579782257
               ],
               [
                -73.5400605004001,
                45.4771849523131
               ],
               [
                -73.5409045352268,
                45.4770676622637
               ],
               [
                -73.544790989561,
                45.4746546504853
               ],
               [
                -73.547897885736,
                45.4732945786535
               ],
               [
                -73.5519632604747,
                45.4713851205092
               ],
               [
                -73.5535995299322,
                45.4704935184097
               ],
               [
                -73.5561183847095,
                45.4699434381887
               ],
               [
                -73.5571517699907,
                45.4699658746605
               ],
               [
                -73.5630845502664,
                45.4721519332886
               ],
               [
                -73.5629773154921,
                45.472291406797
               ],
               [
                -73.5680238353449,
                45.4742185784751
               ],
               [
                -73.5698754985218,
                45.474526598925
               ],
               [
                -73.5723445217071,
                45.4741023764959
               ],
               [
                -73.5731337395658,
                45.4754020852012
               ],
               [
                -73.5751431743146,
                45.4755655583636
               ],
               [
                -73.5776045371727,
                45.4761591293053
               ],
               [
                -73.5787522413781,
                45.4747754151352
               ],
               [
                -73.5814009760351,
                45.4720006793341
               ],
               [
                -73.5831499688592,
                45.4704494618721
               ],
               [
                -73.586192167734,
                45.4685776819367
               ],
               [
                -73.5902980753151,
                45.4669303074751
               ],
               [
                -73.593418397905,
                45.4661730419256
               ],
               [
                -73.5952982354664,
                45.4653094409894
               ],
               [
                -73.5969113989909,
                45.4662290782584
               ],
               [
                -73.6006750017194,
                45.4693265503939
               ],
               [
                -73.6015380888098,
                45.4698449656495
               ],
               [
                -73.5995923966142,
                45.4714885118876
               ],
               [
                -73.5966486659517,
                45.4732210790839
               ],
               [
                -73.5951347718664,
                45.4764466331536
               ],
               [
                -73.5861251156067,
                45.4827228896224
               ],
               [
                -73.5851119123332,
                45.4822361060294
               ],
               [
                -73.5842729287511,
                45.4830658950147
               ],
               [
                -73.5806528881796,
                45.4855782409323
               ],
               [
                -73.5812577295116,
                45.4863226865868
               ],
               [
                -73.5788051804801,
                45.4879299741214
               ],
               [
                -73.5726247033677,
                45.4927252183027
               ],
               [
                -73.5671882558807,
                45.4901263927885
               ],
               [
                -73.5653550896585,
                45.4921968620631
               ],
               [
                -73.5630011277184,
                45.4954107671203
               ],
               [
                -73.561988917097,
                45.497173589984
               ],
               [
                -73.5607477815647,
                45.4979125426916
               ],
               [
                -73.5594748545018,
                45.4973055470605
               ],
               [
                -73.5559728136711,
                45.4959454567625
               ],
               [
                -73.5545777017417,
                45.4947339282606
               ],
               [
                -73.5533130105218,
                45.4921853756885
               ],
               [
                -73.5524160214136,
                45.4912899988865
               ],
               [
                -73.5507109567109,
                45.4904150448375
               ],
               [
                -73.5496180493079,
                45.4900890295113
               ],
               [
                -73.5411879980439,
                45.4884799718781
               ],
               [
                -73.5398824970348,
                45.4880751564896
               ],
               [
                -73.5390758626817,
                45.4883382585102
               ]
              ]
             ],
             "type": "Polygon"
            },
            "id": "161",
            "properties": {
             "district": "161-Saint-HenriPetite-BourgognePointe-Saint-Charles"
            },
            "type": "Feature"
           },
           {
            "geometry": {
             "coordinates": [
              [
               [
                -73.5803978450664,
                45.4607242060317
               ],
               [
                -73.580383848446,
                45.45869859258
               ],
               [
                -73.5808415940198,
                45.4566805659982
               ],
               [
                -73.5822612868352,
                45.4543201865436
               ],
               [
                -73.5841878662571,
                45.4525126975338
               ],
               [
                -73.5873026203887,
                45.4501968887305
               ],
               [
                -73.5895426922804,
                45.4479760865095
               ],
               [
                -73.590317536462,
                45.4476444830976
               ],
               [
                -73.5946364116012,
                45.4432356001591
               ],
               [
                -73.5993656298056,
                45.437522488597
               ],
               [
                -73.5996082895714,
                45.4375187309259
               ],
               [
                -73.6118008558715,
                45.4394499728596
               ],
               [
                -73.6104503124607,
                45.4429793199455
               ],
               [
                -73.6094089858961,
                45.4442773154325
               ],
               [
                -73.6052123848584,
                45.4479821667775
               ],
               [
                -73.6048092799479,
                45.4489130784869
               ],
               [
                -73.6068239912076,
                45.4545470690524
               ],
               [
                -73.6136079881888,
                45.4576954341346
               ],
               [
                -73.6201147014597,
                45.4548257159799
               ],
               [
                -73.622324477466,
                45.4535901866228
               ],
               [
                -73.6255515041789,
                45.4513172221793
               ],
               [
                -73.6269986444794,
                45.4501430927141
               ],
               [
                -73.6288149375869,
                45.4482900651074
               ],
               [
                -73.6290926270452,
                45.4483946176344
               ],
               [
                -73.6320301276656,
                45.4495010416609
               ],
               [
                -73.6351722497066,
                45.4507225431116
               ],
               [
                -73.6350181512615,
                45.4509158064615
               ],
               [
                -73.6314544395632,
                45.4527593013115
               ],
               [
                -73.6262003043123,
                45.4574918787775
               ],
               [
                -73.6243236842049,
                45.4586553508057
               ],
               [
                -73.6200562870233,
                45.4616683026575
               ],
               [
                -73.6182352042185,
                45.4622268121902
               ],
               [
                -73.6157015928197,
                45.4632907897894
               ],
               [
                -73.6121904900053,
                45.4648542087469
               ],
               [
                -73.6116004847967,
                45.4647691120724
               ],
               [
                -73.6058459619009,
                45.4672881102352
               ],
               [
                -73.6056266168094,
                45.4676031109374
               ],
               [
                -73.6031619796725,
                45.4691032161751
               ],
               [
                -73.6025897276388,
                45.4690525247808
               ],
               [
                -73.6015380888098,
                45.4698449656495
               ],
               [
                -73.6006750017194,
                45.4693265503939
               ],
               [
                -73.5969113989909,
                45.4662290782584
               ],
               [
                -73.5952982354664,
                45.4653094409894
               ],
               [
                -73.593418397905,
                45.4661730419256
               ],
               [
                -73.5902980753151,
                45.4669303074751
               ],
               [
                -73.586192167734,
                45.4685776819367
               ],
               [
                -73.5831499688592,
                45.4704494618721
               ],
               [
                -73.5814009760351,
                45.4720006793341
               ],
               [
                -73.5787522413781,
                45.4747754151352
               ],
               [
                -73.5776045371727,
                45.4761591293053
               ],
               [
                -73.5751431743146,
                45.4755655583636
               ],
               [
                -73.5731337395658,
                45.4754020852012
               ],
               [
                -73.5723445217071,
                45.4741023764959
               ],
               [
                -73.5717046710668,
                45.4728345777635
               ],
               [
                -73.5722263249864,
                45.4666080942859
               ],
               [
                -73.5725692397967,
                45.4663779997673
               ],
               [
                -73.5760636235492,
                45.4665267227639
               ],
               [
                -73.57595438059,
                45.467731089093
               ],
               [
                -73.5774466724098,
                45.4677934094142
               ],
               [
                -73.5787521792962,
                45.467573327191
               ],
               [
                -73.5788688512642,
                45.4664809032158
               ],
               [
                -73.5806776025411,
                45.4665598624633
               ],
               [
                -73.5810988106852,
                45.464472934997
               ],
               [
                -73.5809592544789,
                45.4629192039784
               ],
               [
                -73.5803978450664,
                45.4607242060317
               ]
              ]
             ],
             "type": "Polygon"
            },
            "id": "162",
            "properties": {
             "district": "162-Saint-PaulÉmard"
            },
            "type": "Feature"
           },
           {
            "geometry": {
             "coordinates": [
              [
               [
                [
                 -73.561675647957,
                 45.457026812229
                ],
                [
                 -73.5636503131163,
                 45.4570986393357
                ],
                [
                 -73.5631589565038,
                 45.4599505630657
                ],
                [
                 -73.5803978450664,
                 45.4607242060317
                ],
                [
                 -73.5809592544789,
                 45.4629192039784
                ],
                [
                 -73.5810988106852,
                 45.464472934997
                ],
                [
                 -73.5806776025411,
                 45.4665598624633
                ],
                [
                 -73.5788688512642,
                 45.4664809032158
                ],
                [
                 -73.5787521792962,
                 45.467573327191
                ],
                [
                 -73.5774466724098,
                 45.4677934094142
                ],
                [
                 -73.57595438059,
                 45.467731089093
                ],
                [
                 -73.5760636235492,
                 45.4665267227639
                ],
                [
                 -73.5725692397967,
                 45.4663779997673
                ],
                [
                 -73.5722263249864,
                 45.4666080942859
                ],
                [
                 -73.5717046710668,
                 45.4728345777635
                ],
                [
                 -73.5723445217071,
                 45.4741023764959
                ],
                [
                 -73.5698754985218,
                 45.474526598925
                ],
                [
                 -73.5680238353449,
                 45.4742185784751
                ],
                [
                 -73.5629773154921,
                 45.472291406797
                ],
                [
                 -73.5630845502664,
                 45.4721519332886
                ],
                [
                 -73.5571517699907,
                 45.4699658746605
                ],
                [
                 -73.5566742286267,
                 45.4697998242277
                ],
                [
                 -73.5564729236705,
                 45.4697250295537
                ],
                [
                 -73.5568919723525,
                 45.4692509155842
                ],
                [
                 -73.5584979993156,
                 45.4688652320405
                ],
                [
                 -73.5594741255912,
                 45.4680886833354
                ],
                [
                 -73.5600314607336,
                 45.4630762897765
                ],
                [
                 -73.5602070432843,
                 45.4599716856435
                ],
                [
                 -73.5604361685249,
                 45.458927727929
                ],
                [
                 -73.561675647957,
                 45.457026812229
                ]
               ]
              ],
              [
               [
                [
                 -73.531939269639,
                 45.4668762388698
                ],
                [
                 -73.533282030383,
                 45.4668218592047
                ],
                [
                 -73.5391619813113,
                 45.4629235420104
                ],
                [
                 -73.5399777236207,
                 45.4591888832885
                ],
                [
                 -73.5484320046815,
                 45.4470555292603
                ],
                [
                 -73.5539781715369,
                 45.4450013623675
                ],
                [
                 -73.5598960265295,
                 45.4441434701074
                ],
                [
                 -73.5620234184536,
                 45.4489835563647
                ],
                [
                 -73.5598289224776,
                 45.4530789952144
                ],
                [
                 -73.5597287567806,
                 45.4550947277761
                ],
                [
                 -73.5567932176119,
                 45.4601984189426
                ],
                [
                 -73.5563771935053,
                 45.4660746682549
                ],
                [
                 -73.5556877795518,
                 45.4672628311292
                ],
                [
                 -73.5517365614674,
                 45.4676966587134
                ],
                [
                 -73.5498323828317,
                 45.4691552202777
                ],
                [
                 -73.5458565074551,
                 45.4710106620399
                ],
                [
                 -73.544425597308,
                 45.472837915256
                ],
                [
                 -73.541638672543,
                 45.4745667491612
                ],
                [
                 -73.539337021061,
                 45.4752874231563
                ],
                [
                 -73.5374306118892,
                 45.4744062177182
                ],
                [
                 -73.5344866609104,
                 45.4708347638261
                ],
                [
                 -73.5344988591904,
                 45.4699079767891
                ],
                [
                 -73.5334499941273,
                 45.4695573443126
                ],
                [
                 -73.531939269639,
                 45.4668762388698
                ]
               ]
              ]
             ],
             "type": "MultiPolygon"
            },
            "id": "171",
            "properties": {
             "district": "171-ChamplainL'Île-des-Soeurs"
            },
            "type": "Feature"
           },
           {
            "geometry": {
             "coordinates": [
              [
               [
                -73.5837871545249,
                45.4350036826887
               ],
               [
                -73.5993656298056,
                45.437522488597
               ],
               [
                -73.5946364116012,
                45.4432356001591
               ],
               [
                -73.590317536462,
                45.4476444830976
               ],
               [
                -73.5895426922804,
                45.4479760865095
               ],
               [
                -73.5873026203887,
                45.4501968887305
               ],
               [
                -73.5841878662571,
                45.4525126975338
               ],
               [
                -73.5822612868352,
                45.4543201865436
               ],
               [
                -73.5808415940198,
                45.4566805659982
               ],
               [
                -73.580383848446,
                45.45869859258
               ],
               [
                -73.5803978450664,
                45.4607242060317
               ],
               [
                -73.5631589565038,
                45.4599505630657
               ],
               [
                -73.5636503131163,
                45.4570986393357
               ],
               [
                -73.561675647957,
                45.457026812229
               ],
               [
                -73.5644316339364,
                45.4531214887569
               ],
               [
                -73.5653629828168,
                45.4514382552214
               ],
               [
                -73.5666188947215,
                45.4498773089445
               ],
               [
                -73.5684785830554,
                45.4481879229679
               ],
               [
                -73.5692699550472,
                45.4471436069185
               ],
               [
                -73.5705853638418,
                45.446107961992
               ],
               [
                -73.5722579304274,
                45.444469116852
               ],
               [
                -73.5739182313887,
                45.4433612189646
               ],
               [
                -73.5756800507555,
                45.4416593600233
               ],
               [
                -73.5779148011138,
                45.4400830529182
               ],
               [
                -73.5837871545249,
                45.4350036826887
               ]
              ]
             ],
             "type": "Polygon"
            },
            "id": "172",
            "properties": {
             "district": "172-Desmarchais-Crawford"
            },
            "type": "Feature"
           },
           {
            "geometry": {
             "coordinates": [
              [
               [
                -73.5734800018833,
                45.5049709717948
               ],
               [
                -73.5674300859224,
                45.5019457643141
               ],
               [
                -73.5651563545969,
                45.5009257536286
               ],
               [
                -73.5607477815647,
                45.4979125426916
               ],
               [
                -73.561988917097,
                45.497173589984
               ],
               [
                -73.5630011277184,
                45.4954107671203
               ],
               [
                -73.5653550896585,
                45.4921968620631
               ],
               [
                -73.5671882558807,
                45.4901263927885
               ],
               [
                -73.5726247033677,
                45.4927252183027
               ],
               [
                -73.5788051804801,
                45.4879299741214
               ],
               [
                -73.5812577295116,
                45.4863226865868
               ],
               [
                -73.583103429338,
                45.4880924257338
               ],
               [
                -73.5822957867321,
                45.4883263628527
               ],
               [
                -73.5956809652028,
                45.4926003378767
               ],
               [
                -73.5964675380297,
                45.491704867985
               ],
               [
                -73.6012074615523,
                45.4937019439569
               ],
               [
                -73.6009266859408,
                45.4942697485875
               ],
               [
                -73.6045082688859,
                45.4947060857692
               ],
               [
                -73.6068399722065,
                45.4952769144878
               ],
               [
                -73.6044775189475,
                45.4952226776326
               ],
               [
                -73.6033750499038,
                45.4967309718248
               ],
               [
                -73.6009279740317,
                45.4988800346583
               ],
               [
                -73.5997960499359,
                45.5001439911523
               ],
               [
                -73.5977240363362,
                45.5016310280474
               ],
               [
                -73.594737745289,
                45.5028667176493
               ],
               [
                -73.5941401789655,
                45.5033436344744
               ],
               [
                -73.5956108742759,
                45.504064067218
               ],
               [
                -73.591464574106,
                45.508070751295
               ],
               [
                -73.594191031848,
                45.5097864575692
               ],
               [
                -73.5935088435771,
                45.5105257693584
               ],
               [
                -73.5949672180747,
                45.5109069459258
               ],
               [
                -73.5969012890154,
                45.5117790625741
               ],
               [
                -73.5969405107098,
                45.5130415385056
               ],
               [
                -73.598896296438,
                45.5131127563816
               ],
               [
                -73.5978614314752,
                45.5141637733071
               ],
               [
                -73.5968586638591,
                45.5145623065118
               ],
               [
                -73.5918451342772,
                45.5144729450241
               ],
               [
                -73.5911992183544,
                45.5147110287094
               ],
               [
                -73.5902604532774,
                45.5157813641729
               ],
               [
                -73.5893088980696,
                45.5167596569974
               ],
               [
                -73.582430798457,
                45.5136019767056
               ],
               [
                -73.5786781018666,
                45.5117608495828
               ],
               [
                -73.5785542203746,
                45.5104511791594
               ],
               [
                -73.580113792401,
                45.5081921313855
               ],
               [
                -73.5734800018833,
                45.5049709717948
               ]
              ]
             ],
             "type": "Polygon"
            },
            "id": "181",
            "properties": {
             "district": "181-Peter-McGill"
            },
            "type": "Feature"
           },
           {
            "geometry": {
             "coordinates": [
              [
               [
                -73.5448806808084,
                45.5191907535652
               ],
               [
                -73.5464379266303,
                45.5162854363298
               ],
               [
                -73.5468620115755,
                45.513857976795
               ],
               [
                -73.5492190367874,
                45.5102959685844
               ],
               [
                -73.5477210054261,
                45.5103219824598
               ],
               [
                -73.5469030036515,
                45.5117340389128
               ],
               [
                -73.54657799908,
                45.5129270270646
               ],
               [
                -73.5456969917881,
                45.512357998283
               ],
               [
                -73.5463640090514,
                45.5093239803744
               ],
               [
                -73.549695020088,
                45.5092129682665
               ],
               [
                -73.550625003396,
                45.5079019928894
               ],
               [
                -73.5467100456003,
                45.5077980094498
               ],
               [
                -73.5469790182482,
                45.5067930379886
               ],
               [
                -73.5514338758453,
                45.5065970940784
               ],
               [
                -73.5520469804644,
                45.5053720127641
               ],
               [
                -73.5473670408895,
                45.5056550070783
               ],
               [
                -73.5477130465639,
                45.5046509913685
               ],
               [
                -73.552496564402,
                45.5042657932143
               ],
               [
                -73.5528089694944,
                45.5031050102093
               ],
               [
                -73.5479779947401,
                45.5032960364571
               ],
               [
                -73.5483780292475,
                45.5021840045336
               ],
               [
                -73.5528640439438,
                45.5019529839854
               ],
               [
                -73.5523299208625,
                45.4996958153214
               ],
               [
                -73.5495469612169,
                45.4995170102135
               ],
               [
                -73.5501069846685,
                45.4916750357777
               ],
               [
                -73.5489559611269,
                45.4916509673111
               ],
               [
                -73.5478249505202,
                45.4998100412319
               ],
               [
                -73.5461249747178,
                45.4997069784511
               ],
               [
                -73.5466960251749,
                45.494926043877
               ],
               [
                -73.5457370062228,
                45.4948960144495
               ],
               [
                -73.5450679617308,
                45.4999819687279
               ],
               [
                -73.5437740015677,
                45.5074910365882
               ],
               [
                -73.5427789476457,
                45.5078289768043
               ],
               [
                -73.542713028629,
                45.5014819775582
               ],
               [
                -73.5425669725168,
                45.4977269821455
               ],
               [
                -73.5411679652957,
                45.4913989983256
               ],
               [
                -73.5390758626817,
                45.4883382585102
               ],
               [
                -73.5398824970348,
                45.4880751564896
               ],
               [
                -73.5411879980439,
                45.4884799718781
               ],
               [
                -73.5496180493079,
                45.4900890295113
               ],
               [
                -73.5507109567109,
                45.4904150448375
               ],
               [
                -73.5524160214136,
                45.4912899988865
               ],
               [
                -73.5533130105218,
                45.4921853756885
               ],
               [
                -73.5545777017417,
                45.4947339282606
               ],
               [
                -73.5559728136711,
                45.4959454567625
               ],
               [
                -73.5594748545018,
                45.4973055470605
               ],
               [
                -73.5607477815647,
                45.4979125426916
               ],
               [
                -73.5651563545969,
                45.5009257536286
               ],
               [
                -73.5674300859224,
                45.5019457643141
               ],
               [
                -73.5734800018833,
                45.5049709717948
               ],
               [
                -73.5729588302122,
                45.5055494196855
               ],
               [
                -73.571279665339,
                45.5083636436696
               ],
               [
                -73.5655904084691,
                45.5210639273018
               ],
               [
                -73.5655614721314,
                45.5213643879447
               ],
               [
                -73.5652383566418,
                45.5238165260966
               ],
               [
                -73.5568838251035,
                45.5199246700318
               ],
               [
                -73.5537687235941,
                45.5232551201153
               ],
               [
                -73.5497109051325,
                45.521356149553
               ],
               [
                -73.5448806808084,
                45.5191907535652
               ]
              ]
             ],
             "type": "Polygon"
            },
            "id": "182",
            "properties": {
             "district": "182-Saint-Jacques"
            },
            "type": "Feature"
           },
           {
            "geometry": {
             "coordinates": [
              [
               [
                [
                 -73.5274147442424,
                 45.5235135910537
                ],
                [
                 -73.5251840405205,
                 45.5163154069544
                ],
                [
                 -73.5190996853698,
                 45.4964289566498
                ],
                [
                 -73.5196839019087,
                 45.4963133966792
                ],
                [
                 -73.5192316055091,
                 45.4951826206437
                ],
                [
                 -73.5235780132462,
                 45.4965380018334
                ],
                [
                 -73.5262219855313,
                 45.4982100373889
                ],
                [
                 -73.5284680362731,
                 45.4999489748907
                ],
                [
                 -73.5298469696156,
                 45.5015420394984
                ],
                [
                 -73.5305050225488,
                 45.5047999722322
                ],
                [
                 -73.5301920008631,
                 45.5074609662696
                ],
                [
                 -73.5284829714113,
                 45.5111469746062
                ],
                [
                 -73.5295139475797,
                 45.521700975721
                ],
                [
                 -73.5275250227419,
                 45.5218729979917
                ],
                [
                 -73.5274147442424,
                 45.5235135910537
                ]
               ]
              ],
              [
               [
                [
                 -73.5323979026789,
                 45.5309116588315
                ],
                [
                 -73.5322539821252,
                 45.5289053155386
                ],
                [
                 -73.532650406906,
                 45.5287379966455
                ],
                [
                 -73.535473289372,
                 45.5289601566106
                ],
                [
                 -73.5360719733226,
                 45.5280409644584
                ],
                [
                 -73.535776948517,
                 45.527560047342
                ],
                [
                 -73.5344149864457,
                 45.5272360422621
                ],
                [
                 -73.5339490789414,
                 45.5259734056912
                ],
                [
                 -73.5318552691702,
                 45.5248370417729
                ],
                [
                 -73.5314333871381,
                 45.5222881159041
                ],
                [
                 -73.5315020312839,
                 45.5206100031596
                ],
                [
                 -73.5304254498686,
                 45.5175627808954
                ],
                [
                 -73.5300105388493,
                 45.5149954869969
                ],
                [
                 -73.530089354595,
                 45.5141148861583
                ],
                [
                 -73.5320378226962,
                 45.5082952174682
                ],
                [
                 -73.5331764353799,
                 45.5063562405992
                ],
                [
                 -73.5349739836122,
                 45.5062349788193
                ],
                [
                 -73.5356400145159,
                 45.5066940066737
                ],
                [
                 -73.5374959977644,
                 45.5096790170141
                ],
                [
                 -73.5387299917373,
                 45.5139430070273
                ],
                [
                 -73.5384300301647,
                 45.5176120247025
                ],
                [
                 -73.5393770324368,
                 45.5206029708317
                ],
                [
                 -73.5399389592119,
                 45.523607991237
                ],
                [
                 -73.5390530375969,
                 45.5256939673896
                ],
                [
                 -73.5354039767675,
                 45.5305800445252
                ],
                [
                 -73.5342920245728,
                 45.5315010077074
                ],
                [
                 -73.5329380014176,
                 45.53135795749
                ],
                [
                 -73.5323979026789,
                 45.5309116588315
                ]
               ]
              ],
              [
               [
                [
                 -73.5448806808084,
                 45.5191907535652
                ],
                [
                 -73.5497109051325,
                 45.521356149553
                ],
                [
                 -73.5537687235941,
                 45.5232551201153
                ],
                [
                 -73.5568838251035,
                 45.5199246700318
                ],
                [
                 -73.5652383566418,
                 45.5238165260966
                ],
                [
                 -73.5641429566138,
                 45.5273492053093
                ],
                [
                 -73.5613401818778,
                 45.5359226324552
                ],
                [
                 -73.5592280432661,
                 45.5399028690768
                ],
                [
                 -73.550216365092,
                 45.5389758922042
                ],
                [
                 -73.5482541001656,
                 45.5383569002539
                ],
                [
                 -73.5473499781753,
                 45.5376709059424
                ],
                [
                 -73.5439636509721,
                 45.5334697006227
                ],
                [
                 -73.5428587889529,
                 45.5304546205586
                ],
                [
                 -73.5417879567955,
                 45.529933001055
                ],
                [
                 -73.542631029933,
                 45.5272240023092
                ],
                [
                 -73.5433079570219,
                 45.5259280339674
                ],
                [
                 -73.5450449609183,
                 45.5202409952069
                ],
                [
                 -73.5448806808084,
                 45.5191907535652
                ]
               ]
              ]
             ],
             "type": "MultiPolygon"
            },
            "id": "183",
            "properties": {
             "district": "183-Sainte-Marie"
            },
            "type": "Feature"
           },
           {
            "geometry": {
             "coordinates": [
              [
               [
                -73.5986381445569,
                45.5714628841478
               ],
               [
                -73.6027105259893,
                45.5669595870386
               ],
               [
                -73.6076346034193,
                45.5613579100341
               ],
               [
                -73.6093881709895,
                45.5598575160123
               ],
               [
                -73.6142388370954,
                45.5543735967318
               ],
               [
                -73.6161654573353,
                45.5519916303917
               ],
               [
                -73.6217484540132,
                45.5544783077209
               ],
               [
                -73.6240413737876,
                45.5555253903511
               ],
               [
                -73.6453511352974,
                45.5647725775888
               ],
               [
                -73.6446417578686,
                45.5658132919643
               ],
               [
                -73.6362833815582,
                45.5758266113331
               ],
               [
                -73.6363215300962,
                45.5759177646435
               ],
               [
                -73.6327012962769,
                45.5799802985646
               ],
               [
                -73.631962332515,
                45.579640175342
               ],
               [
                -73.6288186186035,
                45.5832571469721
               ],
               [
                -73.6280749026379,
                45.5838243220039
               ],
               [
                -73.6267569494518,
                45.5854624669655
               ],
               [
                -73.6242513055513,
                45.5846473290482
               ],
               [
                -73.623269111324,
                45.5839925896586
               ],
               [
                -73.6208358233192,
                45.5828408672289
               ],
               [
                -73.6148320474836,
                45.580191303428
               ],
               [
                -73.6113135304111,
                45.5785547523195
               ],
               [
                -73.6043589520305,
                45.5755705351656
               ],
               [
                -73.6023753660902,
                45.5742891313383
               ],
               [
                -73.6005459884454,
                45.5740149891614
               ],
               [
                -73.6016424297946,
                45.5727835347079
               ],
               [
                -73.5986381445569,
                45.5714628841478
               ]
              ]
             ],
             "type": "Polygon"
            },
            "id": "191",
            "properties": {
             "district": "191-Saint-Michel"
            },
            "type": "Feature"
           },
           {
            "geometry": {
             "coordinates": [
              [
               [
                -73.5871520545273,
                45.566412729231
               ],
               [
                -73.5863094536503,
                45.5661499995185
               ],
               [
                -73.5910006798707,
                45.5607570868859
               ],
               [
                -73.5975914187124,
                45.553207322408
               ],
               [
                -73.6019471163738,
                45.5481178990012
               ],
               [
                -73.6035398110948,
                45.5463469119155
               ],
               [
                -73.6070387029669,
                45.5479557550382
               ],
               [
                -73.6086846729618,
                45.5461409843801
               ],
               [
                -73.6205880272051,
                45.5514560807313
               ],
               [
                -73.6201064769685,
                45.5520190517324
               ],
               [
                -73.6235005117779,
                45.5536358848324
               ],
               [
                -73.6217484540132,
                45.5544783077209
               ],
               [
                -73.6161654573353,
                45.5519916303917
               ],
               [
                -73.6142388370954,
                45.5543735967318
               ],
               [
                -73.6093881709895,
                45.5598575160123
               ],
               [
                -73.6076346034193,
                45.5613579100341
               ],
               [
                -73.6027105259893,
                45.5669595870386
               ],
               [
                -73.5986381445569,
                45.5714628841478
               ],
               [
                -73.5874046777632,
                45.5664890958155
               ],
               [
                -73.5871520545273,
                45.566412729231
               ]
              ]
             ],
             "type": "Polygon"
            },
            "id": "192",
            "properties": {
             "district": "192-François-Perrault"
            },
            "type": "Feature"
           },
           {
            "geometry": {
             "coordinates": [
              [
               [
                -73.6168611349556,
                45.5357046144078
               ],
               [
                -73.618922206967,
                45.5366652760056
               ],
               [
                -73.6407295659042,
                45.5429686686779
               ],
               [
                -73.6398673671325,
                45.5441488267699
               ],
               [
                -73.6363671046978,
                45.548169415833
               ],
               [
                -73.6342899238824,
                45.5494628161417
               ],
               [
                -73.6325600663803,
                45.5499795021129
               ],
               [
                -73.6301686544477,
                45.5503989164938
               ],
               [
                -73.6278096771011,
                45.5513024018691
               ],
               [
                -73.6235005117779,
                45.5536358848324
               ],
               [
                -73.6201064769685,
                45.5520190517324
               ],
               [
                -73.6205880272051,
                45.5514560807313
               ],
               [
                -73.6086846729618,
                45.5461409843801
               ],
               [
                -73.6123252903368,
                45.5421333051385
               ],
               [
                -73.6144250141163,
                45.5383032859687
               ],
               [
                -73.6168611349556,
                45.5357046144078
               ]
              ]
             ],
             "type": "Polygon"
            },
            "id": "193",
            "properties": {
             "district": "193-Villeray"
            },
            "type": "Feature"
           },
           {
            "geometry": {
             "coordinates": [
              [
               [
                -73.6170925681517,
                45.5277209056734
               ],
               [
                -73.617235572865,
                45.5277835686717
               ],
               [
                -73.6208637881685,
                45.5236565043515
               ],
               [
                -73.6221372911404,
                45.5240220054992
               ],
               [
                -73.6227576775837,
                45.5233405909978
               ],
               [
                -73.6485543103777,
                45.5308320827376
               ],
               [
                -73.6407295659042,
                45.5429686686779
               ],
               [
                -73.618922206967,
                45.5366652760056
               ],
               [
                -73.6168611349556,
                45.5357046144078
               ],
               [
                -73.6182756954315,
                45.5346855542873
               ],
               [
                -73.6215351178101,
                45.5311083503899
               ],
               [
                -73.6190955864224,
                45.5306548374863
               ],
               [
                -73.6174856875378,
                45.5297416402976
               ],
               [
                -73.6170629786343,
                45.5290836882431
               ],
               [
                -73.6170925681517,
                45.5277209056734
               ]
              ]
             ],
             "type": "Polygon"
            },
            "id": "194",
            "properties": {
             "district": "194-Parc-Extension"
            },
            "type": "Feature"
           }
          ],
          "type": "FeatureCollection"
         },
         "hovertemplate": "district=%{location}<br>Bergeron=%{z}<extra></extra>",
         "locations": [
          "101-Bois-de-Liesse",
          "102-Cap-Saint-Jacques",
          "11-Sault-au-Récollet",
          "111-Mile-End",
          "112-DeLorimier",
          "113-Jeanne-Mance",
          "12-Saint-Sulpice",
          "121-La Pointe-aux-Prairies",
          "122-Pointe-aux-Trembles",
          "123-Rivière-des-Prairies",
          "13-Ahuntsic",
          "131-Saint-Édouard",
          "132-Étienne-Desmarteau",
          "133-Vieux-Rosemont",
          "134-Marie-Victorin",
          "14-Bordeaux-Cartierville",
          "141-Côte-de-Liesse",
          "142-Norman-McLaren",
          "151-Saint-Léonard-Est",
          "152-Saint-Léonard-Ouest",
          "161-Saint-HenriPetite-BourgognePointe-Saint-Charles",
          "162-Saint-PaulÉmard",
          "171-ChamplainL'Île-des-Soeurs",
          "172-Desmarchais-Crawford",
          "181-Peter-McGill",
          "182-Saint-Jacques",
          "183-Sainte-Marie",
          "191-Saint-Michel",
          "192-François-Perrault",
          "193-Villeray",
          "194-Parc-Extension",
          "21-Ouest",
          "22-Est",
          "23-Centre",
          "31-Darlington",
          "32-Côte-des-Neiges",
          "33-Snowdon",
          "34-Notre-Dame-de-Grâce",
          "35-Loyola",
          "41-du Canal",
          "42-J.-Émery-Provost",
          "43-Fort-Rolland",
          "51-Sault-Saint-Louis",
          "52-Cecil-P.-Newman",
          "61-Pierre-Foretier",
          "62-Denis-Benjamin-Viger",
          "63-Jacques-Bizard",
          "64-Sainte-Geneviève",
          "71-Tétreaultville",
          "72-MaisonneuveLongue-Pointe",
          "73-Hochelaga",
          "74-Louis-Riel",
          "81-Marie-Clarac",
          "82-Ovide-Clermont",
          "91-Claude-Ryan",
          "92-Joseph-Beaubien",
          "93-Robert-Bourassa",
          "94-Jeanne-Sauvé"
         ],
         "name": "",
         "subplot": "mapbox",
         "type": "choroplethmapbox",
         "z": {
          "bdata": "JQeLBNIKrhItFw8O2QngBlcHvgNmDQgZdBZiE1MMEgYoBbMFcgOgBCgNLAgCCkcK8gJ5CAsL2ANqCrsWAQezAsQCUwOeBJ4H3wVdCp0FQAONArUEagYyBQIB4gDgAIMAHQqyDF8Oggg9BAwDgwJBA9EBugI=",
          "dtype": "i2"
         }
        }
       ],
       "layout": {
        "coloraxis": {
         "colorbar": {
          "title": {
           "text": "Bergeron"
          }
         },
         "colorscale": [
          [
           0,
           "#0d0887"
          ],
          [
           0.1111111111111111,
           "#46039f"
          ],
          [
           0.2222222222222222,
           "#7201a8"
          ],
          [
           0.3333333333333333,
           "#9c179e"
          ],
          [
           0.4444444444444444,
           "#bd3786"
          ],
          [
           0.5555555555555556,
           "#d8576b"
          ],
          [
           0.6666666666666666,
           "#ed7953"
          ],
          [
           0.7777777777777778,
           "#fb9f3a"
          ],
          [
           0.8888888888888888,
           "#fdca26"
          ],
          [
           1,
           "#f0f921"
          ]
         ]
        },
        "legend": {
         "tracegroupgap": 0
        },
        "mapbox": {
         "center": {
          "lat": 45.5517,
          "lon": -73.7073
         },
         "domain": {
          "x": [
           0,
           1
          ],
          "y": [
           0,
           1
          ]
         },
         "style": "carto-positron",
         "zoom": 9
        },
        "margin": {
         "b": 0,
         "l": 0,
         "r": 0,
         "t": 0
        },
        "template": {
         "data": {
          "bar": [
           {
            "error_x": {
             "color": "#2a3f5f"
            },
            "error_y": {
             "color": "#2a3f5f"
            },
            "marker": {
             "line": {
              "color": "#E5ECF6",
              "width": 0.5
             },
             "pattern": {
              "fillmode": "overlay",
              "size": 10,
              "solidity": 0.2
             }
            },
            "type": "bar"
           }
          ],
          "barpolar": [
           {
            "marker": {
             "line": {
              "color": "#E5ECF6",
              "width": 0.5
             },
             "pattern": {
              "fillmode": "overlay",
              "size": 10,
              "solidity": 0.2
             }
            },
            "type": "barpolar"
           }
          ],
          "carpet": [
           {
            "aaxis": {
             "endlinecolor": "#2a3f5f",
             "gridcolor": "white",
             "linecolor": "white",
             "minorgridcolor": "white",
             "startlinecolor": "#2a3f5f"
            },
            "baxis": {
             "endlinecolor": "#2a3f5f",
             "gridcolor": "white",
             "linecolor": "white",
             "minorgridcolor": "white",
             "startlinecolor": "#2a3f5f"
            },
            "type": "carpet"
           }
          ],
          "choropleth": [
           {
            "colorbar": {
             "outlinewidth": 0,
             "ticks": ""
            },
            "type": "choropleth"
           }
          ],
          "contour": [
           {
            "colorbar": {
             "outlinewidth": 0,
             "ticks": ""
            },
            "colorscale": [
             [
              0,
              "#0d0887"
             ],
             [
              0.1111111111111111,
              "#46039f"
             ],
             [
              0.2222222222222222,
              "#7201a8"
             ],
             [
              0.3333333333333333,
              "#9c179e"
             ],
             [
              0.4444444444444444,
              "#bd3786"
             ],
             [
              0.5555555555555556,
              "#d8576b"
             ],
             [
              0.6666666666666666,
              "#ed7953"
             ],
             [
              0.7777777777777778,
              "#fb9f3a"
             ],
             [
              0.8888888888888888,
              "#fdca26"
             ],
             [
              1,
              "#f0f921"
             ]
            ],
            "type": "contour"
           }
          ],
          "contourcarpet": [
           {
            "colorbar": {
             "outlinewidth": 0,
             "ticks": ""
            },
            "type": "contourcarpet"
           }
          ],
          "heatmap": [
           {
            "colorbar": {
             "outlinewidth": 0,
             "ticks": ""
            },
            "colorscale": [
             [
              0,
              "#0d0887"
             ],
             [
              0.1111111111111111,
              "#46039f"
             ],
             [
              0.2222222222222222,
              "#7201a8"
             ],
             [
              0.3333333333333333,
              "#9c179e"
             ],
             [
              0.4444444444444444,
              "#bd3786"
             ],
             [
              0.5555555555555556,
              "#d8576b"
             ],
             [
              0.6666666666666666,
              "#ed7953"
             ],
             [
              0.7777777777777778,
              "#fb9f3a"
             ],
             [
              0.8888888888888888,
              "#fdca26"
             ],
             [
              1,
              "#f0f921"
             ]
            ],
            "type": "heatmap"
           }
          ],
          "histogram": [
           {
            "marker": {
             "pattern": {
              "fillmode": "overlay",
              "size": 10,
              "solidity": 0.2
             }
            },
            "type": "histogram"
           }
          ],
          "histogram2d": [
           {
            "colorbar": {
             "outlinewidth": 0,
             "ticks": ""
            },
            "colorscale": [
             [
              0,
              "#0d0887"
             ],
             [
              0.1111111111111111,
              "#46039f"
             ],
             [
              0.2222222222222222,
              "#7201a8"
             ],
             [
              0.3333333333333333,
              "#9c179e"
             ],
             [
              0.4444444444444444,
              "#bd3786"
             ],
             [
              0.5555555555555556,
              "#d8576b"
             ],
             [
              0.6666666666666666,
              "#ed7953"
             ],
             [
              0.7777777777777778,
              "#fb9f3a"
             ],
             [
              0.8888888888888888,
              "#fdca26"
             ],
             [
              1,
              "#f0f921"
             ]
            ],
            "type": "histogram2d"
           }
          ],
          "histogram2dcontour": [
           {
            "colorbar": {
             "outlinewidth": 0,
             "ticks": ""
            },
            "colorscale": [
             [
              0,
              "#0d0887"
             ],
             [
              0.1111111111111111,
              "#46039f"
             ],
             [
              0.2222222222222222,
              "#7201a8"
             ],
             [
              0.3333333333333333,
              "#9c179e"
             ],
             [
              0.4444444444444444,
              "#bd3786"
             ],
             [
              0.5555555555555556,
              "#d8576b"
             ],
             [
              0.6666666666666666,
              "#ed7953"
             ],
             [
              0.7777777777777778,
              "#fb9f3a"
             ],
             [
              0.8888888888888888,
              "#fdca26"
             ],
             [
              1,
              "#f0f921"
             ]
            ],
            "type": "histogram2dcontour"
           }
          ],
          "mesh3d": [
           {
            "colorbar": {
             "outlinewidth": 0,
             "ticks": ""
            },
            "type": "mesh3d"
           }
          ],
          "parcoords": [
           {
            "line": {
             "colorbar": {
              "outlinewidth": 0,
              "ticks": ""
             }
            },
            "type": "parcoords"
           }
          ],
          "pie": [
           {
            "automargin": true,
            "type": "pie"
           }
          ],
          "scatter": [
           {
            "fillpattern": {
             "fillmode": "overlay",
             "size": 10,
             "solidity": 0.2
            },
            "type": "scatter"
           }
          ],
          "scatter3d": [
           {
            "line": {
             "colorbar": {
              "outlinewidth": 0,
              "ticks": ""
             }
            },
            "marker": {
             "colorbar": {
              "outlinewidth": 0,
              "ticks": ""
             }
            },
            "type": "scatter3d"
           }
          ],
          "scattercarpet": [
           {
            "marker": {
             "colorbar": {
              "outlinewidth": 0,
              "ticks": ""
             }
            },
            "type": "scattercarpet"
           }
          ],
          "scattergeo": [
           {
            "marker": {
             "colorbar": {
              "outlinewidth": 0,
              "ticks": ""
             }
            },
            "type": "scattergeo"
           }
          ],
          "scattergl": [
           {
            "marker": {
             "colorbar": {
              "outlinewidth": 0,
              "ticks": ""
             }
            },
            "type": "scattergl"
           }
          ],
          "scattermap": [
           {
            "marker": {
             "colorbar": {
              "outlinewidth": 0,
              "ticks": ""
             }
            },
            "type": "scattermap"
           }
          ],
          "scattermapbox": [
           {
            "marker": {
             "colorbar": {
              "outlinewidth": 0,
              "ticks": ""
             }
            },
            "type": "scattermapbox"
           }
          ],
          "scatterpolar": [
           {
            "marker": {
             "colorbar": {
              "outlinewidth": 0,
              "ticks": ""
             }
            },
            "type": "scatterpolar"
           }
          ],
          "scatterpolargl": [
           {
            "marker": {
             "colorbar": {
              "outlinewidth": 0,
              "ticks": ""
             }
            },
            "type": "scatterpolargl"
           }
          ],
          "scatterternary": [
           {
            "marker": {
             "colorbar": {
              "outlinewidth": 0,
              "ticks": ""
             }
            },
            "type": "scatterternary"
           }
          ],
          "surface": [
           {
            "colorbar": {
             "outlinewidth": 0,
             "ticks": ""
            },
            "colorscale": [
             [
              0,
              "#0d0887"
             ],
             [
              0.1111111111111111,
              "#46039f"
             ],
             [
              0.2222222222222222,
              "#7201a8"
             ],
             [
              0.3333333333333333,
              "#9c179e"
             ],
             [
              0.4444444444444444,
              "#bd3786"
             ],
             [
              0.5555555555555556,
              "#d8576b"
             ],
             [
              0.6666666666666666,
              "#ed7953"
             ],
             [
              0.7777777777777778,
              "#fb9f3a"
             ],
             [
              0.8888888888888888,
              "#fdca26"
             ],
             [
              1,
              "#f0f921"
             ]
            ],
            "type": "surface"
           }
          ],
          "table": [
           {
            "cells": {
             "fill": {
              "color": "#EBF0F8"
             },
             "line": {
              "color": "white"
             }
            },
            "header": {
             "fill": {
              "color": "#C8D4E3"
             },
             "line": {
              "color": "white"
             }
            },
            "type": "table"
           }
          ]
         },
         "layout": {
          "annotationdefaults": {
           "arrowcolor": "#2a3f5f",
           "arrowhead": 0,
           "arrowwidth": 1
          },
          "autotypenumbers": "strict",
          "coloraxis": {
           "colorbar": {
            "outlinewidth": 0,
            "ticks": ""
           }
          },
          "colorscale": {
           "diverging": [
            [
             0,
             "#8e0152"
            ],
            [
             0.1,
             "#c51b7d"
            ],
            [
             0.2,
             "#de77ae"
            ],
            [
             0.3,
             "#f1b6da"
            ],
            [
             0.4,
             "#fde0ef"
            ],
            [
             0.5,
             "#f7f7f7"
            ],
            [
             0.6,
             "#e6f5d0"
            ],
            [
             0.7,
             "#b8e186"
            ],
            [
             0.8,
             "#7fbc41"
            ],
            [
             0.9,
             "#4d9221"
            ],
            [
             1,
             "#276419"
            ]
           ],
           "sequential": [
            [
             0,
             "#0d0887"
            ],
            [
             0.1111111111111111,
             "#46039f"
            ],
            [
             0.2222222222222222,
             "#7201a8"
            ],
            [
             0.3333333333333333,
             "#9c179e"
            ],
            [
             0.4444444444444444,
             "#bd3786"
            ],
            [
             0.5555555555555556,
             "#d8576b"
            ],
            [
             0.6666666666666666,
             "#ed7953"
            ],
            [
             0.7777777777777778,
             "#fb9f3a"
            ],
            [
             0.8888888888888888,
             "#fdca26"
            ],
            [
             1,
             "#f0f921"
            ]
           ],
           "sequentialminus": [
            [
             0,
             "#0d0887"
            ],
            [
             0.1111111111111111,
             "#46039f"
            ],
            [
             0.2222222222222222,
             "#7201a8"
            ],
            [
             0.3333333333333333,
             "#9c179e"
            ],
            [
             0.4444444444444444,
             "#bd3786"
            ],
            [
             0.5555555555555556,
             "#d8576b"
            ],
            [
             0.6666666666666666,
             "#ed7953"
            ],
            [
             0.7777777777777778,
             "#fb9f3a"
            ],
            [
             0.8888888888888888,
             "#fdca26"
            ],
            [
             1,
             "#f0f921"
            ]
           ]
          },
          "colorway": [
           "#636efa",
           "#EF553B",
           "#00cc96",
           "#ab63fa",
           "#FFA15A",
           "#19d3f3",
           "#FF6692",
           "#B6E880",
           "#FF97FF",
           "#FECB52"
          ],
          "font": {
           "color": "#2a3f5f"
          },
          "geo": {
           "bgcolor": "white",
           "lakecolor": "white",
           "landcolor": "#E5ECF6",
           "showlakes": true,
           "showland": true,
           "subunitcolor": "white"
          },
          "hoverlabel": {
           "align": "left"
          },
          "hovermode": "closest",
          "mapbox": {
           "style": "light"
          },
          "paper_bgcolor": "white",
          "plot_bgcolor": "#E5ECF6",
          "polar": {
           "angularaxis": {
            "gridcolor": "white",
            "linecolor": "white",
            "ticks": ""
           },
           "bgcolor": "#E5ECF6",
           "radialaxis": {
            "gridcolor": "white",
            "linecolor": "white",
            "ticks": ""
           }
          },
          "scene": {
           "xaxis": {
            "backgroundcolor": "#E5ECF6",
            "gridcolor": "white",
            "gridwidth": 2,
            "linecolor": "white",
            "showbackground": true,
            "ticks": "",
            "zerolinecolor": "white"
           },
           "yaxis": {
            "backgroundcolor": "#E5ECF6",
            "gridcolor": "white",
            "gridwidth": 2,
            "linecolor": "white",
            "showbackground": true,
            "ticks": "",
            "zerolinecolor": "white"
           },
           "zaxis": {
            "backgroundcolor": "#E5ECF6",
            "gridcolor": "white",
            "gridwidth": 2,
            "linecolor": "white",
            "showbackground": true,
            "ticks": "",
            "zerolinecolor": "white"
           }
          },
          "shapedefaults": {
           "line": {
            "color": "#2a3f5f"
           }
          },
          "ternary": {
           "aaxis": {
            "gridcolor": "white",
            "linecolor": "white",
            "ticks": ""
           },
           "baxis": {
            "gridcolor": "white",
            "linecolor": "white",
            "ticks": ""
           },
           "bgcolor": "#E5ECF6",
           "caxis": {
            "gridcolor": "white",
            "linecolor": "white",
            "ticks": ""
           }
          },
          "title": {
           "x": 0.05
          },
          "xaxis": {
           "automargin": true,
           "gridcolor": "white",
           "linecolor": "white",
           "ticks": "",
           "title": {
            "standoff": 15
           },
           "zerolinecolor": "white",
           "zerolinewidth": 2
          },
          "yaxis": {
           "automargin": true,
           "gridcolor": "white",
           "linecolor": "white",
           "ticks": "",
           "title": {
            "standoff": 15
           },
           "zerolinecolor": "white",
           "zerolinewidth": 2
          }
         }
        }
       }
      }
     },
     "metadata": {},
     "output_type": "display_data"
    }
   ],
   "source": [
    "import plotly.express as px\n",
    "\n",
    "df = px.data.election()\n",
    "GeoJSON = px.data.election_geojson()\n",
    "\n",
    "print(df['district'][1])\n",
    "print(GeoJSON['features'][0]['properties'])\n",
    "\n",
    "fig = px.choropleth_mapbox(\n",
    "    df,\n",
    "    geojson=GeoJSON,\n",
    "    color='Bergeron',\n",
    "    locations='district',\n",
    "    featureidkey='properties.district',\n",
    "    center={'lat': 45.5517, 'lon': -73.7073},\n",
    "    mapbox_style='carto-positron',\n",
    "    zoom=9\n",
    ")\n",
    "\n",
    "fig.update_layout(margin={'r':0, 't':0, 'l':0, 'b':0})\n",
    "fig.show()"
   ]
  },
  {
   "cell_type": "code",
   "execution_count": 65,
   "id": "cadae89a",
   "metadata": {},
   "outputs": [
    {
     "data": {
      "application/vnd.plotly.v1+json": {
       "config": {
        "plotlyServerURL": "https://plot.ly"
       },
       "data": [
        {
         "colorscale": [
          [
           0,
           "#636efa"
          ],
          [
           1,
           "#636efa"
          ]
         ],
         "geo": "geo",
         "hovertemplate": "country=%{location}<extra></extra>",
         "locationmode": "country names",
         "locations": [
          "Canada",
          "Canada",
          "Canada",
          "Canada",
          "Canada",
          "Canada",
          "Canada",
          "Canada",
          "Canada",
          "Canada",
          "Canada",
          "Canada"
         ],
         "name": "",
         "showlegend": true,
         "showscale": false,
         "type": "choropleth",
         "z": [
          1,
          1,
          1,
          1,
          1,
          1,
          1,
          1,
          1,
          1,
          1,
          1
         ]
        }
       ],
       "layout": {
        "geo": {
         "center": {},
         "domain": {
          "x": [
           0,
           1
          ],
          "y": [
           0,
           1
          ]
         }
        },
        "legend": {
         "tracegroupgap": 0
        },
        "margin": {
         "t": 60
        },
        "template": {
         "data": {
          "bar": [
           {
            "error_x": {
             "color": "#2a3f5f"
            },
            "error_y": {
             "color": "#2a3f5f"
            },
            "marker": {
             "line": {
              "color": "#E5ECF6",
              "width": 0.5
             },
             "pattern": {
              "fillmode": "overlay",
              "size": 10,
              "solidity": 0.2
             }
            },
            "type": "bar"
           }
          ],
          "barpolar": [
           {
            "marker": {
             "line": {
              "color": "#E5ECF6",
              "width": 0.5
             },
             "pattern": {
              "fillmode": "overlay",
              "size": 10,
              "solidity": 0.2
             }
            },
            "type": "barpolar"
           }
          ],
          "carpet": [
           {
            "aaxis": {
             "endlinecolor": "#2a3f5f",
             "gridcolor": "white",
             "linecolor": "white",
             "minorgridcolor": "white",
             "startlinecolor": "#2a3f5f"
            },
            "baxis": {
             "endlinecolor": "#2a3f5f",
             "gridcolor": "white",
             "linecolor": "white",
             "minorgridcolor": "white",
             "startlinecolor": "#2a3f5f"
            },
            "type": "carpet"
           }
          ],
          "choropleth": [
           {
            "colorbar": {
             "outlinewidth": 0,
             "ticks": ""
            },
            "type": "choropleth"
           }
          ],
          "contour": [
           {
            "colorbar": {
             "outlinewidth": 0,
             "ticks": ""
            },
            "colorscale": [
             [
              0,
              "#0d0887"
             ],
             [
              0.1111111111111111,
              "#46039f"
             ],
             [
              0.2222222222222222,
              "#7201a8"
             ],
             [
              0.3333333333333333,
              "#9c179e"
             ],
             [
              0.4444444444444444,
              "#bd3786"
             ],
             [
              0.5555555555555556,
              "#d8576b"
             ],
             [
              0.6666666666666666,
              "#ed7953"
             ],
             [
              0.7777777777777778,
              "#fb9f3a"
             ],
             [
              0.8888888888888888,
              "#fdca26"
             ],
             [
              1,
              "#f0f921"
             ]
            ],
            "type": "contour"
           }
          ],
          "contourcarpet": [
           {
            "colorbar": {
             "outlinewidth": 0,
             "ticks": ""
            },
            "type": "contourcarpet"
           }
          ],
          "heatmap": [
           {
            "colorbar": {
             "outlinewidth": 0,
             "ticks": ""
            },
            "colorscale": [
             [
              0,
              "#0d0887"
             ],
             [
              0.1111111111111111,
              "#46039f"
             ],
             [
              0.2222222222222222,
              "#7201a8"
             ],
             [
              0.3333333333333333,
              "#9c179e"
             ],
             [
              0.4444444444444444,
              "#bd3786"
             ],
             [
              0.5555555555555556,
              "#d8576b"
             ],
             [
              0.6666666666666666,
              "#ed7953"
             ],
             [
              0.7777777777777778,
              "#fb9f3a"
             ],
             [
              0.8888888888888888,
              "#fdca26"
             ],
             [
              1,
              "#f0f921"
             ]
            ],
            "type": "heatmap"
           }
          ],
          "histogram": [
           {
            "marker": {
             "pattern": {
              "fillmode": "overlay",
              "size": 10,
              "solidity": 0.2
             }
            },
            "type": "histogram"
           }
          ],
          "histogram2d": [
           {
            "colorbar": {
             "outlinewidth": 0,
             "ticks": ""
            },
            "colorscale": [
             [
              0,
              "#0d0887"
             ],
             [
              0.1111111111111111,
              "#46039f"
             ],
             [
              0.2222222222222222,
              "#7201a8"
             ],
             [
              0.3333333333333333,
              "#9c179e"
             ],
             [
              0.4444444444444444,
              "#bd3786"
             ],
             [
              0.5555555555555556,
              "#d8576b"
             ],
             [
              0.6666666666666666,
              "#ed7953"
             ],
             [
              0.7777777777777778,
              "#fb9f3a"
             ],
             [
              0.8888888888888888,
              "#fdca26"
             ],
             [
              1,
              "#f0f921"
             ]
            ],
            "type": "histogram2d"
           }
          ],
          "histogram2dcontour": [
           {
            "colorbar": {
             "outlinewidth": 0,
             "ticks": ""
            },
            "colorscale": [
             [
              0,
              "#0d0887"
             ],
             [
              0.1111111111111111,
              "#46039f"
             ],
             [
              0.2222222222222222,
              "#7201a8"
             ],
             [
              0.3333333333333333,
              "#9c179e"
             ],
             [
              0.4444444444444444,
              "#bd3786"
             ],
             [
              0.5555555555555556,
              "#d8576b"
             ],
             [
              0.6666666666666666,
              "#ed7953"
             ],
             [
              0.7777777777777778,
              "#fb9f3a"
             ],
             [
              0.8888888888888888,
              "#fdca26"
             ],
             [
              1,
              "#f0f921"
             ]
            ],
            "type": "histogram2dcontour"
           }
          ],
          "mesh3d": [
           {
            "colorbar": {
             "outlinewidth": 0,
             "ticks": ""
            },
            "type": "mesh3d"
           }
          ],
          "parcoords": [
           {
            "line": {
             "colorbar": {
              "outlinewidth": 0,
              "ticks": ""
             }
            },
            "type": "parcoords"
           }
          ],
          "pie": [
           {
            "automargin": true,
            "type": "pie"
           }
          ],
          "scatter": [
           {
            "fillpattern": {
             "fillmode": "overlay",
             "size": 10,
             "solidity": 0.2
            },
            "type": "scatter"
           }
          ],
          "scatter3d": [
           {
            "line": {
             "colorbar": {
              "outlinewidth": 0,
              "ticks": ""
             }
            },
            "marker": {
             "colorbar": {
              "outlinewidth": 0,
              "ticks": ""
             }
            },
            "type": "scatter3d"
           }
          ],
          "scattercarpet": [
           {
            "marker": {
             "colorbar": {
              "outlinewidth": 0,
              "ticks": ""
             }
            },
            "type": "scattercarpet"
           }
          ],
          "scattergeo": [
           {
            "marker": {
             "colorbar": {
              "outlinewidth": 0,
              "ticks": ""
             }
            },
            "type": "scattergeo"
           }
          ],
          "scattergl": [
           {
            "marker": {
             "colorbar": {
              "outlinewidth": 0,
              "ticks": ""
             }
            },
            "type": "scattergl"
           }
          ],
          "scattermap": [
           {
            "marker": {
             "colorbar": {
              "outlinewidth": 0,
              "ticks": ""
             }
            },
            "type": "scattermap"
           }
          ],
          "scattermapbox": [
           {
            "marker": {
             "colorbar": {
              "outlinewidth": 0,
              "ticks": ""
             }
            },
            "type": "scattermapbox"
           }
          ],
          "scatterpolar": [
           {
            "marker": {
             "colorbar": {
              "outlinewidth": 0,
              "ticks": ""
             }
            },
            "type": "scatterpolar"
           }
          ],
          "scatterpolargl": [
           {
            "marker": {
             "colorbar": {
              "outlinewidth": 0,
              "ticks": ""
             }
            },
            "type": "scatterpolargl"
           }
          ],
          "scatterternary": [
           {
            "marker": {
             "colorbar": {
              "outlinewidth": 0,
              "ticks": ""
             }
            },
            "type": "scatterternary"
           }
          ],
          "surface": [
           {
            "colorbar": {
             "outlinewidth": 0,
             "ticks": ""
            },
            "colorscale": [
             [
              0,
              "#0d0887"
             ],
             [
              0.1111111111111111,
              "#46039f"
             ],
             [
              0.2222222222222222,
              "#7201a8"
             ],
             [
              0.3333333333333333,
              "#9c179e"
             ],
             [
              0.4444444444444444,
              "#bd3786"
             ],
             [
              0.5555555555555556,
              "#d8576b"
             ],
             [
              0.6666666666666666,
              "#ed7953"
             ],
             [
              0.7777777777777778,
              "#fb9f3a"
             ],
             [
              0.8888888888888888,
              "#fdca26"
             ],
             [
              1,
              "#f0f921"
             ]
            ],
            "type": "surface"
           }
          ],
          "table": [
           {
            "cells": {
             "fill": {
              "color": "#EBF0F8"
             },
             "line": {
              "color": "white"
             }
            },
            "header": {
             "fill": {
              "color": "#C8D4E3"
             },
             "line": {
              "color": "white"
             }
            },
            "type": "table"
           }
          ]
         },
         "layout": {
          "annotationdefaults": {
           "arrowcolor": "#2a3f5f",
           "arrowhead": 0,
           "arrowwidth": 1
          },
          "autotypenumbers": "strict",
          "coloraxis": {
           "colorbar": {
            "outlinewidth": 0,
            "ticks": ""
           }
          },
          "colorscale": {
           "diverging": [
            [
             0,
             "#8e0152"
            ],
            [
             0.1,
             "#c51b7d"
            ],
            [
             0.2,
             "#de77ae"
            ],
            [
             0.3,
             "#f1b6da"
            ],
            [
             0.4,
             "#fde0ef"
            ],
            [
             0.5,
             "#f7f7f7"
            ],
            [
             0.6,
             "#e6f5d0"
            ],
            [
             0.7,
             "#b8e186"
            ],
            [
             0.8,
             "#7fbc41"
            ],
            [
             0.9,
             "#4d9221"
            ],
            [
             1,
             "#276419"
            ]
           ],
           "sequential": [
            [
             0,
             "#0d0887"
            ],
            [
             0.1111111111111111,
             "#46039f"
            ],
            [
             0.2222222222222222,
             "#7201a8"
            ],
            [
             0.3333333333333333,
             "#9c179e"
            ],
            [
             0.4444444444444444,
             "#bd3786"
            ],
            [
             0.5555555555555556,
             "#d8576b"
            ],
            [
             0.6666666666666666,
             "#ed7953"
            ],
            [
             0.7777777777777778,
             "#fb9f3a"
            ],
            [
             0.8888888888888888,
             "#fdca26"
            ],
            [
             1,
             "#f0f921"
            ]
           ],
           "sequentialminus": [
            [
             0,
             "#0d0887"
            ],
            [
             0.1111111111111111,
             "#46039f"
            ],
            [
             0.2222222222222222,
             "#7201a8"
            ],
            [
             0.3333333333333333,
             "#9c179e"
            ],
            [
             0.4444444444444444,
             "#bd3786"
            ],
            [
             0.5555555555555556,
             "#d8576b"
            ],
            [
             0.6666666666666666,
             "#ed7953"
            ],
            [
             0.7777777777777778,
             "#fb9f3a"
            ],
            [
             0.8888888888888888,
             "#fdca26"
            ],
            [
             1,
             "#f0f921"
            ]
           ]
          },
          "colorway": [
           "#636efa",
           "#EF553B",
           "#00cc96",
           "#ab63fa",
           "#FFA15A",
           "#19d3f3",
           "#FF6692",
           "#B6E880",
           "#FF97FF",
           "#FECB52"
          ],
          "font": {
           "color": "#2a3f5f"
          },
          "geo": {
           "bgcolor": "white",
           "lakecolor": "white",
           "landcolor": "#E5ECF6",
           "showlakes": true,
           "showland": true,
           "subunitcolor": "white"
          },
          "hoverlabel": {
           "align": "left"
          },
          "hovermode": "closest",
          "mapbox": {
           "style": "light"
          },
          "paper_bgcolor": "white",
          "plot_bgcolor": "#E5ECF6",
          "polar": {
           "angularaxis": {
            "gridcolor": "white",
            "linecolor": "white",
            "ticks": ""
           },
           "bgcolor": "#E5ECF6",
           "radialaxis": {
            "gridcolor": "white",
            "linecolor": "white",
            "ticks": ""
           }
          },
          "scene": {
           "xaxis": {
            "backgroundcolor": "#E5ECF6",
            "gridcolor": "white",
            "gridwidth": 2,
            "linecolor": "white",
            "showbackground": true,
            "ticks": "",
            "zerolinecolor": "white"
           },
           "yaxis": {
            "backgroundcolor": "#E5ECF6",
            "gridcolor": "white",
            "gridwidth": 2,
            "linecolor": "white",
            "showbackground": true,
            "ticks": "",
            "zerolinecolor": "white"
           },
           "zaxis": {
            "backgroundcolor": "#E5ECF6",
            "gridcolor": "white",
            "gridwidth": 2,
            "linecolor": "white",
            "showbackground": true,
            "ticks": "",
            "zerolinecolor": "white"
           }
          },
          "shapedefaults": {
           "line": {
            "color": "#2a3f5f"
           }
          },
          "ternary": {
           "aaxis": {
            "gridcolor": "white",
            "linecolor": "white",
            "ticks": ""
           },
           "baxis": {
            "gridcolor": "white",
            "linecolor": "white",
            "ticks": ""
           },
           "bgcolor": "#E5ECF6",
           "caxis": {
            "gridcolor": "white",
            "linecolor": "white",
            "ticks": ""
           }
          },
          "title": {
           "x": 0.05
          },
          "xaxis": {
           "automargin": true,
           "gridcolor": "white",
           "linecolor": "white",
           "ticks": "",
           "title": {
            "standoff": 15
           },
           "zerolinecolor": "white",
           "zerolinewidth": 2
          },
          "yaxis": {
           "automargin": true,
           "gridcolor": "white",
           "linecolor": "white",
           "ticks": "",
           "title": {
            "standoff": 15
           },
           "zerolinecolor": "white",
           "zerolinewidth": 2
          }
         }
        }
       }
      }
     },
     "metadata": {},
     "output_type": "display_data"
    }
   ],
   "source": [
    "import plotly.express as px\n",
    "\n",
    "# Simple example\n",
    "df = px.data.gapminder().query(\"country=='Canada'\")\n",
    "fig = px.choropleth(df, locations='country', locationmode='country names')\n",
    "fig.show()"
   ]
  },
  {
   "cell_type": "markdown",
   "id": "9909de4a",
   "metadata": {},
   "source": [
    "# Save Plot in Gif Format "
   ]
  },
  {
   "cell_type": "code",
   "execution_count": null,
   "id": "edb99094",
   "metadata": {},
   "outputs": [],
   "source": [
    "import plotly.express as px\n",
    "import pandas as pd\n",
    "import numpy as np\n",
    "import io\n",
    "import PIL\n",
    "\n",
    "\n",
    "fig = px.scatter(df, x= \"gdpPercap\",\n",
    "            y = \"lifeExp\",\n",
    "            size= \"pop\", color= \"continent\",\n",
    "            animation_frame='year', animation_group=\"country\",\n",
    "            log_x=True, size_max=55, range_x=[100,100000], range_y=[5,100])\n",
    "\n",
    "# generate images for each step in animation\n",
    "frames = []\n",
    "for s, fr in enumerate(fig.frames):\n",
    "    # set main traces to appropriate traces within plotly frame\n",
    "    fig.update(data=fr.data)\n",
    "    # move slider to correct place\n",
    "    fig.layout.sliders[0].update(active=s)\n",
    "    # generate image of current state\n",
    "    frames.append(PIL.Image.open(io.BytesIO(fig.to_image(format=\"png\", scale=3))))\n",
    "    \n",
    "# create animated GIF\n",
    "frames[0].save(\n",
    "        \"./output/gapminder.gif\",\n",
    "        save_all=True,\n",
    "        append_images=frames[1:],\n",
    "        optimize=True,\n",
    "        duration=500,\n",
    "        loop=0,\n",
    "        dither=None  # Turn off dithering\n",
    "    )"
   ]
  }
 ],
 "metadata": {
  "kernelspec": {
   "display_name": "pythoneda",
   "language": "python",
   "name": "python3"
  },
  "language_info": {
   "codemirror_mode": {
    "name": "ipython",
    "version": 3
   },
   "file_extension": ".py",
   "mimetype": "text/x-python",
   "name": "python",
   "nbconvert_exporter": "python",
   "pygments_lexer": "ipython3",
   "version": "3.13.2"
  }
 },
 "nbformat": 4,
 "nbformat_minor": 5
}
