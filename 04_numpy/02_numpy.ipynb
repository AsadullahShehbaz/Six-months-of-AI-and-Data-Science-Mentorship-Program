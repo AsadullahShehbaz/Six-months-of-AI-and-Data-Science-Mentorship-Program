{
 "cells": [
  {
   "cell_type": "markdown",
   "id": "94ca9809",
   "metadata": {},
   "source": [
    "# Numpy (Part -2 )\n",
    "Date : 10 May 2025 <br>\n",
    "Day : Saturday"
   ]
  },
  {
   "cell_type": "code",
   "execution_count": null,
   "id": "3d8b7689",
   "metadata": {},
   "outputs": [],
   "source": [
    "%pip install numpy\n",
    "import numpy as np"
   ]
  },
  {
   "cell_type": "markdown",
   "id": "f0757530",
   "metadata": {},
   "source": [
    "## 1.Arange "
   ]
  },
  {
   "cell_type": "code",
   "execution_count": 13,
   "id": "44ab8ea6",
   "metadata": {},
   "outputs": [
    {
     "data": {
      "text/plain": [
       "array([10, 12, 14, 16, 18, 20, 22, 24, 26, 28])"
      ]
     },
     "execution_count": 13,
     "metadata": {},
     "output_type": "execute_result"
    }
   ],
   "source": [
    "# 1.Create an array of all even numbers from 10 to 30 (inclusive).\n",
    "arr1 = np.arange(10,30,2)\n",
    "arr1"
   ]
  },
  {
   "cell_type": "markdown",
   "id": "6436cc49",
   "metadata": {},
   "source": [
    "## 2.LinSpace"
   ]
  },
  {
   "cell_type": "code",
   "execution_count": 14,
   "id": "59b7b5e7",
   "metadata": {},
   "outputs": [
    {
     "data": {
      "text/plain": [
       "array([0, 0, 0, 0, 1])"
      ]
     },
     "execution_count": 14,
     "metadata": {},
     "output_type": "execute_result"
    }
   ],
   "source": [
    "# 2.Generate 5 equally spaced numbers between 0 and 1, including both endpoints.\n",
    "# arr2 = np.linspace(0,1,5)\n",
    "arr2 = np.linspace(0,1,5,dtype=np.int64)\n",
    "arr2"
   ]
  },
  {
   "cell_type": "code",
   "execution_count": 15,
   "id": "4599e3fc",
   "metadata": {},
   "outputs": [
    {
     "data": {
      "text/plain": [
       "array([50, 45, 40, 35, 30, 25])"
      ]
     },
     "execution_count": 15,
     "metadata": {},
     "output_type": "execute_result"
    }
   ],
   "source": [
    "# 3.Create an array starting from 50 down to 20, decreasing by 5 each step.\n",
    "\n",
    "arr3 = np.arange(50,20,-5)\n",
    "arr3"
   ]
  },
  {
   "cell_type": "code",
   "execution_count": 16,
   "id": "0ec9722b",
   "metadata": {},
   "outputs": [
    {
     "data": {
      "text/plain": [
       "array([-2.        , -1.55555556, -1.11111111, -0.66666667, -0.22222222,\n",
       "        0.22222222,  0.66666667,  1.11111111,  1.55555556,  2.        ])"
      ]
     },
     "execution_count": 16,
     "metadata": {},
     "output_type": "execute_result"
    }
   ],
   "source": [
    "# 4.Generate 10 values between -2 and 2, and find the step size between them..\n",
    "arr4 = np.linspace(-2,2,10)\n",
    "arr4"
   ]
  },
  {
   "cell_type": "code",
   "execution_count": 17,
   "id": "4f272e8d",
   "metadata": {},
   "outputs": [
    {
     "data": {
      "text/plain": [
       "array([1, 2, 3, 4, 5, 6, 7, 8])"
      ]
     },
     "execution_count": 17,
     "metadata": {},
     "output_type": "execute_result"
    }
   ],
   "source": [
    "# 5.Create a list of integers from 1 to 9 using arange()\n",
    "arr5 = np.arange(1,9)\n",
    "arr5"
   ]
  },
  {
   "cell_type": "code",
   "execution_count": 18,
   "id": "315ebd63",
   "metadata": {},
   "outputs": [
    {
     "data": {
      "text/plain": [
       "array([1.        , 2.33333333, 3.66666667, 5.        , 6.33333333,\n",
       "       7.66666667, 9.        ])"
      ]
     },
     "execution_count": 18,
     "metadata": {},
     "output_type": "execute_result"
    }
   ],
   "source": [
    "# 6.Create a list of 7 equally spaced points between 1 and 9 using linspace()\n",
    "arr6 = np.linspace(1,9,7)\n",
    "arr6"
   ]
  },
  {
   "cell_type": "markdown",
   "id": "c8afa493",
   "metadata": {},
   "source": [
    "## 3. Sort Array"
   ]
  },
  {
   "cell_type": "code",
   "execution_count": 19,
   "id": "2d066705",
   "metadata": {},
   "outputs": [
    {
     "data": {
      "text/plain": [
       "array([ 8,  9, 11, 12, 13, 14])"
      ]
     },
     "execution_count": 19,
     "metadata": {},
     "output_type": "execute_result"
    }
   ],
   "source": [
    "arr7 =np.array([12,11,9,13,14,8])\n",
    "sorted_arr = np.sort(arr7)\n",
    "sorted_arr"
   ]
  },
  {
   "cell_type": "markdown",
   "id": "93084b39",
   "metadata": {},
   "source": [
    "## 4. Concatenation"
   ]
  },
  {
   "cell_type": "code",
   "execution_count": 20,
   "id": "d910b899",
   "metadata": {},
   "outputs": [
    {
     "data": {
      "text/plain": [
       "array([1, 2, 3, 4, 5, 6])"
      ]
     },
     "execution_count": 20,
     "metadata": {},
     "output_type": "execute_result"
    }
   ],
   "source": [
    "# for 1D array concatenation is done by using np.concatenate((array1,array2))\n",
    "array1 = np.array([1,2,3])\n",
    "array2 = np.array([4,5,6])\n",
    "array_concat = np.concatenate((array1,array2))\n",
    "array_concat"
   ]
  },
  {
   "cell_type": "code",
   "execution_count": 21,
   "id": "7fbf41de",
   "metadata": {},
   "outputs": [
    {
     "data": {
      "text/plain": [
       "array([[1, 2, 3],\n",
       "       [4, 5, 6],\n",
       "       [7, 8, 9]])"
      ]
     },
     "execution_count": 21,
     "metadata": {},
     "output_type": "execute_result"
    }
   ],
   "source": [
    "# For 2D Arrays with Row Wise Concatenation\n",
    "a = [[1, 2, 3], [4, 5, 6]]\n",
    "b = [[7, 8, 9]]\n",
    "c = np.concatenate((a, b), axis=0)\n",
    "c"
   ]
  },
  {
   "cell_type": "code",
   "execution_count": 22,
   "id": "01621dc6",
   "metadata": {},
   "outputs": [
    {
     "data": {
      "text/plain": [
       "array([[1, 2, 3, 3, 2, 4],\n",
       "       [4, 5, 6, 4, 2, 1]])"
      ]
     },
     "execution_count": 22,
     "metadata": {},
     "output_type": "execute_result"
    }
   ],
   "source": [
    "# For 2D Arrays with Column Wise Concatenation\n",
    "x = np.array([[1,2,3],[4,5,6]])\n",
    "y = np.array([[3,2,4],[4,2,1]])\n",
    "z = np.concatenate((x,y),axis=1)\n",
    "z"
   ]
  },
  {
   "cell_type": "markdown",
   "id": "325ae982",
   "metadata": {},
   "source": [
    "## 3D Array "
   ]
  },
  {
   "cell_type": "code",
   "execution_count": 23,
   "id": "ccfa9ef9",
   "metadata": {},
   "outputs": [
    {
     "data": {
      "text/plain": [
       "(3, 2, 3)"
      ]
     },
     "execution_count": 23,
     "metadata": {},
     "output_type": "execute_result"
    }
   ],
   "source": [
    "array3d = np.array([[[1,2,3],[4,5,6]],\n",
    "                    [[1,2,3],[4,5,6]],\n",
    "                    [[1,2,3],[4,5,6]]\n",
    "                    ])\n",
    "array3d.shape"
   ]
  },
  {
   "cell_type": "code",
   "execution_count": 24,
   "id": "05e57b25",
   "metadata": {},
   "outputs": [
    {
     "data": {
      "text/plain": [
       "18"
      ]
     },
     "execution_count": 24,
     "metadata": {},
     "output_type": "execute_result"
    }
   ],
   "source": [
    "array3d.size"
   ]
  },
  {
   "cell_type": "markdown",
   "id": "39b22c70",
   "metadata": {},
   "source": [
    "## 5.Reshape Array"
   ]
  },
  {
   "cell_type": "code",
   "execution_count": 30,
   "id": "bf31d869",
   "metadata": {},
   "outputs": [
    {
     "data": {
      "text/plain": [
       "(3, 2, 3)"
      ]
     },
     "execution_count": 30,
     "metadata": {},
     "output_type": "execute_result"
    }
   ],
   "source": [
    "array3d.reshape(2,9)\n",
    "array3d.shape"
   ]
  },
  {
   "cell_type": "markdown",
   "id": "0e6d7904",
   "metadata": {},
   "source": [
    "## 6.Convert 1D to 2D Array"
   ]
  },
  {
   "cell_type": "code",
   "execution_count": 4,
   "id": "83380234",
   "metadata": {},
   "outputs": [
    {
     "data": {
      "text/plain": [
       "array([[10, 12, 14, 16, 18, 20, 22, 24, 26, 28]])"
      ]
     },
     "execution_count": 4,
     "metadata": {},
     "output_type": "execute_result"
    }
   ],
   "source": [
    "arr1 = np.array([10, 12, 14, 16, 18, 20, 22, 24, 26, 28])\n",
    "arr1 = arr1[np.newaxis,:]\n",
    "arr1"
   ]
  },
  {
   "cell_type": "code",
   "execution_count": 3,
   "id": "b9f2d28c",
   "metadata": {},
   "outputs": [
    {
     "data": {
      "text/plain": [
       "array([[10],\n",
       "       [12],\n",
       "       [14],\n",
       "       [16],\n",
       "       [18],\n",
       "       [20],\n",
       "       [22],\n",
       "       [24],\n",
       "       [26],\n",
       "       [28]])"
      ]
     },
     "execution_count": 3,
     "metadata": {},
     "output_type": "execute_result"
    }
   ],
   "source": [
    "arr1 = np.array([10, 12, 14, 16, 18, 20, 22, 24, 26, 28])\n",
    "arr1 = arr1[:,np.newaxis]\n",
    "arr1"
   ]
  },
  {
   "cell_type": "markdown",
   "id": "6559ad94",
   "metadata": {},
   "source": [
    "## 7.Indexing and Slicing"
   ]
  },
  {
   "cell_type": "code",
   "execution_count": 15,
   "id": "0a2cdcaf",
   "metadata": {},
   "outputs": [],
   "source": [
    "a= np.array([10, 12, 14, 16, 18, 20, 22, 24, 26, 28])"
   ]
  },
  {
   "cell_type": "code",
   "execution_count": 16,
   "id": "220d7835",
   "metadata": {},
   "outputs": [
    {
     "name": "stdout",
     "output_type": "stream",
     "text": [
      "Last 4 elements : [22 24 26 28]\n",
      "First 2 elements : [10 12]\n",
      "Index from 3rd to 6th element : [14 16 18 20]\n",
      "Index from particular elements : [12 16 20]\n",
      "Last 4 to Last 2nd Element : [22 24]\n"
     ]
    }
   ],
   "source": [
    "# index from last 4th element\n",
    "print(f\"Last 4 elements : {a[-4:]}\")\n",
    "# index from first 2nd element\n",
    "print(f\"First 2 elements : {a[:2]}\")\n",
    "# index from 3rd to 6th element\n",
    "print(f\"Index from 3rd to 6th element : {a[2:6]}\")\n",
    "# index from particular element \n",
    "print(f\"Index from particular elements : {a[[1,3,5]]}\")\n",
    "# index from 4th last to 2nd last element \n",
    "print(f\"Last 4 to Last 2nd Element : {a[-4:-2]}\")"
   ]
  },
  {
   "cell_type": "code",
   "execution_count": 23,
   "id": "c2d46a08",
   "metadata": {},
   "outputs": [
    {
     "name": "stdout",
     "output_type": "stream",
     "text": [
      "First Row : [1 2 3]\n",
      "Second Row ; [4 5 6]\n",
      "Third Row ; [7 8 9]\n",
      "First Column : [1 4 7]\n",
      "Values less than 5 : [1 2 3 4]\n"
     ]
    }
   ],
   "source": [
    "# 2D Array Indexing\n",
    "b = np.array([[1,2,3],[4,5,6],[7,8,9]])\n",
    "print(f\"First Row : {b[0]}\")\n",
    "print(f\"Second Row ; {b[1]}\")\n",
    "print(f\"Third Row ; {b[2]}\")\n",
    "print(f\"First Column : {b[:,0]}\")\n",
    "print(f\"Values less than 5 : {b[b<5]}\")\n"
   ]
  },
  {
   "cell_type": "markdown",
   "id": "44face8c",
   "metadata": {},
   "source": [
    "## 8.Condition Based Indexing "
   ]
  },
  {
   "cell_type": "code",
   "execution_count": 31,
   "id": "e64b7f75",
   "metadata": {},
   "outputs": [
    {
     "name": "stdout",
     "output_type": "stream",
     "text": [
      "Values greater than 5 : [6 7 8 9]\n",
      "Values equal to 5 : [5]\n",
      "Values not equal to 5 : [1 2 3 4 6 7 8 9]\n",
      "Even Numbers : [2 4 6 8]\n",
      "Odd Numbers : [1 3 5 7 9]\n"
     ]
    }
   ],
   "source": [
    "print(f\"Values greater than 5 : {b[b>5]}\")\n",
    "print(f\"Values equal to 5 : {b[b==5]}\")\n",
    "print(f\"Values not equal to 5 : {b[b!=5]}\")\n",
    "# filter even numbers \n",
    "print(f\"Even Numbers : {b[b%2==0]}\")\n",
    "# filter odd numbers \n",
    "print(f\"Odd Numbers : {b[b%2!=0]}\")"
   ]
  },
  {
   "cell_type": "code",
   "execution_count": 37,
   "id": "f10d73d9",
   "metadata": {},
   "outputs": [
    {
     "name": "stdout",
     "output_type": "stream",
     "text": [
      "Values greater than 2 and less than 6 : [3 4 5]\n",
      "Values greater than 6 or less than 3 : [1 2 7 8 9]\n"
     ]
    }
   ],
   "source": [
    "# use two conditions\n",
    "print(f\"Values greater than 2 and less than 6 : {b[(b>2) & (b<6)]}\")\n",
    "print(f\"Values greater than 6 or less than 3 : {b[(b>6) | (b<3)]}\")"
   ]
  }
 ],
 "metadata": {
  "kernelspec": {
   "display_name": "pythoneda",
   "language": "python",
   "name": "python3"
  },
  "language_info": {
   "codemirror_mode": {
    "name": "ipython",
    "version": 3
   },
   "file_extension": ".py",
   "mimetype": "text/x-python",
   "name": "python",
   "nbconvert_exporter": "python",
   "pygments_lexer": "ipython3",
   "version": "3.13.2"
  }
 },
 "nbformat": 4,
 "nbformat_minor": 5
}
